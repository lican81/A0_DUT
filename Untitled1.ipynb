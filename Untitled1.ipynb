{
 "cells": [
  {
   "cell_type": "code",
   "execution_count": 1,
   "metadata": {},
   "outputs": [],
   "source": [
    "import dut_func as dut\n",
    "import serial\n",
    "import time\n",
    "import struct\n",
    "import numpy as np\n",
    "# from bitarray import bitarray\n",
    "from bitstring import BitArray\n",
    "import matplotlib.pyplot as plt\n",
    "# %config InlineBackend.figure_formats = ['svg']\n",
    "import dut_a0 as a0\n",
    "\n",
    "from misc import *\n",
    "\n",
    "# dut.drv.serUSB = 'COM19'\n",
    "drv = dut.drv\n",
    "\n",
    "ser = serial.Serial('COM3', 9600, timeout=1)\n",
    "dut.connect(ser)"
   ]
  },
  {
   "cell_type": "code",
   "execution_count": 2,
   "metadata": {},
   "outputs": [
    {
     "name": "stdout",
     "output_type": "stream",
     "text": [
      "DAC initialized to a span from -10 V to 10 V\n",
      "Setting vrefs to default\n"
     ]
    }
   ],
   "source": [
    "dut.reset_chip()\n",
    "dut.reset_dpe()\n",
    "dut.ground_PIC()\n",
    "dut.power_on()"
   ]
  },
  {
   "cell_type": "code",
   "execution_count": 10,
   "metadata": {},
   "outputs": [
    {
     "name": "stdout",
     "output_type": "stream",
     "text": [
      "5.00-"
     ]
    },
    {
     "data": {
      "image/png": "[encoded data removed]",
      "text/plain": [
       "<Figure size 432x288 with 1 Axes>"
      ]
     },
     "metadata": {
      "needs_background": "light"
     },
     "output_type": "display_data"
    }
   ],
   "source": [
    "ar=0\n",
    "r=0\n",
    "c=2\n",
    "\n",
    "Vreads = np.arange(0, 0.175, 0.005)\n",
    "# Vgates = np.arange(0,5,0.5)\n",
    "# Vgates = [1, 1.1, 1.2, 1.3, 1.4, 1.5, 5]\n",
    "Vgates = [5]\n",
    "\n",
    "volts_set = []\n",
    "\n",
    "for Vgate in Vgates:\n",
    "    print(f'{Vgate:.2f}', end='-')\n",
    "    volts = []\n",
    "    for vread in Vreads:\n",
    "        volts.append( a0.read_single_int(vread, Vgate, array=ar, row=r, col=c, gain=-1) )\n",
    "    volts_set.append(volts)\n",
    "    \n",
    "for volts in volts_set:\n",
    "    plt.plot(Vreads, [i* 1e6 for i in volts], '.-')\n",
    "    \n",
    "plt.xlabel('Voltage applied (V)')\n",
    "plt.ylabel('Measured current (uA)')\n",
    "plt.grid(True, alpha=0.3)\n",
    "# plt.ylim(-0.1, 6)"
   ]
  },
  {
   "cell_type": "code",
   "execution_count": null,
   "metadata": {},
   "outputs": [],
   "source": [
    "from lib_data import *\n",
    "import scipy.io as sio\n",
    "#load_workspace(vars(), '20190814-205207-CNN weights')\n",
    "mat_contents = sio.loadmat('UpdatedGfc.mat')\n",
    "finalGfc = mat_contents['finalGfc']\n",
    "\n",
    "VreadGate = 5.0\n",
    "vRead = 0.2\n",
    "arr = 0\n",
    "startRow = 50\n",
    "startCol = 50\n",
    "numRows = 4\n",
    "numCols = 4\n",
    "GMin = 2e-6\n",
    "GMax = 100e-6\n",
    "# Take previous code by putting finalGfc in scaledGfc\n",
    "scaledGfc = finalGfc\n",
    "# First reshape Gfc to fit within the 64 rows\n",
    "# reshape from 113x20 to 57x40\n",
    "newGfc = np.zeros((57,40))+GMin\n",
    "newGfc[0:57,0:20]=scaledGfc[0:57,0:20]\n",
    "newGfc[0:56,20:40]=scaledGfc[57:113,0:20]\n",
    "\n",
    "targetGVals = newGfc\n",
    "targetGThresh = 4e-6\n",
    "targetRows = np.arange(startRow, startRow+numRows)\n",
    "targetCols = np.arange(startCol, startCol+numCols)\n",
    "\n",
    "vAppliedSet = np.arange(0.5, 2.5, 0.1)\n",
    "vAppliedReset = np.arange(0.5, 3.2, 0.1)\n",
    "vGateSet = np.arange(0.5, 1.7, 0.1)\n",
    "vGateReset = np.arange(5.0, 5.5, 0.5)\n",
    "\n",
    "GHistory = []\n",
    "VHistory = []\n",
    "\n",
    "vOffset = 0\n",
    "Vgate = 5\n",
    "Vref = 0.5\n",
    "\n",
    "for j in range(numCols):\n",
    "    cc = targetCols[j]\n",
    "    for i in range(numRows):\n",
    "        rr = targetRows[i]\n",
    "        print('Working on array', arr, ', device (row=', rr, 'col=', cc, ')')\n",
    "        thisGtarget = targetGVals[i,j]\n",
    "        thisGHistory = []\n",
    "        thisVHistory = []\n",
    "        thisGainHistory = []\n",
    "        # Do a first read of this device\n",
    "        rdCurr = a0.read_single_int(vRead, Vgate, array=arr, row=rr, col=cc, gain=-1)\n",
    "        \n",
    "        currG = rdCurr/vRead\n",
    "        thisGHistory.append(currG)\n",
    "        thisVHistory.append(0)\n",
    "        #print('Initial G=', currG, 'Target G =', thisGtarget)\n",
    "        initG = currG\n",
    "        # Now, if device is lower than target, SET it\n",
    "        if currG < (thisGtarget-targetGThresh):\n",
    "            for vgate in vGateSet:\n",
    "                for vappset in vAppliedSet:\n",
    "                    # Apply vappset pulse, then read\n",
    "                    a0.set_single_int(vappset, vgate, array=arr, row=rr, col=cc)\n",
    "\n",
    "                    rdCurr = a0.read_single_int(vRead, Vgate, array=arr, row=rr, col=cc, gain=-1)\n",
    "                \n",
    "                    currG = rdCurr/vRead\n",
    "                    thisGHistory.append(currG)\n",
    "                    thisVHistory.append(vappset)\n",
    "                    if currG >= (thisGtarget-targetGThresh):\n",
    "                        break\n",
    "                if currG >= (thisGtarget-targetGThresh):\n",
    "                    break\n",
    "            GHistory.append(thisGHistory)\n",
    "            VHistory.append(thisVHistory)\n",
    "\n",
    "        # Else, if device is higher than target, RESET it, then SET it\n",
    "        elif currG > (thisGtarget+targetGThresh):\n",
    "            for vgate in vGateReset:\n",
    "                for vappreset in vAppliedReset:\n",
    "                    # Apply vappreset pulse, then read\n",
    "                    a0.reset_single_int(vappreset, vgate, array=arr, row=rr, col=cc)\n",
    "\n",
    "                    rdCurr = a0.read_single_int(vRead, Vgate, array=arr, row=rr, col=cc, gain=-1)\n",
    "\n",
    "                    currG = rdCurr/vRead\n",
    "                    thisGHistory.append(currG)\n",
    "                    thisVHistory.append(-1*vappreset)\n",
    "                    if currG <= (thisGtarget+targetGThresh):\n",
    "                        break\n",
    "                if currG <= (thisGtarget+targetGThresh):\n",
    "                    break\n",
    "\n",
    "            #Now if it is below Gtarget, then do SET operations; If it is above Gtarget, then Reset failed and device stuck ON\n",
    "            \n",
    "            #if currG <= thisGtarget and thisGtarget >= 2.5e-6:\n",
    "            if currG <= (thisGtarget-targetGThresh):\n",
    "                for vgate in vGateSet:\n",
    "                    for vappset in vAppliedSet:\n",
    "                        # Apply vappset pulse, then read\n",
    "                        a0.set_single_int(vappset, vgate, array=arr, row=rr, col=cc)\n",
    "\n",
    "                        rdCurr = a0.read_single_int(vRead, Vgate, array=arr, row=rr, col=cc, gain=-1)\n",
    "                    \n",
    "                        currG = rdCurr/vRead\n",
    "                        thisGHistory.append(currG)\n",
    "                        thisVHistory.append(vappset)\n",
    "                        if currG >= (thisGtarget-targetGThresh):\n",
    "                            break\n",
    "                    if currG >= (thisGtarget-targetGThresh):\n",
    "                        break\n",
    "\n",
    "        GHistory.append(thisGHistory)\n",
    "        VHistory.append(thisVHistory)\n",
    "        print('Array', arr, ', device (row=', rr, 'col=', cc, ') Init G=', initG, ' Target G=', thisGtarget, ' Final G=', currG)\n",
    "\n",
    "        fig, ax1 = plt.subplots()\n",
    "        color = 'tab:blue'\n",
    "        ax1.set_xlabel('Cycles')\n",
    "        ax1.set_ylabel('Conductance (uS)', color=color)\n",
    "        ax1.plot([i* 1e6 for i in thisGHistory], color=color)\n",
    "        ax1.tick_params(axis='y', labelcolor=color)\n",
    "        ax2 = ax1.twinx()  \n",
    "        color = 'tab:red'\n",
    "        ax2.set_ylabel('Voltage Applied', color=color)\n",
    "        ax2.plot(thisVHistory, color=color)\n",
    "        ax2.tick_params(axis='y', labelcolor=color)\n",
    "        fig.tight_layout()  \n",
    "        plt.show()\n",
    "        \n",
    "time.sleep(15)\n",
    "\n",
    "arr = 2\n",
    "numRows = 64\n",
    "numCols = 64\n",
    "vRead = 0.2\n",
    "Vgate = 5.0\n",
    "Gmap22 = np.zeros((numRows, numCols))\n",
    "for rr in range(numRows):\n",
    "        for cc in range(numCols):\n",
    "            rdCurr = a0.read_single_int(vRead, Vgate, array=arr, row=rr, col=cc, gain=-1)\n",
    "                    \n",
    "            Gmap22[rr,cc] = 1e6*rdCurr/vRead\n",
    "plt.imshow(Gmap22)\n",
    "plt.colorbar()"
   ]
  },
  {
   "cell_type": "code",
   "execution_count": 12,
   "metadata": {},
   "outputs": [
    {
     "data": {
      "text/plain": [
       "<matplotlib.colorbar.Colorbar at 0x218f03c5b88>"
      ]
     },
     "execution_count": 12,
     "metadata": {},
     "output_type": "execute_result"
    },
    {
     "data": {
      "image/png": "[encoded data removed]",
      "text/plain": [
       "<Figure size 432x288 with 2 Axes>"
      ]
     },
     "metadata": {
      "needs_background": "light"
     },
     "output_type": "display_data"
    }
   ],
   "source": [
    "arr = 2\n",
    "numRows = 64\n",
    "numCols = 64\n",
    "vRead = 0.2\n",
    "Vgate = 5.0\n",
    "Gmap2 = np.zeros((numRows, numCols))\n",
    "for rr in range(numRows):\n",
    "        for cc in range(numCols):\n",
    "            rdCurr = a0.read_single_int(vRead, Vgate, array=arr, row=rr, col=cc, gain=-1)\n",
    "                    \n",
    "            Gmap2[rr,cc] = 1e6*rdCurr/vRead\n",
    "plt.imshow(Gmap2)\n",
    "plt.colorbar()"
   ]
  }
 ],
 "metadata": {
  "kernelspec": {
   "display_name": "Python 3",
   "language": "python",
   "name": "python3"
  },
  "language_info": {
   "codemirror_mode": {
    "name": "ipython",
    "version": 3
   },
   "file_extension": ".py",
   "mimetype": "text/x-python",
   "name": "python",
   "nbconvert_exporter": "python",
   "pygments_lexer": "ipython3",
   "version": "3.7.4"
  }
 },
 "nbformat": 4,
 "nbformat_minor": 4
}
