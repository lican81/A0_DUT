{
 "cells": [
  {
   "cell_type": "code",
   "execution_count": 28,
   "metadata": {},
   "outputs": [],
   "source": [
    "%reload_ext autoreload\n",
    "%autoreload\n",
    "\n",
    "import dut_func as dut\n",
    "import serial\n",
    "import time\n",
    "import struct\n",
    "import numpy as np\n",
    "\n",
    "from misc import *\n",
    "\n",
    "# dut.drv.serUSB = 'COM19'\n",
    "drv = dut.drv\n",
    "\n",
    "ser = serial.Serial('COM1', 9600, timeout=1)\n",
    "dut.connect(ser)"
   ]
  },
  {
   "cell_type": "code",
   "execution_count": 29,
   "metadata": {},
   "outputs": [
    {
     "name": "stdout",
     "output_type": "stream",
     "text": [
      "Serial port disconnected.\n"
     ]
    }
   ],
   "source": [
    "dut.disconnect()"
   ]
  },
  {
   "cell_type": "markdown",
   "metadata": {},
   "source": [
    "Test serial communication"
   ]
  },
  {
   "cell_type": "code",
   "execution_count": null,
   "metadata": {},
   "outputs": [],
   "source": [
    "with serial.Serial(serUSB, 9600, timeout=1) as ser:\n",
    "    ser.write(b'101,2')"
   ]
  },
  {
   "cell_type": "code",
   "execution_count": 22,
   "metadata": {},
   "outputs": [
    {
     "name": "stdout",
     "output_type": "stream",
     "text": [
      "Serial port disconnected.\n"
     ]
    }
   ],
   "source": [
    "drv.disconnect()"
   ]
  },
  {
   "cell_type": "markdown",
   "metadata": {},
   "source": [
    "Write port H with value 0b0101"
   ]
  },
  {
   "cell_type": "code",
   "execution_count": 24,
   "metadata": {},
   "outputs": [],
   "source": [
    "drv.gpio_port_write('H', 0xfff1)"
   ]
  },
  {
   "cell_type": "code",
   "execution_count": 25,
   "metadata": {},
   "outputs": [
    {
     "name": "stdout",
     "output_type": "stream",
     "text": [
      "1101111011000001\n"
     ]
    }
   ],
   "source": [
    "value = drv.gpio_port_read('H')\n",
    "print(f'{value:016b}')"
   ]
  },
  {
   "cell_type": "code",
   "execution_count": 26,
   "metadata": {},
   "outputs": [],
   "source": [
    "drv.gpio_adc_fifo_en_write(0xffff)"
   ]
  },
  {
   "cell_type": "code",
   "execution_count": 27,
   "metadata": {},
   "outputs": [
    {
     "name": "stdout",
     "output_type": "stream",
     "text": [
      "0000111111111111\n"
     ]
    }
   ],
   "source": [
    "value = drv.gpio_adc_read()\n",
    "print(f'{value:016b}')"
   ]
  },
  {
   "cell_type": "code",
   "execution_count": 21,
   "metadata": {},
   "outputs": [],
   "source": [
    "drv.spi_dac_write(0x240e)"
   ]
  },
  {
   "cell_type": "code",
   "execution_count": 92,
   "metadata": {},
   "outputs": [],
   "source": [
    "data = bytes([0b1101_0001, 0b0000_0010, 0b0000_0000])\n",
    "drv.spi_serial_write(1, data)"
   ]
  },
  {
   "cell_type": "code",
   "execution_count": 18,
   "metadata": {},
   "outputs": [
    {
     "ename": "SerialException",
     "evalue": "Attempting to use a port that is not open",
     "output_type": "error",
     "traceback": [
      "\u001b[1;31m---------------------------------------------------------------------------\u001b[0m",
      "\u001b[1;31mSerialException\u001b[0m                           Traceback (most recent call last)",
      "\u001b[1;32m<ipython-input-18-f92bfc3bb0f9>\u001b[0m in \u001b[0;36m<module>\u001b[1;34m\u001b[0m\n\u001b[1;32m----> 1\u001b[1;33m \u001b[0mvoltages\u001b[0m \u001b[1;33m=\u001b[0m \u001b[0mdrv\u001b[0m\u001b[1;33m.\u001b[0m\u001b[0mpic_adc_read\u001b[0m\u001b[1;33m(\u001b[0m\u001b[1;33m)\u001b[0m \u001b[1;33m*\u001b[0m\u001b[1;36m2\u001b[0m\u001b[1;33m\u001b[0m\u001b[1;33m\u001b[0m\u001b[0m\n\u001b[0m\u001b[0;32m      2\u001b[0m \u001b[0mvoltages\u001b[0m\u001b[1;33m\u001b[0m\u001b[1;33m\u001b[0m\u001b[0m\n",
      "\u001b[1;32mC:\\microchip\\harmony\\v2_06\\apps\\A0_DUT\\drv_gpio.py\u001b[0m in \u001b[0;36mpic_adc_read\u001b[1;34m()\u001b[0m\n\u001b[0;32m    182\u001b[0m \u001b[1;33m\u001b[0m\u001b[0m\n\u001b[0;32m    183\u001b[0m \u001b[1;32mdef\u001b[0m \u001b[0mpic_adc_read\u001b[0m\u001b[1;33m(\u001b[0m\u001b[1;33m)\u001b[0m\u001b[1;33m:\u001b[0m\u001b[1;33m\u001b[0m\u001b[1;33m\u001b[0m\u001b[0m\n\u001b[1;32m--> 184\u001b[1;33m     \u001b[0mser\u001b[0m\u001b[1;33m.\u001b[0m\u001b[0mwrite\u001b[0m\u001b[1;33m(\u001b[0m\u001b[1;34mb'216'\u001b[0m \u001b[1;33m+\u001b[0m \u001b[1;34mb'\\0'\u001b[0m\u001b[1;33m)\u001b[0m\u001b[1;33m\u001b[0m\u001b[1;33m\u001b[0m\u001b[0m\n\u001b[0m\u001b[0;32m    185\u001b[0m     \u001b[0mline\u001b[0m \u001b[1;33m=\u001b[0m \u001b[0mser\u001b[0m\u001b[1;33m.\u001b[0m\u001b[0mread\u001b[0m\u001b[1;33m(\u001b[0m\u001b[1;36m4\u001b[0m \u001b[1;33m*\u001b[0m \u001b[1;36m5\u001b[0m\u001b[1;33m)\u001b[0m\u001b[1;33m\u001b[0m\u001b[1;33m\u001b[0m\u001b[0m\n\u001b[0;32m    186\u001b[0m \u001b[1;33m\u001b[0m\u001b[0m\n",
      "\u001b[1;32mc:\\users\\localuser\\~\\.venvs\\py37\\lib\\site-packages\\serial\\serialwin32.py\u001b[0m in \u001b[0;36mwrite\u001b[1;34m(self, data)\u001b[0m\n\u001b[0;32m    302\u001b[0m         \u001b[1;34m\"\"\"Output the given byte string over the serial port.\"\"\"\u001b[0m\u001b[1;33m\u001b[0m\u001b[1;33m\u001b[0m\u001b[0m\n\u001b[0;32m    303\u001b[0m         \u001b[1;32mif\u001b[0m \u001b[1;32mnot\u001b[0m \u001b[0mself\u001b[0m\u001b[1;33m.\u001b[0m\u001b[0mis_open\u001b[0m\u001b[1;33m:\u001b[0m\u001b[1;33m\u001b[0m\u001b[1;33m\u001b[0m\u001b[0m\n\u001b[1;32m--> 304\u001b[1;33m             \u001b[1;32mraise\u001b[0m \u001b[0mportNotOpenError\u001b[0m\u001b[1;33m\u001b[0m\u001b[1;33m\u001b[0m\u001b[0m\n\u001b[0m\u001b[0;32m    305\u001b[0m         \u001b[1;31m#~ if not isinstance(data, (bytes, bytearray)):\u001b[0m\u001b[1;33m\u001b[0m\u001b[1;33m\u001b[0m\u001b[1;33m\u001b[0m\u001b[0m\n\u001b[0;32m    306\u001b[0m             \u001b[1;31m#~ raise TypeError('expected %s or bytearray, got %s' % (bytes, type(data)))\u001b[0m\u001b[1;33m\u001b[0m\u001b[1;33m\u001b[0m\u001b[1;33m\u001b[0m\u001b[0m\n",
      "\u001b[1;31mSerialException\u001b[0m: Attempting to use a port that is not open"
     ]
    }
   ],
   "source": [
    "voltages = drv.pic_adc_read() *2\n",
    "voltages"
   ]
  },
  {
   "cell_type": "code",
   "execution_count": 4,
   "metadata": {},
   "outputs": [],
   "source": [
    "def dac_set(channel, voltage):\n",
    "    # print(f'DAC: setting ch={channel} to vol={voltage}')\n",
    "    '''\n",
    "    '''\n",
    "#     if dac_set.is_init == False:\n",
    "#         dac_init(span = 0b010)\n",
    "    span=0b010\n",
    "\n",
    "    portName, pinPos = PIC_PINS['PIC_LDAC']\n",
    "    drv.gpio_pin_set(portName, pinPos)\n",
    "\n",
    "    portName, pinPos = PIC_PINS['PIC_TGP']\n",
    "    drv.gpio_pin_set(portName, pinPos)\n",
    "\n",
    "    portName, pinPos = PIC_PINS['PIC_CLR']\n",
    "    drv.gpio_pin_reset(portName, pinPos)\n",
    "    # time.sleep(1)\n",
    "    drv.gpio_pin_set(portName, pinPos)\n",
    "    \n",
    "    cmd = 0b1110\n",
    "    # address = 0b0000\n",
    "    # address = DAC_CH[channel]\n",
    "\n",
    "    data = span | (cmd << 20)\n",
    "    drv.spi_dac_write(data)\n",
    "    # print(f'{data:08x}')\n",
    "\n",
    "    dac_set.is_init = True\n",
    "    dac_set.span = span\n",
    "\n",
    "    vlim_lo, vlim_hi = DAC_SPAN[dac_set.span]\n",
    "    print(f'DAC initialized to a span from {vlim_lo} V to {vlim_hi} V')\n",
    "    \n",
    "    \n",
    "\n",
    "    cmd = 0b0011\n",
    "    # address = 0b0000\n",
    "    address = DAC_CH[channel]\n",
    "    print(address)\n",
    "\n",
    "    # data = int(voltage)\n",
    "#     vlim_lo, vlim_hi = 0, 5\n",
    "    data = int( (voltage - vlim_lo) / (vlim_hi-vlim_lo) * 0xffff  )\n",
    "    # print(f'{data:08x}')\n",
    "    data |= (address << 16) | (cmd << 20)\n",
    "    print(f'{data:032b}')\n",
    "\n",
    "    drv.spi_dac_write(data)"
   ]
  },
  {
   "cell_type": "code",
   "execution_count": 66,
   "metadata": {},
   "outputs": [
    {
     "name": "stdout",
     "output_type": "stream",
     "text": [
      "DAC initialized to a span from -5 V to 5 V\n",
      "15\n",
      "00000000001111111111111111111111\n"
     ]
    }
   ],
   "source": [
    "dac_set('DAC_SCHOTTKY', 5)"
   ]
  },
  {
   "cell_type": "code",
   "execution_count": 69,
   "metadata": {},
   "outputs": [],
   "source": [
    "drv.gpio_pin_set(*PIC_PINS['PIC_SHORT_VREF_HI_CMP'])"
   ]
  },
  {
   "cell_type": "code",
   "execution_count": 68,
   "metadata": {},
   "outputs": [],
   "source": [
    "drv.gpio_pin_reset(*PIC_PINS['PIC_SHORT_VREF_HI_CMP'])"
   ]
  },
  {
   "cell_type": "code",
   "execution_count": 96,
   "metadata": {},
   "outputs": [],
   "source": [
    "drv.gpio_pin_set(*PIC_PINS['NFORCE_SAFE2'])"
   ]
  },
  {
   "cell_type": "code",
   "execution_count": 99,
   "metadata": {},
   "outputs": [],
   "source": [
    "drv.gpio_pin_reset(*PIC_PINS['WRITE_FWD'])"
   ]
  },
  {
   "cell_type": "code",
   "execution_count": 42,
   "metadata": {},
   "outputs": [],
   "source": [
    "drv.clk_start('CK_ARRAY')"
   ]
  },
  {
   "cell_type": "code",
   "execution_count": 43,
   "metadata": {},
   "outputs": [],
   "source": [
    "drv.clk_start('ADC_CK')"
   ]
  },
  {
   "cell_type": "code",
   "execution_count": 19,
   "metadata": {},
   "outputs": [],
   "source": [
    "drv.clk_stop('ADC_CK')"
   ]
  },
  {
   "cell_type": "code",
   "execution_count": 30,
   "metadata": {},
   "outputs": [],
   "source": [
    "drv.clk_stop('CK_ARRAY')"
   ]
  },
  {
   "cell_type": "code",
   "execution_count": 21,
   "metadata": {},
   "outputs": [
    {
     "name": "stdout",
     "output_type": "stream",
     "text": [
      "DAC initialized to a span from -5 V to 5 V\n"
     ]
    }
   ],
   "source": [
    "dut.pads_defaults()\n",
    "dut.dac_init()\n",
    "\n",
    "drv.clk_stop('CK_ARRAY')\n",
    "drv.clk_stop('ADC_CK')\n",
    "\n",
    "dut.vrefs_off()"
   ]
  },
  {
   "cell_type": "code",
   "execution_count": 6,
   "metadata": {},
   "outputs": [],
   "source": [
    "dut.vrefs_defaults()"
   ]
  },
  {
   "cell_type": "code",
   "execution_count": 15,
   "metadata": {},
   "outputs": [],
   "source": [
    "dut.dac_set('DAC_VP_PAD', 2.0)"
   ]
  },
  {
   "cell_type": "code",
   "execution_count": 45,
   "metadata": {},
   "outputs": [],
   "source": [
    "drv.gpio_adc_fifo_en_write(0b0000)"
   ]
  },
  {
   "cell_type": "code",
   "execution_count": 41,
   "metadata": {},
   "outputs": [],
   "source": [
    "drv.gpio_row_col_data_write(0x0e10)"
   ]
  },
  {
   "cell_type": "code",
   "execution_count": 48,
   "metadata": {},
   "outputs": [
    {
     "name": "stdout",
     "output_type": "stream",
     "text": [
      "DAC initialized to a span from -5 V to 5 V\n"
     ]
    }
   ],
   "source": [
    "dut.dac_init()"
   ]
  },
  {
   "cell_type": "code",
   "execution_count": null,
   "metadata": {},
   "outputs": [],
   "source": [
    "dut.dac_init()"
   ]
  }
 ],
 "metadata": {
  "kernelspec": {
   "display_name": "Python 3",
   "language": "python",
   "name": "python3"
  },
  "language_info": {
   "codemirror_mode": {
    "name": "ipython",
    "version": 3
   },
   "file_extension": ".py",
   "mimetype": "text/x-python",
   "name": "python",
   "nbconvert_exporter": "python",
   "pygments_lexer": "ipython3",
   "version": "3.7.4"
  }
 },
 "nbformat": 4,
 "nbformat_minor": 4
}
