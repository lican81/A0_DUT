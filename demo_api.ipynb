{
 "cells": [
  {
   "cell_type": "code",
   "execution_count": 9,
   "metadata": {},
   "outputs": [
    {
     "name": "stdout",
     "output_type": "stream",
     "text": [
      "The autoreload extension is already loaded. To reload it, use:\n",
      "  %reload_ext autoreload\n"
     ]
    }
   ],
   "source": [
    "%load_ext autoreload\n",
    "%autoreload\n",
    "\n",
    "import dut_func as dut\n",
    "import serial\n",
    "import time\n",
    "import struct\n",
    "import numpy as np\n",
    "\n",
    "from misc import *\n",
    "\n",
    "# dut.drv.serUSB = 'COM19'\n",
    "drv = dut.drv\n",
    "\n",
    "ser = serial.Serial('COM6', 9600, timeout=1)\n",
    "dut.connect(ser)"
   ]
  },
  {
   "cell_type": "code",
   "execution_count": 8,
   "metadata": {},
   "outputs": [
    {
     "name": "stdout",
     "output_type": "stream",
     "text": [
      "Serial port disconnected.\n"
     ]
    }
   ],
   "source": [
    "dut.disconnect()"
   ]
  },
  {
   "cell_type": "markdown",
   "metadata": {},
   "source": [
    "Test serial communication"
   ]
  },
  {
   "cell_type": "code",
   "execution_count": null,
   "metadata": {},
   "outputs": [],
   "source": [
    "with serial.Serial(serUSB, 9600, timeout=1) as ser:\n",
    "    ser.write(b'101,2')"
   ]
  },
  {
   "cell_type": "code",
   "execution_count": 30,
   "metadata": {},
   "outputs": [
    {
     "name": "stdout",
     "output_type": "stream",
     "text": [
      "Serial port disconnected.\n"
     ]
    }
   ],
   "source": [
    "drv.disconnect()"
   ]
  },
  {
   "cell_type": "markdown",
   "metadata": {},
   "source": [
    "Write port H with value 0b0101"
   ]
  },
  {
   "cell_type": "code",
   "execution_count": 10,
   "metadata": {},
   "outputs": [],
   "source": [
    "drv.gpio_port_write('H', 0xfff1)"
   ]
  },
  {
   "cell_type": "code",
   "execution_count": 18,
   "metadata": {},
   "outputs": [
    {
     "name": "stdout",
     "output_type": "stream",
     "text": [
      "1101111011001111\n"
     ]
    }
   ],
   "source": [
    "value = drv.gpio_port_read('H')\n",
    "print(f'{value:016b}')"
   ]
  },
  {
   "cell_type": "code",
   "execution_count": 19,
   "metadata": {},
   "outputs": [],
   "source": [
    "drv.gpio_adc_fifo_en_write(0xffff)"
   ]
  },
  {
   "cell_type": "code",
   "execution_count": 20,
   "metadata": {},
   "outputs": [
    {
     "name": "stdout",
     "output_type": "stream",
     "text": [
      "0000111111111111\n"
     ]
    }
   ],
   "source": [
    "value = drv.gpio_adc_read()\n",
    "print(f'{value:016b}')"
   ]
  },
  {
   "cell_type": "code",
   "execution_count": 21,
   "metadata": {},
   "outputs": [],
   "source": [
    "drv.spi_dac_write(0x240e)"
   ]
  },
  {
   "cell_type": "code",
   "execution_count": 92,
   "metadata": {},
   "outputs": [],
   "source": [
    "data = bytes([0b1101_0001, 0b0000_0010, 0b0000_0000])\n",
    "drv.spi_serial_write(1, data)"
   ]
  },
  {
   "cell_type": "code",
   "execution_count": 4,
   "metadata": {},
   "outputs": [
    {
     "data": {
      "text/plain": [
       "array([0.        , 0.03465201, 0.03465201, 0.376337  , 2.54007326])"
      ]
     },
     "execution_count": 4,
     "metadata": {},
     "output_type": "execute_result"
    }
   ],
   "source": [
    "voltages = drv.pic_adc_read()\n",
    "voltages"
   ]
  },
  {
   "cell_type": "code",
   "execution_count": 51,
   "metadata": {},
   "outputs": [],
   "source": [
    "def dac_set(channel, voltage):\n",
    "    # print(f'DAC: setting ch={channel} to vol={voltage}')\n",
    "    '''\n",
    "    '''\n",
    "#     if dac_set.is_init == False:\n",
    "#         dac_init(span = 0b010)\n",
    "    span=0b010\n",
    "\n",
    "    portName, pinPos = PIC_PINS['PIC_LDAC']\n",
    "    drv.gpio_pin_set(portName, pinPos)\n",
    "\n",
    "    portName, pinPos = PIC_PINS['PIC_TGP']\n",
    "    drv.gpio_pin_set(portName, pinPos)\n",
    "\n",
    "    portName, pinPos = PIC_PINS['PIC_CLR']\n",
    "    drv.gpio_pin_reset(portName, pinPos)\n",
    "    # time.sleep(1)\n",
    "    drv.gpio_pin_set(portName, pinPos)\n",
    "    \n",
    "    cmd = 0b1110\n",
    "    # address = 0b0000\n",
    "    # address = DAC_CH[channel]\n",
    "\n",
    "    data = span | (cmd << 20)\n",
    "    drv.spi_dac_write(data)\n",
    "    # print(f'{data:08x}')\n",
    "\n",
    "    dac_set.is_init = True\n",
    "    dac_set.span = span\n",
    "\n",
    "    vlim_lo, vlim_hi = DAC_SPAN[dac_set.span]\n",
    "    print(f'DAC initialized to a span from {vlim_lo} V to {vlim_hi} V')\n",
    "    \n",
    "    \n",
    "\n",
    "    cmd = 0b0011\n",
    "    # address = 0b0000\n",
    "    address = DAC_CH[channel]\n",
    "    print(address)\n",
    "\n",
    "    # data = int(voltage)\n",
    "#     vlim_lo, vlim_hi = 0, 5\n",
    "    data = int( (voltage - vlim_lo) / (vlim_hi-vlim_lo) * 0xffff  )\n",
    "    # print(f'{data:08x}')\n",
    "    data |= (address << 16) | (cmd << 20)\n",
    "    print(f'{data:032b}')\n",
    "\n",
    "    drv.spi_dac_write(data)"
   ]
  },
  {
   "cell_type": "code",
   "execution_count": 66,
   "metadata": {},
   "outputs": [
    {
     "name": "stdout",
     "output_type": "stream",
     "text": [
      "DAC initialized to a span from -5 V to 5 V\n",
      "15\n",
      "00000000001111111111111111111111\n"
     ]
    }
   ],
   "source": [
    "dac_set('DAC_SCHOTTKY', 5)"
   ]
  },
  {
   "cell_type": "code",
   "execution_count": 69,
   "metadata": {},
   "outputs": [],
   "source": [
    "drv.gpio_pin_set(*PIC_PINS['PIC_SHORT_VREF_HI_CMP'])"
   ]
  },
  {
   "cell_type": "code",
   "execution_count": 68,
   "metadata": {},
   "outputs": [],
   "source": [
    "drv.gpio_pin_reset(*PIC_PINS['PIC_SHORT_VREF_HI_CMP'])"
   ]
  },
  {
   "cell_type": "code",
   "execution_count": 96,
   "metadata": {},
   "outputs": [],
   "source": [
    "drv.gpio_pin_set(*PIC_PINS['NFORCE_SAFE2'])"
   ]
  },
  {
   "cell_type": "code",
   "execution_count": 99,
   "metadata": {},
   "outputs": [],
   "source": [
    "drv.gpio_pin_reset(*PIC_PINS['WRITE_FWD'])"
   ]
  },
  {
   "cell_type": "code",
   "execution_count": 14,
   "metadata": {},
   "outputs": [],
   "source": [
    "drv.clk_start('CK_ARRAY')"
   ]
  },
  {
   "cell_type": "code",
   "execution_count": 15,
   "metadata": {},
   "outputs": [],
   "source": [
    "drv.clk_start('ADC_CK')"
   ]
  },
  {
   "cell_type": "code",
   "execution_count": 12,
   "metadata": {},
   "outputs": [],
   "source": [
    "drv.clk_stop('ADC_CK')"
   ]
  },
  {
   "cell_type": "code",
   "execution_count": 13,
   "metadata": {},
   "outputs": [],
   "source": [
    "drv.clk_stop('CK_ARRAY')"
   ]
  },
  {
   "cell_type": "code",
   "execution_count": null,
   "metadata": {},
   "outputs": [],
   "source": []
  }
 ],
 "metadata": {
  "kernelspec": {
   "display_name": "Python 3",
   "language": "python",
   "name": "python3"
  },
  "language_info": {
   "codemirror_mode": {
    "name": "ipython",
    "version": 3
   },
   "file_extension": ".py",
   "mimetype": "text/x-python",
   "name": "python",
   "nbconvert_exporter": "python",
   "pygments_lexer": "ipython3",
   "version": "3.7.4"
  }
 },
 "nbformat": 4,
 "nbformat_minor": 4
}
