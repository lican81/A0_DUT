{
 "cells": [
  {
   "cell_type": "code",
   "execution_count": 1,
   "metadata": {},
   "outputs": [],
   "source": [
    "%load_ext autoreload\n",
    "%autoreload\n",
    "\n",
    "import serial\n",
    "import time\n",
    "\n",
    "import struct\n",
    "import numpy as np\n",
    "\n",
    "# Change it to COMx on a MS Windows platform\n",
    "# serUSB = '/dev/tty.usbmodem1454301'\n",
    "serUSB = 'COM6'"
   ]
  },
  {
   "cell_type": "markdown",
   "metadata": {},
   "source": [
    "Test serial communication"
   ]
  },
  {
   "cell_type": "code",
   "execution_count": 21,
   "metadata": {},
   "outputs": [],
   "source": [
    "with serial.Serial(serUSB, 9600, timeout=1) as ser:\n",
    "    ser.write(b'101,2')"
   ]
  },
  {
   "cell_type": "code",
   "execution_count": 2,
   "metadata": {},
   "outputs": [],
   "source": [
    "import drv_gpio as drv\n",
    "\n",
    "ser = serial.Serial(serUSB, 9600, timeout=1)\n",
    "drv.connect(ser)"
   ]
  },
  {
   "cell_type": "markdown",
   "metadata": {},
   "source": [
    "Write port H with value 0b0101"
   ]
  },
  {
   "cell_type": "code",
   "execution_count": 23,
   "metadata": {},
   "outputs": [],
   "source": [
    "drv.gpio_port_write('H', 0xffff)"
   ]
  },
  {
   "cell_type": "code",
   "execution_count": 24,
   "metadata": {},
   "outputs": [
    {
     "name": "stdout",
     "output_type": "stream",
     "text": [
      "1101111011001111\n"
     ]
    }
   ],
   "source": [
    "value = drv.gpio_port_read('H')\n",
    "print(f'{value:016b}')"
   ]
  },
  {
   "cell_type": "code",
   "execution_count": 25,
   "metadata": {},
   "outputs": [],
   "source": [
    "drv.gpio_adc_fifo_en_write(0xffff)"
   ]
  },
  {
   "cell_type": "code",
   "execution_count": 26,
   "metadata": {},
   "outputs": [
    {
     "name": "stdout",
     "output_type": "stream",
     "text": [
      "0000111111011110\n"
     ]
    }
   ],
   "source": [
    "value = drv.gpio_adc_read()\n",
    "print(f'{value:016b}')"
   ]
  },
  {
   "cell_type": "code",
   "execution_count": 43,
   "metadata": {},
   "outputs": [],
   "source": [
    "drv.spi_dac_write(0x240e)"
   ]
  },
  {
   "cell_type": "code",
   "execution_count": 41,
   "metadata": {},
   "outputs": [
    {
     "name": "stdout",
     "output_type": "stream",
     "text": [
      "b'215,1,5,\\x1f a\\xd1\\r\\x00'\n"
     ]
    }
   ],
   "source": [
    "data = bytes([31, 32, 0x61, 0b1101_0001, 13])\n",
    "drv.spi_serial_write(1, data)"
   ]
  },
  {
   "cell_type": "code",
   "execution_count": 4,
   "metadata": {},
   "outputs": [
    {
     "data": {
      "text/plain": [
       "array([3.236337  , 0.22483516, 0.75992674, 1.29582418, 1.25391941])"
      ]
     },
     "execution_count": 4,
     "metadata": {},
     "output_type": "execute_result"
    }
   ],
   "source": [
    "voltages = drv.pic_adc_read()\n",
    "voltages"
   ]
  },
  {
   "cell_type": "code",
   "execution_count": null,
   "metadata": {},
   "outputs": [],
   "source": []
  }
 ],
 "metadata": {
  "kernelspec": {
   "display_name": "Python 3",
   "language": "python",
   "name": "python3"
  },
  "language_info": {
   "codemirror_mode": {
    "name": "ipython",
    "version": 3
   },
   "file_extension": ".py",
   "mimetype": "text/x-python",
   "name": "python",
   "nbconvert_exporter": "python",
   "pygments_lexer": "ipython3",
   "version": "3.7.4"
  }
 },
 "nbformat": 4,
 "nbformat_minor": 4
}
