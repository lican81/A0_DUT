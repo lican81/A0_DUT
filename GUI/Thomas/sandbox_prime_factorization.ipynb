{
 "cells": [
  {
   "cell_type": "code",
   "execution_count": 1,
   "metadata": {
    "collapsed": true
   },
   "outputs": [],
   "source": [
    "import numpy as np\n",
    "from pylab import plt\n",
    "from __future__ import division,print_function#this notebook is python 2 2:-(\n",
    "from functools import partial\n",
    "import random\n",
    "import numba as nb\n",
    "import time"
   ]
  },
  {
   "cell_type": "code",
   "execution_count": 2,
   "metadata": {
    "collapsed": true
   },
   "outputs": [],
   "source": [
    "problem_and_sol_arr=np.array([[3,5,7,35],#my own example for debugging purposes\n",
    "                              [4,11,13,143],#my own example for debugging purposes\n",
    "                              [10,601, 911,547511],\n",
    "                              [12,2081, 3329,6927649],\n",
    "                              [14, 10007,15091,151015637],\n",
    "                              [16, 40093,60013,2406101209],\n",
    "                              [18, 150011,140007,36003690077],\n",
    "                              [20, 700057,900001,630052000057],\n",
    "                              [22, 2500339,3500227,8751754076953],\n",
    "                              [24, 11600489, 14000083, 162407808840587],\n",
    "                              [26, 41615281, 61616479, 2564187087815599],\n",
    "                              [28, 150243361, 220293523, 33090127134000803],\n",
    "                              [30, 800000087, 900000083, 720000144700007221]])\n",
    "#first column: number of bits\n",
    "#second, third column: prime factors.\n",
    "#4th column: combined number to be factorized"
   ]
  },
  {
   "cell_type": "markdown",
   "metadata": {},
   "source": [
    "Let's first calculate the number of iterations for two naive approaches.\n",
    "\n",
    "* Approach one: we know there are 2 prime numbers in range 1..n, so we can calculate average time to find it.\n",
    "Source for this appraoch: https://arxiv.org/abs/1102.1296v1\n",
    "* Approach two: count from 1 to $n^{1/2}$ which certainly contains one prime factor, we could also randomly sample. Source of this approach: https://en.wikipedia.org/wiki/Trial_division.\n",
    "\n",
    "(BTW, the test cases above are also from the arxiv paper)"
   ]
  },
  {
   "cell_type": "code",
   "execution_count": 3,
   "metadata": {},
   "outputs": [
    {
     "data": {
      "image/png": "[encoded data removed]",
      "text/plain": [
       "<matplotlib.figure.Figure at 0xb057550>"
      ]
     },
     "metadata": {},
     "output_type": "display_data"
    }
   ],
   "source": [
    "#original scaling of the existing heuristics, see later on for optimized theoretic curves.\n",
    "plt.figure(0)\n",
    "plt.semilogy(problem_and_sol_arr[:,0],2**(problem_and_sol_arr[:,0])/2.,\"k\",label=\"Sample $\\in[1..2^{ceil(log2(N)/2)}]$\")\n",
    "plt.semilogy(problem_and_sol_arr[:,0],problem_and_sol_arr[:,-1]**.5,\"k--\",label=r\"Count up to $N^{1/2}$\")\n",
    "leg=plt.legend(loc=0)\n",
    "leg.draw_frame(False)\n",
    "plt.xlabel(\"Number of bits\")\n",
    "plt.ylabel(\"Number of iterations\")\n",
    "plt.show()"
   ]
  },
  {
   "cell_type": "code",
   "execution_count": 4,
   "metadata": {},
   "outputs": [
    {
     "data": {
      "text/plain": [
       "11"
      ]
     },
     "execution_count": 4,
     "metadata": {},
     "output_type": "execute_result"
    }
   ],
   "source": [
    "0b1010+0b01"
   ]
  },
  {
   "cell_type": "code",
   "execution_count": 5,
   "metadata": {},
   "outputs": [
    {
     "name": "stdout",
     "output_type": "stream",
     "text": [
      "3 [0 0 0 0 0 0 1 1]\n",
      "[3]\n"
     ]
    }
   ],
   "source": [
    "test_integer=3\n",
    "test_bits=np.unpackbits(np.array([test_integer],dtype=np.uint8)) #only up to uint8 :-(\n",
    "print(test_integer,test_bits)\n",
    "print(np.packbits(test_bits))"
   ]
  },
  {
   "cell_type": "code",
   "execution_count": 6,
   "metadata": {
    "collapsed": true
   },
   "outputs": [],
   "source": [
    "def unpackbits(x, num_bits):\n",
    "  xshape = list(x.shape)\n",
    "  x = x.reshape([-1, 1])\n",
    "  to_and = 2**np.arange(num_bits).reshape([1, num_bits])\n",
    "  return (x & to_and[::-1]).astype(bool).astype(int).reshape(xshape + [num_bits])\n",
    "# tweaked version of https://stackoverflow.com/questions/18296035/how-to-extract-the-bits-of-larger-numeric-numpy-data-types"
   ]
  },
  {
   "cell_type": "code",
   "execution_count": 7,
   "metadata": {
    "collapsed": true
   },
   "outputs": [],
   "source": [
    "def packbits(x, num_bits):\n",
    "  xshape = list(x.shape)\n",
    "  x = x.reshape([-1, num_bits])\n",
    "  if len(xshape)==1:\n",
    "    xshape = list(x.shape)\n",
    "  to_and = 2**np.arange(num_bits).reshape([1, num_bits])\n",
    "  return np.sum(x * to_and[::-1],axis=(len(xshape)-1)).astype(int).reshape(xshape[:-1])"
   ]
  },
  {
   "cell_type": "code",
   "execution_count": 8,
   "metadata": {},
   "outputs": [
    {
     "data": {
      "text/plain": [
       "array([9])"
      ]
     },
     "execution_count": 8,
     "metadata": {},
     "output_type": "execute_result"
    }
   ],
   "source": [
    "packbits(unpackbits(np.array([9]),4),4)"
   ]
  },
  {
   "cell_type": "code",
   "execution_count": 9,
   "metadata": {},
   "outputs": [
    {
     "name": "stdout",
     "output_type": "stream",
     "text": [
      "N: [[1 1 0 0 0 1]] 35 0b100011 6\n",
      "p: [1 0 1] 5 0b101 3\n",
      "q: [1 1 1] 7 0b111 3\n",
      "N: [[1 1 1 1 0 0 0 1]] 143 0b10001111 8\n",
      "p: [1 1 0 1] 11 0b1011 4\n",
      "q: [1 0 1 1] 13 0b1101 4\n",
      "N: [[1 1 1 0 1 1 0 1 0 1 0 1 1 0 1 0 0 0 0 1]] 547511 0b10000101101010110111 20\n",
      "p: [1 0 0 1 1 0 1 0 0 1] 601 0b1001011001 10\n",
      "q: [1 1 1 1 0 0 0 1 1 1] 911 0b1110001111 10\n",
      "N: [[1 0 0 0 0 1 0 0 1 0 1 0 1 1 0 1 1 0 0 1 0 1 1 0]] 6927649 0b11010011011010100100001 23\n",
      "p: [1 0 0 0 0 1 0 0 0 0 0 1] 2081 0b100000100001 12\n",
      "q: [1 0 0 0 0 0 0 0 1 0 1 1] 3329 0b110100000001 12\n",
      "N: [[1 0 1 0 1 0 1 1 0 0 0 0 1 0 1 0 0 0 0 0 0 0 0 0 1 0 0 1]] 151015637 0b1001000000000101000011010101 28\n",
      "p: [1 1 1 0 1 0 0 0 1 1 1 0 0 1] 10007 0b10011100010111 14\n",
      "q: [1 1 0 0 1 1 1 1 0 1 0 1 1 1] 15091 0b11101011110011 14\n",
      "N: [[1 0 0 1 1 0 1 1 0 0 0 0 1 1 0 0 0 1 0 1 0 1 1 0 1 1 1 1 0 0 0 1]] 2406101209 0b10001111011010100011000011011001 32\n",
      "p: [1 0 1 1 1 0 0 1 0 0 1 1 1 0 0 1] 40093 0b1001110010011101 16\n",
      "q: [1 0 1 1 0 1 1 0 0 1 0 1 0 1 1 1] 60013 0b1110101001101101 16\n",
      "N: [[1 0 1 1 1 0 1 0 0 1 1 0 1 1 0 1 0 0 1 1 1 1 1 1 1 0 0 0 0 1 1 0 0 0 0 1]] 36003690077 0b100001100001111111001011011001011101 36\n",
      "p: [1 1 0 1 1 1 1 1 1 0 0 1 0 0 1 0 0 1] 150011 0b100100100111111011 18\n",
      "q: [1 1 1 0 0 1 1 1 0 1 0 0 0 1 0 0 0 1] 140007 0b100010001011100111 18\n",
      "N: [[1 0 0 1 1 1 0 0 1 0 0 0 1 0 0 1 0 1 1 0 0 0 0 0 0 1 0 0 1 1 0 1 0 1 0 0 1\n",
      "  0 0 1]] 630052000057 0b1001001010110010000001101001000100111001 40\n",
      "p: [1 0 0 1 1 0 0 1 0 1 1 1 0 1 0 1 0 1 0 1] 700057 0b10101010111010011001 20\n",
      "q: [1 0 0 0 0 1 0 1 1 1 0 1 1 1 0 1 1 0 1 1] 900001 0b11011011101110100001 20\n",
      "N: [[1 0 0 1 1 0 0 0 1 1 0 0 0 1 1 0 1 0 0 0 1 1 0 0 1 0 1 1 0 1 0 1 1 0 1 0 1\n",
      "  1 1 1 1 1 1 0]] 8751754076953 0b1111111010110101101001100010110001100011001 43\n",
      "p: [1 1 0 0 1 1 1 1 0 1 1 0 0 1 0 0 0 1 1 0 0 1] 2500339 0b1001100010011011110011 22\n",
      "q: [1 1 0 0 0 0 1 1 0 0 0 1 0 1 1 0 1 0 1 0 1 1] 3500227 0b1101010110100011000011 22\n",
      "N: [[1 1 0 1 0 0 0 1 1 1 0 0 1 1 0 0 1 0 0 0 0 0 1 1 1 1 0 0 0 0 0 1 1 0 1 0 1\n",
      "  1 0 1 1 1 0 0 1 0 0 1]] 162407808840587 0b100100111011010110000011110000010011001110001011 48\n",
      "p: [1 0 0 1 0 1 1 0 0 1 0 0 0 0 0 0 1 0 0 0 1 1 0 1] 11600489 0b101100010000001001101001 24\n",
      "q: [1 1 0 0 1 0 1 1 1 1 1 1 1 0 0 1 1 0 1 0 1 0 1 1] 14000083 0b110101011001111111010011 24\n",
      "N: [[1 1 1 1 0 1 0 1 1 1 0 0 0 0 1 1 1 0 0 0 0 0 0 1 0 0 1 0 1 0 1 0 1 0 1 1 1\n",
      "  0 0 0 0 0 1 1 1 0 0 0 1 0 0 1]] 2564187087815599 0b1001000111000001110101010100100000011100001110101111 52\n",
      "p: [1 0 0 0 1 1 0 1 1 1 1 1 1 1 1 1 0 1 0 1 1 1 1 0 0 1] 41615281 0b10011110101111111110110001 26\n",
      "q: [1 1 1 1 1 0 1 0 1 0 0 0 1 1 0 0 0 0 1 1 0 1 0 1 1 1] 61616479 0b11101011000011000101011111 26\n",
      "N: [[1 1 0 0 0 1 0 1 0 1 1 0 0 0 0 0 1 0 1 0 0 1 1 0 1 0 0 1 1 0 0 1 1 1 0 1 0\n",
      "  0 1 0 1 1 1 1 0 0 0 1 1 0 1 0 1 1 1 0]] 33090127134000803 0b1110101100011110100101110011001011001010000011010100011 55\n",
      "p: [1 0 0 0 0 1 0 0 0 0 0 1 0 0 0 1 0 0 1 0 1 1 1 1 0 0 0 1] 150243361 0b1000111101001000100000100001 28\n",
      "q: [1 1 0 0 1 0 0 1 1 0 0 1 0 1 1 0 1 0 0 0 0 1 0 0 1 0 1 1] 220293523 0b1101001000010110100110010011 28\n",
      "N: [[1 0 1 0 1 1 0 0 1 1 0 0 0 1 1 1 0 1 0 0 1 0 0 0 1 1 1 1 1 0 0 0 1 0 0 0 1\n",
      "  0 1 0 0 0 1 0 1 1 1 1 1 0 1 1 1 1 1 1 1 0 0 1]] 720000144700007221 0b100111111101111101000101000100011111000100101110001100110101 60\n",
      "p: [1 1 1 0 1 0 1 0 0 0 0 1 0 0 0 0 1 1 1 1 0 1 0 1 1 1 1 1 0 1] 800000087 0b101111101011110000100001010111 30\n",
      "q: [1 1 0 0 1 0 1 0 1 0 0 1 0 1 1 1 0 0 1 0 0 1 0 1 1 0 1 0 1 1] 900000083 0b110101101001001110100101010011 30\n"
     ]
    }
   ],
   "source": [
    "for nn,(n,p,q,N) in enumerate(problem_and_sol_arr[:]):\n",
    "    bits_p,bits_q=unpackbits(np.array([p,q]),num_bits=n) # assumption in the examples is that they have equal number of bits\n",
    "    bits_N=unpackbits(np.array([N]),num_bits=2*n)\n",
    "    print(\"N:\",bits_N,N,bin(N),len(bin(N))-2)\n",
    "    print(\"p:\",bits_p,p,bin(p),len(bin(p))-2)\n",
    "    print(\"q:\",bits_q,q,bin(q),len(bin(q))-2)"
   ]
  },
  {
   "cell_type": "markdown",
   "metadata": {},
   "source": [
    "*Profiling/code optimization remarks*\n",
    "\n",
    "Note that below I'm starting to use numba's decorator (nb.jit(nopython=True)) to speed up the calculation. I did some speed checks and it seems as if numba can give a 100x speed up, however, I did notice later that bugs and calculation errors could also result in such apparent 100x speed ups, so I'm not 100% sure. Then again, the computation speed with numba is acceptable, so I'll stick to this solution for now."
   ]
  },
  {
   "cell_type": "code",
   "execution_count": 10,
   "metadata": {
    "collapsed": true
   },
   "outputs": [],
   "source": [
    "@nb.jit(nopython=True)\n",
    "def E_fun_mod_N(x,y,N):\n",
    "    return abs(N%x)\n",
    "\n",
    "@nb.jit(nopython=True)\n",
    "def E_fun_pwr_1(x,y,N):\n",
    "    return abs(N-x*y)\n",
    "\n",
    "@nb.jit(nopython=True)\n",
    "def E_fun_pwr_2(x,y,N):\n",
    "    return (N-x*y)**2.\n",
    "\n",
    "@nb.jit(nopython=True)\n",
    "def E_fun(x,y,N,E_fun_type):\n",
    "    if (E_fun_type==0):\n",
    "        return E_fun_mod_N(x,y,N)\n",
    "    elif (E_fun_type==1):\n",
    "        return E_fun_pwr_1(x,y,N)\n",
    "    elif (E_fun_type==2):\n",
    "        return E_fun_pwr_2(x,y,N)\n",
    "    else:\n",
    "        raise Exception(\"Function type for E_fun not yet implemented\")\n",
    "        return 0\n",
    "    \n",
    "@nb.jit(nopython=True)\n",
    "def temp_scaling(T0,T_base,bit_pos,n,noise_fun_type):\n",
    "    if noise_fun_type==0:\n",
    "        return T0 * T_base**(n)#work in float numbers to avoid overflow\n",
    "    elif noise_fun_type==1:\n",
    "        return T0 * T_base**(bit_pos)#work in float numbers to avoid overflow\n",
    "    elif noise_fun_type==2:\n",
    "        return T0 * T_base**(bit_pos+n)#work in float numbers to avoid overflow\n",
    "    elif noise_fun_type==3:\n",
    "        return T0 * T_base**(bit_pos*2)#work in float numbers to avoid overflow\n",
    "    else:\n",
    "        raise Exception(\"Function type for E_fun not yet implemented\")\n",
    "        return 0\n"
   ]
  },
  {
   "cell_type": "code",
   "execution_count": 11,
   "metadata": {},
   "outputs": [],
   "source": [
    "@nb.jit(nopython=True)\n",
    "def perform_prime_factorization(problem_and_sol_arr,num_runs = 1000, max_iter = None,\n",
    "                                N_case_i=0, #problem_and_sol_arr.shape[0]\n",
    "                                N_cases=4,\n",
    "                                E_fun_type=0,\n",
    "                                noise_fun_type=0,\n",
    "                                T0=0.1,\n",
    "                                T_base=2.,\n",
    "                                max_iter_default=-1,\n",
    "                                verbosity=0,\n",
    "                                check_prime_found=True):\n",
    "\n",
    "    data_arr=np.zeros((problem_and_sol_arr.shape[0],6))\n",
    "\n",
    "    cnt_failed_calc=0\n",
    "    cnt_failed_calc_per_N=0\n",
    "\n",
    "    for nn in np.arange(N_case_i,N_case_i+N_cases,1): # https://github.com/numba/numba/issues/4508\n",
    "        (n,p,q,N)=problem_and_sol_arr[nn,:] # can't use enumerate, would crash in numba\n",
    "        print(\"Number of bits n=\",n)\n",
    "        max_iter=max(3*2**(3.*n),5000) if max_iter_default==-1 else max_iter_default\n",
    "        cnt=0\n",
    "        cnt_failed_calc_per_N=0\n",
    "\n",
    "        #E_fun=partial(E_fun_template,N=N)\n",
    "\n",
    "        #T = 0.1 * 2**(2*n) #based on paper\n",
    "\n",
    "        cnt_iter_arr=np.zeros((num_runs,))\n",
    "\n",
    "        for rr in range(num_runs): # do a 1000 different runs per algos, it's stochastic so we need statistics\n",
    "            #print(\"Simulation {}/{} for number of bits n={}\".format(rr,num_runs,n))\n",
    "            # p_new = packbits(np.random.randint(2, size=n, n)\n",
    "            # p_new = packbits(np.random.randint(2, size=(n-1)),(n-1))*2+1 #only odd numbers >1 can be wanted prime; so this line doesn't work\n",
    "            p_new = 2*np.random.randint(2**(n-1)-1)+3\n",
    "            #for q_new: we know in this case we won't have more than n bits.\n",
    "            q_new = 2*np.random.randint(2**(n-1)-1)+3# N//p_new choice is not guaranteed to converge, so don't try to be clever: N//p_new\n",
    "            E_new = E_fun(p_new,q_new,N=N,E_fun_type=E_fun_type)\n",
    "            cnt_iter = 0\n",
    "            prime_found=False\n",
    "            while (cnt_iter<max_iter) and (E_new>0) and (not prime_found): # keep on guessing using monte carlo algorithm\n",
    "                #save data\n",
    "                p_old=p_new\n",
    "                q_old=q_new\n",
    "                E_old=E_new\n",
    "\n",
    "                if(E_fun_type==0):\n",
    "                    #TODO remove while loop, get better solution if p_new=1\n",
    "                    while (p_new==p_old): # avoid getting p_new = 1, as this gives wrong result\n",
    "                    \n",
    "                        #propose flip\n",
    "                        bit_pos=1+np.random.randint(n-1) # only odd numbers >1 can be wanted prime, don't pick bit 0\n",
    "                        #speedup proposal: https://eli.thegreenplace.net/2018/slow-and-fast-methods-for-generating-random-integers-in-python/\n",
    "                        p_new=p_old ^ 2**(bit_pos) # flip bit using XOR\n",
    "                        q_new=q_old\n",
    "                        if p_new==1:\n",
    "                            p_new=p_old\n",
    "                            q_new=q_old\n",
    "                else:\n",
    "                    bit_pos_min1=np.random.randint(2*(n-1))\n",
    "                    if bit_pos_min1<(n-1):\n",
    "                        p_new=p_old ^ 2**(1+bit_pos_min1) # flip bit using XOR\n",
    "                        q_new=q_old\n",
    "                    else:\n",
    "                        p_new=p_old \n",
    "                        q_new=q_old ^ 2**(1+bit_pos_min1-(n-1)) # flip bit using XOR\n",
    "                    if verbosity>3:\n",
    "                        print(\"N\",N,\"ctr\",cnt_iter,\"p,q_n\",p_new,q_new,\"p,q_o\",p_new,q_new,\n",
    "                              \"pos\",bit_pos_min1,\n",
    "                              \"E\",E_fun(p_new,q_new,N=N,E_fun_type=E_fun_type))\n",
    "                     \n",
    "                        \n",
    "                # p_new=(p_old-2) ^ 2**(bit_pos+1)+2 # flip bit using XOR\n",
    "                E_new=E_fun(p_new,q_new,N=N,E_fun_type=E_fun_type)\n",
    "                D_E=E_new-E_old\n",
    "                #check whether we accept flip\n",
    "                u=random.random()\n",
    "                \n",
    "                if check_prime_found and (E_fun_type>0) and E_new>0:#this check only needs to be done of E_new>0, otherwise we already know\n",
    "                    prime_factor=p_new if p_new!=p_old else q_new#Note: in principle we should only check the one that has changed!\n",
    "                    if (prime_factor>1) and ((N%prime_factor)==0):\n",
    "                        prime_found=True\n",
    "                                \n",
    "                \n",
    "                #T can be bit position dependent if we want.\n",
    "                T = temp_scaling(T0,T_base,bit_pos,n,noise_fun_type) #TODO adapt this to E_fun!; currently it's not optimal + save acceptance ratios.\n",
    "                beta = 1/T\n",
    "\n",
    "                p_flip=min(1,np.exp(-beta*D_E))\n",
    "\n",
    "                #else:\n",
    "                if (p_flip>u):#accept flips\n",
    "                    pass\n",
    "                else:#reset\n",
    "                    p_new=p_old\n",
    "                    q_new=q_old\n",
    "                    E_new=E_old\n",
    "\n",
    "                cnt_iter+=1\n",
    "\n",
    "\n",
    "            if cnt_iter==max_iter:\n",
    "                #print(\"Reached maximum number of iterations for n: \",n,\" N: \",N)\n",
    "                cnt_failed_calc+=1\n",
    "                cnt_failed_calc_per_N+=1\n",
    "            cnt_iter_arr[rr]=(cnt_iter+1) # initial condition = also counted as iteration.\n",
    "\n",
    "        print(\"Percentage failed calculations: \",cnt_failed_calc_per_N/num_runs*100,\"%\")\n",
    "        data_arr[nn,0]=n    \n",
    "        data_arr[nn,1]=np.mean(cnt_iter_arr)\n",
    "        data_arr[nn,2]=np.std(cnt_iter_arr)\n",
    "        data_arr[nn,3]=np.min(cnt_iter_arr)\n",
    "        data_arr[nn,4]=np.max(cnt_iter_arr)\n",
    "        data_arr[nn,5]=np.median(cnt_iter_arr)\n",
    "\n",
    "    print(\"Failed calculations: \",cnt_failed_calc)\n",
    "    return data_arr\n"
   ]
  },
  {
   "cell_type": "code",
   "execution_count": 12,
   "metadata": {},
   "outputs": [
    {
     "name": "stdout",
     "output_type": "stream",
     "text": [
      "Number of bits n= 3\n",
      "Percentage failed calculations:  0.0 %\n",
      "Number of bits n= 4\n",
      "Percentage failed calculations:  0.0 %\n",
      "Failed calculations:  0\n",
      "Elapsed (with compilation) = 1.61600017548\n",
      "Number of bits n= 3\n",
      "Percentage failed calculations:  0.0 %\n",
      "Number of bits n= 4\n",
      "Percentage failed calculations:  0.0 %\n",
      "Failed calculations:  0\n",
      "Elapsed (after compilation) = 0.0019998550415\n"
     ]
    }
   ],
   "source": [
    "# DO NOT REPORT THIS... COMPILATION TIME IS INCLUDED IN THE EXECUTION TIME!\n",
    "start = time.time()\n",
    "data_arr_test_comp=perform_prime_factorization(problem_and_sol_arr,\n",
    "                                               num_runs = 1000, max_iter = None,N_cases=2, #problem_and_sol_arr.shape[0]\n",
    "                                                E_fun_type=0,\n",
    "                                               noise_fun_type=0)\n",
    "end = time.time()\n",
    "print(\"Elapsed (with compilation) = %s\" % (end - start))\n",
    "\n",
    "# NOW THE FUNCTION IS COMPILED, RE-TIME IT EXECUTING FROM CACHE\n",
    "start = time.time()\n",
    "data_arr_test_comp=perform_prime_factorization(problem_and_sol_arr,\n",
    "                                               num_runs = 1000, max_iter = None,N_cases=2, #problem_and_sol_arr.shape[0]\n",
    "                                                E_fun_type=0,\n",
    "                                                noise_fun_type=0)\n",
    "end = time.time()\n",
    "print(\"Elapsed (after compilation) = %s\" % (end - start))"
   ]
  },
  {
   "cell_type": "markdown",
   "metadata": {},
   "source": [
    "When executing this line of code without jil: (version on 4/29/2020)\n",
    "start = time.time()\n",
    "data_arr=perform_prime_factorization(problem_and_sol_arr,num_runs = 1000,\n",
    "                                     max_iter = None,N_cases=8, #problem_and_sol_arr.shape[0]\n",
    "                                    E_fun_type=0)\n",
    "end = time.time()\n",
    "print(\"Elapsed (after compilation) = %s\" % (end - start))\n",
    "\n",
    "I get as output:\n",
    "Number of bits n= 3\n",
    "Percentage failed calculations:  0.0 %\n",
    "Number of bits n= 4\n",
    "Percentage failed calculations:  0.0 %\n",
    "Number of bits n= 10\n",
    "Percentage failed calculations:  0.0 %\n",
    "Number of bits n= 12\n",
    "Percentage failed calculations:  0.0 %\n",
    "Number of bits n= 14\n",
    "Percentage failed calculations:  0.0 %\n",
    "Number of bits n= 16\n",
    "Percentage failed calculations:  0.0 %\n",
    "Number of bits n= 18\n",
    "Percentage failed calculations:  0.0 %\n",
    "Number of bits n= 20\n",
    "Percentage failed calculations:  0.0 %\n",
    "Failed calculations:  0\n",
    "Elapsed (after compilation) = 4741.00999999\n",
    "\n",
    "\n",
    "When doing it with jil, I get:\n",
    "Number of bits n= 3\n",
    "Percentage failed calculations:  0.0 %\n",
    "Number of bits n= 4\n",
    "Percentage failed calculations:  0.0 %\n",
    "Number of bits n= 10\n",
    "Percentage failed calculations:  0.0 %\n",
    "Number of bits n= 12\n",
    "Percentage failed calculations:  0.0 %\n",
    "Number of bits n= 14\n",
    "Percentage failed calculations:  0.0 %\n",
    "Number of bits n= 16\n",
    "Percentage failed calculations:  0.0 %\n",
    "Number of bits n= 18\n",
    "Percentage failed calculations:  0.0 %\n",
    "Number of bits n= 20\n",
    "Percentage failed calculations:  0.0 %\n",
    "Failed calculations:  0\n",
    "Elapsed (after compilation) = 50.3919999599\n",
    "\n",
    "Original function was:\n",
    "\n",
    "@nb.jit(nopython=True)\n",
    "def E_fun_mod_N(x,N):\n",
    "    return abs(N%x)\n",
    "\n",
    "@nb.jit(nopython=True)\n",
    "def E_fun(x,N,E_fun_type):\n",
    "    if E_fun_type==0:\n",
    "        return E_fun_mod_N(x,N)\n",
    "    else:\n",
    "        raise Exception(\"Function type for E_fun not yet implemented\")\n",
    "        return 0\n",
    "\n",
    "#in python 3 I could use wrapped for this test without jit:\n",
    "    https://stackoverflow.com/questions/1166118/how-to-strip-decorators-from-a-function-in-python\n",
    "    \n",
    ">>> @somedecorator\n",
    ">>> def add(x, y):\n",
    "...     return x + y\n",
    "...\n",
    ">>> orig_add = add.__wrapped__\n",
    ">>> orig_add(3, 4)\n",
    "\n",
    ">>> from undecorated import undecorated\n",
    ">>> undecorated(spam) # this is also an option!\n",
    "\n",
    "#with our without jil: \n",
    "@nb.jit(nopython=True)\n",
    "def perform_prime_factorization(problem_and_sol_arr,num_runs = 1000, max_iter = None,\n",
    "                                N_cases=4, #problem_and_sol_arr.shape[0]\n",
    "                                E_fun_type=0):\n",
    "\n",
    "    data_arr=np.zeros((problem_and_sol_arr.shape[0],6))\n",
    "\n",
    "    cnt_failed_calc=0\n",
    "    cnt_failed_calc_per_N=0\n",
    "\n",
    "    for nn in range(N_cases): # https://github.com/numba/numba/issues/4508\n",
    "        (n,p,q,N)=problem_and_sol_arr[nn,:] # can't use enumerate, would crash in numba\n",
    "        print(\"Number of bits n=\",n)\n",
    "        max_iter=max(3*2**(3*n),5000)\n",
    "        cnt=0\n",
    "        cnt_failed_calc_per_N=0\n",
    "\n",
    "        #E_fun=partial(E_fun_template,N=N)\n",
    "\n",
    "        #T = 0.1 * 2**(2*n) #based on paper\n",
    "        T = 0.1 * 2**(n) #TODO adapt this to E_fun!; currently it's not optimal + save acceptance ratios.\n",
    "        beta = 1/T\n",
    "\n",
    "        cnt_iter_arr=np.zeros((num_runs,))\n",
    "\n",
    "        for rr in range(num_runs): # do a 1000 different runs per algos, it's stochastic so we need statistics\n",
    "\n",
    "            p_new = 2*np.random.randint(2**(n-1)-1)+3\n",
    "            E_new = E_fun(p_new,N=N,E_fun_type=E_fun_type)\n",
    "            cnt_iter = 0\n",
    "            while (cnt_iter<max_iter) and (E_new>0): # keep on guessing using monte carlo algorithm\n",
    "                #save data\n",
    "                p_old=p_new\n",
    "                E_old=E_new\n",
    "\n",
    "                #TODO remove while loop, get better solution if p_new=1\n",
    "                while (p_new==p_old): # avoid getting p_new = 1, as this gives wrong result\n",
    "                    #propose flip\n",
    "                    bit_pos=np.random.randint(n-1) # only odd numbers >1 can be wanted prime, don't pick bit 0\n",
    "                    #speedup proposal: https://eli.thegreenplace.net/2018/slow-and-fast-methods-for-generating-random-integers-in-python/\n",
    "                    p_new=p_old ^ 2**(bit_pos+1) # flip bit using XOR\n",
    "                    if p_new==1:\n",
    "                        p_new=p_old\n",
    "                # p_new=(p_old-2) ^ 2**(bit_pos+1)+2 # flip bit using XOR\n",
    "                E_new=E_fun(p_new,N=N,E_fun_type=E_fun_type)\n",
    "                D_E=E_new-E_old\n",
    "                #check whether we accept flip\n",
    "                u=random.random()\n",
    "                p_flip=min(1,np.exp(-beta*D_E))\n",
    "\n",
    "                #else:\n",
    "                if (p_flip>u):#accept flips\n",
    "                    pass\n",
    "                else:#reset\n",
    "                    p_new=p_old\n",
    "                    E_new=E_old\n",
    "\n",
    "                cnt_iter+=1\n",
    "\n",
    "\n",
    "            if cnt_iter==max_iter:\n",
    "                print(\"Reached maximum number of iterations for n: \",n,\" N: \",N)\n",
    "                cnt_failed_calc+=1\n",
    "                cnt_failed_calc_per_N+=1\n",
    "            cnt_iter_arr[rr]=(cnt_iter+1) # initial condition = also counted as iteration.\n",
    "\n",
    "        print(\"Percentage failed calculations: \",cnt_failed_calc/num_runs*100,\"%\")\n",
    "        data_arr[nn,0]=n    \n",
    "        data_arr[nn,1]=np.mean(cnt_iter_arr)\n",
    "        data_arr[nn,2]=np.std(cnt_iter_arr)\n",
    "        data_arr[nn,3]=np.min(cnt_iter_arr)\n",
    "        data_arr[nn,4]=np.max(cnt_iter_arr)\n",
    "        data_arr[nn,5]=np.median(cnt_iter_arr)\n",
    "\n",
    "    print(\"Failed calculations: \",cnt_failed_calc)\n",
    "    return data_arr\n"
   ]
  },
  {
   "cell_type": "raw",
   "metadata": {},
   "source": [
    "# NOW THE FUNCTION IS COMPILED, RE-TIME IT EXECUTING FROM CACHE\n",
    "start = time.time()\n",
    "data_arr=perform_prime_factorization(problem_and_sol_arr,num_runs = 1000,\n",
    "                                     max_iter = None,N_cases=8, #problem_and_sol_arr.shape[0]\n",
    "                                    E_fun_type=0)\n",
    "end = time.time()\n",
    "print(\"Elapsed (after compilation) = %s\" % (end - start))\n",
    "\n",
    "# Elapsed (after compilation) = 111.887000084; 116.548000097; no idea why it takes double in time today (5/6/2020)"
   ]
  },
  {
   "cell_type": "code",
   "execution_count": 13,
   "metadata": {},
   "outputs": [
    {
     "name": "stdout",
     "output_type": "stream",
     "text": [
      "Number of bits n= 3\n",
      "Percentage failed calculations:  0.0 %\n",
      "Number of bits n= 4\n",
      "Percentage failed calculations:  0.0 %\n",
      "Number of bits n= 10\n",
      "Percentage failed calculations:  0.0 %\n",
      "Number of bits n= 12\n",
      "Percentage failed calculations:  0.0 %\n",
      "Number of bits n= 14\n",
      "Percentage failed calculations:  0.0 %\n",
      "Number of bits n= 16\n",
      "Percentage failed calculations:  0.0 %\n",
      "Number of bits n= 18\n",
      "Percentage failed calculations:  0.0 %\n",
      "Number of bits n= 20\n",
      "Percentage failed calculations:  0.0 %\n",
      "Failed calculations:  0\n",
      "Elapsed (after compilation) = 69.6629998684\n"
     ]
    }
   ],
   "source": [
    "# NOW THE FUNCTION IS COMPILED, RE-TIME IT EXECUTING FROM CACHE\n",
    "start = time.time()\n",
    "data_arr=perform_prime_factorization(problem_and_sol_arr,num_runs = 1000,\n",
    "                                     max_iter = None,N_cases=8, #problem_and_sol_arr.shape[0]\n",
    "                                    E_fun_type=0,\n",
    "                                    noise_fun_type=0)\n",
    "end = time.time()\n",
    "print(\"Elapsed (after compilation) = %s\" % (end - start))\n",
    "\n",
    "#N_cases=9; up to n bits = 22: Failed calculations:  0; Elapsed (after compilation) = 470.773000002"
   ]
  },
  {
   "cell_type": "code",
   "execution_count": 14,
   "metadata": {},
   "outputs": [
    {
     "name": "stdout",
     "output_type": "stream",
     "text": [
      "Number of bits n= 3\n",
      "Percentage failed calculations:  0.0 %\n",
      "Number of bits n= 4\n",
      "Percentage failed calculations:  0.0 %\n",
      "Number of bits n= 10\n",
      "Percentage failed calculations:  0.0 %\n",
      "Failed calculations:  0\n",
      "Elapsed (after compilation) = 9.46200013161\n"
     ]
    }
   ],
   "source": [
    "# NOW THE FUNCTION IS COMPILED, RE-TIME IT EXECUTING FROM CACHE\n",
    "start = time.time()\n",
    "data_arr_nft1=perform_prime_factorization(problem_and_sol_arr,num_runs = 1000,\n",
    "                                     max_iter = None,N_cases=3, #problem_and_sol_arr.shape[0]\n",
    "                                    noise_fun_type=1)\n",
    "end = time.time()\n",
    "print(\"Elapsed (after compilation) = %s\" % (end - start))"
   ]
  },
  {
   "cell_type": "code",
   "execution_count": 15,
   "metadata": {},
   "outputs": [
    {
     "name": "stdout",
     "output_type": "stream",
     "text": [
      "Number of bits n= 3\n",
      "Percentage failed calculations:  0.0 %\n",
      "Number of bits n= 4\n",
      "Percentage failed calculations:  0.0 %\n",
      "Number of bits n= 10\n",
      "Percentage failed calculations:  0.0 %\n",
      "Number of bits n= 12\n",
      "Percentage failed calculations:  0.0 %\n",
      "Number of bits n= 14\n",
      "Percentage failed calculations:  0.0 %\n",
      "Number of bits n= 16\n",
      "Percentage failed calculations:  0.0 %\n",
      "Number of bits n= 18\n",
      "Percentage failed calculations:  0.0 %\n",
      "Number of bits n= 20\n",
      "Percentage failed calculations:  0.0 %\n",
      "Failed calculations:  0\n",
      "Elapsed (after compilation) = 24.6819999218\n"
     ]
    }
   ],
   "source": [
    "# NOW THE FUNCTION IS COMPILED, RE-TIME IT EXECUTING FROM CACHE\n",
    "start = time.time()\n",
    "data_arr_nft2=perform_prime_factorization(problem_and_sol_arr,num_runs = 1000,\n",
    "                                     max_iter = None,N_cases=8, #problem_and_sol_arr.shape[0]\n",
    "                                    noise_fun_type=2)\n",
    "end = time.time()\n",
    "print(\"Elapsed (after compilation) = %s\" % (end - start))\n",
    "\n",
    "#N_cases=9; up to n bits = 22: Failed calculations:  0; Elapsed (after compilation) = 470.773000002"
   ]
  },
  {
   "cell_type": "code",
   "execution_count": 16,
   "metadata": {},
   "outputs": [
    {
     "name": "stdout",
     "output_type": "stream",
     "text": [
      "Number of bits n= 3\n",
      "Percentage failed calculations:  0.0 %\n",
      "Number of bits n= 4\n",
      "Percentage failed calculations:  0.0 %\n",
      "Number of bits n= 10\n",
      "Percentage failed calculations:  0.0 %\n",
      "Number of bits n= 12\n",
      "Percentage failed calculations:  0.0 %\n",
      "Number of bits n= 14\n",
      "Percentage failed calculations:  0.0 %\n",
      "Number of bits n= 16\n",
      "Percentage failed calculations:  0.0 %\n",
      "Number of bits n= 18\n",
      "Percentage failed calculations:  0.0 %\n",
      "Number of bits n= 20\n",
      "Percentage failed calculations:  0.0 %\n",
      "Failed calculations:  0\n",
      "Elapsed (after compilation) = 29.4329998493\n"
     ]
    }
   ],
   "source": [
    "# NOW THE FUNCTION IS COMPILED, RE-TIME IT EXECUTING FROM CACHE\n",
    "start = time.time()\n",
    "data_arr_nft3=perform_prime_factorization(problem_and_sol_arr,num_runs = 1000,\n",
    "                                     max_iter = None,N_cases=8, #problem_and_sol_arr.shape[0]\n",
    "                                    noise_fun_type=3)\n",
    "end = time.time()\n",
    "print(\"Elapsed (after compilation) = %s\" % (end - start))"
   ]
  },
  {
   "cell_type": "code",
   "execution_count": 17,
   "metadata": {},
   "outputs": [
    {
     "name": "stdout",
     "output_type": "stream",
     "text": [
      "Number of bits n= 3\n",
      "Percentage failed calculations:  0.0 %\n",
      "Number of bits n= 4\n",
      "Percentage failed calculations:  0.0 %\n",
      "Number of bits n= 10\n",
      "Percentage failed calculations:  0.0 %\n",
      "Number of bits n= 12\n",
      "Percentage failed calculations:  0.0 %\n",
      "Number of bits n= 14\n",
      "Percentage failed calculations:  0.0 %\n",
      "Number of bits n= 16\n",
      "Percentage failed calculations:  0.0 %\n",
      "Number of bits n= 18\n",
      "Percentage failed calculations:  0.0 %\n",
      "Number of bits n= 20\n",
      "Percentage failed calculations:  0.0 %\n",
      "Failed calculations:  0\n",
      "Elapsed (after compilation) = 0.810000181198\n"
     ]
    }
   ],
   "source": [
    "# NOW THE FUNCTION IS COMPILED, RE-TIME IT EXECUTING FROM CACHE\n",
    "start = time.time()\n",
    "data_arr_Eft1=perform_prime_factorization(problem_and_sol_arr,num_runs = 10,\n",
    "                                          max_iter = None,N_cases=8, #problem_and_sol_arr.shape[0]\n",
    "                                          noise_fun_type=0,E_fun_type=1,max_iter_default=-1,\n",
    "                                          T0=0.05,\n",
    "                                          T_base=2**2.,#T_base = 2**2 is very important!\n",
    "                                          verbosity=0)\n",
    "end = time.time()\n",
    "print(\"Elapsed (after compilation) = %s\" % (end - start))"
   ]
  },
  {
   "cell_type": "code",
   "execution_count": 18,
   "metadata": {},
   "outputs": [
    {
     "name": "stdout",
     "output_type": "stream",
     "text": [
      "Number of bits n= 3\n",
      "Percentage failed calculations:  0.0 %\n",
      "Number of bits n= 4\n",
      "Percentage failed calculations:  0.0 %\n",
      "Failed calculations:  0\n",
      "Elapsed (after compilation) = 0.0019998550415\n"
     ]
    }
   ],
   "source": [
    "# NOW THE FUNCTION IS COMPILED, RE-TIME IT EXECUTING FROM CACHE\n",
    "start = time.time()\n",
    "data_arr_Eft2=perform_prime_factorization(problem_and_sol_arr,num_runs = 10,\n",
    "                                          max_iter = None,N_cases=2, #problem_and_sol_arr.shape[0]\n",
    "                                          noise_fun_type=0,E_fun_type=2,max_iter_default=-1,\n",
    "                                          T0=0.1,\n",
    "                                          T_base=2**2.,#T_base = 2**2 is very important!\n",
    "                                          verbosity=0)\n",
    "end = time.time()\n",
    "print(\"Elapsed (after compilation) = %s\" % (end - start))"
   ]
  },
  {
   "cell_type": "code",
   "execution_count": 19,
   "metadata": {},
   "outputs": [
    {
     "name": "stdout",
     "output_type": "stream",
     "text": [
      "3.0 1.329 : 12288 5000 ; 12288 1536 ; 12288.0\n",
      "4.0 2.923 : 196608 12288 ; 196608 12288 ; 196608.0\n",
      "10.0 840.813 : 3298534883328 3221225472 ; 3298534883328 3221225472 ; 3.29853488333e+12\n",
      "12.0 1859.18 : 844424930131968 206158430208 ; 844424930131968 206158430208 ; 8.44424930132e+14\n",
      "14.0 6710.306 : 216172782113783808 13194139533312 ; 216172782113783808 13194139533312 ; 2.16172782114e+17\n",
      "16.0 42144.287 : 5000 844424930131968 ; 0 844424930131968 ; 5.53402322211e+19\n",
      "18.0 83326.153 : 5000 54043195528445952 ; 0 54043195528445952 ; 1.41670994486e+22\n",
      "20.0 969963.071 : 5000 3458764513820540928 ; 0 3458764513820540928 ; 3.62677745884e+24\n",
      "0.0 0.0 : 5000 5000 ; 0 0 ; 9.28455029464e+26\n",
      "0.0 0.0 : 5000 5000 ; 0 0 ; 2.37684487543e+29\n",
      "0.0 0.0 : 5000 5000 ; 0 0 ; 6.0847228811e+31\n",
      "0.0 0.0 : 5000 5000 ; 0 0 ; 1.55768905756e+34\n",
      "0.0 0.0 : 5000 5000 ; 0 0 ; 3.98768398735e+36\n",
      "5.64385618977\n"
     ]
    }
   ],
   "source": [
    "#KNOWN ISSUE, BUT TRICKY: for numpy power overflow is known: https://github.com/numpy/numpy/issues/10964\n",
    "# in our case n is a value from data_arr, so we have the overflow issue.\n",
    "\n",
    "#look at results to debug code! and compare with current threshold mechanism for max iteration -> clearly I found the culprit :-(\n",
    "for iii,jjj,n in zip(data_arr[:,0],data_arr[:,1],problem_and_sol_arr[:,0]):\n",
    "    #print(iii,jjj,\":\",max(3*2**(4*n),5000),max(3*2**(3*n),5000),\";\",3*2**(4*n),3*2**(3*n))\n",
    "    print(iii,jjj,\":\",max(3*2**(4*n),5000),max(3*2**(3*n),5000),\";\",3*2**(4*n),3*2**(3*n),\";\",3*2**(4.*n))#making it a float works! \n",
    "    \n",
    "print(np.log2(50))\n",
    "\n",
    "\n",
    "    \n",
    "#In my simulations up to now (5/6/2020) I was using max(3*2**(4*n),5000) and from n=22 things started failing, I now see why,\n",
    "#it's overflowing."
   ]
  },
  {
   "cell_type": "code",
   "execution_count": 20,
   "metadata": {},
   "outputs": [
    {
     "data": {
      "image/png": "[encoded data removed]",
      "text/plain": [
       "<matplotlib.figure.Figure at 0xe779e10>"
      ]
     },
     "metadata": {},
     "output_type": "display_data"
    }
   ],
   "source": [
    "#TODO: errorbars in this loglog plot, code can be found here: https://matplotlib.org/2.0.2/examples/pylab_examples/log_demo.html.\n",
    "\n",
    "plt.figure(0)\n",
    "plt.semilogy(problem_and_sol_arr[:,0],2**(problem_and_sol_arr[:,0])/2.,\"orange\",label=\"Sample $\\in[1..2^{ceil(log2(N)/2)}]$\")\n",
    "# ..-1 because 1 is not our prime number\n",
    "plt.semilogy(problem_and_sol_arr[:,0],(2**(problem_and_sol_arr[:,0])/2.+1)//2-1,\"k\",label=\"Sample odd nrs $\\in[3..2^{ceil(log2(N)/2)}]$\")\n",
    "#plt.semilogy(problem_and_sol_arr[:,0],problem_and_sol_arr[:,-1]**.5,\"k--\",label=r\"Count up to $N^{1/2}$\")\n",
    "plt.semilogy(problem_and_sol_arr[:,0],np.floor(problem_and_sol_arr[:,-1]**.5+1)//2-1,\"k--\",label=r\"Count odd nrs.>1 up to $N^{1/2}$\")\n",
    "plt.semilogy(data_arr[:,0],data_arr[:,1],\"r\",label=r\"|N mod p|\")\n",
    "leg=plt.legend(loc=0)\n",
    "leg.draw_frame(False)\n",
    "plt.xlabel(\"Number of bits\")\n",
    "plt.ylabel(\"Number of iterations\")\n",
    "#TODO: plot errorbars.\n",
    "plt.show()\n"
   ]
  },
  {
   "cell_type": "code",
   "execution_count": 21,
   "metadata": {},
   "outputs": [
    {
     "name": "stderr",
     "output_type": "stream",
     "text": [
      "C:\\Users\\vanvaere\\.conda\\envs\\jupyterlab\\lib\\site-packages\\matplotlib\\transforms.py:661: RuntimeWarning: invalid value encountered in absolute\n",
      "  inside = ((abs(dx0 + dx1) + abs(dy0 + dy1)) == 0)\n"
     ]
    },
    {
     "data": {
      "image/png": "[encoded data removed]",
      "text/plain": [
       "<matplotlib.figure.Figure at 0xd2fda58>"
      ]
     },
     "metadata": {},
     "output_type": "display_data"
    }
   ],
   "source": [
    "plt.figure(1)\n",
    "plt.clf()\n",
    "#plt.semilogy(problem_and_sol_arr[:,0],2**(problem_and_sol_arr[:,0])/2.,\"orange\",label=\"Sample $\\in[1..2^{ceil(log2(N)/2)}]$\")\n",
    "# ..-1 because 1 is not our prime number\n",
    "plt.semilogy(problem_and_sol_arr[:,0],(2**(problem_and_sol_arr[:,0])/2.+1)//2-1,\"k\",alpha=0.5,\n",
    "             label=\"Sample odd nrs $\\in[3..2^{ceil(log2(N)/2)}]$\")\n",
    "#plt.semilogy(problem_and_sol_arr[:,0],problem_and_sol_arr[:,-1]**.5,\"k--\",label=r\"Count up to $N^{1/2}$\")\n",
    "#plt.semilogy(problem_and_sol_arr[:,0],np.floor(problem_and_sol_arr[:,-1]**.5+1)//2-1,\"k--\",label=r\"Count odd nrs.>1 up to $N^{1/2}$\")\n",
    "plt.semilogy(data_arr[:,0],data_arr[:,1],\"r\",label=r\"|N mod p|\")\n",
    "plt.semilogy(data_arr_nft1[:,0],data_arr_nft1[:,1],\"b\",label=r\"|N mod p|; $T \\propto 2^i$\")\n",
    "plt.semilogy(data_arr_nft2[:,0],data_arr_nft2[:,1],\"g\",label=r\"|N mod p|; $T \\propto 2^{i+n}$\")\n",
    "plt.semilogy(data_arr_nft3[:,0],data_arr_nft3[:,1],\"cyan\",label=r\"|N mod p|; $T \\propto 2^{2i}$\")\n",
    "leg=plt.legend(loc=0)\n",
    "leg.draw_frame(False)\n",
    "plt.xlabel(\"Number of bits\")\n",
    "plt.ylabel(\"Number of iterations\")\n",
    "#TODO: plot errorbars.\n",
    "plt.show()"
   ]
  },
  {
   "cell_type": "code",
   "execution_count": 22,
   "metadata": {},
   "outputs": [
    {
     "name": "stdout",
     "output_type": "stream",
     "text": [
      "Number of bits n= 3\n",
      "Percentage failed calculations:  0.0 %\n",
      "Number of bits n= 4\n",
      "Percentage failed calculations:  0.0 %\n",
      "Number of bits n= 10\n",
      "Percentage failed calculations:  0.0 %\n",
      "Number of bits n= 12\n",
      "Percentage failed calculations:  0.0 %\n",
      "Number of bits n= 14\n",
      "Percentage failed calculations:  0.0 %\n",
      "Number of bits n= 16\n",
      "Percentage failed calculations:  0.0 %\n",
      "Number of bits n= 18\n",
      "Percentage failed calculations:  0.0 %\n",
      "Failed calculations:  0\n",
      "Elapsed (after compilation) = 14.2139999866\n",
      "Number of bits n= 3\n",
      "Percentage failed calculations:  0.0 %\n",
      "Number of bits n= 4\n",
      "Percentage failed calculations:  0.0 %\n",
      "Number of bits n= 10\n",
      "Percentage failed calculations:  0.0 %\n",
      "Number of bits n= 12\n",
      "Percentage failed calculations:  0.0 %\n",
      "Number of bits n= 14\n",
      "Percentage failed calculations:  0.0 %\n",
      "Number of bits n= 16\n",
      "Percentage failed calculations:  0.0 %\n",
      "Number of bits n= 18\n",
      "Percentage failed calculations:  0.0 %\n",
      "Failed calculations:  0\n",
      "Elapsed (after compilation) = 6.55100011826\n",
      "Number of bits n= 3\n",
      "Percentage failed calculations:  0.0 %\n",
      "Number of bits n= 4\n",
      "Percentage failed calculations:  0.0 %\n",
      "Number of bits n= 10\n",
      "Percentage failed calculations:  0.0 %\n",
      "Number of bits n= 12\n",
      "Percentage failed calculations:  0.0 %\n",
      "Number of bits n= 14\n",
      "Percentage failed calculations:  0.0 %\n",
      "Number of bits n= 16\n",
      "Percentage failed calculations:  0.0 %\n",
      "Number of bits n= 18\n",
      "Percentage failed calculations:  0.0 %\n",
      "Failed calculations:  0\n",
      "Elapsed (after compilation) = 6.0150001049\n",
      "Number of bits n= 3\n",
      "Percentage failed calculations:  0.0 %\n",
      "Number of bits n= 4\n",
      "Percentage failed calculations:  0.0 %\n",
      "Number of bits n= 10\n",
      "Percentage failed calculations:  0.0 %\n",
      "Number of bits n= 12\n",
      "Percentage failed calculations:  0.0 %\n",
      "Number of bits n= 14\n",
      "Percentage failed calculations:  0.0 %\n",
      "Number of bits n= 16\n",
      "Percentage failed calculations:  0.0 %\n",
      "Number of bits n= 18\n",
      "Percentage failed calculations:  0.0 %\n",
      "Failed calculations:  0\n",
      "Elapsed (after compilation) = 5.625\n",
      "Number of bits n= 3\n",
      "Percentage failed calculations:  0.0 %\n",
      "Number of bits n= 4\n",
      "Percentage failed calculations:  0.0 %\n",
      "Number of bits n= 10\n",
      "Percentage failed calculations:  0.0 %\n",
      "Number of bits n= 12\n",
      "Percentage failed calculations:  0.0 %\n",
      "Number of bits n= 14\n",
      "Percentage failed calculations:  0.0 %\n",
      "Number of bits n= 16\n",
      "Percentage failed calculations:  0.0 %\n",
      "Number of bits n= 18\n",
      "Percentage failed calculations:  0.0 %\n",
      "Failed calculations:  0\n",
      "Elapsed (after compilation) = 5.78299999237\n"
     ]
    },
    {
     "data": {
      "image/png": "[encoded data removed]",
      "text/plain": [
       "<matplotlib.figure.Figure at 0xce0ccf8>"
      ]
     },
     "metadata": {},
     "output_type": "display_data"
    }
   ],
   "source": [
    "plt.figure(3)\n",
    "plt.clf()\n",
    "plt.semilogy(problem_and_sol_arr[:,0],(2**(problem_and_sol_arr[:,0])/2.+1)//2-1,\"k\",alpha=0.5,\n",
    "             label=\"Sample odd nrs $\\in[3..2^{ceil(log2(N)/2)}]$\")\n",
    "for T0 in [0.0001,0.1,1.0,100.0,1000.]:\n",
    "    # NOW THE FUNCTION IS COMPILED, RE-TIME IT EXECUTING FROM CACHE\n",
    "    start = time.time()\n",
    "    data_arr_Eft2_t0_sw=perform_prime_factorization(problem_and_sol_arr,num_runs = 1000,\n",
    "                                         max_iter = None,N_cases=7, #problem_and_sol_arr.shape[0]\n",
    "                                        noise_fun_type=2,E_fun_type=0,T0=T0)\n",
    "    end = time.time()\n",
    "    print(\"Elapsed (after compilation) = %s\" % (end - start))\n",
    "    plt.semilogy(data_arr_Eft2_t0_sw[:,0],data_arr_Eft2_t0_sw[:,1],label=r\"|N mod p|; $T \\propto 2^{i+n}\"+\";T0={}$\".format(T0))\n",
    "leg=plt.legend(loc=0)\n",
    "leg.draw_frame(False)\n",
    "plt.xlabel(\"Number of bits\")\n",
    "plt.ylabel(\"Number of iterations\")\n",
    "plt.show()"
   ]
  },
  {
   "cell_type": "code",
   "execution_count": 32,
   "metadata": {},
   "outputs": [
    {
     "data": {
      "image/png": "[encoded data removed]",
      "text/plain": [
       "<matplotlib.figure.Figure at 0xc279f28>"
      ]
     },
     "metadata": {},
     "output_type": "display_data"
    },
    {
     "data": {
      "text/plain": [
       "'\\nAll methods are compared to the random search, for which\\nN\\xc2\\xaf = 2**(n\\xe2\\x88\\x922), since\\nwe restrict the search to odd integers, and there are two distinct prime factors. [= what I call \"Henelius random search\"]\\n--> this only works for the specific case where we know that both prime numbers can be represented using an\\n    equal amount of bits, which is not always the case!\\n\\nWe notice that all methods represent slight improvements over the random search, \\nbut no model works better than H1 (absolute value), which scales like 0.58\\xc3\\x972n\\xe2\\x88\\x922 and \\nrequires about half the number of visited states compared to a random search.\\n'"
      ]
     },
     "execution_count": 32,
     "metadata": {},
     "output_type": "execute_result"
    }
   ],
   "source": [
    "#TODO: errorbars in this loglog plot, code can be found here: https://matplotlib.org/2.0.2/examples/pylab_examples/log_demo.html.\n",
    "\n",
    "plt.figure(4,figsize=(8,6))\n",
    "plt.semilogy(problem_and_sol_arr[:,0],2**(problem_and_sol_arr[:,0])/2.,\"orange\",label=\"Sample $\\in[1..2^{ceil(log2(N)/2)}]$\")\n",
    "# ..-1 because 1 is not our prime number\n",
    "plt.semilogy(problem_and_sol_arr[:,0],(2**(problem_and_sol_arr[:,0])/2.+1)//2-1,\"k\",label=\"Sample odd nrs $\\in[3..2^{ceil(log2(N)/2)}]$\")\n",
    "#plt.semilogy(problem_and_sol_arr[:,0],problem_and_sol_arr[:,-1]**.5,\"k--\",label=r\"Count up to $N^{1/2}$\")\n",
    "plt.semilogy(problem_and_sol_arr[:,0],np.floor(problem_and_sol_arr[:,-1]**.5+1)//2-1,\"k--\",label=r\"Count odd nrs.>1 up to $N^{1/2}$\")\n",
    "plt.semilogy(problem_and_sol_arr[:,0],2**(problem_and_sol_arr[:,0]-2),\":\",color=\"gray\",label=r\"ref. Henelius random\")\n",
    "plt.semilogy(data_arr[:,0],data_arr[:,1],\"r.-\",label=r\"|N mod p|\")\n",
    "plt.semilogy(data_arr_Eft1[:,0],data_arr_Eft1[:,1],\"b.-\",label=r\"|N-pq|\")\n",
    "plt.semilogy(problem_and_sol_arr[:,0],0.58*2**(problem_and_sol_arr[:,0]-2),\"-.\",color=\"purple\",label=r\"ref. Henelius H1 fit\")\n",
    "leg=plt.legend(loc=0)\n",
    "leg.draw_frame(False)\n",
    "plt.xlabel(\"Number of bits\")\n",
    "plt.ylabel(\"Number of iterations\")\n",
    "plt.xlim(0,25)\n",
    "#TODO: plot errorbars.\n",
    "plt.show()\n",
    "\n",
    "\"\"\"\n",
    "All methods are compared to the random search, for which\n",
    "N¯ = 2**(n−2), since\n",
    "we restrict the search to odd integers, and there are two distinct prime factors. [= what I call \"Henelius random search\"]\n",
    "--> this only works for the specific case where we know that both prime numbers can be represented using an\n",
    "    equal amount of bits, which is not always the case!\n",
    "\n",
    "We notice that all methods represent slight improvements over the random search, \n",
    "but no model works better than H1 (absolute value), which scales like 0.58×2n−2 and \n",
    "requires about half the number of visited states compared to a random search.\n",
    "\"\"\""
   ]
  },
  {
   "cell_type": "code",
   "execution_count": 24,
   "metadata": {},
   "outputs": [
    {
     "data": {
      "text/plain": [
       "array([  3.,   4.,  10.,  12.,  14.,  16.,  18.,  20.,   0.,   0.,   0.,\n",
       "         0.,   0.])"
      ]
     },
     "execution_count": 24,
     "metadata": {},
     "output_type": "execute_result"
    }
   ],
   "source": [
    "data_arr[0,1];data_arr_Eft1[:,0]"
   ]
  },
  {
   "cell_type": "code",
   "execution_count": 25,
   "metadata": {},
   "outputs": [
    {
     "name": "stdout",
     "output_type": "stream",
     "text": [
      "3.87298334621 1.0\n",
      "5.9160797831 2.0\n",
      "1\n",
      "1\n"
     ]
    }
   ],
   "source": [
    "# count all odd numbers, excluding 1 up to sqrt(N)\n",
    "print((15**.5),np.floor(15**.5+1)//2-1) # check counting of odd numbers up to square of to be decomposed number\n",
    "print((35**.5),np.floor(35**.5+1)//2-1)\n",
    "\n",
    "# for this test case we know that both p and q have same number of bits, so only count those odd numbers.\n",
    "# does not work for this one: print((15**.5),np.floor(15**.5+1)//2-1) # check counting of odd numbers up to square of to be decomposed number\n",
    "n = 3\n",
    "# n-2 because first and last bit fixed; + there are two numbers in that range!\n",
    "print(2**(n-2)//2)\n",
    "\n",
    "# do as if we don't know both numbers have same number of bits; but sample two odd numbers, excluding 1\n",
    "print(2**(n-1)//2-1)"
   ]
  },
  {
   "cell_type": "code",
   "execution_count": 26,
   "metadata": {},
   "outputs": [
    {
     "name": "stdout",
     "output_type": "stream",
     "text": [
      "3.90689059561 5.12928301694\n",
      "1.58496250072 2.32192809489 2.80735492206\n"
     ]
    }
   ],
   "source": [
    "print(np.log2(15),np.log2(35))\n",
    "print(np.log2(3),np.log2(5),np.log2(7))"
   ]
  },
  {
   "cell_type": "code",
   "execution_count": 27,
   "metadata": {},
   "outputs": [
    {
     "data": {
      "text/plain": [
       "0"
      ]
     },
     "execution_count": 27,
     "metadata": {},
     "output_type": "execute_result"
    }
   ],
   "source": [
    "15%1\n"
   ]
  },
  {
   "cell_type": "code",
   "execution_count": 28,
   "metadata": {},
   "outputs": [
    {
     "name": "stdout",
     "output_type": "stream",
     "text": [
      "method 1\n",
      "[1]\n",
      "[5]\n",
      "[9]\n",
      "[1]\n",
      "[5]\n",
      "[1]\n",
      "[1]\n",
      "[3]\n",
      "[15]\n",
      "[13]\n",
      "[1]\n",
      "[11]\n",
      "[5]\n",
      "[9]\n",
      "[3]\n",
      "[11]\n",
      "[15]\n",
      "[13]\n",
      "[13]\n",
      "[7]\n",
      "method 2\n",
      "3\n",
      "3\n",
      "3\n",
      "15\n",
      "13\n",
      "13\n",
      "3\n",
      "9\n",
      "13\n",
      "5\n",
      "7\n",
      "9\n",
      "9\n",
      "7\n",
      "5\n",
      "9\n",
      "9\n",
      "3\n",
      "11\n",
      "3\n",
      "11\n",
      "5\n",
      "13\n",
      "3\n",
      "5\n",
      "13\n",
      "11\n",
      "11\n",
      "15\n",
      "3\n",
      "13\n",
      "11\n",
      "13\n",
      "3\n",
      "3\n",
      "3\n",
      "9\n",
      "5\n",
      "11\n",
      "3\n"
     ]
    }
   ],
   "source": [
    "n=4\n",
    "print(\"method 1\")\n",
    "# this still gives 1 as initial condition:\n",
    "for ii in range(20):\n",
    "    p_new = packbits(np.random.randint(2, size=(n-1)),(n-1))*2+1\n",
    "    print(p_new)\n",
    "print(\"method 2\")   \n",
    "# this doesn't give one as itnitial condition\n",
    "for ii in range(40):   \n",
    "    p_new = 2*np.random.randint(2**(n-1)-1)+3\n",
    "    print(p_new)\n"
   ]
  },
  {
   "cell_type": "code",
   "execution_count": 29,
   "metadata": {},
   "outputs": [
    {
     "data": {
      "text/plain": [
       "4"
      ]
     },
     "execution_count": 29,
     "metadata": {},
     "output_type": "execute_result"
    }
   ],
   "source": [
    "np.random.randint(2**(n-1))\n"
   ]
  },
  {
   "cell_type": "code",
   "execution_count": 30,
   "metadata": {},
   "outputs": [
    {
     "data": {
      "text/plain": [
       "array([  3.,   4.,  10.,  12.,  14.,  16.,  18.,  20.,   0.,   0.,   0.,\n",
       "         0.,   0.])"
      ]
     },
     "execution_count": 30,
     "metadata": {},
     "output_type": "execute_result"
    }
   ],
   "source": [
    "data_arr[:,0]"
   ]
  },
  {
   "cell_type": "markdown",
   "metadata": {
    "collapsed": true
   },
   "source": [
    "TODO:\n",
    "    - Do sweeps of noise for every integer size - optimize it to get better scaling\n",
    "        Spin index dependent noise?\n",
    "    - Implement other Energies and test scaling\n",
    "    - Implement (p,q spin set)\n",
    "    - Make acceptance ratio plots. #paper claims that tweaking acceptance ratio isn't really causing too much difference.\n",
    "    - Proof mathematically mapping between MCMC and Hopfield by doing case-study (flip/no flip)\n",
    "    "
   ]
  },
  {
   "cell_type": "code",
   "execution_count": 31,
   "metadata": {},
   "outputs": [
    {
     "data": {
      "text/plain": [
       "3"
      ]
     },
     "execution_count": 31,
     "metadata": {},
     "output_type": "execute_result"
    }
   ],
   "source": [
    "15//4"
   ]
  },
  {
   "cell_type": "code",
   "execution_count": null,
   "metadata": {
    "collapsed": true
   },
   "outputs": [],
   "source": []
  },
  {
   "cell_type": "code",
   "execution_count": null,
   "metadata": {
    "collapsed": true
   },
   "outputs": [],
   "source": []
  }
 ],
 "metadata": {
  "anaconda-cloud": {},
  "kernelspec": {
   "display_name": "Python 2",
   "language": "python",
   "name": "python2"
  },
  "language_info": {
   "codemirror_mode": {
    "name": "ipython",
    "version": 2
   },
   "file_extension": ".py",
   "mimetype": "text/x-python",
   "name": "python",
   "nbconvert_exporter": "python",
   "pygments_lexer": "ipython2",
   "version": "2.7.13"
  }
 },
 "nbformat": 4,
 "nbformat_minor": 2
}
