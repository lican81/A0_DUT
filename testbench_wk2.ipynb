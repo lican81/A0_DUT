{
 "cells": [
  {
   "cell_type": "code",
   "execution_count": 4,
   "metadata": {},
   "outputs": [
    {
     "name": "stdout",
     "output_type": "stream",
     "text": [
      "Serial port disconnected.\n"
     ]
    }
   ],
   "source": [
    "dut.disconnect()"
   ]
  },
  {
   "cell_type": "code",
   "execution_count": null,
   "metadata": {},
   "outputs": [],
   "source": [
    "dut.ground_PIC()"
   ]
  },
  {
   "cell_type": "code",
   "execution_count": 2,
   "metadata": {},
   "outputs": [
    {
     "name": "stdout",
     "output_type": "stream",
     "text": [
      "DAC initialized to a span from -5 V to 5 V\n"
     ]
    }
   ],
   "source": [
    "dut.power_off()"
   ]
  },
  {
   "cell_type": "code",
   "execution_count": 2,
   "metadata": {},
   "outputs": [],
   "source": [
    "%reload_ext autoreload\n",
    "%autoreload\n",
    "\n",
    "import dut_func as dut\n",
    "import serial\n",
    "import time\n",
    "import struct\n",
    "import numpy as np\n",
    "# from bitarray import bitarray\n",
    "from bitstring import BitArray\n",
    "import matplotlib.pyplot as plt\n",
    "\n",
    "from misc import *\n",
    "\n",
    "# dut.drv.serUSB = 'COM19'\n",
    "drv = dut.drv\n",
    "\n",
    "ser = serial.Serial('COM6', 9600, timeout=1)\n",
    "dut.connect(ser)"
   ]
  },
  {
   "cell_type": "code",
   "execution_count": 3,
   "metadata": {},
   "outputs": [
    {
     "name": "stdout",
     "output_type": "stream",
     "text": [
      "DAC initialized to a span from -5 V to 5 V\n"
     ]
    }
   ],
   "source": [
    "dut.power_on()"
   ]
  },
  {
   "cell_type": "markdown",
   "metadata": {},
   "source": [
    "Calibrate all 12 ADCs on A0"
   ]
  },
  {
   "cell_type": "code",
   "execution_count": 5,
   "metadata": {},
   "outputs": [
    {
     "data": {
      "image/png": "[encoded data removed]",
      "text/plain": [
       "<Figure size 432x288 with 1 Axes>"
      ]
     },
     "metadata": {
      "needs_background": "light"
     },
     "output_type": "display_data"
    }
   ],
   "source": [
    "for addr_fifo in range(12):\n",
    "    volt_in = np.arange(0.5, 4.5, 0.5)\n",
    "    data = dut.calibrate_adc(volt_in, addr_fifo=addr_fifo )\n",
    "    volt_out = [dut.adc2volt(d) for d in data]\n",
    "\n",
    "    plt.plot(volt_in, volt_out, '.-', alpha=0.3)"
   ]
  },
  {
   "cell_type": "code",
   "execution_count": 21,
   "metadata": {},
   "outputs": [],
   "source": [
    "drv.gpio_pin_reset(*PIC_PINS['READ_DPE'])\n",
    "drv.gpio_pin_reset(*PIC_PINS['READ_BIT'])\n",
    "dut.pads_defaults()\n",
    "\n",
    "dut.scan_tia( BitArray('0b1100000100'*96).bytes )\n",
    "\n",
    "dut.load_vectors_rows_to_zero()\n",
    "dut.load_vectors_cols_to_zero()\n",
    "\n",
    "drv.gpio_array_en_write(0b010)\n",
    "drv.gpio_pin_set(*PIC_PINS['COL_ROW_SEL'])\n",
    "drv.gpio_row_col_bank_write(0b0001)\n",
    "drv.gpio_row_col_data_write(0b1000_0000_0000_0000)\n",
    "time.sleep(1e-5)\n",
    "drv.gpio_pin_set(*PIC_PINS['LATCH_CLK_DATA'])\n",
    "time.sleep(1e-5)\n",
    "drv.gpio_pin_reset(*PIC_PINS['LATCH_CLK_DATA'])\n",
    "\n",
    "dut.reset_dpe()"
   ]
  },
  {
   "cell_type": "code",
   "execution_count": 22,
   "metadata": {},
   "outputs": [],
   "source": [
    "drv.gpio_pin_set(*PIC_PINS['WRITE_SEL_EXT'])\n",
    "drv.gpio_pin_set(*PIC_PINS['DPE_EXT_OVERRIDE_EN'])                 \n",
    "time.sleep(5e-6)   \n",
    "drv.gpio_nforce_safe_write(0b010)\n",
    "time.sleep(5e-6)        # delay(t_cal_start), min = 2TCK\n",
    "drv.gpio_pin_set(*PIC_PINS['COL_WRITE_CONNECT'])\n",
    "time.sleep(5e-6)        # delay(t_opamp), min = 500ns\n",
    "drv.gpio_pin_set(*PIC_PINS['CONNECT_TIA'])\n",
    "#drv.gpio_pin_set(*PIC_PINS['DPE_EXT_SH'])"
   ]
  },
  {
   "cell_type": "code",
   "execution_count": 23,
   "metadata": {},
   "outputs": [],
   "source": [
    "# Before setting this, we're using an external current source to apply to the board!\n",
    "drv.gpio_pin_set(*PIC_PINS['DPE_EXT_SH'])"
   ]
  },
  {
   "cell_type": "code",
   "execution_count": 24,
   "metadata": {},
   "outputs": [
    {
     "name": "stdout",
     "output_type": "stream",
     "text": [
      "0110001000000 -> 0.719\n",
      "0110000000000 -> 0.500\n",
      "0110000000000 -> 0.500\n",
      "0110000000000 -> 0.500\n",
      "0110000000000 -> 0.500\n",
      "0110000000000 -> 0.500\n",
      "0110000000000 -> 0.500\n",
      "0111101111110 -> 3.559\n",
      "0100000000000 -> 0.500\n",
      "0100000000000 -> 0.500\n",
      "0100000000000 -> 0.500\n",
      "0100000000000 -> 0.500\n",
      "0100000001000 -> 0.527\n",
      "0100000000000 -> 0.500\n",
      "0100000000000 -> 0.500\n",
      "0100000000000 -> 0.500\n"
     ]
    }
   ],
   "source": [
    "n_adc = 2\n",
    "\n",
    "data = dut.download_fifo( n_adc )\n",
    "\n",
    "for d in data:\n",
    "    print(f'{d:013b} -> {dut.adc2volt(d):.3f}')\n",
    "    \n",
    "# drv.gpio_adc_fifo_en_write(n_adc)\n",
    "\n",
    "# for strobe in range(15):\n",
    "#     drv.gpio_pin_set(*PIC_PINS['ADC_FIFO_ADVANCE'])\n",
    "#     drv.gpio_pin_reset(*PIC_PINS['ADC_FIFO_ADVANCE'])\n",
    "#     data = drv.gpio_adc_read()\n",
    "#     print(f'{data:013b}', end='\\t')\n",
    "#     #print(strobe)\n",
    "#     print( f'{dut.adc2volt(data):.3f} V' )\n",
    "# print()"
   ]
  },
  {
   "cell_type": "code",
   "execution_count": 16,
   "metadata": {},
   "outputs": [
    {
     "name": "stdout",
     "output_type": "stream",
     "text": [
      "0100000000000 -> 0.500\n",
      "0100000000000 -> 0.500\n",
      "0100000000000 -> 0.500\n",
      "0100000000000 -> 0.500\n",
      "0100000000000 -> 0.500\n",
      "0100000000000 -> 0.500\n",
      "0100000000000 -> 0.500\n",
      "0100000000000 -> 0.500\n",
      "0100000000000 -> 0.500\n",
      "0100000000000 -> 0.500\n",
      "0100000000000 -> 0.500\n",
      "0100000000000 -> 0.500\n",
      "0100000000000 -> 0.500\n",
      "0100000000000 -> 0.500\n",
      "0100000000000 -> 0.500\n",
      "0100000000000 -> 0.500\n",
      "\n",
      "0100000000000 -> 0.500\n",
      "0100000000000 -> 0.500\n",
      "0100000000000 -> 0.500\n",
      "0100000000000 -> 0.500\n",
      "0100000000000 -> 0.500\n",
      "0100000000000 -> 0.500\n",
      "0100000000000 -> 0.500\n",
      "0100000000000 -> 0.500\n",
      "0100000000000 -> 0.500\n",
      "0100000000000 -> 0.500\n",
      "0100000000000 -> 0.500\n",
      "0100000000000 -> 0.500\n",
      "0100000000000 -> 0.500\n",
      "0100000000000 -> 0.500\n",
      "0100000000000 -> 0.500\n",
      "0100000000000 -> 0.500\n",
      "\n",
      "0100001000000 -> 0.719\n",
      "0100000000000 -> 0.500\n",
      "0100000000000 -> 0.500\n",
      "0100000000000 -> 0.500\n",
      "0100000000001 -> 0.503\n",
      "0100000000000 -> 0.500\n",
      "0100000000000 -> 0.500\n",
      "0101101111111 -> 3.562\n",
      "0100000000000 -> 0.500\n",
      "0100000000000 -> 0.500\n",
      "0100000000000 -> 0.500\n",
      "0100000000000 -> 0.500\n",
      "0100000001000 -> 0.527\n",
      "0100000000000 -> 0.500\n",
      "0100000000000 -> 0.500\n",
      "0100000000000 -> 0.500\n",
      "\n",
      "0100000000000 -> 0.500\n",
      "0100000000100 -> 0.514\n",
      "0100000000000 -> 0.500\n",
      "0100000000000 -> 0.500\n",
      "0100000000000 -> 0.500\n",
      "0100000000000 -> 0.500\n",
      "0100000000000 -> 0.500\n",
      "0100000000000 -> 0.500\n",
      "0100000000000 -> 0.500\n",
      "0100000000000 -> 0.500\n",
      "0100000000000 -> 0.500\n",
      "0100000000000 -> 0.500\n",
      "0100000000000 -> 0.500\n",
      "0100000000000 -> 0.500\n",
      "0100000000000 -> 0.500\n",
      "0100000000000 -> 0.500\n",
      "\n",
      "0100000000000 -> 0.500\n",
      "0100000000000 -> 0.500\n",
      "0100000000000 -> 0.500\n",
      "0100000000000 -> 0.500\n",
      "0100000000000 -> 0.500\n",
      "0100000000000 -> 0.500\n",
      "0100000000000 -> 0.500\n",
      "0100000000000 -> 0.500\n",
      "0100000000000 -> 0.500\n",
      "0100000000000 -> 0.500\n",
      "0100000000000 -> 0.500\n",
      "0100000000000 -> 0.500\n",
      "0100000000000 -> 0.500\n",
      "0100000000000 -> 0.500\n",
      "0100000000000 -> 0.500\n",
      "0100000000000 -> 0.500\n",
      "\n",
      "0100000000000 -> 0.500\n",
      "0100000000000 -> 0.500\n",
      "0100000000000 -> 0.500\n",
      "0100000000000 -> 0.500\n",
      "0100000000000 -> 0.500\n",
      "0100000000000 -> 0.500\n",
      "0100000000000 -> 0.500\n",
      "0100000000000 -> 0.500\n",
      "0100000000000 -> 0.500\n",
      "0100000000000 -> 0.500\n",
      "0100000000000 -> 0.500\n",
      "0100000000000 -> 0.500\n",
      "0100000000000 -> 0.500\n",
      "0100000000000 -> 0.500\n",
      "0100000000000 -> 0.500\n",
      "0100000000000 -> 0.500\n",
      "\n",
      "0100000000000 -> 0.500\n",
      "0100000000000 -> 0.500\n",
      "0100000000000 -> 0.500\n",
      "0100000000000 -> 0.500\n",
      "0100000000000 -> 0.500\n",
      "0100000000000 -> 0.500\n",
      "0100000000000 -> 0.500\n",
      "0100000000000 -> 0.500\n",
      "0100000000000 -> 0.500\n",
      "0100000000000 -> 0.500\n",
      "0100000000000 -> 0.500\n",
      "0100000000000 -> 0.500\n",
      "0100000000000 -> 0.500\n",
      "0100000000000 -> 0.500\n",
      "0100000000000 -> 0.500\n",
      "0100000000000 -> 0.500\n",
      "\n",
      "0100000000000 -> 0.500\n",
      "0100000000000 -> 0.500\n",
      "0100000000000 -> 0.500\n",
      "0100000000000 -> 0.500\n",
      "0100000000000 -> 0.500\n",
      "0100000000000 -> 0.500\n",
      "0100000000000 -> 0.500\n",
      "0100000000000 -> 0.500\n",
      "0100000000000 -> 0.500\n",
      "0100000000000 -> 0.500\n",
      "0100000000000 -> 0.500\n",
      "0100000000000 -> 0.500\n",
      "0100000000000 -> 0.500\n",
      "0100000000000 -> 0.500\n",
      "0100000000000 -> 0.500\n",
      "0100000000000 -> 0.500\n",
      "\n",
      "0100000000000 -> 0.500\n",
      "0100000000000 -> 0.500\n",
      "0100000000000 -> 0.500\n",
      "0100000000000 -> 0.500\n",
      "0100000000000 -> 0.500\n",
      "0100000000000 -> 0.500\n",
      "0100000001000 -> 0.527\n",
      "0100000000000 -> 0.500\n",
      "0100000000000 -> 0.500\n",
      "0100000000000 -> 0.500\n",
      "0100000000000 -> 0.500\n",
      "0100000000000 -> 0.500\n",
      "0100000000000 -> 0.500\n",
      "0100000000000 -> 0.500\n",
      "0100000000000 -> 0.500\n",
      "0100000100000 -> 0.609\n",
      "\n",
      "0100000000000 -> 0.500\n",
      "0100000000000 -> 0.500\n",
      "0100000000000 -> 0.500\n",
      "0100000000000 -> 0.500\n",
      "0100000000000 -> 0.500\n",
      "0100000000010 -> 0.507\n",
      "0100000000000 -> 0.500\n",
      "0100000000000 -> 0.500\n",
      "0100000100000 -> 0.609\n",
      "0100000000000 -> 0.500\n",
      "0100000000000 -> 0.500\n",
      "0100000000000 -> 0.500\n",
      "0100000000000 -> 0.500\n",
      "0100000000000 -> 0.500\n",
      "0100000000000 -> 0.500\n",
      "0100000000000 -> 0.500\n",
      "\n",
      "0100000000000 -> 0.500\n",
      "0100000000000 -> 0.500\n",
      "0100000000000 -> 0.500\n",
      "0100000000000 -> 0.500\n",
      "0100000000000 -> 0.500\n",
      "0100000000000 -> 0.500\n",
      "0100000000000 -> 0.500\n",
      "0100000000000 -> 0.500\n",
      "0100000000000 -> 0.500\n",
      "0100000000000 -> 0.500\n",
      "0100000000000 -> 0.500\n",
      "0100000000000 -> 0.500\n",
      "0100000000000 -> 0.500\n",
      "0100000000000 -> 0.500\n",
      "0100000000000 -> 0.500\n",
      "0100000000000 -> 0.500\n",
      "\n",
      "0100000000000 -> 0.500\n",
      "0100000000000 -> 0.500\n",
      "0100000000000 -> 0.500\n",
      "0100000000000 -> 0.500\n",
      "0100000000000 -> 0.500\n",
      "0100000000000 -> 0.500\n",
      "0100000000000 -> 0.500\n",
      "0100000000000 -> 0.500\n",
      "0100000000000 -> 0.500\n",
      "0100000000000 -> 0.500\n",
      "0100000000000 -> 0.500\n",
      "0100000000000 -> 0.500\n",
      "0100000000000 -> 0.500\n",
      "0100000000000 -> 0.500\n",
      "0100000000000 -> 0.500\n",
      "0100000000000 -> 0.500\n",
      "\n"
     ]
    }
   ],
   "source": [
    "for n_adc in range(12):\n",
    "    data = dut.download_fifo( n_adc )\n",
    "\n",
    "    for d in data:\n",
    "        print(f'{d:013b} -> {dut.adc2volt(d):.3f}')\n",
    "    print()"
   ]
  },
  {
   "cell_type": "code",
   "execution_count": null,
   "metadata": {},
   "outputs": [],
   "source": []
  }
 ],
 "metadata": {
  "kernelspec": {
   "display_name": "Python 3",
   "language": "python",
   "name": "python3"
  },
  "language_info": {
   "codemirror_mode": {
    "name": "ipython",
    "version": 3
   },
   "file_extension": ".py",
   "mimetype": "text/x-python",
   "name": "python",
   "nbconvert_exporter": "python",
   "pygments_lexer": "ipython3",
   "version": "3.7.4"
  }
 },
 "nbformat": 4,
 "nbformat_minor": 4
}
