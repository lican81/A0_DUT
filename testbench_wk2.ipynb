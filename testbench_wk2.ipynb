{
 "cells": [
  {
   "cell_type": "code",
   "execution_count": 1,
   "metadata": {},
   "outputs": [],
   "source": [
    "%reload_ext autoreload\n",
    "%autoreload\n",
    "\n",
    "import dut_func as dut\n",
    "import serial\n",
    "import time\n",
    "import struct\n",
    "import numpy as np\n",
    "# from bitarray import bitarray\n",
    "from bitstring import BitArray\n",
    "\n",
    "from misc import *\n",
    "\n",
    "# dut.drv.serUSB = 'COM19'\n",
    "drv = dut.drv\n",
    "\n",
    "ser = serial.Serial('COM6', 9600, timeout=1)\n",
    "dut.connect(ser)\n"
   ]
  },
  {
   "cell_type": "code",
   "execution_count": 5,
   "metadata": {},
   "outputs": [
    {
     "name": "stdout",
     "output_type": "stream",
     "text": [
      "Serial port disconnected.\n"
     ]
    }
   ],
   "source": [
    "dut.disconnect()"
   ]
  },
  {
   "cell_type": "code",
   "execution_count": null,
   "metadata": {},
   "outputs": [],
   "source": [
    "dut.ground_PIC()"
   ]
  },
  {
   "cell_type": "code",
   "execution_count": 2,
   "metadata": {},
   "outputs": [
    {
     "name": "stdout",
     "output_type": "stream",
     "text": [
      "DAC initialized to a span from -5 V to 5 V\n"
     ]
    }
   ],
   "source": [
    "dut.power_on()"
   ]
  },
  {
   "cell_type": "code",
   "execution_count": 4,
   "metadata": {},
   "outputs": [],
   "source": [
    "dut.power_off()"
   ]
  },
  {
   "cell_type": "code",
   "execution_count": 4,
   "metadata": {},
   "outputs": [
    {
     "name": "stdout",
     "output_type": "stream",
     "text": [
      "0100000000000\t 0.500 V\n",
      "0100000000000\t 0.500 V\n",
      "0100000100000\t 0.609 V\n",
      "0100001000000\t 0.719 V\n",
      "0100001100000\t 0.828 V\n",
      "0100010000000\t 0.938 V\n",
      "0100010100000\t 1.047 V\n",
      "0100011000000\t 1.157 V\n",
      "0100011010000\t 1.212 V\n",
      "0100011110000\t 1.321 V\n",
      "0100100010000\t 1.431 V\n",
      "0100100101000\t 1.513 V\n",
      "0100101001000\t 1.622 V\n",
      "0100101101000\t 1.732 V\n",
      "0100110001000\t 1.841 V\n",
      "0100110100100\t 1.937 V\n",
      "0100111000100\t 2.046 V\n",
      "0100111100011\t 2.152 V\n",
      "0101000000011\t 2.262 V\n",
      "0101000011111\t 2.358 V\n",
      "0101000111111\t 2.467 V\n",
      "0101001011111\t 2.577 V\n",
      "0101001111101\t 2.679 V\n",
      "0101010011011\t 2.782 V\n",
      "0101010111011\t 2.891 V\n",
      "0101011010111\t 2.987 V\n",
      "0101011110111\t 3.097 V\n",
      "0101100010111\t 3.206 V\n",
      "0101100101111\t 3.288 V\n",
      "0101101001111\t 3.398 V\n",
      "0101101011111\t 3.453 V\n",
      "0101101111111\t 3.562 V\n",
      "0101110011111\t 3.672 V\n",
      "0101110111111\t 3.781 V\n",
      "0101111011111\t 3.891 V\n",
      "0101111111111\t 4.000 V\n",
      "0101111111111\t 4.000 V\n",
      "0101111111111\t 4.000 V\n",
      "0101111111111\t 4.000 V\n",
      "0101111111111\t 4.000 V\n",
      "0101111111111\t 4.000 V\n"
     ]
    }
   ],
   "source": [
    "dut.calibrate_adc(np.arange(0.5, 4.5, 0.1), addr_fifo=0b0000 )"
   ]
  },
  {
   "cell_type": "code",
   "execution_count": null,
   "metadata": {},
   "outputs": [],
   "source": []
  }
 ],
 "metadata": {
  "kernelspec": {
   "display_name": "Python 3",
   "language": "python",
   "name": "python3"
  },
  "language_info": {
   "codemirror_mode": {
    "name": "ipython",
    "version": 3
   },
   "file_extension": ".py",
   "mimetype": "text/x-python",
   "name": "python",
   "nbconvert_exporter": "python",
   "pygments_lexer": "ipython3",
   "version": "3.7.4"
  }
 },
 "nbformat": 4,
 "nbformat_minor": 4
}
