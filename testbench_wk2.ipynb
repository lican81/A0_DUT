{
 "cells": [
  {
   "cell_type": "code",
   "execution_count": 118,
   "metadata": {},
   "outputs": [
    {
     "name": "stdout",
     "output_type": "stream",
     "text": [
      "Serial port disconnected.\n"
     ]
    }
   ],
   "source": [
    "dut.disconnect()"
   ]
  },
  {
   "cell_type": "code",
   "execution_count": null,
   "metadata": {},
   "outputs": [],
   "source": [
    "dut.ground_PIC()"
   ]
  },
  {
   "cell_type": "code",
   "execution_count": 96,
   "metadata": {},
   "outputs": [],
   "source": [
    "dut.power_off()"
   ]
  },
  {
   "cell_type": "code",
   "execution_count": 119,
   "metadata": {},
   "outputs": [],
   "source": [
    "%reload_ext autoreload\n",
    "%autoreload 2\n",
    "\n",
    "import dut_func as dut\n",
    "import serial\n",
    "import time\n",
    "import struct\n",
    "import numpy as np\n",
    "# from bitarray import bitarray\n",
    "from bitstring import BitArray\n",
    "import matplotlib.pyplot as plt\n",
    "\n",
    "from misc import *\n",
    "\n",
    "# dut.drv.serUSB = 'COM19'\n",
    "drv = dut.drv\n",
    "\n",
    "ser = serial.Serial('COM6', 9600, timeout=1)\n",
    "dut.connect(ser)"
   ]
  },
  {
   "cell_type": "code",
   "execution_count": 120,
   "metadata": {},
   "outputs": [],
   "source": [
    "dut.power_on()"
   ]
  },
  {
   "cell_type": "markdown",
   "metadata": {},
   "source": [
    "Calibrate all 12 ADCs on A0"
   ]
  },
  {
   "cell_type": "code",
   "execution_count": 124,
   "metadata": {},
   "outputs": [
    {
     "data": {
      "image/png": "[encoded data removed]",
      "text/plain": [
       "<Figure size 432x288 with 1 Axes>"
      ]
     },
     "metadata": {
      "needs_background": "light"
     },
     "output_type": "display_data"
    }
   ],
   "source": [
    "for addr_fifo in range(12):\n",
    "    volt_in = np.arange(0.5, 4.5, 0.01)\n",
    "    data = dut.calibrate_adc(volt_in, addr_fifo=addr_fifo )\n",
    "    volt_out = [dut.adc2volt(d) for d in data]\n",
    "\n",
    "    plt.plot(volt_in, volt_out, '-', alpha=0.3)"
   ]
  },
  {
   "cell_type": "code",
   "execution_count": 103,
   "metadata": {},
   "outputs": [
    {
     "name": "stdout",
     "output_type": "stream",
     "text": [
      "1 \tPWR_GOOD\n",
      "1 \tNRESET_FULL_CHIP\n",
      "1 \tNRESET_DPE_ENGINE\n",
      "0 \tARRAY_EN<0>\n",
      "0 \tARRAY_EN<1>\n",
      "1 \tARRAY_EN<2>\n",
      "0 \tNFORCE_SAFE0\n",
      "0 \tNFORCE_SAFE1\n",
      "0 \tNFORCE_SAFE2\n",
      "0 \tADC_SEL_EXT\n",
      "0 \tDPE_EXT_OVERRIDE_EN\n",
      "0 \tDPE_EXT_SH\n",
      "1 \tADC_DONE\n",
      "0 \tADC_FIFO_ADVANCE\n",
      "0 \tADC_FIFO_EN<0>\n",
      "0 \tADC_FIFO_EN<1>\n",
      "0 \tADC_FIFO_EN<2>\n",
      "0 \tADC_FIFO_EN<3>\n"
     ]
    }
   ],
   "source": [
    "drv.gpio_pin_reset(*PIC_PINS['READ_DPE'])\n",
    "drv.gpio_pin_reset(*PIC_PINS['READ_BIT'])\n",
    "dut.pads_defaults()\n",
    "\n",
    "dut.scan_tia( BitArray('0b1100000100'*96).bytes )\n",
    "\n",
    "dut.load_vectors_rows_to_zero()\n",
    "dut.load_vectors_cols_to_zero()\n",
    "\n",
    "\n",
    "drv.gpio_array_en_write(0b100)\n",
    "drv.gpio_pin_set(*PIC_PINS['COL_ROW_SEL'])\n",
    "drv.gpio_row_col_bank_write(0b0001)\n",
    "drv.gpio_row_col_data_write(0b1000_0000_0000_0000)\n",
    "time.sleep(1e-5)\n",
    "drv.gpio_pin_set(*PIC_PINS['LATCH_CLK_DATA'])\n",
    "time.sleep(1e-5)\n",
    "drv.gpio_pin_reset(*PIC_PINS['LATCH_CLK_DATA'])\n",
    "\n",
    "dut.reset_dpe()\n",
    "dut.py_logic_analyzer()"
   ]
  },
  {
   "cell_type": "code",
   "execution_count": 163,
   "metadata": {},
   "outputs": [],
   "source": [
    "dut.reset_dpe()\n",
    "\n",
    "drv.gpio_pin_set(*PIC_PINS['WRITE_SEL_EXT'])\n",
    "drv.gpio_pin_set(*PIC_PINS['DPE_EXT_OVERRIDE_EN'])                 \n",
    "time.sleep(5e-6)   \n",
    "drv.gpio_nforce_safe_write(0b111)\n",
    "time.sleep(5e-6)        # delay(t_cal_start), min = 2TCK\n",
    "drv.gpio_pin_set(*PIC_PINS['COL_WRITE_CONNECT'])\n",
    "time.sleep(5e-6)        # delay(t_opamp), min = 500ns\n",
    "drv.gpio_pin_set(*PIC_PINS['CONNECT_TIA'])\n",
    "#drv.gpio_pin_set(*PIC_PINS['DPE_EXT_SH'])"
   ]
  },
  {
   "cell_type": "code",
   "execution_count": 164,
   "metadata": {},
   "outputs": [],
   "source": [
    "# Before setting this, we're using an external current source to apply to the board!\n",
    "drv.gpio_pin_set(*PIC_PINS['DPE_EXT_SH'])"
   ]
  },
  {
   "cell_type": "code",
   "execution_count": 71,
   "metadata": {},
   "outputs": [
    {
     "name": "stdout",
     "output_type": "stream",
     "text": [
      "0110001000000 -> 0.719\n",
      "0110000000000 -> 0.500\n",
      "0110000000000 -> 0.500\n",
      "0110000000000 -> 0.500\n",
      "0110000000000 -> 0.500\n",
      "0110000000000 -> 0.500\n",
      "0110000000000 -> 0.500\n",
      "0111101110111 -> 3.535\n",
      "0110000000000 -> 0.500\n",
      "0110000000000 -> 0.500\n",
      "0110000000000 -> 0.500\n",
      "0110000000000 -> 0.500\n",
      "0110000001000 -> 0.527\n",
      "0110000000000 -> 0.500\n",
      "0110000000000 -> 0.500\n",
      "0110000000000 -> 0.500\n"
     ]
    }
   ],
   "source": [
    "n_adc = 2\n",
    "\n",
    "data = dut.download_fifo( n_adc )\n",
    "\n",
    "for d in data:\n",
    "    print(f'{d:013b} -> {dut.adc2volt(d):.3f}')\n",
    "    \n",
    "# drv.gpio_adc_fifo_en_write(n_adc)\n",
    "\n",
    "# for strobe in range(15):\n",
    "#     drv.gpio_pin_set(*PIC_PINS['ADC_FIFO_ADVANCE'])\n",
    "#     drv.gpio_pin_reset(*PIC_PINS['ADC_FIFO_ADVANCE'])\n",
    "#     data = drv.gpio_adc_read()\n",
    "#     print(f'{data:013b}', end='\\t')\n",
    "#     #print(strobe)\n",
    "#     print( f'{dut.adc2volt(data):.3f} V' )\n",
    "# print()"
   ]
  },
  {
   "cell_type": "code",
   "execution_count": 165,
   "metadata": {},
   "outputs": [
    {
     "name": "stdout",
     "output_type": "stream",
     "text": [
      "fifo #0\n",
      "0100000000000 -> 0.500\n",
      "0100000000000 -> 0.500\n",
      "0100000000000 -> 0.500\n",
      "0100000100000 -> 0.609\n",
      "0100000000000 -> 0.500\n",
      "0100000000000 -> 0.500\n",
      "0100000000000 -> 0.500\n",
      "0100000000000 -> 0.500\n",
      "0100000000000 -> 0.500\n",
      "0100000000000 -> 0.500\n",
      "0100000000000 -> 0.500\n",
      "0100000000000 -> 0.500\n",
      "0100000000000 -> 0.500\n",
      "0100000000000 -> 0.500\n",
      "0100000000000 -> 0.500\n",
      "0100000000000 -> 0.500\n",
      "\n",
      "fifo #1\n",
      "0100000000000 -> 0.500\n",
      "0100000000000 -> 0.500\n",
      "0100000000000 -> 0.500\n",
      "0100000000000 -> 0.500\n",
      "0100000000000 -> 0.500\n",
      "0100000000000 -> 0.500\n",
      "0100000000000 -> 0.500\n",
      "0100000000000 -> 0.500\n",
      "0100000000000 -> 0.500\n",
      "0100000000000 -> 0.500\n",
      "0100000000000 -> 0.500\n",
      "0100000000000 -> 0.500\n",
      "0100000000000 -> 0.500\n",
      "0100000000000 -> 0.500\n",
      "0100000000000 -> 0.500\n",
      "0100000000000 -> 0.500\n",
      "\n",
      "fifo #2\n",
      "0100001000000 -> 0.719\n",
      "0100000000000 -> 0.500\n",
      "0100000000000 -> 0.500\n",
      "0100000000000 -> 0.500\n",
      "0100000000000 -> 0.500\n",
      "0100000000000 -> 0.500\n",
      "0100000000000 -> 0.500\n",
      "0100000000000 -> 0.500\n",
      "0100000000000 -> 0.500\n",
      "0100000000000 -> 0.500\n",
      "0100000000000 -> 0.500\n",
      "0100000000000 -> 0.500\n",
      "0100000000000 -> 0.500\n",
      "0100000000000 -> 0.500\n",
      "0100000000000 -> 0.500\n",
      "0100000000000 -> 0.500\n",
      "\n",
      "fifo #3\n",
      "0100000000000 -> 0.500\n",
      "0100000000000 -> 0.500\n",
      "0100000000000 -> 0.500\n",
      "0100000000000 -> 0.500\n",
      "0100000000000 -> 0.500\n",
      "0100000000000 -> 0.500\n",
      "0100000000000 -> 0.500\n",
      "0100000000000 -> 0.500\n",
      "0100000000000 -> 0.500\n",
      "0100000000000 -> 0.500\n",
      "0100000000000 -> 0.500\n",
      "0100000000000 -> 0.500\n",
      "0100000000000 -> 0.500\n",
      "0100000000000 -> 0.500\n",
      "0100000000000 -> 0.500\n",
      "0100000000000 -> 0.500\n",
      "\n",
      "fifo #4\n",
      "0100000000000 -> 0.500\n",
      "0100000000000 -> 0.500\n",
      "0100000000000 -> 0.500\n",
      "0100000000000 -> 0.500\n",
      "0100000000000 -> 0.500\n",
      "0100000000000 -> 0.500\n",
      "0100000000000 -> 0.500\n",
      "0100000000000 -> 0.500\n",
      "0100000000000 -> 0.500\n",
      "0100000000000 -> 0.500\n",
      "0100000000000 -> 0.500\n",
      "0100000000000 -> 0.500\n",
      "0100000000000 -> 0.500\n",
      "0100000000000 -> 0.500\n",
      "0100000000000 -> 0.500\n",
      "0100000000000 -> 0.500\n",
      "\n",
      "fifo #5\n",
      "0100000000000 -> 0.500\n",
      "0100000000000 -> 0.500\n",
      "0100000000000 -> 0.500\n",
      "0100000000000 -> 0.500\n",
      "0100000000000 -> 0.500\n",
      "0100000000000 -> 0.500\n",
      "0100000000000 -> 0.500\n",
      "0100000000000 -> 0.500\n",
      "0100000000000 -> 0.500\n",
      "0100000000000 -> 0.500\n",
      "0100000000000 -> 0.500\n",
      "0100000000000 -> 0.500\n",
      "0100000000000 -> 0.500\n",
      "0100000000000 -> 0.500\n",
      "0100000000000 -> 0.500\n",
      "0100000000000 -> 0.500\n",
      "\n",
      "fifo #6\n",
      "0100000000000 -> 0.500\n",
      "0100000000000 -> 0.500\n",
      "0100000000000 -> 0.500\n",
      "0100000000000 -> 0.500\n",
      "0100110101100 -> 1.964\n",
      "0100110001000 -> 1.841\n",
      "0100000000000 -> 0.500\n",
      "0100000000000 -> 0.500\n",
      "0100000000000 -> 0.500\n",
      "0100000000000 -> 0.500\n",
      "0100000000000 -> 0.500\n",
      "0100000000000 -> 0.500\n",
      "0100000000000 -> 0.500\n",
      "0100000000000 -> 0.500\n",
      "0100000000000 -> 0.500\n",
      "0100000000000 -> 0.500\n",
      "\n",
      "fifo #7\n",
      "0100000000000 -> 0.500\n",
      "0100000000000 -> 0.500\n",
      "0100000000000 -> 0.500\n",
      "0100000000000 -> 0.500\n",
      "0100000000000 -> 0.500\n",
      "0100000000000 -> 0.500\n",
      "0100000000000 -> 0.500\n",
      "0100000000000 -> 0.500\n",
      "0100000000000 -> 0.500\n",
      "0100000000000 -> 0.500\n",
      "0100000000000 -> 0.500\n",
      "0100000000000 -> 0.500\n",
      "0100000000000 -> 0.500\n",
      "0100000000000 -> 0.500\n",
      "0100000000000 -> 0.500\n",
      "0100000000000 -> 0.500\n",
      "\n",
      "fifo #8\n",
      "0100000000000 -> 0.500\n",
      "0100000000000 -> 0.500\n",
      "0100000000000 -> 0.500\n",
      "0100000000000 -> 0.500\n",
      "0100000000000 -> 0.500\n",
      "0100000000000 -> 0.500\n",
      "0100000000000 -> 0.500\n",
      "0100000000000 -> 0.500\n",
      "0100000000000 -> 0.500\n",
      "0100000000000 -> 0.500\n",
      "0100000000000 -> 0.500\n",
      "0100000000000 -> 0.500\n",
      "0100000000000 -> 0.500\n",
      "0100000000000 -> 0.500\n",
      "0100000000000 -> 0.500\n",
      "0100000000000 -> 0.500\n",
      "\n",
      "fifo #9\n",
      "0100000000000 -> 0.500\n",
      "0100000000000 -> 0.500\n",
      "0100000000000 -> 0.500\n",
      "0100000000000 -> 0.500\n",
      "0100000000000 -> 0.500\n",
      "0100000000000 -> 0.500\n",
      "0100000000000 -> 0.500\n",
      "0100000000000 -> 0.500\n",
      "0100000000000 -> 0.500\n",
      "0100000000000 -> 0.500\n",
      "0100000000000 -> 0.500\n",
      "0100000000000 -> 0.500\n",
      "0100000000000 -> 0.500\n",
      "0100000000000 -> 0.500\n",
      "0100000000000 -> 0.500\n",
      "0100000000000 -> 0.500\n",
      "\n",
      "fifo #10\n",
      "0100000000000 -> 0.500\n",
      "0100000000000 -> 0.500\n",
      "0100000100000 -> 0.609\n",
      "0100000100000 -> 0.609\n",
      "0100000000000 -> 0.500\n",
      "0100000100000 -> 0.609\n",
      "0100000000000 -> 0.500\n",
      "0100000000000 -> 0.500\n",
      "0100000000000 -> 0.500\n",
      "0100000000000 -> 0.500\n",
      "0100000000000 -> 0.500\n",
      "0100000000000 -> 0.500\n",
      "0100000000000 -> 0.500\n",
      "0100000000000 -> 0.500\n",
      "0100000000000 -> 0.500\n",
      "0100000000000 -> 0.500\n",
      "\n",
      "fifo #11\n",
      "0100000000000 -> 0.500\n",
      "0100000000000 -> 0.500\n",
      "0100000000000 -> 0.500\n",
      "0100000000000 -> 0.500\n",
      "0100000000000 -> 0.500\n",
      "0100000000000 -> 0.500\n",
      "0100000000000 -> 0.500\n",
      "0100000000000 -> 0.500\n",
      "0100000000000 -> 0.500\n",
      "0100000000000 -> 0.500\n",
      "0100000000000 -> 0.500\n",
      "0100000000000 -> 0.500\n",
      "0100000000000 -> 0.500\n",
      "0100000000000 -> 0.500\n",
      "0100000000000 -> 0.500\n",
      "0100000000000 -> 0.500\n",
      "\n"
     ]
    }
   ],
   "source": [
    "for n_adc in range(12):\n",
    "    data = dut.download_fifo( n_adc )\n",
    "\n",
    "    print(f'fifo #{n_adc}')\n",
    "    for d in data:\n",
    "        print(f'{d:013b} -> {dut.adc2volt(d):.3f}')\n",
    "    print()"
   ]
  },
  {
   "cell_type": "markdown",
   "metadata": {},
   "source": [
    "---------NEW CALIBRATION WITH ZHAN'S MAPPING=---------"
   ]
  },
  {
   "cell_type": "code",
   "execution_count": null,
   "metadata": {},
   "outputs": [],
   "source": [
    "drv.gpio_pin_reset(*PIC_PINS['READ_DPE'])\n",
    "drv.gpio_pin_reset(*PIC_PINS['READ_BIT'])\n",
    "dut.pads_defaults()\n",
    "\n",
    "dut.scan_tia( BitArray('0b1100000100'*96).bytes )\n",
    "\n",
    "dut.load_vectors_rows_to_zero()\n",
    "dut.load_vectors_cols_to_zero()\n",
    "\n"
   ]
  },
  {
   "cell_type": "code",
   "execution_count": null,
   "metadata": {},
   "outputs": [],
   "source": [
    "en_col = 0\n",
    "en_array = 0\n",
    "en_row = 0\n",
    "\n",
    "col_bank, "
   ]
  },
  {
   "cell_type": "code",
   "execution_count": null,
   "metadata": {},
   "outputs": [],
   "source": [
    "drv.gpio_array_en_write(0b010)\n",
    "drv.gpio_pin_set(*PIC_PINS['COL_ROW_SEL'])\n",
    "drv.gpio_row_col_bank_write(0b0001)\n",
    "drv.gpio_row_col_data_write(0b1000_0000_0000_0000)\n",
    "time.sleep(1e-5)\n",
    "drv.gpio_pin_set(*PIC_PINS['LATCH_CLK_DATA'])\n",
    "time.sleep(1e-5)\n",
    "drv.gpio_pin_reset(*PIC_PINS['LATCH_CLK_DATA'])\n",
    "\n",
    "dut.reset_dpe()"
   ]
  },
  {
   "cell_type": "code",
   "execution_count": 162,
   "metadata": {},
   "outputs": [
    {
     "name": "stdout",
     "output_type": "stream",
     "text": [
      "1\n",
      "0\n",
      "2\n",
      "12288\n",
      "4\n",
      "0\n",
      "8\n",
      "0\n"
     ]
    }
   ],
   "source": [
    "drv.gpio_pin_reset(*PIC_PINS['READ_DPE'])\n",
    "drv.gpio_pin_reset(*PIC_PINS['READ_BIT'])\n",
    "dut.pads_defaults()\n",
    "\n",
    "dut.scan_tia( BitArray('0b1100000100'*96).bytes )\n",
    "\n",
    "data = dut.data_generate_sparse([59, 5, 59, 7])\n",
    "dut.load_vectors(array=2, data=data)"
   ]
  },
  {
   "cell_type": "code",
   "execution_count": 143,
   "metadata": {},
   "outputs": [
    {
     "name": "stdout",
     "output_type": "stream",
     "text": [
      "1 \tPWR_GOOD\n",
      "1 \tNRESET_FULL_CHIP\n",
      "1 \tNRESET_DPE_ENGINE\n",
      "0 \tARRAY_EN<0>\n",
      "0 \tARRAY_EN<1>\n",
      "0 \tARRAY_EN<2>\n",
      "0 \tNFORCE_SAFE0\n",
      "0 \tNFORCE_SAFE1\n",
      "0 \tNFORCE_SAFE2\n",
      "0 \tADC_SEL_EXT\n",
      "0 \tDPE_EXT_OVERRIDE_EN\n",
      "0 \tDPE_EXT_SH\n",
      "1 \tADC_DONE\n",
      "0 \tADC_FIFO_ADVANCE\n",
      "0 \tADC_FIFO_EN<0>\n",
      "0 \tADC_FIFO_EN<1>\n",
      "0 \tADC_FIFO_EN<2>\n",
      "0 \tADC_FIFO_EN<3>\n"
     ]
    }
   ],
   "source": [
    "dut.py_logic_analyzer()"
   ]
  },
  {
   "cell_type": "code",
   "execution_count": null,
   "metadata": {},
   "outputs": [],
   "source": []
  }
 ],
 "metadata": {
  "kernelspec": {
   "display_name": "Python 3",
   "language": "python",
   "name": "python3"
  },
  "language_info": {
   "codemirror_mode": {
    "name": "ipython",
    "version": 3
   },
   "file_extension": ".py",
   "mimetype": "text/x-python",
   "name": "python",
   "nbconvert_exporter": "python",
   "pygments_lexer": "ipython3",
   "version": "3.7.4"
  }
 },
 "nbformat": 4,
 "nbformat_minor": 4
}
