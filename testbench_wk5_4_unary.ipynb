{
 "cells": [
  {
   "cell_type": "code",
   "execution_count": 1,
   "metadata": {},
   "outputs": [
    {
     "name": "stdout",
     "output_type": "stream",
     "text": [
      "Loaded: weights, \n",
      "Loaded: train_images, train_labels, test_images, test_labels, \n"
     ]
    }
   ],
   "source": [
    "%load_ext autoreload\n",
    "%autoreload 2\n",
    "from dpe import DPE\n",
    "from lib_data import *\n",
    "import matplotlib.pyplot as plt\n",
    "import numpy as np\n",
    "from lib_nn_dpe import NN_dpe\n",
    "from IPython import display\n",
    "\n",
    "load_workspace(vars(), 'dataset/20190815-132601-weights')\n",
    "load_workspace(vars(), 'dataset/mnist')"
   ]
  },
  {
   "cell_type": "code",
   "execution_count": 2,
   "metadata": {},
   "outputs": [
    {
     "name": "stdout",
     "output_type": "stream",
     "text": [
      "Running <function DPE.init_dut at 0x0ECFC6A8> with serial\n",
      "DAC initialized to a span from -10 V to 10 V\n",
      "Setting vrefs to default\n",
      "[INFO] Elapsed time = 0.03s\n",
      "Serial disconnected\n"
     ]
    }
   ],
   "source": [
    "dpe = DPE('COM6')"
   ]
  },
  {
   "cell_type": "code",
   "execution_count": 3,
   "metadata": {},
   "outputs": [
    {
     "name": "stdout",
     "output_type": "stream",
     "text": [
      "Running <function DPE.set_clock at 0x0ECFC738> with serial\n",
      "Setting ADC_CK freq=50000.0kHz\n",
      "Setting CK_ARRAY freq=50000.0kHz\n",
      "[INFO] Elapsed time = 0.00s\n",
      "Serial disconnected\n"
     ]
    }
   ],
   "source": [
    "dpe.set_clock(50)"
   ]
  },
  {
   "cell_type": "code",
   "execution_count": 4,
   "metadata": {},
   "outputs": [
    {
     "name": "stdout",
     "output_type": "stream",
     "text": [
      "Running <function DPE.read at 0x0ECFC7C8> with serial\n",
      "[INFO] Elapsed time = 0.25s\n",
      "Serial disconnected\n"
     ]
    }
   ],
   "source": [
    "g = dpe.read(1)"
   ]
  },
  {
   "cell_type": "code",
   "execution_count": 5,
   "metadata": {},
   "outputs": [
    {
     "data": {
      "text/plain": [
       "<matplotlib.colorbar.Colorbar at 0x10991d10>"
      ]
     },
     "execution_count": 5,
     "metadata": {},
     "output_type": "execute_result"
    },
    {
     "data": {
      "image/png": "[encoded data removed]",
      "text/plain": [
       "<Figure size 432x288 with 2 Axes>"
      ]
     },
     "metadata": {
      "needs_background": "light"
     },
     "output_type": "display_data"
    }
   ],
   "source": [
    "plt.imshow(g)\n",
    "plt.clim(0, 2e-4)\n",
    "plt.colorbar()"
   ]
  },
  {
   "cell_type": "code",
   "execution_count": 6,
   "metadata": {},
   "outputs": [],
   "source": [
    "nn = NN_dpe(weights)"
   ]
  },
  {
   "cell_type": "code",
   "execution_count": null,
   "metadata": {},
   "outputs": [],
   "source": [
    "img_idx = 6\n",
    "\n",
    "image = test_images[img_idx]\n",
    "vectors = nn._conv_flattern(image)\n",
    "vectors.max()"
   ]
  },
  {
   "cell_type": "code",
   "execution_count": 20,
   "metadata": {},
   "outputs": [
    {
     "name": "stdout",
     "output_type": "stream",
     "text": [
      "Connecting to serial\n",
      "[INFO] Elapsed time = 1.49s\n",
      "Serial disconnected\n"
     ]
    }
   ],
   "source": [
    "outputs = dpe.multiply(1, vectors, c_sel=[0, 14]) / (nn.Gratio/2) / 0.2"
   ]
  },
  {
   "cell_type": "code",
   "execution_count": 21,
   "metadata": {},
   "outputs": [
    {
     "data": {
      "text/plain": [
       "(400, 14)"
      ]
     },
     "execution_count": 21,
     "metadata": {},
     "output_type": "execute_result"
    }
   ],
   "source": [
    "outputs.shape"
   ]
  },
  {
   "cell_type": "code",
   "execution_count": 24,
   "metadata": {},
   "outputs": [],
   "source": [
    "software = (finalGconv.T @ vectors).T / (nn.Gratio/2)"
   ]
  },
  {
   "cell_type": "code",
   "execution_count": null,
   "metadata": {},
   "outputs": [],
   "source": [
    "for c in range(14):\n",
    "    x = []\n",
    "    y = []\n",
    "        \n",
    "    plt.figure(c+1)\n",
    "    plt.title(f'Column {c}')\n",
    "    plt.plot(outputs[:,c],software[:,c], '.', alpha=0.3)\n",
    "    plt.xlabel('Expectation')"
   ]
  },
  {
   "cell_type": "code",
   "execution_count": 26,
   "metadata": {},
   "outputs": [
    {
     "data": {
      "text/plain": [
       "<matplotlib.colorbar.Colorbar at 0x10c73730>"
      ]
     },
     "execution_count": 26,
     "metadata": {},
     "output_type": "execute_result"
    },
    {
     "data": {
      "image/png": "[encoded data removed]",
      "text/plain": [
       "<Figure size 432x288 with 2 Axes>"
      ]
     },
     "metadata": {
      "needs_background": "light"
     },
     "output_type": "display_data"
    }
   ],
   "source": [
    "plt.imshow(software[:40])\n",
    "plt.colorbar()"
   ]
  },
  {
   "cell_type": "code",
   "execution_count": 27,
   "metadata": {},
   "outputs": [
    {
     "data": {
      "text/plain": [
       "<matplotlib.colorbar.Colorbar at 0x10b53db0>"
      ]
     },
     "execution_count": 27,
     "metadata": {},
     "output_type": "execute_result"
    },
    {
     "data": {
      "image/png": "[encoded data removed]",
      "text/plain": [
       "<Figure size 432x288 with 2 Axes>"
      ]
     },
     "metadata": {
      "needs_background": "light"
     },
     "output_type": "display_data"
    }
   ],
   "source": [
    "plt.imshow(outputs[:40])\n",
    "plt.colorbar()"
   ]
  },
  {
   "cell_type": "code",
   "execution_count": 28,
   "metadata": {},
   "outputs": [
    {
     "data": {
      "text/plain": [
       "array([[ 1.10600809,  0.02558262],\n",
       "       [ 1.0400355 ,  0.85863644],\n",
       "       [ 1.30230276,  0.00215507],\n",
       "       [ 1.44122246, -0.16235268],\n",
       "       [ 1.23063979, -0.09618758],\n",
       "       [ 1.08255167,  0.03345652],\n",
       "       [ 1.10381478, -0.07628634],\n",
       "       [ 1.23586714,  0.08344223],\n",
       "       [ 1.06021022, -0.08062452],\n",
       "       [ 1.37758174, -0.16723768],\n",
       "       [ 1.17893294,  0.0187636 ],\n",
       "       [ 1.12354446,  0.03942665],\n",
       "       [ 1.22563643,  0.01260009],\n",
       "       [ 0.79969926,  0.41632605]])"
      ]
     },
     "execution_count": 28,
     "metadata": {},
     "output_type": "execute_result"
    }
   ],
   "source": [
    "linear_factors_conv = []\n",
    "for c in range(14):\n",
    "    linear_factors_conv.append( np.polyfit(outputs[:,c], software[:,c], 1))\n",
    "    \n",
    "linear_factors_conv = np.array(linear_factors_conv)\n",
    "linear_factors_conv"
   ]
  },
  {
   "cell_type": "code",
   "execution_count": 29,
   "metadata": {},
   "outputs": [],
   "source": [
    "for c in range(outputs.shape[1]):\n",
    "    outputs[:,c] = outputs[:,c] * linear_factors_conv[c][0] + linear_factors_conv[c][1]"
   ]
  },
  {
   "cell_type": "code",
   "execution_count": 31,
   "metadata": {},
   "outputs": [],
   "source": [
    "result = outputs[:, ::2] - outputs[:,1::2]\n",
    "x = result.reshape(20,20,-1)\n",
    "# for i in range(7):\n",
    "#     plt.figure(i)\n",
    "#     plt.imshow(x[:,:,i])\n",
    "#     plt.colorbar()"
   ]
  },
  {
   "cell_type": "code",
   "execution_count": 32,
   "metadata": {},
   "outputs": [
    {
     "name": "stdout",
     "output_type": "stream",
     "text": [
      "predicted 4\n",
      "label 4\n"
     ]
    }
   ],
   "source": [
    "x1 = nn.relu(x)\n",
    "x1 = nn.max_pooling(x1)\n",
    "x1 = nn.flattern(x1)\n",
    "y = nn.dense(x1)\n",
    "\n",
    "print('predicted', y.argmax())\n",
    "print('label', test_labels[img_idx])"
   ]
  },
  {
   "cell_type": "code",
   "execution_count": null,
   "metadata": {},
   "outputs": [],
   "source": []
  },
  {
   "cell_type": "code",
   "execution_count": null,
   "metadata": {},
   "outputs": [],
   "source": [
    "xs = []\n",
    "acc = []\n",
    "\n",
    "for img_idx in range(len(test_images)):\n",
    "    \n",
    "    \n",
    "    image = test_images[img_idx]\n",
    "    vectors = nn._conv_flattern(image)\n",
    "    \n",
    "    outputs = dpe.multiply(1, vectors, c_sel=[0, 14]) / (nn.Gratio/2) / 0.2\n",
    "    \n",
    "    for c in range(outputs.shape[1]):\n",
    "        outputs[:,c] = outputs[:,c] * linear_factors_conv[c][0] + linear_factors_conv[c][1]\n",
    "    \n",
    "    result = outputs[:, ::2] - outputs[:,1::2]\n",
    "    x = result.reshape(20,20,-1)\n",
    "    \n",
    "    x1 = nn.relu(x)\n",
    "    x1 = nn.max_pooling(x1)\n",
    "    x1 = nn.flattern(x1)\n",
    "    \n",
    "    xs.append(x1)\n",
    "    y = nn.dense(x1)\n",
    "    \n",
    "    display.clear_output(wait=True)\n",
    "\n",
    "    print(f'idx={img_idx}, predicted: {y.argmax()}, label: {test_labels[img_idx]}')\n",
    "    acc.append( y.argmax() == test_labels[img_idx] )\n",
    "    print(f'\\t Accuracy = {np.mean(acc)*100:.2f}%')\n",
    "    \n",
    "save_workspace(vars(), note='mnist_xs')"
   ]
  },
  {
   "cell_type": "code",
   "execution_count": 7,
   "metadata": {},
   "outputs": [
    {
     "name": "stdout",
     "output_type": "stream",
     "text": [
      "Loaded: In, Out, weights, train_images, train_labels, test_images, test_labels, g, img_idx, image, vectors, outputs, software, c, x, y, mat_contents, finalGconv, g1, g2, linear_factors_conv, xs, acc, result, x1, \n"
     ]
    }
   ],
   "source": [
    "load_workspace(vars(), '20190821-051552-mnist_xs')\n",
    "\n",
    "# load_workspace(vars(), 'mnist_xs_software')\n",
    "xs = np.array(xs)"
   ]
  },
  {
   "cell_type": "code",
   "execution_count": 8,
   "metadata": {},
   "outputs": [
    {
     "name": "stdout",
     "output_type": "stream",
     "text": [
      "idx=9999, predicted: 6, label: 6\n",
      "\t Accuracy = 98.00%\n"
     ]
    }
   ],
   "source": [
    "# Check xs \n",
    "acc = []\n",
    "\n",
    "for img_idx in range(len(test_images)):\n",
    "    x1 = xs[img_idx]\n",
    "    y = nn.dense(x1)\n",
    "    \n",
    "    if (img_idx+1)%100 == 0:\n",
    "        display.clear_output(wait=True)\n",
    "\n",
    "        print(f'idx={img_idx}, predicted: {y.argmax()}, label: {test_labels[img_idx]}')\n",
    "        acc.append( y.argmax() == test_labels[img_idx] )\n",
    "        print(f'\\t Accuracy = {np.mean(acc)*100:.2f}%')"
   ]
  },
  {
   "cell_type": "code",
   "execution_count": 9,
   "metadata": {},
   "outputs": [
    {
     "data": {
      "text/plain": [
       "array([[ 1.43760178, -0.        ,  2.6677077 , ..., -0.        ,\n",
       "        -0.        , -0.        ],\n",
       "       [ 0.40300978,  0.68757231,  2.79176243, ..., -0.        ,\n",
       "         3.54113916,  2.61077068],\n",
       "       [-0.        , -0.        ,  0.06726302, ..., -0.        ,\n",
       "        -0.        , -0.        ],\n",
       "       ...,\n",
       "       [-0.        , -0.        ,  0.11108644, ..., -0.        ,\n",
       "        -0.        , -0.        ],\n",
       "       [-0.        , -0.        ,  0.11126897, ..., -0.        ,\n",
       "        -0.        , -0.        ],\n",
       "       [-0.        , -0.        ,  0.79958419, ..., -0.        ,\n",
       "         3.2943451 ,  1.30286908]])"
      ]
     },
     "execution_count": 9,
     "metadata": {},
     "output_type": "execute_result"
    }
   ],
   "source": [
    "xs"
   ]
  },
  {
   "cell_type": "code",
   "execution_count": 10,
   "metadata": {},
   "outputs": [
    {
     "data": {
      "text/plain": [
       "(10000, 112)"
      ]
     },
     "execution_count": 10,
     "metadata": {},
     "output_type": "execute_result"
    }
   ],
   "source": [
    "xs = np.array(xs)\n",
    "xs.shape"
   ]
  },
  {
   "cell_type": "code",
   "execution_count": 11,
   "metadata": {},
   "outputs": [],
   "source": [
    "xs = np.concatenate((xs, np.ones((xs.shape[0], 1))), axis=1)"
   ]
  },
  {
   "cell_type": "code",
   "execution_count": 12,
   "metadata": {},
   "outputs": [
    {
     "data": {
      "text/plain": [
       "(10000, 113)"
      ]
     },
     "execution_count": 12,
     "metadata": {},
     "output_type": "execute_result"
    }
   ],
   "source": [
    "xs.shape"
   ]
  },
  {
   "cell_type": "code",
   "execution_count": 13,
   "metadata": {},
   "outputs": [
    {
     "name": "stdout",
     "output_type": "stream",
     "text": [
      "Running <function DPE.read at 0x0ECFC7C8> with serial\n",
      "[INFO] Elapsed time = 0.25s\n",
      "Serial disconnected\n"
     ]
    },
    {
     "data": {
      "text/plain": [
       "<matplotlib.image.AxesImage at 0x10a82710>"
      ]
     },
     "execution_count": 13,
     "metadata": {},
     "output_type": "execute_result"
    },
    {
     "data": {
      "image/png": "[encoded data removed]",
      "text/plain": [
       "<Figure size 432x288 with 1 Axes>"
      ]
     },
     "metadata": {
      "needs_background": "light"
     },
     "output_type": "display_data"
    }
   ],
   "source": [
    "plt.imshow(dpe.read(2))"
   ]
  },
  {
   "cell_type": "code",
   "execution_count": 23,
   "metadata": {},
   "outputs": [],
   "source": [
    "x = xs[0:400]\n",
    "\n",
    "x1 = x[:,:57].T\n",
    "x2 = x[:,57:].T\n",
    "\n",
    "sc1 = x1.max()\n",
    "sc2 = x2.max()\n",
    "\n",
    "Gfc1 = nn.Gfc[:57]\n",
    "Gfc2 = nn.Gfc[57:]\n",
    "\n",
    "x1 = x1 / sc1\n",
    "x2 = x2 / sc2"
   ]
  },
  {
   "cell_type": "code",
   "execution_count": 66,
   "metadata": {},
   "outputs": [
    {
     "name": "stdout",
     "output_type": "stream",
     "text": [
      "Running <function DPE.multiply at 0x0ECFCA08> with serial\n",
      "[INFO] Elapsed time = 3.82s\n",
      "Serial disconnected\n",
      "Running <function DPE.multiply at 0x0ECFCA08> with serial\n",
      "[INFO] Elapsed time = 3.84s\n",
      "Serial disconnected\n"
     ]
    }
   ],
   "source": [
    "dpe.N_BIT = 8\n",
    "\n",
    "output1 = dpe.multiply(2, x1, c_sel=[0, 20], mode=1)\n",
    "software1 = (Gfc1.T @ x1).T \n",
    "\n",
    "output2 = dpe.multiply(2, x2, c_sel=[20, 40], mode=1)\n",
    "software2 = (Gfc2.T @ x2).T "
   ]
  },
  {
   "cell_type": "code",
   "execution_count": 67,
   "metadata": {},
   "outputs": [],
   "source": [
    "# dpe.N_BIT = 8\n",
    "# output1 = dpe.multiply_w_delay(2, x1, c_sel=[0, 20], mode=1, debug=True, delay=5)\n",
    "# software1 = (Gfc1.T @ x1).T \n",
    "\n",
    "# output2 = dpe.multiply_w_delay(2, x2, c_sel=[20, 40], mode=1, debug=True, delay=5)\n",
    "# software2 = (Gfc2.T @ x2).T "
   ]
  },
  {
   "cell_type": "code",
   "execution_count": 68,
   "metadata": {},
   "outputs": [],
   "source": [
    "lin_cor_fc1 = []\n",
    "lin_cor_fc2 = []\n",
    "for c in range(20):\n",
    "    lin_cor_fc1.append( np.polyfit(output1[:,c], software1[:,c], 1))\n",
    "    lin_cor_fc2.append( np.polyfit(output2[:,c], software2[:,c], 1))"
   ]
  },
  {
   "cell_type": "code",
   "execution_count": 69,
   "metadata": {},
   "outputs": [
    {
     "data": {
      "text/plain": [
       "[array([3.20257454e+00, 5.54192756e-05]),\n",
       " array([3.43262876e+00, 1.48546818e-05]),\n",
       " array([ 3.78382284e+00, -1.23630589e-04]),\n",
       " array([ 3.60925469e+00, -4.81865443e-05]),\n",
       " array([ 3.36571387e+00, -2.83690845e-05]),\n",
       " array([ 3.57695261e+00, -7.53598997e-05]),\n",
       " array([ 3.76634407e+00, -9.43433448e-05]),\n",
       " array([ 3.83917155e+00, -2.65704260e-05]),\n",
       " array([ 3.47596916e+00, -1.00465501e-05]),\n",
       " array([ 3.31197132e+00, -3.51505084e-05]),\n",
       " array([ 4.00806080e+00, -2.50320599e-05]),\n",
       " array([ 3.45783034e+00, -5.10680238e-05]),\n",
       " array([ 3.55829745e+00, -3.36326851e-05]),\n",
       " array([ 3.8369941e+00, -4.4824280e-05]),\n",
       " array([3.17322731e+00, 9.05277700e-05]),\n",
       " array([3.12994335e+00, 9.02722574e-05]),\n",
       " array([3.89306035e+00, 4.62494149e-05]),\n",
       " array([ 3.78202620e+00, -1.50206109e-04]),\n",
       " array([3.15444375e+00, 4.92470996e-05]),\n",
       " array([ 3.51519466e+00, -1.18213987e-04])]"
      ]
     },
     "execution_count": 69,
     "metadata": {},
     "output_type": "execute_result"
    }
   ],
   "source": [
    "lin_cor_fc2"
   ]
  },
  {
   "cell_type": "code",
   "execution_count": 19,
   "metadata": {},
   "outputs": [],
   "source": [
    "def lin_corr(outputs, factors):\n",
    "    result = np.zeros(outputs.shape)\n",
    "    for c in range(outputs.shape[1]):\n",
    "        result[:,c] = outputs[:,c] * factors[c][0] + factors[c][1]\n",
    "        \n",
    "    return result"
   ]
  },
  {
   "cell_type": "code",
   "execution_count": 32,
   "metadata": {},
   "outputs": [
    {
     "name": "stdout",
     "output_type": "stream",
     "text": [
      "Connecting to serial\n",
      "[INFO] Elapsed time = 3.62s\n",
      "Serial disconnected\n"
     ]
    },
    {
     "data": {
      "image/png": "[encoded data removed]",
      "text/plain": [
       "<Figure size 432x288 with 2 Axes>"
      ]
     },
     "metadata": {
      "needs_background": "light"
     },
     "output_type": "display_data"
    }
   ],
   "source": [
    "outputs  = dpe.multiply(2, x1, c_sel=[0, 20], mode=1)\n",
    "plt.imshow(outputs[:40])\n",
    "plt.colorbar()\n",
    "outputs = lin_corr(outputs, lin_cor_fc1)"
   ]
  },
  {
   "cell_type": "code",
   "execution_count": 33,
   "metadata": {},
   "outputs": [],
   "source": [
    "# lin_cor_fc1 = [\n",
    "#        [ 1.65705364e+01, -4.76661730e-06],\n",
    "#        [ 1.52014391e+01, -7.32910667e-06],\n",
    "#        [ 1.83622860e+01, -1.03660227e-04],\n",
    "#        [ 1.46453131e+01,  8.72582481e-05],\n",
    "#        [ 1.57026572e+01,  5.49433331e-06],\n",
    "#        [ 1.75302910e+01, -5.91984363e-05],\n",
    "#        [ 1.70097444e+01, -3.77425017e-06],\n",
    "#        [ 1.66811834e+01, -5.92705383e-05],\n",
    "#        [ 1.58138030e+01, -8.54206565e-05],\n",
    "#        [ 1.47224922e+01, -1.01580546e-04],\n",
    "#        [ 1.63933874e+01,  2.75899701e-05],\n",
    "#        [ 1.73734414e+01, -6.44827939e-05],\n",
    "#        [ 1.72284591e+01, -1.78498676e-05],\n",
    "#        [ 1.56514926e+01,  4.85230992e-05],\n",
    "#        [ 1.82551529e+01, -6.58699418e-05],\n",
    "#        [ 1.80427640e+01,  3.35214924e-05],\n",
    "#        [ 1.68846215e+01,  5.83922590e-05],\n",
    "#        [ 1.78382218e+01, -5.84954866e-05],\n",
    "#        [ 1.59426072e+01, -2.58419590e-05],\n",
    "#        [ 1.77145924e+01, -3.09111781e-04]]\n",
    "\n",
    "# lin_cor_fc2 = [\n",
    "#        [ 1.49074642e+01,  3.04496037e-05],\n",
    "#        [ 1.66134607e+01, -6.65273335e-05],\n",
    "#        [ 1.71330302e+01, -1.16174943e-04],\n",
    "#        [ 1.70197025e+01, -5.26536591e-05],\n",
    "#        [ 1.57107974e+01, -7.15197241e-05],\n",
    "#        [ 1.70294047e+01, -7.92741963e-05],\n",
    "#        [ 1.73580128e+01, -7.60909714e-05],\n",
    "#        [ 1.84105096e+01, -2.43281137e-05],\n",
    "#        [ 1.68061704e+01, -2.11947699e-05],\n",
    "#        [ 1.51725578e+01, -2.68254150e-05],\n",
    "#        [ 1.85076350e+01, -3.41438100e-05],\n",
    "#        [ 1.60115486e+01, -3.91897704e-05],\n",
    "#        [ 1.56633900e+01,  5.07271500e-05],\n",
    "#        [ 1.78045219e+01, -8.48122737e-05],\n",
    "#        [ 1.53011229e+01,  6.33155863e-05],\n",
    "#        [ 1.49990127e+01,  8.11595510e-05],\n",
    "#        [ 1.75060714e+01,  4.32311953e-05],\n",
    "#        [ 1.79812969e+01, -1.50383469e-04],\n",
    "#        [ 1.58391025e+01,  3.87391613e-06],\n",
    "#        [ 1.58795906e+01, -1.12594198e-04]]"
   ]
  },
  {
   "cell_type": "code",
   "execution_count": 34,
   "metadata": {},
   "outputs": [
    {
     "name": "stdout",
     "output_type": "stream",
     "text": [
      "Connecting to serial\n",
      "[INFO] Elapsed time = 4.06s\n",
      "Serial disconnected\n",
      "Connecting to serial\n",
      "[INFO] Elapsed time = 4.09s\n",
      "Serial disconnected\n"
     ]
    }
   ],
   "source": [
    "output1  = dpe.multiply(2, x1, c_sel=[0, 20]) \n",
    "output1 = lin_corr(output1, lin_cor_fc1)\n",
    "\n",
    "output2  = dpe.multiply(2, x2, c_sel=[20, 40])\n",
    "output2 = lin_corr(output2, lin_cor_fc2)\n",
    "\n",
    "outputs = output1 + output2"
   ]
  },
  {
   "cell_type": "code",
   "execution_count": 33,
   "metadata": {},
   "outputs": [
    {
     "name": "stdout",
     "output_type": "stream",
     "text": [
      "Running <function DPE.multiply at 0x0ECFCA08> with serial\n",
      "[INFO] Elapsed time = 1.93s\n",
      "Serial disconnected\n"
     ]
    }
   ],
   "source": [
    "outputs = dpe.multiply(2, x2, c_sel=[20, 40], mode=0) \n",
    "outputs = lin_corr(outputs, lin_cor_fc2)\n",
    "software = (Gfc2.T @ x2).T "
   ]
  },
  {
   "cell_type": "code",
   "execution_count": 53,
   "metadata": {},
   "outputs": [],
   "source": [
    "# outputs = dpe.multiply_w_delay(2, x2, c_sel=[20, 40], mode=1, debug=True, delay=5)\n",
    "output_corr = lin_corr(output2, lin_cor_fc2)\n",
    "software = (Gfc2.T @ x2).T "
   ]
  },
  {
   "cell_type": "code",
   "execution_count": 55,
   "metadata": {},
   "outputs": [
    {
     "data": {
      "image/png": "[encoded data removed]",
      "text/plain": [
       "<Figure size 432x288 with 1 Axes>"
      ]
     },
     "metadata": {
      "needs_background": "light"
     },
     "output_type": "display_data"
    }
   ],
   "source": [
    "# lin_cor_fc2 = []\n",
    "\n",
    "for c in range(20):\n",
    "    x = software[:,c]\n",
    "    y = output_corr[:,c]\n",
    "    \n",
    "    plt.plot(x,y,'.')\n",
    "\n",
    "#     lin_cor_fc2.append( np.polyfit(y, x, 1))"
   ]
  },
  {
   "cell_type": "code",
   "execution_count": 56,
   "metadata": {},
   "outputs": [
    {
     "data": {
      "text/plain": [
       "(array([  1.,   0.,   1.,   4.,   4.,   5.,   6.,  10.,  20.,  34.,  53.,\n",
       "         45.,  80., 115., 135., 181., 214., 300., 294., 396., 396., 463.,\n",
       "        513., 567., 555., 563., 513., 454., 406., 328., 302., 243., 198.,\n",
       "        174., 126.,  92.,  56.,  61.,  29.,  23.,  16.,   6.,   8.,   3.,\n",
       "          4.,   1.,   0.,   0.,   1.,   1.]),\n",
       " array([-0.10607587, -0.10170196, -0.09732805, -0.09295414, -0.08858023,\n",
       "        -0.08420633, -0.07983242, -0.07545851, -0.0710846 , -0.06671069,\n",
       "        -0.06233679, -0.05796288, -0.05358897, -0.04921506, -0.04484115,\n",
       "        -0.04046725, -0.03609334, -0.03171943, -0.02734552, -0.02297161,\n",
       "        -0.01859771, -0.0142238 , -0.00984989, -0.00547598, -0.00110207,\n",
       "         0.00327183,  0.00764574,  0.01201965,  0.01639356,  0.02076747,\n",
       "         0.02514137,  0.02951528,  0.03388919,  0.0382631 ,  0.04263701,\n",
       "         0.04701091,  0.05138482,  0.05575873,  0.06013264,  0.06450655,\n",
       "         0.06888045,  0.07325436,  0.07762827,  0.08200218,  0.08637609,\n",
       "         0.09074999,  0.0951239 ,  0.09949781,  0.10387172,  0.10824563,\n",
       "         0.11261953]),\n",
       " <a list of 50 Patch objects>)"
      ]
     },
     "execution_count": 56,
     "metadata": {},
     "output_type": "execute_result"
    },
    {
     "data": {
      "image/png": "[encoded data removed]",
      "text/plain": [
       "<Figure size 432x288 with 1 Axes>"
      ]
     },
     "metadata": {
      "needs_background": "light"
     },
     "output_type": "display_data"
    }
   ],
   "source": [
    "plt.hist((output_corr-software).reshape(-1, 1)/0.0025, bins=50 )"
   ]
  },
  {
   "cell_type": "code",
   "execution_count": 57,
   "metadata": {},
   "outputs": [
    {
     "data": {
      "text/plain": [
       "0.02940996991518721"
      ]
     },
     "execution_count": 57,
     "metadata": {},
     "output_type": "execute_result"
    }
   ],
   "source": [
    "(output_corr-software).reshape(-1, 1).std()/0.00225"
   ]
  },
  {
   "cell_type": "code",
   "execution_count": 18,
   "metadata": {},
   "outputs": [],
   "source": [
    "# lin_cor_fc1 = [\n",
    "#        [ 1.65705364e+01, -4.76661730e-06],\n",
    "#        [ 1.52014391e+01, -7.32910667e-06],\n",
    "#        [ 1.83622860e+01, -1.03660227e-04],\n",
    "#        [ 1.46453131e+01,  8.72582481e-05],\n",
    "#        [ 1.57026572e+01,  5.49433331e-06],\n",
    "#        [ 1.75302910e+01, -5.91984363e-05],\n",
    "#        [ 1.70097444e+01, -3.77425017e-06],\n",
    "#        [ 1.66811834e+01, -5.92705383e-05],\n",
    "#        [ 1.58138030e+01, -8.54206565e-05],\n",
    "#        [ 1.47224922e+01, -1.01580546e-04],\n",
    "#        [ 1.63933874e+01,  2.75899701e-05],\n",
    "#        [ 1.73734414e+01, -6.44827939e-05],\n",
    "#        [ 1.72284591e+01, -1.78498676e-05],\n",
    "#        [ 1.56514926e+01,  4.85230992e-05],\n",
    "#        [ 1.82551529e+01, -6.58699418e-05],\n",
    "#        [ 1.80427640e+01,  3.35214924e-05],\n",
    "#        [ 1.68846215e+01,  5.83922590e-05],\n",
    "#        [ 1.78382218e+01, -5.84954866e-05],\n",
    "#        [ 1.59426072e+01, -2.58419590e-05],\n",
    "#        [ 1.77145924e+01, -3.09111781e-04]]\n",
    "\n",
    "# lin_cor_fc2 = [\n",
    "#        [ 1.49074642e+01,  3.04496037e-05],\n",
    "#        [ 1.66134607e+01, -6.65273335e-05],\n",
    "#        [ 1.71330302e+01, -1.16174943e-04],\n",
    "#        [ 1.70197025e+01, -5.26536591e-05],\n",
    "#        [ 1.57107974e+01, -7.15197241e-05],\n",
    "#        [ 1.70294047e+01, -7.92741963e-05],\n",
    "#        [ 1.73580128e+01, -7.60909714e-05],\n",
    "#        [ 1.84105096e+01, -2.43281137e-05],\n",
    "#        [ 1.68061704e+01, -2.11947699e-05],\n",
    "#        [ 1.51725578e+01, -2.68254150e-05],\n",
    "#        [ 1.85076350e+01, -3.41438100e-05],\n",
    "#        [ 1.60115486e+01, -3.91897704e-05],\n",
    "#        [ 1.56633900e+01,  5.07271500e-05],\n",
    "#        [ 1.78045219e+01, -8.48122737e-05],\n",
    "#        [ 1.53011229e+01,  6.33155863e-05],\n",
    "#        [ 1.49990127e+01,  8.11595510e-05],\n",
    "#        [ 1.75060714e+01,  4.32311953e-05],\n",
    "#        [ 1.79812969e+01, -1.50383469e-04],\n",
    "#        [ 1.58391025e+01,  3.87391613e-06],\n",
    "#        [ 1.58795906e+01, -1.12594198e-04]]\n",
    "\n",
    "def lin_corr(outputs, factors):\n",
    "    result = np.zeros(outputs.shape)\n",
    "    for c in range(outputs.shape[1]):\n",
    "        result[:,c] = outputs[:,c] * factors[c][0] + factors[c][1]\n",
    "        \n",
    "    return result"
   ]
  },
  {
   "cell_type": "code",
   "execution_count": 16,
   "metadata": {},
   "outputs": [
    {
     "name": "stdout",
     "output_type": "stream",
     "text": [
      "Loaded: In, Out, weights, train_images, train_labels, test_images, test_labels, g, img_idx, image, vectors, outputs, linear_factors_conv, c, x, i, result, x1, y, xs, acc, \n"
     ]
    }
   ],
   "source": [
    "# load_workspace(vars(), '20190821-051552-mnist_xs')\n",
    "# xs = np.array(xs)"
   ]
  },
  {
   "cell_type": "code",
   "execution_count": 76,
   "metadata": {},
   "outputs": [
    {
     "name": "stdout",
     "output_type": "stream",
     "text": [
      "Accuracy = 90.30%\n"
     ]
    }
   ],
   "source": [
    "ys = []\n",
    "batch_size = 1000\n",
    "\n",
    "for i in range( (len(test_images)-1)//batch_size + 1 ):\n",
    "    idx1 = i * batch_size\n",
    "    idx2 = (i+1) * batch_size\n",
    "    idx2 = idx2 if idx2<= len(test_images) else len(test_images)\n",
    "    \n",
    "    print(f'Running on sample {idx1}-{idx2}')\n",
    "\n",
    "    x = xs[i*1000:(i+1)*1000]\n",
    "\n",
    "    x1 = x[:,:57].T\n",
    "    x2 = x[:,57:].T\n",
    "\n",
    "    sc1 = x1.max()\n",
    "    sc2 = x2.max()\n",
    "\n",
    "    Gfc1 = nn.Gfc[:57]\n",
    "    Gfc2 = nn.Gfc[57:]\n",
    "\n",
    "    x1 = x1 / sc1\n",
    "    x2 = x2 / sc2\n",
    "    \n",
    "    output1  = dpe.multiply(2, x1, c_sel=[0, 20], mode=1)\n",
    "    output1 = lin_corr(output1, lin_cor_fc1) * sc1\n",
    "\n",
    "    output2  = dpe.multiply(2, x2, c_sel=[20, 40], mode=1)\n",
    "    output2 = lin_corr(output2, lin_cor_fc2) * sc2\n",
    "\n",
    "    outputs = output1 + output2\n",
    "    \n",
    "    y = outputs[:,::2] - outputs[:,1::2]\n",
    "    \n",
    "    display.clear_output(wait=True)\n",
    "    \n",
    "    print(f'Accuracy = {np.mean(y.argmax(axis=1) == test_labels[idx1:idx2])*100:.2f}%')\n",
    "    ys.append(y)\n",
    "    \n",
    "ys = np.concatenate(ys)  "
   ]
  },
  {
   "cell_type": "code",
   "execution_count": 77,
   "metadata": {},
   "outputs": [
    {
     "data": {
      "text/plain": [
       "0.9178"
      ]
     },
     "execution_count": 77,
     "metadata": {},
     "output_type": "execute_result"
    }
   ],
   "source": [
    "np.mean(ys.argmax(axis=1) == test_labels)"
   ]
  },
  {
   "cell_type": "code",
   "execution_count": 75,
   "metadata": {},
   "outputs": [
    {
     "name": "stdout",
     "output_type": "stream",
     "text": [
      "Saving In(<class 'list'>), Out(<class 'dict'>), weights(<class 'numpy.ndarray'>), train_images(<class 'numpy.ndarray'>), train_labels(<class 'numpy.ndarray'>), test_images(<class 'numpy.ndarray'>), test_labels(<class 'numpy.ndarray'>), g(<class 'numpy.ndarray'>), img_idx(<class 'int'>), image(<class 'numpy.ndarray'>), vectors(<class 'numpy.ndarray'>), outputs(<class 'numpy.ndarray'>), software(<class 'numpy.ndarray'>), c(<class 'int'>), x(<class 'numpy.ndarray'>), y(<class 'numpy.ndarray'>), mat_contents(<class 'dict'>), finalGconv(<class 'numpy.ndarray'>), g1(<class 'numpy.ndarray'>), g2(<class 'numpy.ndarray'>), linear_factors_conv(<class 'numpy.ndarray'>), xs(<class 'numpy.ndarray'>), acc(<class 'list'>), result(<class 'numpy.ndarray'>), x1(<class 'numpy.ndarray'>), x2(<class 'numpy.ndarray'>), sc1(<class 'numpy.float64'>), sc2(<class 'numpy.float64'>), Gfc1(<class 'numpy.ndarray'>), Gfc2(<class 'numpy.ndarray'>), output1(<class 'numpy.ndarray'>), software1(<class 'numpy.ndarray'>), output2(<class 'numpy.ndarray'>), software2(<class 'numpy.ndarray'>), lin_cor_fc1(<class 'list'>), lin_cor_fc2(<class 'list'>), output_corr(<class 'numpy.ndarray'>), ys(<class 'numpy.ndarray'>), batch_size(<class 'int'>), i(<class 'int'>), idx1(<class 'int'>), idx2(<class 'int'>), to 20190821-224140-prober1-oriFC.pkl\n",
      "Saving In(<class 'list'>), weights(<class 'numpy.ndarray'>), train_images(<class 'numpy.ndarray'>), train_labels(<class 'numpy.ndarray'>), test_images(<class 'numpy.ndarray'>), test_labels(<class 'numpy.ndarray'>), g(<class 'numpy.ndarray'>), img_idx(<class 'int'>), image(<class 'numpy.ndarray'>), vectors(<class 'numpy.ndarray'>), outputs(<class 'numpy.ndarray'>), software(<class 'numpy.ndarray'>), c(<class 'int'>), x(<class 'numpy.ndarray'>), y(<class 'numpy.ndarray'>), finalGconv(<class 'numpy.ndarray'>), g1(<class 'numpy.ndarray'>), g2(<class 'numpy.ndarray'>), linear_factors_conv(<class 'numpy.ndarray'>), xs(<class 'numpy.ndarray'>), acc(<class 'list'>), result(<class 'numpy.ndarray'>), x1(<class 'numpy.ndarray'>), x2(<class 'numpy.ndarray'>), sc1(<class 'numpy.float64'>), sc2(<class 'numpy.float64'>), Gfc1(<class 'numpy.ndarray'>), Gfc2(<class 'numpy.ndarray'>), output1(<class 'numpy.ndarray'>), software1(<class 'numpy.ndarray'>), output2(<class 'numpy.ndarray'>), software2(<class 'numpy.ndarray'>), lin_cor_fc1(<class 'list'>), lin_cor_fc2(<class 'list'>), output_corr(<class 'numpy.ndarray'>), ys(<class 'numpy.ndarray'>), batch_size(<class 'int'>), i(<class 'int'>), idx1(<class 'int'>), idx2(<class 'int'>), to 20190821-224140-prober1-oriFC.mat\n"
     ]
    }
   ],
   "source": [
    "save_workspace(vars(), note='prober1-oriFC')"
   ]
  },
  {
   "cell_type": "code",
   "execution_count": 29,
   "metadata": {},
   "outputs": [
    {
     "data": {
      "text/plain": [
       "array([ True,  True, False, ...,  True,  True,  True])"
      ]
     },
     "execution_count": 29,
     "metadata": {},
     "output_type": "execute_result"
    }
   ],
   "source": [
    "ynew.argmax(axis=1) == test_labels"
   ]
  },
  {
   "cell_type": "code",
   "execution_count": 23,
   "metadata": {},
   "outputs": [],
   "source": [
    "import scipy.io as sio\n",
    "#load_workspace(vars(), '20190814-205207-CNN weights')\n",
    "mat_contents = sio.loadmat('UpdatedGconv.mat')\n",
    "finalGconv = mat_contents['finalGconv']"
   ]
  },
  {
   "cell_type": "code",
   "execution_count": 19,
   "metadata": {},
   "outputs": [
    {
     "data": {
      "text/plain": [
       "(26, 14)"
      ]
     },
     "execution_count": 19,
     "metadata": {},
     "output_type": "execute_result"
    },
    {
     "data": {
      "image/png": "[encoded data removed]",
      "text/plain": [
       "<Figure size 432x288 with 2 Axes>"
      ]
     },
     "metadata": {
      "needs_background": "light"
     },
     "output_type": "display_data"
    }
   ],
   "source": [
    "plt.imshow(finalGconv)\n",
    "plt.colorbar()\n",
    "np.shape(finalGconv)"
   ]
  },
  {
   "cell_type": "code",
   "execution_count": 22,
   "metadata": {},
   "outputs": [
    {
     "data": {
      "text/plain": [
       "<matplotlib.colorbar.Colorbar at 0x1145dbd0>"
      ]
     },
     "execution_count": 22,
     "metadata": {},
     "output_type": "execute_result"
    },
    {
     "data": {
      "image/png": "[encoded data removed]",
      "text/plain": [
       "<Figure size 432x288 with 2 Axes>"
      ]
     },
     "metadata": {
      "needs_background": "light"
     },
     "output_type": "display_data"
    }
   ],
   "source": [
    "g1 = finalGconv[:,::2] - finalGconv[:,1::2]\n",
    "plt.imshow(g1)\n",
    "plt.colorbar()"
   ]
  },
  {
   "cell_type": "code",
   "execution_count": 24,
   "metadata": {},
   "outputs": [
    {
     "data": {
      "text/plain": [
       "<matplotlib.colorbar.Colorbar at 0x11527fb0>"
      ]
     },
     "execution_count": 24,
     "metadata": {},
     "output_type": "execute_result"
    },
    {
     "data": {
      "image/png": "[encoded data removed]",
      "text/plain": [
       "<Figure size 432x288 with 2 Axes>"
      ]
     },
     "metadata": {
      "needs_background": "light"
     },
     "output_type": "display_data"
    }
   ],
   "source": [
    "g2 = nn.Gconv[:,::2] - nn.Gconv[:,1::2]\n",
    "plt.imshow(g2/2)\n",
    "plt.colorbar()"
   ]
  },
  {
   "cell_type": "code",
   "execution_count": 31,
   "metadata": {},
   "outputs": [
    {
     "data": {
      "text/plain": [
       "(array([-5.0e-07,  0.0e+00,  5.0e-07,  1.0e-06,  1.5e-06,  2.0e-06,\n",
       "         2.5e-06,  3.0e-06,  3.5e-06,  4.0e-06,  4.5e-06]),\n",
       " <a list of 11 Text xticklabel objects>)"
      ]
     },
     "execution_count": 31,
     "metadata": {},
     "output_type": "execute_result"
    },
    {
     "data": {
      "image/png": "[encoded data removed]",
      "text/plain": [
       "<Figure size 432x288 with 1 Axes>"
      ]
     },
     "metadata": {
      "needs_background": "light"
     },
     "output_type": "display_data"
    }
   ],
   "source": [
    "plt.hist((g2/2-g1).reshape(-1,1), bins=50)\n",
    "plt.xticks(rotation=45)"
   ]
  },
  {
   "cell_type": "code",
   "execution_count": 4,
   "metadata": {},
   "outputs": [],
   "source": [
    "import dut_func as dut\n",
    "import serial\n",
    "import time\n",
    "import struct\n",
    "import numpy as np\n",
    "# from bitarray import bitarray\n",
    "from bitstring import BitArray\n",
    "import matplotlib.pyplot as plt\n",
    "%config InlineBackend.figure_formats = ['svg']\n",
    "import dut_a0 as a0\n",
    "\n",
    "from misc import *\n",
    "vOffset = -0.08\n",
    "dut.dac_set('DAC_VREF_HI_CMP', 4.0+vOffset)"
   ]
  },
  {
   "cell_type": "code",
   "execution_count": 3,
   "metadata": {},
   "outputs": [],
   "source": [
    "import dut_func as dut\n",
    "import serial\n",
    "import numpy as np\n",
    "from bitstring import BitArray\n",
    "import matplotlib.pyplot as plt\n",
    "# %config InlineBackend.figure_formats = ['svg']\n",
    "import dut_a0 as a0\n",
    "#dut.py_logic_analyzer()\n",
    "\n",
    "from misc import *\n",
    "\n",
    "# dut.drv.serUSB = 'COM19'\n",
    "drv = dut.drv\n",
    "\n",
    "ser = serial.Serial('COM6', 9600, timeout=1)\n",
    "dut.connect(ser)\n",
    "\n",
    "dut.reset_chip()\n",
    "dut.reset_dpe()\n",
    "dut.ground_PIC()\n",
    "dut.power_on()"
   ]
  },
  {
   "cell_type": "code",
   "execution_count": 4,
   "metadata": {},
   "outputs": [
    {
     "name": "stdout",
     "output_type": "stream",
     "text": [
      "DAC initialized to a span from -10 V to 10 V\n",
      "Setting vrefs to default\n"
     ]
    }
   ],
   "source": [
    "dut.reset_chip()\n",
    "dut.reset_dpe()\n",
    "dut.ground_PIC()\n",
    "dut.power_on()"
   ]
  },
  {
   "cell_type": "code",
   "execution_count": 7,
   "metadata": {},
   "outputs": [
    {
     "name": "stdout",
     "output_type": "stream",
     "text": [
      "5.00-"
     ]
    },
    {
     "data": {
      "image/png": "[encoded data removed]",
      "text/plain": [
       "<Figure size 432x288 with 1 Axes>"
      ]
     },
     "metadata": {
      "needs_background": "light"
     },
     "output_type": "display_data"
    }
   ],
   "source": [
    "ar=2\n",
    "r=31\n",
    "c=0\n",
    "\n",
    "Vreads = np.arange(0, 0.5, 0.01)\n",
    "# Vgates = np.arange(0,5,0.5)\n",
    "# Vgates = [1, 1.1, 1.2, 1.3, 1.4, 1.5, 5]\n",
    "Vgates = [5]\n",
    "\n",
    "volts_set = []\n",
    "\n",
    "for Vgate in Vgates:\n",
    "    print(f'{Vgate:.2f}', end='-')\n",
    "    volts = []\n",
    "    for vread in Vreads:\n",
    "        volts.append( a0.read_single_int(vread, Vgate, array=ar, row=r, col=c, gain=1) )\n",
    "    volts_set.append(volts)\n",
    "    \n",
    "for volts in volts_set:\n",
    "    plt.plot(Vreads, [i* 1e6 for i in volts], '.-')\n",
    "    \n",
    "plt.xlabel('VPP')\n",
    "plt.ylabel('Caculated current (uA)')\n",
    "plt.grid(True, alpha=0.3)\n",
    "# plt.ylim(-0.1, 6)"
   ]
  },
  {
   "cell_type": "code",
   "execution_count": 6,
   "metadata": {},
   "outputs": [
    {
     "name": "stdout",
     "output_type": "stream",
     "text": [
      "1 \tPWR_GOOD\n",
      "1 \tNRESET_FULL_CHIP\n",
      "1 \tNRESET_DPE_ENGINE\n",
      "0 \tARRAY_EN<0>\n",
      "0 \tARRAY_EN<1>\n",
      "0 \tARRAY_EN<2>\n",
      "0 \tNFORCE_SAFE0\n",
      "0 \tNFORCE_SAFE1\n",
      "0 \tNFORCE_SAFE2\n",
      "0 \tADC_SEL_EXT\n",
      "0 \tDPE_EXT_OVERRIDE_EN\n",
      "0 \tDPE_EXT_SH\n",
      "1 \tADC_DONE\n",
      "0 \tADC_FIFO_ADVANCE\n",
      "0 \tADC_FIFO_EN<0>\n",
      "0 \tADC_FIFO_EN<1>\n",
      "0 \tADC_FIFO_EN<2>\n",
      "0 \tADC_FIFO_EN<3>\n"
     ]
    }
   ],
   "source": [
    "dut.py_logic_analyzer()"
   ]
  }
 ],
 "metadata": {
  "kernelspec": {
   "display_name": "Python 3",
   "language": "python",
   "name": "python3"
  },
  "language_info": {
   "codemirror_mode": {
    "name": "ipython",
    "version": 3
   },
   "file_extension": ".py",
   "mimetype": "text/x-python",
   "name": "python",
   "nbconvert_exporter": "python",
   "pygments_lexer": "ipython3",
   "version": "3.7.4"
  }
 },
 "nbformat": 4,
 "nbformat_minor": 4
}
