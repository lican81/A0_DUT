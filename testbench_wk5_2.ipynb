{
 "cells": [
  {
   "cell_type": "code",
   "execution_count": 1,
   "metadata": {},
   "outputs": [
    {
     "name": "stdout",
     "output_type": "stream",
     "text": [
      "Loaded: weights, \n",
      "Loaded: train_images, train_labels, test_images, test_labels, \n"
     ]
    }
   ],
   "source": [
    "%load_ext autoreload\n",
    "%autoreload 2\n",
    "from dpe import DPE\n",
    "from lib_data import *\n",
    "import matplotlib.pyplot as plt\n",
    "import numpy as np\n",
    "from lib_nn_dpe import NN_dpe\n",
    "from IPython import display\n",
    "\n",
    "load_workspace(vars(), 'dataset/20190815-132601-weights')\n",
    "load_workspace(vars(), 'dataset/mnist')"
   ]
  },
  {
   "cell_type": "code",
   "execution_count": 2,
   "metadata": {},
   "outputs": [
    {
     "name": "stdout",
     "output_type": "stream",
     "text": [
      "Connecting to serial\n",
      "DAC initialized to a span from -10 V to 10 V\n",
      "Setting vrefs to default\n",
      "[INFO] Elapsed time = 0.03s\n",
      "Serial disconnected\n"
     ]
    }
   ],
   "source": [
    "dpe = DPE()"
   ]
  },
  {
   "cell_type": "code",
   "execution_count": 3,
   "metadata": {},
   "outputs": [
    {
     "name": "stdout",
     "output_type": "stream",
     "text": [
      "Connecting to serial\n",
      "Setting ADC_CK freq=50000.0kHz\n",
      "Setting CK_ARRAY freq=50000.0kHz\n",
      "[INFO] Elapsed time = 0.00s\n",
      "Serial disconnected\n"
     ]
    }
   ],
   "source": [
    "dpe.set_clock(50)"
   ]
  },
  {
   "cell_type": "code",
   "execution_count": 4,
   "metadata": {},
   "outputs": [
    {
     "name": "stdout",
     "output_type": "stream",
     "text": [
      "Connecting to serial\n",
      "[INFO] Elapsed time = 0.25s\n",
      "Serial disconnected\n"
     ]
    }
   ],
   "source": [
    "g = dpe.read(1)"
   ]
  },
  {
   "cell_type": "code",
   "execution_count": 5,
   "metadata": {},
   "outputs": [
    {
     "data": {
      "text/plain": [
       "<matplotlib.colorbar.Colorbar at 0x109e46f0>"
      ]
     },
     "execution_count": 5,
     "metadata": {},
     "output_type": "execute_result"
    },
    {
     "data": {
      "image/png": "[encoded data removed]",
      "text/plain": [
       "<Figure size 432x288 with 2 Axes>"
      ]
     },
     "metadata": {
      "needs_background": "light"
     },
     "output_type": "display_data"
    }
   ],
   "source": [
    "plt.imshow(g)\n",
    "plt.colorbar()"
   ]
  },
  {
   "cell_type": "code",
   "execution_count": 6,
   "metadata": {},
   "outputs": [],
   "source": [
    "nn = NN_dpe(weights)"
   ]
  },
  {
   "cell_type": "code",
   "execution_count": 41,
   "metadata": {},
   "outputs": [
    {
     "data": {
      "text/plain": [
       "1.0"
      ]
     },
     "execution_count": 41,
     "metadata": {},
     "output_type": "execute_result"
    }
   ],
   "source": [
    "img_idx = 6\n",
    "\n",
    "image = test_images[img_idx]\n",
    "vectors = nn._conv_flattern(image)\n",
    "vectors.max()"
   ]
  },
  {
   "cell_type": "code",
   "execution_count": 42,
   "metadata": {},
   "outputs": [
    {
     "name": "stdout",
     "output_type": "stream",
     "text": [
      "Connecting to serial\n",
      "[INFO] Elapsed time = 1.48s\n",
      "Serial disconnected\n"
     ]
    }
   ],
   "source": [
    "outputs = dpe.multiply(1, vectors, c_sel=[0, 14]) / nn.Gratio"
   ]
  },
  {
   "cell_type": "code",
   "execution_count": 43,
   "metadata": {},
   "outputs": [
    {
     "data": {
      "text/plain": [
       "(400, 14)"
      ]
     },
     "execution_count": 43,
     "metadata": {},
     "output_type": "execute_result"
    }
   ],
   "source": [
    "outputs.shape"
   ]
  },
  {
   "cell_type": "code",
   "execution_count": 44,
   "metadata": {},
   "outputs": [],
   "source": [
    "linear_factors_conv = [\n",
    "       [ 1.40307296e+01, -2.58173509e-05],\n",
    "       [ 1.41033398e+01,  5.21875110e-05],\n",
    "       [ 1.55031527e+01,  1.58425174e-05],\n",
    "       [ 1.54161942e+01, -9.61619642e-05],\n",
    "       [ 1.32260040e+01,  1.93861940e-05],\n",
    "       [ 1.40131446e+01,  1.06075518e-04],\n",
    "       [ 1.17492652e+01, -2.25368275e-05],\n",
    "       [ 1.45670486e+01, -4.82399742e-05],\n",
    "       [ 1.36731289e+01,  1.02902647e-04],\n",
    "       [ 1.45841854e+01, -3.02688972e-05],\n",
    "       [ 1.57162630e+01,  4.17033681e-05],\n",
    "       [ 1.60243388e+01,  4.15976155e-05],\n",
    "       [ 1.64551436e+01,  2.55184336e-05],\n",
    "       [ 1.61364337e+01, -7.45189375e-05]]\n",
    "\n",
    "for c in range(outputs.shape[1]):\n",
    "    outputs[:,c] = outputs[:,c] * linear_factors_conv[c][0] + linear_factors_conv[c][1]"
   ]
  },
  {
   "cell_type": "code",
   "execution_count": 45,
   "metadata": {},
   "outputs": [],
   "source": [
    "result = outputs[:, ::2] - outputs[:,1::2]\n",
    "x = result.reshape(20,20,-1)\n",
    "# for i in range(7):\n",
    "#     plt.figure(i)\n",
    "#     plt.imshow(x[:,:,i])\n",
    "#     plt.colorbar()"
   ]
  },
  {
   "cell_type": "code",
   "execution_count": 46,
   "metadata": {},
   "outputs": [
    {
     "name": "stdout",
     "output_type": "stream",
     "text": [
      "predicted 4\n",
      "label 4\n"
     ]
    }
   ],
   "source": [
    "x1 = nn.relu(x)\n",
    "x1 = nn.max_pooling(x1)\n",
    "x1 = nn.flattern(x1)\n",
    "y = nn.dense(x1)\n",
    "\n",
    "print('predicted', y.argmax())\n",
    "print('label', test_labels[img_idx])"
   ]
  },
  {
   "cell_type": "code",
   "execution_count": null,
   "metadata": {},
   "outputs": [],
   "source": []
  },
  {
   "cell_type": "code",
   "execution_count": 56,
   "metadata": {},
   "outputs": [
    {
     "name": "stdout",
     "output_type": "stream",
     "text": [
      "idx=9999, predicted: 2, label: 6\n",
      "\t Accuracy = 81.73%\n",
      "Saving In(<class 'list'>), Out(<class 'dict'>), weights(<class 'numpy.ndarray'>), train_images(<class 'numpy.ndarray'>), train_labels(<class 'numpy.ndarray'>), test_images(<class 'numpy.ndarray'>), test_labels(<class 'numpy.ndarray'>), g(<class 'numpy.ndarray'>), img_idx(<class 'int'>), image(<class 'numpy.ndarray'>), vectors(<class 'numpy.ndarray'>), outputs(<class 'numpy.ndarray'>), linear_factors_conv(<class 'list'>), c(<class 'int'>), x(<class 'numpy.ndarray'>), i(<class 'int'>), result(<class 'numpy.ndarray'>), x1(<class 'numpy.ndarray'>), y(<class 'numpy.ndarray'>), xs(<class 'list'>), acc(<class 'list'>), to 20190820-055900-mnist_xs.pkl\n",
      "Saving In(<class 'list'>), weights(<class 'numpy.ndarray'>), train_images(<class 'numpy.ndarray'>), train_labels(<class 'numpy.ndarray'>), test_images(<class 'numpy.ndarray'>), test_labels(<class 'numpy.ndarray'>), g(<class 'numpy.ndarray'>), img_idx(<class 'int'>), image(<class 'numpy.ndarray'>), vectors(<class 'numpy.ndarray'>), outputs(<class 'numpy.ndarray'>), linear_factors_conv(<class 'list'>), c(<class 'int'>), x(<class 'numpy.ndarray'>), i(<class 'int'>), result(<class 'numpy.ndarray'>), x1(<class 'numpy.ndarray'>), y(<class 'numpy.ndarray'>), xs(<class 'list'>), acc(<class 'list'>), to 20190820-055900-mnist_xs.mat\n"
     ]
    }
   ],
   "source": [
    "xs = []\n",
    "acc = []\n",
    "\n",
    "for img_idx in range(len(test_images)):\n",
    "    \n",
    "    \n",
    "    image = test_images[img_idx]\n",
    "    vectors = nn._conv_flattern(image)\n",
    "    \n",
    "    outputs = dpe.multiply(1, vectors, c_sel=[0, 14]) / nn.Gratio\n",
    "    \n",
    "    for c in range(outputs.shape[1]):\n",
    "        outputs[:,c] = outputs[:,c] * linear_factors_conv[c][0] + linear_factors_conv[c][1]\n",
    "    \n",
    "    result = outputs[:, ::2] - outputs[:,1::2]\n",
    "    x = result.reshape(20,20,-1)\n",
    "    \n",
    "    x1 = nn.relu(x)\n",
    "    x1 = nn.max_pooling(x1)\n",
    "    x1 = nn.flattern(x1)\n",
    "    \n",
    "    xs.append(x1)\n",
    "    y = nn.dense(x1)\n",
    "    \n",
    "    display.clear_output(wait=True)\n",
    "\n",
    "    print(f'idx={img_idx}, predicted: {y.argmax()}, label: {test_labels[img_idx]}')\n",
    "    acc.append( y.argmax() == test_labels[img_idx] )\n",
    "    print(f'\\t Accuracy = {np.mean(acc)*100:.2f}%')\n",
    "save_workspace(vars(), note='mnist_xs')"
   ]
  },
  {
   "cell_type": "code",
   "execution_count": 12,
   "metadata": {},
   "outputs": [],
   "source": [
    "load_workspace(vars(), '20190820-055900-mnist_xs')\n",
    "xs = np.array(xs)"
   ]
  },
  {
   "cell_type": "code",
   "execution_count": 6,
   "metadata": {},
   "outputs": [
    {
     "data": {
      "text/plain": [
       "(10000, 112)"
      ]
     },
     "execution_count": 6,
     "metadata": {},
     "output_type": "execute_result"
    }
   ],
   "source": [
    "xs.shape"
   ]
  },
  {
   "cell_type": "code",
   "execution_count": 7,
   "metadata": {},
   "outputs": [],
   "source": [
    "xs = np.concatenate((xs, np.ones((xs.shape[0], 1))), axis=1)"
   ]
  },
  {
   "cell_type": "code",
   "execution_count": 8,
   "metadata": {},
   "outputs": [
    {
     "data": {
      "text/plain": [
       "(10000, 113)"
      ]
     },
     "execution_count": 8,
     "metadata": {},
     "output_type": "execute_result"
    }
   ],
   "source": [
    "xs.shape"
   ]
  },
  {
   "cell_type": "code",
   "execution_count": 9,
   "metadata": {},
   "outputs": [
    {
     "name": "stdout",
     "output_type": "stream",
     "text": [
      "Connecting to serial\n",
      "[INFO] Elapsed time = 0.25s\n",
      "Serial disconnected\n"
     ]
    },
    {
     "data": {
      "text/plain": [
       "<matplotlib.image.AxesImage at 0xeb48d70>"
      ]
     },
     "execution_count": 9,
     "metadata": {},
     "output_type": "execute_result"
    },
    {
     "data": {
      "image/png": "[encoded data removed]",
      "text/plain": [
       "<Figure size 432x288 with 1 Axes>"
      ]
     },
     "metadata": {
      "needs_background": "light"
     },
     "output_type": "display_data"
    }
   ],
   "source": [
    "plt.imshow(dpe.read(2))"
   ]
  },
  {
   "cell_type": "code",
   "execution_count": 38,
   "metadata": {},
   "outputs": [],
   "source": [
    "x = xs[0:400]\n",
    "\n",
    "x1 = x[:,:57].T\n",
    "x2 = x[:,57:].T\n",
    "\n",
    "sc1 = x1.max()\n",
    "sc2 = x2.max()\n",
    "\n",
    "Gfc1 = nn.Gfc[:57]\n",
    "Gfc2 = nn.Gfc[57:]\n",
    "\n",
    "x1 = x1 / sc1\n",
    "x2 = x2 / sc2"
   ]
  },
  {
   "cell_type": "code",
   "execution_count": 62,
   "metadata": {},
   "outputs": [],
   "source": [
    "def lin_corr(outputs, factors):\n",
    "    result = np.zeros(outputs.shape)\n",
    "    for c in range(outputs.shape[1]):\n",
    "        result[:,c] = outputs[:,c] * factors[c][0] + factors[c][1]\n",
    "        \n",
    "    return result"
   ]
  },
  {
   "cell_type": "code",
   "execution_count": 76,
   "metadata": {},
   "outputs": [
    {
     "name": "stdout",
     "output_type": "stream",
     "text": [
      "Connecting to serial\n",
      "[INFO] Elapsed time = 1.87s\n",
      "Serial disconnected\n"
     ]
    },
    {
     "data": {
      "image/png": "[encoded data removed]",
      "text/plain": [
       "<Figure size 432x288 with 1 Axes>"
      ]
     },
     "metadata": {
      "needs_background": "light"
     },
     "output_type": "display_data"
    }
   ],
   "source": [
    "outputs  = dpe.multiply(2, x1, c_sel=[0, 20])\n",
    "plt.imshow(outputs)\n",
    "outputs = lin_corr(outputs, lin_cor_fc1)"
   ]
  },
  {
   "cell_type": "code",
   "execution_count": 14,
   "metadata": {},
   "outputs": [],
   "source": [
    "lin_cor_fc1 = [\n",
    "       [ 1.65705364e+01, -4.76661730e-06],\n",
    "       [ 1.52014391e+01, -7.32910667e-06],\n",
    "       [ 1.83622860e+01, -1.03660227e-04],\n",
    "       [ 1.46453131e+01,  8.72582481e-05],\n",
    "       [ 1.57026572e+01,  5.49433331e-06],\n",
    "       [ 1.75302910e+01, -5.91984363e-05],\n",
    "       [ 1.70097444e+01, -3.77425017e-06],\n",
    "       [ 1.66811834e+01, -5.92705383e-05],\n",
    "       [ 1.58138030e+01, -8.54206565e-05],\n",
    "       [ 1.47224922e+01, -1.01580546e-04],\n",
    "       [ 1.63933874e+01,  2.75899701e-05],\n",
    "       [ 1.73734414e+01, -6.44827939e-05],\n",
    "       [ 1.72284591e+01, -1.78498676e-05],\n",
    "       [ 1.56514926e+01,  4.85230992e-05],\n",
    "       [ 1.82551529e+01, -6.58699418e-05],\n",
    "       [ 1.80427640e+01,  3.35214924e-05],\n",
    "       [ 1.68846215e+01,  5.83922590e-05],\n",
    "       [ 1.78382218e+01, -5.84954866e-05],\n",
    "       [ 1.59426072e+01, -2.58419590e-05],\n",
    "       [ 1.77145924e+01, -3.09111781e-04]]\n",
    "\n",
    "lin_cor_fc2 = [\n",
    "       [ 1.49074642e+01,  3.04496037e-05],\n",
    "       [ 1.66134607e+01, -6.65273335e-05],\n",
    "       [ 1.71330302e+01, -1.16174943e-04],\n",
    "       [ 1.70197025e+01, -5.26536591e-05],\n",
    "       [ 1.57107974e+01, -7.15197241e-05],\n",
    "       [ 1.70294047e+01, -7.92741963e-05],\n",
    "       [ 1.73580128e+01, -7.60909714e-05],\n",
    "       [ 1.84105096e+01, -2.43281137e-05],\n",
    "       [ 1.68061704e+01, -2.11947699e-05],\n",
    "       [ 1.51725578e+01, -2.68254150e-05],\n",
    "       [ 1.85076350e+01, -3.41438100e-05],\n",
    "       [ 1.60115486e+01, -3.91897704e-05],\n",
    "       [ 1.56633900e+01,  5.07271500e-05],\n",
    "       [ 1.78045219e+01, -8.48122737e-05],\n",
    "       [ 1.53011229e+01,  6.33155863e-05],\n",
    "       [ 1.49990127e+01,  8.11595510e-05],\n",
    "       [ 1.75060714e+01,  4.32311953e-05],\n",
    "       [ 1.79812969e+01, -1.50383469e-04],\n",
    "       [ 1.58391025e+01,  3.87391613e-06],\n",
    "       [ 1.58795906e+01, -1.12594198e-04]]"
   ]
  },
  {
   "cell_type": "code",
   "execution_count": 80,
   "metadata": {},
   "outputs": [
    {
     "name": "stdout",
     "output_type": "stream",
     "text": [
      "Connecting to serial\n",
      "[INFO] Elapsed time = 1.88s\n",
      "Serial disconnected\n",
      "Connecting to serial\n",
      "[INFO] Elapsed time = 1.85s\n",
      "Serial disconnected\n"
     ]
    }
   ],
   "source": [
    "output1  = dpe.multiply(2, x1, c_sel=[0, 20])\n",
    "output1 = lin_corr(output1, lin_cor_fc1)\n",
    "\n",
    "output2  = dpe.multiply(2, x2, c_sel=[20, 40])\n",
    "output2 = lin_corr(output2, lin_cor_fc1)\n",
    "\n",
    "outputs = output1 + output2"
   ]
  },
  {
   "cell_type": "code",
   "execution_count": 105,
   "metadata": {},
   "outputs": [
    {
     "name": "stdout",
     "output_type": "stream",
     "text": [
      "Connecting to serial\n",
      "[INFO] Elapsed time = 4.09s\n",
      "Serial disconnected\n"
     ]
    }
   ],
   "source": [
    "outputs = dpe.multiply(2, x2, c_sel=[20, 40])\n",
    "outputs = lin_corr(outputs, lin_cor_fc2)\n",
    "software = (Gfc2.T @ x2).T "
   ]
  },
  {
   "cell_type": "code",
   "execution_count": 106,
   "metadata": {},
   "outputs": [
    {
     "data": {
      "image/png": "[encoded data removed]",
      "text/plain": [
       "<Figure size 432x288 with 1 Axes>"
      ]
     },
     "metadata": {
      "needs_background": "light"
     },
     "output_type": "display_data"
    }
   ],
   "source": [
    "lin_cor_fc2 = []\n",
    "\n",
    "for c in range(20):\n",
    "    x = software[:,c]\n",
    "    y = outputs[:,c]\n",
    "    \n",
    "    plt.plot(x,y,'.')\n",
    "\n",
    "    lin_cor_fc2.append( np.polyfit(y, x, 1))"
   ]
  },
  {
   "cell_type": "code",
   "execution_count": 113,
   "metadata": {},
   "outputs": [
    {
     "data": {
      "text/plain": [
       "(array([1.000e+00, 0.000e+00, 0.000e+00, 3.000e+00, 9.000e+00, 7.000e+00,\n",
       "        1.100e+01, 1.700e+01, 3.100e+01, 4.800e+01, 8.200e+01, 1.560e+02,\n",
       "        1.850e+02, 2.730e+02, 3.590e+02, 4.590e+02, 5.850e+02, 7.030e+02,\n",
       "        8.350e+02, 9.650e+02, 1.160e+03, 1.151e+03, 1.249e+03, 1.320e+03,\n",
       "        1.369e+03, 1.313e+03, 1.332e+03, 1.216e+03, 1.043e+03, 9.620e+02,\n",
       "        7.510e+02, 5.670e+02, 4.680e+02, 3.750e+02, 2.520e+02, 2.000e+02,\n",
       "        1.590e+02, 1.050e+02, 7.900e+01, 5.100e+01, 3.700e+01, 3.000e+01,\n",
       "        2.800e+01, 2.100e+01, 1.100e+01, 7.000e+00, 8.000e+00, 1.000e+00,\n",
       "        3.000e+00, 3.000e+00]),\n",
       " array([-0.1076761 , -0.10325906, -0.09884201, -0.09442496, -0.09000791,\n",
       "        -0.08559087, -0.08117382, -0.07675677, -0.07233973, -0.06792268,\n",
       "        -0.06350563, -0.05908858, -0.05467154, -0.05025449, -0.04583744,\n",
       "        -0.04142039, -0.03700335, -0.0325863 , -0.02816925, -0.02375221,\n",
       "        -0.01933516, -0.01491811, -0.01050106, -0.00608402, -0.00166697,\n",
       "         0.00275008,  0.00716712,  0.01158417,  0.01600122,  0.02041827,\n",
       "         0.02483531,  0.02925236,  0.03366941,  0.03808646,  0.0425035 ,\n",
       "         0.04692055,  0.0513376 ,  0.05575464,  0.06017169,  0.06458874,\n",
       "         0.06900579,  0.07342283,  0.07783988,  0.08225693,  0.08667398,\n",
       "         0.09109102,  0.09550807,  0.09992512,  0.10434216,  0.10875921,\n",
       "         0.11317626]),\n",
       " <a list of 50 Patch objects>)"
      ]
     },
     "execution_count": 113,
     "metadata": {},
     "output_type": "execute_result"
    },
    {
     "data": {
      "image/png": "[encoded data removed]",
      "text/plain": [
       "<Figure size 432x288 with 1 Axes>"
      ]
     },
     "metadata": {
      "needs_background": "light"
     },
     "output_type": "display_data"
    }
   ],
   "source": [
    "plt.hist((outputs-software).reshape(-1, 1)/0.0025, bins=50 )"
   ]
  },
  {
   "cell_type": "code",
   "execution_count": 112,
   "metadata": {},
   "outputs": [
    {
     "data": {
      "text/plain": [
       "6.573628287744503e-05"
      ]
     },
     "execution_count": 112,
     "metadata": {},
     "output_type": "execute_result"
    }
   ],
   "source": [
    "(outputs-software).reshape(-1, 1).std()"
   ]
  },
  {
   "cell_type": "code",
   "execution_count": 18,
   "metadata": {},
   "outputs": [],
   "source": [
    "lin_cor_fc1 = [\n",
    "       [ 1.65705364e+01, -4.76661730e-06],\n",
    "       [ 1.52014391e+01, -7.32910667e-06],\n",
    "       [ 1.83622860e+01, -1.03660227e-04],\n",
    "       [ 1.46453131e+01,  8.72582481e-05],\n",
    "       [ 1.57026572e+01,  5.49433331e-06],\n",
    "       [ 1.75302910e+01, -5.91984363e-05],\n",
    "       [ 1.70097444e+01, -3.77425017e-06],\n",
    "       [ 1.66811834e+01, -5.92705383e-05],\n",
    "       [ 1.58138030e+01, -8.54206565e-05],\n",
    "       [ 1.47224922e+01, -1.01580546e-04],\n",
    "       [ 1.63933874e+01,  2.75899701e-05],\n",
    "       [ 1.73734414e+01, -6.44827939e-05],\n",
    "       [ 1.72284591e+01, -1.78498676e-05],\n",
    "       [ 1.56514926e+01,  4.85230992e-05],\n",
    "       [ 1.82551529e+01, -6.58699418e-05],\n",
    "       [ 1.80427640e+01,  3.35214924e-05],\n",
    "       [ 1.68846215e+01,  5.83922590e-05],\n",
    "       [ 1.78382218e+01, -5.84954866e-05],\n",
    "       [ 1.59426072e+01, -2.58419590e-05],\n",
    "       [ 1.77145924e+01, -3.09111781e-04]]\n",
    "\n",
    "lin_cor_fc2 = [\n",
    "       [ 1.49074642e+01,  3.04496037e-05],\n",
    "       [ 1.66134607e+01, -6.65273335e-05],\n",
    "       [ 1.71330302e+01, -1.16174943e-04],\n",
    "       [ 1.70197025e+01, -5.26536591e-05],\n",
    "       [ 1.57107974e+01, -7.15197241e-05],\n",
    "       [ 1.70294047e+01, -7.92741963e-05],\n",
    "       [ 1.73580128e+01, -7.60909714e-05],\n",
    "       [ 1.84105096e+01, -2.43281137e-05],\n",
    "       [ 1.68061704e+01, -2.11947699e-05],\n",
    "       [ 1.51725578e+01, -2.68254150e-05],\n",
    "       [ 1.85076350e+01, -3.41438100e-05],\n",
    "       [ 1.60115486e+01, -3.91897704e-05],\n",
    "       [ 1.56633900e+01,  5.07271500e-05],\n",
    "       [ 1.78045219e+01, -8.48122737e-05],\n",
    "       [ 1.53011229e+01,  6.33155863e-05],\n",
    "       [ 1.49990127e+01,  8.11595510e-05],\n",
    "       [ 1.75060714e+01,  4.32311953e-05],\n",
    "       [ 1.79812969e+01, -1.50383469e-04],\n",
    "       [ 1.58391025e+01,  3.87391613e-06],\n",
    "       [ 1.58795906e+01, -1.12594198e-04]]\n",
    "\n",
    "def lin_corr(outputs, factors):\n",
    "    result = np.zeros(outputs.shape)\n",
    "    for c in range(outputs.shape[1]):\n",
    "        result[:,c] = outputs[:,c] * factors[c][0] + factors[c][1]\n",
    "        \n",
    "    return result"
   ]
  },
  {
   "cell_type": "code",
   "execution_count": 16,
   "metadata": {},
   "outputs": [
    {
     "name": "stdout",
     "output_type": "stream",
     "text": [
      "Loaded: In, Out, weights, train_images, train_labels, test_images, test_labels, g, img_idx, image, vectors, outputs, linear_factors_conv, c, x, i, result, x1, y, xs, acc, \n"
     ]
    }
   ],
   "source": [
    "load_workspace(vars(), '20190820-055900-mnist_xs')\n",
    "xs = np.array(xs)"
   ]
  },
  {
   "cell_type": "code",
   "execution_count": 37,
   "metadata": {},
   "outputs": [
    {
     "name": "stdout",
     "output_type": "stream",
     "text": [
      "Running on sample 9000-10000\n",
      "Connecting to serial\n",
      "[INFO] Elapsed time = 4.21s\n",
      "Serial disconnected\n",
      "Connecting to serial\n",
      "[INFO] Elapsed time = 4.06s\n",
      "Serial disconnected\n"
     ]
    }
   ],
   "source": [
    "ys = []\n",
    "batch_size = 1000\n",
    "\n",
    "for i in range( (len(test_images)-1)//batch_size + 1 ):\n",
    "    display.clear_output(wait=True)\n",
    "    \n",
    "    idx1 = i * batch_size\n",
    "    idx2 = (i+1) * batch_size\n",
    "    idx2 = idx2 if idx2<= len(test_images) else len(test_images)\n",
    "    \n",
    "    print(f'Running on sample {idx1}-{idx2}')\n",
    "\n",
    "    x = xs[i*1000:(i+1)*1000]\n",
    "\n",
    "    x1 = x[:,:57].T\n",
    "    x2 = x[:,57:].T\n",
    "\n",
    "    sc1 = x1.max()\n",
    "    sc2 = x2.max()\n",
    "\n",
    "    Gfc1 = nn.Gfc[:57]\n",
    "    Gfc2 = nn.Gfc[57:]\n",
    "\n",
    "    x1 = x1 / sc1\n",
    "    x2 = x2 / sc2\n",
    "    \n",
    "    output1  = dpe.multiply(2, x1, c_sel=[0, 20])\n",
    "    output1 = lin_corr(output1, lin_cor_fc1) * sc1\n",
    "\n",
    "    output2  = dpe.multiply(2, x2, c_sel=[20, 40])\n",
    "    output2 = lin_corr(output2, lin_cor_fc2) * sc2\n",
    "\n",
    "    outputs = output1 + output2\n",
    "    \n",
    "    y = outputs[:,::2] - outputs[:,1::2]\n",
    "    ys.append(y)\n",
    "    \n",
    "ys = np.concatenate(ys)  "
   ]
  },
  {
   "cell_type": "code",
   "execution_count": 38,
   "metadata": {},
   "outputs": [
    {
     "data": {
      "text/plain": [
       "0.7721"
      ]
     },
     "execution_count": 38,
     "metadata": {},
     "output_type": "execute_result"
    }
   ],
   "source": [
    "np.mean(ys.argmax(axis=1) == test_labels)"
   ]
  },
  {
   "cell_type": "code",
   "execution_count": 29,
   "metadata": {},
   "outputs": [
    {
     "data": {
      "text/plain": [
       "array([ True,  True, False, ...,  True,  True,  True])"
      ]
     },
     "execution_count": 29,
     "metadata": {},
     "output_type": "execute_result"
    }
   ],
   "source": [
    "ynew.argmax(axis=1) == test_labels"
   ]
  },
  {
   "cell_type": "code",
   "execution_count": null,
   "metadata": {},
   "outputs": [],
   "source": []
  }
 ],
 "metadata": {
  "kernelspec": {
   "display_name": "Python 3",
   "language": "python",
   "name": "python3"
  },
  "language_info": {
   "codemirror_mode": {
    "name": "ipython",
    "version": 3
   },
   "file_extension": ".py",
   "mimetype": "text/x-python",
   "name": "python",
   "nbconvert_exporter": "python",
   "pygments_lexer": "ipython3",
   "version": "3.7.4"
  }
 },
 "nbformat": 4,
 "nbformat_minor": 4
}
