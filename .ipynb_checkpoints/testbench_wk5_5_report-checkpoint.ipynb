{
 "cells": [
  {
   "cell_type": "code",
   "execution_count": 122,
   "metadata": {},
   "outputs": [
    {
     "name": "stdout",
     "output_type": "stream",
     "text": [
      "The autoreload extension is already loaded. To reload it, use:\n",
      "  %reload_ext autoreload\n",
      "Loaded: weights, \n",
      "Loaded: train_images, train_labels, test_images, test_labels, \n"
     ]
    }
   ],
   "source": [
    "%load_ext autoreload\n",
    "%autoreload 2\n",
    "from dpe import DPE\n",
    "from lib_data import *\n",
    "import matplotlib.pyplot as plt\n",
    "import numpy as np\n",
    "from lib_nn_dpe import NN_dpe\n",
    "from IPython import display\n",
    "\n",
    "load_workspace(vars(), 'dataset/20190815-132601-weights')\n",
    "load_workspace(vars(), 'dataset/mnist')"
   ]
  },
  {
   "cell_type": "code",
   "execution_count": 123,
   "metadata": {},
   "outputs": [
    {
     "name": "stdout",
     "output_type": "stream",
     "text": [
      "Running <function DPE.init_dut at 0x0E2E3CD8> with serial\n",
      "DAC initialized to a span from -10 V to 10 V\n",
      "Setting vrefs to default\n",
      "[INFO] Elapsed time = 0.04s\n",
      "Serial disconnected\n"
     ]
    }
   ],
   "source": [
    "dpe = DPE('COM6')"
   ]
  },
  {
   "cell_type": "code",
   "execution_count": 124,
   "metadata": {},
   "outputs": [
    {
     "name": "stdout",
     "output_type": "stream",
     "text": [
      "Running <function DPE.set_clock at 0x0E2E3D68> with serial\n",
      "Setting ADC_CK freq=50000.0kHz\n",
      "Setting CK_ARRAY freq=50000.0kHz\n",
      "[INFO] Elapsed time = 0.00s\n",
      "Serial disconnected\n"
     ]
    }
   ],
   "source": [
    "dpe.set_clock(50)"
   ]
  },
  {
   "cell_type": "code",
   "execution_count": 134,
   "metadata": {},
   "outputs": [
    {
     "name": "stdout",
     "output_type": "stream",
     "text": [
      "Running <function DPE.read at 0x0E2E3DF8> with serial\n",
      "[INFO] Elapsed time = 0.25s\n",
      "Serial disconnected\n"
     ]
    }
   ],
   "source": [
    "g = dpe.read(1) "
   ]
  },
  {
   "cell_type": "code",
   "execution_count": 136,
   "metadata": {},
   "outputs": [
    {
     "data": {
      "text/plain": [
       "<matplotlib.colorbar.Colorbar at 0x124df8f0>"
      ]
     },
     "execution_count": 136,
     "metadata": {},
     "output_type": "execute_result"
    },
    {
     "data": {
      "image/png": "[encoded data removed]",
      "text/plain": [
       "<Figure size 432x288 with 2 Axes>"
      ]
     },
     "metadata": {
      "needs_background": "light"
     },
     "output_type": "display_data"
    }
   ],
   "source": [
    "plt.imshow(g)\n",
    "plt.clim(0, 100e-6)\n",
    "plt.colorbar()"
   ]
  },
  {
   "cell_type": "code",
   "execution_count": 8,
   "metadata": {},
   "outputs": [],
   "source": [
    "nn = NN_dpe(weights)"
   ]
  },
  {
   "cell_type": "code",
   "execution_count": null,
   "metadata": {},
   "outputs": [],
   "source": [
    "img_idx = 6\n",
    "\n",
    "image = test_images[img_idx]\n",
    "vectors = nn._conv_flattern(image)\n",
    "vectors.max()"
   ]
  },
  {
   "cell_type": "code",
   "execution_count": 20,
   "metadata": {},
   "outputs": [
    {
     "name": "stdout",
     "output_type": "stream",
     "text": [
      "Connecting to serial\n",
      "[INFO] Elapsed time = 1.49s\n",
      "Serial disconnected\n"
     ]
    }
   ],
   "source": [
    "outputs = dpe.multiply(1, vectors, c_sel=[0, 14]) / (nn.Gratio/2) / 0.2"
   ]
  },
  {
   "cell_type": "code",
   "execution_count": 21,
   "metadata": {},
   "outputs": [
    {
     "data": {
      "text/plain": [
       "(400, 14)"
      ]
     },
     "execution_count": 21,
     "metadata": {},
     "output_type": "execute_result"
    }
   ],
   "source": [
    "outputs.shape"
   ]
  },
  {
   "cell_type": "code",
   "execution_count": 24,
   "metadata": {},
   "outputs": [],
   "source": [
    "software = (finalGconv.T @ vectors).T / (nn.Gratio/2)"
   ]
  },
  {
   "cell_type": "code",
   "execution_count": null,
   "metadata": {},
   "outputs": [],
   "source": [
    "for c in range(14):\n",
    "    x = []\n",
    "    y = []\n",
    "        \n",
    "    plt.figure(c+1)\n",
    "    plt.title(f'Column {c}')\n",
    "    plt.plot(outputs[:,c],software[:,c], '.', alpha=0.3)\n",
    "    plt.xlabel('Expectation')"
   ]
  },
  {
   "cell_type": "code",
   "execution_count": 26,
   "metadata": {},
   "outputs": [
    {
     "data": {
      "text/plain": [
       "<matplotlib.colorbar.Colorbar at 0x10c73730>"
      ]
     },
     "execution_count": 26,
     "metadata": {},
     "output_type": "execute_result"
    },
    {
     "data": {
      "image/png": "[encoded data removed]",
      "text/plain": [
       "<Figure size 432x288 with 2 Axes>"
      ]
     },
     "metadata": {
      "needs_background": "light"
     },
     "output_type": "display_data"
    }
   ],
   "source": [
    "plt.imshow(software[:40])\n",
    "plt.colorbar()"
   ]
  },
  {
   "cell_type": "code",
   "execution_count": 27,
   "metadata": {},
   "outputs": [
    {
     "data": {
      "text/plain": [
       "<matplotlib.colorbar.Colorbar at 0x10b53db0>"
      ]
     },
     "execution_count": 27,
     "metadata": {},
     "output_type": "execute_result"
    },
    {
     "data": {
      "image/png": "[encoded data removed]",
      "text/plain": [
       "<Figure size 432x288 with 2 Axes>"
      ]
     },
     "metadata": {
      "needs_background": "light"
     },
     "output_type": "display_data"
    }
   ],
   "source": [
    "plt.imshow(outputs[:40])\n",
    "plt.colorbar()"
   ]
  },
  {
   "cell_type": "code",
   "execution_count": 28,
   "metadata": {},
   "outputs": [
    {
     "data": {
      "text/plain": [
       "array([[ 1.10600809,  0.02558262],\n",
       "       [ 1.0400355 ,  0.85863644],\n",
       "       [ 1.30230276,  0.00215507],\n",
       "       [ 1.44122246, -0.16235268],\n",
       "       [ 1.23063979, -0.09618758],\n",
       "       [ 1.08255167,  0.03345652],\n",
       "       [ 1.10381478, -0.07628634],\n",
       "       [ 1.23586714,  0.08344223],\n",
       "       [ 1.06021022, -0.08062452],\n",
       "       [ 1.37758174, -0.16723768],\n",
       "       [ 1.17893294,  0.0187636 ],\n",
       "       [ 1.12354446,  0.03942665],\n",
       "       [ 1.22563643,  0.01260009],\n",
       "       [ 0.79969926,  0.41632605]])"
      ]
     },
     "execution_count": 28,
     "metadata": {},
     "output_type": "execute_result"
    }
   ],
   "source": [
    "linear_factors_conv = []\n",
    "for c in range(14):\n",
    "    linear_factors_conv.append( np.polyfit(outputs[:,c], software[:,c], 1))\n",
    "    \n",
    "linear_factors_conv = np.array(linear_factors_conv)\n",
    "linear_factors_conv"
   ]
  },
  {
   "cell_type": "code",
   "execution_count": 29,
   "metadata": {},
   "outputs": [],
   "source": [
    "for c in range(outputs.shape[1]):\n",
    "    outputs[:,c] = outputs[:,c] * linear_factors_conv[c][0] + linear_factors_conv[c][1]"
   ]
  },
  {
   "cell_type": "code",
   "execution_count": 31,
   "metadata": {},
   "outputs": [],
   "source": [
    "result = outputs[:, ::2] - outputs[:,1::2]\n",
    "x = result.reshape(20,20,-1)\n",
    "# for i in range(7):\n",
    "#     plt.figure(i)\n",
    "#     plt.imshow(x[:,:,i])\n",
    "#     plt.colorbar()"
   ]
  },
  {
   "cell_type": "code",
   "execution_count": 32,
   "metadata": {},
   "outputs": [
    {
     "name": "stdout",
     "output_type": "stream",
     "text": [
      "predicted 4\n",
      "label 4\n"
     ]
    }
   ],
   "source": [
    "x1 = nn.relu(x)\n",
    "x1 = nn.max_pooling(x1)\n",
    "x1 = nn.flattern(x1)\n",
    "y = nn.dense(x1)\n",
    "\n",
    "print('predicted', y.argmax())\n",
    "print('label', test_labels[img_idx])"
   ]
  },
  {
   "cell_type": "code",
   "execution_count": null,
   "metadata": {},
   "outputs": [],
   "source": []
  },
  {
   "cell_type": "code",
   "execution_count": null,
   "metadata": {},
   "outputs": [],
   "source": [
    "xs = []\n",
    "acc = []\n",
    "\n",
    "for img_idx in range(len(test_images)):\n",
    "    \n",
    "    \n",
    "    image = test_images[img_idx]\n",
    "    vectors = nn._conv_flattern(image)\n",
    "    \n",
    "    outputs = dpe.multiply(1, vectors, c_sel=[0, 14]) / (nn.Gratio/2) / 0.2\n",
    "    \n",
    "    for c in range(outputs.shape[1]):\n",
    "        outputs[:,c] = outputs[:,c] * linear_factors_conv[c][0] + linear_factors_conv[c][1]\n",
    "    \n",
    "    result = outputs[:, ::2] - outputs[:,1::2]\n",
    "    x = result.reshape(20,20,-1)\n",
    "    \n",
    "    x1 = nn.relu(x)\n",
    "    x1 = nn.max_pooling(x1)\n",
    "    x1 = nn.flattern(x1)\n",
    "    \n",
    "    xs.append(x1)\n",
    "    y = nn.dense(x1)\n",
    "    \n",
    "    display.clear_output(wait=True)\n",
    "\n",
    "    print(f'idx={img_idx}, predicted: {y.argmax()}, label: {test_labels[img_idx]}')\n",
    "    acc.append( y.argmax() == test_labels[img_idx] )\n",
    "    print(f'\\t Accuracy = {np.mean(acc)*100:.2f}%')\n",
    "    \n",
    "save_workspace(vars(), note='mnist_xs')"
   ]
  },
  {
   "cell_type": "code",
   "execution_count": 103,
   "metadata": {},
   "outputs": [
    {
     "name": "stdout",
     "output_type": "stream",
     "text": [
      "Loaded: In, Out, weights, train_images, train_labels, test_images, test_labels, g, img_idx, image, vectors, outputs, software, c, x, y, mat_contents, finalGconv, g1, g2, linear_factors_conv, xs, acc, result, x1, \n"
     ]
    }
   ],
   "source": [
    "load_workspace(vars(), '20190821-051552-mnist_xs')\n",
    "\n",
    "# load_workspace(vars(), 'mnist_xs_software')\n",
    "xs = np.array(xs)"
   ]
  },
  {
   "cell_type": "code",
   "execution_count": 104,
   "metadata": {},
   "outputs": [
    {
     "name": "stdout",
     "output_type": "stream",
     "text": [
      "idx=9999, predicted: 6, label: 6\n",
      "\t Accuracy = 98.00%\n"
     ]
    }
   ],
   "source": [
    "# Check xs \n",
    "acc = []\n",
    "\n",
    "for img_idx in range(len(test_images)):\n",
    "    x1 = xs[img_idx]\n",
    "    y = nn.dense(x1)\n",
    "    \n",
    "    if (img_idx+1)%100 == 0:\n",
    "        display.clear_output(wait=True)\n",
    "\n",
    "        print(f'idx={img_idx}, predicted: {y.argmax()}, label: {test_labels[img_idx]}')\n",
    "        acc.append( y.argmax() == test_labels[img_idx] )\n",
    "        print(f'\\t Accuracy = {np.mean(acc)*100:.2f}%')"
   ]
  },
  {
   "cell_type": "code",
   "execution_count": 105,
   "metadata": {},
   "outputs": [
    {
     "data": {
      "text/plain": [
       "array([[ 1.43760178, -0.        ,  2.6677077 , ..., -0.        ,\n",
       "        -0.        , -0.        ],\n",
       "       [ 0.40300978,  0.68757231,  2.79176243, ..., -0.        ,\n",
       "         3.54113916,  2.61077068],\n",
       "       [-0.        , -0.        ,  0.06726302, ..., -0.        ,\n",
       "        -0.        , -0.        ],\n",
       "       ...,\n",
       "       [-0.        , -0.        ,  0.11108644, ..., -0.        ,\n",
       "        -0.        , -0.        ],\n",
       "       [-0.        , -0.        ,  0.11126897, ..., -0.        ,\n",
       "        -0.        , -0.        ],\n",
       "       [-0.        , -0.        ,  0.79958419, ..., -0.        ,\n",
       "         3.2943451 ,  1.30286908]])"
      ]
     },
     "execution_count": 105,
     "metadata": {},
     "output_type": "execute_result"
    }
   ],
   "source": [
    "xs"
   ]
  },
  {
   "cell_type": "code",
   "execution_count": 106,
   "metadata": {},
   "outputs": [
    {
     "data": {
      "text/plain": [
       "(10000, 112)"
      ]
     },
     "execution_count": 106,
     "metadata": {},
     "output_type": "execute_result"
    }
   ],
   "source": [
    "xs = np.array(xs)\n",
    "xs.shape"
   ]
  },
  {
   "cell_type": "code",
   "execution_count": 107,
   "metadata": {},
   "outputs": [],
   "source": [
    "xs = np.concatenate((xs, np.ones((xs.shape[0], 1))), axis=1)"
   ]
  },
  {
   "cell_type": "code",
   "execution_count": 108,
   "metadata": {},
   "outputs": [
    {
     "data": {
      "text/plain": [
       "(10000, 113)"
      ]
     },
     "execution_count": 108,
     "metadata": {},
     "output_type": "execute_result"
    }
   ],
   "source": [
    "xs.shape"
   ]
  },
  {
   "cell_type": "code",
   "execution_count": 109,
   "metadata": {},
   "outputs": [
    {
     "name": "stdout",
     "output_type": "stream",
     "text": [
      "Running <function DPE.read at 0x0E2E3DF8> with serial\n",
      "[INFO] Elapsed time = 0.25s\n",
      "Serial disconnected\n"
     ]
    },
    {
     "data": {
      "text/plain": [
       "<matplotlib.image.AxesImage at 0x14cb6a30>"
      ]
     },
     "execution_count": 109,
     "metadata": {},
     "output_type": "execute_result"
    },
    {
     "data": {
      "image/png": "[encoded data removed]",
      "text/plain": [
       "<Figure size 432x288 with 1 Axes>"
      ]
     },
     "metadata": {
      "needs_background": "light"
     },
     "output_type": "display_data"
    }
   ],
   "source": [
    "plt.imshow(dpe.read(2))"
   ]
  },
  {
   "cell_type": "code",
   "execution_count": 110,
   "metadata": {},
   "outputs": [],
   "source": [
    "x = xs[0:400]\n",
    "\n",
    "x1 = x[:,:57].T\n",
    "x2 = x[:,57:].T\n",
    "\n",
    "sc1 = x1.max()\n",
    "sc2 = x2.max()\n",
    "\n",
    "Gfc1 = nn.Gfc[:57]\n",
    "Gfc2 = nn.Gfc[57:]\n",
    "\n",
    "x1 = x1 / sc1\n",
    "x2 = x2 / sc2"
   ]
  },
  {
   "cell_type": "code",
   "execution_count": 111,
   "metadata": {},
   "outputs": [
    {
     "name": "stdout",
     "output_type": "stream",
     "text": [
      "Running <function DPE.multiply at 0x0E2E4078> with serial\n",
      "[INFO] Elapsed time = 2.07s\n",
      "Serial disconnected\n",
      "Running <function DPE.multiply at 0x0E2E4078> with serial\n",
      "[INFO] Elapsed time = 2.06s\n",
      "Serial disconnected\n"
     ]
    }
   ],
   "source": [
    "dpe.N_BIT = 8\n",
    "\n",
    "output1 = dpe.multiply(2, x1, c_sel=[0, 20], mode=0)\n",
    "software1 = (Gfc1.T @ x1).T \n",
    "\n",
    "output2 = dpe.multiply(2, x2, c_sel=[20, 40], mode=0)\n",
    "software2 = (Gfc2.T @ x2).T "
   ]
  },
  {
   "cell_type": "code",
   "execution_count": 112,
   "metadata": {},
   "outputs": [],
   "source": [
    "# dpe.N_BIT = 8\n",
    "# output1 = dpe.multiply_w_delay(2, x1, c_sel=[0, 20], mode=1, debug=True, delay=5)\n",
    "# software1 = (Gfc1.T @ x1).T \n",
    "\n",
    "# output2 = dpe.multiply_w_delay(2, x2, c_sel=[20, 40], mode=1, debug=True, delay=5)\n",
    "# software2 = (Gfc2.T @ x2).T "
   ]
  },
  {
   "cell_type": "code",
   "execution_count": 113,
   "metadata": {},
   "outputs": [],
   "source": [
    "lin_cor_fc1 = []\n",
    "lin_cor_fc2 = []\n",
    "for c in range(20):\n",
    "    lin_cor_fc1.append( np.polyfit(output1[:,c], software1[:,c], 1))\n",
    "    lin_cor_fc2.append( np.polyfit(output2[:,c], software2[:,c], 1))"
   ]
  },
  {
   "cell_type": "code",
   "execution_count": 114,
   "metadata": {},
   "outputs": [],
   "source": [
    "def lin_corr(outputs, factors):\n",
    "    result = np.zeros(outputs.shape)\n",
    "    for c in range(outputs.shape[1]):\n",
    "        result[:,c] = outputs[:,c] * factors[c][0] + factors[c][1]\n",
    "        \n",
    "    return result"
   ]
  },
  {
   "cell_type": "code",
   "execution_count": 115,
   "metadata": {},
   "outputs": [],
   "source": [
    "# output_cor = lin_corr(output_sub, lin_cor_fc)"
   ]
  },
  {
   "cell_type": "code",
   "execution_count": 116,
   "metadata": {},
   "outputs": [],
   "source": [
    "# for c in range(10):\n",
    "#     x = software_sub[:,c]\n",
    "#     y = output_cor[:,c]\n",
    "    \n",
    "#     plt.plot(x,y,'.')\n",
    "#     plt.xticks(rotation=45)\n",
    "\n",
    "#     lin_cor_fc2.append( np.polyfit(y, x, 1))"
   ]
  },
  {
   "cell_type": "code",
   "execution_count": 117,
   "metadata": {},
   "outputs": [
    {
     "name": "stdout",
     "output_type": "stream",
     "text": [
      "Running <function DPE.multiply at 0x0E2E4078> with serial\n",
      "[INFO] Elapsed time = 2.01s\n",
      "Serial disconnected\n"
     ]
    }
   ],
   "source": [
    "outputs = dpe.multiply(0, x2, c_sel=[20, 40], mode=0) \n",
    "outputs = lin_corr(outputs, lin_cor_fc2)\n",
    "software = (Gfc2.T @ x2).T "
   ]
  },
  {
   "cell_type": "code",
   "execution_count": 118,
   "metadata": {},
   "outputs": [],
   "source": [
    "# outputs = dpe.multiply_w_delay(2, x2, c_sel=[20, 40], mode=1, debug=True, delay=5)\n",
    "output_corr = lin_corr(output2, lin_cor_fc2)\n",
    "software = (Gfc2.T @ x2).T "
   ]
  },
  {
   "cell_type": "code",
   "execution_count": 119,
   "metadata": {},
   "outputs": [
    {
     "data": {
      "image/png": "[encoded data removed]",
      "text/plain": [
       "<Figure size 432x288 with 1 Axes>"
      ]
     },
     "metadata": {
      "needs_background": "light"
     },
     "output_type": "display_data"
    }
   ],
   "source": [
    "# lin_cor_fc2 = []\n",
    "\n",
    "for c in range(20):\n",
    "    x = software[:,c]\n",
    "    y = output_corr[:,c]\n",
    "    \n",
    "    plt.plot(x,y,'.')\n",
    "\n",
    "#     lin_cor_fc2.append( np.polyfit(y, x, 1))"
   ]
  },
  {
   "cell_type": "code",
   "execution_count": 120,
   "metadata": {},
   "outputs": [
    {
     "data": {
      "text/plain": [
       "(array([  1.,   0.,   2.,   3.,   2.,   7.,   7.,  10.,   7.,  24.,  29.,\n",
       "         30.,  49.,  70.,  74., 101., 102., 141., 159., 212., 232., 252.,\n",
       "        331., 378., 480., 553., 578., 542., 516., 458., 450., 386., 371.,\n",
       "        304., 265., 211., 199., 133., 108.,  72.,  50.,  42.,  23.,  16.,\n",
       "          7.,   5.,   3.,   2.,   1.,   2.]),\n",
       " array([-0.12070748, -0.11627144, -0.1118354 , -0.10739936, -0.10296333,\n",
       "        -0.09852729, -0.09409125, -0.08965521, -0.08521917, -0.08078314,\n",
       "        -0.0763471 , -0.07191106, -0.06747502, -0.06303899, -0.05860295,\n",
       "        -0.05416691, -0.04973087, -0.04529483, -0.0408588 , -0.03642276,\n",
       "        -0.03198672, -0.02755068, -0.02311465, -0.01867861, -0.01424257,\n",
       "        -0.00980653, -0.00537049, -0.00093446,  0.00350158,  0.00793762,\n",
       "         0.01237366,  0.01680969,  0.02124573,  0.02568177,  0.03011781,\n",
       "         0.03455385,  0.03898988,  0.04342592,  0.04786196,  0.052298  ,\n",
       "         0.05673403,  0.06117007,  0.06560611,  0.07004215,  0.07447819,\n",
       "         0.07891422,  0.08335026,  0.0877863 ,  0.09222234,  0.09665837,\n",
       "         0.10109441]),\n",
       " <a list of 50 Patch objects>)"
      ]
     },
     "execution_count": 120,
     "metadata": {},
     "output_type": "execute_result"
    },
    {
     "data": {
      "image/png": "[encoded data removed]",
      "text/plain": [
       "<Figure size 432x288 with 1 Axes>"
      ]
     },
     "metadata": {
      "needs_background": "light"
     },
     "output_type": "display_data"
    }
   ],
   "source": [
    "plt.hist((output_corr-software).reshape(-1, 1)/0.0025, bins=50 )"
   ]
  },
  {
   "cell_type": "code",
   "execution_count": 121,
   "metadata": {},
   "outputs": [
    {
     "data": {
      "text/plain": [
       "0.03174224690830441"
      ]
     },
     "execution_count": 121,
     "metadata": {},
     "output_type": "execute_result"
    }
   ],
   "source": [
    "(output_corr-software).reshape(-1, 1).std()/0.00225"
   ]
  },
  {
   "cell_type": "code",
   "execution_count": 96,
   "metadata": {},
   "outputs": [],
   "source": [
    "# load_workspace(vars(), '20190821-051552-mnist_xs')\n",
    "# xs = np.array(xs)"
   ]
  },
  {
   "cell_type": "code",
   "execution_count": 97,
   "metadata": {},
   "outputs": [
    {
     "name": "stdout",
     "output_type": "stream",
     "text": [
      "Batch accuracy = 92.10%\n",
      "Overall = 92.02%\n"
     ]
    }
   ],
   "source": [
    "ys = []\n",
    "batch_size = 1000\n",
    "\n",
    "for i in range( (len(test_images)-1)//batch_size + 1 ):\n",
    "    idx1 = i * batch_size\n",
    "    idx2 = (i+1) * batch_size\n",
    "    idx2 = idx2 if idx2<= len(test_images) else len(test_images)\n",
    "    \n",
    "    print(f'Running on sample {idx1}-{idx2}')\n",
    "\n",
    "    x = xs[idx1:idx2]\n",
    "\n",
    "    x1 = x[:,:57].T\n",
    "    x2 = x[:,57:].T\n",
    "\n",
    "    sc1 = x1.max()\n",
    "    sc2 = x2.max()\n",
    "\n",
    "    Gfc1 = nn.Gfc[:57]\n",
    "    Gfc2 = nn.Gfc[57:]\n",
    "\n",
    "    x1 = x1 / sc1\n",
    "    x2 = x2 / sc2\n",
    "    \n",
    "    output1  = dpe.multiply(2, x1, c_sel=[0, 20], mode=1)\n",
    "    output1 = lin_corr(output1, lin_cor_fc1) * sc1\n",
    "\n",
    "    output2  = dpe.multiply(2, x2, c_sel=[20, 40], mode=1)\n",
    "    output2 = lin_corr(output2, lin_cor_fc2) * sc2\n",
    "\n",
    "    outputs = output1 + output2\n",
    "    \n",
    "    y = outputs[:,::2] - outputs[:,1::2]\n",
    "    \n",
    "    display.clear_output(wait=True)\n",
    "    \n",
    "    print(f'Batch accuracy = {np.mean(y.argmax(axis=1) == test_labels[idx1:idx2])*100:.2f}%')\n",
    "    ys.append(y)\n",
    "    print(f'Overall = {np.mean(np.concatenate(ys).argmax(axis=1) == test_labels[:idx2])*100:.2f}%')\n",
    "    \n",
    "ys = np.concatenate(ys)  "
   ]
  },
  {
   "cell_type": "code",
   "execution_count": 85,
   "metadata": {},
   "outputs": [
    {
     "data": {
      "text/plain": [
       "0.9377"
      ]
     },
     "execution_count": 85,
     "metadata": {},
     "output_type": "execute_result"
    }
   ],
   "source": [
    "np.mean(ys.argmax(axis=1) == test_labels)"
   ]
  },
  {
   "cell_type": "code",
   "execution_count": 86,
   "metadata": {},
   "outputs": [
    {
     "name": "stdout",
     "output_type": "stream",
     "text": [
      "Saving In(<class 'list'>), Out(<class 'dict'>), weights(<class 'numpy.ndarray'>), train_images(<class 'numpy.ndarray'>), train_labels(<class 'numpy.ndarray'>), test_images(<class 'numpy.ndarray'>), test_labels(<class 'numpy.ndarray'>), g(<class 'numpy.ndarray'>), img_idx(<class 'int'>), image(<class 'numpy.ndarray'>), vectors(<class 'numpy.ndarray'>), outputs(<class 'numpy.ndarray'>), software(<class 'numpy.ndarray'>), c(<class 'int'>), x(<class 'numpy.ndarray'>), y(<class 'numpy.ndarray'>), mat_contents(<class 'dict'>), finalGconv(<class 'numpy.ndarray'>), g1(<class 'numpy.ndarray'>), g2(<class 'numpy.ndarray'>), linear_factors_conv(<class 'numpy.ndarray'>), xs(<class 'numpy.ndarray'>), acc(<class 'list'>), result(<class 'numpy.ndarray'>), x1(<class 'numpy.ndarray'>), x2(<class 'numpy.ndarray'>), sc1(<class 'numpy.float64'>), sc2(<class 'numpy.float64'>), Gfc1(<class 'numpy.ndarray'>), Gfc2(<class 'numpy.ndarray'>), output1(<class 'numpy.ndarray'>), software1(<class 'numpy.ndarray'>), output2(<class 'numpy.ndarray'>), software2(<class 'numpy.ndarray'>), lin_cor_fc1(<class 'list'>), lin_cor_fc2(<class 'list'>), output_corr(<class 'numpy.ndarray'>), ys(<class 'numpy.ndarray'>), batch_size(<class 'int'>), i(<class 'int'>), idx1(<class 'int'>), idx2(<class 'int'>), to 20190822-183404-prober1-reprogFC-unary64.pkl\n",
      "Saving In(<class 'list'>), weights(<class 'numpy.ndarray'>), train_images(<class 'numpy.ndarray'>), train_labels(<class 'numpy.ndarray'>), test_images(<class 'numpy.ndarray'>), test_labels(<class 'numpy.ndarray'>), g(<class 'numpy.ndarray'>), img_idx(<class 'int'>), image(<class 'numpy.ndarray'>), vectors(<class 'numpy.ndarray'>), outputs(<class 'numpy.ndarray'>), software(<class 'numpy.ndarray'>), c(<class 'int'>), x(<class 'numpy.ndarray'>), y(<class 'numpy.ndarray'>), finalGconv(<class 'numpy.ndarray'>), g1(<class 'numpy.ndarray'>), g2(<class 'numpy.ndarray'>), linear_factors_conv(<class 'numpy.ndarray'>), xs(<class 'numpy.ndarray'>), acc(<class 'list'>), result(<class 'numpy.ndarray'>), x1(<class 'numpy.ndarray'>), x2(<class 'numpy.ndarray'>), sc1(<class 'numpy.float64'>), sc2(<class 'numpy.float64'>), Gfc1(<class 'numpy.ndarray'>), Gfc2(<class 'numpy.ndarray'>), output1(<class 'numpy.ndarray'>), software1(<class 'numpy.ndarray'>), output2(<class 'numpy.ndarray'>), software2(<class 'numpy.ndarray'>), lin_cor_fc1(<class 'list'>), lin_cor_fc2(<class 'list'>), output_corr(<class 'numpy.ndarray'>), ys(<class 'numpy.ndarray'>), batch_size(<class 'int'>), i(<class 'int'>), idx1(<class 'int'>), idx2(<class 'int'>), to 20190822-183404-prober1-reprogFC-unary64.mat\n"
     ]
    }
   ],
   "source": [
    "save_workspace(vars(), note='prober1-reprogFC-unary64')"
   ]
  },
  {
   "cell_type": "code",
   "execution_count": 29,
   "metadata": {},
   "outputs": [
    {
     "data": {
      "text/plain": [
       "array([ True,  True, False, ...,  True,  True,  True])"
      ]
     },
     "execution_count": 29,
     "metadata": {},
     "output_type": "execute_result"
    }
   ],
   "source": [
    "ynew.argmax(axis=1) == test_labels"
   ]
  },
  {
   "cell_type": "code",
   "execution_count": 23,
   "metadata": {},
   "outputs": [],
   "source": [
    "import scipy.io as sio\n",
    "#load_workspace(vars(), '20190814-205207-CNN weights')\n",
    "mat_contents = sio.loadmat('UpdatedGconv.mat')\n",
    "finalGconv = mat_contents['finalGconv']"
   ]
  },
  {
   "cell_type": "code",
   "execution_count": 104,
   "metadata": {},
   "outputs": [
    {
     "name": "stdout",
     "output_type": "stream",
     "text": [
      "Batch accuracy = 89.00%\n",
      "Overall = 89.61%\n"
     ]
    }
   ],
   "source": [
    "# Linear correction after subtraction\n",
    "\n",
    "ys = []\n",
    "batch_size = 1000\n",
    "\n",
    "for i in range( (len(test_images)-1)//batch_size + 1 ):\n",
    "    idx1 = i * batch_size\n",
    "    idx2 = (i+1) * batch_size\n",
    "    idx2 = idx2 if idx2<= len(test_images) else len(test_images)\n",
    "    \n",
    "    print(f'Running on sample {idx1}-{idx2}')\n",
    "\n",
    "    x = xs[idx1:idx2]\n",
    "\n",
    "    x1 = x[:,:57].T\n",
    "    x2 = x[:,57:].T\n",
    "\n",
    "    sc1 = x1.max()\n",
    "    sc2 = x2.max()\n",
    "\n",
    "    Gfc1 = nn.Gfc[:57]\n",
    "    Gfc2 = nn.Gfc[57:]\n",
    "\n",
    "    x1 = x1 / sc1\n",
    "    x2 = x2 / sc2\n",
    "    \n",
    "    output1  = dpe.multiply(2, x1, c_sel=[0, 20], mode=1) * sc1\n",
    "#     output1 = lin_corr(output1, lin_cor_fc1) * sc1\n",
    "\n",
    "    output2  = dpe.multiply(2, x2, c_sel=[20, 40], mode=1) * sc2\n",
    "#     output2 = lin_corr(output2, lin_cor_fc2) * sc2\n",
    "\n",
    "    outputs = output1 + output2\n",
    "    \n",
    "    y = outputs[:,::2] - outputs[:,1::2]\n",
    "    \n",
    "    y = lin_corr(y, lin_cor_fc)\n",
    "    \n",
    "    display.clear_output(wait=True)\n",
    "    \n",
    "    print(f'Batch accuracy = {np.mean(y.argmax(axis=1) == test_labels[idx1:idx2])*100:.2f}%')\n",
    "    ys.append(y)\n",
    "    print(f'Overall = {np.mean(np.concatenate(ys).argmax(axis=1) == test_labels[:idx2])*100:.2f}%')\n",
    "    \n",
    "ys = np.concatenate(ys)  "
   ]
  },
  {
   "cell_type": "code",
   "execution_count": null,
   "metadata": {},
   "outputs": [],
   "source": []
  }
 ],
 "metadata": {
  "kernelspec": {
   "display_name": "Python 3",
   "language": "python",
   "name": "python3"
  },
  "language_info": {
   "codemirror_mode": {
    "name": "ipython",
    "version": 3
   },
   "file_extension": ".py",
   "mimetype": "text/x-python",
   "name": "python",
   "nbconvert_exporter": "python",
   "pygments_lexer": "ipython3",
   "version": "3.7.4"
  }
 },
 "nbformat": 4,
 "nbformat_minor": 4
}
