{
 "cells": [
  {
   "cell_type": "code",
   "execution_count": 1,
   "metadata": {},
   "outputs": [
    {
     "name": "stdout",
     "output_type": "stream",
     "text": [
      "Loaded: weights, \n",
      "Loaded: train_images, train_labels, test_images, test_labels, \n"
     ]
    }
   ],
   "source": [
    "%load_ext autoreload\n",
    "%autoreload 2\n",
    "from dpe import DPE\n",
    "from lib_data import *\n",
    "import matplotlib.pyplot as plt\n",
    "import numpy as np\n",
    "from lib_nn_dpe import NN_dpe\n",
    "from IPython import display\n",
    "\n",
    "load_workspace(vars(), 'dataset/20190815-132601-weights')\n",
    "load_workspace(vars(), 'dataset/mnist')"
   ]
  },
  {
   "cell_type": "code",
   "execution_count": 2,
   "metadata": {},
   "outputs": [
    {
     "name": "stdout",
     "output_type": "stream",
     "text": [
      "Running <function DPE.init_dut at 0x000001C3A2159048> with serial\n",
      "DAC initialized to a span from -10 V to 10 V\n",
      "Setting vrefs to default\n",
      "[INFO] Elapsed time = 0.05s\n",
      "Serial disconnected\n"
     ]
    }
   ],
   "source": [
    "dpe = DPE('COM3')"
   ]
  },
  {
   "cell_type": "code",
   "execution_count": 3,
   "metadata": {},
   "outputs": [
    {
     "name": "stdout",
     "output_type": "stream",
     "text": [
      "Running <function DPE.set_clock at 0x000001C3A2159168> with serial\n",
      "Setting ADC_CK freq=50000.0kHz\n",
      "Setting CK_ARRAY freq=50000.0kHz\n",
      "[INFO] Elapsed time = 0.00s\n",
      "Serial disconnected\n"
     ]
    }
   ],
   "source": [
    "dpe.set_clock(50)"
   ]
  },
  {
   "cell_type": "code",
   "execution_count": 4,
   "metadata": {},
   "outputs": [
    {
     "name": "stdout",
     "output_type": "stream",
     "text": [
      "Running <function DPE.read at 0x000001C3A2159288> with serial\n",
      "[INFO] Elapsed time = 0.25s\n",
      "Serial disconnected\n"
     ]
    }
   ],
   "source": [
    "g = dpe.read(0)"
   ]
  },
  {
   "cell_type": "code",
   "execution_count": 5,
   "metadata": {},
   "outputs": [
    {
     "data": {
      "text/plain": [
       "<matplotlib.colorbar.Colorbar at 0x1c3a2887508>"
      ]
     },
     "execution_count": 5,
     "metadata": {},
     "output_type": "execute_result"
    },
    {
     "data": {
      "image/png": "[encoded data removed]",
      "text/plain": [
       "<Figure size 432x288 with 2 Axes>"
      ]
     },
     "metadata": {
      "needs_background": "light"
     },
     "output_type": "display_data"
    }
   ],
   "source": [
    "plt.imshow(g)\n",
    "# plt.clim(0, 2e-4)\n",
    "plt.colorbar()"
   ]
  },
  {
   "cell_type": "code",
   "execution_count": 6,
   "metadata": {},
   "outputs": [],
   "source": [
    "nn = NN_dpe(weights)"
   ]
  },
  {
   "cell_type": "code",
   "execution_count": 1,
   "metadata": {},
   "outputs": [
    {
     "ename": "NameError",
     "evalue": "name 'test_images' is not defined",
     "output_type": "error",
     "traceback": [
      "\u001b[1;31m---------------------------------------------------------------------------\u001b[0m",
      "\u001b[1;31mNameError\u001b[0m                                 Traceback (most recent call last)",
      "\u001b[1;32m<ipython-input-1-a191bd3c0035>\u001b[0m in \u001b[0;36m<module>\u001b[1;34m\u001b[0m\n\u001b[0;32m      1\u001b[0m \u001b[0mimg_idx\u001b[0m \u001b[1;33m=\u001b[0m \u001b[1;36m6\u001b[0m\u001b[1;33m\u001b[0m\u001b[1;33m\u001b[0m\u001b[0m\n\u001b[0;32m      2\u001b[0m \u001b[1;33m\u001b[0m\u001b[0m\n\u001b[1;32m----> 3\u001b[1;33m \u001b[0mimage\u001b[0m \u001b[1;33m=\u001b[0m \u001b[0mtest_images\u001b[0m\u001b[1;33m[\u001b[0m\u001b[0mimg_idx\u001b[0m\u001b[1;33m]\u001b[0m\u001b[1;33m\u001b[0m\u001b[1;33m\u001b[0m\u001b[0m\n\u001b[0m\u001b[0;32m      4\u001b[0m \u001b[0mvectors\u001b[0m \u001b[1;33m=\u001b[0m \u001b[0mnn\u001b[0m\u001b[1;33m.\u001b[0m\u001b[0m_conv_flattern\u001b[0m\u001b[1;33m(\u001b[0m\u001b[0mimage\u001b[0m\u001b[1;33m)\u001b[0m\u001b[1;33m\u001b[0m\u001b[1;33m\u001b[0m\u001b[0m\n\u001b[0;32m      5\u001b[0m \u001b[0mvectors\u001b[0m\u001b[1;33m.\u001b[0m\u001b[0mmax\u001b[0m\u001b[1;33m(\u001b[0m\u001b[1;33m)\u001b[0m\u001b[1;33m\u001b[0m\u001b[1;33m\u001b[0m\u001b[0m\n",
      "\u001b[1;31mNameError\u001b[0m: name 'test_images' is not defined"
     ]
    }
   ],
   "source": [
    "img_idx = 6\n",
    "\n",
    "image = test_images[img_idx]\n",
    "vectors = nn._conv_flattern(image)\n",
    "vectors.max()"
   ]
  },
  {
   "cell_type": "code",
   "execution_count": 8,
   "metadata": {},
   "outputs": [
    {
     "name": "stdout",
     "output_type": "stream",
     "text": [
      "Running <function DPE.multiply at 0x000001D6D15534C8> with serial\n",
      "[INFO] Elapsed time = 1.54s\n",
      "Serial disconnected\n"
     ]
    }
   ],
   "source": [
    "outputs = dpe.multiply(1, vectors, c_sel=[0, 14]) / (nn.Gratio/2) / 0.2"
   ]
  },
  {
   "cell_type": "code",
   "execution_count": 17,
   "metadata": {},
   "outputs": [
    {
     "data": {
      "text/plain": [
       "(400, 14)"
      ]
     },
     "execution_count": 17,
     "metadata": {},
     "output_type": "execute_result"
    }
   ],
   "source": [
    "outputs.shape"
   ]
  },
  {
   "cell_type": "code",
   "execution_count": 20,
   "metadata": {},
   "outputs": [],
   "source": [
    "software = (finalGconv.T @ vectors).T / (nn.Gratio/2)"
   ]
  },
  {
   "cell_type": "code",
   "execution_count": null,
   "metadata": {},
   "outputs": [],
   "source": [
    "for c in range(14):\n",
    "    x = []\n",
    "    y = []\n",
    "        \n",
    "    plt.figure(c+1)\n",
    "    plt.title(f'Column {c}')\n",
    "    plt.plot(outputs[:,c],software[:,c], '.', alpha=0.3)\n",
    "    plt.xlabel('Expectation')"
   ]
  },
  {
   "cell_type": "code",
   "execution_count": 22,
   "metadata": {},
   "outputs": [
    {
     "data": {
      "text/plain": [
       "<matplotlib.colorbar.Colorbar at 0x1ae6a35f108>"
      ]
     },
     "execution_count": 22,
     "metadata": {},
     "output_type": "execute_result"
    },
    {
     "data": {
      "image/png": "[encoded data removed]",
      "text/plain": [
       "<Figure size 432x288 with 2 Axes>"
      ]
     },
     "metadata": {
      "needs_background": "light"
     },
     "output_type": "display_data"
    }
   ],
   "source": [
    "plt.imshow(software[:40])\n",
    "plt.colorbar()"
   ]
  },
  {
   "cell_type": "code",
   "execution_count": 23,
   "metadata": {},
   "outputs": [
    {
     "data": {
      "text/plain": [
       "<matplotlib.colorbar.Colorbar at 0x1ae6e00f148>"
      ]
     },
     "execution_count": 23,
     "metadata": {},
     "output_type": "execute_result"
    },
    {
     "data": {
      "image/png": "[encoded data removed]",
      "text/plain": [
       "<Figure size 432x288 with 2 Axes>"
      ]
     },
     "metadata": {
      "needs_background": "light"
     },
     "output_type": "display_data"
    }
   ],
   "source": [
    "plt.imshow(outputs[:40])\n",
    "plt.colorbar()"
   ]
  },
  {
   "cell_type": "code",
   "execution_count": 28,
   "metadata": {},
   "outputs": [
    {
     "data": {
      "text/plain": [
       "array([[ 1.10600809,  0.02558262],\n",
       "       [ 1.0400355 ,  0.85863644],\n",
       "       [ 1.30230276,  0.00215507],\n",
       "       [ 1.44122246, -0.16235268],\n",
       "       [ 1.23063979, -0.09618758],\n",
       "       [ 1.08255167,  0.03345652],\n",
       "       [ 1.10381478, -0.07628634],\n",
       "       [ 1.23586714,  0.08344223],\n",
       "       [ 1.06021022, -0.08062452],\n",
       "       [ 1.37758174, -0.16723768],\n",
       "       [ 1.17893294,  0.0187636 ],\n",
       "       [ 1.12354446,  0.03942665],\n",
       "       [ 1.22563643,  0.01260009],\n",
       "       [ 0.79969926,  0.41632605]])"
      ]
     },
     "execution_count": 28,
     "metadata": {},
     "output_type": "execute_result"
    }
   ],
   "source": [
    "linear_factors_conv = []\n",
    "for c in range(14):\n",
    "    linear_factors_conv.append( np.polyfit(outputs[:,c], software[:,c], 1))\n",
    "    \n",
    "linear_factors_conv = np.array(linear_factors_conv)\n",
    "linear_factors_conv"
   ]
  },
  {
   "cell_type": "code",
   "execution_count": 9,
   "metadata": {},
   "outputs": [],
   "source": [
    "for c in range(outputs.shape[1]):\n",
    "    outputs[:,c] = outputs[:,c] * linear_factors_conv[c][0] + linear_factors_conv[c][1]"
   ]
  },
  {
   "cell_type": "code",
   "execution_count": 31,
   "metadata": {},
   "outputs": [],
   "source": [
    "result = outputs[:, ::2] - outputs[:,1::2]\n",
    "x = result.reshape(20,20,-1)\n",
    "# for i in range(7):\n",
    "#     plt.figure(i)\n",
    "#     plt.imshow(x[:,:,i])\n",
    "#     plt.colorbar()"
   ]
  },
  {
   "cell_type": "code",
   "execution_count": 32,
   "metadata": {},
   "outputs": [
    {
     "name": "stdout",
     "output_type": "stream",
     "text": [
      "predicted 4\n",
      "label 4\n"
     ]
    }
   ],
   "source": [
    "x1 = nn.relu(x)\n",
    "x1 = nn.max_pooling(x1)\n",
    "x1 = nn.flattern(x1)\n",
    "y = nn.dense(x1)\n",
    "\n",
    "print('predicted', y.argmax())\n",
    "print('label', test_labels[img_idx])"
   ]
  },
  {
   "cell_type": "code",
   "execution_count": null,
   "metadata": {},
   "outputs": [],
   "source": []
  },
  {
   "cell_type": "code",
   "execution_count": null,
   "metadata": {},
   "outputs": [],
   "source": [
    "xs = []\n",
    "acc = []\n",
    "\n",
    "for img_idx in range(len(test_images)):\n",
    "    \n",
    "    \n",
    "    image = test_images[img_idx]\n",
    "    vectors = nn._conv_flattern(image)\n",
    "    \n",
    "    outputs = dpe.multiply(1, vectors, c_sel=[0, 14]) / (nn.Gratio/2) / 0.2\n",
    "    \n",
    "    for c in range(outputs.shape[1]):\n",
    "        outputs[:,c] = outputs[:,c] * linear_factors_conv[c][0] + linear_factors_conv[c][1]\n",
    "    \n",
    "    result = outputs[:, ::2] - outputs[:,1::2]\n",
    "    x = result.reshape(20,20,-1)\n",
    "    \n",
    "    x1 = nn.relu(x)\n",
    "    x1 = nn.max_pooling(x1)\n",
    "    x1 = nn.flattern(x1)\n",
    "    \n",
    "    xs.append(x1)\n",
    "    y = nn.dense(x1)\n",
    "    \n",
    "    display.clear_output(wait=True)\n",
    "\n",
    "    print(f'idx={img_idx}, predicted: {y.argmax()}, label: {test_labels[img_idx]}')\n",
    "    acc.append( y.argmax() == test_labels[img_idx] )\n",
    "    print(f'\\t Accuracy = {np.mean(acc)*100:.2f}%')\n",
    "    \n",
    "save_workspace(vars(), note='mnist_xs')"
   ]
  },
  {
   "cell_type": "code",
   "execution_count": 7,
   "metadata": {},
   "outputs": [
    {
     "name": "stdout",
     "output_type": "stream",
     "text": [
      "Loaded: In, Out, weights, train_images, train_labels, test_images, test_labels, g, img_idx, image, vectors, outputs, software, c, x, y, mat_contents, finalGconv, g1, g2, linear_factors_conv, xs, acc, result, x1, \n"
     ]
    }
   ],
   "source": [
    "load_workspace(vars(), 'dataset/20190821-051552-mnist_xs')\n",
    "\n",
    "# load_workspace(vars(), 'mnist_xs_software')\n",
    "xs = np.array(xs)"
   ]
  },
  {
   "cell_type": "code",
   "execution_count": 8,
   "metadata": {},
   "outputs": [
    {
     "name": "stdout",
     "output_type": "stream",
     "text": [
      "idx=9999, predicted: 6, label: 6\n",
      "\t Accuracy = 98.00%\n"
     ]
    }
   ],
   "source": [
    "# Check xs \n",
    "acc = []\n",
    "\n",
    "for img_idx in range(len(test_images)):\n",
    "    x1 = xs[img_idx]\n",
    "    y = nn.dense(x1)\n",
    "    \n",
    "    if (img_idx+1)%100 == 0:\n",
    "        display.clear_output(wait=True)\n",
    "\n",
    "        print(f'idx={img_idx}, predicted: {y.argmax()}, label: {test_labels[img_idx]}')\n",
    "        acc.append( y.argmax() == test_labels[img_idx] )\n",
    "        print(f'\\t Accuracy = {np.mean(acc)*100:.2f}%')"
   ]
  },
  {
   "cell_type": "code",
   "execution_count": 9,
   "metadata": {},
   "outputs": [
    {
     "data": {
      "text/plain": [
       "array([[ 1.43760178, -0.        ,  2.6677077 , ..., -0.        ,\n",
       "        -0.        , -0.        ],\n",
       "       [ 0.40300978,  0.68757231,  2.79176243, ..., -0.        ,\n",
       "         3.54113916,  2.61077068],\n",
       "       [-0.        , -0.        ,  0.06726302, ..., -0.        ,\n",
       "        -0.        , -0.        ],\n",
       "       ...,\n",
       "       [-0.        , -0.        ,  0.11108644, ..., -0.        ,\n",
       "        -0.        , -0.        ],\n",
       "       [-0.        , -0.        ,  0.11126897, ..., -0.        ,\n",
       "        -0.        , -0.        ],\n",
       "       [-0.        , -0.        ,  0.79958419, ..., -0.        ,\n",
       "         3.2943451 ,  1.30286908]])"
      ]
     },
     "execution_count": 9,
     "metadata": {},
     "output_type": "execute_result"
    }
   ],
   "source": [
    "xs"
   ]
  },
  {
   "cell_type": "code",
   "execution_count": 10,
   "metadata": {},
   "outputs": [
    {
     "data": {
      "text/plain": [
       "(10000, 112)"
      ]
     },
     "execution_count": 10,
     "metadata": {},
     "output_type": "execute_result"
    }
   ],
   "source": [
    "xs = np.array(xs)\n",
    "xs.shape"
   ]
  },
  {
   "cell_type": "code",
   "execution_count": 11,
   "metadata": {},
   "outputs": [],
   "source": [
    "xs = np.concatenate((xs, np.ones((xs.shape[0], 1))), axis=1)"
   ]
  },
  {
   "cell_type": "code",
   "execution_count": 12,
   "metadata": {},
   "outputs": [
    {
     "data": {
      "text/plain": [
       "(10000, 113)"
      ]
     },
     "execution_count": 12,
     "metadata": {},
     "output_type": "execute_result"
    }
   ],
   "source": [
    "xs.shape"
   ]
  },
  {
   "cell_type": "code",
   "execution_count": 13,
   "metadata": {},
   "outputs": [
    {
     "name": "stdout",
     "output_type": "stream",
     "text": [
      "Running <function DPE.read at 0x000001C3A2159288> with serial\n",
      "[INFO] Elapsed time = 0.25s\n",
      "Serial disconnected\n"
     ]
    },
    {
     "data": {
      "text/plain": [
       "<matplotlib.colorbar.Colorbar at 0x1c3a51b71c8>"
      ]
     },
     "execution_count": 13,
     "metadata": {},
     "output_type": "execute_result"
    },
    {
     "data": {
      "image/png": "[encoded data removed]",
      "text/plain": [
       "<Figure size 432x288 with 2 Axes>"
      ]
     },
     "metadata": {
      "needs_background": "light"
     },
     "output_type": "display_data"
    }
   ],
   "source": [
    "plt.imshow(dpe.read(0))\n",
    "plt.colorbar()"
   ]
  },
  {
   "cell_type": "code",
   "execution_count": 14,
   "metadata": {},
   "outputs": [],
   "source": [
    "import scipy.io as sio\n",
    "mat_contents = sio.loadmat('UpdatedGfc.mat')\n",
    "finalGfc = mat_contents['finalGfc']"
   ]
  },
  {
   "cell_type": "code",
   "execution_count": null,
   "metadata": {},
   "outputs": [],
   "source": []
  },
  {
   "cell_type": "code",
   "execution_count": 15,
   "metadata": {},
   "outputs": [],
   "source": [
    "x = xs[0:400]\n",
    "\n",
    "x1 = x[:,:57].T\n",
    "x2 = x[:,57:].T\n",
    "\n",
    "sc1 = x1.max()\n",
    "sc2 = x2.max()\n",
    "\n",
    "Gfc1 = finalGfc[:57]\n",
    "Gfc2 = finalGfc[57:]\n",
    "\n",
    "x1 = x1 / sc1\n",
    "x2 = x2 / sc2"
   ]
  },
  {
   "cell_type": "code",
   "execution_count": 26,
   "metadata": {},
   "outputs": [
    {
     "name": "stdout",
     "output_type": "stream",
     "text": [
      "Running <function DPE.multiply_w_delay at 0x000001C3A2159828> with serial\n",
      "[DEBUG] processing vector 0\n",
      "[DEBUG] processing vector 50\n",
      "[DEBUG] processing vector 100\n",
      "[DEBUG] processing vector 150\n",
      "[DEBUG] processing vector 200\n",
      "[DEBUG] processing vector 250\n",
      "[DEBUG] processing vector 300\n",
      "[DEBUG] processing vector 350\n",
      "[DEBUG] processing vector 0\n",
      "[DEBUG] processing vector 50\n",
      "[DEBUG] processing vector 100\n",
      "[DEBUG] processing vector 150\n",
      "[DEBUG] processing vector 200\n",
      "[DEBUG] processing vector 250\n",
      "[DEBUG] processing vector 300\n",
      "[DEBUG] processing vector 350\n",
      "[DEBUG] processing vector 0\n",
      "[DEBUG] processing vector 50\n",
      "[DEBUG] processing vector 100\n",
      "[DEBUG] processing vector 150\n",
      "[DEBUG] processing vector 200\n",
      "[DEBUG] processing vector 250\n",
      "[DEBUG] processing vector 300\n",
      "[DEBUG] processing vector 350\n",
      "[DEBUG] processing vector 0\n",
      "[DEBUG] processing vector 50\n",
      "[DEBUG] processing vector 100\n",
      "[DEBUG] processing vector 150\n",
      "[DEBUG] processing vector 200\n",
      "[DEBUG] processing vector 250\n",
      "[DEBUG] processing vector 300\n",
      "[DEBUG] processing vector 350\n",
      "[DEBUG] processing vector 0\n",
      "[DEBUG] processing vector 50\n",
      "[DEBUG] processing vector 100\n",
      "[DEBUG] processing vector 150\n",
      "[DEBUG] processing vector 200\n",
      "[DEBUG] processing vector 250\n",
      "[DEBUG] processing vector 300\n",
      "[DEBUG] processing vector 350\n",
      "[DEBUG] processing vector 0\n",
      "[DEBUG] processing vector 50\n",
      "[DEBUG] processing vector 100\n",
      "[DEBUG] processing vector 150\n",
      "[DEBUG] processing vector 200\n",
      "[DEBUG] processing vector 250\n",
      "[DEBUG] processing vector 300\n",
      "[DEBUG] processing vector 350\n",
      "[DEBUG] processing vector 0\n",
      "[DEBUG] processing vector 50\n",
      "[DEBUG] processing vector 100\n",
      "[DEBUG] processing vector 150\n",
      "[DEBUG] processing vector 200\n",
      "[DEBUG] processing vector 250\n",
      "[DEBUG] processing vector 300\n",
      "[DEBUG] processing vector 350\n",
      "[DEBUG] processing vector 0\n",
      "[DEBUG] processing vector 50\n",
      "[DEBUG] processing vector 100\n",
      "[DEBUG] processing vector 150\n",
      "[DEBUG] processing vector 200\n",
      "[DEBUG] processing vector 250\n",
      "[DEBUG] processing vector 300\n",
      "[DEBUG] processing vector 350\n",
      "[INFO] Elapsed time = 2.64s\n",
      "Serial disconnected\n",
      "Running <function DPE.multiply_w_delay at 0x000001C3A2159828> with serial\n",
      "[DEBUG] processing vector 0\n",
      "[DEBUG] processing vector 50\n",
      "[DEBUG] processing vector 100\n",
      "[DEBUG] processing vector 150\n",
      "[DEBUG] processing vector 200\n",
      "[DEBUG] processing vector 250\n",
      "[DEBUG] processing vector 300\n",
      "[DEBUG] processing vector 350\n",
      "[DEBUG] processing vector 0\n",
      "[DEBUG] processing vector 50\n",
      "[DEBUG] processing vector 100\n",
      "[DEBUG] processing vector 150\n",
      "[DEBUG] processing vector 200\n",
      "[DEBUG] processing vector 250\n",
      "[DEBUG] processing vector 300\n",
      "[DEBUG] processing vector 350\n",
      "[DEBUG] processing vector 0\n",
      "[DEBUG] processing vector 50\n",
      "[DEBUG] processing vector 100\n",
      "[DEBUG] processing vector 150\n",
      "[DEBUG] processing vector 200\n",
      "[DEBUG] processing vector 250\n",
      "[DEBUG] processing vector 300\n",
      "[DEBUG] processing vector 350\n",
      "[DEBUG] processing vector 0\n",
      "[DEBUG] processing vector 50\n",
      "[DEBUG] processing vector 100\n",
      "[DEBUG] processing vector 150\n",
      "[DEBUG] processing vector 200\n",
      "[DEBUG] processing vector 250\n",
      "[DEBUG] processing vector 300\n",
      "[DEBUG] processing vector 350\n",
      "[DEBUG] processing vector 0\n",
      "[DEBUG] processing vector 50\n",
      "[DEBUG] processing vector 100\n",
      "[DEBUG] processing vector 150\n",
      "[DEBUG] processing vector 200\n",
      "[DEBUG] processing vector 250\n",
      "[DEBUG] processing vector 300\n",
      "[DEBUG] processing vector 350\n",
      "[DEBUG] processing vector 0\n",
      "[DEBUG] processing vector 50\n",
      "[DEBUG] processing vector 100\n",
      "[DEBUG] processing vector 150\n",
      "[DEBUG] processing vector 200\n",
      "[DEBUG] processing vector 250\n",
      "[DEBUG] processing vector 300\n",
      "[DEBUG] processing vector 350\n",
      "[DEBUG] processing vector 0\n",
      "[DEBUG] processing vector 50\n",
      "[DEBUG] processing vector 100\n",
      "[DEBUG] processing vector 150\n",
      "[DEBUG] processing vector 200\n",
      "[DEBUG] processing vector 250\n",
      "[DEBUG] processing vector 300\n",
      "[DEBUG] processing vector 350\n",
      "[DEBUG] processing vector 0\n",
      "[DEBUG] processing vector 50\n",
      "[DEBUG] processing vector 100\n",
      "[DEBUG] processing vector 150\n",
      "[DEBUG] processing vector 200\n",
      "[DEBUG] processing vector 250\n",
      "[DEBUG] processing vector 300\n",
      "[DEBUG] processing vector 350\n",
      "[INFO] Elapsed time = 18.43s\n",
      "Serial disconnected\n"
     ]
    }
   ],
   "source": [
    "output1 = dpe.multiply_w_delay(0, x1, c_sel=[0, 20], mode=1, delay=0, debug=True)\n",
    "software1 = (Gfc1.T @ x1).T \n",
    "\n",
    "output2 = dpe.multiply_w_delay(0, x2, c_sel=[20, 40], mode=1, delay=0, debug=True)\n",
    "software2 = (Gfc2.T @ x2).T "
   ]
  },
  {
   "cell_type": "code",
   "execution_count": 27,
   "metadata": {},
   "outputs": [
    {
     "data": {
      "text/plain": [
       "(400, 20)"
      ]
     },
     "execution_count": 27,
     "metadata": {},
     "output_type": "execute_result"
    }
   ],
   "source": [
    "output1.shape"
   ]
  },
  {
   "cell_type": "code",
   "execution_count": 28,
   "metadata": {},
   "outputs": [],
   "source": [
    "# output1 = dpe.multiply(0, x1, c_sel=[0, 20])\n",
    "# software1 = (Gfc1.T @ x1).T \n",
    "\n",
    "# output2 = dpe.multiply(0, x2, c_sel=[20, 40])\n",
    "# software2 = (Gfc2.T @ x2).T "
   ]
  },
  {
   "cell_type": "code",
   "execution_count": 29,
   "metadata": {},
   "outputs": [],
   "source": [
    "lin_cor_fc1 = []\n",
    "lin_cor_fc2 = []\n",
    "for c in range(20):\n",
    "    lin_cor_fc1.append( np.polyfit(output1[:,c], software1[:,c], 1))\n",
    "    lin_cor_fc2.append( np.polyfit(output2[:,c], software2[:,c], 1))"
   ]
  },
  {
   "cell_type": "code",
   "execution_count": 30,
   "metadata": {},
   "outputs": [
    {
     "data": {
      "text/plain": [
       "array([[ 1.12435852e+00, -3.44196824e-05],\n",
       "       [ 1.36240844e+00, -1.14905070e-06],\n",
       "       [ 9.11823436e-01,  1.69353873e-05],\n",
       "       [ 1.34933276e+00, -2.55918522e-05],\n",
       "       [ 1.17121694e+00,  1.30433574e-06],\n",
       "       [ 1.27553029e+00,  4.27142024e-05],\n",
       "       [ 9.78167937e-01,  5.97570095e-06],\n",
       "       [ 1.25749811e+00,  5.12266154e-06],\n",
       "       [ 1.11473624e+00,  1.44234845e-05],\n",
       "       [ 1.35620124e+00,  6.36848355e-06],\n",
       "       [ 1.13609396e+00,  8.36664297e-06],\n",
       "       [ 1.31974361e+00, -1.08924617e-05],\n",
       "       [ 1.18131236e+00, -4.80995114e-06],\n",
       "       [ 9.30682146e-01,  3.17347962e-05],\n",
       "       [ 1.01052968e+00,  2.89579939e-05],\n",
       "       [ 1.22543176e+00,  1.69654389e-05],\n",
       "       [ 1.18572743e+00, -9.20774122e-06],\n",
       "       [ 1.02329939e+00,  3.22009968e-05],\n",
       "       [ 9.18292566e-01,  2.32654589e-05],\n",
       "       [ 1.35891507e+00, -1.48377426e-05]])"
      ]
     },
     "execution_count": 30,
     "metadata": {},
     "output_type": "execute_result"
    }
   ],
   "source": [
    "np.array(lin_cor_fc2)"
   ]
  },
  {
   "cell_type": "code",
   "execution_count": 31,
   "metadata": {},
   "outputs": [],
   "source": [
    "def lin_corr(outputs, factors):\n",
    "    result = np.zeros(outputs.shape)\n",
    "    for c in range(outputs.shape[1]):\n",
    "        result[:,c] = outputs[:,c] * factors[c][0] + factors[c][1]\n",
    "        \n",
    "    return result"
   ]
  },
  {
   "cell_type": "code",
   "execution_count": 32,
   "metadata": {},
   "outputs": [],
   "source": [
    "output_corr = lin_corr(output2, lin_cor_fc2)\n",
    "software = (Gfc2.T @ x2).T "
   ]
  },
  {
   "cell_type": "code",
   "execution_count": 33,
   "metadata": {},
   "outputs": [
    {
     "data": {
      "image/png": "[encoded data removed]",
      "text/plain": [
       "<Figure size 432x288 with 1 Axes>"
      ]
     },
     "metadata": {
      "needs_background": "light"
     },
     "output_type": "display_data"
    }
   ],
   "source": [
    "# lin_cor_fc2 = []\n",
    "\n",
    "for c in range(20):\n",
    "    x = software[:,c]\n",
    "    y = output_corr[:,c]\n",
    "    \n",
    "#     plt.figure(c)\n",
    "    plt.plot(x,y,'.')\n",
    "\n",
    "#     lin_cor_fc2.append( np.polyfit(y, x, 1))"
   ]
  },
  {
   "cell_type": "code",
   "execution_count": 34,
   "metadata": {},
   "outputs": [
    {
     "data": {
      "text/plain": [
       "(array([  2.,   1.,   0.,   3.,   1.,   2.,   9.,  21.,  23.,  40.,  50.,\n",
       "         61.,  91., 151., 179., 192., 291., 330., 388., 466., 521., 512.,\n",
       "        543., 596., 534., 539., 482., 434., 358., 287., 223., 176., 117.,\n",
       "        117.,  94.,  46.,  35.,  37.,  18.,  13.,   4.,   1.,   5.,   3.,\n",
       "          1.,   2.,   0.,   0.,   0.,   1.]),\n",
       " array([-0.12144067, -0.11619738, -0.11095408, -0.10571079, -0.1004675 ,\n",
       "        -0.0952242 , -0.08998091, -0.08473762, -0.07949432, -0.07425103,\n",
       "        -0.06900774, -0.06376444, -0.05852115, -0.05327785, -0.04803456,\n",
       "        -0.04279127, -0.03754797, -0.03230468, -0.02706139, -0.02181809,\n",
       "        -0.0165748 , -0.01133151, -0.00608821, -0.00084492,  0.00439838,\n",
       "         0.00964167,  0.01488496,  0.02012826,  0.02537155,  0.03061484,\n",
       "         0.03585814,  0.04110143,  0.04634472,  0.05158802,  0.05683131,\n",
       "         0.06207461,  0.0673179 ,  0.07256119,  0.07780449,  0.08304778,\n",
       "         0.08829107,  0.09353437,  0.09877766,  0.10402095,  0.10926425,\n",
       "         0.11450754,  0.11975084,  0.12499413,  0.13023742,  0.13548072,\n",
       "         0.14072401]),\n",
       " <a list of 50 Patch objects>)"
      ]
     },
     "execution_count": 34,
     "metadata": {},
     "output_type": "execute_result"
    },
    {
     "data": {
      "image/png": "[encoded data removed]",
      "text/plain": [
       "<Figure size 432x288 with 1 Axes>"
      ]
     },
     "metadata": {
      "needs_background": "light"
     },
     "output_type": "display_data"
    }
   ],
   "source": [
    "plt.hist((output_corr-software).reshape(-1, 1)/0.0006, bins=50 )"
   ]
  },
  {
   "cell_type": "code",
   "execution_count": 35,
   "metadata": {},
   "outputs": [
    {
     "data": {
      "text/plain": [
       "0.030236637935627895"
      ]
     },
     "execution_count": 35,
     "metadata": {},
     "output_type": "execute_result"
    }
   ],
   "source": [
    "(output_corr-software).reshape(-1, 1).std()/0.0006"
   ]
  },
  {
   "cell_type": "code",
   "execution_count": 16,
   "metadata": {},
   "outputs": [
    {
     "name": "stdout",
     "output_type": "stream",
     "text": [
      "Loaded: In, Out, weights, train_images, train_labels, test_images, test_labels, g, img_idx, image, vectors, outputs, linear_factors_conv, c, x, i, result, x1, y, xs, acc, \n"
     ]
    }
   ],
   "source": [
    "# load_workspace(vars(), '20190821-051552-mnist_xs')\n",
    "# xs = np.array(xs)"
   ]
  },
  {
   "cell_type": "code",
   "execution_count": 35,
   "metadata": {},
   "outputs": [
    {
     "name": "stdout",
     "output_type": "stream",
     "text": [
      "Accuracy = 92.00%\n"
     ]
    }
   ],
   "source": [
    "ys = []\n",
    "batch_size = 100\n",
    "\n",
    "for i in range( (len(test_images)-1)//batch_size + 1 ):\n",
    "    idx1 = i * batch_size\n",
    "    idx2 = (i+1) * batch_size\n",
    "    idx2 = idx2 if idx2<= len(test_images) else len(test_images)\n",
    "    \n",
    "    print(f'Running on sample {idx1}-{idx2}')\n",
    "\n",
    "    x = xs[idx1:idx2]\n",
    "\n",
    "    x1 = x[:,:57].T\n",
    "    x2 = x[:,57:].T\n",
    "\n",
    "    sc1 = x1.max()\n",
    "    sc2 = x2.max()\n",
    "\n",
    "    Gfc1 = nn.Gfc[:57]\n",
    "    Gfc2 = nn.Gfc[57:]\n",
    "\n",
    "    x1 = x1 / sc1\n",
    "    x2 = x2 / sc2\n",
    "    \n",
    "    output1  = dpe.multiply_w_delay(0, x1, c_sel=[0, 20], debug=True)\n",
    "    output1 = lin_corr(output1, lin_cor_fc1) * sc1\n",
    "\n",
    "    output2  = dpe.multiply_w_delay(0, x2, c_sel=[20, 40], debug=True)\n",
    "    output2 = lin_corr(output2, lin_cor_fc2) * sc2\n",
    "\n",
    "    outputs = output1 + output2\n",
    "    \n",
    "    y = outputs[:,::2] - outputs[:,1::2]\n",
    "    \n",
    "    display.clear_output(wait=True)\n",
    "    \n",
    "    print(f'Accuracy = {np.mean(y.argmax(axis=1) == test_labels[idx1:idx2])*100:.2f}%')\n",
    "    ys.append(y)\n",
    "    \n",
    "ys = np.concatenate(ys)  "
   ]
  },
  {
   "cell_type": "code",
   "execution_count": 36,
   "metadata": {},
   "outputs": [
    {
     "data": {
      "text/plain": [
       "0.9196"
      ]
     },
     "execution_count": 36,
     "metadata": {},
     "output_type": "execute_result"
    }
   ],
   "source": [
    "np.mean(ys.argmax(axis=1) == test_labels)"
   ]
  },
  {
   "cell_type": "code",
   "execution_count": 37,
   "metadata": {},
   "outputs": [
    {
     "name": "stdout",
     "output_type": "stream",
     "text": [
      "Saving In(<class 'list'>), Out(<class 'dict'>), weights(<class 'numpy.ndarray'>), train_images(<class 'numpy.ndarray'>), train_labels(<class 'numpy.ndarray'>), test_images(<class 'numpy.ndarray'>), test_labels(<class 'numpy.ndarray'>), g(<class 'numpy.ndarray'>), img_idx(<class 'int'>), image(<class 'numpy.ndarray'>), vectors(<class 'numpy.ndarray'>), outputs(<class 'numpy.ndarray'>), software(<class 'numpy.ndarray'>), c(<class 'int'>), x(<class 'numpy.ndarray'>), y(<class 'numpy.ndarray'>), mat_contents(<class 'dict'>), finalGconv(<class 'numpy.ndarray'>), g1(<class 'numpy.ndarray'>), g2(<class 'numpy.ndarray'>), linear_factors_conv(<class 'numpy.ndarray'>), xs(<class 'numpy.ndarray'>), acc(<class 'list'>), result(<class 'numpy.ndarray'>), x1(<class 'numpy.ndarray'>), finalGfc(<class 'numpy.ndarray'>), x2(<class 'numpy.ndarray'>), sc1(<class 'numpy.float64'>), sc2(<class 'numpy.float64'>), Gfc1(<class 'numpy.ndarray'>), Gfc2(<class 'numpy.ndarray'>), output1(<class 'numpy.ndarray'>), software1(<class 'numpy.ndarray'>), output2(<class 'numpy.ndarray'>), software2(<class 'numpy.ndarray'>), lin_cor_fc1(<class 'list'>), lin_cor_fc2(<class 'list'>), ys(<class 'numpy.ndarray'>), batch_size(<class 'int'>), i(<class 'int'>), idx1(<class 'int'>), idx2(<class 'int'>), to 20190821-231302-prober2-modFC-delay.pkl\n",
      "Saving In(<class 'list'>), weights(<class 'numpy.ndarray'>), train_images(<class 'numpy.ndarray'>), train_labels(<class 'numpy.ndarray'>), test_images(<class 'numpy.ndarray'>), test_labels(<class 'numpy.ndarray'>), g(<class 'numpy.ndarray'>), img_idx(<class 'int'>), image(<class 'numpy.ndarray'>), vectors(<class 'numpy.ndarray'>), outputs(<class 'numpy.ndarray'>), software(<class 'numpy.ndarray'>), c(<class 'int'>), x(<class 'numpy.ndarray'>), y(<class 'numpy.ndarray'>), finalGconv(<class 'numpy.ndarray'>), g1(<class 'numpy.ndarray'>), g2(<class 'numpy.ndarray'>), linear_factors_conv(<class 'numpy.ndarray'>), xs(<class 'numpy.ndarray'>), acc(<class 'list'>), result(<class 'numpy.ndarray'>), x1(<class 'numpy.ndarray'>), finalGfc(<class 'numpy.ndarray'>), x2(<class 'numpy.ndarray'>), sc1(<class 'numpy.float64'>), sc2(<class 'numpy.float64'>), Gfc1(<class 'numpy.ndarray'>), Gfc2(<class 'numpy.ndarray'>), output1(<class 'numpy.ndarray'>), software1(<class 'numpy.ndarray'>), output2(<class 'numpy.ndarray'>), software2(<class 'numpy.ndarray'>), lin_cor_fc1(<class 'list'>), lin_cor_fc2(<class 'list'>), ys(<class 'numpy.ndarray'>), batch_size(<class 'int'>), i(<class 'int'>), idx1(<class 'int'>), idx2(<class 'int'>), to 20190821-231302-prober2-modFC-delay.mat\n"
     ]
    }
   ],
   "source": [
    "save_workspace(vars(), note='prober2-modFC-delay')"
   ]
  },
  {
   "cell_type": "code",
   "execution_count": 29,
   "metadata": {},
   "outputs": [
    {
     "data": {
      "text/plain": [
       "array([ True,  True, False, ...,  True,  True,  True])"
      ]
     },
     "execution_count": 29,
     "metadata": {},
     "output_type": "execute_result"
    }
   ],
   "source": [
    "ynew.argmax(axis=1) == test_labels"
   ]
  },
  {
   "cell_type": "code",
   "execution_count": 19,
   "metadata": {},
   "outputs": [],
   "source": [
    "import scipy.io as sio\n",
    "#load_workspace(vars(), '20190814-205207-CNN weights')\n",
    "mat_contents = sio.loadmat('UpdatedGconv.mat')\n",
    "finalGconv = mat_contents['finalGconv']"
   ]
  },
  {
   "cell_type": "code",
   "execution_count": 19,
   "metadata": {},
   "outputs": [
    {
     "data": {
      "text/plain": [
       "(26, 14)"
      ]
     },
     "execution_count": 19,
     "metadata": {},
     "output_type": "execute_result"
    },
    {
     "data": {
      "image/png": "[encoded data removed]",
      "text/plain": [
       "<Figure size 432x288 with 2 Axes>"
      ]
     },
     "metadata": {
      "needs_background": "light"
     },
     "output_type": "display_data"
    }
   ],
   "source": [
    "plt.imshow(finalGconv)\n",
    "plt.colorbar()\n",
    "np.shape(finalGconv)"
   ]
  },
  {
   "cell_type": "code",
   "execution_count": 22,
   "metadata": {},
   "outputs": [
    {
     "data": {
      "text/plain": [
       "<matplotlib.colorbar.Colorbar at 0x1145dbd0>"
      ]
     },
     "execution_count": 22,
     "metadata": {},
     "output_type": "execute_result"
    },
    {
     "data": {
      "image/png": "[encoded data removed]",
      "text/plain": [
       "<Figure size 432x288 with 2 Axes>"
      ]
     },
     "metadata": {
      "needs_background": "light"
     },
     "output_type": "display_data"
    }
   ],
   "source": [
    "g1 = finalGconv[:,::2] - finalGconv[:,1::2]\n",
    "plt.imshow(g1)\n",
    "plt.colorbar()"
   ]
  },
  {
   "cell_type": "code",
   "execution_count": 24,
   "metadata": {},
   "outputs": [
    {
     "data": {
      "text/plain": [
       "<matplotlib.colorbar.Colorbar at 0x11527fb0>"
      ]
     },
     "execution_count": 24,
     "metadata": {},
     "output_type": "execute_result"
    },
    {
     "data": {
      "image/png": "[encoded data removed]",
      "text/plain": [
       "<Figure size 432x288 with 2 Axes>"
      ]
     },
     "metadata": {
      "needs_background": "light"
     },
     "output_type": "display_data"
    }
   ],
   "source": [
    "g2 = nn.Gconv[:,::2] - nn.Gconv[:,1::2]\n",
    "plt.imshow(g2/2)\n",
    "plt.colorbar()"
   ]
  },
  {
   "cell_type": "code",
   "execution_count": 31,
   "metadata": {},
   "outputs": [
    {
     "data": {
      "text/plain": [
       "(array([-5.0e-07,  0.0e+00,  5.0e-07,  1.0e-06,  1.5e-06,  2.0e-06,\n",
       "         2.5e-06,  3.0e-06,  3.5e-06,  4.0e-06,  4.5e-06]),\n",
       " <a list of 11 Text xticklabel objects>)"
      ]
     },
     "execution_count": 31,
     "metadata": {},
     "output_type": "execute_result"
    },
    {
     "data": {
      "image/png": "[encoded data removed]",
      "text/plain": [
       "<Figure size 432x288 with 1 Axes>"
      ]
     },
     "metadata": {
      "needs_background": "light"
     },
     "output_type": "display_data"
    }
   ],
   "source": [
    "plt.hist((g2/2-g1).reshape(-1,1), bins=50)\n",
    "plt.xticks(rotation=45)"
   ]
  },
  {
   "cell_type": "code",
   "execution_count": 4,
   "metadata": {},
   "outputs": [],
   "source": [
    "import dut_func as dut\n",
    "import serial\n",
    "import time\n",
    "import struct\n",
    "import numpy as np\n",
    "# from bitarray import bitarray\n",
    "from bitstring import BitArray\n",
    "import matplotlib.pyplot as plt\n",
    "%config InlineBackend.figure_formats = ['svg']\n",
    "import dut_a0 as a0\n",
    "\n",
    "from misc import *\n",
    "vOffset = -0.08\n",
    "dut.dac_set('DAC_VREF_HI_CMP', 4.0+vOffset)"
   ]
  }
 ],
 "metadata": {
  "kernelspec": {
   "display_name": "Python 3",
   "language": "python",
   "name": "python3"
  },
  "language_info": {
   "codemirror_mode": {
    "name": "ipython",
    "version": 3
   },
   "file_extension": ".py",
   "mimetype": "text/x-python",
   "name": "python",
   "nbconvert_exporter": "python",
   "pygments_lexer": "ipython3",
   "version": "3.7.4"
  }
 },
 "nbformat": 4,
 "nbformat_minor": 4
}
