{
 "cells": [
  {
   "cell_type": "code",
   "execution_count": 1,
   "metadata": {},
   "outputs": [
    {
     "name": "stdout",
     "output_type": "stream",
     "text": [
      "Loaded: weights, \n",
      "Loaded: train_images, train_labels, test_images, test_labels, \n"
     ]
    }
   ],
   "source": [
    "%load_ext autoreload\n",
    "%autoreload 2\n",
    "from dpe import DPE\n",
    "from lib_data import *\n",
    "import matplotlib.pyplot as plt\n",
    "import numpy as np\n",
    "from lib_nn_dpe import NN_dpe\n",
    "from IPython import display\n",
    "\n",
    "load_workspace(vars(), 'dataset/20190815-132601-weights')\n",
    "load_workspace(vars(), 'dataset/mnist')"
   ]
  },
  {
   "cell_type": "code",
   "execution_count": 2,
   "metadata": {},
   "outputs": [
    {
     "name": "stdout",
     "output_type": "stream",
     "text": [
      "Running <function DPE.init_dut at 0x000001C3A2159048> with serial\n",
      "DAC initialized to a span from -10 V to 10 V\n",
      "Setting vrefs to default\n",
      "[INFO] Elapsed time = 0.05s\n",
      "Serial disconnected\n"
     ]
    }
   ],
   "source": [
    "dpe = DPE('COM3')"
   ]
  },
  {
   "cell_type": "code",
   "execution_count": 3,
   "metadata": {},
   "outputs": [
    {
     "name": "stdout",
     "output_type": "stream",
     "text": [
      "Running <function DPE.set_clock at 0x000001C3A2159168> with serial\n",
      "Setting ADC_CK freq=50000.0kHz\n",
      "Setting CK_ARRAY freq=50000.0kHz\n",
      "[INFO] Elapsed time = 0.00s\n",
      "Serial disconnected\n"
     ]
    }
   ],
   "source": [
    "dpe.set_clock(50)"
   ]
  },
  {
   "cell_type": "code",
   "execution_count": 4,
   "metadata": {},
   "outputs": [
    {
     "name": "stdout",
     "output_type": "stream",
     "text": [
      "Running <function DPE.read at 0x000001C3A2159288> with serial\n",
      "[INFO] Elapsed time = 0.25s\n",
      "Serial disconnected\n"
     ]
    }
   ],
   "source": [
    "g = dpe.read(0)"
   ]
  },
  {
   "cell_type": "code",
   "execution_count": 5,
   "metadata": {},
   "outputs": [
    {
     "data": {
      "text/plain": [
       "<matplotlib.colorbar.Colorbar at 0x1c3a2887508>"
      ]
     },
     "execution_count": 5,
     "metadata": {},
     "output_type": "execute_result"
    },
    {
     "data": {
      "image/png": "[encoded data removed]",
      "text/plain": [
       "<Figure size 432x288 with 2 Axes>"
      ]
     },
     "metadata": {
      "needs_background": "light"
     },
     "output_type": "display_data"
    }
   ],
   "source": [
    "plt.imshow(g)\n",
    "# plt.clim(0, 2e-4)\n",
    "plt.colorbar()"
   ]
  },
  {
   "cell_type": "code",
   "execution_count": 6,
   "metadata": {},
   "outputs": [],
   "source": [
    "nn = NN_dpe(weights)"
   ]
  },
  {
   "cell_type": "code",
   "execution_count": 1,
   "metadata": {},
   "outputs": [
    {
     "ename": "NameError",
     "evalue": "name 'test_images' is not defined",
     "output_type": "error",
     "traceback": [
      "\u001b[1;31m---------------------------------------------------------------------------\u001b[0m",
      "\u001b[1;31mNameError\u001b[0m                                 Traceback (most recent call last)",
      "\u001b[1;32m<ipython-input-1-a191bd3c0035>\u001b[0m in \u001b[0;36m<module>\u001b[1;34m\u001b[0m\n\u001b[0;32m      1\u001b[0m \u001b[0mimg_idx\u001b[0m \u001b[1;33m=\u001b[0m \u001b[1;36m6\u001b[0m\u001b[1;33m\u001b[0m\u001b[1;33m\u001b[0m\u001b[0m\n\u001b[0;32m      2\u001b[0m \u001b[1;33m\u001b[0m\u001b[0m\n\u001b[1;32m----> 3\u001b[1;33m \u001b[0mimage\u001b[0m \u001b[1;33m=\u001b[0m \u001b[0mtest_images\u001b[0m\u001b[1;33m[\u001b[0m\u001b[0mimg_idx\u001b[0m\u001b[1;33m]\u001b[0m\u001b[1;33m\u001b[0m\u001b[1;33m\u001b[0m\u001b[0m\n\u001b[0m\u001b[0;32m      4\u001b[0m \u001b[0mvectors\u001b[0m \u001b[1;33m=\u001b[0m \u001b[0mnn\u001b[0m\u001b[1;33m.\u001b[0m\u001b[0m_conv_flattern\u001b[0m\u001b[1;33m(\u001b[0m\u001b[0mimage\u001b[0m\u001b[1;33m)\u001b[0m\u001b[1;33m\u001b[0m\u001b[1;33m\u001b[0m\u001b[0m\n\u001b[0;32m      5\u001b[0m \u001b[0mvectors\u001b[0m\u001b[1;33m.\u001b[0m\u001b[0mmax\u001b[0m\u001b[1;33m(\u001b[0m\u001b[1;33m)\u001b[0m\u001b[1;33m\u001b[0m\u001b[1;33m\u001b[0m\u001b[0m\n",
      "\u001b[1;31mNameError\u001b[0m: name 'test_images' is not defined"
     ]
    }
   ],
   "source": [
    "img_idx = 6\n",
    "\n",
    "image = test_images[img_idx]\n",
    "vectors = nn._conv_flattern(image)\n",
    "vectors.max()"
   ]
  },
  {
   "cell_type": "code",
   "execution_count": 8,
   "metadata": {},
   "outputs": [
    {
     "name": "stdout",
     "output_type": "stream",
     "text": [
      "Running <function DPE.multiply at 0x000001D6D15534C8> with serial\n",
      "[INFO] Elapsed time = 1.54s\n",
      "Serial disconnected\n"
     ]
    }
   ],
   "source": [
    "outputs = dpe.multiply(1, vectors, c_sel=[0, 14]) / (nn.Gratio/2) / 0.2"
   ]
  },
  {
   "cell_type": "code",
   "execution_count": 17,
   "metadata": {},
   "outputs": [
    {
     "data": {
      "text/plain": [
       "(400, 14)"
      ]
     },
     "execution_count": 17,
     "metadata": {},
     "output_type": "execute_result"
    }
   ],
   "source": [
    "outputs.shape"
   ]
  },
  {
   "cell_type": "code",
   "execution_count": 20,
   "metadata": {},
   "outputs": [],
   "source": [
    "software = (finalGconv.T @ vectors).T / (nn.Gratio/2)"
   ]
  },
  {
   "cell_type": "code",
   "execution_count": null,
   "metadata": {},
   "outputs": [],
   "source": [
    "for c in range(14):\n",
    "    x = []\n",
    "    y = []\n",
    "        \n",
    "    plt.figure(c+1)\n",
    "    plt.title(f'Column {c}')\n",
    "    plt.plot(outputs[:,c],software[:,c], '.', alpha=0.3)\n",
    "    plt.xlabel('Expectation')"
   ]
  },
  {
   "cell_type": "code",
   "execution_count": 22,
   "metadata": {},
   "outputs": [
    {
     "data": {
      "text/plain": [
       "<matplotlib.colorbar.Colorbar at 0x1ae6a35f108>"
      ]
     },
     "execution_count": 22,
     "metadata": {},
     "output_type": "execute_result"
    },
    {
     "data": {
      "image/png": "[encoded data removed]",
      "text/plain": [
       "<Figure size 432x288 with 2 Axes>"
      ]
     },
     "metadata": {
      "needs_background": "light"
     },
     "output_type": "display_data"
    }
   ],
   "source": [
    "plt.imshow(software[:40])\n",
    "plt.colorbar()"
   ]
  },
  {
   "cell_type": "code",
   "execution_count": 23,
   "metadata": {},
   "outputs": [
    {
     "data": {
      "text/plain": [
       "<matplotlib.colorbar.Colorbar at 0x1ae6e00f148>"
      ]
     },
     "execution_count": 23,
     "metadata": {},
     "output_type": "execute_result"
    },
    {
     "data": {
      "image/png": "[encoded data removed]",
      "text/plain": [
       "<Figure size 432x288 with 2 Axes>"
      ]
     },
     "metadata": {
      "needs_background": "light"
     },
     "output_type": "display_data"
    }
   ],
   "source": [
    "plt.imshow(outputs[:40])\n",
    "plt.colorbar()"
   ]
  },
  {
   "cell_type": "code",
   "execution_count": 28,
   "metadata": {},
   "outputs": [
    {
     "data": {
      "text/plain": [
       "array([[ 1.10600809,  0.02558262],\n",
       "       [ 1.0400355 ,  0.85863644],\n",
       "       [ 1.30230276,  0.00215507],\n",
       "       [ 1.44122246, -0.16235268],\n",
       "       [ 1.23063979, -0.09618758],\n",
       "       [ 1.08255167,  0.03345652],\n",
       "       [ 1.10381478, -0.07628634],\n",
       "       [ 1.23586714,  0.08344223],\n",
       "       [ 1.06021022, -0.08062452],\n",
       "       [ 1.37758174, -0.16723768],\n",
       "       [ 1.17893294,  0.0187636 ],\n",
       "       [ 1.12354446,  0.03942665],\n",
       "       [ 1.22563643,  0.01260009],\n",
       "       [ 0.79969926,  0.41632605]])"
      ]
     },
     "execution_count": 28,
     "metadata": {},
     "output_type": "execute_result"
    }
   ],
   "source": [
    "linear_factors_conv = []\n",
    "for c in range(14):\n",
    "    linear_factors_conv.append( np.polyfit(outputs[:,c], software[:,c], 1))\n",
    "    \n",
    "linear_factors_conv = np.array(linear_factors_conv)\n",
    "linear_factors_conv"
   ]
  },
  {
   "cell_type": "code",
   "execution_count": 9,
   "metadata": {},
   "outputs": [],
   "source": [
    "for c in range(outputs.shape[1]):\n",
    "    outputs[:,c] = outputs[:,c] * linear_factors_conv[c][0] + linear_factors_conv[c][1]"
   ]
  },
  {
   "cell_type": "code",
   "execution_count": 31,
   "metadata": {},
   "outputs": [],
   "source": [
    "result = outputs[:, ::2] - outputs[:,1::2]\n",
    "x = result.reshape(20,20,-1)\n",
    "# for i in range(7):\n",
    "#     plt.figure(i)\n",
    "#     plt.imshow(x[:,:,i])\n",
    "#     plt.colorbar()"
   ]
  },
  {
   "cell_type": "code",
   "execution_count": 32,
   "metadata": {},
   "outputs": [
    {
     "name": "stdout",
     "output_type": "stream",
     "text": [
      "predicted 4\n",
      "label 4\n"
     ]
    }
   ],
   "source": [
    "x1 = nn.relu(x)\n",
    "x1 = nn.max_pooling(x1)\n",
    "x1 = nn.flattern(x1)\n",
    "y = nn.dense(x1)\n",
    "\n",
    "print('predicted', y.argmax())\n",
    "print('label', test_labels[img_idx])"
   ]
  },
  {
   "cell_type": "code",
   "execution_count": null,
   "metadata": {},
   "outputs": [],
   "source": []
  },
  {
   "cell_type": "code",
   "execution_count": null,
   "metadata": {},
   "outputs": [],
   "source": [
    "xs = []\n",
    "acc = []\n",
    "\n",
    "for img_idx in range(len(test_images)):\n",
    "    \n",
    "    \n",
    "    image = test_images[img_idx]\n",
    "    vectors = nn._conv_flattern(image)\n",
    "    \n",
    "    outputs = dpe.multiply(1, vectors, c_sel=[0, 14]) / (nn.Gratio/2) / 0.2\n",
    "    \n",
    "    for c in range(outputs.shape[1]):\n",
    "        outputs[:,c] = outputs[:,c] * linear_factors_conv[c][0] + linear_factors_conv[c][1]\n",
    "    \n",
    "    result = outputs[:, ::2] - outputs[:,1::2]\n",
    "    x = result.reshape(20,20,-1)\n",
    "    \n",
    "    x1 = nn.relu(x)\n",
    "    x1 = nn.max_pooling(x1)\n",
    "    x1 = nn.flattern(x1)\n",
    "    \n",
    "    xs.append(x1)\n",
    "    y = nn.dense(x1)\n",
    "    \n",
    "    display.clear_output(wait=True)\n",
    "\n",
    "    print(f'idx={img_idx}, predicted: {y.argmax()}, label: {test_labels[img_idx]}')\n",
    "    acc.append( y.argmax() == test_labels[img_idx] )\n",
    "    print(f'\\t Accuracy = {np.mean(acc)*100:.2f}%')\n",
    "    \n",
    "save_workspace(vars(), note='mnist_xs')"
   ]
  },
  {
   "cell_type": "code",
   "execution_count": 7,
   "metadata": {},
   "outputs": [
    {
     "name": "stdout",
     "output_type": "stream",
     "text": [
      "Loaded: In, Out, weights, train_images, train_labels, test_images, test_labels, g, img_idx, image, vectors, outputs, software, c, x, y, mat_contents, finalGconv, g1, g2, linear_factors_conv, xs, acc, result, x1, \n"
     ]
    }
   ],
   "source": [
    "load_workspace(vars(), 'dataset/20190821-051552-mnist_xs')\n",
    "\n",
    "# load_workspace(vars(), 'mnist_xs_software')\n",
    "xs = np.array(xs)"
   ]
  },
  {
   "cell_type": "code",
   "execution_count": 8,
   "metadata": {},
   "outputs": [
    {
     "name": "stdout",
     "output_type": "stream",
     "text": [
      "idx=9999, predicted: 6, label: 6\n",
      "\t Accuracy = 98.00%\n"
     ]
    }
   ],
   "source": [
    "# Check xs \n",
    "acc = []\n",
    "\n",
    "for img_idx in range(len(test_images)):\n",
    "    x1 = xs[img_idx]\n",
    "    y = nn.dense(x1)\n",
    "    \n",
    "    if (img_idx+1)%100 == 0:\n",
    "        display.clear_output(wait=True)\n",
    "\n",
    "        print(f'idx={img_idx}, predicted: {y.argmax()}, label: {test_labels[img_idx]}')\n",
    "        acc.append( y.argmax() == test_labels[img_idx] )\n",
    "        print(f'\\t Accuracy = {np.mean(acc)*100:.2f}%')"
   ]
  },
  {
   "cell_type": "code",
   "execution_count": 9,
   "metadata": {},
   "outputs": [
    {
     "data": {
      "text/plain": [
       "array([[ 1.43760178, -0.        ,  2.6677077 , ..., -0.        ,\n",
       "        -0.        , -0.        ],\n",
       "       [ 0.40300978,  0.68757231,  2.79176243, ..., -0.        ,\n",
       "         3.54113916,  2.61077068],\n",
       "       [-0.        , -0.        ,  0.06726302, ..., -0.        ,\n",
       "        -0.        , -0.        ],\n",
       "       ...,\n",
       "       [-0.        , -0.        ,  0.11108644, ..., -0.        ,\n",
       "        -0.        , -0.        ],\n",
       "       [-0.        , -0.        ,  0.11126897, ..., -0.        ,\n",
       "        -0.        , -0.        ],\n",
       "       [-0.        , -0.        ,  0.79958419, ..., -0.        ,\n",
       "         3.2943451 ,  1.30286908]])"
      ]
     },
     "execution_count": 9,
     "metadata": {},
     "output_type": "execute_result"
    }
   ],
   "source": [
    "xs"
   ]
  },
  {
   "cell_type": "code",
   "execution_count": 10,
   "metadata": {},
   "outputs": [
    {
     "data": {
      "text/plain": [
       "(10000, 112)"
      ]
     },
     "execution_count": 10,
     "metadata": {},
     "output_type": "execute_result"
    }
   ],
   "source": [
    "xs = np.array(xs)\n",
    "xs.shape"
   ]
  },
  {
   "cell_type": "code",
   "execution_count": 11,
   "metadata": {},
   "outputs": [],
   "source": [
    "xs = np.concatenate((xs, np.ones((xs.shape[0], 1))), axis=1)"
   ]
  },
  {
   "cell_type": "code",
   "execution_count": 12,
   "metadata": {},
   "outputs": [
    {
     "data": {
      "text/plain": [
       "(10000, 113)"
      ]
     },
     "execution_count": 12,
     "metadata": {},
     "output_type": "execute_result"
    }
   ],
   "source": [
    "xs.shape"
   ]
  },
  {
   "cell_type": "code",
   "execution_count": 13,
   "metadata": {},
   "outputs": [
    {
     "name": "stdout",
     "output_type": "stream",
     "text": [
      "Running <function DPE.read at 0x000001C3A2159288> with serial\n",
      "[INFO] Elapsed time = 0.25s\n",
      "Serial disconnected\n"
     ]
    },
    {
     "data": {
      "text/plain": [
       "<matplotlib.colorbar.Colorbar at 0x1c3a51b71c8>"
      ]
     },
     "execution_count": 13,
     "metadata": {},
     "output_type": "execute_result"
    },
    {
     "data": {
      "image/png": "[encoded data removed]",
      "text/plain": [
       "<Figure size 432x288 with 2 Axes>"
      ]
     },
     "metadata": {
      "needs_background": "light"
     },
     "output_type": "display_data"
    }
   ],
   "source": [
    "plt.imshow(dpe.read(0))\n",
    "plt.colorbar()"
   ]
  },
  {
   "cell_type": "code",
   "execution_count": 14,
   "metadata": {},
   "outputs": [],
   "source": [
    "import scipy.io as sio\n",
    "mat_contents = sio.loadmat('UpdatedGfc.mat')\n",
    "finalGfc = mat_contents['finalGfc']"
   ]
  },
  {
   "cell_type": "code",
   "execution_count": null,
   "metadata": {},
   "outputs": [],
   "source": []
  },
  {
   "cell_type": "code",
   "execution_count": 205,
   "metadata": {},
   "outputs": [],
   "source": [
    "x = xs[0:400]\n",
    "\n",
    "x1 = x[:,:57].T\n",
    "x2 = x[:,57:].T\n",
    "\n",
    "sc1 = x1.max()\n",
    "sc2 = x2.max()\n",
    "\n",
    "Gfc1 = finalGfc[:57]\n",
    "Gfc2 = finalGfc[57:]\n",
    "\n",
    "x1 = x1 / sc1\n",
    "x2 = x2 / sc2"
   ]
  },
  {
   "cell_type": "code",
   "execution_count": 211,
   "metadata": {},
   "outputs": [
    {
     "name": "stdout",
     "output_type": "stream",
     "text": [
      "Running <function DPE.multiply_w_delay at 0x000001C3A2159828> with serial\n",
      "[DEBUG] processing vector 0\n",
      "[DEBUG] processing vector 50\n",
      "[DEBUG] processing vector 100\n",
      "[DEBUG] processing vector 150\n",
      "[DEBUG] processing vector 200\n",
      "[DEBUG] processing vector 250\n",
      "[DEBUG] processing vector 300\n",
      "[DEBUG] processing vector 350\n",
      "[DEBUG] processing vector 0\n",
      "[DEBUG] processing vector 50\n",
      "[DEBUG] processing vector 100\n",
      "[DEBUG] processing vector 150\n",
      "[DEBUG] processing vector 200\n",
      "[DEBUG] processing vector 250\n",
      "[DEBUG] processing vector 300\n",
      "[DEBUG] processing vector 350\n",
      "[DEBUG] processing vector 0\n",
      "[DEBUG] processing vector 50\n",
      "[DEBUG] processing vector 100\n",
      "[DEBUG] processing vector 150\n",
      "[DEBUG] processing vector 200\n",
      "[DEBUG] processing vector 250\n",
      "[DEBUG] processing vector 300\n",
      "[DEBUG] processing vector 350\n",
      "[DEBUG] processing vector 0\n",
      "[DEBUG] processing vector 50\n",
      "[DEBUG] processing vector 100\n",
      "[DEBUG] processing vector 150\n",
      "[DEBUG] processing vector 200\n",
      "[DEBUG] processing vector 250\n",
      "[DEBUG] processing vector 300\n",
      "[DEBUG] processing vector 350\n",
      "[DEBUG] processing vector 0\n",
      "[DEBUG] processing vector 50\n",
      "[DEBUG] processing vector 100\n",
      "[DEBUG] processing vector 150\n",
      "[DEBUG] processing vector 200\n",
      "[DEBUG] processing vector 250\n",
      "[DEBUG] processing vector 300\n",
      "[DEBUG] processing vector 350\n",
      "[DEBUG] processing vector 0\n",
      "[DEBUG] processing vector 50\n",
      "[DEBUG] processing vector 100\n",
      "[DEBUG] processing vector 150\n",
      "[DEBUG] processing vector 200\n",
      "[DEBUG] processing vector 250\n",
      "[DEBUG] processing vector 300\n",
      "[DEBUG] processing vector 350\n",
      "[DEBUG] processing vector 0\n",
      "[DEBUG] processing vector 50\n",
      "[DEBUG] processing vector 100\n",
      "[DEBUG] processing vector 150\n",
      "[DEBUG] processing vector 200\n",
      "[DEBUG] processing vector 250\n",
      "[DEBUG] processing vector 300\n",
      "[DEBUG] processing vector 350\n",
      "[DEBUG] processing vector 0\n",
      "[DEBUG] processing vector 50\n",
      "[DEBUG] processing vector 100\n",
      "[DEBUG] processing vector 150\n",
      "[DEBUG] processing vector 200\n",
      "[DEBUG] processing vector 250\n",
      "[DEBUG] processing vector 300\n",
      "[DEBUG] processing vector 350\n",
      "[DEBUG] processing vector 0\n",
      "[DEBUG] processing vector 50\n",
      "[DEBUG] processing vector 100\n",
      "[DEBUG] processing vector 150\n",
      "[DEBUG] processing vector 200\n",
      "[DEBUG] processing vector 250\n",
      "[DEBUG] processing vector 300\n",
      "[DEBUG] processing vector 350\n",
      "[DEBUG] processing vector 0\n",
      "[DEBUG] processing vector 50\n",
      "[DEBUG] processing vector 100\n",
      "[DEBUG] processing vector 150\n",
      "[DEBUG] processing vector 200\n",
      "[DEBUG] processing vector 250\n",
      "[DEBUG] processing vector 300\n",
      "[DEBUG] processing vector 350\n",
      "[DEBUG] processing vector 0\n",
      "[DEBUG] processing vector 50\n",
      "[DEBUG] processing vector 100\n",
      "[DEBUG] processing vector 150\n",
      "[DEBUG] processing vector 200\n",
      "[DEBUG] processing vector 250\n",
      "[DEBUG] processing vector 300\n",
      "[DEBUG] processing vector 350\n",
      "[DEBUG] processing vector 0\n",
      "[DEBUG] processing vector 50\n",
      "[DEBUG] processing vector 100\n",
      "[DEBUG] processing vector 150\n",
      "[DEBUG] processing vector 200\n",
      "[DEBUG] processing vector 250\n",
      "[DEBUG] processing vector 300\n",
      "[DEBUG] processing vector 350\n",
      "[DEBUG] processing vector 0\n",
      "[DEBUG] processing vector 50\n",
      "[DEBUG] processing vector 100\n",
      "[DEBUG] processing vector 150\n",
      "[DEBUG] processing vector 200\n",
      "[DEBUG] processing vector 250\n",
      "[DEBUG] processing vector 300\n",
      "[DEBUG] processing vector 350\n",
      "[DEBUG] processing vector 0\n",
      "[DEBUG] processing vector 50\n",
      "[DEBUG] processing vector 100\n",
      "[DEBUG] processing vector 150\n",
      "[DEBUG] processing vector 200\n",
      "[DEBUG] processing vector 250\n",
      "[DEBUG] processing vector 300\n",
      "[DEBUG] processing vector 350\n",
      "[DEBUG] processing vector 0\n",
      "[DEBUG] processing vector 50\n",
      "[DEBUG] processing vector 100\n",
      "[DEBUG] processing vector 150\n",
      "[DEBUG] processing vector 200\n",
      "[DEBUG] processing vector 250\n",
      "[DEBUG] processing vector 300\n",
      "[DEBUG] processing vector 350\n",
      "[DEBUG] processing vector 0\n",
      "[DEBUG] processing vector 50\n",
      "[DEBUG] processing vector 100\n",
      "[DEBUG] processing vector 150\n",
      "[DEBUG] processing vector 200\n",
      "[DEBUG] processing vector 250\n",
      "[DEBUG] processing vector 300\n",
      "[DEBUG] processing vector 350\n",
      "[DEBUG] processing vector 0\n",
      "[DEBUG] processing vector 50\n",
      "[DEBUG] processing vector 100\n",
      "[DEBUG] processing vector 150\n",
      "[DEBUG] processing vector 200\n",
      "[DEBUG] processing vector 250\n",
      "[DEBUG] processing vector 300\n",
      "[DEBUG] processing vector 350\n",
      "[DEBUG] processing vector 0\n",
      "[DEBUG] processing vector 50\n",
      "[DEBUG] processing vector 100\n",
      "[DEBUG] processing vector 150\n",
      "[DEBUG] processing vector 200\n",
      "[DEBUG] processing vector 250\n",
      "[DEBUG] processing vector 300\n",
      "[DEBUG] processing vector 350\n",
      "[DEBUG] processing vector 0\n",
      "[DEBUG] processing vector 50\n",
      "[DEBUG] processing vector 100\n",
      "[DEBUG] processing vector 150\n",
      "[DEBUG] processing vector 200\n",
      "[DEBUG] processing vector 250\n",
      "[DEBUG] processing vector 300\n",
      "[DEBUG] processing vector 350\n",
      "[DEBUG] processing vector 0\n",
      "[DEBUG] processing vector 50\n",
      "[DEBUG] processing vector 100\n",
      "[DEBUG] processing vector 150\n",
      "[DEBUG] processing vector 200\n",
      "[DEBUG] processing vector 250\n",
      "[DEBUG] processing vector 300\n",
      "[DEBUG] processing vector 350\n",
      "[DEBUG] processing vector 0\n",
      "[DEBUG] processing vector 50\n",
      "[DEBUG] processing vector 100\n",
      "[DEBUG] processing vector 150\n",
      "[DEBUG] processing vector 200\n",
      "[DEBUG] processing vector 250\n",
      "[DEBUG] processing vector 300\n",
      "[DEBUG] processing vector 350\n",
      "[DEBUG] processing vector 0\n",
      "[DEBUG] processing vector 50\n",
      "[DEBUG] processing vector 100\n",
      "[DEBUG] processing vector 150\n",
      "[DEBUG] processing vector 200\n",
      "[DEBUG] processing vector 250\n",
      "[DEBUG] processing vector 300\n",
      "[DEBUG] processing vector 350\n",
      "[DEBUG] processing vector 0\n",
      "[DEBUG] processing vector 50\n",
      "[DEBUG] processing vector 100\n",
      "[DEBUG] processing vector 150\n",
      "[DEBUG] processing vector 200\n",
      "[DEBUG] processing vector 250\n",
      "[DEBUG] processing vector 300\n",
      "[DEBUG] processing vector 350\n",
      "[DEBUG] processing vector 0\n",
      "[DEBUG] processing vector 50\n",
      "[DEBUG] processing vector 100\n",
      "[DEBUG] processing vector 150\n",
      "[DEBUG] processing vector 200\n",
      "[DEBUG] processing vector 250\n",
      "[DEBUG] processing vector 300\n",
      "[DEBUG] processing vector 350\n",
      "[DEBUG] processing vector 0\n",
      "[DEBUG] processing vector 50\n",
      "[DEBUG] processing vector 100\n",
      "[DEBUG] processing vector 150\n",
      "[DEBUG] processing vector 200\n",
      "[DEBUG] processing vector 250\n",
      "[DEBUG] processing vector 300\n",
      "[DEBUG] processing vector 350\n",
      "[DEBUG] processing vector 0\n",
      "[DEBUG] processing vector 50\n",
      "[DEBUG] processing vector 100\n",
      "[DEBUG] processing vector 150\n",
      "[DEBUG] processing vector 200\n",
      "[DEBUG] processing vector 250\n",
      "[DEBUG] processing vector 300\n",
      "[DEBUG] processing vector 350\n",
      "[DEBUG] processing vector 0\n",
      "[DEBUG] processing vector 50\n",
      "[DEBUG] processing vector 100\n",
      "[DEBUG] processing vector 150\n",
      "[DEBUG] processing vector 200\n",
      "[DEBUG] processing vector 250\n",
      "[DEBUG] processing vector 300\n",
      "[DEBUG] processing vector 350\n",
      "[DEBUG] processing vector 0\n",
      "[DEBUG] processing vector 50\n",
      "[DEBUG] processing vector 100\n",
      "[DEBUG] processing vector 150\n",
      "[DEBUG] processing vector 200\n",
      "[DEBUG] processing vector 250\n",
      "[DEBUG] processing vector 300\n",
      "[DEBUG] processing vector 350\n",
      "[DEBUG] processing vector 0\n",
      "[DEBUG] processing vector 50\n",
      "[DEBUG] processing vector 100\n",
      "[DEBUG] processing vector 150\n",
      "[DEBUG] processing vector 200\n",
      "[DEBUG] processing vector 250\n",
      "[DEBUG] processing vector 300\n",
      "[DEBUG] processing vector 350\n",
      "[DEBUG] processing vector 0\n",
      "[DEBUG] processing vector 50\n",
      "[DEBUG] processing vector 100\n",
      "[DEBUG] processing vector 150\n",
      "[DEBUG] processing vector 200\n",
      "[DEBUG] processing vector 250\n",
      "[DEBUG] processing vector 300\n",
      "[DEBUG] processing vector 350\n",
      "[DEBUG] processing vector 0\n",
      "[DEBUG] processing vector 50\n",
      "[DEBUG] processing vector 100\n",
      "[DEBUG] processing vector 150\n",
      "[DEBUG] processing vector 200\n",
      "[DEBUG] processing vector 250\n",
      "[DEBUG] processing vector 300\n",
      "[DEBUG] processing vector 350\n",
      "[DEBUG] processing vector 0\n",
      "[DEBUG] processing vector 50\n",
      "[DEBUG] processing vector 100\n",
      "[DEBUG] processing vector 150\n",
      "[DEBUG] processing vector 200\n",
      "[DEBUG] processing vector 250\n",
      "[DEBUG] processing vector 300\n",
      "[DEBUG] processing vector 350\n",
      "[DEBUG] processing vector 0\n",
      "[DEBUG] processing vector 50\n",
      "[DEBUG] processing vector 100\n",
      "[DEBUG] processing vector 150\n",
      "[DEBUG] processing vector 200\n",
      "[DEBUG] processing vector 250\n",
      "[DEBUG] processing vector 300\n",
      "[DEBUG] processing vector 350\n",
      "[DEBUG] processing vector 0\n",
      "[DEBUG] processing vector 50\n",
      "[DEBUG] processing vector 100\n",
      "[DEBUG] processing vector 150\n",
      "[DEBUG] processing vector 200\n",
      "[DEBUG] processing vector 250\n",
      "[DEBUG] processing vector 300\n",
      "[DEBUG] processing vector 350\n",
      "[DEBUG] processing vector 0\n",
      "[DEBUG] processing vector 50\n",
      "[DEBUG] processing vector 100\n",
      "[DEBUG] processing vector 150\n",
      "[DEBUG] processing vector 200\n",
      "[DEBUG] processing vector 250\n",
      "[DEBUG] processing vector 300\n",
      "[DEBUG] processing vector 350\n",
      "[DEBUG] processing vector 0\n",
      "[DEBUG] processing vector 50\n",
      "[DEBUG] processing vector 100\n",
      "[DEBUG] processing vector 150\n",
      "[DEBUG] processing vector 200\n",
      "[DEBUG] processing vector 250\n",
      "[DEBUG] processing vector 300\n",
      "[DEBUG] processing vector 350\n",
      "[DEBUG] processing vector 0\n",
      "[DEBUG] processing vector 50\n",
      "[DEBUG] processing vector 100\n",
      "[DEBUG] processing vector 150\n",
      "[DEBUG] processing vector 200\n",
      "[DEBUG] processing vector 250\n",
      "[DEBUG] processing vector 300\n",
      "[DEBUG] processing vector 350\n",
      "[DEBUG] processing vector 0\n",
      "[DEBUG] processing vector 50\n",
      "[DEBUG] processing vector 100\n",
      "[DEBUG] processing vector 150\n",
      "[DEBUG] processing vector 200\n",
      "[DEBUG] processing vector 250\n",
      "[DEBUG] processing vector 300\n",
      "[DEBUG] processing vector 350\n",
      "[DEBUG] processing vector 0\n",
      "[DEBUG] processing vector 50\n",
      "[DEBUG] processing vector 100\n",
      "[DEBUG] processing vector 150\n",
      "[DEBUG] processing vector 200\n",
      "[DEBUG] processing vector 250\n",
      "[DEBUG] processing vector 300\n",
      "[DEBUG] processing vector 350\n",
      "[DEBUG] processing vector 0\n",
      "[DEBUG] processing vector 50\n",
      "[DEBUG] processing vector 100\n",
      "[DEBUG] processing vector 150\n",
      "[DEBUG] processing vector 200\n",
      "[DEBUG] processing vector 250\n",
      "[DEBUG] processing vector 300\n",
      "[DEBUG] processing vector 350\n",
      "[DEBUG] processing vector 0\n",
      "[DEBUG] processing vector 50\n",
      "[DEBUG] processing vector 100\n",
      "[DEBUG] processing vector 150\n",
      "[DEBUG] processing vector 200\n",
      "[DEBUG] processing vector 250\n",
      "[DEBUG] processing vector 300\n",
      "[DEBUG] processing vector 350\n",
      "[DEBUG] processing vector 0\n",
      "[DEBUG] processing vector 50\n",
      "[DEBUG] processing vector 100\n",
      "[DEBUG] processing vector 150\n",
      "[DEBUG] processing vector 200\n",
      "[DEBUG] processing vector 250\n",
      "[DEBUG] processing vector 300\n",
      "[DEBUG] processing vector 350\n",
      "[DEBUG] processing vector 0\n",
      "[DEBUG] processing vector 50\n",
      "[DEBUG] processing vector 100\n",
      "[DEBUG] processing vector 150\n",
      "[DEBUG] processing vector 200\n",
      "[DEBUG] processing vector 250\n",
      "[DEBUG] processing vector 300\n",
      "[DEBUG] processing vector 350\n",
      "[DEBUG] processing vector 0\n",
      "[DEBUG] processing vector 50\n",
      "[DEBUG] processing vector 100\n",
      "[DEBUG] processing vector 150\n",
      "[DEBUG] processing vector 200\n",
      "[DEBUG] processing vector 250\n",
      "[DEBUG] processing vector 300\n",
      "[DEBUG] processing vector 350\n",
      "[DEBUG] processing vector 0\n",
      "[DEBUG] processing vector 50\n",
      "[DEBUG] processing vector 100\n",
      "[DEBUG] processing vector 150\n",
      "[DEBUG] processing vector 200\n",
      "[DEBUG] processing vector 250\n",
      "[DEBUG] processing vector 300\n",
      "[DEBUG] processing vector 350\n",
      "[DEBUG] processing vector 0\n",
      "[DEBUG] processing vector 50\n",
      "[DEBUG] processing vector 100\n",
      "[DEBUG] processing vector 150\n",
      "[DEBUG] processing vector 200\n",
      "[DEBUG] processing vector 250\n",
      "[DEBUG] processing vector 300\n",
      "[DEBUG] processing vector 350\n",
      "[DEBUG] processing vector 0\n",
      "[DEBUG] processing vector 50\n",
      "[DEBUG] processing vector 100\n",
      "[DEBUG] processing vector 150\n",
      "[DEBUG] processing vector 200\n",
      "[DEBUG] processing vector 250\n",
      "[DEBUG] processing vector 300\n",
      "[DEBUG] processing vector 350\n",
      "[DEBUG] processing vector 0\n",
      "[DEBUG] processing vector 50\n",
      "[DEBUG] processing vector 100\n",
      "[DEBUG] processing vector 150\n",
      "[DEBUG] processing vector 200\n",
      "[DEBUG] processing vector 250\n",
      "[DEBUG] processing vector 300\n",
      "[DEBUG] processing vector 350\n",
      "[DEBUG] processing vector 0\n",
      "[DEBUG] processing vector 50\n",
      "[DEBUG] processing vector 100\n",
      "[DEBUG] processing vector 150\n",
      "[DEBUG] processing vector 200\n",
      "[DEBUG] processing vector 250\n",
      "[DEBUG] processing vector 300\n",
      "[DEBUG] processing vector 350\n",
      "[DEBUG] processing vector 0\n",
      "[DEBUG] processing vector 50\n",
      "[DEBUG] processing vector 100\n",
      "[DEBUG] processing vector 150\n",
      "[DEBUG] processing vector 200\n",
      "[DEBUG] processing vector 250\n",
      "[DEBUG] processing vector 300\n",
      "[DEBUG] processing vector 350\n",
      "[DEBUG] processing vector 0\n",
      "[DEBUG] processing vector 50\n",
      "[DEBUG] processing vector 100\n",
      "[DEBUG] processing vector 150\n",
      "[DEBUG] processing vector 200\n",
      "[DEBUG] processing vector 250\n",
      "[DEBUG] processing vector 300\n",
      "[DEBUG] processing vector 350\n",
      "[DEBUG] processing vector 0\n",
      "[DEBUG] processing vector 50\n",
      "[DEBUG] processing vector 100\n",
      "[DEBUG] processing vector 150\n",
      "[DEBUG] processing vector 200\n",
      "[DEBUG] processing vector 250\n",
      "[DEBUG] processing vector 300\n",
      "[DEBUG] processing vector 350\n",
      "[DEBUG] processing vector 0\n",
      "[DEBUG] processing vector 50\n",
      "[DEBUG] processing vector 100\n",
      "[DEBUG] processing vector 150\n",
      "[DEBUG] processing vector 200\n",
      "[DEBUG] processing vector 250\n",
      "[DEBUG] processing vector 300\n",
      "[DEBUG] processing vector 350\n",
      "[DEBUG] processing vector 0\n",
      "[DEBUG] processing vector 50\n",
      "[DEBUG] processing vector 100\n",
      "[DEBUG] processing vector 150\n",
      "[DEBUG] processing vector 200\n",
      "[DEBUG] processing vector 250\n",
      "[DEBUG] processing vector 300\n",
      "[DEBUG] processing vector 350\n",
      "[DEBUG] processing vector 0\n",
      "[DEBUG] processing vector 50\n",
      "[DEBUG] processing vector 100\n",
      "[DEBUG] processing vector 150\n",
      "[DEBUG] processing vector 200\n",
      "[DEBUG] processing vector 250\n",
      "[DEBUG] processing vector 300\n",
      "[DEBUG] processing vector 350\n",
      "[DEBUG] processing vector 0\n",
      "[DEBUG] processing vector 50\n",
      "[DEBUG] processing vector 100\n",
      "[DEBUG] processing vector 150\n",
      "[DEBUG] processing vector 200\n",
      "[DEBUG] processing vector 250\n",
      "[DEBUG] processing vector 300\n",
      "[DEBUG] processing vector 350\n",
      "[DEBUG] processing vector 0\n",
      "[DEBUG] processing vector 50\n",
      "[DEBUG] processing vector 100\n",
      "[DEBUG] processing vector 150\n",
      "[DEBUG] processing vector 200\n",
      "[DEBUG] processing vector 250\n",
      "[DEBUG] processing vector 300\n",
      "[DEBUG] processing vector 350\n",
      "[DEBUG] processing vector 0\n",
      "[DEBUG] processing vector 50\n",
      "[DEBUG] processing vector 100\n",
      "[DEBUG] processing vector 150\n",
      "[DEBUG] processing vector 200\n",
      "[DEBUG] processing vector 250\n",
      "[DEBUG] processing vector 300\n",
      "[DEBUG] processing vector 350\n",
      "[DEBUG] processing vector 0\n",
      "[DEBUG] processing vector 50\n",
      "[DEBUG] processing vector 100\n",
      "[DEBUG] processing vector 150\n",
      "[DEBUG] processing vector 200\n",
      "[DEBUG] processing vector 250\n",
      "[DEBUG] processing vector 300\n",
      "[DEBUG] processing vector 350\n",
      "[DEBUG] processing vector 0\n",
      "[DEBUG] processing vector 50\n",
      "[DEBUG] processing vector 100\n",
      "[DEBUG] processing vector 150\n",
      "[DEBUG] processing vector 200\n",
      "[DEBUG] processing vector 250\n",
      "[DEBUG] processing vector 300\n",
      "[DEBUG] processing vector 350\n",
      "[DEBUG] processing vector 0\n",
      "[DEBUG] processing vector 50\n",
      "[DEBUG] processing vector 100\n",
      "[DEBUG] processing vector 150\n",
      "[DEBUG] processing vector 200\n",
      "[DEBUG] processing vector 250\n",
      "[DEBUG] processing vector 300\n",
      "[DEBUG] processing vector 350\n",
      "[DEBUG] processing vector 0\n",
      "[DEBUG] processing vector 50\n",
      "[DEBUG] processing vector 100\n",
      "[DEBUG] processing vector 150\n",
      "[DEBUG] processing vector 200\n",
      "[DEBUG] processing vector 250\n",
      "[DEBUG] processing vector 300\n",
      "[DEBUG] processing vector 350\n",
      "[DEBUG] processing vector 0\n",
      "[DEBUG] processing vector 50\n",
      "[DEBUG] processing vector 100\n",
      "[DEBUG] processing vector 150\n",
      "[DEBUG] processing vector 200\n",
      "[DEBUG] processing vector 250\n",
      "[DEBUG] processing vector 300\n",
      "[DEBUG] processing vector 350\n",
      "[DEBUG] processing vector 0\n",
      "[DEBUG] processing vector 50\n",
      "[DEBUG] processing vector 100\n",
      "[DEBUG] processing vector 150\n",
      "[DEBUG] processing vector 200\n",
      "[DEBUG] processing vector 250\n",
      "[DEBUG] processing vector 300\n",
      "[DEBUG] processing vector 350\n",
      "[INFO] Elapsed time = 45.12s\n",
      "Serial disconnected\n",
      "Running <function DPE.multiply_w_delay at 0x000001C3A2159828> with serial\n",
      "[DEBUG] processing vector 0\n",
      "[DEBUG] processing vector 50\n",
      "[DEBUG] processing vector 100\n",
      "[DEBUG] processing vector 150\n",
      "[DEBUG] processing vector 200\n",
      "[DEBUG] processing vector 250\n",
      "[DEBUG] processing vector 300\n",
      "[DEBUG] processing vector 350\n",
      "[DEBUG] processing vector 0\n",
      "[DEBUG] processing vector 50\n",
      "[DEBUG] processing vector 100\n",
      "[DEBUG] processing vector 150\n",
      "[DEBUG] processing vector 200\n",
      "[DEBUG] processing vector 250\n",
      "[DEBUG] processing vector 300\n",
      "[DEBUG] processing vector 350\n",
      "[DEBUG] processing vector 0\n",
      "[DEBUG] processing vector 50\n",
      "[DEBUG] processing vector 100\n",
      "[DEBUG] processing vector 150\n",
      "[DEBUG] processing vector 200\n",
      "[DEBUG] processing vector 250\n",
      "[DEBUG] processing vector 300\n",
      "[DEBUG] processing vector 350\n",
      "[DEBUG] processing vector 0\n",
      "[DEBUG] processing vector 50\n",
      "[DEBUG] processing vector 100\n",
      "[DEBUG] processing vector 150\n",
      "[DEBUG] processing vector 200\n",
      "[DEBUG] processing vector 250\n",
      "[DEBUG] processing vector 300\n",
      "[DEBUG] processing vector 350\n",
      "[DEBUG] processing vector 0\n",
      "[DEBUG] processing vector 50\n",
      "[DEBUG] processing vector 100\n",
      "[DEBUG] processing vector 150\n",
      "[DEBUG] processing vector 200\n",
      "[DEBUG] processing vector 250\n",
      "[DEBUG] processing vector 300\n",
      "[DEBUG] processing vector 350\n",
      "[DEBUG] processing vector 0\n",
      "[DEBUG] processing vector 50\n",
      "[DEBUG] processing vector 100\n",
      "[DEBUG] processing vector 150\n",
      "[DEBUG] processing vector 200\n",
      "[DEBUG] processing vector 250\n",
      "[DEBUG] processing vector 300\n",
      "[DEBUG] processing vector 350\n",
      "[DEBUG] processing vector 0\n",
      "[DEBUG] processing vector 50\n",
      "[DEBUG] processing vector 100\n",
      "[DEBUG] processing vector 150\n",
      "[DEBUG] processing vector 200\n",
      "[DEBUG] processing vector 250\n",
      "[DEBUG] processing vector 300\n",
      "[DEBUG] processing vector 350\n",
      "[DEBUG] processing vector 0\n",
      "[DEBUG] processing vector 50\n",
      "[DEBUG] processing vector 100\n",
      "[DEBUG] processing vector 150\n",
      "[DEBUG] processing vector 200\n",
      "[DEBUG] processing vector 250\n",
      "[DEBUG] processing vector 300\n",
      "[DEBUG] processing vector 350\n",
      "[DEBUG] processing vector 0\n",
      "[DEBUG] processing vector 50\n",
      "[DEBUG] processing vector 100\n",
      "[DEBUG] processing vector 150\n",
      "[DEBUG] processing vector 200\n",
      "[DEBUG] processing vector 250\n",
      "[DEBUG] processing vector 300\n",
      "[DEBUG] processing vector 350\n",
      "[DEBUG] processing vector 0\n",
      "[DEBUG] processing vector 50\n",
      "[DEBUG] processing vector 100\n",
      "[DEBUG] processing vector 150\n",
      "[DEBUG] processing vector 200\n",
      "[DEBUG] processing vector 250\n",
      "[DEBUG] processing vector 300\n",
      "[DEBUG] processing vector 350\n",
      "[DEBUG] processing vector 0\n",
      "[DEBUG] processing vector 50\n",
      "[DEBUG] processing vector 100\n",
      "[DEBUG] processing vector 150\n",
      "[DEBUG] processing vector 200\n",
      "[DEBUG] processing vector 250\n",
      "[DEBUG] processing vector 300\n",
      "[DEBUG] processing vector 350\n",
      "[DEBUG] processing vector 0\n",
      "[DEBUG] processing vector 50\n",
      "[DEBUG] processing vector 100\n",
      "[DEBUG] processing vector 150\n",
      "[DEBUG] processing vector 200\n",
      "[DEBUG] processing vector 250\n",
      "[DEBUG] processing vector 300\n",
      "[DEBUG] processing vector 350\n",
      "[DEBUG] processing vector 0\n",
      "[DEBUG] processing vector 50\n",
      "[DEBUG] processing vector 100\n",
      "[DEBUG] processing vector 150\n",
      "[DEBUG] processing vector 200\n",
      "[DEBUG] processing vector 250\n",
      "[DEBUG] processing vector 300\n",
      "[DEBUG] processing vector 350\n",
      "[DEBUG] processing vector 0\n",
      "[DEBUG] processing vector 50\n",
      "[DEBUG] processing vector 100\n",
      "[DEBUG] processing vector 150\n",
      "[DEBUG] processing vector 200\n",
      "[DEBUG] processing vector 250\n",
      "[DEBUG] processing vector 300\n",
      "[DEBUG] processing vector 350\n",
      "[DEBUG] processing vector 0\n",
      "[DEBUG] processing vector 50\n",
      "[DEBUG] processing vector 100\n",
      "[DEBUG] processing vector 150\n",
      "[DEBUG] processing vector 200\n",
      "[DEBUG] processing vector 250\n",
      "[DEBUG] processing vector 300\n",
      "[DEBUG] processing vector 350\n",
      "[DEBUG] processing vector 0\n",
      "[DEBUG] processing vector 50\n",
      "[DEBUG] processing vector 100\n",
      "[DEBUG] processing vector 150\n",
      "[DEBUG] processing vector 200\n",
      "[DEBUG] processing vector 250\n",
      "[DEBUG] processing vector 300\n",
      "[DEBUG] processing vector 350\n",
      "[DEBUG] processing vector 0\n",
      "[DEBUG] processing vector 50\n",
      "[DEBUG] processing vector 100\n",
      "[DEBUG] processing vector 150\n",
      "[DEBUG] processing vector 200\n",
      "[DEBUG] processing vector 250\n",
      "[DEBUG] processing vector 300\n",
      "[DEBUG] processing vector 350\n",
      "[DEBUG] processing vector 0\n",
      "[DEBUG] processing vector 50\n",
      "[DEBUG] processing vector 100\n",
      "[DEBUG] processing vector 150\n",
      "[DEBUG] processing vector 200\n",
      "[DEBUG] processing vector 250\n",
      "[DEBUG] processing vector 300\n",
      "[DEBUG] processing vector 350\n",
      "[DEBUG] processing vector 0\n",
      "[DEBUG] processing vector 50\n",
      "[DEBUG] processing vector 100\n",
      "[DEBUG] processing vector 150\n",
      "[DEBUG] processing vector 200\n",
      "[DEBUG] processing vector 250\n",
      "[DEBUG] processing vector 300\n",
      "[DEBUG] processing vector 350\n",
      "[DEBUG] processing vector 0\n",
      "[DEBUG] processing vector 50\n",
      "[DEBUG] processing vector 100\n",
      "[DEBUG] processing vector 150\n",
      "[DEBUG] processing vector 200\n",
      "[DEBUG] processing vector 250\n",
      "[DEBUG] processing vector 300\n",
      "[DEBUG] processing vector 350\n",
      "[DEBUG] processing vector 0\n",
      "[DEBUG] processing vector 50\n",
      "[DEBUG] processing vector 100\n",
      "[DEBUG] processing vector 150\n",
      "[DEBUG] processing vector 200\n",
      "[DEBUG] processing vector 250\n",
      "[DEBUG] processing vector 300\n",
      "[DEBUG] processing vector 350\n",
      "[DEBUG] processing vector 0\n",
      "[DEBUG] processing vector 50\n",
      "[DEBUG] processing vector 100\n",
      "[DEBUG] processing vector 150\n",
      "[DEBUG] processing vector 200\n",
      "[DEBUG] processing vector 250\n",
      "[DEBUG] processing vector 300\n",
      "[DEBUG] processing vector 350\n",
      "[DEBUG] processing vector 0\n",
      "[DEBUG] processing vector 50\n",
      "[DEBUG] processing vector 100\n",
      "[DEBUG] processing vector 150\n",
      "[DEBUG] processing vector 200\n",
      "[DEBUG] processing vector 250\n",
      "[DEBUG] processing vector 300\n",
      "[DEBUG] processing vector 350\n",
      "[DEBUG] processing vector 0\n",
      "[DEBUG] processing vector 50\n",
      "[DEBUG] processing vector 100\n",
      "[DEBUG] processing vector 150\n",
      "[DEBUG] processing vector 200\n",
      "[DEBUG] processing vector 250\n",
      "[DEBUG] processing vector 300\n",
      "[DEBUG] processing vector 350\n",
      "[DEBUG] processing vector 0\n",
      "[DEBUG] processing vector 50\n",
      "[DEBUG] processing vector 100\n",
      "[DEBUG] processing vector 150\n",
      "[DEBUG] processing vector 200\n",
      "[DEBUG] processing vector 250\n",
      "[DEBUG] processing vector 300\n",
      "[DEBUG] processing vector 350\n",
      "[DEBUG] processing vector 0\n",
      "[DEBUG] processing vector 50\n",
      "[DEBUG] processing vector 100\n",
      "[DEBUG] processing vector 150\n",
      "[DEBUG] processing vector 200\n",
      "[DEBUG] processing vector 250\n",
      "[DEBUG] processing vector 300\n",
      "[DEBUG] processing vector 350\n",
      "[DEBUG] processing vector 0\n",
      "[DEBUG] processing vector 50\n",
      "[DEBUG] processing vector 100\n",
      "[DEBUG] processing vector 150\n",
      "[DEBUG] processing vector 200\n",
      "[DEBUG] processing vector 250\n",
      "[DEBUG] processing vector 300\n",
      "[DEBUG] processing vector 350\n",
      "[DEBUG] processing vector 0\n",
      "[DEBUG] processing vector 50\n",
      "[DEBUG] processing vector 100\n",
      "[DEBUG] processing vector 150\n",
      "[DEBUG] processing vector 200\n",
      "[DEBUG] processing vector 250\n",
      "[DEBUG] processing vector 300\n",
      "[DEBUG] processing vector 350\n",
      "[DEBUG] processing vector 0\n",
      "[DEBUG] processing vector 50\n",
      "[DEBUG] processing vector 100\n",
      "[DEBUG] processing vector 150\n",
      "[DEBUG] processing vector 200\n",
      "[DEBUG] processing vector 250\n",
      "[DEBUG] processing vector 300\n",
      "[DEBUG] processing vector 350\n",
      "[DEBUG] processing vector 0\n",
      "[DEBUG] processing vector 50\n",
      "[DEBUG] processing vector 100\n",
      "[DEBUG] processing vector 150\n",
      "[DEBUG] processing vector 200\n",
      "[DEBUG] processing vector 250\n",
      "[DEBUG] processing vector 300\n",
      "[DEBUG] processing vector 350\n",
      "[DEBUG] processing vector 0\n",
      "[DEBUG] processing vector 50\n",
      "[DEBUG] processing vector 100\n",
      "[DEBUG] processing vector 150\n",
      "[DEBUG] processing vector 200\n",
      "[DEBUG] processing vector 250\n",
      "[DEBUG] processing vector 300\n",
      "[DEBUG] processing vector 350\n",
      "[DEBUG] processing vector 0\n",
      "[DEBUG] processing vector 50\n",
      "[DEBUG] processing vector 100\n",
      "[DEBUG] processing vector 150\n",
      "[DEBUG] processing vector 200\n",
      "[DEBUG] processing vector 250\n",
      "[DEBUG] processing vector 300\n",
      "[DEBUG] processing vector 350\n",
      "[DEBUG] processing vector 0\n",
      "[DEBUG] processing vector 50\n",
      "[DEBUG] processing vector 100\n",
      "[DEBUG] processing vector 150\n",
      "[DEBUG] processing vector 200\n",
      "[DEBUG] processing vector 250\n",
      "[DEBUG] processing vector 300\n",
      "[DEBUG] processing vector 350\n",
      "[DEBUG] processing vector 0\n",
      "[DEBUG] processing vector 50\n",
      "[DEBUG] processing vector 100\n",
      "[DEBUG] processing vector 150\n",
      "[DEBUG] processing vector 200\n",
      "[DEBUG] processing vector 250\n",
      "[DEBUG] processing vector 300\n",
      "[DEBUG] processing vector 350\n",
      "[DEBUG] processing vector 0\n",
      "[DEBUG] processing vector 50\n",
      "[DEBUG] processing vector 100\n",
      "[DEBUG] processing vector 150\n",
      "[DEBUG] processing vector 200\n",
      "[DEBUG] processing vector 250\n",
      "[DEBUG] processing vector 300\n",
      "[DEBUG] processing vector 350\n",
      "[DEBUG] processing vector 0\n",
      "[DEBUG] processing vector 50\n",
      "[DEBUG] processing vector 100\n",
      "[DEBUG] processing vector 150\n",
      "[DEBUG] processing vector 200\n",
      "[DEBUG] processing vector 250\n",
      "[DEBUG] processing vector 300\n",
      "[DEBUG] processing vector 350\n",
      "[DEBUG] processing vector 0\n",
      "[DEBUG] processing vector 50\n",
      "[DEBUG] processing vector 100\n",
      "[DEBUG] processing vector 150\n",
      "[DEBUG] processing vector 200\n",
      "[DEBUG] processing vector 250\n",
      "[DEBUG] processing vector 300\n",
      "[DEBUG] processing vector 350\n",
      "[DEBUG] processing vector 0\n",
      "[DEBUG] processing vector 50\n",
      "[DEBUG] processing vector 100\n",
      "[DEBUG] processing vector 150\n",
      "[DEBUG] processing vector 200\n",
      "[DEBUG] processing vector 250\n",
      "[DEBUG] processing vector 300\n",
      "[DEBUG] processing vector 350\n",
      "[DEBUG] processing vector 0\n",
      "[DEBUG] processing vector 50\n",
      "[DEBUG] processing vector 100\n",
      "[DEBUG] processing vector 150\n",
      "[DEBUG] processing vector 200\n",
      "[DEBUG] processing vector 250\n",
      "[DEBUG] processing vector 300\n",
      "[DEBUG] processing vector 350\n",
      "[DEBUG] processing vector 0\n",
      "[DEBUG] processing vector 50\n",
      "[DEBUG] processing vector 100\n",
      "[DEBUG] processing vector 150\n",
      "[DEBUG] processing vector 200\n",
      "[DEBUG] processing vector 250\n",
      "[DEBUG] processing vector 300\n",
      "[DEBUG] processing vector 350\n",
      "[DEBUG] processing vector 0\n",
      "[DEBUG] processing vector 50\n",
      "[DEBUG] processing vector 100\n",
      "[DEBUG] processing vector 150\n",
      "[DEBUG] processing vector 200\n",
      "[DEBUG] processing vector 250\n",
      "[DEBUG] processing vector 300\n",
      "[DEBUG] processing vector 350\n",
      "[DEBUG] processing vector 0\n",
      "[DEBUG] processing vector 50\n",
      "[DEBUG] processing vector 100\n",
      "[DEBUG] processing vector 150\n",
      "[DEBUG] processing vector 200\n",
      "[DEBUG] processing vector 250\n",
      "[DEBUG] processing vector 300\n",
      "[DEBUG] processing vector 350\n",
      "[DEBUG] processing vector 0\n",
      "[DEBUG] processing vector 50\n",
      "[DEBUG] processing vector 100\n",
      "[DEBUG] processing vector 150\n",
      "[DEBUG] processing vector 200\n",
      "[DEBUG] processing vector 250\n",
      "[DEBUG] processing vector 300\n",
      "[DEBUG] processing vector 350\n",
      "[DEBUG] processing vector 0\n",
      "[DEBUG] processing vector 50\n",
      "[DEBUG] processing vector 100\n",
      "[DEBUG] processing vector 150\n",
      "[DEBUG] processing vector 200\n",
      "[DEBUG] processing vector 250\n",
      "[DEBUG] processing vector 300\n",
      "[DEBUG] processing vector 350\n",
      "[DEBUG] processing vector 0\n",
      "[DEBUG] processing vector 50\n",
      "[DEBUG] processing vector 100\n",
      "[DEBUG] processing vector 150\n",
      "[DEBUG] processing vector 200\n",
      "[DEBUG] processing vector 250\n",
      "[DEBUG] processing vector 300\n",
      "[DEBUG] processing vector 350\n",
      "[DEBUG] processing vector 0\n",
      "[DEBUG] processing vector 50\n",
      "[DEBUG] processing vector 100\n",
      "[DEBUG] processing vector 150\n",
      "[DEBUG] processing vector 200\n",
      "[DEBUG] processing vector 250\n",
      "[DEBUG] processing vector 300\n",
      "[DEBUG] processing vector 350\n",
      "[DEBUG] processing vector 0\n",
      "[DEBUG] processing vector 50\n",
      "[DEBUG] processing vector 100\n",
      "[DEBUG] processing vector 150\n",
      "[DEBUG] processing vector 200\n",
      "[DEBUG] processing vector 250\n",
      "[DEBUG] processing vector 300\n",
      "[DEBUG] processing vector 350\n",
      "[DEBUG] processing vector 0\n",
      "[DEBUG] processing vector 50\n",
      "[DEBUG] processing vector 100\n",
      "[DEBUG] processing vector 150\n",
      "[DEBUG] processing vector 200\n",
      "[DEBUG] processing vector 250\n",
      "[DEBUG] processing vector 300\n",
      "[DEBUG] processing vector 350\n",
      "[DEBUG] processing vector 0\n",
      "[DEBUG] processing vector 50\n",
      "[DEBUG] processing vector 100\n",
      "[DEBUG] processing vector 150\n",
      "[DEBUG] processing vector 200\n",
      "[DEBUG] processing vector 250\n",
      "[DEBUG] processing vector 300\n",
      "[DEBUG] processing vector 350\n",
      "[DEBUG] processing vector 0\n",
      "[DEBUG] processing vector 50\n",
      "[DEBUG] processing vector 100\n",
      "[DEBUG] processing vector 150\n",
      "[DEBUG] processing vector 200\n",
      "[DEBUG] processing vector 250\n",
      "[DEBUG] processing vector 300\n",
      "[DEBUG] processing vector 350\n",
      "[DEBUG] processing vector 0\n",
      "[DEBUG] processing vector 50\n",
      "[DEBUG] processing vector 100\n",
      "[DEBUG] processing vector 150\n",
      "[DEBUG] processing vector 200\n",
      "[DEBUG] processing vector 250\n",
      "[DEBUG] processing vector 300\n",
      "[DEBUG] processing vector 350\n",
      "[DEBUG] processing vector 0\n",
      "[DEBUG] processing vector 50\n",
      "[DEBUG] processing vector 100\n",
      "[DEBUG] processing vector 150\n",
      "[DEBUG] processing vector 200\n",
      "[DEBUG] processing vector 250\n",
      "[DEBUG] processing vector 300\n",
      "[DEBUG] processing vector 350\n",
      "[DEBUG] processing vector 0\n",
      "[DEBUG] processing vector 50\n",
      "[DEBUG] processing vector 100\n",
      "[DEBUG] processing vector 150\n",
      "[DEBUG] processing vector 200\n",
      "[DEBUG] processing vector 250\n",
      "[DEBUG] processing vector 300\n",
      "[DEBUG] processing vector 350\n",
      "[DEBUG] processing vector 0\n",
      "[DEBUG] processing vector 50\n",
      "[DEBUG] processing vector 100\n",
      "[DEBUG] processing vector 150\n",
      "[DEBUG] processing vector 200\n",
      "[DEBUG] processing vector 250\n",
      "[DEBUG] processing vector 300\n",
      "[DEBUG] processing vector 350\n",
      "[DEBUG] processing vector 0\n",
      "[DEBUG] processing vector 50\n",
      "[DEBUG] processing vector 100\n",
      "[DEBUG] processing vector 150\n",
      "[DEBUG] processing vector 200\n",
      "[DEBUG] processing vector 250\n",
      "[DEBUG] processing vector 300\n",
      "[DEBUG] processing vector 350\n",
      "[DEBUG] processing vector 0\n",
      "[DEBUG] processing vector 50\n",
      "[DEBUG] processing vector 100\n",
      "[DEBUG] processing vector 150\n",
      "[DEBUG] processing vector 200\n",
      "[DEBUG] processing vector 250\n",
      "[DEBUG] processing vector 300\n",
      "[DEBUG] processing vector 350\n",
      "[DEBUG] processing vector 0\n",
      "[DEBUG] processing vector 50\n",
      "[DEBUG] processing vector 100\n",
      "[DEBUG] processing vector 150\n",
      "[DEBUG] processing vector 200\n",
      "[DEBUG] processing vector 250\n",
      "[DEBUG] processing vector 300\n",
      "[DEBUG] processing vector 350\n",
      "[DEBUG] processing vector 0\n",
      "[DEBUG] processing vector 50\n",
      "[DEBUG] processing vector 100\n",
      "[DEBUG] processing vector 150\n",
      "[DEBUG] processing vector 200\n",
      "[DEBUG] processing vector 250\n",
      "[DEBUG] processing vector 300\n",
      "[DEBUG] processing vector 350\n",
      "[DEBUG] processing vector 0\n",
      "[DEBUG] processing vector 50\n",
      "[DEBUG] processing vector 100\n",
      "[DEBUG] processing vector 150\n",
      "[DEBUG] processing vector 200\n",
      "[DEBUG] processing vector 250\n",
      "[DEBUG] processing vector 300\n",
      "[DEBUG] processing vector 350\n",
      "[DEBUG] processing vector 0\n",
      "[DEBUG] processing vector 50\n",
      "[DEBUG] processing vector 100\n",
      "[DEBUG] processing vector 150\n",
      "[DEBUG] processing vector 200\n",
      "[DEBUG] processing vector 250\n",
      "[DEBUG] processing vector 300\n",
      "[DEBUG] processing vector 350\n",
      "[DEBUG] processing vector 0\n",
      "[DEBUG] processing vector 50\n",
      "[DEBUG] processing vector 100\n",
      "[DEBUG] processing vector 150\n",
      "[DEBUG] processing vector 200\n",
      "[DEBUG] processing vector 250\n",
      "[DEBUG] processing vector 300\n",
      "[DEBUG] processing vector 350\n",
      "[DEBUG] processing vector 0\n",
      "[DEBUG] processing vector 50\n",
      "[DEBUG] processing vector 100\n",
      "[DEBUG] processing vector 150\n",
      "[DEBUG] processing vector 200\n",
      "[DEBUG] processing vector 250\n",
      "[DEBUG] processing vector 300\n",
      "[DEBUG] processing vector 350\n",
      "[DEBUG] processing vector 0\n",
      "[DEBUG] processing vector 50\n",
      "[DEBUG] processing vector 100\n",
      "[DEBUG] processing vector 150\n",
      "[DEBUG] processing vector 200\n",
      "[DEBUG] processing vector 250\n",
      "[DEBUG] processing vector 300\n",
      "[DEBUG] processing vector 350\n",
      "[DEBUG] processing vector 0\n",
      "[DEBUG] processing vector 50\n",
      "[DEBUG] processing vector 100\n",
      "[DEBUG] processing vector 150\n",
      "[DEBUG] processing vector 200\n",
      "[DEBUG] processing vector 250\n",
      "[DEBUG] processing vector 300\n",
      "[DEBUG] processing vector 350\n",
      "[INFO] Elapsed time = 43.66s\n",
      "Serial disconnected\n"
     ]
    }
   ],
   "source": [
    "dpe.N_BIT = 64\n",
    "\n",
    "output1 = dpe.multiply_w_delay(0, x1, c_sel=[0, 20], mode=0, delay=1, debug=True)\n",
    "software1 = (Gfc1.T @ x1).T \n",
    "\n",
    "output2 = dpe.multiply_w_delay(0, x2, c_sel=[20, 40], mode=1, delay=1, debug=True)\n",
    "software2 = (Gfc2.T @ x2).T "
   ]
  },
  {
   "cell_type": "code",
   "execution_count": 221,
   "metadata": {},
   "outputs": [
    {
     "data": {
      "text/plain": [
       "(400, 20)"
      ]
     },
     "execution_count": 221,
     "metadata": {},
     "output_type": "execute_result"
    }
   ],
   "source": [
    "output1.shape"
   ]
  },
  {
   "cell_type": "code",
   "execution_count": 222,
   "metadata": {},
   "outputs": [],
   "source": [
    "# output1 = dpe.multiply(0, x1, c_sel=[0, 20])\n",
    "# software1 = (Gfc1.T @ x1).T \n",
    "\n",
    "# output2 = dpe.multiply(0, x2, c_sel=[20, 40])\n",
    "# software2 = (Gfc2.T @ x2).T "
   ]
  },
  {
   "cell_type": "code",
   "execution_count": 223,
   "metadata": {},
   "outputs": [],
   "source": [
    "lin_cor_fc1 = []\n",
    "lin_cor_fc2 = []\n",
    "for c in range(20):\n",
    "    lin_cor_fc1.append( np.polyfit(output1[:,c], software1[:,c], 1))\n",
    "    lin_cor_fc2.append( np.polyfit(output2[:,c], software2[:,c], 1))"
   ]
  },
  {
   "cell_type": "code",
   "execution_count": 224,
   "metadata": {},
   "outputs": [
    {
     "data": {
      "text/plain": [
       "array([[ 1.20903248e+00, -4.70290524e-05],\n",
       "       [ 1.39263448e+00, -7.24631275e-06],\n",
       "       [ 9.51300363e-01,  3.34754782e-06],\n",
       "       [ 1.35072861e+00, -2.88404435e-05],\n",
       "       [ 1.18516991e+00, -3.84557281e-06],\n",
       "       [ 1.38599903e+00,  2.53321423e-05],\n",
       "       [ 9.80542027e-01,  3.26258841e-06],\n",
       "       [ 1.29036184e+00, -3.75264074e-06],\n",
       "       [ 1.15956111e+00,  5.82836301e-06],\n",
       "       [ 1.37891472e+00, -8.56544283e-07],\n",
       "       [ 1.16404104e+00,  4.81194588e-06],\n",
       "       [ 1.32877455e+00, -1.61384253e-05],\n",
       "       [ 1.24599184e+00, -1.12583745e-05],\n",
       "       [ 9.52359749e-01,  2.61226648e-05],\n",
       "       [ 1.03668976e+00,  2.36978948e-05],\n",
       "       [ 1.23831571e+00,  1.29558159e-05],\n",
       "       [ 1.19716076e+00, -9.26931441e-06],\n",
       "       [ 1.06902217e+00,  1.91487830e-05],\n",
       "       [ 9.22707440e-01,  2.02724965e-05],\n",
       "       [ 1.41290859e+00, -2.58990388e-05]])"
      ]
     },
     "execution_count": 224,
     "metadata": {},
     "output_type": "execute_result"
    }
   ],
   "source": [
    "np.array(lin_cor_fc2)"
   ]
  },
  {
   "cell_type": "code",
   "execution_count": 225,
   "metadata": {},
   "outputs": [],
   "source": [
    "def lin_corr(outputs, factors):\n",
    "    result = np.zeros(outputs.shape)\n",
    "    for c in range(outputs.shape[1]):\n",
    "        result[:,c] = outputs[:,c] * factors[c][0] + factors[c][1]\n",
    "        \n",
    "    return result"
   ]
  },
  {
   "cell_type": "code",
   "execution_count": 226,
   "metadata": {},
   "outputs": [],
   "source": [
    "output_corr = lin_corr(output2, lin_cor_fc2)\n",
    "software = (Gfc2.T @ x2).T "
   ]
  },
  {
   "cell_type": "code",
   "execution_count": 227,
   "metadata": {},
   "outputs": [
    {
     "data": {
      "image/png": "[encoded data removed]",
      "text/plain": [
       "<Figure size 432x288 with 1 Axes>"
      ]
     },
     "metadata": {
      "needs_background": "light"
     },
     "output_type": "display_data"
    }
   ],
   "source": [
    "# lin_cor_fc2 = []\n",
    "\n",
    "for c in range(20):\n",
    "    x = software[:,c]\n",
    "    y = output_corr[:,c]\n",
    "    \n",
    "#     plt.figure(c)\n",
    "    plt.plot(x,y,'.')\n",
    "\n",
    "#     lin_cor_fc2.append( np.polyfit(y, x, 1))"
   ]
  },
  {
   "cell_type": "code",
   "execution_count": 228,
   "metadata": {},
   "outputs": [
    {
     "data": {
      "text/plain": [
       "(array([  2.,   0.,   2.,   1.,   0.,   4.,   5.,  10.,  27.,  27.,  47.,\n",
       "         63.,  80., 126., 163., 225., 305., 356., 432., 507., 492., 592.,\n",
       "        583., 605., 585., 539., 473., 429., 359., 243., 214., 138., 111.,\n",
       "         88.,  47.,  41.,  28.,  15.,  14.,   9.,   6.,   0.,   2.,   3.,\n",
       "          0.,   0.,   1.,   0.,   0.,   1.]),\n",
       " array([-0.12030715, -0.11504854, -0.10978993, -0.10453131, -0.0992727 ,\n",
       "        -0.09401409, -0.08875547, -0.08349686, -0.07823825, -0.07297964,\n",
       "        -0.06772102, -0.06246241, -0.0572038 , -0.05194518, -0.04668657,\n",
       "        -0.04142796, -0.03616935, -0.03091073, -0.02565212, -0.02039351,\n",
       "        -0.01513489, -0.00987628, -0.00461767,  0.00064094,  0.00589956,\n",
       "         0.01115817,  0.01641678,  0.0216754 ,  0.02693401,  0.03219262,\n",
       "         0.03745124,  0.04270985,  0.04796846,  0.05322707,  0.05848569,\n",
       "         0.0637443 ,  0.06900291,  0.07426153,  0.07952014,  0.08477875,\n",
       "         0.09003736,  0.09529598,  0.10055459,  0.1058132 ,  0.11107182,\n",
       "         0.11633043,  0.12158904,  0.12684765,  0.13210627,  0.13736488,\n",
       "         0.14262349]),\n",
       " <a list of 50 Patch objects>)"
      ]
     },
     "execution_count": 228,
     "metadata": {},
     "output_type": "execute_result"
    },
    {
     "data": {
      "image/png": "[encoded data removed]",
      "text/plain": [
       "<Figure size 432x288 with 1 Axes>"
      ]
     },
     "metadata": {
      "needs_background": "light"
     },
     "output_type": "display_data"
    }
   ],
   "source": [
    "plt.hist((output_corr-software).reshape(-1, 1)/0.0006, bins=50 )"
   ]
  },
  {
   "cell_type": "code",
   "execution_count": 229,
   "metadata": {},
   "outputs": [
    {
     "data": {
      "text/plain": [
       "0.028461434291333493"
      ]
     },
     "execution_count": 229,
     "metadata": {},
     "output_type": "execute_result"
    }
   ],
   "source": [
    "(output_corr-software).reshape(-1, 1).std()/0.0006"
   ]
  },
  {
   "cell_type": "code",
   "execution_count": 192,
   "metadata": {},
   "outputs": [],
   "source": [
    "# load_workspace(vars(), '20190821-051552-mnist_xs')\n",
    "# xs = np.array(xs)"
   ]
  },
  {
   "cell_type": "code",
   "execution_count": 230,
   "metadata": {},
   "outputs": [
    {
     "name": "stdout",
     "output_type": "stream",
     "text": [
      "Accuracy = 62.00%\n",
      "Total accuracy = 73.25%\n"
     ]
    }
   ],
   "source": [
    "ys = []\n",
    "batch_size = 100\n",
    "\n",
    "for i in range( (len(test_images)-1)//batch_size + 1 ):\n",
    "    idx1 = i * batch_size\n",
    "    idx2 = (i+1) * batch_size\n",
    "    idx2 = idx2 if idx2<= len(test_images) else len(test_images)\n",
    "    \n",
    "    print(f'Running on sample {idx1}-{idx2}')\n",
    "\n",
    "    x = xs[idx1:idx2]\n",
    "\n",
    "    x1 = x[:,:57].T\n",
    "    x2 = x[:,57:].T\n",
    "\n",
    "    sc1 = x1.max()\n",
    "    sc2 = x2.max()\n",
    "\n",
    "    Gfc1 = nn.Gfc[:57]\n",
    "    Gfc2 = nn.Gfc[57:]\n",
    "\n",
    "    x1 = x1 / sc1\n",
    "    x2 = x2 / sc2\n",
    "    \n",
    "    output1  = dpe.multiply_w_delay(0, x1, c_sel=[0, 20], mode=1, debug=True, delay=1)\n",
    "    output1 = lin_corr(output1, lin_cor_fc1) * sc1\n",
    "\n",
    "    output2  = dpe.multiply_w_delay(0, x2, c_sel=[20, 40], mode=1, debug=True, delay=1)\n",
    "    output2 = lin_corr(output2, lin_cor_fc2) * sc2\n",
    "\n",
    "    outputs = output1 + output2\n",
    "    \n",
    "    y = outputs[:,::2] - outputs[:,1::2]\n",
    "    \n",
    "    display.clear_output(wait=True)\n",
    "    \n",
    "    print(f'Accuracy = {np.mean(y.argmax(axis=1) == test_labels[idx1:idx2])*100:.2f}%')\n",
    "    ys.append(y)\n",
    "    print(f'Total accuracy = {np.mean(np.concatenate(ys).argmax(axis=1) == test_labels[:idx2])*100:.2f}%')\n",
    "    \n",
    "ys = np.concatenate(ys)  "
   ]
  },
  {
   "cell_type": "code",
   "execution_count": 235,
   "metadata": {},
   "outputs": [
    {
     "data": {
      "text/plain": [
       "0.9352"
      ]
     },
     "execution_count": 235,
     "metadata": {},
     "output_type": "execute_result"
    }
   ],
   "source": [
    "np.mean(ys.argmax(axis=1) == test_labels)"
   ]
  },
  {
   "cell_type": "code",
   "execution_count": 234,
   "metadata": {},
   "outputs": [
    {
     "name": "stdout",
     "output_type": "stream",
     "text": [
      "Loaded: In, Out, weights, train_images, train_labels, test_images, test_labels, g, img_idx, image, vectors, outputs, software, c, x, y, mat_contents, finalGconv, g1, g2, linear_factors_conv, xs, acc, result, x1, finalGfc, x2, sc1, sc2, Gfc1, Gfc2, output1, software1, output2, software2, lin_cor_fc1, lin_cor_fc2, output_corr, ys, batch_size, i, idx1, idx2, \n"
     ]
    }
   ],
   "source": [
    "load_workspace(vars(), '20190822-090423-prober2-modFC-delay-unary-64bit')"
   ]
  },
  {
   "cell_type": "code",
   "execution_count": 232,
   "metadata": {},
   "outputs": [
    {
     "name": "stdout",
     "output_type": "stream",
     "text": [
      "Saving In(<class 'list'>), Out(<class 'dict'>), weights(<class 'numpy.ndarray'>), train_images(<class 'numpy.ndarray'>), train_labels(<class 'numpy.ndarray'>), test_images(<class 'numpy.ndarray'>), test_labels(<class 'numpy.ndarray'>), g(<class 'numpy.ndarray'>), img_idx(<class 'int'>), image(<class 'numpy.ndarray'>), vectors(<class 'numpy.ndarray'>), outputs(<class 'numpy.ndarray'>), software(<class 'numpy.ndarray'>), c(<class 'int'>), x(<class 'numpy.ndarray'>), y(<class 'numpy.ndarray'>), mat_contents(<class 'dict'>), finalGconv(<class 'numpy.ndarray'>), g1(<class 'numpy.ndarray'>), g2(<class 'numpy.ndarray'>), linear_factors_conv(<class 'numpy.ndarray'>), xs(<class 'numpy.ndarray'>), acc(<class 'list'>), result(<class 'numpy.ndarray'>), x1(<class 'numpy.ndarray'>), finalGfc(<class 'numpy.ndarray'>), x2(<class 'numpy.ndarray'>), sc1(<class 'numpy.float64'>), sc2(<class 'numpy.float64'>), Gfc1(<class 'numpy.ndarray'>), Gfc2(<class 'numpy.ndarray'>), output1(<class 'numpy.ndarray'>), software1(<class 'numpy.ndarray'>), output2(<class 'numpy.ndarray'>), software2(<class 'numpy.ndarray'>), lin_cor_fc1(<class 'list'>), lin_cor_fc2(<class 'list'>), output_corr(<class 'numpy.ndarray'>), ys(<class 'numpy.ndarray'>), batch_size(<class 'int'>), i(<class 'int'>), idx1(<class 'int'>), idx2(<class 'int'>), to 20190822-094623-prober2-modFC-delay-unary-64bit.pkl\n",
      "Saving In(<class 'list'>), weights(<class 'numpy.ndarray'>), train_images(<class 'numpy.ndarray'>), train_labels(<class 'numpy.ndarray'>), test_images(<class 'numpy.ndarray'>), test_labels(<class 'numpy.ndarray'>), g(<class 'numpy.ndarray'>), img_idx(<class 'int'>), image(<class 'numpy.ndarray'>), vectors(<class 'numpy.ndarray'>), outputs(<class 'numpy.ndarray'>), software(<class 'numpy.ndarray'>), c(<class 'int'>), x(<class 'numpy.ndarray'>), y(<class 'numpy.ndarray'>), finalGconv(<class 'numpy.ndarray'>), g1(<class 'numpy.ndarray'>), g2(<class 'numpy.ndarray'>), linear_factors_conv(<class 'numpy.ndarray'>), xs(<class 'numpy.ndarray'>), acc(<class 'list'>), result(<class 'numpy.ndarray'>), x1(<class 'numpy.ndarray'>), finalGfc(<class 'numpy.ndarray'>), x2(<class 'numpy.ndarray'>), sc1(<class 'numpy.float64'>), sc2(<class 'numpy.float64'>), Gfc1(<class 'numpy.ndarray'>), Gfc2(<class 'numpy.ndarray'>), output1(<class 'numpy.ndarray'>), software1(<class 'numpy.ndarray'>), output2(<class 'numpy.ndarray'>), software2(<class 'numpy.ndarray'>), lin_cor_fc1(<class 'list'>), lin_cor_fc2(<class 'list'>), output_corr(<class 'numpy.ndarray'>), ys(<class 'numpy.ndarray'>), batch_size(<class 'int'>), i(<class 'int'>), idx1(<class 'int'>), idx2(<class 'int'>), to 20190822-094623-prober2-modFC-delay-unary-64bit.mat\n"
     ]
    }
   ],
   "source": [
    "save_workspace(vars(), note='prober2-modFC-delay-unary-64bit')"
   ]
  },
  {
   "cell_type": "code",
   "execution_count": 29,
   "metadata": {},
   "outputs": [
    {
     "data": {
      "text/plain": [
       "array([ True,  True, False, ...,  True,  True,  True])"
      ]
     },
     "execution_count": 29,
     "metadata": {},
     "output_type": "execute_result"
    }
   ],
   "source": [
    "ynew.argmax(axis=1) == test_labels"
   ]
  },
  {
   "cell_type": "code",
   "execution_count": 19,
   "metadata": {},
   "outputs": [],
   "source": [
    "import scipy.io as sio\n",
    "#load_workspace(vars(), '20190814-205207-CNN weights')\n",
    "mat_contents = sio.loadmat('UpdatedGconv.mat')\n",
    "finalGconv = mat_contents['finalGconv']"
   ]
  },
  {
   "cell_type": "code",
   "execution_count": 19,
   "metadata": {},
   "outputs": [
    {
     "data": {
      "text/plain": [
       "(26, 14)"
      ]
     },
     "execution_count": 19,
     "metadata": {},
     "output_type": "execute_result"
    },
    {
     "data": {
      "image/png": "[encoded data removed]",
      "text/plain": [
       "<Figure size 432x288 with 2 Axes>"
      ]
     },
     "metadata": {
      "needs_background": "light"
     },
     "output_type": "display_data"
    }
   ],
   "source": [
    "plt.imshow(finalGconv)\n",
    "plt.colorbar()\n",
    "np.shape(finalGconv)"
   ]
  },
  {
   "cell_type": "code",
   "execution_count": 22,
   "metadata": {},
   "outputs": [
    {
     "data": {
      "text/plain": [
       "<matplotlib.colorbar.Colorbar at 0x1145dbd0>"
      ]
     },
     "execution_count": 22,
     "metadata": {},
     "output_type": "execute_result"
    },
    {
     "data": {
      "image/png": "[encoded data removed]",
      "text/plain": [
       "<Figure size 432x288 with 2 Axes>"
      ]
     },
     "metadata": {
      "needs_background": "light"
     },
     "output_type": "display_data"
    }
   ],
   "source": [
    "g1 = finalGconv[:,::2] - finalGconv[:,1::2]\n",
    "plt.imshow(g1)\n",
    "plt.colorbar()"
   ]
  },
  {
   "cell_type": "code",
   "execution_count": 24,
   "metadata": {},
   "outputs": [
    {
     "data": {
      "text/plain": [
       "<matplotlib.colorbar.Colorbar at 0x11527fb0>"
      ]
     },
     "execution_count": 24,
     "metadata": {},
     "output_type": "execute_result"
    },
    {
     "data": {
      "image/png": "[encoded data removed]",
      "text/plain": [
       "<Figure size 432x288 with 2 Axes>"
      ]
     },
     "metadata": {
      "needs_background": "light"
     },
     "output_type": "display_data"
    }
   ],
   "source": [
    "g2 = nn.Gconv[:,::2] - nn.Gconv[:,1::2]\n",
    "plt.imshow(g2/2)\n",
    "plt.colorbar()"
   ]
  },
  {
   "cell_type": "code",
   "execution_count": 31,
   "metadata": {},
   "outputs": [
    {
     "data": {
      "text/plain": [
       "(array([-5.0e-07,  0.0e+00,  5.0e-07,  1.0e-06,  1.5e-06,  2.0e-06,\n",
       "         2.5e-06,  3.0e-06,  3.5e-06,  4.0e-06,  4.5e-06]),\n",
       " <a list of 11 Text xticklabel objects>)"
      ]
     },
     "execution_count": 31,
     "metadata": {},
     "output_type": "execute_result"
    },
    {
     "data": {
      "image/png": "[encoded data removed]",
      "text/plain": [
       "<Figure size 432x288 with 1 Axes>"
      ]
     },
     "metadata": {
      "needs_background": "light"
     },
     "output_type": "display_data"
    }
   ],
   "source": [
    "plt.hist((g2/2-g1).reshape(-1,1), bins=50)\n",
    "plt.xticks(rotation=45)"
   ]
  },
  {
   "cell_type": "code",
   "execution_count": 4,
   "metadata": {},
   "outputs": [],
   "source": [
    "import dut_func as dut\n",
    "import serial\n",
    "import time\n",
    "import struct\n",
    "import numpy as np\n",
    "# from bitarray import bitarray\n",
    "from bitstring import BitArray\n",
    "import matplotlib.pyplot as plt\n",
    "%config InlineBackend.figure_formats = ['svg']\n",
    "import dut_a0 as a0\n",
    "\n",
    "from misc import *\n",
    "vOffset = -0.08\n",
    "dut.dac_set('DAC_VREF_HI_CMP', 4.0+vOffset)"
   ]
  },
  {
   "cell_type": "code",
   "execution_count": 238,
   "metadata": {},
   "outputs": [
    {
     "data": {
      "text/plain": [
       "<matplotlib.colorbar.Colorbar at 0x1c3aa2ea188>"
      ]
     },
     "execution_count": 238,
     "metadata": {},
     "output_type": "execute_result"
    },
    {
     "data": {
      "image/png": "[encoded data removed]",
      "text/plain": [
       "<Figure size 432x288 with 2 Axes>"
      ]
     },
     "metadata": {
      "needs_background": "light"
     },
     "output_type": "display_data"
    }
   ],
   "source": [
    "plt.imshow(finalGfc)\n",
    "plt.colorbar()"
   ]
  },
  {
   "cell_type": "code",
   "execution_count": 245,
   "metadata": {},
   "outputs": [
    {
     "name": "stdout",
     "output_type": "stream",
     "text": [
      "Running <function DPE.read at 0x000001C3A2159288> with serial\n",
      "[INFO] Elapsed time = 0.25s\n",
      "Serial disconnected\n"
     ]
    }
   ],
   "source": [
    "g = dpe.read(0)"
   ]
  },
  {
   "cell_type": "code",
   "execution_count": 246,
   "metadata": {},
   "outputs": [
    {
     "data": {
      "text/plain": [
       "<matplotlib.image.AxesImage at 0x1c3ad437e88>"
      ]
     },
     "execution_count": 246,
     "metadata": {},
     "output_type": "execute_result"
    },
    {
     "data": {
      "image/png": "[encoded data removed]",
      "text/plain": [
       "<Figure size 432x288 with 1 Axes>"
      ]
     },
     "metadata": {
      "needs_background": "light"
     },
     "output_type": "display_data"
    }
   ],
   "source": [
    "plt.imshow(g)"
   ]
  },
  {
   "cell_type": "code",
   "execution_count": 247,
   "metadata": {},
   "outputs": [],
   "source": [
    "%reload_ext autoreload\n",
    "%autoreload 2\n",
    "\n",
    "import dut_func as dut\n",
    "import serial\n",
    "import time\n",
    "import struct\n",
    "import numpy as np\n",
    "# from bitarray import bitarray\n",
    "from bitstring import BitArray\n",
    "import matplotlib.pyplot as plt\n",
    "# %config InlineBackend.figure_formats = ['svg']\n",
    "import dut_a0 as a0\n",
    "\n",
    "from misc import *\n",
    "\n",
    "# dut.drv.serUSB = 'COM19'\n",
    "drv = dut.drv\n",
    "\n",
    "ser = serial.Serial('COM3', 9600, timeout=1)\n",
    "dut.connect(ser)"
   ]
  },
  {
   "cell_type": "code",
   "execution_count": 248,
   "metadata": {},
   "outputs": [
    {
     "name": "stdout",
     "output_type": "stream",
     "text": [
      "DAC initialized to a span from -10 V to 10 V\n",
      "Setting vrefs to default\n"
     ]
    }
   ],
   "source": [
    "dut.reset_chip()\n",
    "dut.reset_dpe()\n",
    "dut.ground_PIC()\n",
    "dut.power_on()"
   ]
  },
  {
   "cell_type": "code",
   "execution_count": 250,
   "metadata": {},
   "outputs": [
    {
     "data": {
      "text/plain": [
       "<matplotlib.colorbar.Colorbar at 0x1c3ad8c4588>"
      ]
     },
     "execution_count": 250,
     "metadata": {},
     "output_type": "execute_result"
    },
    {
     "data": {
      "image/png": "[encoded data removed]",
      "text/plain": [
       "<Figure size 432x288 with 2 Axes>"
      ]
     },
     "metadata": {
      "needs_background": "light"
     },
     "output_type": "display_data"
    }
   ],
   "source": [
    "VADC_boundary = np.array([0.4, 1.692, 1.927, 2.247, 2.645, 3.045, 3.391, 3.688, 4.1])\n",
    "VRefHiCmp = np.array([5.3, 4.5, 4.2, 3.8, 3.4, 3.0, 2.7, 2.4])\n",
    "\n",
    "_gain_ratio = [\n",
    "    1e3,\n",
    "    5e3,\n",
    "    30e3,\n",
    "    200e3,\n",
    "    1e6\n",
    "]\n",
    "Vgate = 5.0\n",
    "vOffset = 0.00\n",
    "dut.dac_set('DAC_VREF_HI_CMP', 4.0+vOffset)\n",
    "\n",
    "arr = 0\n",
    "numRows = 64\n",
    "numCols = 64\n",
    "vRead = 0.2\n",
    "vReadGate = 5.0\n",
    "gains = np.array([4, 3, 2, 1, 0])\n",
    "maxCurr = np.array([3.2e-3, 650e-6, 110e-6, 14.0e-6, 3.3e-6])\n",
    "Gmap0post = np.zeros((numRows, numCols))\n",
    "for rr in range(numRows):\n",
    "        for cc in range(numCols):\n",
    "            adc_raw = a0.read_single_int(vRead, Vgate, array=arr, row=rr, col=cc, gain=-1, raw=True)\n",
    "            VADC_read_first = dut.adc2volt(adc_raw)\n",
    "            gainFirst = adc_raw >> 10\n",
    "            secondVRefHiCmpIndex = np.searchsorted(VADC_boundary,VADC_read_first)-1\n",
    "            secondVRefHiCmp = VRefHiCmp[secondVRefHiCmpIndex]+vOffset\n",
    "            dut.dac_set('DAC_VREF_HI_CMP', secondVRefHiCmp+vOffset) \n",
    "            VADC_read_sec = dut.adc2volt(a0.read_single_int(vRead, Vgate, array=arr, row=rr, col=cc, gain=gainFirst, raw=True))\n",
    "            finalADCOut = VADC_read_sec - (secondVRefHiCmp - 4.0) \n",
    "            dut.dac_set('DAC_VREF_HI_CMP', 4.0+vOffset)\n",
    "            rdCurr = (finalADCOut - 0.5) / _gain_ratio[gainFirst]\n",
    "        \n",
    "            Gmap0post[rr,cc] = 1e6*rdCurr/vRead\n",
    "plt.imshow(Gmap0post)\n",
    "plt.colorbar()"
   ]
  },
  {
   "cell_type": "code",
   "execution_count": 253,
   "metadata": {},
   "outputs": [],
   "source": [
    "from lib_data import *\n",
    "import scipy.io as sio\n",
    "mat_contents = sio.loadmat('UpdatedGfc.mat')\n",
    "finalGfc = mat_contents['finalGfc']\n",
    "\n",
    "GMin = 2e-6\n",
    "GMax = 100e-6\n",
    "\n",
    "scaledGfc = finalGfc\n",
    "\n",
    "newGfc = np.zeros((57,40))+GMin\n",
    "newGfc[0:57,0:20]=scaledGfc[0:57,0:20]\n",
    "newGfc[0:56,20:40]=scaledGfc[57:113,0:20]"
   ]
  },
  {
   "cell_type": "code",
   "execution_count": 254,
   "metadata": {},
   "outputs": [
    {
     "data": {
      "text/plain": [
       "<matplotlib.colorbar.Colorbar at 0x1c3acf99248>"
      ]
     },
     "execution_count": 254,
     "metadata": {},
     "output_type": "execute_result"
    },
    {
     "data": {
      "image/png": "[encoded data removed]",
      "text/plain": [
       "<Figure size 432x288 with 2 Axes>"
      ]
     },
     "metadata": {
      "needs_background": "light"
     },
     "output_type": "display_data"
    }
   ],
   "source": [
    "plt.imshow(Gmap0post[0:57,0:40]-1e6*newGfc)\n",
    "plt.colorbar()"
   ]
  },
  {
   "cell_type": "code",
   "execution_count": 255,
   "metadata": {},
   "outputs": [
    {
     "name": "stdout",
     "output_type": "stream",
     "text": [
      "Saving In(<class 'list'>), Out(<class 'dict'>), weights(<class 'numpy.ndarray'>), train_images(<class 'numpy.ndarray'>), train_labels(<class 'numpy.ndarray'>), test_images(<class 'numpy.ndarray'>), test_labels(<class 'numpy.ndarray'>), g(<class 'numpy.ndarray'>), img_idx(<class 'int'>), image(<class 'numpy.ndarray'>), vectors(<class 'numpy.ndarray'>), outputs(<class 'numpy.ndarray'>), software(<class 'numpy.ndarray'>), c(<class 'int'>), x(<class 'numpy.ndarray'>), y(<class 'numpy.ndarray'>), mat_contents(<class 'dict'>), finalGconv(<class 'numpy.ndarray'>), g1(<class 'numpy.ndarray'>), g2(<class 'numpy.ndarray'>), linear_factors_conv(<class 'numpy.ndarray'>), xs(<class 'numpy.ndarray'>), acc(<class 'list'>), result(<class 'numpy.ndarray'>), x1(<class 'numpy.ndarray'>), finalGfc(<class 'numpy.ndarray'>), x2(<class 'numpy.ndarray'>), sc1(<class 'numpy.float64'>), sc2(<class 'numpy.float64'>), Gfc1(<class 'numpy.ndarray'>), Gfc2(<class 'numpy.ndarray'>), output1(<class 'numpy.ndarray'>), software1(<class 'numpy.ndarray'>), output2(<class 'numpy.ndarray'>), software2(<class 'numpy.ndarray'>), lin_cor_fc1(<class 'list'>), lin_cor_fc2(<class 'list'>), output_corr(<class 'numpy.ndarray'>), ys(<class 'numpy.ndarray'>), batch_size(<class 'int'>), i(<class 'int'>), idx1(<class 'int'>), idx2(<class 'int'>), PIC_PINS(<class 'dict'>), DAC_CH(<class 'dict'>), DAC_SPAN(<class 'dict'>), REFCLKO(<class 'dict'>), VADC_boundary(<class 'numpy.ndarray'>), VRefHiCmp(<class 'numpy.ndarray'>), vOffset(<class 'float'>), arr(<class 'int'>), numRows(<class 'int'>), numCols(<class 'int'>), vRead(<class 'float'>), vReadGate(<class 'float'>), gains(<class 'numpy.ndarray'>), maxCurr(<class 'numpy.ndarray'>), Gmap0post(<class 'numpy.ndarray'>), rr(<class 'int'>), cc(<class 'int'>), Vgate(<class 'float'>), adc_raw(<class 'int'>), VADC_read_first(<class 'float'>), gainFirst(<class 'int'>), secondVRefHiCmp(<class 'numpy.float64'>), VADC_read_sec(<class 'float'>), finalADCOut(<class 'numpy.float64'>), rdCurr(<class 'numpy.float64'>), scaledGfc(<class 'numpy.ndarray'>), GMin(<class 'float'>), GMax(<class 'float'>), newGfc(<class 'numpy.ndarray'>), to 20190822-104152-Prober2_newFC_results.pkl\n",
      "Saving In(<class 'list'>), weights(<class 'numpy.ndarray'>), train_images(<class 'numpy.ndarray'>), train_labels(<class 'numpy.ndarray'>), test_images(<class 'numpy.ndarray'>), test_labels(<class 'numpy.ndarray'>), g(<class 'numpy.ndarray'>), img_idx(<class 'int'>), image(<class 'numpy.ndarray'>), vectors(<class 'numpy.ndarray'>), outputs(<class 'numpy.ndarray'>), software(<class 'numpy.ndarray'>), c(<class 'int'>), x(<class 'numpy.ndarray'>), y(<class 'numpy.ndarray'>), finalGconv(<class 'numpy.ndarray'>), g1(<class 'numpy.ndarray'>), g2(<class 'numpy.ndarray'>), linear_factors_conv(<class 'numpy.ndarray'>), xs(<class 'numpy.ndarray'>), acc(<class 'list'>), result(<class 'numpy.ndarray'>), x1(<class 'numpy.ndarray'>), finalGfc(<class 'numpy.ndarray'>), x2(<class 'numpy.ndarray'>), sc1(<class 'numpy.float64'>), sc2(<class 'numpy.float64'>), Gfc1(<class 'numpy.ndarray'>), Gfc2(<class 'numpy.ndarray'>), output1(<class 'numpy.ndarray'>), software1(<class 'numpy.ndarray'>), output2(<class 'numpy.ndarray'>), software2(<class 'numpy.ndarray'>), lin_cor_fc1(<class 'list'>), lin_cor_fc2(<class 'list'>), output_corr(<class 'numpy.ndarray'>), ys(<class 'numpy.ndarray'>), batch_size(<class 'int'>), i(<class 'int'>), idx1(<class 'int'>), idx2(<class 'int'>), VADC_boundary(<class 'numpy.ndarray'>), VRefHiCmp(<class 'numpy.ndarray'>), vOffset(<class 'float'>), arr(<class 'int'>), numRows(<class 'int'>), numCols(<class 'int'>), vRead(<class 'float'>), vReadGate(<class 'float'>), gains(<class 'numpy.ndarray'>), maxCurr(<class 'numpy.ndarray'>), Gmap0post(<class 'numpy.ndarray'>), rr(<class 'int'>), cc(<class 'int'>), Vgate(<class 'float'>), adc_raw(<class 'int'>), VADC_read_first(<class 'float'>), gainFirst(<class 'int'>), secondVRefHiCmp(<class 'numpy.float64'>), VADC_read_sec(<class 'float'>), finalADCOut(<class 'numpy.float64'>), rdCurr(<class 'numpy.float64'>), scaledGfc(<class 'numpy.ndarray'>), GMin(<class 'float'>), GMax(<class 'float'>), newGfc(<class 'numpy.ndarray'>), to 20190822-104152-Prober2_newFC_results.mat\n"
     ]
    }
   ],
   "source": [
    "save_workspace(vars(), note='Prober2_newFC_results')"
   ]
  },
  {
   "cell_type": "code",
   "execution_count": 257,
   "metadata": {},
   "outputs": [],
   "source": [
    "from lib_data import *\n",
    "import scipy.io as sio\n",
    "mat_contents = sio.loadmat('Prober2TargetDevices.mat')\n",
    "targetRowsPython = mat_contents['targetRowsPython']\n",
    "targetColsPython = mat_contents['targetColsPython']"
   ]
  },
  {
   "cell_type": "code",
   "execution_count": 261,
   "metadata": {},
   "outputs": [
    {
     "name": "stdout",
     "output_type": "stream",
     "text": [
      "[[ 0  0  0  0  0  0  1  1  1  1  1  1  2  2  2  2  2  2  2  2  2  2  3  3\n",
      "   3  3  3  3  3  3  3  3  4  4  4  4  4  4  4  4  5  5  5  5  6  6  6  6\n",
      "   6  6  6  6  7  7  8  8  8  8  8  8  8  8  8  8  8  8  8  8  8  8  9  9\n",
      "   9  9  9  9  9  9  9  9 10 10 10 10 10 10 10 10 11 11 11 11 12 12 13 13\n",
      "  13 13 13 13 14 14 14 14 14 14 14 14 14 14 14 14 15 15 16 16 16 16 16 16\n",
      "  16 16 16 16 17 17 17 17 17 17 17 17 17 17 18 18 18 18 18 18 18 18 18 18\n",
      "  18 18 18 18 18 18 19 19 19 19 19 19 20 20 20 20 20 20 21 21 21 21 21 21\n",
      "  21 21 22 22 22 22 22 22 23 23 23 23 23 23 24 24 24 24 24 24 24 24 25 25\n",
      "  25 25 25 25 25 25 25 25 25 25 25 25 25 25 26 26 26 26 27 27 27 27 27 27\n",
      "  28 28 28 28 29 29 29 29 29 29 29 29 29 29 30 30 31 31 31 31 31 31 31 31\n",
      "  31 31 31 31 32 32 32 32 32 32 32 32 32 32 33 33 33 33 33 33 33 33 33 33\n",
      "  34 34 34 34 35 35 35 35 35 35 35 35 35 35 35 35 35 35 36 36 36 36 36 36\n",
      "  36 36 36 36 36 36 36 36 37 37 37 37 37 37 37 37 37 37 37 37 38 38 38 38\n",
      "  39 39 39 39 39 39 39 39 40 40 40 40 40 40 41 41 41 41 41 41 41 41 41 41\n",
      "  41 41 42 42 42 42 42 42 42 42 42 42 42 42 43 43 43 43 43 43 43 43 43 43\n",
      "  44 44 44 44 44 44 44 44 44 44 45 45 45 45 45 45 45 45 45 45 45 45 45 45\n",
      "  46 46 46 46 46 46 46 46 47 47 47 47 47 47 47 47 47 47 48 48 48 48 48 48\n",
      "  48 48 48 48 48 48 48 48 48 48 49 49 49 49 49 49 49 49 49 49 50 50 50 50\n",
      "  50 50 50 50 50 50 50 50 51 51 51 51 51 51 51 51 51 51 51 51 52 52 52 52\n",
      "  52 52 52 52 52 52 52 52 52 52 53 53 53 53 53 53 53 53 54 54 54 54 54 54\n",
      "  54 54 55 55 55 55 55 55 55 55 55 55 56 56 56 56 56 56 56 56]]\n"
     ]
    }
   ],
   "source": [
    "np.size(targetRowsPython)\n",
    "print(targetRowsPython)"
   ]
  },
  {
   "cell_type": "code",
   "execution_count": 263,
   "metadata": {},
   "outputs": [
    {
     "name": "stdout",
     "output_type": "stream",
     "text": [
      "[ 0  0  0  0  0  0  1  1  1  1  1  1  2  2  2  2  2  2  2  2  2  2  3  3\n",
      "  3  3  3  3  3  3  3  3  4  4  4  4  4  4  4  4  5  5  5  5  6  6  6  6\n",
      "  6  6  6  6  7  7  8  8  8  8  8  8  8  8  8  8  8  8  8  8  8  8  9  9\n",
      "  9  9  9  9  9  9  9  9 10 10 10 10 10 10 10 10 11 11 11 11 12 12 13 13\n",
      " 13 13 13 13 14 14 14 14 14 14 14 14 14 14 14 14 15 15 16 16 16 16 16 16\n",
      " 16 16 16 16 17 17 17 17 17 17 17 17 17 17 18 18 18 18 18 18 18 18 18 18\n",
      " 18 18 18 18 18 18 19 19 19 19 19 19 20 20 20 20 20 20 21 21 21 21 21 21\n",
      " 21 21 22 22 22 22 22 22 23 23 23 23 23 23 24 24 24 24 24 24 24 24 25 25\n",
      " 25 25 25 25 25 25 25 25 25 25 25 25 25 25 26 26 26 26 27 27 27 27 27 27\n",
      " 28 28 28 28 29 29 29 29 29 29 29 29 29 29 30 30 31 31 31 31 31 31 31 31\n",
      " 31 31 31 31 32 32 32 32 32 32 32 32 32 32 33 33 33 33 33 33 33 33 33 33\n",
      " 34 34 34 34 35 35 35 35 35 35 35 35 35 35 35 35 35 35 36 36 36 36 36 36\n",
      " 36 36 36 36 36 36 36 36 37 37 37 37 37 37 37 37 37 37 37 37 38 38 38 38\n",
      " 39 39 39 39 39 39 39 39 40 40 40 40 40 40 41 41 41 41 41 41 41 41 41 41\n",
      " 41 41 42 42 42 42 42 42 42 42 42 42 42 42 43 43 43 43 43 43 43 43 43 43\n",
      " 44 44 44 44 44 44 44 44 44 44 45 45 45 45 45 45 45 45 45 45 45 45 45 45\n",
      " 46 46 46 46 46 46 46 46 47 47 47 47 47 47 47 47 47 47 48 48 48 48 48 48\n",
      " 48 48 48 48 48 48 48 48 48 48 49 49 49 49 49 49 49 49 49 49 50 50 50 50\n",
      " 50 50 50 50 50 50 50 50 51 51 51 51 51 51 51 51 51 51 51 51 52 52 52 52\n",
      " 52 52 52 52 52 52 52 52 52 52 53 53 53 53 53 53 53 53 54 54 54 54 54 54\n",
      " 54 54 55 55 55 55 55 55 55 55 55 55 56 56 56 56 56 56 56 56]\n"
     ]
    }
   ],
   "source": [
    "actualRows = targetRowsPython[0]\n",
    "print(actualRows)"
   ]
  },
  {
   "cell_type": "code",
   "execution_count": 272,
   "metadata": {},
   "outputs": [
    {
     "name": "stdout",
     "output_type": "stream",
     "text": [
      "Device = ( 0 ,  0 ) Target = 1.9999999949504854e-06\n",
      "Device = ( 0 ,  1 ) Target = 1.0763773389044218e-05\n",
      "Device = ( 0 ,  4 ) Target = 1.9999999949504854e-06\n",
      "Device = ( 0 ,  5 ) Target = 9.862328442977741e-05\n",
      "Device = ( 0 ,  16 ) Target = -1.6399203559558373e-06\n",
      "Device = ( 0 ,  17 ) Target = 1.9999999949504854e-06\n",
      "Device = ( 1 ,  10 ) Target = 1.9999999949504854e-06\n",
      "Device = ( 1 ,  11 ) Target = 3.823453153017908e-05\n"
     ]
    }
   ],
   "source": [
    "actualRows = targetRowsPython[0]\n",
    "actualCols = targetColsPython[0]\n",
    "totalDevices = np.size(actualRows)\n",
    "\n",
    "for jj in range(8):\n",
    "    rr = actualRows[jj]\n",
    "    cc = actualCols[jj]\n",
    "    print('Device = (', rr, ', ', cc, ') Target =', targetGVals[rr,cc])\n",
    "    \n",
    "    "
   ]
  },
  {
   "cell_type": "code",
   "execution_count": 271,
   "metadata": {},
   "outputs": [],
   "source": [
    "mat_contents = sio.loadmat('UpdatedGfc.mat')\n",
    "finalGfc = mat_contents['finalGfc']\n",
    "\n",
    "GMin = 2e-6\n",
    "\n",
    "newGfc = np.zeros((57,40))+GMin\n",
    "newGfc[0:57,0:20]=finalGfc[0:57,0:20]\n",
    "newGfc[0:56,20:40]=finalGfc[57:113,0:20]\n",
    "\n",
    "targetGVals = newGfc"
   ]
  }
 ],
 "metadata": {
  "kernelspec": {
   "display_name": "Python 3",
   "language": "python",
   "name": "python3"
  },
  "language_info": {
   "codemirror_mode": {
    "name": "ipython",
    "version": 3
   },
   "file_extension": ".py",
   "mimetype": "text/x-python",
   "name": "python",
   "nbconvert_exporter": "python",
   "pygments_lexer": "ipython3",
   "version": "3.7.4"
  }
 },
 "nbformat": 4,
 "nbformat_minor": 4
}
