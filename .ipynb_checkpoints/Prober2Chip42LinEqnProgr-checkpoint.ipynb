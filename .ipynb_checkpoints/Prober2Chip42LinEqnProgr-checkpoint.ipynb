{
 "cells": [
  {
   "cell_type": "code",
   "execution_count": 2,
   "metadata": {},
   "outputs": [],
   "source": [
    "import dut_func as dut\n",
    "import serial\n",
    "import time\n",
    "import struct\n",
    "import numpy as np\n",
    "# from bitarray import bitarray\n",
    "from bitstring import BitArray\n",
    "import matplotlib.pyplot as plt\n",
    "# %config InlineBackend.figure_formats = ['svg']\n",
    "import dut_a0 as a0\n",
    "\n",
    "from misc import *\n",
    "\n",
    "# dut.drv.serUSB = 'COM19'\n",
    "drv = dut.drv"
   ]
  },
  {
   "cell_type": "code",
   "execution_count": 4,
   "metadata": {},
   "outputs": [],
   "source": [
    "ser = serial.Serial('COM3', 9600, timeout=1)\n",
    "dut.connect(ser)"
   ]
  },
  {
   "cell_type": "code",
   "execution_count": 5,
   "metadata": {},
   "outputs": [
    {
     "name": "stdout",
     "output_type": "stream",
     "text": [
      "DAC initialized to a span from -10 V to 10 V\n",
      "Setting vrefs to default\n"
     ]
    }
   ],
   "source": [
    "dut.reset_chip()\n",
    "dut.reset_dpe()\n",
    "dut.ground_PIC()\n",
    "dut.power_on()"
   ]
  },
  {
   "cell_type": "code",
   "execution_count": 6,
   "metadata": {},
   "outputs": [
    {
     "name": "stdout",
     "output_type": "stream",
     "text": [
      "Setting ADC_CK freq=50000.0kHz\n",
      "Setting CK_ARRAY freq=50000.0kHz\n"
     ]
    }
   ],
   "source": [
    "drv.clk_stop('ADC_CK')\n",
    "drv.clk_stop('CK_ARRAY')\n",
    "drv.clk_config('ADC_CK', divisor=2)\n",
    "drv.clk_config('CK_ARRAY', divisor=2)\n",
    "drv.clk_start('ADC_CK')\n",
    "drv.clk_start('CK_ARRAY')"
   ]
  },
  {
   "cell_type": "code",
   "execution_count": null,
   "metadata": {},
   "outputs": [],
   "source": [
    "arr = 0\n",
    "numRows = 64\n",
    "numCols = 64\n",
    "Gmap2FixFinal = np.zeros((numRows, numCols))\n",
    "ts = time.time()\n",
    "for rr in range(numRows):\n",
    "        for cc in range(numCols):\n",
    "            #rdCurr = a0.pic_read_single(arr, rr, cc, Vread=vRead, Vgate=Vgate, gain=-1)  \n",
    "            rdCurr = a0.read_single_int(vRead, Vgate, array=2, row=rr, col=cc,gain=-1)\n",
    "            Gmap2FixFinal[rr,cc] = rdCurr/vRead\n",
    "print(time.time()-ts)\n",
    "plt.imshow(Gmap2FixFinal)\n",
    "plt.colorbar()"
   ]
  },
  {
   "cell_type": "code",
   "execution_count": 3,
   "metadata": {},
   "outputs": [
    {
     "ename": "AttributeError",
     "evalue": "'NoneType' object has no attribute 'write'",
     "output_type": "error",
     "traceback": [
      "\u001b[1;31m---------------------------------------------------------------------------\u001b[0m",
      "\u001b[1;31mAttributeError\u001b[0m                            Traceback (most recent call last)",
      "\u001b[1;32m<ipython-input-3-f47d72e1324f>\u001b[0m in \u001b[0;36m<module>\u001b[1;34m\u001b[0m\n\u001b[0;32m      2\u001b[0m \u001b[0mVread\u001b[0m \u001b[1;33m=\u001b[0m \u001b[1;36m0.2\u001b[0m\u001b[1;33m\u001b[0m\u001b[1;33m\u001b[0m\u001b[0m\n\u001b[0;32m      3\u001b[0m \u001b[0mgain\u001b[0m \u001b[1;33m=\u001b[0m \u001b[1;33m-\u001b[0m\u001b[1;36m1\u001b[0m\u001b[1;33m\u001b[0m\u001b[1;33m\u001b[0m\u001b[0m\n\u001b[1;32m----> 4\u001b[1;33m \u001b[0mGmap\u001b[0m \u001b[1;33m=\u001b[0m \u001b[0ma0\u001b[0m\u001b[1;33m.\u001b[0m\u001b[0mpic_read_batch\u001b[0m\u001b[1;33m(\u001b[0m\u001b[0marray\u001b[0m\u001b[1;33m,\u001b[0m \u001b[0mVread\u001b[0m\u001b[1;33m=\u001b[0m\u001b[0mVread\u001b[0m\u001b[1;33m,\u001b[0m \u001b[0mgain\u001b[0m\u001b[1;33m=\u001b[0m\u001b[0mgain\u001b[0m\u001b[1;33m)\u001b[0m \u001b[1;33m/\u001b[0m \u001b[0mVread\u001b[0m\u001b[1;33m\u001b[0m\u001b[1;33m\u001b[0m\u001b[0m\n\u001b[0m\u001b[0;32m      5\u001b[0m \u001b[0mplt\u001b[0m\u001b[1;33m.\u001b[0m\u001b[0mimshow\u001b[0m\u001b[1;33m(\u001b[0m\u001b[0mGmap\u001b[0m\u001b[1;33m)\u001b[0m\u001b[1;33m\u001b[0m\u001b[1;33m\u001b[0m\u001b[0m\n\u001b[0;32m      6\u001b[0m \u001b[0mplt\u001b[0m\u001b[1;33m.\u001b[0m\u001b[0mcolorbar\u001b[0m\u001b[1;33m(\u001b[0m\u001b[1;33m)\u001b[0m\u001b[1;33m\u001b[0m\u001b[1;33m\u001b[0m\u001b[0m\n",
      "\u001b[1;32mC:\\microchip\\harmony\\v2_06\\apps\\A0_DUT\\dut_a0.py\u001b[0m in \u001b[0;36mpic_read_batch\u001b[1;34m(array, raw, **kwargs)\u001b[0m\n\u001b[0;32m    142\u001b[0m     \u001b[0mmode\u001b[0m \u001b[1;33m=\u001b[0m \u001b[1;36m1\u001b[0m \u001b[1;32mif\u001b[0m \u001b[0mgain\u001b[0m \u001b[1;33m==\u001b[0m \u001b[1;33m-\u001b[0m\u001b[1;36m1\u001b[0m \u001b[1;32melse\u001b[0m \u001b[1;36m0\u001b[0m\u001b[1;33m\u001b[0m\u001b[1;33m\u001b[0m\u001b[0m\n\u001b[0;32m    143\u001b[0m \u001b[1;33m\u001b[0m\u001b[0m\n\u001b[1;32m--> 144\u001b[1;33m     \u001b[0mpic_read_config\u001b[0m\u001b[1;33m(\u001b[0m\u001b[1;33m**\u001b[0m\u001b[0mkwargs\u001b[0m\u001b[1;33m)\u001b[0m\u001b[1;33m\u001b[0m\u001b[1;33m\u001b[0m\u001b[0m\n\u001b[0m\u001b[0;32m    145\u001b[0m \u001b[1;33m\u001b[0m\u001b[0m\n\u001b[0;32m    146\u001b[0m     \u001b[0mdrv\u001b[0m\u001b[1;33m.\u001b[0m\u001b[0mser\u001b[0m\u001b[1;33m.\u001b[0m\u001b[0mflushInput\u001b[0m\u001b[1;33m(\u001b[0m\u001b[1;33m)\u001b[0m\u001b[1;33m\u001b[0m\u001b[1;33m\u001b[0m\u001b[0m\n",
      "\u001b[1;32mC:\\microchip\\harmony\\v2_06\\apps\\A0_DUT\\dut_a0.py\u001b[0m in \u001b[0;36mpic_read_config\u001b[1;34m(**kwargs)\u001b[0m\n\u001b[0;32m     86\u001b[0m     \u001b[1;31m# print(vars())\u001b[0m\u001b[1;33m\u001b[0m\u001b[1;33m\u001b[0m\u001b[1;33m\u001b[0m\u001b[0m\n\u001b[0;32m     87\u001b[0m     dut.scan_control(scan_ctrl_bits=bytes([0x10, 0x02, Tagc, 0x10,\n\u001b[1;32m---> 88\u001b[1;33m                                            Tsh, 0x01, 0x02]))\n\u001b[0m\u001b[0;32m     89\u001b[0m \u001b[1;33m\u001b[0m\u001b[0m\n\u001b[0;32m     90\u001b[0m     \u001b[0mdut\u001b[0m\u001b[1;33m.\u001b[0m\u001b[0mscan_tia\u001b[0m\u001b[1;33m(\u001b[0m\u001b[0mBitArray\u001b[0m\u001b[1;33m(\u001b[0m\u001b[0m_gain_table\u001b[0m\u001b[1;33m[\u001b[0m\u001b[0mgain\u001b[0m\u001b[1;33m]\u001b[0m\u001b[1;33m*\u001b[0m\u001b[1;36m96\u001b[0m\u001b[1;33m)\u001b[0m\u001b[1;33m.\u001b[0m\u001b[0mbytes\u001b[0m\u001b[1;33m)\u001b[0m\u001b[1;33m\u001b[0m\u001b[1;33m\u001b[0m\u001b[0m\n",
      "\u001b[1;32mC:\\microchip\\harmony\\v2_06\\apps\\A0_DUT\\dut_func.py\u001b[0m in \u001b[0;36mscan_control\u001b[1;34m(scan_ctrl_bits)\u001b[0m\n\u001b[0;32m    144\u001b[0m         AGC frequency counter, write pulse start count, write pulse end count]\n\u001b[0;32m    145\u001b[0m     '''\n\u001b[1;32m--> 146\u001b[1;33m     \u001b[0mpads_defaults\u001b[0m\u001b[1;33m(\u001b[0m\u001b[1;33m)\u001b[0m\u001b[1;33m\u001b[0m\u001b[1;33m\u001b[0m\u001b[0m\n\u001b[0m\u001b[0;32m    147\u001b[0m     \u001b[1;31m#    P_SERIAL_BUS_IN data latched in # Refer to Figure 2 for timing diagram and to Table 3 for recommended initial values to use during power on\u001b[0m\u001b[1;33m\u001b[0m\u001b[1;33m\u001b[0m\u001b[1;33m\u001b[0m\u001b[0m\n\u001b[0;32m    148\u001b[0m     \u001b[1;31m# data = bytes([0b000_10000, 0b0000_0010 , 0b0000_1100,0b0001_0000, 0b0010_0000, 0b00000001, 0b00000010])\u001b[0m\u001b[1;33m\u001b[0m\u001b[1;33m\u001b[0m\u001b[1;33m\u001b[0m\u001b[0m\n",
      "\u001b[1;32mC:\\microchip\\harmony\\v2_06\\apps\\A0_DUT\\dut_func.py\u001b[0m in \u001b[0;36mpads_defaults\u001b[1;34m()\u001b[0m\n\u001b[0;32m     21\u001b[0m \u001b[1;33m\u001b[0m\u001b[0m\n\u001b[0;32m     22\u001b[0m \u001b[1;32mdef\u001b[0m \u001b[0mpads_defaults\u001b[0m\u001b[1;33m(\u001b[0m\u001b[1;33m)\u001b[0m\u001b[1;33m:\u001b[0m\u001b[1;33m\u001b[0m\u001b[1;33m\u001b[0m\u001b[0m\n\u001b[1;32m---> 23\u001b[1;33m     \u001b[0mdrv\u001b[0m\u001b[1;33m.\u001b[0m\u001b[0mgpio_pin_reset\u001b[0m\u001b[1;33m(\u001b[0m\u001b[1;33m*\u001b[0m\u001b[0mPIC_PINS\u001b[0m\u001b[1;33m[\u001b[0m\u001b[1;34m'CONNECT_COLUMN_T'\u001b[0m\u001b[1;33m]\u001b[0m\u001b[1;33m)\u001b[0m\u001b[1;33m\u001b[0m\u001b[1;33m\u001b[0m\u001b[0m\n\u001b[0m\u001b[0;32m     24\u001b[0m     \u001b[0mtime\u001b[0m\u001b[1;33m.\u001b[0m\u001b[0msleep\u001b[0m\u001b[1;33m(\u001b[0m\u001b[1;36m1e-6\u001b[0m\u001b[1;33m)\u001b[0m\u001b[1;33m\u001b[0m\u001b[1;33m\u001b[0m\u001b[0m\n\u001b[0;32m     25\u001b[0m     \u001b[0mdrv\u001b[0m\u001b[1;33m.\u001b[0m\u001b[0mgpio_row_col_data_write\u001b[0m\u001b[1;33m(\u001b[0m\u001b[1;36m0x0\u001b[0m\u001b[1;33m)\u001b[0m  \u001b[1;31m# Writes 0 to ROW_COL_DATA<15..0> pins\u001b[0m\u001b[1;33m\u001b[0m\u001b[1;33m\u001b[0m\u001b[0m\n",
      "\u001b[1;32mC:\\microchip\\harmony\\v2_06\\apps\\A0_DUT\\drv_gpio.py\u001b[0m in \u001b[0;36mgpio_pin_reset\u001b[1;34m(portName, pinPos)\u001b[0m\n\u001b[0;32m    134\u001b[0m \u001b[1;33m\u001b[0m\u001b[0m\n\u001b[0;32m    135\u001b[0m \u001b[1;32mdef\u001b[0m \u001b[0mgpio_pin_reset\u001b[0m\u001b[1;33m(\u001b[0m\u001b[0mportName\u001b[0m\u001b[1;33m,\u001b[0m \u001b[0mpinPos\u001b[0m\u001b[1;33m)\u001b[0m\u001b[1;33m:\u001b[0m\u001b[1;33m\u001b[0m\u001b[1;33m\u001b[0m\u001b[0m\n\u001b[1;32m--> 136\u001b[1;33m     ser.write(b'212,'\n\u001b[0m\u001b[0;32m    137\u001b[0m               \u001b[1;33m+\u001b[0m \u001b[0mportName\u001b[0m\u001b[1;33m.\u001b[0m\u001b[0mencode\u001b[0m\u001b[1;33m(\u001b[0m\u001b[1;33m)\u001b[0m \u001b[1;33m+\u001b[0m \u001b[1;34mb','\u001b[0m\u001b[1;33m\u001b[0m\u001b[1;33m\u001b[0m\u001b[0m\n\u001b[0;32m    138\u001b[0m               + str(pinPos).encode() + b'\\0')\n",
      "\u001b[1;31mAttributeError\u001b[0m: 'NoneType' object has no attribute 'write'"
     ]
    }
   ],
   "source": [
    "array = 2\n",
    "Vread = 0.2\n",
    "gain = -1\n",
    "Gmap = a0.pic_read_batch(array, Vread=Vread, gain=gain) / Vread\n",
    "plt.imshow(Gmap)\n",
    "plt.colorbar()"
   ]
  }
 ],
 "metadata": {
  "kernelspec": {
   "display_name": "Python 3",
   "language": "python",
   "name": "python3"
  },
  "language_info": {
   "codemirror_mode": {
    "name": "ipython",
    "version": 3
   },
   "file_extension": ".py",
   "mimetype": "text/x-python",
   "name": "python",
   "nbconvert_exporter": "python",
   "pygments_lexer": "ipython3",
   "version": "3.7.4"
  }
 },
 "nbformat": 4,
 "nbformat_minor": 4
}
