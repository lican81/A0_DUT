{
 "cells": [
  {
   "cell_type": "code",
   "execution_count": 9,
   "metadata": {},
   "outputs": [
    {
     "name": "stdout",
     "output_type": "stream",
     "text": [
      "The autoreload extension is already loaded. To reload it, use:\n",
      "  %reload_ext autoreload\n"
     ]
    }
   ],
   "source": [
    "%load_ext autoreload\n",
    "%autoreload 2\n",
    "from dpe import DPE\n",
    "from lib_data import *\n",
    "import matplotlib.pyplot as plt\n",
    "import numpy as np\n",
    "from lib_nn_dpe import NN_dpe\n",
    "from IPython import display\n",
    "\n",
    "import serial\n"
   ]
  },
  {
   "cell_type": "code",
   "execution_count": 10,
   "metadata": {},
   "outputs": [
    {
     "name": "stdout",
     "output_type": "stream",
     "text": [
      "Running <function DPE.init_dut at 0x0F9A8DF8> with serial\n",
      "DAC initialized to a span from -10 V to 10 V\n",
      "Setting vrefs to default\n",
      "[INFO] Elapsed time = 0.05s\n",
      "Serial disconnected\n"
     ]
    }
   ],
   "source": [
    "dpe = DPE('COM6')"
   ]
  },
  {
   "cell_type": "code",
   "execution_count": 98,
   "metadata": {},
   "outputs": [
    {
     "name": "stdout",
     "output_type": "stream",
     "text": [
      "Running <function DPE.set_clock at 0x0F9A8E88> with serial\n",
      "Setting ADC_CK freq=50000.0kHz\n",
      "Setting CK_ARRAY freq=50000.0kHz\n",
      "[INFO] Elapsed time = 0.00s\n",
      "Serial disconnected\n"
     ]
    }
   ],
   "source": [
    "dpe.set_clock(50)"
   ]
  },
  {
   "cell_type": "code",
   "execution_count": 45,
   "metadata": {},
   "outputs": [
    {
     "name": "stdout",
     "output_type": "stream",
     "text": [
      "Running <function DPE.read at 0x0F9A8F18> with serial\n",
      "[INFO] Elapsed time = 0.25s\n",
      "Serial disconnected\n"
     ]
    },
    {
     "data": {
      "text/plain": [
       "<matplotlib.colorbar.Colorbar at 0x111c5230>"
      ]
     },
     "execution_count": 45,
     "metadata": {},
     "output_type": "execute_result"
    },
    {
     "data": {
      "image/png": "[encoded data removed]",
      "text/plain": [
       "<Figure size 432x288 with 2 Axes>"
      ]
     },
     "metadata": {
      "needs_background": "light"
     },
     "output_type": "display_data"
    }
   ],
   "source": [
    "g = dpe.read(0)\n",
    "plt.imshow(g * 1e6)\n",
    "plt.colorbar()"
   ]
  },
  {
   "cell_type": "code",
   "execution_count": 97,
   "metadata": {},
   "outputs": [
    {
     "name": "stdout",
     "output_type": "stream",
     "text": [
      "5.00-"
     ]
    },
    {
     "data": {
      "image/png": "[encoded data removed]",
      "text/plain": [
       "<Figure size 432x288 with 1 Axes>"
      ]
     },
     "metadata": {
      "needs_background": "light"
     },
     "output_type": "display_data"
    }
   ],
   "source": [
    "ar=0\n",
    "r=55\n",
    "c=2\n",
    "\n",
    "Vreads = np.arange(0, 0.05, 0.001)\n",
    "Vgates = [5]\n",
    "\n",
    "volts_set = []\n",
    "\n",
    "with serial.Serial(dpe.ser_name, 9600, timeout=1) as ser:\n",
    "    dpe.a0.dut.connect(ser)\n",
    "#     dpe.a0.dut.vrefs_defaults()\n",
    "#     dpe.a0.dut.dac_set('DAC_VREF_HI_CMP', 4.0)\n",
    "    for Vgate in Vgates:\n",
    "        print(f'{Vgate:.2f}', end='-')\n",
    "        volts = []\n",
    "        for vread in Vreads:\n",
    "            volts.append( dpe.a0.read_single_int(vread, Vgate, array=ar, row=r, col=c, gain=4) )\n",
    "        volts_set.append(volts)\n",
    "    \n",
    "for volts in volts_set:\n",
    "    plt.plot(Vreads, [i* 1e6 for i in volts], '.-')"
   ]
  },
  {
   "cell_type": "code",
   "execution_count": null,
   "metadata": {},
   "outputs": [],
   "source": [
    "ar=0\n",
    "r=55\n",
    "c=2\n",
    "\n",
    "Tsh_list = np.arange(255)\n",
    "Vgates = [5]\n",
    "Vread = \n",
    "\n",
    "volts_set = []\n",
    "\n",
    "with serial.Serial(dpe.ser_name, 9600, timeout=1) as ser:\n",
    "    dpe.a0.dut.connect(ser)\n",
    "    for Vgate in Vgates:\n",
    "        print(f'{Vgate:.2f}', end='-')\n",
    "        volts = []\n",
    "        for Tsh in Tsh_list:\n",
    "            volts.append( dpe.a0.read_single_int(vread, Vgate, array=ar, row=r, col=c, gain=4, Tsh=Tsh) )\n",
    "        volts_set.append(volts)\n",
    "    \n",
    "for volts in volts_set:\n",
    "    plt.plot(Vreads, [i* 1e6 for i in volts], '.-')"
   ]
  }
 ],
 "metadata": {
  "kernelspec": {
   "display_name": "Python 3",
   "language": "python",
   "name": "python3"
  },
  "language_info": {
   "codemirror_mode": {
    "name": "ipython",
    "version": 3
   },
   "file_extension": ".py",
   "mimetype": "text/x-python",
   "name": "python",
   "nbconvert_exporter": "python",
   "pygments_lexer": "ipython3",
   "version": "3.7.4"
  }
 },
 "nbformat": 4,
 "nbformat_minor": 4
}
