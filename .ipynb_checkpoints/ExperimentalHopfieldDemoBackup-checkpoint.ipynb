{
 "cells": [
  {
   "cell_type": "code",
   "execution_count": 58,
   "metadata": {},
   "outputs": [
    {
     "name": "stdout",
     "output_type": "stream",
     "text": [
      "The autoreload extension is already loaded. To reload it, use:\n",
      "  %reload_ext autoreload\n"
     ]
    }
   ],
   "source": [
    "%load_ext autoreload\n",
    "%autoreload 2\n",
    "from dpe import DPE\n",
    "from lib_data import *\n",
    "import matplotlib.pyplot as plt\n",
    "import numpy as np\n",
    "from lib_nn_dpe import NN_dpe\n",
    "from IPython import display\n",
    "\n",
    "import serial\n",
    "%config InlineBackend.figure_formats = ['svg']\n",
    "\n",
    "import matplotlib\n",
    "matplotlib.rcParams['font.sans-serif'] = \"Arial\""
   ]
  },
  {
   "cell_type": "code",
   "execution_count": 61,
   "metadata": {},
   "outputs": [
    {
     "name": "stdout",
     "output_type": "stream",
     "text": [
      "DAC initialized to a span from -10 V to 10 V\n",
      "Setting vrefs to default\n",
      "Setting ADC_CK freq=50000.0kHz\n",
      "Setting CK_ARRAY freq=50000.0kHz\n"
     ]
    },
    {
     "data": {
      "text/plain": [
       "[64, 64]"
      ]
     },
     "execution_count": 61,
     "metadata": {},
     "output_type": "execute_result"
    }
   ],
   "source": [
    "dpe = DPE('COM10')\n",
    "dpe.set_clock(50)\n",
    "dpe.shape"
   ]
  },
  {
   "cell_type": "code",
   "execution_count": 67,
   "metadata": {},
   "outputs": [
    {
     "name": "stdout",
     "output_type": "stream",
     "text": [
      "...."
     ]
    },
    {
     "data": {
      "text/plain": [
       "<matplotlib.colorbar.Colorbar at 0x5235bb0>"
      ]
     },
     "execution_count": 67,
     "metadata": {},
     "output_type": "execute_result"
    }
   ],
   "source": [
    "g = dpe.read(2,Tdly=1000, method='slow')\n",
    "plt.imshow(g * 1e6)\n",
    "plt.colorbar()"
   ]
  },
  {
   "cell_type": "code",
   "execution_count": 68,
   "metadata": {},
   "outputs": [
    {
     "data": {
      "text/plain": [
       "<matplotlib.colorbar.Colorbar at 0x7b83b30>"
      ]
     },
     "execution_count": 68,
     "metadata": {},
     "output_type": "execute_result"
    }
   ],
   "source": [
    "plt.imshow(g * 1e6, clim=[0,100])\n",
    "plt.colorbar()"
   ]
  },
  {
   "cell_type": "code",
   "execution_count": 7,
   "metadata": {},
   "outputs": [],
   "source": [
    "# NOW TRY TAKING THE DATA ONLY ONE COLUMN AT A TIME TO SEE IF WE GET BETTER ACCURACY\n",
    "from lib_data import *\n",
    "import scipy.io as sio\n",
    "mat_contents = sio.loadmat('Exported60Node_GraphNum0.mat')\n",
    "CMat = mat_contents['A']\n",
    "\n",
    "CMat[0,33] = 0\n",
    "CMat[33,0] = 0\n",
    "CMat[56,6] = 0\n",
    "CMat[6,56] = 0\n",
    "\n",
    "import dut_func as dut\n",
    "import time\n",
    "import struct\n",
    "import matplotlib\n",
    "import matplotlib.pyplot as plt\n",
    "\n",
    "from dpe import DPE\n",
    "from lib_data import *\n",
    "from lib_nn_dpe import NN_dpe\n",
    "from IPython import display\n",
    "\n",
    "arr = 2\n",
    "dpe.N_BIT = 1\n",
    "\n",
    "numTests = 500\n",
    "appliedVector1 = np.zeros((64,numTests))\n",
    "appliedVector2 = np.zeros((64,numTests))\n",
    "randomVector = np.random.randint(2, size=(60,numTests))\n",
    "\n",
    "appliedVector1[0:60,:] = randomVector[:,:]\n",
    "appliedVector2[0:60,:] = 1-randomVector[:,:]\n",
    "neuronVector = appliedVector1[0:60,:] - appliedVector2[0:60,:]\n",
    "\n",
    "output1 = np.zeros((numTests,60))\n",
    "output2 = np.zeros((numTests,60))\n",
    "for c in range(60):\n",
    "    #output1[:,c]  = dpe.multiply_w_delay(arr, appliedVector1, c_sel=[c,c+1], mode=1, debug=False, delay=5).T\n",
    "    output1[:,c]  = dpe.multiply(arr, appliedVector1, c_sel=[c,c+1], mode=1, debug=False, Tdly=500).T\n",
    "    #output2[:,c]  = dpe.multiply_w_delay(arr, appliedVector2, c_sel=[c,c+1], mode=1, debug=False, delay=5).T\n",
    "    output2[:,c]  = dpe.multiply(arr, appliedVector2, c_sel=[c,c+1], mode=1, debug=False, Tdly=500).T\n",
    "all_output = np.concatenate((output1, output2))\n",
    "\n",
    "#SW_output = neuronVector * CMat\n",
    "#SW_neuron = np.matmul(neuronVector, CMat)\n",
    "SW_output1 = (CMat.T @ appliedVector1[0:60,:]).T \n",
    "SW_output2 = (CMat.T @ appliedVector2[0:60,:]).T \n",
    "all_SW_output = np.concatenate((SW_output1, SW_output2))\n",
    "\n",
    "lin_corrs = []\n",
    "for c in range(60):\n",
    "    lin_corrs.append( np.polyfit(all_output[:,c], all_SW_output[:,c], 1))\n",
    "\n",
    "output_corr  = dpe.lin_corr(all_output, lin_corrs)\n",
    "output_corr1 = dpe.lin_corr(output1, lin_corrs)\n",
    "output_corr2 = dpe.lin_corr(output2, lin_corrs)\n",
    "exp_neuron_output = output_corr1 - output_corr2\n",
    "SW_neuron_output = SW_output1 - SW_output2\n",
    "\n",
    "error = output_corr - all_SW_output\n",
    "fig, ax = plt.subplots()\n",
    "for c in range(60):\n",
    "    x = all_SW_output[:,c]\n",
    "    y = output_corr[:,c]    \n",
    "    ax.plot(x,y,'.')\n",
    "zz = np.linspace(0,30,30)  \n",
    "ax.plot(zz,zz,'-')\n",
    "\n",
    "fig, ax = plt.subplots()\n",
    "ax.hist(error.flatten(),bins=60);\n",
    "\n",
    "fig, ax = plt.subplots()\n",
    "for c in range(60):\n",
    "    x = SW_neuron_output[:,c]\n",
    "    y = exp_neuron_output[:,c]    \n",
    "    ax.plot(x,y,'.')   \n",
    "zz = np.linspace(-25,25,50)    \n",
    "ax.plot(zz,zz,'-')  \n",
    "\n",
    "fig, ax = plt.subplots()\n",
    "err_neuron = exp_neuron_output.flatten() - SW_neuron_output.flatten()\n",
    "ax.hist(err_neuron.flatten(),bins=60);"
   ]
  },
  {
   "cell_type": "code",
   "execution_count": 38,
   "metadata": {},
   "outputs": [],
   "source": [
    "# Run a Hopfield network with multiple trials in parallel, and plot the energy  updating in real time\n",
    "\n",
    "import pylab as plt\n",
    "import pickle\n",
    "import numpy as np\n",
    "from time import sleep\n",
    "import matplotlib\n",
    "matplotlib.use('Qt5Agg')\n",
    "from lib_data import *\n",
    "import scipy.io as sio\n",
    "\n",
    "numCycles = 2\n",
    "numTrials = 2\n",
    "startSchmidtVal = -3.5\n",
    "endSchmidtVal   = +0.3\n",
    "\n",
    "mat_contents = sio.loadmat('Exported60Node_GraphNum0.mat')\n",
    "CMat = mat_contents['A']\n",
    "\n",
    "CMat[0,33] = 0\n",
    "CMat[33,0] = 0\n",
    "CMat[56,6] = 0\n",
    "CMat[6,56] = 0\n",
    "\n",
    "arr = 2\n",
    "SchmidtCycleVector = np.linspace(startSchmidtVal, endSchmidtVal, numCycles)\n",
    "threshold = 0\n",
    "noise = 0\n",
    "numCols = 60\n",
    "appliedVector1 = np.zeros((64,numTrials))\n",
    "appliedVector2 = np.zeros((64,numTrials))\n",
    "neuronVectorHistory = np.zeros((60,numTrials, numCycles*numCols+1))\n",
    "neuronVector = np.zeros((60,numTrials))\n",
    "columnUpdateHistory = np.zeros((1,numCycles*numCols+1))\n",
    "energyHistory = np.zeros((numCycles*numCols+1, numTrials))\n",
    "num_updates = numCycles*numCols+1\n",
    "time_vector = np.arange(0, num_updates)\n",
    "color_idx_array = np.linspace(0,1.0,numTrials)\n",
    "\n",
    "# Make the updatable Figure - this code taken from Thomas\n",
    "\n",
    "plt.ion()\n",
    "plt.rcParams['lines.linewidth'] = 2.0 #instead of 1.5\n",
    "color_map = 'jet'#'cool' #try also 'prism', check here: https://matplotlib.org/examples/color/colormaps_reference.html\n",
    "\n",
    "fig = plt.figure(0, figsize= [plt.rcParams[\"figure.figsize\"][0]*2., plt.rcParams[\"figure.figsize\"][1]])\n",
    "ax = fig.add_subplot(121)\n",
    "color_idx_array = np.linspace(0,1.0,numTrials)\n",
    "ax.set_xlabel(\"Time\", fontsize=15)\n",
    "ax.set_ylabel(\"Energy\", fontsize=15)\n",
    "ax.set_xlim([time_vector[0], time_vector[-1]])\n",
    "ax.set_ylim([-180, 150.])\n",
    "\n",
    "trial_index = 0\n",
    "energy_vector = np.NaN * np.zeros((num_updates,numTrials))  # NaNs such that it's not plotted\n",
    "\n",
    "lines = []\n",
    "for tt in np.arange(numTrials):\n",
    "    lobj = ax.plot(time_vector, energy_vector, '-', color=plt.get_cmap(color_map)(color_idx_array[tt]))[0]\n",
    "    lines.append(lobj)\n",
    "        \n",
    "#line1, = ax.plot(time_vector, energy_vector[:,0], '-',\n",
    "#                 color=plt.get_cmap(color_map)(color_idx_array[trial_index]))  # Returns a tuple of line objects --> line1,\n",
    "    \n",
    "thisEnergy = np.zeros(numTrials)\n",
    "for tt in np.arange(numTrials):    \n",
    "    randomVector = np.random.randint(2, size=(60,1))\n",
    "    initVector = randomVector\n",
    "\n",
    "    #for ss in np.arange(numSchmidt):\n",
    "    appliedVector1[0:60,tt] = initVector[:,0]\n",
    "    appliedVector2[0:60,tt] = 1-initVector[:,0]\n",
    "    neuronVector[0:60,tt] = appliedVector1[0:60,tt] - appliedVector2[0:60,tt]\n",
    "    neuronVectorHistory[:,tt,0] = appliedVector1[0:60,tt] - appliedVector2[0:60,tt]\n",
    "    thisEnergy[tt] = 0.5*np.dot(neuronVector[:,tt].T, (CMat @ neuronVector[:,tt])) \n",
    "    energyHistory[0,tt]= thisEnergy[tt]\n",
    "    energy_vector[0,tt] = thisEnergy[tt]\n",
    "\n",
    "for cc in np.arange(numCycles):\n",
    "    #print('Cycle number', cc)\n",
    "    randOrderColumns = np.arange(60)\n",
    "    np.random.shuffle(randOrderColumns)\n",
    "\n",
    "    trackCol=0\n",
    "    for ii in randOrderColumns:\n",
    "        output1  = dpe.multiply_w_delay(arr, appliedVector1, c_sel=[ii, ii+1], mode=1, debug=False, delay=5)\n",
    "        output2  = dpe.multiply_w_delay(arr, appliedVector2, c_sel=[ii, ii+1], mode=1, debug=False, delay=5)\n",
    "        output_corr = noise - dpe.lin_corr(output1, lin_corrs) + dpe.lin_corr(output2, lin_corrs)\n",
    "        for tt in np.arange(numTrials):\n",
    "            threshVector = threshold - SchmidtCycleVector[cc]*neuronVector[ii,tt]\n",
    "            #if (output_corr2[0,ii] >= threshVector[ii,0]):\n",
    "            #if (output_corr >= threshVector[ii,0]):\n",
    "            if (output_corr[tt,0] >= threshVector):\n",
    "                appliedVector1[ii,tt] = 1\n",
    "                appliedVector2[ii,tt] = 0\n",
    "                neuronVector[ii,tt] = 1\n",
    "            else:\n",
    "                appliedVector1[ii,tt] = 0\n",
    "                appliedVector2[ii,tt] = 1\n",
    "                neuronVector[ii,tt] = -1\n",
    "            neuronVectorHistory[:,tt,60*cc+trackCol+1] = neuronVector[:,tt]\n",
    "            thisEnergy[tt] = 0.5*np.dot(neuronVector[:,tt].T, (CMat @ neuronVector[:,tt]))\n",
    "            #thisEnergy = 0.5*np.dot(neuronVector[:,tt], np.dot(CMat, neuronVector[:,tt]))\n",
    "            energyHistory[60*cc+trackCol+1,tt]= thisEnergy[tt]\n",
    "            energy_vector[60*cc+trackCol+1,tt] = thisEnergy[tt]\n",
    "            \n",
    "            #line1.set_ydata(energy_vector[:,0])  # wonder whether we can update one point at a time\n",
    "        for lnum,line in enumerate(lines):            \n",
    "            #line.set_data(xlist[lnum], ylist[lnum]) # set data for each line separately. \n",
    "            line.set_ydata(energy_vector[:,lnum])  # wonder whether we can update one point at a time\n",
    "            fig.canvas.draw()\n",
    "            fig.canvas.flush_events()\n",
    "\n",
    "        columnUpdateHistory[0,60*cc+trackCol+1] = ii                \n",
    "        trackCol = trackCol + 1"
   ]
  },
  {
   "cell_type": "code",
   "execution_count": 28,
   "metadata": {},
   "outputs": [],
   "source": [
    "filename = 'memHNN_LinearCorrections2'\n",
    "with open(filename+'.pkl', 'wb') as f:\n",
    "    dill.dump('lin_corrs', f)"
   ]
  },
  {
   "cell_type": "code",
   "execution_count": 29,
   "metadata": {},
   "outputs": [],
   "source": [
    "fn = \"memHNN_LinearCorrections2.pkl\"\n",
    "with open(fn, \"rb\") as f:\n",
    "    lin_corrs_import = pickle.load(f)"
   ]
  },
  {
   "cell_type": "code",
   "execution_count": 27,
   "metadata": {},
   "outputs": [
    {
     "name": "stdout",
     "output_type": "stream",
     "text": [
      "[array([ 1.23806799e+04, -1.58654561e+00]), array([ 1.30303758e+04, -4.67892126e-01]), array([ 1.26388075e+04, -1.09522374e+00]), array([ 1.15801085e+04, -1.04058721e+00]), array([ 1.41109726e+04, -1.83106152e+00]), array([ 1.20776635e+04, -1.75227528e+00]), array([ 1.25532479e+04, -9.37491863e-01]), array([ 1.18201342e+04, -6.09513894e-01]), array([ 1.33953431e+04, -1.08798271e+00]), array([ 1.35115010e+04, -9.23207854e-01]), array([ 1.29884762e+04, -1.36137982e+00]), array([ 1.31270851e+04, -1.87796743e+00]), array([ 1.30837774e+04, -1.14985678e+00]), array([ 1.27395328e+04, -1.16860424e+00]), array([ 1.34007597e+04, -6.25558622e-01]), array([ 1.24577784e+04, -1.05666444e+00]), array([ 1.20096087e+04, -7.64049528e-01]), array([1.26174666e+04, 1.02492148e-01]), array([ 1.21612968e+04, -1.85749332e-01]), array([ 1.24682896e+04, -8.83202080e-02]), array([ 1.22725766e+04, -4.55815052e-01]), array([ 1.27546457e+04, -1.59788714e-01]), array([ 1.36426339e+04, -1.00563998e+00]), array([ 1.29226396e+04, -5.86616107e-01]), array([ 1.25149506e+04, -3.99763885e-01]), array([ 1.20062423e+04, -1.50758181e-02]), array([ 1.33929463e+04, -8.83212732e-01]), array([ 1.26776345e+04, -1.89278686e+00]), array([ 1.39108347e+04, -1.41376099e+00]), array([ 1.37551396e+04, -8.35250143e-01]), array([ 1.51940222e+04, -2.17015363e+00]), array([ 1.36797278e+04, -8.26068946e-01]), array([ 1.36190843e+04, -2.65638938e+00]), array([ 1.27648115e+04, -1.78968016e+00]), array([ 1.24279469e+04, -1.11304723e-01]), array([ 1.20532875e+04, -1.64846103e+00]), array([ 1.32735825e+04, -2.08687562e+00]), array([ 1.43027013e+04, -1.63518986e+00]), array([ 1.25730306e+04, -1.89696934e+00]), array([ 1.28086824e+04, -2.69188335e-01]), array([1.16995015e+04, 2.37847156e-01]), array([1.14774652e+04, 5.38414580e-01]), array([ 1.29290272e+04, -6.12510785e-01]), array([ 1.21828544e+04, -1.24812363e+00]), array([ 1.19690846e+04, -8.67933897e-01]), array([ 1.14778247e+04, -2.78161450e-01]), array([ 1.16145367e+04, -4.16567673e-01]), array([ 1.16354112e+04, -1.04619863e+00]), array([ 1.36276249e+04, -1.34313162e+00]), array([ 1.24201213e+04, -1.13255201e+00]), array([ 1.40416611e+04, -7.46043502e-01]), array([ 1.19591931e+04, -6.99898679e-01]), array([ 1.31119928e+04, -1.52028191e+00]), array([1.21408689e+04, 4.33708590e-01]), array([ 1.26528015e+04, -1.64894503e+00]), array([ 1.17634577e+04, -9.02914026e-01]), array([ 1.39598571e+04, -1.88735461e+00]), array([ 1.31902692e+04, -3.07624470e-01]), array([ 1.20271119e+04, -7.34436777e-01]), array([ 1.21601928e+04, -7.38374315e-01])]\n"
     ]
    }
   ],
   "source": [
    "print(lin_corrs)"
   ]
  },
  {
   "cell_type": "code",
   "execution_count": 35,
   "metadata": {},
   "outputs": [
    {
     "name": "stdout",
     "output_type": "stream",
     "text": [
      "[array([ 1.23806799e+04, -1.58654561e+00]), array([ 1.30303758e+04, -4.67892126e-01]), array([ 1.26388075e+04, -1.09522374e+00]), array([ 1.15801085e+04, -1.04058721e+00]), array([ 1.41109726e+04, -1.83106152e+00]), array([ 1.20776635e+04, -1.75227528e+00]), array([ 1.25532479e+04, -9.37491863e-01]), array([ 1.18201342e+04, -6.09513894e-01]), array([ 1.33953431e+04, -1.08798271e+00]), array([ 1.35115010e+04, -9.23207854e-01]), array([ 1.29884762e+04, -1.36137982e+00]), array([ 1.31270851e+04, -1.87796743e+00]), array([ 1.30837774e+04, -1.14985678e+00]), array([ 1.27395328e+04, -1.16860424e+00]), array([ 1.34007597e+04, -6.25558622e-01]), array([ 1.24577784e+04, -1.05666444e+00]), array([ 1.20096087e+04, -7.64049528e-01]), array([1.26174666e+04, 1.02492148e-01]), array([ 1.21612968e+04, -1.85749332e-01]), array([ 1.24682896e+04, -8.83202080e-02]), array([ 1.22725766e+04, -4.55815052e-01]), array([ 1.27546457e+04, -1.59788714e-01]), array([ 1.36426339e+04, -1.00563998e+00]), array([ 1.29226396e+04, -5.86616107e-01]), array([ 1.25149506e+04, -3.99763885e-01]), array([ 1.20062423e+04, -1.50758181e-02]), array([ 1.33929463e+04, -8.83212732e-01]), array([ 1.26776345e+04, -1.89278686e+00]), array([ 1.39108347e+04, -1.41376099e+00]), array([ 1.37551396e+04, -8.35250143e-01]), array([ 1.51940222e+04, -2.17015363e+00]), array([ 1.36797278e+04, -8.26068946e-01]), array([ 1.36190843e+04, -2.65638938e+00]), array([ 1.27648115e+04, -1.78968016e+00]), array([ 1.24279469e+04, -1.11304723e-01]), array([ 1.20532875e+04, -1.64846103e+00]), array([ 1.32735825e+04, -2.08687562e+00]), array([ 1.43027013e+04, -1.63518986e+00]), array([ 1.25730306e+04, -1.89696934e+00]), array([ 1.28086824e+04, -2.69188335e-01]), array([1.16995015e+04, 2.37847156e-01]), array([1.14774652e+04, 5.38414580e-01]), array([ 1.29290272e+04, -6.12510785e-01]), array([ 1.21828544e+04, -1.24812363e+00]), array([ 1.19690846e+04, -8.67933897e-01]), array([ 1.14778247e+04, -2.78161450e-01]), array([ 1.16145367e+04, -4.16567673e-01]), array([ 1.16354112e+04, -1.04619863e+00]), array([ 1.36276249e+04, -1.34313162e+00]), array([ 1.24201213e+04, -1.13255201e+00]), array([ 1.40416611e+04, -7.46043502e-01]), array([ 1.19591931e+04, -6.99898679e-01]), array([ 1.31119928e+04, -1.52028191e+00]), array([1.21408689e+04, 4.33708590e-01]), array([ 1.26528015e+04, -1.64894503e+00]), array([ 1.17634577e+04, -9.02914026e-01]), array([ 1.39598571e+04, -1.88735461e+00]), array([ 1.31902692e+04, -3.07624470e-01]), array([ 1.20271119e+04, -7.34436777e-01]), array([ 1.21601928e+04, -7.38374315e-01])]\n"
     ]
    }
   ],
   "source": [
    "print(lin_corrs_check)"
   ]
  },
  {
   "cell_type": "code",
   "execution_count": 33,
   "metadata": {},
   "outputs": [
    {
     "name": "stdout",
     "output_type": "stream",
     "text": [
      "Saving lin_corrs(<class 'list'>), to 20200130-120058-memHNN_LinearCorrections.pkl\n",
      "Saving lin_corrs(<class 'list'>), to 20200130-120058-memHNN_LinearCorrections.mat\n"
     ]
    }
   ],
   "source": [
    "save_workspace({'lin_corrs': lin_corrs}, note='memHNN_LinearCorrections')"
   ]
  },
  {
   "cell_type": "code",
   "execution_count": 37,
   "metadata": {},
   "outputs": [
    {
     "name": "stdout",
     "output_type": "stream",
     "text": [
      "(3, 60)\n"
     ]
    }
   ],
   "source": [
    "numTrials = 3\n",
    "for tt in np.arange(numTrials):    \n",
    "    randomVector = np.random.randint(2, size=(60,1))\n",
    "    initVector = randomVector\n",
    "    appliedVector1[0:60,tt] = initVector[:,0]\n",
    "output1 = dpe.multiply_w_delay(arr, appliedVector1, c_sel=[0,60], mode=1, debug=False, delay=5)\n",
    "print(np.shape(output1))"
   ]
  },
  {
   "cell_type": "code",
   "execution_count": 55,
   "metadata": {},
   "outputs": [],
   "source": [
    "# Run a Hopfield network with multiple trials in parallel, and plot the energy  updating in real time\n",
    "\n",
    "import pylab as plt\n",
    "import pickle\n",
    "import numpy as np\n",
    "from time import sleep\n",
    "import matplotlib\n",
    "matplotlib.use('Qt5Agg')\n",
    "from lib_data import *\n",
    "import scipy.io as sio\n",
    "\n",
    "numCycles = 2\n",
    "numTrials = 2\n",
    "startSchmidtVal = -3.5\n",
    "endSchmidtVal   = +0.3\n",
    "\n",
    "mat_contents = sio.loadmat('Exported60Node_GraphNum0.mat')\n",
    "CMat = mat_contents['A']\n",
    "\n",
    "CMat[0,33] = 0\n",
    "CMat[33,0] = 0\n",
    "CMat[56,6] = 0\n",
    "CMat[6,56] = 0\n",
    "\n",
    "arr = 2\n",
    "sizeBatch = 10\n",
    "numBatches = 60/sizeBatch\n",
    "SchmidtCycleVector = np.linspace(startSchmidtVal, endSchmidtVal, numCycles)\n",
    "threshold = 0\n",
    "noise = 0\n",
    "numCols = 60\n",
    "appliedVector1 = np.zeros((64,numTrials))\n",
    "appliedVector2 = np.zeros((64,numTrials))\n",
    "neuronVectorHistory = np.zeros((60,numTrials, numCycles*numCols+1))\n",
    "neuronVector = np.zeros((60,numTrials))\n",
    "columnUpdateHistory = np.zeros((1,numCycles*numCols+1))\n",
    "energyHistory = np.zeros((numCycles*numCols+1, numTrials))\n",
    "num_updates = numCycles*numCols+1\n",
    "time_vector = np.arange(0, num_updates)\n",
    "color_idx_array = np.linspace(0,1.0,numTrials)\n",
    "\n",
    "# Make the updatable Figure - this code taken from Thomas\n",
    "\n",
    "plt.ion()\n",
    "plt.rcParams['lines.linewidth'] = 2.0 #instead of 1.5\n",
    "color_map = 'jet'#'cool' #try also 'prism', check here: https://matplotlib.org/examples/color/colormaps_reference.html\n",
    "\n",
    "fig = plt.figure(0, figsize= [plt.rcParams[\"figure.figsize\"][0]*2., plt.rcParams[\"figure.figsize\"][1]])\n",
    "ax = fig.add_subplot(121)\n",
    "color_idx_array = np.linspace(0,1.0,numTrials)\n",
    "ax.set_xlabel(\"Time\", fontsize=15)\n",
    "ax.set_ylabel(\"Energy\", fontsize=15)\n",
    "ax.set_xlim([time_vector[0], time_vector[-1]])\n",
    "ax.set_ylim([-180, 150.])\n",
    "\n",
    "trial_index = 0\n",
    "energy_vector = np.NaN * np.zeros((num_updates,numTrials))  # NaNs such that it's not plotted\n",
    "\n",
    "lines = []\n",
    "for tt in np.arange(numTrials):\n",
    "    lobj = ax.plot(time_vector, energy_vector, '-', color=plt.get_cmap(color_map)(color_idx_array[tt]))[0]\n",
    "    lines.append(lobj)\n",
    "        \n",
    "#line1, = ax.plot(time_vector, energy_vector[:,0], '-',\n",
    "#                 color=plt.get_cmap(color_map)(color_idx_array[trial_index]))  # Returns a tuple of line objects --> line1,\n",
    "    \n",
    "thisEnergy = np.zeros(numTrials)\n",
    "for tt in np.arange(numTrials):    \n",
    "    randomVector = np.random.randint(2, size=(60,1))\n",
    "    initVector = randomVector\n",
    "\n",
    "    #for ss in np.arange(numSchmidt):\n",
    "    appliedVector1[0:60,tt] = initVector[:,0]\n",
    "    appliedVector2[0:60,tt] = 1-initVector[:,0]\n",
    "    neuronVector[0:60,tt] = appliedVector1[0:60,tt] - appliedVector2[0:60,tt]\n",
    "    neuronVectorHistory[:,tt,0] = appliedVector1[0:60,tt] - appliedVector2[0:60,tt]\n",
    "    thisEnergy[tt] = 0.5*np.dot(neuronVector[:,tt].T, (CMat @ neuronVector[:,tt])) \n",
    "    energyHistory[0,tt]= thisEnergy[tt]\n",
    "    energy_vector[0,tt] = thisEnergy[tt]\n",
    "\n",
    "for cc in np.arange(numCycles):\n",
    "        # print('Cycle number', cc)\n",
    "        \n",
    "        randOrderColumnBatches = np.arange(numBatches).astype(int)\n",
    "        np.random.shuffle(randOrderColumnBatches)\n",
    "\n",
    "        trackColBatch = 0\n",
    "        for ii in randOrderColumnBatches:\n",
    "            colStart = np.around(ii*sizeBatch).astype(int)\n",
    "            colEnd = np.around((ii+1)*sizeBatch).astype(int)\n",
    "            output1 = dpe.multiply_w_delay(arr, appliedVector1, c_sel=[colStart, colEnd], mode=1, debug=False, delay=5)\n",
    "            output2 = dpe.multiply_w_delay(arr, appliedVector2, c_sel=[colStart, colEnd], mode=1, debug=False, delay=5)\n",
    "            output_corr = noise - dpe.lin_corr(output1, lin_corrs) + dpe.lin_corr(output2, lin_corrs)\n",
    "            for tt in np.arange(numTrials):\n",
    "                threshVector = threshold - SchmidtCycleVector[cc] * neuronVector[colStart:colEnd, tt]\n",
    "                # if (output_corr2[0,ii] >= threshVector[ii,0]):\n",
    "                # if (output_corr >= threshVector[ii,0]):\n",
    "                for columnIndex in np.arange(sizeBatch):\n",
    "                    actualColumn = colStart + columnIndex\n",
    "                    if (output_corr[tt, columnIndex] >= threshVector[columnIndex]):\n",
    "                        appliedVector1[actualColumn, tt] = 1\n",
    "                        appliedVector2[actualColumn, tt] = 0\n",
    "                        neuronVector[actualColumn, tt] = 1\n",
    "                    else:\n",
    "                        appliedVector1[actualColumn, tt] = 0\n",
    "                        appliedVector2[actualColumn, tt] = 1\n",
    "                        neuronVector[actualColumn, tt] = -1\n",
    "                    #neuronVectorHistory[:, tt, 60 * cc + trackCol + 1] = neuronVector[:, tt]\n",
    "                    thisEnergy[tt] = 0.5 * np.dot(neuronVector[:, tt].T, (CMat @ neuronVector[:, tt]))\n",
    "                    # thisEnergy = 0.5*np.dot(neuronVector[:,tt], np.dot(CMat, neuronVector[:,tt]))\n",
    "                    #energyHistory[60 * cc + trackCol + 1, tt] = thisEnergy[tt]\n",
    "                    energy_vector[60 * cc + trackColBatch*sizeBatch + columnIndex + 1, tt] = thisEnergy[tt]\n",
    "                    columnUpdateHistory[0, 60 * cc + trackColBatch*sizeBatch + columnIndex + 1] = actualColumn\n",
    "\n",
    "                    # line1.set_ydata(energy_vector[:,0])  # wonder whether we can update one point at a time\n",
    "            for lnum, line in enumerate(lines):\n",
    "                # line.set_data(xlist[lnum], ylist[lnum]) # set data for each line separately.\n",
    "                line.set_ydata(energy_vector[:, lnum])  # wonder whether we can update one point at a time\n",
    "            fig.canvas.draw()\n",
    "            fig.canvas.flush_events()\n",
    "            \n",
    "            trackColBatch = trackColBatch + 1"
   ]
  },
  {
   "cell_type": "code",
   "execution_count": 48,
   "metadata": {},
   "outputs": [
    {
     "name": "stdout",
     "output_type": "stream",
     "text": [
      "(64, 2)\n",
      "4.0\n",
      "10\n",
      "[4. 0. 1. 2. 5. 3.]\n",
      "40.0\n"
     ]
    }
   ],
   "source": [
    "print(np.shape(appliedVector1))\n",
    "print(ii)\n",
    "print(sizeBatch)\n",
    "print(randOrderColumnBatches)\n",
    "print(ii*sizeBatch)"
   ]
  },
  {
   "cell_type": "code",
   "execution_count": 50,
   "metadata": {},
   "outputs": [],
   "source": [
    "output1 = dpe.multiply_w_delay(arr, appliedVector1, c_sel=[np.around(ii*sizeBatch).astype(int), np.around((ii+1)*sizeBatch).astype(int)], mode=1, debug=False, delay=5)\n",
    "#output1 = dpe.multiply_w_delay(arr, appliedVector1, c_sel=[40,50], mode=1, debug=False, delay=5)"
   ]
  }
 ],
 "metadata": {
  "kernelspec": {
   "display_name": "Python 3",
   "language": "python",
   "name": "python3"
  },
  "language_info": {
   "codemirror_mode": {
    "name": "ipython",
    "version": 3
   },
   "file_extension": ".py",
   "mimetype": "text/x-python",
   "name": "python",
   "nbconvert_exporter": "python",
   "pygments_lexer": "ipython3",
   "version": "3.7.4"
  }
 },
 "nbformat": 4,
 "nbformat_minor": 4
}
