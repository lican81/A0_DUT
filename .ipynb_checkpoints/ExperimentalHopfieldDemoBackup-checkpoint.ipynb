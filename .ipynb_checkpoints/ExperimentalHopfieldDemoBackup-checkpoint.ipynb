{
 "cells": [
  {
   "cell_type": "code",
   "execution_count": 58,
   "metadata": {},
   "outputs": [
    {
     "name": "stdout",
     "output_type": "stream",
     "text": [
      "The autoreload extension is already loaded. To reload it, use:\n",
      "  %reload_ext autoreload\n"
     ]
    }
   ],
   "source": [
    "%load_ext autoreload\n",
    "%autoreload 2\n",
    "from dpe import DPE\n",
    "from lib_data import *\n",
    "import matplotlib.pyplot as plt\n",
    "import numpy as np\n",
    "from lib_nn_dpe import NN_dpe\n",
    "from IPython import display\n",
    "\n",
    "import serial\n",
    "%config InlineBackend.figure_formats = ['svg']\n",
    "\n",
    "import matplotlib\n",
    "matplotlib.rcParams['font.sans-serif'] = \"Arial\""
   ]
  },
  {
   "cell_type": "code",
   "execution_count": 61,
   "metadata": {},
   "outputs": [
    {
     "name": "stdout",
     "output_type": "stream",
     "text": [
      "DAC initialized to a span from -10 V to 10 V\n",
      "Setting vrefs to default\n",
      "Setting ADC_CK freq=50000.0kHz\n",
      "Setting CK_ARRAY freq=50000.0kHz\n"
     ]
    },
    {
     "data": {
      "text/plain": [
       "[64, 64]"
      ]
     },
     "execution_count": 61,
     "metadata": {},
     "output_type": "execute_result"
    }
   ],
   "source": [
    "dpe = DPE('COM10')\n",
    "dpe.set_clock(50)\n",
    "dpe.shape"
   ]
  },
  {
   "cell_type": "code",
   "execution_count": 67,
   "metadata": {},
   "outputs": [
    {
     "name": "stdout",
     "output_type": "stream",
     "text": [
      "...."
     ]
    },
    {
     "data": {
      "text/plain": [
       "<matplotlib.colorbar.Colorbar at 0x5235bb0>"
      ]
     },
     "execution_count": 67,
     "metadata": {},
     "output_type": "execute_result"
    }
   ],
   "source": [
    "g = dpe.read(2,Tdly=1000, method='slow')\n",
    "plt.imshow(g * 1e6)\n",
    "plt.colorbar()"
   ]
  },
  {
   "cell_type": "code",
   "execution_count": 68,
   "metadata": {},
   "outputs": [
    {
     "data": {
      "text/plain": [
       "<matplotlib.colorbar.Colorbar at 0x7b83b30>"
      ]
     },
     "execution_count": 68,
     "metadata": {},
     "output_type": "execute_result"
    }
   ],
   "source": [
    "plt.imshow(g * 1e6, clim=[0,100])\n",
    "plt.colorbar()"
   ]
  },
  {
   "cell_type": "code",
   "execution_count": 70,
   "metadata": {},
   "outputs": [],
   "source": [
    "# NOW TRY TAKING THE DATA ONLY ONE COLUMN AT A TIME TO SEE IF WE GET BETTER ACCURACY\n",
    "from lib_data import *\n",
    "import scipy.io as sio\n",
    "mat_contents = sio.loadmat('Exported60Node_GraphNum0.mat')\n",
    "CMat = mat_contents['A']\n",
    "\n",
    "CMat[0,33] = 0\n",
    "CMat[33,0] = 0\n",
    "#CMat[56,6] = 0\n",
    "#CMat[6,56] = 0\n",
    "\n",
    "import dut_func as dut\n",
    "import time\n",
    "import struct\n",
    "import matplotlib\n",
    "import matplotlib.pyplot as plt\n",
    "\n",
    "from dpe import DPE\n",
    "from lib_data import *\n",
    "from lib_nn_dpe import NN_dpe\n",
    "from IPython import display\n",
    "\n",
    "arr = 2\n",
    "dpe.N_BIT = 1\n",
    "\n",
    "numTests = 500\n",
    "appliedVector1 = np.zeros((64,numTests))\n",
    "appliedVector2 = np.zeros((64,numTests))\n",
    "randomVector = np.random.randint(2, size=(60,numTests))\n",
    "\n",
    "appliedVector1[0:60,:] = randomVector[:,:]\n",
    "appliedVector2[0:60,:] = 1-randomVector[:,:]\n",
    "neuronVector = appliedVector1[0:60,:] - appliedVector2[0:60,:]\n",
    "\n",
    "output1 = np.zeros((numTests,60))\n",
    "output2 = np.zeros((numTests,60))\n",
    "for c in range(60):\n",
    "    #output1[:,c]  = dpe.multiply_w_delay(arr, appliedVector1, c_sel=[c,c+1], mode=1, debug=False, delay=5).T\n",
    "    output1[:,c]  = dpe.multiply(arr, appliedVector1, c_sel=[c,c+1], mode=1, debug=False, Tdly=500).T\n",
    "    #output2[:,c]  = dpe.multiply_w_delay(arr, appliedVector2, c_sel=[c,c+1], mode=1, debug=False, delay=5).T\n",
    "    output2[:,c]  = dpe.multiply(arr, appliedVector2, c_sel=[c,c+1], mode=1, debug=False, Tdly=500).T\n",
    "all_output = np.concatenate((output1, output2))\n",
    "\n",
    "#SW_output = neuronVector * CMat\n",
    "#SW_neuron = np.matmul(neuronVector, CMat)\n",
    "SW_output1 = (CMat.T @ appliedVector1[0:60,:]).T \n",
    "SW_output2 = (CMat.T @ appliedVector2[0:60,:]).T \n",
    "all_SW_output = np.concatenate((SW_output1, SW_output2))\n",
    "\n",
    "lin_corrs = []\n",
    "for c in range(60):\n",
    "    lin_corrs.append( np.polyfit(all_output[:,c], all_SW_output[:,c], 1))\n",
    "\n",
    "output_corr  = dpe.lin_corr(all_output, lin_corrs)\n",
    "output_corr1 = dpe.lin_corr(output1, lin_corrs)\n",
    "output_corr2 = dpe.lin_corr(output2, lin_corrs)\n",
    "exp_neuron_output = output_corr1 - output_corr2\n",
    "SW_neuron_output = SW_output1 - SW_output2\n",
    "\n",
    "error = output_corr - all_SW_output\n",
    "fig, ax = plt.subplots()\n",
    "for c in range(60):\n",
    "    x = all_SW_output[:,c]\n",
    "    y = output_corr[:,c]    \n",
    "    ax.plot(x,y,'.')\n",
    "zz = np.linspace(0,30,30)  \n",
    "ax.plot(zz,zz,'-')\n",
    "\n",
    "fig, ax = plt.subplots()\n",
    "ax.hist(error.flatten(),bins=60);\n",
    "\n",
    "fig, ax = plt.subplots()\n",
    "for c in range(60):\n",
    "    x = SW_neuron_output[:,c]\n",
    "    y = exp_neuron_output[:,c]    \n",
    "    ax.plot(x,y,'.')   \n",
    "zz = np.linspace(-25,25,50)    \n",
    "ax.plot(zz,zz,'-')  \n",
    "\n",
    "fig, ax = plt.subplots()\n",
    "err_neuron = exp_neuron_output.flatten() - SW_neuron_output.flatten()\n",
    "ax.hist(err_neuron.flatten(),bins=60);"
   ]
  },
  {
   "cell_type": "code",
   "execution_count": 71,
   "metadata": {},
   "outputs": [
    {
     "name": "stdout",
     "output_type": "stream",
     "text": [
      "Saving lin_corrs(<class 'list'>), to 20200131-115824-memHNN_LinearCorrectionsChip42_Prober2System.pkl\n",
      "Saving lin_corrs(<class 'list'>), to 20200131-115824-memHNN_LinearCorrectionsChip42_Prober2System.mat\n"
     ]
    }
   ],
   "source": [
    "save_workspace({'lin_corrs': lin_corrs}, note='memHNN_LinearCorrectionsChip42_Prober2System')"
   ]
  },
  {
   "cell_type": "code",
   "execution_count": 74,
   "metadata": {},
   "outputs": [],
   "source": [
    "# Find the Linear Correction factors for 10 columns at a time mode\n",
    "from lib_data import *\n",
    "import scipy.io as sio\n",
    "mat_contents = sio.loadmat('Exported60Node_GraphNum0.mat')\n",
    "CMat = mat_contents['A']\n",
    "\n",
    "CMat[0,33] = 0\n",
    "CMat[33,0] = 0\n",
    "#CMat[56,6] = 0\n",
    "#CMat[6,56] = 0\n",
    "\n",
    "import dut_func as dut\n",
    "import time\n",
    "import struct\n",
    "import matplotlib\n",
    "import matplotlib.pyplot as plt\n",
    "\n",
    "from dpe import DPE\n",
    "from lib_data import *\n",
    "from lib_nn_dpe import NN_dpe\n",
    "from IPython import display\n",
    "\n",
    "arr = 2\n",
    "dpe.N_BIT = 1\n",
    "\n",
    "numTests = 500\n",
    "appliedVector1 = np.zeros((64,numTests))\n",
    "appliedVector2 = np.zeros((64,numTests))\n",
    "randomVector = np.random.randint(2, size=(60,numTests))\n",
    "\n",
    "appliedVector1[0:60,:] = randomVector[:,:]\n",
    "appliedVector2[0:60,:] = 1-randomVector[:,:]\n",
    "neuronVector = appliedVector1[0:60,:] - appliedVector2[0:60,:]\n",
    "\n",
    "output1 = np.zeros((numTests,60))\n",
    "output2 = np.zeros((numTests,60))\n",
    "\n",
    "#for c in range(60):\n",
    "#    output1[:,c]  = dpe.multiply(arr, appliedVector1, c_sel=[c,c+1], mode=1, debug=False, Tdly=500).T\n",
    "#    output2[:,c]  = dpe.multiply(arr, appliedVector2, c_sel=[c,c+1], mode=1, debug=False, Tdly=500).T\n",
    "#all_output = np.concatenate((output1, output2))\n",
    "\n",
    "#### Modified version with batching of 10\n",
    "sizeBatch = 10\n",
    "numBatches = 6\n",
    "for ii in range(numBatches):\n",
    "            colStart = np.around(ii*sizeBatch).astype(int)\n",
    "            colEnd = np.around((ii+1)*sizeBatch).astype(int)\n",
    "            output1[:,colStart:colEnd] = dpe.multiply(arr, appliedVector1, c_sel=[colStart, colEnd], mode=1, debug=False, Tdly=500)\n",
    "            output2[:,colStart:colEnd] = dpe.multiply(arr, appliedVector2, c_sel=[colStart, colEnd], mode=1, debug=False, Tdly=500)\n",
    "all_output = np.concatenate((output1, output2))            \n",
    "           \n",
    "\n",
    "SW_output1 = (CMat.T @ appliedVector1[0:60,:]).T \n",
    "SW_output2 = (CMat.T @ appliedVector2[0:60,:]).T \n",
    "all_SW_output = np.concatenate((SW_output1, SW_output2))\n",
    "\n",
    "lin_corrs10AtATime = []\n",
    "for c in range(60):\n",
    "    lin_corrs10AtATime.append( np.polyfit(all_output[:,c], all_SW_output[:,c], 1))\n",
    "\n",
    "output_corr  = dpe.lin_corr(all_output, lin_corrs10AtATime)\n",
    "output_corr1 = dpe.lin_corr(output1, lin_corrs10AtATime)\n",
    "output_corr2 = dpe.lin_corr(output2, lin_corrs10AtATime)\n",
    "exp_neuron_output = output_corr1 - output_corr2\n",
    "SW_neuron_output = SW_output1 - SW_output2\n",
    "\n",
    "error = output_corr - all_SW_output\n",
    "fig, ax = plt.subplots()\n",
    "for c in range(60):\n",
    "    x = all_SW_output[:,c]\n",
    "    y = output_corr[:,c]    \n",
    "    ax.plot(x,y,'.')\n",
    "zz = np.linspace(0,30,30)  \n",
    "ax.plot(zz,zz,'-')\n",
    "\n",
    "fig, ax = plt.subplots()\n",
    "ax.hist(error.flatten(),bins=60);\n",
    "\n",
    "fig, ax = plt.subplots()\n",
    "for c in range(60):\n",
    "    x = SW_neuron_output[:,c]\n",
    "    y = exp_neuron_output[:,c]    \n",
    "    ax.plot(x,y,'.')   \n",
    "zz = np.linspace(-25,25,50)    \n",
    "ax.plot(zz,zz,'-')  \n",
    "\n",
    "fig, ax = plt.subplots()\n",
    "err_neuron = exp_neuron_output.flatten() - SW_neuron_output.flatten()\n",
    "ax.hist(err_neuron.flatten(),bins=60);"
   ]
  },
  {
   "cell_type": "code",
   "execution_count": 75,
   "metadata": {},
   "outputs": [
    {
     "name": "stdout",
     "output_type": "stream",
     "text": [
      "Saving lin_corrs10AtATime(<class 'list'>), to 20200131-125613-memHNN_LinearCorrections10AtATimeChip42_Prober2System.pkl\n",
      "Saving lin_corrs10AtATime(<class 'list'>), to 20200131-125613-memHNN_LinearCorrections10AtATimeChip42_Prober2System.mat\n"
     ]
    }
   ],
   "source": [
    "save_workspace({'lin_corrs10AtATime': lin_corrs10AtATime}, note='memHNN_LinearCorrections10AtATimeChip42_Prober2System')"
   ]
  },
  {
   "cell_type": "code",
   "execution_count": 88,
   "metadata": {},
   "outputs": [
    {
     "name": "stdout",
     "output_type": "stream",
     "text": [
      "(500, 60)\n",
      "(60, 2)\n",
      "(5, 2)\n"
     ]
    }
   ],
   "source": [
    "print(np.shape(output1))\n",
    "print(np.shape(lin_corrs10AtATime))\n",
    "aa = lin_corrs10AtATime[0:5]\n",
    "print(np.shape(aa))"
   ]
  },
  {
   "cell_type": "code",
   "execution_count": 90,
   "metadata": {},
   "outputs": [
    {
     "name": "stdout",
     "output_type": "stream",
     "text": [
      "Trial number 0\n",
      "Trial number 1\n",
      "Saving In(<class 'list'>), Out(<class 'dict'>), g(<class 'numpy.ndarray'>), numCycles(<class 'int'>), numTrials(<class 'int'>), startSchmidtVal(<class 'float'>), endSchmidtVal(<class 'float'>), mat_contents(<class 'dict'>), CMat(<class 'numpy.ndarray'>), arr(<class 'int'>), SchmidtCycleVector(<class 'numpy.ndarray'>), threshold(<class 'int'>), noise(<class 'int'>), numCols(<class 'int'>), appliedVector1(<class 'numpy.ndarray'>), appliedVector2(<class 'numpy.ndarray'>), neuronVectorHistory(<class 'numpy.ndarray'>), neuronVector(<class 'numpy.ndarray'>), columnUpdateHistory(<class 'numpy.ndarray'>), energyHistory(<class 'numpy.ndarray'>), num_updates(<class 'int'>), time_vector(<class 'numpy.ndarray'>), color_idx_array(<class 'numpy.ndarray'>), color_map(<class 'str'>), trial_index(<class 'int'>), energy_vector(<class 'numpy.ndarray'>), lines(<class 'list'>), thisEnergy(<class 'numpy.float64'>), randomVector(<class 'numpy.ndarray'>), initVector(<class 'numpy.ndarray'>), randOrderColumns(<class 'numpy.ndarray'>), trackCol(<class 'int'>), output1(<class 'numpy.ndarray'>), output2(<class 'numpy.ndarray'>), numTests(<class 'int'>), c(<class 'int'>), all_output(<class 'numpy.ndarray'>), SW_output1(<class 'numpy.ndarray'>), SW_output2(<class 'numpy.ndarray'>), all_SW_output(<class 'numpy.ndarray'>), lin_corrs(<class 'list'>), output_corr(<class 'numpy.ndarray'>), output_corr1(<class 'numpy.ndarray'>), output_corr2(<class 'numpy.ndarray'>), exp_neuron_output(<class 'numpy.ndarray'>), SW_neuron_output(<class 'numpy.ndarray'>), error(<class 'numpy.ndarray'>), x(<class 'numpy.ndarray'>), y(<class 'numpy.ndarray'>), zz(<class 'numpy.ndarray'>), err_neuron(<class 'numpy.ndarray'>), threshVector(<class 'numpy.ndarray'>), lnum(<class 'int'>), filename(<class 'str'>), fn(<class 'str'>), data(<class 'dict'>), lin_corrs_import(<class 'str'>), lin_corrs_check(<class 'list'>), sizeBatch(<class 'int'>), numBatches(<class 'int'>), randOrderColumnBatches(<class 'numpy.ndarray'>), trackColBatch(<class 'int'>), lin_corrs10AtATime(<class 'list'>), aa(<class 'list'>), startSchmidtVals(<class 'list'>), endSchmidtVals(<class 'list'>), numSchmidt(<class 'int'>), to 20200201-223701-Prober1_HNN_DemoBackup_10cyc_2trials_ExploreSchmitt.pkl\n",
      "Saving In(<class 'list'>), g(<class 'numpy.ndarray'>), numCycles(<class 'int'>), numTrials(<class 'int'>), startSchmidtVal(<class 'float'>), endSchmidtVal(<class 'float'>), CMat(<class 'numpy.ndarray'>), arr(<class 'int'>), SchmidtCycleVector(<class 'numpy.ndarray'>), threshold(<class 'int'>), noise(<class 'int'>), numCols(<class 'int'>), appliedVector1(<class 'numpy.ndarray'>), appliedVector2(<class 'numpy.ndarray'>), neuronVectorHistory(<class 'numpy.ndarray'>), neuronVector(<class 'numpy.ndarray'>), columnUpdateHistory(<class 'numpy.ndarray'>), energyHistory(<class 'numpy.ndarray'>), num_updates(<class 'int'>), time_vector(<class 'numpy.ndarray'>), color_idx_array(<class 'numpy.ndarray'>), color_map(<class 'str'>), trial_index(<class 'int'>), energy_vector(<class 'numpy.ndarray'>), lines(<class 'list'>), thisEnergy(<class 'numpy.float64'>), randomVector(<class 'numpy.ndarray'>), initVector(<class 'numpy.ndarray'>), randOrderColumns(<class 'numpy.ndarray'>), trackCol(<class 'int'>), output1(<class 'numpy.ndarray'>), output2(<class 'numpy.ndarray'>), numTests(<class 'int'>), c(<class 'int'>), all_output(<class 'numpy.ndarray'>), SW_output1(<class 'numpy.ndarray'>), SW_output2(<class 'numpy.ndarray'>), all_SW_output(<class 'numpy.ndarray'>), lin_corrs(<class 'list'>), output_corr(<class 'numpy.ndarray'>), output_corr1(<class 'numpy.ndarray'>), output_corr2(<class 'numpy.ndarray'>), exp_neuron_output(<class 'numpy.ndarray'>), SW_neuron_output(<class 'numpy.ndarray'>), error(<class 'numpy.ndarray'>), x(<class 'numpy.ndarray'>), y(<class 'numpy.ndarray'>), zz(<class 'numpy.ndarray'>), err_neuron(<class 'numpy.ndarray'>), threshVector(<class 'numpy.ndarray'>), lnum(<class 'int'>), filename(<class 'str'>), fn(<class 'str'>), lin_corrs_import(<class 'str'>), lin_corrs_check(<class 'list'>), sizeBatch(<class 'int'>), numBatches(<class 'int'>), randOrderColumnBatches(<class 'numpy.ndarray'>), trackColBatch(<class 'int'>), lin_corrs10AtATime(<class 'list'>), aa(<class 'list'>), startSchmidtVals(<class 'list'>), endSchmidtVals(<class 'list'>), numSchmidt(<class 'int'>), to 20200201-223701-Prober1_HNN_DemoBackup_10cyc_2trials_ExploreSchmitt.mat\n",
      "something is wrong saving workspace to mat\n",
      "Could not convert None (type <class 'NoneType'>) to array\n"
     ]
    }
   ],
   "source": [
    "# Find optimum Schmidt values when running in 10 columns at a time for approximately 10 cycles\n",
    "\n",
    "arr = 2\n",
    "numCycles = 10\n",
    "numTrials = 2\n",
    "sizeBatch = 10\n",
    "numBatches = 6\n",
    "\n",
    "#startSchmidtVals = [-2, -1.75, -1.5, -1.25,  -1.0, -0.75, -0.5, -0.25, 0, +0.25, +0.5, +1.0, -4.5]\n",
    "#endSchmidtVals = [-2, -1.75, -1.5, -1.25,  -1.0, -0.75, -0.5, -0.25, 0, +0.25, +0.5, +1.0, +1.4]\n",
    "startSchmidtVals = [-2.5, -2.0]\n",
    "endSchmidtVals   = [+0.4, +1.0]\n",
    "numSchmidt = np.size(startSchmidtVals)\n",
    "\n",
    "SchmidtCycleVector = np.zeros((numCycles,numSchmidt))\n",
    "\n",
    "for ss in np.arange(numSchmidt):\n",
    "    SchmidtCycleVector[:,ss] = np.linspace(startSchmidtVals[ss], endSchmidtVals[ss], numCycles)\n",
    "    \n",
    "threshold = 0\n",
    "noise = 0\n",
    "numCols = 60\n",
    "\n",
    "energyHistory = np.zeros((numCycles*numCols+1, numSchmidt, numTrials))\n",
    "appliedVector1 = np.zeros((64,numSchmidt))\n",
    "appliedVector2 = np.zeros((64,numSchmidt))\n",
    "output1 = np.zeros((numSchmidt,sizeBatch))\n",
    "output2 = np.zeros((numSchmidt,sizeBatch))\n",
    "\n",
    "neuronVectorHistory = np.zeros((60,numSchmidt, numCycles*numCols+1, numTrials))\n",
    "neuronVector = np.zeros((60,numSchmidt))\n",
    "columnUpdateHistory = np.zeros((1,numCycles*numCols+1, numTrials))\n",
    "\n",
    "for tt in np.arange(numTrials):\n",
    "    print('Trial number', tt)\n",
    "    randomVector = np.random.randint(2, size=(60,1))\n",
    "    initVector = randomVector\n",
    "\n",
    "    for ss in np.arange(numSchmidt):\n",
    "        appliedVector1[0:60,ss] = initVector[:,0]\n",
    "        appliedVector2[0:60,ss] = 1-initVector[:,0]\n",
    "        neuronVector[0:60,ss] = appliedVector1[0:60,ss] - appliedVector2[0:60,ss]\n",
    "        neuronVectorHistory[:,ss,0,tt] = appliedVector1[0:60,ss] - appliedVector2[0:60,ss]\n",
    "        \n",
    "    #energyHistory[0,tt]= 0.5*np.dot(neuronVector.T, (CMat @ neuronVector))            \n",
    "\n",
    "    for cc in np.arange(numCycles):\n",
    "        #randOrderColumns = np.arange(60)\n",
    "        #np.random.shuffle(randOrderColumns)\n",
    "        randOrderColumnBatches = np.arange(numBatches).astype(int)\n",
    "        np.random.shuffle(randOrderColumnBatches)\n",
    "        \n",
    "        trackColBatch = 0\n",
    "        for ii in randOrderColumnBatches:\n",
    "            colStart = np.around(ii*sizeBatch).astype(int)\n",
    "            colEnd = np.around((ii+1)*sizeBatch).astype(int)\n",
    "            #output1[:,colStart:colEnd] = dpe.multiply(arr, appliedVector1, c_sel=[colStart, colEnd], mode=1, debug=False, Tdly=500)\n",
    "            #output2[:,colStart:colEnd] = dpe.multiply(arr, appliedVector2, c_sel=[colStart, colEnd], mode=1, debug=False, Tdly=500)\n",
    "            output1[:,:] = dpe.multiply(arr, appliedVector1, c_sel=[colStart, colEnd], mode=1, debug=False, Tdly=500)\n",
    "            output2[:,:] = dpe.multiply(arr, appliedVector2, c_sel=[colStart, colEnd], mode=1, debug=False, Tdly=500)\n",
    "            output_corr = noise - dpe.lin_corr(output1, lin_corrs10AtATime[colStart:colEnd]) + dpe.lin_corr(output2, lin_corrs10AtATime[colStart:colEnd])            \n",
    "            for ss in np.arange(numSchmidt):\n",
    "                threshVector = threshold - SchmidtCycleVector[cc,ss] * neuronVector[ii*sizeBatch:(ii+1)*sizeBatch, ss]\n",
    "                for columnIndex in np.arange(sizeBatch):\n",
    "                    actualColumn = ii*sizeBatch + columnIndex\n",
    "                    if (output_corr[ss, columnIndex] >= threshVector[columnIndex]):\n",
    "                        appliedVector1[actualColumn, ss] = 1\n",
    "                        appliedVector2[actualColumn, ss] = 0\n",
    "                        neuronVector[actualColumn, ss] = 1\n",
    "                    else:\n",
    "                        appliedVector1[actualColumn, ss] = 0\n",
    "                        appliedVector2[actualColumn, ss] = 1\n",
    "                        neuronVector[actualColumn, ss] = -1\n",
    "                    neuronVectorHistory[:, ss, 60*cc + trackColBatch*sizeBatch + columnIndex + 1,tt] = neuronVector[:, ss]\n",
    "                    #thisEnergy[ss] = 0.5 * np.dot(neuronVector[:, ss].T, (CMat @ neuronVector[:, ss]))\n",
    "                    thisEnergy = 0.5*np.dot(neuronVector[:,ss], np.dot(CMat, neuronVector[:,ss]))\n",
    "                    energyHistory[60*cc + trackColBatch*sizeBatch + columnIndex + 1, ss, tt] = thisEnergy\n",
    "                    columnUpdateHistory[0, 60*cc + trackColBatch*sizeBatch + columnIndex + 1,tt] = actualColumn\n",
    "            trackColBatch = trackColBatch + 1\n",
    "            \n",
    "save_workspace({'lin_corrs10AtATime': lin_corrs10AtATime, 'energyHistory': energyHistory, 'neuronVectorHistory':neuronVectorHistory, 'columnUpdateHistory': columnUpdateHistory, 'startSchmidtVals': startSchmidtVals, 'endSchmidtVals':endSchmidtVals}, note='Prober1_HNN10cyc_2trials_2Schmitt')"
   ]
  },
  {
   "cell_type": "code",
   "execution_count": 95,
   "metadata": {},
   "outputs": [
    {
     "name": "stdout",
     "output_type": "stream",
     "text": [
      "Trial number 0\n",
      "Trial number 1\n",
      "Trial number 2\n",
      "Trial number 3\n",
      "Trial number 4\n",
      "Trial number 5\n",
      "Trial number 6\n",
      "Trial number 7\n",
      "Trial number 8\n",
      "Trial number 9\n",
      "Trial number 10\n",
      "Trial number 11\n",
      "Trial number 12\n",
      "Trial number 13\n",
      "Trial number 14\n",
      "Trial number 15\n",
      "Trial number 16\n",
      "Trial number 17\n",
      "Trial number 18\n",
      "Trial number 19\n",
      "Trial number 20\n",
      "Trial number 21\n",
      "Trial number 22\n",
      "Trial number 23\n",
      "Trial number 24\n",
      "Trial number 25\n",
      "Trial number 26\n",
      "Trial number 27\n",
      "Trial number 28\n",
      "Trial number 29\n",
      "Trial number 30\n",
      "Trial number 31\n",
      "Trial number 32\n",
      "Trial number 33\n",
      "Trial number 34\n",
      "Trial number 35\n",
      "Trial number 36\n",
      "Trial number 37\n",
      "Trial number 38\n",
      "Trial number 39\n",
      "Trial number 40\n",
      "Trial number 41\n",
      "Trial number 42\n",
      "Trial number 43\n",
      "Trial number 44\n",
      "Trial number 45\n",
      "Trial number 46\n",
      "Trial number 47\n",
      "Trial number 48\n",
      "Trial number 49\n",
      "Trial number 50\n",
      "Trial number 51\n",
      "Trial number 52\n",
      "Trial number 53\n",
      "Trial number 54\n",
      "Trial number 55\n",
      "Trial number 56\n",
      "Trial number 57\n",
      "Trial number 58\n",
      "Trial number 59\n",
      "Trial number 60\n",
      "Trial number 61\n",
      "Trial number 62\n",
      "Trial number 63\n",
      "Trial number 64\n",
      "Trial number 65\n",
      "Trial number 66\n",
      "Trial number 67\n",
      "Trial number 68\n",
      "Trial number 69\n",
      "Trial number 70\n",
      "Trial number 71\n",
      "Trial number 72\n",
      "Trial number 73\n",
      "Trial number 74\n",
      "Trial number 75\n",
      "Trial number 76\n",
      "Trial number 77\n",
      "Trial number 78\n",
      "Trial number 79\n",
      "Saving lin_corrs10AtATime(<class 'list'>), energyHistory(<class 'numpy.ndarray'>), neuronVectorHistory(<class 'numpy.ndarray'>), columnUpdateHistory(<class 'numpy.ndarray'>), startSchmidtVals(<class 'list'>), endSchmidtVals(<class 'list'>), to 20200201-233242-Prober1_HNN10cyc_80trials_50Schmitt.pkl\n"
     ]
    },
    {
     "ename": "MemoryError",
     "evalue": "",
     "output_type": "error",
     "traceback": [
      "\u001b[1;31m---------------------------------------------------------------------------\u001b[0m",
      "\u001b[1;31mMemoryError\u001b[0m                               Traceback (most recent call last)",
      "\u001b[1;32m<ipython-input-95-0066741cdb45>\u001b[0m in \u001b[0;36m<module>\u001b[1;34m\u001b[0m\n\u001b[0;32m     83\u001b[0m             \u001b[0mtrackColBatch\u001b[0m \u001b[1;33m=\u001b[0m \u001b[0mtrackColBatch\u001b[0m \u001b[1;33m+\u001b[0m \u001b[1;36m1\u001b[0m\u001b[1;33m\u001b[0m\u001b[1;33m\u001b[0m\u001b[0m\n\u001b[0;32m     84\u001b[0m \u001b[1;33m\u001b[0m\u001b[0m\n\u001b[1;32m---> 85\u001b[1;33m \u001b[0msave_workspace\u001b[0m\u001b[1;33m(\u001b[0m\u001b[1;33m{\u001b[0m\u001b[1;34m'lin_corrs10AtATime'\u001b[0m\u001b[1;33m:\u001b[0m \u001b[0mlin_corrs10AtATime\u001b[0m\u001b[1;33m,\u001b[0m \u001b[1;34m'energyHistory'\u001b[0m\u001b[1;33m:\u001b[0m \u001b[0menergyHistory\u001b[0m\u001b[1;33m,\u001b[0m \u001b[1;34m'neuronVectorHistory'\u001b[0m\u001b[1;33m:\u001b[0m\u001b[0mneuronVectorHistory\u001b[0m\u001b[1;33m,\u001b[0m \u001b[1;34m'columnUpdateHistory'\u001b[0m\u001b[1;33m:\u001b[0m \u001b[0mcolumnUpdateHistory\u001b[0m\u001b[1;33m,\u001b[0m \u001b[1;34m'startSchmidtVals'\u001b[0m\u001b[1;33m:\u001b[0m \u001b[0mstartSchmidtVals\u001b[0m\u001b[1;33m,\u001b[0m \u001b[1;34m'endSchmidtVals'\u001b[0m\u001b[1;33m:\u001b[0m\u001b[0mendSchmidtVals\u001b[0m\u001b[1;33m}\u001b[0m\u001b[1;33m,\u001b[0m \u001b[0mnote\u001b[0m\u001b[1;33m=\u001b[0m\u001b[1;34m'Prober1_HNN10cyc_80trials_50Schmitt'\u001b[0m\u001b[1;33m)\u001b[0m\u001b[1;33m\u001b[0m\u001b[1;33m\u001b[0m\u001b[0m\n\u001b[0m",
      "\u001b[1;32mC:\\microchip\\harmony\\v2_06\\apps\\A0_DUT\\lib_data.py\u001b[0m in \u001b[0;36msave_workspace\u001b[1;34m(vars_all, filename, note)\u001b[0m\n\u001b[0;32m     49\u001b[0m \u001b[1;33m\u001b[0m\u001b[0m\n\u001b[0;32m     50\u001b[0m     \u001b[1;32mwith\u001b[0m \u001b[0mopen\u001b[0m\u001b[1;33m(\u001b[0m\u001b[0mfilename\u001b[0m\u001b[1;33m+\u001b[0m\u001b[1;34m'.pkl'\u001b[0m\u001b[1;33m,\u001b[0m \u001b[1;34m'wb'\u001b[0m\u001b[1;33m)\u001b[0m \u001b[1;32mas\u001b[0m \u001b[0mf\u001b[0m\u001b[1;33m:\u001b[0m\u001b[1;33m\u001b[0m\u001b[1;33m\u001b[0m\u001b[0m\n\u001b[1;32m---> 51\u001b[1;33m         \u001b[0mdill\u001b[0m\u001b[1;33m.\u001b[0m\u001b[0mdump\u001b[0m\u001b[1;33m(\u001b[0m\u001b[0md\u001b[0m\u001b[1;33m,\u001b[0m \u001b[0mf\u001b[0m\u001b[1;33m,\u001b[0m \u001b[1;36m0\u001b[0m\u001b[1;33m)\u001b[0m\u001b[1;33m\u001b[0m\u001b[1;33m\u001b[0m\u001b[0m\n\u001b[0m\u001b[0;32m     52\u001b[0m \u001b[1;33m\u001b[0m\u001b[0m\n\u001b[0;32m     53\u001b[0m     \u001b[0mprint\u001b[0m\u001b[1;33m(\u001b[0m\u001b[1;34m'Saving '\u001b[0m\u001b[1;33m,\u001b[0m \u001b[0mend\u001b[0m\u001b[1;33m=\u001b[0m\u001b[1;34m''\u001b[0m\u001b[1;33m)\u001b[0m\u001b[1;33m\u001b[0m\u001b[1;33m\u001b[0m\u001b[0m\n",
      "\u001b[1;32mc:\\users\\localuser\\~\\.venvs\\py37\\lib\\site-packages\\dill\\_dill.py\u001b[0m in \u001b[0;36mdump\u001b[1;34m(obj, file, protocol, byref, fmode, recurse)\u001b[0m\n\u001b[0;32m    285\u001b[0m         \u001b[1;32mraise\u001b[0m \u001b[0mPicklingError\u001b[0m\u001b[1;33m(\u001b[0m\u001b[0mmsg\u001b[0m\u001b[1;33m)\u001b[0m\u001b[1;33m\u001b[0m\u001b[1;33m\u001b[0m\u001b[0m\n\u001b[0;32m    286\u001b[0m     \u001b[1;32melse\u001b[0m\u001b[1;33m:\u001b[0m\u001b[1;33m\u001b[0m\u001b[1;33m\u001b[0m\u001b[0m\n\u001b[1;32m--> 287\u001b[1;33m         \u001b[0mpik\u001b[0m\u001b[1;33m.\u001b[0m\u001b[0mdump\u001b[0m\u001b[1;33m(\u001b[0m\u001b[0mobj\u001b[0m\u001b[1;33m)\u001b[0m\u001b[1;33m\u001b[0m\u001b[1;33m\u001b[0m\u001b[0m\n\u001b[0m\u001b[0;32m    288\u001b[0m     \u001b[0mstack\u001b[0m\u001b[1;33m.\u001b[0m\u001b[0mclear\u001b[0m\u001b[1;33m(\u001b[0m\u001b[1;33m)\u001b[0m  \u001b[1;31m# clear record of 'recursion-sensitive' pickled objects\u001b[0m\u001b[1;33m\u001b[0m\u001b[1;33m\u001b[0m\u001b[0m\n\u001b[0;32m    289\u001b[0m     \u001b[1;32mreturn\u001b[0m\u001b[1;33m\u001b[0m\u001b[1;33m\u001b[0m\u001b[0m\n",
      "\u001b[1;32m~\\AppData\\Local\\Programs\\Python\\Python37-32\\lib\\pickle.py\u001b[0m in \u001b[0;36mdump\u001b[1;34m(self, obj)\u001b[0m\n\u001b[0;32m    435\u001b[0m         \u001b[1;32mif\u001b[0m \u001b[0mself\u001b[0m\u001b[1;33m.\u001b[0m\u001b[0mproto\u001b[0m \u001b[1;33m>=\u001b[0m \u001b[1;36m4\u001b[0m\u001b[1;33m:\u001b[0m\u001b[1;33m\u001b[0m\u001b[1;33m\u001b[0m\u001b[0m\n\u001b[0;32m    436\u001b[0m             \u001b[0mself\u001b[0m\u001b[1;33m.\u001b[0m\u001b[0mframer\u001b[0m\u001b[1;33m.\u001b[0m\u001b[0mstart_framing\u001b[0m\u001b[1;33m(\u001b[0m\u001b[1;33m)\u001b[0m\u001b[1;33m\u001b[0m\u001b[1;33m\u001b[0m\u001b[0m\n\u001b[1;32m--> 437\u001b[1;33m         \u001b[0mself\u001b[0m\u001b[1;33m.\u001b[0m\u001b[0msave\u001b[0m\u001b[1;33m(\u001b[0m\u001b[0mobj\u001b[0m\u001b[1;33m)\u001b[0m\u001b[1;33m\u001b[0m\u001b[1;33m\u001b[0m\u001b[0m\n\u001b[0m\u001b[0;32m    438\u001b[0m         \u001b[0mself\u001b[0m\u001b[1;33m.\u001b[0m\u001b[0mwrite\u001b[0m\u001b[1;33m(\u001b[0m\u001b[0mSTOP\u001b[0m\u001b[1;33m)\u001b[0m\u001b[1;33m\u001b[0m\u001b[1;33m\u001b[0m\u001b[0m\n\u001b[0;32m    439\u001b[0m         \u001b[0mself\u001b[0m\u001b[1;33m.\u001b[0m\u001b[0mframer\u001b[0m\u001b[1;33m.\u001b[0m\u001b[0mend_framing\u001b[0m\u001b[1;33m(\u001b[0m\u001b[1;33m)\u001b[0m\u001b[1;33m\u001b[0m\u001b[1;33m\u001b[0m\u001b[0m\n",
      "\u001b[1;32m~\\AppData\\Local\\Programs\\Python\\Python37-32\\lib\\pickle.py\u001b[0m in \u001b[0;36msave\u001b[1;34m(self, obj, save_persistent_id)\u001b[0m\n\u001b[0;32m    502\u001b[0m         \u001b[0mf\u001b[0m \u001b[1;33m=\u001b[0m \u001b[0mself\u001b[0m\u001b[1;33m.\u001b[0m\u001b[0mdispatch\u001b[0m\u001b[1;33m.\u001b[0m\u001b[0mget\u001b[0m\u001b[1;33m(\u001b[0m\u001b[0mt\u001b[0m\u001b[1;33m)\u001b[0m\u001b[1;33m\u001b[0m\u001b[1;33m\u001b[0m\u001b[0m\n\u001b[0;32m    503\u001b[0m         \u001b[1;32mif\u001b[0m \u001b[0mf\u001b[0m \u001b[1;32mis\u001b[0m \u001b[1;32mnot\u001b[0m \u001b[1;32mNone\u001b[0m\u001b[1;33m:\u001b[0m\u001b[1;33m\u001b[0m\u001b[1;33m\u001b[0m\u001b[0m\n\u001b[1;32m--> 504\u001b[1;33m             \u001b[0mf\u001b[0m\u001b[1;33m(\u001b[0m\u001b[0mself\u001b[0m\u001b[1;33m,\u001b[0m \u001b[0mobj\u001b[0m\u001b[1;33m)\u001b[0m \u001b[1;31m# Call unbound method with explicit self\u001b[0m\u001b[1;33m\u001b[0m\u001b[1;33m\u001b[0m\u001b[0m\n\u001b[0m\u001b[0;32m    505\u001b[0m             \u001b[1;32mreturn\u001b[0m\u001b[1;33m\u001b[0m\u001b[1;33m\u001b[0m\u001b[0m\n\u001b[0;32m    506\u001b[0m \u001b[1;33m\u001b[0m\u001b[0m\n",
      "\u001b[1;32mc:\\users\\localuser\\~\\.venvs\\py37\\lib\\site-packages\\dill\\_dill.py\u001b[0m in \u001b[0;36msave_module_dict\u001b[1;34m(pickler, obj)\u001b[0m\n\u001b[0;32m    908\u001b[0m             \u001b[1;31m# we only care about session the first pass thru\u001b[0m\u001b[1;33m\u001b[0m\u001b[1;33m\u001b[0m\u001b[1;33m\u001b[0m\u001b[0m\n\u001b[0;32m    909\u001b[0m             \u001b[0mpickler\u001b[0m\u001b[1;33m.\u001b[0m\u001b[0m_session\u001b[0m \u001b[1;33m=\u001b[0m \u001b[1;32mFalse\u001b[0m\u001b[1;33m\u001b[0m\u001b[1;33m\u001b[0m\u001b[0m\n\u001b[1;32m--> 910\u001b[1;33m         \u001b[0mStockPickler\u001b[0m\u001b[1;33m.\u001b[0m\u001b[0msave_dict\u001b[0m\u001b[1;33m(\u001b[0m\u001b[0mpickler\u001b[0m\u001b[1;33m,\u001b[0m \u001b[0mobj\u001b[0m\u001b[1;33m)\u001b[0m\u001b[1;33m\u001b[0m\u001b[1;33m\u001b[0m\u001b[0m\n\u001b[0m\u001b[0;32m    911\u001b[0m         \u001b[0mlog\u001b[0m\u001b[1;33m.\u001b[0m\u001b[0minfo\u001b[0m\u001b[1;33m(\u001b[0m\u001b[1;34m\"# D2\"\u001b[0m\u001b[1;33m)\u001b[0m\u001b[1;33m\u001b[0m\u001b[1;33m\u001b[0m\u001b[0m\n\u001b[0;32m    912\u001b[0m     \u001b[1;32mreturn\u001b[0m\u001b[1;33m\u001b[0m\u001b[1;33m\u001b[0m\u001b[0m\n",
      "\u001b[1;32m~\\AppData\\Local\\Programs\\Python\\Python37-32\\lib\\pickle.py\u001b[0m in \u001b[0;36msave_dict\u001b[1;34m(self, obj)\u001b[0m\n\u001b[0;32m    857\u001b[0m \u001b[1;33m\u001b[0m\u001b[0m\n\u001b[0;32m    858\u001b[0m         \u001b[0mself\u001b[0m\u001b[1;33m.\u001b[0m\u001b[0mmemoize\u001b[0m\u001b[1;33m(\u001b[0m\u001b[0mobj\u001b[0m\u001b[1;33m)\u001b[0m\u001b[1;33m\u001b[0m\u001b[1;33m\u001b[0m\u001b[0m\n\u001b[1;32m--> 859\u001b[1;33m         \u001b[0mself\u001b[0m\u001b[1;33m.\u001b[0m\u001b[0m_batch_setitems\u001b[0m\u001b[1;33m(\u001b[0m\u001b[0mobj\u001b[0m\u001b[1;33m.\u001b[0m\u001b[0mitems\u001b[0m\u001b[1;33m(\u001b[0m\u001b[1;33m)\u001b[0m\u001b[1;33m)\u001b[0m\u001b[1;33m\u001b[0m\u001b[1;33m\u001b[0m\u001b[0m\n\u001b[0m\u001b[0;32m    860\u001b[0m \u001b[1;33m\u001b[0m\u001b[0m\n\u001b[0;32m    861\u001b[0m     \u001b[0mdispatch\u001b[0m\u001b[1;33m[\u001b[0m\u001b[0mdict\u001b[0m\u001b[1;33m]\u001b[0m \u001b[1;33m=\u001b[0m \u001b[0msave_dict\u001b[0m\u001b[1;33m\u001b[0m\u001b[1;33m\u001b[0m\u001b[0m\n",
      "\u001b[1;32m~\\AppData\\Local\\Programs\\Python\\Python37-32\\lib\\pickle.py\u001b[0m in \u001b[0;36m_batch_setitems\u001b[1;34m(self, items)\u001b[0m\n\u001b[0;32m    871\u001b[0m             \u001b[1;32mfor\u001b[0m \u001b[0mk\u001b[0m\u001b[1;33m,\u001b[0m \u001b[0mv\u001b[0m \u001b[1;32min\u001b[0m \u001b[0mitems\u001b[0m\u001b[1;33m:\u001b[0m\u001b[1;33m\u001b[0m\u001b[1;33m\u001b[0m\u001b[0m\n\u001b[0;32m    872\u001b[0m                 \u001b[0msave\u001b[0m\u001b[1;33m(\u001b[0m\u001b[0mk\u001b[0m\u001b[1;33m)\u001b[0m\u001b[1;33m\u001b[0m\u001b[1;33m\u001b[0m\u001b[0m\n\u001b[1;32m--> 873\u001b[1;33m                 \u001b[0msave\u001b[0m\u001b[1;33m(\u001b[0m\u001b[0mv\u001b[0m\u001b[1;33m)\u001b[0m\u001b[1;33m\u001b[0m\u001b[1;33m\u001b[0m\u001b[0m\n\u001b[0m\u001b[0;32m    874\u001b[0m                 \u001b[0mwrite\u001b[0m\u001b[1;33m(\u001b[0m\u001b[0mSETITEM\u001b[0m\u001b[1;33m)\u001b[0m\u001b[1;33m\u001b[0m\u001b[1;33m\u001b[0m\u001b[0m\n\u001b[0;32m    875\u001b[0m             \u001b[1;32mreturn\u001b[0m\u001b[1;33m\u001b[0m\u001b[1;33m\u001b[0m\u001b[0m\n",
      "\u001b[1;32m~\\AppData\\Local\\Programs\\Python\\Python37-32\\lib\\pickle.py\u001b[0m in \u001b[0;36msave\u001b[1;34m(self, obj, save_persistent_id)\u001b[0m\n\u001b[0;32m    522\u001b[0m             \u001b[0mreduce\u001b[0m \u001b[1;33m=\u001b[0m \u001b[0mgetattr\u001b[0m\u001b[1;33m(\u001b[0m\u001b[0mobj\u001b[0m\u001b[1;33m,\u001b[0m \u001b[1;34m\"__reduce_ex__\"\u001b[0m\u001b[1;33m,\u001b[0m \u001b[1;32mNone\u001b[0m\u001b[1;33m)\u001b[0m\u001b[1;33m\u001b[0m\u001b[1;33m\u001b[0m\u001b[0m\n\u001b[0;32m    523\u001b[0m             \u001b[1;32mif\u001b[0m \u001b[0mreduce\u001b[0m \u001b[1;32mis\u001b[0m \u001b[1;32mnot\u001b[0m \u001b[1;32mNone\u001b[0m\u001b[1;33m:\u001b[0m\u001b[1;33m\u001b[0m\u001b[1;33m\u001b[0m\u001b[0m\n\u001b[1;32m--> 524\u001b[1;33m                 \u001b[0mrv\u001b[0m \u001b[1;33m=\u001b[0m \u001b[0mreduce\u001b[0m\u001b[1;33m(\u001b[0m\u001b[0mself\u001b[0m\u001b[1;33m.\u001b[0m\u001b[0mproto\u001b[0m\u001b[1;33m)\u001b[0m\u001b[1;33m\u001b[0m\u001b[1;33m\u001b[0m\u001b[0m\n\u001b[0m\u001b[0;32m    525\u001b[0m             \u001b[1;32melse\u001b[0m\u001b[1;33m:\u001b[0m\u001b[1;33m\u001b[0m\u001b[1;33m\u001b[0m\u001b[0m\n\u001b[0;32m    526\u001b[0m                 \u001b[0mreduce\u001b[0m \u001b[1;33m=\u001b[0m \u001b[0mgetattr\u001b[0m\u001b[1;33m(\u001b[0m\u001b[0mobj\u001b[0m\u001b[1;33m,\u001b[0m \u001b[1;34m\"__reduce__\"\u001b[0m\u001b[1;33m,\u001b[0m \u001b[1;32mNone\u001b[0m\u001b[1;33m)\u001b[0m\u001b[1;33m\u001b[0m\u001b[1;33m\u001b[0m\u001b[0m\n",
      "\u001b[1;31mMemoryError\u001b[0m: "
     ]
    }
   ],
   "source": [
    "# Find optimum Schmidt values when running in 10 columns at a time for approximately 10 cycles\n",
    "\n",
    "arr = 2\n",
    "numCycles = 10\n",
    "numTrials = 80\n",
    "sizeBatch = 10\n",
    "numBatches = 6\n",
    "\n",
    "#startSchmidtVals = [-2, -1.75, -1.5, -1.25,  -1.0, -0.75, -0.5, -0.25, 0, +0.25, +0.5, +1.0, -4.5]\n",
    "#endSchmidtVals = [-2, -1.75, -1.5, -1.25,  -1.0, -0.75, -0.5, -0.25, 0, +0.25, +0.5, +1.0, +1.4]\n",
    "startSchmidtVals = [-4.5, -3.5, -2.5, -2.0, -1.5, -1.0, -0.5, 0]\n",
    "endSchmidtVals   = [0, 0.5, 1.0, 1.5]\n",
    "numStartSchmidt = np.size(startSchmidtVals)\n",
    "numEndSchmidt = np.size(endSchmidtVals)\n",
    "numSchmidt = numStartSchmidt*numEndSchmidt\n",
    "SchmidtCycleVector = np.zeros((numCycles,numSchmidt))\n",
    "\n",
    "indy = 0\n",
    "for ss in np.arange(numStartSchmidt):\n",
    "    for ee in np.arange(numEndSchmidt):        \n",
    "        SchmidtCycleVector[:,indy] = np.linspace(startSchmidtVals[ss], endSchmidtVals[ee], numCycles)\n",
    "        indy = indy+1\n",
    "    \n",
    "threshold = 0\n",
    "noise = 0\n",
    "numCols = 60\n",
    "\n",
    "energyHistory = np.zeros((numCycles*numCols+1, numSchmidt, numTrials))\n",
    "appliedVector1 = np.zeros((64,numSchmidt))\n",
    "appliedVector2 = np.zeros((64,numSchmidt))\n",
    "output1 = np.zeros((numSchmidt,sizeBatch))\n",
    "output2 = np.zeros((numSchmidt,sizeBatch))\n",
    "\n",
    "neuronVectorHistory = np.zeros((60,numSchmidt, numCycles*numCols+1, numTrials))\n",
    "neuronVector = np.zeros((60,numSchmidt))\n",
    "columnUpdateHistory = np.zeros((1,numCycles*numCols+1, numTrials))\n",
    "\n",
    "for tt in np.arange(numTrials):\n",
    "    print('Trial number', tt)\n",
    "    randomVector = np.random.randint(2, size=(60,1))\n",
    "    initVector = randomVector\n",
    "\n",
    "    for ss in np.arange(numSchmidt):\n",
    "        appliedVector1[0:60,ss] = initVector[:,0]\n",
    "        appliedVector2[0:60,ss] = 1-initVector[:,0]\n",
    "        neuronVector[0:60,ss] = appliedVector1[0:60,ss] - appliedVector2[0:60,ss]\n",
    "        neuronVectorHistory[:,ss,0,tt] = appliedVector1[0:60,ss] - appliedVector2[0:60,ss]\n",
    "        \n",
    "    #energyHistory[0,tt]= 0.5*np.dot(neuronVector.T, (CMat @ neuronVector))            \n",
    "\n",
    "    for cc in np.arange(numCycles):\n",
    "        #randOrderColumns = np.arange(60)\n",
    "        #np.random.shuffle(randOrderColumns)\n",
    "        randOrderColumnBatches = np.arange(numBatches).astype(int)\n",
    "        np.random.shuffle(randOrderColumnBatches)\n",
    "        \n",
    "        trackColBatch = 0\n",
    "        for ii in randOrderColumnBatches:\n",
    "            colStart = np.around(ii*sizeBatch).astype(int)\n",
    "            colEnd = np.around((ii+1)*sizeBatch).astype(int)\n",
    "            #output1[:,colStart:colEnd] = dpe.multiply(arr, appliedVector1, c_sel=[colStart, colEnd], mode=1, debug=False, Tdly=500)\n",
    "            #output2[:,colStart:colEnd] = dpe.multiply(arr, appliedVector2, c_sel=[colStart, colEnd], mode=1, debug=False, Tdly=500)\n",
    "            output1[:,:] = dpe.multiply(arr, appliedVector1, c_sel=[colStart, colEnd], mode=1, debug=False, Tdly=500)\n",
    "            output2[:,:] = dpe.multiply(arr, appliedVector2, c_sel=[colStart, colEnd], mode=1, debug=False, Tdly=500)\n",
    "            output_corr = noise - dpe.lin_corr(output1, lin_corrs10AtATime[colStart:colEnd]) + dpe.lin_corr(output2, lin_corrs10AtATime[colStart:colEnd])            \n",
    "            for ss in np.arange(numSchmidt):\n",
    "                threshVector = threshold - SchmidtCycleVector[cc,ss] * neuronVector[ii*sizeBatch:(ii+1)*sizeBatch, ss]\n",
    "                for columnIndex in np.arange(sizeBatch):\n",
    "                    actualColumn = ii*sizeBatch + columnIndex\n",
    "                    if (output_corr[ss, columnIndex] >= threshVector[columnIndex]):\n",
    "                        appliedVector1[actualColumn, ss] = 1\n",
    "                        appliedVector2[actualColumn, ss] = 0\n",
    "                        neuronVector[actualColumn, ss] = 1\n",
    "                    else:\n",
    "                        appliedVector1[actualColumn, ss] = 0\n",
    "                        appliedVector2[actualColumn, ss] = 1\n",
    "                        neuronVector[actualColumn, ss] = -1\n",
    "                    neuronVectorHistory[:, ss, 60*cc + trackColBatch*sizeBatch + columnIndex + 1,tt] = neuronVector[:, ss]\n",
    "                    #thisEnergy[ss] = 0.5 * np.dot(neuronVector[:, ss].T, (CMat @ neuronVector[:, ss]))\n",
    "                    thisEnergy = 0.5*np.dot(neuronVector[:,ss], np.dot(CMat, neuronVector[:,ss]))\n",
    "                    energyHistory[60*cc + trackColBatch*sizeBatch + columnIndex + 1, ss, tt] = thisEnergy\n",
    "                    columnUpdateHistory[0, 60*cc + trackColBatch*sizeBatch + columnIndex + 1,tt] = actualColumn\n",
    "            trackColBatch = trackColBatch + 1\n",
    "            \n",
    "save_workspace({'lin_corrs10AtATime': lin_corrs10AtATime, 'energyHistory': energyHistory, 'neuronVectorHistory':neuronVectorHistory, 'columnUpdateHistory': columnUpdateHistory, 'startSchmidtVals': startSchmidtVals, 'endSchmidtVals':endSchmidtVals}, note='Prober1_HNN10cyc_80trials_50Schmitt')"
   ]
  },
  {
   "cell_type": "code",
   "execution_count": 101,
   "metadata": {},
   "outputs": [
    {
     "name": "stdout",
     "output_type": "stream",
     "text": [
      "Saving energyHistory(<class 'numpy.ndarray'>), neuronVectorHistory(<class 'numpy.ndarray'>), columnUpdateHistory(<class 'numpy.ndarray'>), startSchmidtVals(<class 'list'>), endSchmidtVals(<class 'list'>), to 20200202-084535-Prober1_HNN10cyc_80trials_50Schmitt.pkl\n"
     ]
    },
    {
     "ename": "MemoryError",
     "evalue": "",
     "output_type": "error",
     "traceback": [
      "\u001b[1;31m---------------------------------------------------------------------------\u001b[0m",
      "\u001b[1;31mMemoryError\u001b[0m                               Traceback (most recent call last)",
      "\u001b[1;32m<ipython-input-101-28c0250b9188>\u001b[0m in \u001b[0;36m<module>\u001b[1;34m\u001b[0m\n\u001b[1;32m----> 1\u001b[1;33m \u001b[0msave_workspace\u001b[0m\u001b[1;33m(\u001b[0m\u001b[1;33m{\u001b[0m\u001b[1;34m'energyHistory'\u001b[0m\u001b[1;33m:\u001b[0m \u001b[0menergyHistory\u001b[0m\u001b[1;33m,\u001b[0m \u001b[1;34m'neuronVectorHistory'\u001b[0m\u001b[1;33m:\u001b[0m\u001b[0mneuronVectorHistory\u001b[0m\u001b[1;33m,\u001b[0m \u001b[1;34m'columnUpdateHistory'\u001b[0m\u001b[1;33m:\u001b[0m \u001b[0mcolumnUpdateHistory\u001b[0m\u001b[1;33m,\u001b[0m \u001b[1;34m'startSchmidtVals'\u001b[0m\u001b[1;33m:\u001b[0m \u001b[0mstartSchmidtVals\u001b[0m\u001b[1;33m,\u001b[0m \u001b[1;34m'endSchmidtVals'\u001b[0m\u001b[1;33m:\u001b[0m \u001b[0mendSchmidtVals\u001b[0m\u001b[1;33m}\u001b[0m\u001b[1;33m,\u001b[0m \u001b[0mnote\u001b[0m\u001b[1;33m=\u001b[0m\u001b[1;34m'Prober1_HNN10cyc_80trials_50Schmitt'\u001b[0m\u001b[1;33m)\u001b[0m\u001b[1;33m\u001b[0m\u001b[1;33m\u001b[0m\u001b[0m\n\u001b[0m",
      "\u001b[1;32mC:\\microchip\\harmony\\v2_06\\apps\\A0_DUT\\lib_data.py\u001b[0m in \u001b[0;36msave_workspace\u001b[1;34m(vars_all, filename, note)\u001b[0m\n\u001b[0;32m     49\u001b[0m \u001b[1;33m\u001b[0m\u001b[0m\n\u001b[0;32m     50\u001b[0m     \u001b[1;32mwith\u001b[0m \u001b[0mopen\u001b[0m\u001b[1;33m(\u001b[0m\u001b[0mfilename\u001b[0m\u001b[1;33m+\u001b[0m\u001b[1;34m'.pkl'\u001b[0m\u001b[1;33m,\u001b[0m \u001b[1;34m'wb'\u001b[0m\u001b[1;33m)\u001b[0m \u001b[1;32mas\u001b[0m \u001b[0mf\u001b[0m\u001b[1;33m:\u001b[0m\u001b[1;33m\u001b[0m\u001b[1;33m\u001b[0m\u001b[0m\n\u001b[1;32m---> 51\u001b[1;33m         \u001b[0mdill\u001b[0m\u001b[1;33m.\u001b[0m\u001b[0mdump\u001b[0m\u001b[1;33m(\u001b[0m\u001b[0md\u001b[0m\u001b[1;33m,\u001b[0m \u001b[0mf\u001b[0m\u001b[1;33m,\u001b[0m \u001b[1;36m0\u001b[0m\u001b[1;33m)\u001b[0m\u001b[1;33m\u001b[0m\u001b[1;33m\u001b[0m\u001b[0m\n\u001b[0m\u001b[0;32m     52\u001b[0m \u001b[1;33m\u001b[0m\u001b[0m\n\u001b[0;32m     53\u001b[0m     \u001b[0mprint\u001b[0m\u001b[1;33m(\u001b[0m\u001b[1;34m'Saving '\u001b[0m\u001b[1;33m,\u001b[0m \u001b[0mend\u001b[0m\u001b[1;33m=\u001b[0m\u001b[1;34m''\u001b[0m\u001b[1;33m)\u001b[0m\u001b[1;33m\u001b[0m\u001b[1;33m\u001b[0m\u001b[0m\n",
      "\u001b[1;32mc:\\users\\localuser\\~\\.venvs\\py37\\lib\\site-packages\\dill\\_dill.py\u001b[0m in \u001b[0;36mdump\u001b[1;34m(obj, file, protocol, byref, fmode, recurse)\u001b[0m\n\u001b[0;32m    285\u001b[0m         \u001b[1;32mraise\u001b[0m \u001b[0mPicklingError\u001b[0m\u001b[1;33m(\u001b[0m\u001b[0mmsg\u001b[0m\u001b[1;33m)\u001b[0m\u001b[1;33m\u001b[0m\u001b[1;33m\u001b[0m\u001b[0m\n\u001b[0;32m    286\u001b[0m     \u001b[1;32melse\u001b[0m\u001b[1;33m:\u001b[0m\u001b[1;33m\u001b[0m\u001b[1;33m\u001b[0m\u001b[0m\n\u001b[1;32m--> 287\u001b[1;33m         \u001b[0mpik\u001b[0m\u001b[1;33m.\u001b[0m\u001b[0mdump\u001b[0m\u001b[1;33m(\u001b[0m\u001b[0mobj\u001b[0m\u001b[1;33m)\u001b[0m\u001b[1;33m\u001b[0m\u001b[1;33m\u001b[0m\u001b[0m\n\u001b[0m\u001b[0;32m    288\u001b[0m     \u001b[0mstack\u001b[0m\u001b[1;33m.\u001b[0m\u001b[0mclear\u001b[0m\u001b[1;33m(\u001b[0m\u001b[1;33m)\u001b[0m  \u001b[1;31m# clear record of 'recursion-sensitive' pickled objects\u001b[0m\u001b[1;33m\u001b[0m\u001b[1;33m\u001b[0m\u001b[0m\n\u001b[0;32m    289\u001b[0m     \u001b[1;32mreturn\u001b[0m\u001b[1;33m\u001b[0m\u001b[1;33m\u001b[0m\u001b[0m\n",
      "\u001b[1;32m~\\AppData\\Local\\Programs\\Python\\Python37-32\\lib\\pickle.py\u001b[0m in \u001b[0;36mdump\u001b[1;34m(self, obj)\u001b[0m\n\u001b[0;32m    435\u001b[0m         \u001b[1;32mif\u001b[0m \u001b[0mself\u001b[0m\u001b[1;33m.\u001b[0m\u001b[0mproto\u001b[0m \u001b[1;33m>=\u001b[0m \u001b[1;36m4\u001b[0m\u001b[1;33m:\u001b[0m\u001b[1;33m\u001b[0m\u001b[1;33m\u001b[0m\u001b[0m\n\u001b[0;32m    436\u001b[0m             \u001b[0mself\u001b[0m\u001b[1;33m.\u001b[0m\u001b[0mframer\u001b[0m\u001b[1;33m.\u001b[0m\u001b[0mstart_framing\u001b[0m\u001b[1;33m(\u001b[0m\u001b[1;33m)\u001b[0m\u001b[1;33m\u001b[0m\u001b[1;33m\u001b[0m\u001b[0m\n\u001b[1;32m--> 437\u001b[1;33m         \u001b[0mself\u001b[0m\u001b[1;33m.\u001b[0m\u001b[0msave\u001b[0m\u001b[1;33m(\u001b[0m\u001b[0mobj\u001b[0m\u001b[1;33m)\u001b[0m\u001b[1;33m\u001b[0m\u001b[1;33m\u001b[0m\u001b[0m\n\u001b[0m\u001b[0;32m    438\u001b[0m         \u001b[0mself\u001b[0m\u001b[1;33m.\u001b[0m\u001b[0mwrite\u001b[0m\u001b[1;33m(\u001b[0m\u001b[0mSTOP\u001b[0m\u001b[1;33m)\u001b[0m\u001b[1;33m\u001b[0m\u001b[1;33m\u001b[0m\u001b[0m\n\u001b[0;32m    439\u001b[0m         \u001b[0mself\u001b[0m\u001b[1;33m.\u001b[0m\u001b[0mframer\u001b[0m\u001b[1;33m.\u001b[0m\u001b[0mend_framing\u001b[0m\u001b[1;33m(\u001b[0m\u001b[1;33m)\u001b[0m\u001b[1;33m\u001b[0m\u001b[1;33m\u001b[0m\u001b[0m\n",
      "\u001b[1;32m~\\AppData\\Local\\Programs\\Python\\Python37-32\\lib\\pickle.py\u001b[0m in \u001b[0;36msave\u001b[1;34m(self, obj, save_persistent_id)\u001b[0m\n\u001b[0;32m    502\u001b[0m         \u001b[0mf\u001b[0m \u001b[1;33m=\u001b[0m \u001b[0mself\u001b[0m\u001b[1;33m.\u001b[0m\u001b[0mdispatch\u001b[0m\u001b[1;33m.\u001b[0m\u001b[0mget\u001b[0m\u001b[1;33m(\u001b[0m\u001b[0mt\u001b[0m\u001b[1;33m)\u001b[0m\u001b[1;33m\u001b[0m\u001b[1;33m\u001b[0m\u001b[0m\n\u001b[0;32m    503\u001b[0m         \u001b[1;32mif\u001b[0m \u001b[0mf\u001b[0m \u001b[1;32mis\u001b[0m \u001b[1;32mnot\u001b[0m \u001b[1;32mNone\u001b[0m\u001b[1;33m:\u001b[0m\u001b[1;33m\u001b[0m\u001b[1;33m\u001b[0m\u001b[0m\n\u001b[1;32m--> 504\u001b[1;33m             \u001b[0mf\u001b[0m\u001b[1;33m(\u001b[0m\u001b[0mself\u001b[0m\u001b[1;33m,\u001b[0m \u001b[0mobj\u001b[0m\u001b[1;33m)\u001b[0m \u001b[1;31m# Call unbound method with explicit self\u001b[0m\u001b[1;33m\u001b[0m\u001b[1;33m\u001b[0m\u001b[0m\n\u001b[0m\u001b[0;32m    505\u001b[0m             \u001b[1;32mreturn\u001b[0m\u001b[1;33m\u001b[0m\u001b[1;33m\u001b[0m\u001b[0m\n\u001b[0;32m    506\u001b[0m \u001b[1;33m\u001b[0m\u001b[0m\n",
      "\u001b[1;32mc:\\users\\localuser\\~\\.venvs\\py37\\lib\\site-packages\\dill\\_dill.py\u001b[0m in \u001b[0;36msave_module_dict\u001b[1;34m(pickler, obj)\u001b[0m\n\u001b[0;32m    908\u001b[0m             \u001b[1;31m# we only care about session the first pass thru\u001b[0m\u001b[1;33m\u001b[0m\u001b[1;33m\u001b[0m\u001b[1;33m\u001b[0m\u001b[0m\n\u001b[0;32m    909\u001b[0m             \u001b[0mpickler\u001b[0m\u001b[1;33m.\u001b[0m\u001b[0m_session\u001b[0m \u001b[1;33m=\u001b[0m \u001b[1;32mFalse\u001b[0m\u001b[1;33m\u001b[0m\u001b[1;33m\u001b[0m\u001b[0m\n\u001b[1;32m--> 910\u001b[1;33m         \u001b[0mStockPickler\u001b[0m\u001b[1;33m.\u001b[0m\u001b[0msave_dict\u001b[0m\u001b[1;33m(\u001b[0m\u001b[0mpickler\u001b[0m\u001b[1;33m,\u001b[0m \u001b[0mobj\u001b[0m\u001b[1;33m)\u001b[0m\u001b[1;33m\u001b[0m\u001b[1;33m\u001b[0m\u001b[0m\n\u001b[0m\u001b[0;32m    911\u001b[0m         \u001b[0mlog\u001b[0m\u001b[1;33m.\u001b[0m\u001b[0minfo\u001b[0m\u001b[1;33m(\u001b[0m\u001b[1;34m\"# D2\"\u001b[0m\u001b[1;33m)\u001b[0m\u001b[1;33m\u001b[0m\u001b[1;33m\u001b[0m\u001b[0m\n\u001b[0;32m    912\u001b[0m     \u001b[1;32mreturn\u001b[0m\u001b[1;33m\u001b[0m\u001b[1;33m\u001b[0m\u001b[0m\n",
      "\u001b[1;32m~\\AppData\\Local\\Programs\\Python\\Python37-32\\lib\\pickle.py\u001b[0m in \u001b[0;36msave_dict\u001b[1;34m(self, obj)\u001b[0m\n\u001b[0;32m    857\u001b[0m \u001b[1;33m\u001b[0m\u001b[0m\n\u001b[0;32m    858\u001b[0m         \u001b[0mself\u001b[0m\u001b[1;33m.\u001b[0m\u001b[0mmemoize\u001b[0m\u001b[1;33m(\u001b[0m\u001b[0mobj\u001b[0m\u001b[1;33m)\u001b[0m\u001b[1;33m\u001b[0m\u001b[1;33m\u001b[0m\u001b[0m\n\u001b[1;32m--> 859\u001b[1;33m         \u001b[0mself\u001b[0m\u001b[1;33m.\u001b[0m\u001b[0m_batch_setitems\u001b[0m\u001b[1;33m(\u001b[0m\u001b[0mobj\u001b[0m\u001b[1;33m.\u001b[0m\u001b[0mitems\u001b[0m\u001b[1;33m(\u001b[0m\u001b[1;33m)\u001b[0m\u001b[1;33m)\u001b[0m\u001b[1;33m\u001b[0m\u001b[1;33m\u001b[0m\u001b[0m\n\u001b[0m\u001b[0;32m    860\u001b[0m \u001b[1;33m\u001b[0m\u001b[0m\n\u001b[0;32m    861\u001b[0m     \u001b[0mdispatch\u001b[0m\u001b[1;33m[\u001b[0m\u001b[0mdict\u001b[0m\u001b[1;33m]\u001b[0m \u001b[1;33m=\u001b[0m \u001b[0msave_dict\u001b[0m\u001b[1;33m\u001b[0m\u001b[1;33m\u001b[0m\u001b[0m\n",
      "\u001b[1;32m~\\AppData\\Local\\Programs\\Python\\Python37-32\\lib\\pickle.py\u001b[0m in \u001b[0;36m_batch_setitems\u001b[1;34m(self, items)\u001b[0m\n\u001b[0;32m    871\u001b[0m             \u001b[1;32mfor\u001b[0m \u001b[0mk\u001b[0m\u001b[1;33m,\u001b[0m \u001b[0mv\u001b[0m \u001b[1;32min\u001b[0m \u001b[0mitems\u001b[0m\u001b[1;33m:\u001b[0m\u001b[1;33m\u001b[0m\u001b[1;33m\u001b[0m\u001b[0m\n\u001b[0;32m    872\u001b[0m                 \u001b[0msave\u001b[0m\u001b[1;33m(\u001b[0m\u001b[0mk\u001b[0m\u001b[1;33m)\u001b[0m\u001b[1;33m\u001b[0m\u001b[1;33m\u001b[0m\u001b[0m\n\u001b[1;32m--> 873\u001b[1;33m                 \u001b[0msave\u001b[0m\u001b[1;33m(\u001b[0m\u001b[0mv\u001b[0m\u001b[1;33m)\u001b[0m\u001b[1;33m\u001b[0m\u001b[1;33m\u001b[0m\u001b[0m\n\u001b[0m\u001b[0;32m    874\u001b[0m                 \u001b[0mwrite\u001b[0m\u001b[1;33m(\u001b[0m\u001b[0mSETITEM\u001b[0m\u001b[1;33m)\u001b[0m\u001b[1;33m\u001b[0m\u001b[1;33m\u001b[0m\u001b[0m\n\u001b[0;32m    875\u001b[0m             \u001b[1;32mreturn\u001b[0m\u001b[1;33m\u001b[0m\u001b[1;33m\u001b[0m\u001b[0m\n",
      "\u001b[1;32m~\\AppData\\Local\\Programs\\Python\\Python37-32\\lib\\pickle.py\u001b[0m in \u001b[0;36msave\u001b[1;34m(self, obj, save_persistent_id)\u001b[0m\n\u001b[0;32m    522\u001b[0m             \u001b[0mreduce\u001b[0m \u001b[1;33m=\u001b[0m \u001b[0mgetattr\u001b[0m\u001b[1;33m(\u001b[0m\u001b[0mobj\u001b[0m\u001b[1;33m,\u001b[0m \u001b[1;34m\"__reduce_ex__\"\u001b[0m\u001b[1;33m,\u001b[0m \u001b[1;32mNone\u001b[0m\u001b[1;33m)\u001b[0m\u001b[1;33m\u001b[0m\u001b[1;33m\u001b[0m\u001b[0m\n\u001b[0;32m    523\u001b[0m             \u001b[1;32mif\u001b[0m \u001b[0mreduce\u001b[0m \u001b[1;32mis\u001b[0m \u001b[1;32mnot\u001b[0m \u001b[1;32mNone\u001b[0m\u001b[1;33m:\u001b[0m\u001b[1;33m\u001b[0m\u001b[1;33m\u001b[0m\u001b[0m\n\u001b[1;32m--> 524\u001b[1;33m                 \u001b[0mrv\u001b[0m \u001b[1;33m=\u001b[0m \u001b[0mreduce\u001b[0m\u001b[1;33m(\u001b[0m\u001b[0mself\u001b[0m\u001b[1;33m.\u001b[0m\u001b[0mproto\u001b[0m\u001b[1;33m)\u001b[0m\u001b[1;33m\u001b[0m\u001b[1;33m\u001b[0m\u001b[0m\n\u001b[0m\u001b[0;32m    525\u001b[0m             \u001b[1;32melse\u001b[0m\u001b[1;33m:\u001b[0m\u001b[1;33m\u001b[0m\u001b[1;33m\u001b[0m\u001b[0m\n\u001b[0;32m    526\u001b[0m                 \u001b[0mreduce\u001b[0m \u001b[1;33m=\u001b[0m \u001b[0mgetattr\u001b[0m\u001b[1;33m(\u001b[0m\u001b[0mobj\u001b[0m\u001b[1;33m,\u001b[0m \u001b[1;34m\"__reduce__\"\u001b[0m\u001b[1;33m,\u001b[0m \u001b[1;32mNone\u001b[0m\u001b[1;33m)\u001b[0m\u001b[1;33m\u001b[0m\u001b[1;33m\u001b[0m\u001b[0m\n",
      "\u001b[1;31mMemoryError\u001b[0m: "
     ]
    }
   ],
   "source": [
    "save_workspace({'energyHistory': energyHistory, 'neuronVectorHistory':neuronVectorHistory, 'columnUpdateHistory': columnUpdateHistory, 'startSchmidtVals': startSchmidtVals, 'endSchmidtVals': endSchmidtVals}, note='Prober1_HNN10cyc_80trials_50Schmitt')"
   ]
  },
  {
   "cell_type": "code",
   "execution_count": null,
   "metadata": {},
   "outputs": [],
   "source": [
    "save_workspace({'energyHistory': energyHistory}, note='Prober1_HNN10cyc_80trials_50Schmitt')"
   ]
  }
 ],
 "metadata": {
  "kernelspec": {
   "display_name": "Python 3",
   "language": "python",
   "name": "python3"
  },
  "language_info": {
   "codemirror_mode": {
    "name": "ipython",
    "version": 3
   },
   "file_extension": ".py",
   "mimetype": "text/x-python",
   "name": "python",
   "nbconvert_exporter": "python",
   "pygments_lexer": "ipython3",
   "version": "3.7.4"
  }
 },
 "nbformat": 4,
 "nbformat_minor": 4
}
