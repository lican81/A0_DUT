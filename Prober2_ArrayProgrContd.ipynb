{
 "cells": [
  {
   "cell_type": "code",
   "execution_count": 1,
   "metadata": {},
   "outputs": [],
   "source": [
    "\n",
    "import dut_func as dut\n",
    "import serial\n",
    "import time\n",
    "import struct\n",
    "import numpy as np\n",
    "# from bitarray import bitarray\n",
    "from bitstring import BitArray\n",
    "import matplotlib.pyplot as plt\n",
    "# %config InlineBackend.figure_formats = ['svg']\n",
    "import dut_a0 as a0\n",
    "\n",
    "from misc import *\n",
    "\n",
    "# dut.drv.serUSB = 'COM19'\n",
    "drv = dut.drv\n"
   ]
  },
  {
   "cell_type": "code",
   "execution_count": 2,
   "metadata": {},
   "outputs": [
    {
     "name": "stdout",
     "output_type": "stream",
     "text": [
      "DAC initialized to a span from 0 V to 5 V\n"
     ]
    }
   ],
   "source": [
    "ser = serial.Serial('COM3', 9600, timeout=1)\n",
    "dut.connect(ser)\n",
    "\n",
    "dut.reset_chip()\n",
    "dut.reset_dpe()\n",
    "dut.ground_PIC()\n",
    "dut.power_on()"
   ]
  },
  {
   "cell_type": "code",
   "execution_count": 4,
   "metadata": {},
   "outputs": [
    {
     "data": {
      "text/plain": [
       "<matplotlib.colorbar.Colorbar at 0x26b31f53348>"
      ]
     },
     "execution_count": 4,
     "metadata": {},
     "output_type": "execute_result"
    },
    {
     "data": {
      "image/png": "[encoded data removed]",
      "text/plain": [
       "<Figure size 432x288 with 2 Axes>"
      ]
     },
     "metadata": {
      "needs_background": "light"
     },
     "output_type": "display_data"
    }
   ],
   "source": [
    "arr = 2\n",
    "numRows = 64\n",
    "numCols = 64\n",
    "vRead = 0.2\n",
    "vReadGate = 5.0\n",
    "gains = np.array([4, 3, 2, 1, 0])\n",
    "maxCurr = np.array([3.2e-3, 650e-6, 110e-6, 14.0e-6, 3.3e-6])\n",
    "Gmap1 = np.zeros((numRows, numCols))\n",
    "for rr in range(numRows):\n",
    "        for cc in range(numCols):\n",
    "            for gg in gains:\n",
    "                    #rdCurr = a0.read_single_int(vRead, vReadGate, array=arr, row=rr, col=cc, gain=gg)\n",
    "                    rdCurr = a0.pic_read_single(arr, rr, cc, Vread = vRead, skip_conf=False, gain=gg)\n",
    "                    if rdCurr < maxCurr[gg]:\n",
    "                        break\n",
    "            Gmap1[rr,cc] = 1e6*rdCurr/vRead\n",
    "plt.imshow(Gmap1)\n",
    "plt.colorbar()"
   ]
  },
  {
   "cell_type": "code",
   "execution_count": 5,
   "metadata": {},
   "outputs": [
    {
     "data": {
      "text/plain": [
       "<matplotlib.colorbar.Colorbar at 0x26b32017388>"
      ]
     },
     "execution_count": 5,
     "metadata": {},
     "output_type": "execute_result"
    },
    {
     "data": {
      "image/png": "[encoded data removed]",
      "text/plain": [
       "<Figure size 432x288 with 2 Axes>"
      ]
     },
     "metadata": {
      "needs_background": "light"
     },
     "output_type": "display_data"
    }
   ],
   "source": [
    "arr = 1\n",
    "numRows = 64\n",
    "numCols = 64\n",
    "vRead = 0.2\n",
    "vReadGate = 5.0\n",
    "gains = np.array([4, 3, 2, 1, 0])\n",
    "maxCurr = np.array([3.2e-3, 650e-6, 110e-6, 14.0e-6, 3.3e-6])\n",
    "Gmap1 = np.zeros((numRows, numCols))\n",
    "for rr in range(numRows):\n",
    "        for cc in range(numCols):\n",
    "            for gg in gains:\n",
    "                    #rdCurr = a0.read_single_int(vRead, vReadGate, array=arr, row=rr, col=cc, gain=gg)\n",
    "                    rdCurr = a0.pic_read_single(arr, rr, cc, Vread = vRead, skip_conf=False, gain=gg)\n",
    "                    if rdCurr < maxCurr[gg]:\n",
    "                        break\n",
    "            Gmap1[rr,cc] = 1e6*rdCurr/vRead\n",
    "plt.imshow(Gmap1)\n",
    "plt.colorbar()"
   ]
  },
  {
   "cell_type": "code",
   "execution_count": null,
   "metadata": {},
   "outputs": [],
   "source": [
    "arr = 0\n",
    "numRows = 64\n",
    "numCols = 64\n",
    "vRead = 0.2\n",
    "vReadGate = 5.0\n",
    "gains = np.array([4, 3, 2, 1, 0])\n",
    "maxCurr = np.array([3.2e-3, 650e-6, 110e-6, 14.0e-6, 3.3e-6])\n",
    "Gmap0 = np.zeros((numRows, numCols))\n",
    "for rr in range(numRows):\n",
    "        for cc in range(numCols):\n",
    "            for gg in gains:\n",
    "                    #rdCurr = a0.read_single_int(vRead, vReadGate, array=arr, row=rr, col=cc, gain=gg)\n",
    "                    rdCurr = a0.pic_read_single(arr, rr, cc, Vread = vRead, skip_conf=False, gain=gg)\n",
    "                    if rdCurr < maxCurr[gg]:\n",
    "                        break\n",
    "            Gmap0[rr,cc] = 1e6*rdCurr/vRead\n",
    "plt.imshow(Gmap0)\n",
    "plt.colorbar()"
   ]
  }
 ],
 "metadata": {
  "kernelspec": {
   "display_name": "Python 3",
   "language": "python",
   "name": "python3"
  },
  "language_info": {
   "codemirror_mode": {
    "name": "ipython",
    "version": 3
   },
   "file_extension": ".py",
   "mimetype": "text/x-python",
   "name": "python",
   "nbconvert_exporter": "python",
   "pygments_lexer": "ipython3",
   "version": "3.7.4"
  }
 },
 "nbformat": 4,
 "nbformat_minor": 4
}
