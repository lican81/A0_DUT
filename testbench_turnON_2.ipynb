{
 "cells": [
  {
   "cell_type": "code",
   "execution_count": 2,
   "metadata": {},
   "outputs": [
    {
     "name": "stdout",
     "output_type": "stream",
     "text": [
      "The autoreload extension is already loaded. To reload it, use:\n",
      "  %reload_ext autoreload\n"
     ]
    }
   ],
   "source": [
    "%load_ext autoreload\n",
    "%autoreload\n",
    "\n",
    "import dut_func as dut\n",
    "import serial\n",
    "import time\n",
    "import struct\n",
    "import numpy as np\n",
    "\n",
    "from misc import *\n",
    "\n",
    "# dut.drv.serUSB = 'COM19'\n",
    "drv = dut.drv\n",
    "\n",
    "ser = serial.Serial('COM6', 9600, timeout=1)\n",
    "dut.connect(ser)\n",
    "\n"
   ]
  },
  {
   "cell_type": "code",
   "execution_count": 20,
   "metadata": {},
   "outputs": [
    {
     "name": "stdout",
     "output_type": "stream",
     "text": [
      "Serial port disconnected.\n"
     ]
    }
   ],
   "source": [
    "dut.disconnect()"
   ]
  },
  {
   "cell_type": "code",
   "execution_count": 2,
   "metadata": {},
   "outputs": [],
   "source": [
    "dut.pads_defaults()"
   ]
  },
  {
   "cell_type": "code",
   "execution_count": 3,
   "metadata": {},
   "outputs": [
    {
     "name": "stdout",
     "output_type": "stream",
     "text": [
      "DAC initialized to a span from -5 V to 5 V\n"
     ]
    }
   ],
   "source": [
    "dut.dac_set('PLANE_VPP', 0.22)"
   ]
  },
  {
   "cell_type": "code",
   "execution_count": 3,
   "metadata": {},
   "outputs": [
    {
     "data": {
      "text/plain": [
       "array([0.        , 0.07413919, 0.07575092, 0.50124542, 5.14461538])"
      ]
     },
     "execution_count": 3,
     "metadata": {},
     "output_type": "execute_result"
    }
   ],
   "source": [
    "voltages = drv.pic_adc_read() *2\n",
    "voltages"
   ]
  },
  {
   "cell_type": "markdown",
   "metadata": {},
   "source": [
    "Set up various DAC channels"
   ]
  },
  {
   "cell_type": "code",
   "execution_count": 3,
   "metadata": {},
   "outputs": [
    {
     "name": "stdout",
     "output_type": "stream",
     "text": [
      "DAC initialized to a span from -5 V to 5 V\n"
     ]
    }
   ],
   "source": [
    "dut.dac_set('DAC_VREF_HI_CMP', 3.92)"
   ]
  },
  {
   "cell_type": "code",
   "execution_count": 4,
   "metadata": {},
   "outputs": [],
   "source": [
    "dut.dac_set('P_VREF_SH', 2.42)"
   ]
  },
  {
   "cell_type": "code",
   "execution_count": 5,
   "metadata": {},
   "outputs": [],
   "source": [
    "dut.dac_set('P_VAGC_1', 3.9)"
   ]
  },
  {
   "cell_type": "code",
   "execution_count": 6,
   "metadata": {},
   "outputs": [],
   "source": [
    "dut.dac_set('P_VAGC_0', 1)"
   ]
  },
  {
   "cell_type": "code",
   "execution_count": 7,
   "metadata": {},
   "outputs": [],
   "source": [
    "dut.dac_set('P_TVDD', 4.92)"
   ]
  },
  {
   "cell_type": "code",
   "execution_count": 8,
   "metadata": {},
   "outputs": [],
   "source": [
    "dut.dac_set('P_TVDD', 1.)"
   ]
  },
  {
   "cell_type": "code",
   "execution_count": 9,
   "metadata": {},
   "outputs": [],
   "source": [
    "dut.dac_set('P_VREF_TIA', 0.42)"
   ]
  },
  {
   "cell_type": "code",
   "execution_count": 10,
   "metadata": {},
   "outputs": [],
   "source": [
    "dut.dac_set('DAC_VREF_ARRAY', 0.42)"
   ]
  },
  {
   "cell_type": "code",
   "execution_count": 11,
   "metadata": {},
   "outputs": [],
   "source": [
    "dut.dac_set('DAC_VP_PAD', 2.5)"
   ]
  },
  {
   "cell_type": "code",
   "execution_count": 12,
   "metadata": {},
   "outputs": [],
   "source": [
    "dut.dac_set('P_AMP_VREF', 2.5)"
   ]
  },
  {
   "cell_type": "code",
   "execution_count": 13,
   "metadata": {},
   "outputs": [],
   "source": [
    "dut.dac_set('P_AMP_INPUT', 2.5)"
   ]
  },
  {
   "cell_type": "markdown",
   "metadata": {},
   "source": [
    "________________"
   ]
  },
  {
   "cell_type": "markdown",
   "metadata": {},
   "source": [
    "Assert Power GOOD"
   ]
  },
  {
   "cell_type": "code",
   "execution_count": 14,
   "metadata": {},
   "outputs": [],
   "source": [
    "drv.gpio_pin_set(*PIC_PINS['PWR_GOOD'])"
   ]
  },
  {
   "cell_type": "markdown",
   "metadata": {},
   "source": [
    "Pulse RESET chip with a rising edge"
   ]
  },
  {
   "cell_type": "code",
   "execution_count": 15,
   "metadata": {},
   "outputs": [],
   "source": [
    "portName, pinPos = PIC_PINS['NRESET_FULL_CHIP']\n",
    "drv.gpio_pin_reset(portName, pinPos)\n",
    "time.sleep(0.1) # want to delay 1us\n",
    "drv.gpio_pin_set(portName, pinPos)"
   ]
  },
  {
   "cell_type": "markdown",
   "metadata": {},
   "source": [
    "Send a scan chain data"
   ]
  },
  {
   "cell_type": "code",
   "execution_count": 16,
   "metadata": {},
   "outputs": [],
   "source": [
    "data = bytes([0x10, 0x20, 0x0c, 0x10, 0x20, 0x01, 0x02])\n",
    "drv.spi_serial_write(2, data)"
   ]
  },
  {
   "cell_type": "code",
   "execution_count": 18,
   "metadata": {},
   "outputs": [
    {
     "name": "stdout",
     "output_type": "stream",
     "text": [
      "b'\\xc10L\\x13\\x04\\xc10L\\x13\\x04\\xc10L\\x13\\x04\\xc10L\\x13\\x04\\xc10L\\x13\\x04\\xc10L\\x13\\x04\\xc10L\\x13\\x04\\xc10L\\x13\\x04\\xc10L\\x13\\x04\\xc10L\\x13\\x04\\xc10L\\x13\\x04\\xc10L\\x13\\x04\\xc10L\\x13\\x04\\xc10L\\x13\\x04\\xc10L\\x13\\x04\\xc10L\\x13\\x04\\xc10L\\x13\\x04\\xc10L\\x13\\x04\\xc10L\\x13\\x04\\xc10L\\x13\\x04\\xc10L\\x13\\x04\\xc10L\\x13\\x04\\xc10L\\x13\\x04\\xc10L\\x13\\x04'\n"
     ]
    }
   ],
   "source": [
    "# TIA SCAN IN OP AMPS ENABLED, No COMPENSATION, 30k gain\n",
    "data = bytes([0b1100_0001, 0b0011_0000, 0b0100_1100, 0b0001_0011, 0b0000_0100]*24)\n",
    "print(data)\n",
    "drv.spi_serial_write(1, data)"
   ]
  },
  {
   "cell_type": "code",
   "execution_count": 173,
   "metadata": {},
   "outputs": [],
   "source": [
    "for _ in range(20):\n",
    "    data = bytes([0x10, 0x20, 0x0c, 0x00, 0x20, 0x01, 0x02] * 20)\n",
    "    drv.spi_serial_write(1, data)"
   ]
  },
  {
   "cell_type": "code",
   "execution_count": 89,
   "metadata": {},
   "outputs": [
    {
     "data": {
      "text/plain": [
       "b'\\x10 \\x0c\\x00 \\x01\\x02\\x10 \\x0c\\x00 \\x01\\x02\\x10 \\x0c\\x00 \\x01\\x02\\x10 \\x0c\\x00 \\x01\\x02\\x10 \\x0c\\x00 \\x01\\x02\\x10 \\x0c\\x00 \\x01\\x02\\x10 \\x0c\\x00 \\x01\\x02\\x10 \\x0c\\x00 \\x01\\x02\\x10 \\x0c\\x00 \\x01\\x02\\x10 \\x0c\\x00 \\x01\\x02\\x10 \\x0c\\x00 \\x01\\x02\\x10 \\x0c\\x00 \\x01\\x02\\x10 \\x0c\\x00 \\x01\\x02\\x10 \\x0c\\x00 \\x01\\x02\\x10 \\x0c\\x00 \\x01\\x02\\x10 \\x0c\\x00 \\x01\\x02\\x10 \\x0c\\x00 \\x01\\x02\\x10 \\x0c\\x00 \\x01\\x02\\x10 \\x0c\\x00 \\x01\\x02\\x10 \\x0c\\x00 \\x01\\x02'"
      ]
     },
     "execution_count": 89,
     "metadata": {},
     "output_type": "execute_result"
    }
   ],
   "source": [
    "data"
   ]
  },
  {
   "cell_type": "code",
   "execution_count": 20,
   "metadata": {},
   "outputs": [
    {
     "name": "stdout",
     "output_type": "stream",
     "text": [
      "Serial port disconnected.\n"
     ]
    }
   ],
   "source": [
    "dut.disconnect()"
   ]
  },
  {
   "cell_type": "code",
   "execution_count": 242,
   "metadata": {},
   "outputs": [
    {
     "name": "stdout",
     "output_type": "stream",
     "text": [
      "DAC initialized to a span from -5 V to 5 V\n"
     ]
    }
   ],
   "source": [
    "# NOTE: first power on requires physical switch actions on DUT board as well as PIC commands\n",
    "\n",
    "# FIRST: SWITCH microntroller VDD power ON (i.e. power up microcontroller)\n",
    "time.sleep(1) # want to delay 1us\n",
    "drv.gpio_pin_reset(*PIC_PINS['NRESET_FULL_CHIP'])\n",
    "drv.gpio_pin_reset(*PIC_PINS['NRESET_DPE_ENGINE'])\n",
    "dut.pads_defaults()\n",
    "#dut.dac_init()"
   ]
  },
  {
   "cell_type": "code",
   "execution_count": 19,
   "metadata": {},
   "outputs": [],
   "source": [
    "# Control block scan chain for power up LEAVE ALONE\n",
    "data = bytes([0b000_10000, 0b0000_0010 , 0b0000_1100,0b0001_0000, 0b0010_0000, 0b00000001, 0b00000010])\n",
    "drv.spi_serial_write(2, data) # addr 1 here means SERIAL_CHAIN_SEL0 is 1 and _SEL1 is 0"
   ]
  },
  {
   "cell_type": "code",
   "execution_count": 4,
   "metadata": {},
   "outputs": [],
   "source": [
    "drv.clk_start('CK_ARRAY')\n",
    "drv.clk_start('ADC_CK')"
   ]
  },
  {
   "cell_type": "code",
   "execution_count": 24,
   "metadata": {},
   "outputs": [],
   "source": [
    "drv.gpio_pin_reset(*PIC_PINS['NRESET_DPE_ENGINE'])\n",
    "time.sleep(1e-6) # want to delay 1us\n",
    "drv.gpio_pin_set(*PIC_PINS['NRESET_DPE_ENGINE'])"
   ]
  },
  {
   "cell_type": "code",
   "execution_count": 86,
   "metadata": {},
   "outputs": [],
   "source": [
    "drv.gpio_pin_set(*PIC_PINS['DPE_EXT_OVERRIDE_EN'])"
   ]
  },
  {
   "cell_type": "code",
   "execution_count": 87,
   "metadata": {},
   "outputs": [],
   "source": [
    "drv.gpio_pin_set(*PIC_PINS['DPE_EXT_SH'])"
   ]
  },
  {
   "cell_type": "code",
   "execution_count": 86,
   "metadata": {},
   "outputs": [],
   "source": [
    "drv.gpio_pin_set(*PIC_PINS['NFORCE_SAFE0'])\n",
    "drv.gpio_pin_set(*PIC_PINS['NFORCE_SAFE1'])\n",
    "drv.gpio_pin_set(*PIC_PINS['NFORCE_SAFE2'])"
   ]
  },
  {
   "cell_type": "code",
   "execution_count": 80,
   "metadata": {},
   "outputs": [],
   "source": [
    "drv.gpio_pin_set(*PIC_PINS['PWR_GOOD'])"
   ]
  },
  {
   "cell_type": "code",
   "execution_count": 85,
   "metadata": {},
   "outputs": [],
   "source": [
    "drv.gpio_pin_reset(*PIC_PINS['NFORCE_SAFE0'])\n",
    "drv.gpio_pin_reset(*PIC_PINS['NFORCE_SAFE1'])\n",
    "drv.gpio_pin_reset(*PIC_PINS['NFORCE_SAFE2'])"
   ]
  },
  {
   "cell_type": "code",
   "execution_count": 25,
   "metadata": {},
   "outputs": [],
   "source": [
    "drv.gpio_pin_reset(*PIC_PINS['DPE_EXT_OVERRIDE_EN'])"
   ]
  },
  {
   "cell_type": "code",
   "execution_count": 26,
   "metadata": {},
   "outputs": [],
   "source": [
    "drv.gpio_pin_reset(*PIC_PINS['DPE_EXT_SH'])"
   ]
  },
  {
   "cell_type": "code",
   "execution_count": 27,
   "metadata": {
    "collapsed": true,
    "jupyter": {
     "outputs_hidden": true
    }
   },
   "outputs": [
    {
     "ename": "KeyboardInterrupt",
     "evalue": "",
     "output_type": "error",
     "traceback": [
      "\u001b[1;31m---------------------------------------------------------------------------\u001b[0m",
      "\u001b[1;31mKeyboardInterrupt\u001b[0m                         Traceback (most recent call last)",
      "\u001b[1;32m<ipython-input-27-7b3e0b671500>\u001b[0m in \u001b[0;36m<module>\u001b[1;34m\u001b[0m\n\u001b[0;32m     13\u001b[0m \u001b[1;31m# drv.gpio_pin_reset(*PIC_PINS['DPE_EXT_SH'])\u001b[0m\u001b[1;33m\u001b[0m\u001b[1;33m\u001b[0m\u001b[1;33m\u001b[0m\u001b[0m\n\u001b[0;32m     14\u001b[0m \u001b[1;32mwhile\u001b[0m \u001b[1;32mTrue\u001b[0m\u001b[1;33m:\u001b[0m\u001b[1;33m\u001b[0m\u001b[1;33m\u001b[0m\u001b[0m\n\u001b[1;32m---> 15\u001b[1;33m     \u001b[1;32mif\u001b[0m \u001b[0mdrv\u001b[0m\u001b[1;33m.\u001b[0m\u001b[0mgpio_pin_is_high\u001b[0m\u001b[1;33m(\u001b[0m\u001b[1;33m*\u001b[0m\u001b[0mPIC_PINS\u001b[0m\u001b[1;33m[\u001b[0m\u001b[1;34m'ADC_DONE'\u001b[0m\u001b[1;33m]\u001b[0m\u001b[1;33m)\u001b[0m\u001b[1;33m:\u001b[0m\u001b[1;33m\u001b[0m\u001b[1;33m\u001b[0m\u001b[0m\n\u001b[0m\u001b[0;32m     16\u001b[0m         \u001b[1;32mbreak\u001b[0m\u001b[1;33m\u001b[0m\u001b[1;33m\u001b[0m\u001b[0m\n\u001b[0;32m     17\u001b[0m \u001b[1;31m#download_fifo()\u001b[0m\u001b[1;33m\u001b[0m\u001b[1;33m\u001b[0m\u001b[1;33m\u001b[0m\u001b[0m\n",
      "\u001b[1;32m~\\Documents\\GitHub\\A0_DUT\\drv_gpio.py\u001b[0m in \u001b[0;36mgpio_pin_is_high\u001b[1;34m(portName, pinPos)\u001b[0m\n\u001b[0;32m    122\u001b[0m \u001b[1;32mdef\u001b[0m \u001b[0mgpio_pin_is_high\u001b[0m\u001b[1;33m(\u001b[0m\u001b[0mportName\u001b[0m\u001b[1;33m,\u001b[0m \u001b[0mpinPos\u001b[0m\u001b[1;33m)\u001b[0m\u001b[1;33m:\u001b[0m\u001b[1;33m\u001b[0m\u001b[1;33m\u001b[0m\u001b[0m\n\u001b[0;32m    123\u001b[0m \u001b[1;33m\u001b[0m\u001b[0m\n\u001b[1;32m--> 124\u001b[1;33m     \u001b[0mportValue\u001b[0m \u001b[1;33m=\u001b[0m \u001b[0mgpio_port_read\u001b[0m\u001b[1;33m(\u001b[0m\u001b[0mportName\u001b[0m\u001b[1;33m)\u001b[0m\u001b[1;33m\u001b[0m\u001b[1;33m\u001b[0m\u001b[0m\n\u001b[0m\u001b[0;32m    125\u001b[0m     \u001b[1;31m# portValue = 0b1010_1111\u001b[0m\u001b[1;33m\u001b[0m\u001b[1;33m\u001b[0m\u001b[1;33m\u001b[0m\u001b[0m\n\u001b[0;32m    126\u001b[0m     \u001b[1;32mreturn\u001b[0m \u001b[1;33m(\u001b[0m\u001b[1;36m1\u001b[0m \u001b[1;33m<<\u001b[0m \u001b[0mpinPos\u001b[0m\u001b[1;33m)\u001b[0m \u001b[1;33m&\u001b[0m \u001b[0mportValue\u001b[0m \u001b[1;33m!=\u001b[0m \u001b[1;36m0\u001b[0m\u001b[1;33m\u001b[0m\u001b[1;33m\u001b[0m\u001b[0m\n",
      "\u001b[1;32m~\\Documents\\GitHub\\A0_DUT\\drv_gpio.py\u001b[0m in \u001b[0;36mgpio_port_read\u001b[1;34m(portName)\u001b[0m\n\u001b[0;32m     52\u001b[0m               portName.encode() + b'\\0')\n\u001b[0;32m     53\u001b[0m \u001b[1;33m\u001b[0m\u001b[0m\n\u001b[1;32m---> 54\u001b[1;33m     \u001b[0mvalue\u001b[0m \u001b[1;33m=\u001b[0m \u001b[0mser\u001b[0m\u001b[1;33m.\u001b[0m\u001b[0mread\u001b[0m\u001b[1;33m(\u001b[0m\u001b[1;36m4\u001b[0m\u001b[1;33m)\u001b[0m\u001b[1;33m\u001b[0m\u001b[1;33m\u001b[0m\u001b[0m\n\u001b[0m\u001b[0;32m     55\u001b[0m     \u001b[0mvalue\u001b[0m \u001b[1;33m=\u001b[0m \u001b[0mstruct\u001b[0m\u001b[1;33m.\u001b[0m\u001b[0munpack\u001b[0m\u001b[1;33m(\u001b[0m\u001b[1;34m'<I'\u001b[0m\u001b[1;33m,\u001b[0m \u001b[0mvalue\u001b[0m\u001b[1;33m)\u001b[0m\u001b[1;33m\u001b[0m\u001b[1;33m\u001b[0m\u001b[0m\n\u001b[0;32m     56\u001b[0m \u001b[1;33m\u001b[0m\u001b[0m\n",
      "\u001b[1;32mc:\\users\\ingemi\\.venvs\\py37\\lib\\site-packages\\serial\\serialwin32.py\u001b[0m in \u001b[0;36mread\u001b[1;34m(self, size)\u001b[0m\n\u001b[0;32m    267\u001b[0m             \u001b[1;32mraise\u001b[0m \u001b[0mportNotOpenError\u001b[0m\u001b[1;33m\u001b[0m\u001b[1;33m\u001b[0m\u001b[0m\n\u001b[0;32m    268\u001b[0m         \u001b[1;32mif\u001b[0m \u001b[0msize\u001b[0m \u001b[1;33m>\u001b[0m \u001b[1;36m0\u001b[0m\u001b[1;33m:\u001b[0m\u001b[1;33m\u001b[0m\u001b[1;33m\u001b[0m\u001b[0m\n\u001b[1;32m--> 269\u001b[1;33m             \u001b[0mwin32\u001b[0m\u001b[1;33m.\u001b[0m\u001b[0mResetEvent\u001b[0m\u001b[1;33m(\u001b[0m\u001b[0mself\u001b[0m\u001b[1;33m.\u001b[0m\u001b[0m_overlapped_read\u001b[0m\u001b[1;33m.\u001b[0m\u001b[0mhEvent\u001b[0m\u001b[1;33m)\u001b[0m\u001b[1;33m\u001b[0m\u001b[1;33m\u001b[0m\u001b[0m\n\u001b[0m\u001b[0;32m    270\u001b[0m             \u001b[0mflags\u001b[0m \u001b[1;33m=\u001b[0m \u001b[0mwin32\u001b[0m\u001b[1;33m.\u001b[0m\u001b[0mDWORD\u001b[0m\u001b[1;33m(\u001b[0m\u001b[1;33m)\u001b[0m\u001b[1;33m\u001b[0m\u001b[1;33m\u001b[0m\u001b[0m\n\u001b[0;32m    271\u001b[0m             \u001b[0mcomstat\u001b[0m \u001b[1;33m=\u001b[0m \u001b[0mwin32\u001b[0m\u001b[1;33m.\u001b[0m\u001b[0mCOMSTAT\u001b[0m\u001b[1;33m(\u001b[0m\u001b[1;33m)\u001b[0m\u001b[1;33m\u001b[0m\u001b[1;33m\u001b[0m\u001b[0m\n",
      "\u001b[1;31mKeyboardInterrupt\u001b[0m: "
     ]
    }
   ],
   "source": [
    "dut.pads_defaults()\n",
    "drv.gpio_pin_set(*PIC_PINS['NFORCE_SAFE2'])\n",
    "drv.gpio_pin_set(*PIC_PINS['NFORCE_SAFE1'])\n",
    "drv.gpio_pin_set(*PIC_PINS['NFORCE_SAFE0'])\n",
    "# dac_set('P_ADC_EXT_TEST_IN', 1.5)       # voltage = 1.5 as an example, I wonder whether we should put it as a parameter of the function\n",
    "time.sleep(1e-6)        # delay(t_sel_ext or t_ext_inp), min = 2CK\n",
    "drv.gpio_pin_set(*PIC_PINS['ADC_SEL_EXTERNAL'])\n",
    "#time.sleep(1e-6)       # delay(t_en_overide_sh), min = 0CK\n",
    "drv.gpio_pin_set(*PIC_PINS['DPE_EXT_OVERRIDE_EN'])\n",
    "time.sleep(1e-6)        # delay(t_fire_sh), min = 3CK\n",
    "drv.gpio_pin_set(*PIC_PINS['DPE_EXT_SH'])\n",
    "time.sleep(1e-6)        # delay(3 P_ADC_CK periods)\n",
    "# drv.gpio_pin_reset(*PIC_PINS['DPE_EXT_SH'])\n",
    "while True:\n",
    "    if drv.gpio_pin_is_high(*PIC_PINS['ADC_DONE']):\n",
    "        break\n",
    "#download_fifo()\n",
    "dut.pads_defaults()\n",
    "#reset_dpe()"
   ]
  },
  {
   "cell_type": "code",
   "execution_count": 32,
   "metadata": {},
   "outputs": [],
   "source": [
    "dut.pads_defaults()"
   ]
  },
  {
   "cell_type": "code",
   "execution_count": 29,
   "metadata": {},
   "outputs": [],
   "source": [
    "drv.gpio_pin_reset(*PIC_PINS['NRESET_FULL_CHIP'])"
   ]
  },
  {
   "cell_type": "code",
   "execution_count": 46,
   "metadata": {},
   "outputs": [],
   "source": [
    "drv.gpio_pin_set(*PIC_PINS['NRESET_FULL_CHIP'])"
   ]
  },
  {
   "cell_type": "code",
   "execution_count": 31,
   "metadata": {},
   "outputs": [],
   "source": [
    "drv.gpio_pin_reset(*PIC_PINS['NRESET_DPE_ENGINE'])"
   ]
  },
  {
   "cell_type": "markdown",
   "metadata": {},
   "source": [
    "WEDNESDAY ADC DONE TEST AND DOCUMENTATION\n",
    "\n",
    "EXECUTE IN ORDER"
   ]
  },
  {
   "cell_type": "code",
   "execution_count": 5,
   "metadata": {},
   "outputs": [
    {
     "name": "stdout",
     "output_type": "stream",
     "text": [
      "DAC initialized to a span from -5 V to 5 V\n"
     ]
    }
   ],
   "source": [
    "dut.dac_init()"
   ]
  },
  {
   "cell_type": "code",
   "execution_count": 234,
   "metadata": {},
   "outputs": [],
   "source": [
    "drv.gpio_pin_reset(*PIC_PINS['PWR_GOOD'])"
   ]
  },
  {
   "cell_type": "code",
   "execution_count": 235,
   "metadata": {},
   "outputs": [],
   "source": [
    "drv.gpio_pin_set(*PIC_PINS['PWR_GOOD'])"
   ]
  },
  {
   "cell_type": "code",
   "execution_count": 236,
   "metadata": {},
   "outputs": [],
   "source": [
    "dut.dac_set('PLANE_VPP', 0.22)"
   ]
  },
  {
   "cell_type": "code",
   "execution_count": 237,
   "metadata": {},
   "outputs": [],
   "source": [
    "dut.dac_set('DAC_VREF_HI_CMP', 3.92)"
   ]
  },
  {
   "cell_type": "code",
   "execution_count": 238,
   "metadata": {},
   "outputs": [],
   "source": [
    "dut.dac_set('DAC_VREF_ARRAY', 0.42)"
   ]
  },
  {
   "cell_type": "code",
   "execution_count": 239,
   "metadata": {},
   "outputs": [],
   "source": [
    "dut.dac_set('P_VREF_SH', 2.42)"
   ]
  },
  {
   "cell_type": "code",
   "execution_count": 240,
   "metadata": {},
   "outputs": [],
   "source": [
    "dut.dac_set('DAC_VP_PAD', 2.42)"
   ]
  },
  {
   "cell_type": "code",
   "execution_count": 241,
   "metadata": {},
   "outputs": [],
   "source": [
    "dut.dac_set('P_VAGC_1', 3.9)"
   ]
  },
  {
   "cell_type": "code",
   "execution_count": 242,
   "metadata": {},
   "outputs": [],
   "source": [
    "dut.dac_set('P_VAGC_0', 1)"
   ]
  },
  {
   "cell_type": "code",
   "execution_count": 243,
   "metadata": {},
   "outputs": [],
   "source": [
    "dut.dac_set('P_TVDD', 4.92)"
   ]
  },
  {
   "cell_type": "code",
   "execution_count": 244,
   "metadata": {},
   "outputs": [],
   "source": [
    "dut.dac_set('P_VREF_TIA', 0.42)"
   ]
  },
  {
   "cell_type": "code",
   "execution_count": 245,
   "metadata": {},
   "outputs": [],
   "source": [
    "dut.dac_set('P_ADC_EXT_TEST_IN', 2.5)"
   ]
  },
  {
   "cell_type": "markdown",
   "metadata": {},
   "source": [
    "FOR ADC OPERATION, PROCEED FROM HERE (07/24/2019) 16:40pm"
   ]
  },
  {
   "cell_type": "code",
   "execution_count": 259,
   "metadata": {},
   "outputs": [],
   "source": [
    "drv.gpio_pin_reset(*PIC_PINS['NRESET_FULL_CHIP'])\n",
    "drv.gpio_pin_reset(*PIC_PINS['NRESET_DPE_ENGINE'])\n",
    "dut.pads_defaults()"
   ]
  },
  {
   "cell_type": "code",
   "execution_count": 247,
   "metadata": {},
   "outputs": [],
   "source": [
    "drv.gpio_pin_set(*PIC_PINS['NRESET_FULL_CHIP'])\n"
   ]
  },
  {
   "cell_type": "code",
   "execution_count": 248,
   "metadata": {},
   "outputs": [],
   "source": [
    "# Control block scan chain for power up LEAVE ALONE\n",
    "data = bytes([0b000_10000, 0b0000_0010 , 0b0000_1100,0b0001_0000, 0b0010_0000, 0b00000001, 0b00000010])\n",
    "drv.spi_serial_write(2, data) # addr 1 here means SERIAL_CHAIN_SEL0 is 1 and _SEL1 is 0"
   ]
  },
  {
   "cell_type": "code",
   "execution_count": 249,
   "metadata": {},
   "outputs": [],
   "source": [
    "drv.gpio_pin_set(*PIC_PINS['NRESET_DPE_ENGINE'])"
   ]
  },
  {
   "cell_type": "code",
   "execution_count": 250,
   "metadata": {},
   "outputs": [
    {
     "name": "stdout",
     "output_type": "stream",
     "text": [
      "b'\\xc10L\\x13\\x04\\xc10L\\x13\\x04\\xc10L\\x13\\x04\\xc10L\\x13\\x04\\xc10L\\x13\\x04\\xc10L\\x13\\x04\\xc10L\\x13\\x04\\xc10L\\x13\\x04\\xc10L\\x13\\x04\\xc10L\\x13\\x04\\xc10L\\x13\\x04\\xc10L\\x13\\x04\\xc10L\\x13\\x04\\xc10L\\x13\\x04\\xc10L\\x13\\x04\\xc10L\\x13\\x04\\xc10L\\x13\\x04\\xc10L\\x13\\x04\\xc10L\\x13\\x04\\xc10L\\x13\\x04\\xc10L\\x13\\x04\\xc10L\\x13\\x04\\xc10L\\x13\\x04\\xc10L\\x13\\x04'\n",
      "b'\\xc10L\\x13\\x04\\xc10L\\x13\\x04\\xc10L\\x13\\x04\\xc10L\\x13\\x04\\xc10L\\x13\\x04\\xc10L\\x13\\x04\\xc10L\\x13\\x04\\xc10L\\x13\\x04\\xc10L\\x13\\x04\\xc10L\\x13\\x04\\xc10L\\x13\\x04\\xc10L\\x13\\x04\\xc10L\\x13\\x04\\xc10L\\x13\\x04\\xc10L\\x13\\x04\\xc10L\\x13\\x04\\xc10L\\x13\\x04\\xc10L\\x13\\x04\\xc10L\\x13\\x04\\xc10L\\x13\\x04\\xc10L\\x13\\x04\\xc10L\\x13\\x04\\xc10L\\x13\\x04\\xc10L\\x13\\x04'\n"
     ]
    }
   ],
   "source": [
    "# TIA SCAN IN OP AMPS ENABLED, No COMPENSATION, 30k gain\n",
    "data = bytes([0b1100_0001, 0b0011_0000, 0b0100_1100, 0b0001_0011, 0b0000_0100]*24)\n",
    "print(data)\n",
    "drv.spi_serial_write(0, data)\n",
    "# TIA SCAN IN OP AMPS ENABLED, No COMPENSATION, 30k gain\n",
    "data = bytes([0b1100_0001, 0b0011_0000, 0b0100_1100, 0b0001_0011, 0b0000_0100]*24)\n",
    "print(data)\n",
    "drv.spi_serial_write(1, data)"
   ]
  },
  {
   "cell_type": "code",
   "execution_count": 251,
   "metadata": {},
   "outputs": [],
   "source": [
    "drv.gpio_pin_set(*PIC_PINS['UPDATE_TIA_CONF'])"
   ]
  },
  {
   "cell_type": "code",
   "execution_count": 252,
   "metadata": {},
   "outputs": [],
   "source": [
    "drv.gpio_pin_reset(*PIC_PINS['UPDATE_TIA_CONF'])"
   ]
  },
  {
   "cell_type": "code",
   "execution_count": 110,
   "metadata": {},
   "outputs": [],
   "source": []
  },
  {
   "cell_type": "code",
   "execution_count": 253,
   "metadata": {},
   "outputs": [],
   "source": [
    "drv.gpio_pin_set(*PIC_PINS['ARRAY_EN<0>'])\n",
    "drv.gpio_pin_set(*PIC_PINS['ARRAY_EN<1>'])\n",
    "drv.gpio_pin_set(*PIC_PINS['ARRAY_EN<2>'])"
   ]
  },
  {
   "cell_type": "code",
   "execution_count": 254,
   "metadata": {},
   "outputs": [],
   "source": [
    "drv.gpio_pin_set(*PIC_PINS['NFORCE_SAFE0'])\n",
    "drv.gpio_pin_set(*PIC_PINS['NFORCE_SAFE1'])\n",
    "drv.gpio_pin_set(*PIC_PINS['NFORCE_SAFE2'])"
   ]
  },
  {
   "cell_type": "code",
   "execution_count": 255,
   "metadata": {},
   "outputs": [],
   "source": [
    "drv.gpio_pin_set(*PIC_PINS['ADC_SEL_EXTERNAL'])"
   ]
  },
  {
   "cell_type": "code",
   "execution_count": 256,
   "metadata": {},
   "outputs": [],
   "source": [
    "drv.gpio_pin_set(*PIC_PINS['DPE_EXT_OVERRIDE_EN'])"
   ]
  },
  {
   "cell_type": "code",
   "execution_count": 257,
   "metadata": {},
   "outputs": [],
   "source": [
    "drv.gpio_pin_set(*PIC_PINS['DPE_EXT_SH'])"
   ]
  },
  {
   "cell_type": "code",
   "execution_count": 180,
   "metadata": {},
   "outputs": [],
   "source": [
    "drv.gpio_pin_reset(*PIC_PINS['DPE_EXT_SH'])"
   ]
  },
  {
   "cell_type": "code",
   "execution_count": 39,
   "metadata": {},
   "outputs": [],
   "source": [
    "drv.gpio_pin_reset(*PIC_PINS['NFORCE_SAFE0'])\n",
    "drv.gpio_pin_reset(*PIC_PINS['NFORCE_SAFE1'])\n",
    "drv.gpio_pin_reset(*PIC_PINS['NFORCE_SAFE2'])"
   ]
  },
  {
   "cell_type": "code",
   "execution_count": 38,
   "metadata": {},
   "outputs": [],
   "source": [
    "dut.pads_defaults()"
   ]
  },
  {
   "cell_type": "code",
   "execution_count": 182,
   "metadata": {},
   "outputs": [],
   "source": [
    "drv.gpio_pin_set(*PIC_PINS['NRESET_DPE_ENGINE'])"
   ]
  },
  {
   "cell_type": "markdown",
   "metadata": {},
   "source": [
    "BEGIN FIFO TESTING"
   ]
  },
  {
   "cell_type": "code",
   "execution_count": 223,
   "metadata": {},
   "outputs": [],
   "source": [
    "drv.gpio_pin_reset(*PIC_PINS['ADC_FIFO_EN<0>'])\n",
    "drv.gpio_pin_set(*PIC_PINS['ADC_FIFO_EN<1>'])\n",
    "drv.gpio_pin_reset(*PIC_PINS['ADC_FIFO_EN<2>'])\n",
    "drv.gpio_pin_reset(*PIC_PINS['ADC_FIFO_EN<3>'])\n"
   ]
  },
  {
   "cell_type": "code",
   "execution_count": 230,
   "metadata": {},
   "outputs": [],
   "source": [
    "drv.gpio_pin_set(*PIC_PINS['ADC_FIFO_ADVANCE'])"
   ]
  },
  {
   "cell_type": "code",
   "execution_count": 231,
   "metadata": {},
   "outputs": [],
   "source": [
    "drv.gpio_pin_reset(*PIC_PINS['ADC_FIFO_ADVANCE'])"
   ]
  },
  {
   "cell_type": "markdown",
   "metadata": {},
   "source": [
    "LOAD VECTORS"
   ]
  },
  {
   "cell_type": "code",
   "execution_count": 232,
   "metadata": {},
   "outputs": [],
   "source": [
    "drv.gpio_pin_reset(*PIC_PINS['NRESET_FULL_CHIP'])"
   ]
  },
  {
   "cell_type": "code",
   "execution_count": 233,
   "metadata": {},
   "outputs": [],
   "source": [
    "drv.gpio_pin_set(*PIC_PINS['NRESET_FULL_CHIP'])"
   ]
  },
  {
   "cell_type": "code",
   "execution_count": 129,
   "metadata": {},
   "outputs": [],
   "source": [
    "# Control block scan chain for power up LEAVE ALONE\n",
    "data = bytes([0b000_10000, 0b0000_0010 , 0b0000_1100,0b0001_0000, 0b0010_0000, 0b00000001, 0b00000010])\n",
    "drv.spi_serial_write(2, data) # addr 1 here means SERIAL_CHAIN_SEL0 is 1 and _SEL1 is 0"
   ]
  },
  {
   "cell_type": "code",
   "execution_count": 130,
   "metadata": {},
   "outputs": [],
   "source": [
    "drv.gpio_pin_reset(*PIC_PINS['NRESET_DPE_ENGINE'])"
   ]
  },
  {
   "cell_type": "code",
   "execution_count": 131,
   "metadata": {},
   "outputs": [],
   "source": [
    "drv.gpio_pin_set(*PIC_PINS['NRESET_DPE_ENGINE'])"
   ]
  },
  {
   "cell_type": "code",
   "execution_count": 138,
   "metadata": {},
   "outputs": [
    {
     "name": "stdout",
     "output_type": "stream",
     "text": [
      "b'\\xc10L\\x13\\x04\\xc10L\\x13\\x04\\xc10L\\x13\\x04\\xc10L\\x13\\x04\\xc10L\\x13\\x04\\xc10L\\x13\\x04\\xc10L\\x13\\x04\\xc10L\\x13\\x04\\xc10L\\x13\\x04\\xc10L\\x13\\x04\\xc10L\\x13\\x04\\xc10L\\x13\\x04\\xc10L\\x13\\x04\\xc10L\\x13\\x04\\xc10L\\x13\\x04\\xc10L\\x13\\x04\\xc10L\\x13\\x04\\xc10L\\x13\\x04\\xc10L\\x13\\x04\\xc10L\\x13\\x04\\xc10L\\x13\\x04\\xc10L\\x13\\x04\\xc10L\\x13\\x04\\xc10L\\x13\\x04'\n",
      "b'\\xc10L\\x13\\x04\\xc10L\\x13\\x04\\xc10L\\x13\\x04\\xc10L\\x13\\x04\\xc10L\\x13\\x04\\xc10L\\x13\\x04\\xc10L\\x13\\x04\\xc10L\\x13\\x04\\xc10L\\x13\\x04\\xc10L\\x13\\x04\\xc10L\\x13\\x04\\xc10L\\x13\\x04\\xc10L\\x13\\x04\\xc10L\\x13\\x04\\xc10L\\x13\\x04\\xc10L\\x13\\x04\\xc10L\\x13\\x04\\xc10L\\x13\\x04\\xc10L\\x13\\x04\\xc10L\\x13\\x04\\xc10L\\x13\\x04\\xc10L\\x13\\x04\\xc10L\\x13\\x04\\xc10L\\x13\\x04'\n"
     ]
    }
   ],
   "source": [
    "# TIA SCAN IN OP AMPS ENABLED, No COMPENSATION, 30k gain\n",
    "data = bytes([0b1100_0001, 0b0011_0000, 0b0100_1100, 0b0001_0011, 0b0000_0100]*24)\n",
    "print(data)\n",
    "drv.spi_serial_write(0, data)\n",
    "# TIA SCAN IN OP AMPS ENABLED, No COMPENSATION, 30k gain\n",
    "data = bytes([0b1100_0001, 0b0011_0000, 0b0100_1100, 0b0001_0011, 0b0000_0100]*24)\n",
    "print(data)\n",
    "drv.spi_serial_write(1, data)"
   ]
  },
  {
   "cell_type": "code",
   "execution_count": null,
   "metadata": {},
   "outputs": [],
   "source": [
    "drv.gpio_pin_set(*PIC_PINS['UPDATE_TIA_CONF'])"
   ]
  },
  {
   "cell_type": "code",
   "execution_count": null,
   "metadata": {},
   "outputs": [],
   "source": [
    "drv.gpio_pin_reset(*PIC_PINS['UPDATE_TIA_CONF'])"
   ]
  },
  {
   "cell_type": "code",
   "execution_count": 139,
   "metadata": {},
   "outputs": [],
   "source": [
    "dut.pads_defaults()"
   ]
  },
  {
   "cell_type": "code",
   "execution_count": 156,
   "metadata": {},
   "outputs": [],
   "source": [
    "roc = [0 ,0, 0]\n",
    "# data= 0b1111111111111111\n",
    "data= 0xffff\n",
    "array= [0, 1, 2]\n",
    "N = 3\n",
    "for a in range(0, N-1):\n",
    "    drv.gpio_pin_set(*PIC_PINS['ARRAY_EN<%d>' %(array[a])])\n",
    "    if roc[a] == 1:\n",
    "        drv.gpio_pin_set(*PIC_PINS['COL_ROW_SEL'])\n",
    "    elif roc[a] == 0:\n",
    "        drv.gpio_pin_reset(*PIC_PINS['COL_ROW_SEL'])\n",
    "    else:\n",
    "        print('error, roc = 0 or 1')\n",
    "        \n",
    "    drv.gpio_row_col_bank_write(0b1000)\n",
    "    drv.gpio_row_col_data_write(data)\n",
    "    time.sleep(1e-7)\n",
    "    drv.gpio_pin_set(*PIC_PINS['LATCH_CLK_DATA'])\n",
    "    time.sleep(1e-7)\n",
    "    drv.gpio_pin_reset(*PIC_PINS['LATCH_CLK_DATA'])\n",
    "\n",
    "    drv.gpio_row_col_bank_write(0b0100)\n",
    "    drv.gpio_row_col_data_write(data)\n",
    "    time.sleep(1e-7)\n",
    "    drv.gpio_pin_set(*PIC_PINS['LATCH_CLK_DATA'])\n",
    "    time.sleep(1e-7)\n",
    "    drv.gpio_pin_reset(*PIC_PINS['LATCH_CLK_DATA'])\n",
    "\n",
    "    drv.gpio_row_col_bank_write(0b0010)\n",
    "    drv.gpio_row_col_data_write(data)\n",
    "    time.sleep(1e-7)\n",
    "    drv.gpio_pin_set(*PIC_PINS['LATCH_CLK_DATA'])\n",
    "    time.sleep(1e-7)\n",
    "    drv.gpio_pin_reset(*PIC_PINS['LATCH_CLK_DATA'])\n",
    "\n",
    "    drv.gpio_row_col_bank_write(0b0001)\n",
    "    drv.gpio_row_col_data_write(data)\n",
    "    time.sleep(1e-7)\n",
    "    drv.gpio_pin_set(*PIC_PINS['LATCH_CLK_DATA'])\n",
    "    time.sleep(1e-7)\n",
    "    drv.gpio_pin_reset(*PIC_PINS['LATCH_CLK_DATA'])\n",
    "\n",
    "    drv.gpio_pin_reset(*PIC_PINS['ARRAY_EN<%d>' %(array[a])])"
   ]
  },
  {
   "cell_type": "code",
   "execution_count": 157,
   "metadata": {},
   "outputs": [],
   "source": [
    "roc = [1 ,1, 1]\n",
    "# data= 0b1111111111111111\n",
    "data= 0xffff\n",
    "array= [0, 1, 2]\n",
    "N = 3\n",
    "for a in range(0, N-1):\n",
    "    drv.gpio_pin_set(*PIC_PINS['ARRAY_EN<%d>' %(array[a])])\n",
    "    if roc[a] == 1:\n",
    "        drv.gpio_pin_set(*PIC_PINS['COL_ROW_SEL'])\n",
    "    elif roc[a] == 0:\n",
    "        drv.gpio_pin_reset(*PIC_PINS['COL_ROW_SEL'])\n",
    "    else:\n",
    "        print('error, roc = 0 or 1')\n",
    "        \n",
    "    drv.gpio_row_col_bank_write(0b1000)\n",
    "    drv.gpio_row_col_data_write(data)\n",
    "    time.sleep(1e-7)\n",
    "    drv.gpio_pin_set(*PIC_PINS['LATCH_CLK_DATA'])\n",
    "    time.sleep(1e-7)\n",
    "    drv.gpio_pin_reset(*PIC_PINS['LATCH_CLK_DATA'])\n",
    "\n",
    "    drv.gpio_row_col_bank_write(0b0100)\n",
    "    drv.gpio_row_col_data_write(data)\n",
    "    time.sleep(1e-7)\n",
    "    drv.gpio_pin_set(*PIC_PINS['LATCH_CLK_DATA'])\n",
    "    time.sleep(1e-7)\n",
    "    drv.gpio_pin_reset(*PIC_PINS['LATCH_CLK_DATA'])\n",
    "\n",
    "    drv.gpio_row_col_bank_write(0b0010)\n",
    "    drv.gpio_row_col_data_write(data)\n",
    "    time.sleep(1e-7)\n",
    "    drv.gpio_pin_set(*PIC_PINS['LATCH_CLK_DATA'])\n",
    "    time.sleep(1e-7)\n",
    "    drv.gpio_pin_reset(*PIC_PINS['LATCH_CLK_DATA'])\n",
    "\n",
    "    drv.gpio_row_col_bank_write(0b0001)\n",
    "    drv.gpio_row_col_data_write(data)\n",
    "    time.sleep(1e-7)\n",
    "    drv.gpio_pin_set(*PIC_PINS['LATCH_CLK_DATA'])\n",
    "    time.sleep(1e-7)\n",
    "    drv.gpio_pin_reset(*PIC_PINS['LATCH_CLK_DATA'])\n",
    "\n",
    "    drv.gpio_pin_reset(*PIC_PINS['ARRAY_EN<%d>' %(array[a])])"
   ]
  },
  {
   "cell_type": "markdown",
   "metadata": {},
   "source": [
    "READ TESTING\n"
   ]
  },
  {
   "cell_type": "code",
   "execution_count": 139,
   "metadata": {},
   "outputs": [],
   "source": [
    "dut.pads_defaults()"
   ]
  },
  {
   "cell_type": "code",
   "execution_count": 132,
   "metadata": {},
   "outputs": [],
   "source": [
    "drv.gpio_pin_set(*PIC_PINS['DPE_INTERNAL_EN'])"
   ]
  },
  {
   "cell_type": "code",
   "execution_count": 133,
   "metadata": {},
   "outputs": [],
   "source": [
    "drv.gpio_pin_set(*PIC_PINS['READ_DPE'])"
   ]
  },
  {
   "cell_type": "code",
   "execution_count": 134,
   "metadata": {},
   "outputs": [],
   "source": [
    "drv.gpio_pin_set(*PIC_PINS['READ_BIT'])"
   ]
  },
  {
   "cell_type": "code",
   "execution_count": null,
   "metadata": {},
   "outputs": [],
   "source": [
    "drv.gpio_pin_set(*PIC_PINS['ARRAY_EN<0>'])\n",
    "drv.gpio_pin_set(*PIC_PINS['ARRAY_EN<1>'])\n",
    "drv.gpio_pin_set(*PIC_PINS['ARRAY_EN<2>'])"
   ]
  },
  {
   "cell_type": "code",
   "execution_count": 135,
   "metadata": {},
   "outputs": [],
   "source": [
    "drv.gpio_pin_set(*PIC_PINS['NFORCE_SAFE0'])\n",
    "drv.gpio_pin_set(*PIC_PINS['NFORCE_SAFE1'])\n",
    "drv.gpio_pin_set(*PIC_PINS['NFORCE_SAFE2'])"
   ]
  },
  {
   "cell_type": "code",
   "execution_count": 137,
   "metadata": {},
   "outputs": [],
   "source": [
    "drv.gpio_pin_set(*PIC_PINS['CONNECT_TIA'])"
   ]
  },
  {
   "cell_type": "code",
   "execution_count": 140,
   "metadata": {},
   "outputs": [],
   "source": [
    "drv.gpio_pin_set(*PIC_PINS['CONNECT_COLUMN_T'])"
   ]
  },
  {
   "cell_type": "code",
   "execution_count": 141,
   "metadata": {},
   "outputs": [],
   "source": [
    "drv.gpio_pin_set(*PIC_PINS['DPE_PULSE'])"
   ]
  },
  {
   "cell_type": "code",
   "execution_count": null,
   "metadata": {},
   "outputs": [],
   "source": [
    "drv.gpio_pin_reset(*PIC_PINS['DPE_PULSE'])"
   ]
  }
 ],
 "metadata": {
  "kernelspec": {
   "display_name": "Python 3",
   "language": "python",
   "name": "python3"
  },
  "language_info": {
   "codemirror_mode": {
    "name": "ipython",
    "version": 3
   },
   "file_extension": ".py",
   "mimetype": "text/x-python",
   "name": "python",
   "nbconvert_exporter": "python",
   "pygments_lexer": "ipython3",
   "version": "3.7.4"
  }
 },
 "nbformat": 4,
 "nbformat_minor": 4
}
