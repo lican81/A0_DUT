{
 "cells": [
  {
   "cell_type": "code",
   "execution_count": null,
   "metadata": {},
   "outputs": [],
   "source": [
    "%reload_ext autoreload\n",
    "%autoreload\n",
    "\n",
    "import dut_func as dut\n",
    "import serial\n",
    "import time\n",
    "import struct\n",
    "import numpy as np\n",
    "# from bitarray import bitarray\n",
    "from bitstring import BitArray\n",
    "\n",
    "from misc import *\n",
    "\n",
    "# dut.drv.serUSB = 'COM19'\n",
    "drv = dut.drv\n",
    "\n",
    "ser = serial.Serial('COM6', 9600, timeout=1)\n",
    "dut.connect(ser)\n",
    "\n"
   ]
  },
  {
   "cell_type": "code",
   "execution_count": 1,
   "metadata": {},
   "outputs": [
    {
     "ename": "NameError",
     "evalue": "name 'dut' is not defined",
     "output_type": "error",
     "traceback": [
      "\u001b[1;31m---------------------------------------------------------------------------\u001b[0m",
      "\u001b[1;31mNameError\u001b[0m                                 Traceback (most recent call last)",
      "\u001b[1;32m<ipython-input-1-6bea3cbff5da>\u001b[0m in \u001b[0;36m<module>\u001b[1;34m\u001b[0m\n\u001b[1;32m----> 1\u001b[1;33m \u001b[0mdut\u001b[0m\u001b[1;33m.\u001b[0m\u001b[0mdisconnect\u001b[0m\u001b[1;33m(\u001b[0m\u001b[1;33m)\u001b[0m\u001b[1;33m\u001b[0m\u001b[1;33m\u001b[0m\u001b[0m\n\u001b[0m",
      "\u001b[1;31mNameError\u001b[0m: name 'dut' is not defined"
     ]
    }
   ],
   "source": [
    "dut.disconnect()"
   ]
  },
  {
   "cell_type": "code",
   "execution_count": null,
   "metadata": {},
   "outputs": [],
   "source": [
    "# To change clock frequencies\n",
    "drv.clk_config('CK_ARRAY',0,20)"
   ]
  },
  {
   "cell_type": "code",
   "execution_count": null,
   "metadata": {},
   "outputs": [],
   "source": [
    "dut.pads_defaults()\n",
    "dut.py_logic_analyzer()\n",
    "\n"
   ]
  },
  {
   "cell_type": "code",
   "execution_count": null,
   "metadata": {},
   "outputs": [],
   "source": [
    "\n",
    "# POWER OFF    \n",
    "dut.vrefs_off()\n",
    "dut.pads_defaults()\n",
    "drv.clk_stop('CK_ARRAY')\n",
    "drv.clk_stop('ADC_CK')\n",
    "drv.gpio_pin_reset(*PIC_PINS['NRESET_DPE_ENGINE'])\n",
    "drv.gpio_pin_reset(*PIC_PINS['NRESET_FULL_CHIP'])\n",
    "drv.gpio_pin_reset(*PIC_PINS['PWR_GOOD'])"
   ]
  },
  {
   "cell_type": "code",
   "execution_count": null,
   "metadata": {},
   "outputs": [],
   "source": [
    "# POWER ON\n",
    "dut.pads_defaults()\n",
    "drv.gpio_pin_set(*PIC_PINS['PWR_GOOD'])\n",
    "\n",
    "dut.vrefs_defaults()\n",
    "drv.clk_start('CK_ARRAY')\n",
    "drv.clk_start('ADC_CK')\n",
    "\n",
    "drv.gpio_pin_reset(*PIC_PINS['NRESET_FULL_CHIP'])\n",
    "drv.gpio_pin_reset(*PIC_PINS['NRESET_DPE_ENGINE'])\n",
    "time.sleep(1e-6)  # want to delay 1us\n",
    "drv.gpio_pin_set(*PIC_PINS['NRESET_FULL_CHIP'])\n",
    "\n",
    "# Load control block\n",
    "# Control block scan chain for power up LEAVE ALONE\n",
    "data = bytes([0b000_10000, 0b0000_0010 , 0b0000_1100,0b0001_0000, 0b0010_0000, 0b00000001, 0b00000010])\n",
    "drv.spi_serial_write(2, data) # addr 1 here means SERIAL_CHAIN_SEL0 is 1 and _SEL1 is 0\n",
    "\n",
    "time.sleep(1e-6)  # want to delay 1us\n",
    "drv.gpio_pin_set(*PIC_PINS['NRESET_DPE_ENGINE'])"
   ]
  },
  {
   "cell_type": "code",
   "execution_count": null,
   "metadata": {},
   "outputs": [],
   "source": [
    "drv.clk_stop('CK_ARRAY')\n",
    "drv.clk_stop('ADC_CK')"
   ]
  },
  {
   "cell_type": "markdown",
   "metadata": {},
   "source": [
    "Set up various DAC channels"
   ]
  },
  {
   "cell_type": "code",
   "execution_count": null,
   "metadata": {},
   "outputs": [],
   "source": [
    "dut.dac_set('PLANE_VPP', 0.3)\n",
    "dut.dac_set('DAC_VREF_HI_CMP', 3.92)\n",
    "dut.dac_set('P_ADC_EXT_TEST_IN', 2)"
   ]
  },
  {
   "cell_type": "code",
   "execution_count": null,
   "metadata": {},
   "outputs": [],
   "source": [
    "dut.dac_set('P_VREF_SH', 2.42)"
   ]
  },
  {
   "cell_type": "code",
   "execution_count": null,
   "metadata": {},
   "outputs": [],
   "source": [
    "dut.dac_set('P_VAGC_1', 3.9)"
   ]
  },
  {
   "cell_type": "code",
   "execution_count": null,
   "metadata": {},
   "outputs": [],
   "source": [
    "dut.dac_set('P_VAGC_0', 1)"
   ]
  },
  {
   "cell_type": "code",
   "execution_count": null,
   "metadata": {},
   "outputs": [],
   "source": [
    "dut.dac_set('P_TVDD', 4.92)"
   ]
  },
  {
   "cell_type": "code",
   "execution_count": null,
   "metadata": {},
   "outputs": [],
   "source": [
    "dut.dac_set('P_TVDD', 1.)"
   ]
  },
  {
   "cell_type": "code",
   "execution_count": null,
   "metadata": {},
   "outputs": [],
   "source": [
    "dut.dac_set('P_VREF_TIA', 0.42)"
   ]
  },
  {
   "cell_type": "code",
   "execution_count": null,
   "metadata": {},
   "outputs": [],
   "source": [
    "dut.dac_set('DAC_VREF_ARRAY', 0.42)"
   ]
  },
  {
   "cell_type": "code",
   "execution_count": null,
   "metadata": {},
   "outputs": [],
   "source": [
    "dut.dac_set('DAC_VP_PAD', 2.5)"
   ]
  },
  {
   "cell_type": "code",
   "execution_count": null,
   "metadata": {},
   "outputs": [],
   "source": [
    "dut.dac_set('P_AMP_VREF', 2.5)"
   ]
  },
  {
   "cell_type": "code",
   "execution_count": null,
   "metadata": {},
   "outputs": [],
   "source": [
    "dut.dac_set('P_AMP_INPUT', 2.5)"
   ]
  },
  {
   "cell_type": "markdown",
   "metadata": {},
   "source": [
    "________________"
   ]
  },
  {
   "cell_type": "markdown",
   "metadata": {},
   "source": [
    "Assert Power GOOD"
   ]
  },
  {
   "cell_type": "code",
   "execution_count": null,
   "metadata": {},
   "outputs": [],
   "source": [
    "drv.gpio_pin_set(*PIC_PINS['PWR_GOOD'])"
   ]
  },
  {
   "cell_type": "markdown",
   "metadata": {},
   "source": [
    "Pulse RESET chip with a rising edge"
   ]
  },
  {
   "cell_type": "code",
   "execution_count": null,
   "metadata": {},
   "outputs": [],
   "source": [
    "portName, pinPos = PIC_PINS['NRESET_FULL_CHIP']\n",
    "drv.gpio_pin_reset(portName, pinPos)\n",
    "time.sleep(0.1) # want to delay 1us\n",
    "drv.gpio_pin_set(portName, pinPos)"
   ]
  },
  {
   "cell_type": "markdown",
   "metadata": {},
   "source": [
    "Send a scan chain data"
   ]
  },
  {
   "cell_type": "code",
   "execution_count": null,
   "metadata": {},
   "outputs": [],
   "source": [
    "data = bytes([0x10, 0x20, 0x0c, 0x10, 0x20, 0x01, 0x02])\n",
    "drv.spi_serial_write(2, data)"
   ]
  },
  {
   "cell_type": "code",
   "execution_count": null,
   "metadata": {},
   "outputs": [],
   "source": [
    "# TIA SCAN IN OP AMPS ENABLED, No COMPENSATION, 30k gain\n",
    "data = bytes([0b1100_0001, 0b0011_0000, 0b0100_1100, 0b0001_0011, 0b0000_0100]*24)\n",
    "print(data)\n",
    "drv.spi_serial_write(1, data)"
   ]
  },
  {
   "cell_type": "code",
   "execution_count": null,
   "metadata": {},
   "outputs": [],
   "source": [
    "for _ in range(20):\n",
    "    data = bytes([0x10, 0x20, 0x0c, 0x00, 0x20, 0x01, 0x02] * 20)\n",
    "    drv.spi_serial_write(1, data)"
   ]
  },
  {
   "cell_type": "code",
   "execution_count": null,
   "metadata": {},
   "outputs": [],
   "source": [
    "data"
   ]
  },
  {
   "cell_type": "code",
   "execution_count": null,
   "metadata": {},
   "outputs": [],
   "source": [
    "dut.disconnect()"
   ]
  },
  {
   "cell_type": "code",
   "execution_count": null,
   "metadata": {},
   "outputs": [],
   "source": [
    "# NOTE: first power on requires physical switch actions on DUT board as well as PIC commands\n",
    "\n",
    "# FIRST: SWITCH microntroller VDD power ON (i.e. power up microcontroller)\n",
    "time.sleep(1) # want to delay 1us\n",
    "drv.gpio_pin_reset(*PIC_PINS['NRESET_FULL_CHIP'])\n",
    "drv.gpio_pin_reset(*PIC_PINS['NRESET_DPE_ENGINE'])\n",
    "dut.pads_defaults()\n",
    "#dut.dac_init()"
   ]
  },
  {
   "cell_type": "code",
   "execution_count": null,
   "metadata": {},
   "outputs": [],
   "source": [
    "# Control block scan chain for power up LEAVE ALONE\n",
    "data = bytes([0b000_10000, 0b0000_0010 , 0b0000_1100,0b0001_0000, 0b0010_0000, 0b00000001, 0b00000010])\n",
    "drv.spi_serial_write(2, data) # addr 1 here means SERIAL_CHAIN_SEL0 is 1 and _SEL1 is 0"
   ]
  },
  {
   "cell_type": "code",
   "execution_count": null,
   "metadata": {},
   "outputs": [],
   "source": [
    "drv.clk_start('CK_ARRAY')\n",
    "drv.clk_start('ADC_CK')"
   ]
  },
  {
   "cell_type": "code",
   "execution_count": null,
   "metadata": {},
   "outputs": [],
   "source": [
    "drv.gpio_pin_reset(*PIC_PINS['NRESET_DPE_ENGINE'])\n",
    "time.sleep(1e-6) # want to delay 1us\n",
    "drv.gpio_pin_set(*PIC_PINS['NRESET_DPE_ENGINE'])"
   ]
  },
  {
   "cell_type": "code",
   "execution_count": null,
   "metadata": {},
   "outputs": [],
   "source": [
    "drv.gpio_pin_set(*PIC_PINS['DPE_EXT_OVERRIDE_EN'])"
   ]
  },
  {
   "cell_type": "code",
   "execution_count": null,
   "metadata": {},
   "outputs": [],
   "source": [
    "drv.gpio_pin_set(*PIC_PINS['DPE_EXT_SH'])"
   ]
  },
  {
   "cell_type": "code",
   "execution_count": null,
   "metadata": {},
   "outputs": [],
   "source": [
    "drv.gpio_pin_set(*PIC_PINS['NFORCE_SAFE0'])\n",
    "drv.gpio_pin_set(*PIC_PINS['NFORCE_SAFE1'])\n",
    "drv.gpio_pin_set(*PIC_PINS['NFORCE_SAFE2'])"
   ]
  },
  {
   "cell_type": "code",
   "execution_count": null,
   "metadata": {},
   "outputs": [],
   "source": [
    "drv.gpio_pin_set(*PIC_PINS['PWR_GOOD'])"
   ]
  },
  {
   "cell_type": "code",
   "execution_count": null,
   "metadata": {},
   "outputs": [],
   "source": [
    "drv.gpio_pin_reset(*PIC_PINS['NFORCE_SAFE0'])\n",
    "drv.gpio_pin_reset(*PIC_PINS['NFORCE_SAFE1'])\n",
    "drv.gpio_pin_reset(*PIC_PINS['NFORCE_SAFE2'])"
   ]
  },
  {
   "cell_type": "code",
   "execution_count": null,
   "metadata": {},
   "outputs": [],
   "source": [
    "drv.gpio_pin_reset(*PIC_PINS['DPE_EXT_OVERRIDE_EN'])"
   ]
  },
  {
   "cell_type": "code",
   "execution_count": null,
   "metadata": {},
   "outputs": [],
   "source": [
    "drv.gpio_pin_reset(*PIC_PINS['DPE_EXT_SH'])"
   ]
  },
  {
   "cell_type": "code",
   "execution_count": null,
   "metadata": {},
   "outputs": [],
   "source": [
    "dut.pads_defaults()\n",
    "drv.gpio_pin_set(*PIC_PINS['NFORCE_SAFE2'])\n",
    "drv.gpio_pin_set(*PIC_PINS['NFORCE_SAFE1'])\n",
    "drv.gpio_pin_set(*PIC_PINS['NFORCE_SAFE0'])\n",
    "# dac_set('P_ADC_EXT_TEST_IN', 1.5)       # voltage = 1.5 as an example, I wonder whether we should put it as a parameter of the function\n",
    "time.sleep(1e-6)        # delay(t_sel_ext or t_ext_inp), min = 2CK\n",
    "drv.gpio_pin_set(*PIC_PINS['ADC_SEL_EXTERNAL'])\n",
    "#time.sleep(1e-6)       # delay(t_en_overide_sh), min = 0CK\n",
    "drv.gpio_pin_set(*PIC_PINS['DPE_EXT_OVERRIDE_EN'])\n",
    "time.sleep(1e-6)        # delay(t_fire_sh), min = 3CK\n",
    "drv.gpio_pin_set(*PIC_PINS['DPE_EXT_SH'])\n",
    "time.sleep(1e-6)        # delay(3 P_ADC_CK periods)\n",
    "# drv.gpio_pin_reset(*PIC_PINS['DPE_EXT_SH'])\n",
    "while True:\n",
    "    if drv.gpio_pin_is_high(*PIC_PINS['ADC_DONE']):\n",
    "        break\n",
    "#download_fifo()\n",
    "dut.pads_defaults()\n",
    "#reset_dpe()"
   ]
  },
  {
   "cell_type": "code",
   "execution_count": null,
   "metadata": {},
   "outputs": [],
   "source": [
    "dut.pads_defaults()"
   ]
  },
  {
   "cell_type": "code",
   "execution_count": null,
   "metadata": {},
   "outputs": [],
   "source": [
    "drv.gpio_pin_reset(*PIC_PINS['NRESET_FULL_CHIP'])"
   ]
  },
  {
   "cell_type": "code",
   "execution_count": null,
   "metadata": {},
   "outputs": [],
   "source": [
    "drv.gpio_pin_set(*PIC_PINS['NRESET_FULL_CHIP'])"
   ]
  },
  {
   "cell_type": "code",
   "execution_count": null,
   "metadata": {},
   "outputs": [],
   "source": [
    "drv.gpio_pin_reset(*PIC_PINS['NRESET_DPE_ENGINE'])"
   ]
  },
  {
   "cell_type": "markdown",
   "metadata": {},
   "source": [
    "WEDNESDAY ADC DONE TEST AND DOCUMENTATION\n",
    "\n",
    "EXECUTE IN ORDER"
   ]
  },
  {
   "cell_type": "code",
   "execution_count": null,
   "metadata": {},
   "outputs": [],
   "source": [
    "dut.dac_init()"
   ]
  },
  {
   "cell_type": "code",
   "execution_count": null,
   "metadata": {},
   "outputs": [],
   "source": [
    "dut.vrefs_off()"
   ]
  },
  {
   "cell_type": "code",
   "execution_count": null,
   "metadata": {},
   "outputs": [],
   "source": [
    "drv.gpio_pin_reset(*PIC_PINS['PWR_GOOD'])"
   ]
  },
  {
   "cell_type": "code",
   "execution_count": null,
   "metadata": {},
   "outputs": [],
   "source": [
    "drv.gpio_pin_set(*PIC_PINS['PWR_GOOD'])"
   ]
  },
  {
   "cell_type": "code",
   "execution_count": null,
   "metadata": {},
   "outputs": [],
   "source": [
    "dut.dac_set('PLANE_VPP', 0.22)"
   ]
  },
  {
   "cell_type": "code",
   "execution_count": null,
   "metadata": {},
   "outputs": [],
   "source": [
    "dut.dac_set('DAC_VREF_HI_CMP', 3.92)"
   ]
  },
  {
   "cell_type": "code",
   "execution_count": null,
   "metadata": {},
   "outputs": [],
   "source": [
    "dut.dac_set('DAC_VREF_ARRAY', 0.42)"
   ]
  },
  {
   "cell_type": "code",
   "execution_count": null,
   "metadata": {},
   "outputs": [],
   "source": [
    "dut.dac_set('P_VREF_SH', 2.42)"
   ]
  },
  {
   "cell_type": "code",
   "execution_count": null,
   "metadata": {},
   "outputs": [],
   "source": [
    "dut.dac_set('DAC_VP_PAD', 2.42)"
   ]
  },
  {
   "cell_type": "code",
   "execution_count": null,
   "metadata": {},
   "outputs": [],
   "source": [
    "dut.dac_set('P_VAGC_1', 3.9)"
   ]
  },
  {
   "cell_type": "code",
   "execution_count": null,
   "metadata": {},
   "outputs": [],
   "source": [
    "dut.dac_set('P_VAGC_0', 1)"
   ]
  },
  {
   "cell_type": "code",
   "execution_count": null,
   "metadata": {},
   "outputs": [],
   "source": [
    "dut.dac_set('P_TVDD', 4.92)"
   ]
  },
  {
   "cell_type": "code",
   "execution_count": null,
   "metadata": {},
   "outputs": [],
   "source": [
    "dut.dac_set('P_VREF_TIA', 0.42)"
   ]
  },
  {
   "cell_type": "code",
   "execution_count": null,
   "metadata": {},
   "outputs": [],
   "source": [
    "dut.dac_set('P_ADC_EXT_TEST_IN', 1.5)"
   ]
  },
  {
   "cell_type": "markdown",
   "metadata": {},
   "source": [
    "*******************************************************\n",
    "\n",
    "FOR ADC OPERATION, PROCEED FROM HERE (07/24/2019) 16:40pm - assumes PWR good asserted"
   ]
  },
  {
   "cell_type": "code",
   "execution_count": null,
   "metadata": {},
   "outputs": [],
   "source": [
    "drv.gpio_pin_reset(*PIC_PINS['NRESET_FULL_CHIP'])\n",
    "drv.gpio_pin_reset(*PIC_PINS['NRESET_DPE_ENGINE'])\n",
    "dut.pads_defaults()\n",
    "dut.py_logic_analyzer()"
   ]
  },
  {
   "cell_type": "code",
   "execution_count": null,
   "metadata": {},
   "outputs": [],
   "source": [
    "drv.gpio_pin_set(*PIC_PINS['NRESET_FULL_CHIP'])\n",
    "dut.py_logic_analyzer()"
   ]
  },
  {
   "cell_type": "code",
   "execution_count": null,
   "metadata": {},
   "outputs": [],
   "source": [
    "# Control block scan chain for power up LEAVE ALONE\n",
    "data = bytes([0b000_10000, 0b0000_0010 , 0b0000_1100,0b0001_0000, 0b0010_0000, 0b00000001, 0b00000010])\n",
    "drv.spi_serial_write(2, data) # addr 1 here means SERIAL_CHAIN_SEL0 is 1 and _SEL1 is 0"
   ]
  },
  {
   "cell_type": "code",
   "execution_count": null,
   "metadata": {},
   "outputs": [],
   "source": [
    "drv.gpio_pin_set(*PIC_PINS['NRESET_DPE_ENGINE'])"
   ]
  },
  {
   "cell_type": "code",
   "execution_count": null,
   "metadata": {},
   "outputs": [],
   "source": [
    "# TIA SCAN IN OP AMPS ENABLED, No COMPENSATION, 30k gain\n",
    "data = bytes([0b1100_0100, 0b0011_0000, 0b0100_1100, 0b0001_0011, 0b0000_1000]*24)\n",
    "print(data)\n",
    "drv.spi_serial_write(0, data)\n",
    "# TIA SCAN IN OP AMPS ENABLED, No COMPENSATION, 30k gain\n",
    "data = bytes([0b1100_0100, 0b0011_0000, 0b0100_1100, 0b0001_0011, 0b0000_1000]*24)\n",
    "print(data)\n",
    "drv.spi_serial_write(1, data)"
   ]
  },
  {
   "cell_type": "code",
   "execution_count": null,
   "metadata": {},
   "outputs": [],
   "source": [
    "drv.gpio_pin_set(*PIC_PINS['UPDATE_TIA_CONF'])"
   ]
  },
  {
   "cell_type": "code",
   "execution_count": null,
   "metadata": {},
   "outputs": [],
   "source": [
    "drv.gpio_pin_reset(*PIC_PINS['UPDATE_TIA_CONF'])"
   ]
  },
  {
   "cell_type": "code",
   "execution_count": null,
   "metadata": {},
   "outputs": [],
   "source": []
  },
  {
   "cell_type": "code",
   "execution_count": null,
   "metadata": {},
   "outputs": [],
   "source": [
    "drv.gpio_pin_set(*PIC_PINS['ARRAY_EN<0>'])\n",
    "drv.gpio_pin_set(*PIC_PINS['ARRAY_EN<1>'])\n",
    "drv.gpio_pin_set(*PIC_PINS['ARRAY_EN<2>'])"
   ]
  },
  {
   "cell_type": "code",
   "execution_count": null,
   "metadata": {},
   "outputs": [],
   "source": [
    "drv.gpio_pin_set(*PIC_PINS['NFORCE_SAFE0'])\n",
    "drv.gpio_pin_set(*PIC_PINS['NFORCE_SAFE1'])\n",
    "drv.gpio_pin_set(*PIC_PINS['NFORCE_SAFE2'])\n",
    "dut.py_logic_analyzer()"
   ]
  },
  {
   "cell_type": "code",
   "execution_count": null,
   "metadata": {},
   "outputs": [],
   "source": [
    "drv.gpio_pin_set(*PIC_PINS['ADC_SEL_EXTERNAL'])\n"
   ]
  },
  {
   "cell_type": "code",
   "execution_count": null,
   "metadata": {},
   "outputs": [],
   "source": [
    "drv.gpio_pin_set(*PIC_PINS['DPE_EXT_OVERRIDE_EN'])\n",
    "dut.py_logic_analyzer()"
   ]
  },
  {
   "cell_type": "code",
   "execution_count": null,
   "metadata": {},
   "outputs": [],
   "source": [
    "drv.gpio_pin_set(*PIC_PINS['DPE_EXT_SH'])\n",
    "dut.py_logic_analyzer()"
   ]
  },
  {
   "cell_type": "code",
   "execution_count": null,
   "metadata": {},
   "outputs": [],
   "source": [
    "drv.gpio_pin_reset(*PIC_PINS['DPE_EXT_SH'])\n"
   ]
  },
  {
   "cell_type": "markdown",
   "metadata": {},
   "source": [
    "BEGIN FIFO TESTING"
   ]
  },
  {
   "cell_type": "code",
   "execution_count": null,
   "metadata": {},
   "outputs": [],
   "source": [
    "drv.gpio_pin_set(*PIC_PINS['ADC_FIFO_ADVANCE'])\n",
    "drv.gpio_pin_reset(*PIC_PINS['ADC_FIFO_ADVANCE'])\n",
    "data = drv.gpio_adc_read()\n",
    "print(f'{data:013b}')"
   ]
  },
  {
   "cell_type": "code",
   "execution_count": null,
   "metadata": {},
   "outputs": [],
   "source": [
    "def adc2volt(data):\n",
    "    V_HI = 4.0\n",
    "    V_LO = 0.5\n",
    "    value = data & 0x3ff\n",
    "    voltage = (V_HI-V_LO) * value / 1023 + V_LO\n",
    "    return voltage"
   ]
  },
  {
   "cell_type": "code",
   "execution_count": null,
   "metadata": {},
   "outputs": [],
   "source": [
    "# THIS BLOCK WORKS CEG 07/29/19 \n",
    "voltages = np.arange(0.5, 4.5, 0.5)\n",
    "\n",
    "drv.gpio_pin_reset(*PIC_PINS['ADC_FIFO_EN<0>'])\n",
    "drv.gpio_pin_reset(*PIC_PINS['ADC_FIFO_EN<1>'])\n",
    "drv.gpio_pin_set(*PIC_PINS['ADC_FIFO_EN<2>'])\n",
    "drv.gpio_pin_reset(*PIC_PINS['ADC_FIFO_EN<3>'])\n",
    "\n",
    "data = drv.gpio_adc_read()\n",
    "print(f'{data:013b}\\t {adc2volt(data):.3f} V')\n",
    "    \n",
    "for V_adc in voltages:\n",
    "    \n",
    "    dut.dac_set('P_ADC_EXT_TEST_IN', V_adc)    \n",
    "    \n",
    "    time.sleep(1e-6)\n",
    "    drv.gpio_pin_reset(*PIC_PINS['DPE_EXT_SH'])\n",
    "    drv.gpio_pin_reset(*PIC_PINS['NRESET_DPE_ENGINE'])\n",
    "    drv.gpio_pin_set(*PIC_PINS['NRESET_DPE_ENGINE'])\n",
    "    drv.gpio_pin_set(*PIC_PINS['DPE_EXT_SH'])\n",
    "\n",
    "    StrobeNum = 15\n",
    "    for strobe in range(StrobeNum):\n",
    "        drv.gpio_pin_set(*PIC_PINS['ADC_FIFO_ADVANCE'])\n",
    "        drv.gpio_pin_reset(*PIC_PINS['ADC_FIFO_ADVANCE'])\n",
    "        #print(strobe)\n",
    "        #data = drv.gpio_adc_read()\n",
    "        #print(f'{data:013b}')\n",
    "    \n",
    "    print(V_adc)\n",
    "    data = drv.gpio_adc_read()\n",
    "    print(f'{data:013b}\\t {adc2volt(data):.3f} V')\n",
    "        "
   ]
  },
  {
   "cell_type": "code",
   "execution_count": null,
   "metadata": {},
   "outputs": [],
   "source": [
    "drv.gpio_pin_reset(*PIC_PINS['ADC_FIFO_EN<0>'])\n",
    "drv.gpio_pin_reset(*PIC_PINS['ADC_FIFO_EN<1>'])\n",
    "drv.gpio_pin_reset(*PIC_PINS['ADC_FIFO_EN<2>'])\n",
    "drv.gpio_pin_reset(*PIC_PINS['ADC_FIFO_EN<3>'])\n",
    "dut.py_logic_analyzer()"
   ]
  },
  {
   "cell_type": "code",
   "execution_count": null,
   "metadata": {},
   "outputs": [],
   "source": [
    "drv.gpio_adc_fifo_en_write(0b1000)\n",
    "dut.py_logic_analyzer()"
   ]
  },
  {
   "cell_type": "markdown",
   "metadata": {},
   "source": [
    "****************************************\n",
    "\n",
    "\n",
    "\n",
    "Testing TIA configuration mapping 07/25/19"
   ]
  },
  {
   "cell_type": "code",
   "execution_count": null,
   "metadata": {},
   "outputs": [],
   "source": [
    "# Testing TIA config column mapping\n",
    "#11000_00001\n",
    "# test config: 0b1100_0000, 0b0111_0000, 0b0010_1100, 0b0001_0011, 0b0000_1000\n",
    "# data = bytes([0b1100_0000, 0b1011_0000, 0b0100_1100, 0b0010_0011, 0b0001_0000]*24)\n",
    "\n",
    "\n",
    "drv.gpio_pin_reset(*PIC_PINS['NRESET_DPE_ENGINE'])\n",
    "\n",
    "# TIA SCAN IN OP AMPS ENABLED, No COMPENSATION, 30k gain\n",
    "data = bytes([0b1100_0100, 0b0011_0000, 0b0001_1100, 0b0000_0111, 0b0000_0001]*24)\n",
    "print(data)\n",
    "drv.spi_serial_write(0, data)\n",
    "# TIA SCAN IN OP AMPS ENABLED, No COMPENSATION, 30k gain\n",
    "#data = bytes([0b1100_0000, 0b0111_0000, 0b0010_1100, 0b0001_0011, 0b0000_1000]*24)\n",
    "print(data)\n",
    "drv.spi_serial_write(1, data)\n",
    "\n",
    "time.sleep(1e-6)\n",
    "drv.gpio_pin_set(*PIC_PINS['UPDATE_TIA_CONF'])\n",
    "drv.gpio_pin_reset(*PIC_PINS['UPDATE_TIA_CONF'])\n",
    "\n"
   ]
  },
  {
   "cell_type": "code",
   "execution_count": null,
   "metadata": {},
   "outputs": [],
   "source": []
  },
  {
   "cell_type": "code",
   "execution_count": null,
   "metadata": {},
   "outputs": [],
   "source": [
    "values = drv.spi_serial_write_and_read(1, data)\n",
    "for v in values:\n",
    "    print(f'{v:08b}')"
   ]
  },
  {
   "cell_type": "code",
   "execution_count": null,
   "metadata": {},
   "outputs": [],
   "source": [
    "drv.gpio_pin_reset(*PIC_PINS['NRESET_DPE_ENGINE'])\n",
    "dut.pads_defaults()\n",
    "drv.gpio_pin_set(*PIC_PINS['NRESET_DPE_ENGINE'])\n",
    "\n",
    "dut.dac_set('P_ADC_EXT_TEST_IN', 2)\n",
    "\n",
    "drv.gpio_pin_set(*PIC_PINS['NFORCE_SAFE0'])\n",
    "drv.gpio_pin_set(*PIC_PINS['NFORCE_SAFE1'])\n",
    "drv.gpio_pin_set(*PIC_PINS['NFORCE_SAFE2'])\n",
    "\n",
    "drv.gpio_pin_set(*PIC_PINS['DPE_EXT_OVERRIDE_EN'])\n",
    "drv.gpio_pin_set(*PIC_PINS['DPE_EXT_SH'])\n"
   ]
  },
  {
   "cell_type": "code",
   "execution_count": null,
   "metadata": {},
   "outputs": [],
   "source": [
    "drv.gpio_pin_reset(*PIC_PINS['ADC_FIFO_EN<0>'])\n",
    "drv.gpio_pin_reset(*PIC_PINS['ADC_FIFO_EN<1>'])\n",
    "drv.gpio_pin_reset(*PIC_PINS['ADC_FIFO_EN<2>'])\n",
    "drv.gpio_pin_reset(*PIC_PINS['ADC_FIFO_EN<3>'])\n",
    "\n",
    "\n",
    "data = drv.gpio_adc_read()\n",
    "print(f'{data:013b}', end='\\t')\n",
    "print( f'{adc2volt(data):.3f} V' )\n",
    "\n",
    "StrobeNum = 15\n",
    "for strobe in range(StrobeNum):\n",
    "    drv.gpio_pin_set(*PIC_PINS['ADC_FIFO_ADVANCE'])\n",
    "    drv.gpio_pin_reset(*PIC_PINS['ADC_FIFO_ADVANCE'])\n",
    "    data = drv.gpio_adc_read()\n",
    "    print(f'{data:013b}', end='\\t')\n",
    "    #print(strobe)\n",
    "    print( f'{adc2volt(data):.3f} V' )\n"
   ]
  },
  {
   "cell_type": "markdown",
   "metadata": {},
   "source": [
    "LOAD VECTORS"
   ]
  },
  {
   "cell_type": "code",
   "execution_count": null,
   "metadata": {},
   "outputs": [],
   "source": [
    "drv.gpio_pin_reset(*PIC_PINS['NRESET_FULL_CHIP'])"
   ]
  },
  {
   "cell_type": "code",
   "execution_count": null,
   "metadata": {},
   "outputs": [],
   "source": [
    "drv.gpio_pin_set(*PIC_PINS['NRESET_FULL_CHIP'])"
   ]
  },
  {
   "cell_type": "code",
   "execution_count": null,
   "metadata": {},
   "outputs": [],
   "source": [
    "# Control block scan chain for power up LEAVE ALONE\n",
    "data = bytes([0b000_10000, 0b0000_0010 , 0b0000_1100,0b0001_0000, 0b0010_0000, 0b00000001, 0b00000010])\n",
    "drv.spi_serial_write(2, data) # addr 1 here means SERIAL_CHAIN_SEL0 is 1 and _SEL1 is 0"
   ]
  },
  {
   "cell_type": "code",
   "execution_count": null,
   "metadata": {},
   "outputs": [],
   "source": [
    "drv.gpio_pin_reset(*PIC_PINS['NRESET_DPE_ENGINE'])\n",
    "dut.pads_defaults()"
   ]
  },
  {
   "cell_type": "code",
   "execution_count": null,
   "metadata": {},
   "outputs": [],
   "source": [
    "drv.gpio_pin_set(*PIC_PINS['NRESET_DPE_ENGINE'])"
   ]
  },
  {
   "cell_type": "code",
   "execution_count": null,
   "metadata": {},
   "outputs": [],
   "source": [
    "# TIA SCAN IN OP AMPS ENABLED, No COMPENSATION, 30k gain\n",
    "#data = bytes([0b1100_0100, 0b0011_0000, 0b1000_1100, 0b0001_0011, 0b0000_0010]*24)\n",
    "data = BitArray('0b1100000010'*96).bytes\n",
    "\n",
    "print(data)\n",
    "drv.spi_serial_write(0, data)\n",
    "# TIA SCAN IN OP AMPS ENABLED, No COMPENSATION, 30k gain\n",
    "#data = bytes([0b1100_0001, 0b0011_0000, 0b0100_1100, 0b0001_0011, 0b0000_0100]*24)\n",
    "print(data)\n",
    "drv.spi_serial_write(1, data)\n",
    "\n",
    "time.sleep(1e-6)\n",
    "drv.gpio_pin_set(*PIC_PINS['UPDATE_TIA_CONF'])\n",
    "drv.gpio_pin_reset(*PIC_PINS['UPDATE_TIA_CONF'])\n"
   ]
  },
  {
   "cell_type": "code",
   "execution_count": null,
   "metadata": {},
   "outputs": [],
   "source": [
    "values = drv.spi_serial_write_and_read(1, data)\n",
    "for v in values:\n",
    "    print(f'{v:08b}')\n",
    "time.sleep(1e-6)\n",
    "drv.gpio_pin_set(*PIC_PINS['UPDATE_TIA_CONF'])\n",
    "drv.gpio_pin_reset(*PIC_PINS['UPDATE_TIA_CONF'])"
   ]
  },
  {
   "cell_type": "code",
   "execution_count": null,
   "metadata": {},
   "outputs": [],
   "source": []
  },
  {
   "cell_type": "code",
   "execution_count": null,
   "metadata": {},
   "outputs": [],
   "source": [
    "#drv.gpio_pin_reset(*PIC_PINS['NRESET_DPE_ENGINE'])\n",
    "#dut.pads_defaults()\n",
    "#drv.gpio_pin_set(*PIC_PINS['NRESET_DPE_ENGINE'])"
   ]
  },
  {
   "cell_type": "code",
   "execution_count": null,
   "metadata": {},
   "outputs": [],
   "source": [
    "roc = [0 ,0, 0]\n",
    "# data= 0b1111111111111111\n",
    "data= 0x0000\n",
    "array= [0, 1, 2]\n",
    "N = 3\n",
    "for a in range(0, N-1):\n",
    "    drv.gpio_pin_set(*PIC_PINS['ARRAY_EN<%d>' %(array[a])])\n",
    "    if roc[a] == 1:\n",
    "        drv.gpio_pin_set(*PIC_PINS['COL_ROW_SEL'])\n",
    "    elif roc[a] == 0:\n",
    "        drv.gpio_pin_reset(*PIC_PINS['COL_ROW_SEL'])\n",
    "    else:\n",
    "        print('error, roc = 0 or 1')\n",
    "        \n",
    "    drv.gpio_row_col_bank_write(0b1000)\n",
    "    drv.gpio_row_col_data_write(data)\n",
    "    time.sleep(1e-7)\n",
    "    drv.gpio_pin_set(*PIC_PINS['LATCH_CLK_DATA'])\n",
    "    time.sleep(1e-7)\n",
    "    drv.gpio_pin_reset(*PIC_PINS['LATCH_CLK_DATA'])\n",
    "\n",
    "    drv.gpio_row_col_bank_write(0b0100)\n",
    "    drv.gpio_row_col_data_write(data)\n",
    "    time.sleep(1e-7)\n",
    "    drv.gpio_pin_set(*PIC_PINS['LATCH_CLK_DATA'])\n",
    "    time.sleep(1e-7)\n",
    "    drv.gpio_pin_reset(*PIC_PINS['LATCH_CLK_DATA'])\n",
    "\n",
    "    drv.gpio_row_col_bank_write(0b0010)\n",
    "    drv.gpio_row_col_data_write(data)\n",
    "    time.sleep(1e-7)\n",
    "    drv.gpio_pin_set(*PIC_PINS['LATCH_CLK_DATA'])\n",
    "    time.sleep(1e-7)\n",
    "    drv.gpio_pin_reset(*PIC_PINS['LATCH_CLK_DATA'])\n",
    "\n",
    "    drv.gpio_row_col_bank_write(0b0001)\n",
    "    drv.gpio_row_col_data_write(data)\n",
    "    time.sleep(1e-7)\n",
    "    drv.gpio_pin_set(*PIC_PINS['LATCH_CLK_DATA'])\n",
    "    time.sleep(1e-7)\n",
    "    drv.gpio_pin_reset(*PIC_PINS['LATCH_CLK_DATA'])\n",
    "\n",
    "    drv.gpio_pin_reset(*PIC_PINS['ARRAY_EN<%d>' %(array[a])])"
   ]
  },
  {
   "cell_type": "code",
   "execution_count": null,
   "metadata": {},
   "outputs": [],
   "source": [
    "roc = [1 ,1, 1]\n",
    "# data= 0b1111111111111111\n",
    "data= 0x0000\n",
    "array= [0, 1, 2]\n",
    "N = 3\n",
    "for a in range(0, N-1):\n",
    "    drv.gpio_pin_set(*PIC_PINS['ARRAY_EN<%d>' %(array[a])])\n",
    "    if roc[a] == 1:\n",
    "        drv.gpio_pin_set(*PIC_PINS['COL_ROW_SEL'])\n",
    "    elif roc[a] == 0:\n",
    "        drv.gpio_pin_reset(*PIC_PINS['COL_ROW_SEL'])\n",
    "    else:\n",
    "        print('error, roc = 0 or 1')\n",
    "        \n",
    "    drv.gpio_row_col_bank_write(0b1000)\n",
    "    drv.gpio_row_col_data_write(data)\n",
    "    time.sleep(1e-7)\n",
    "    drv.gpio_pin_set(*PIC_PINS['LATCH_CLK_DATA'])\n",
    "    time.sleep(1e-7)\n",
    "    drv.gpio_pin_reset(*PIC_PINS['LATCH_CLK_DATA'])\n",
    "\n",
    "    drv.gpio_row_col_bank_write(0b0100)\n",
    "    drv.gpio_row_col_data_write(data)\n",
    "    time.sleep(1e-7)\n",
    "    drv.gpio_pin_set(*PIC_PINS['LATCH_CLK_DATA'])\n",
    "    time.sleep(1e-7)\n",
    "    drv.gpio_pin_reset(*PIC_PINS['LATCH_CLK_DATA'])\n",
    "\n",
    "    drv.gpio_row_col_bank_write(0b0010)\n",
    "    drv.gpio_row_col_data_write(data)\n",
    "    time.sleep(1e-7)\n",
    "    drv.gpio_pin_set(*PIC_PINS['LATCH_CLK_DATA'])\n",
    "    time.sleep(1e-7)\n",
    "    drv.gpio_pin_reset(*PIC_PINS['LATCH_CLK_DATA'])\n",
    "\n",
    "    drv.gpio_row_col_bank_write(0b0001)\n",
    "    drv.gpio_row_col_data_write(data)\n",
    "    time.sleep(1e-7)\n",
    "    drv.gpio_pin_set(*PIC_PINS['LATCH_CLK_DATA'])\n",
    "    time.sleep(1e-7)\n",
    "    drv.gpio_pin_reset(*PIC_PINS['LATCH_CLK_DATA'])\n",
    "\n",
    "    drv.gpio_pin_reset(*PIC_PINS['ARRAY_EN<%d>' %(array[a])])"
   ]
  },
  {
   "cell_type": "markdown",
   "metadata": {},
   "source": [
    "READ TESTING\n"
   ]
  },
  {
   "cell_type": "code",
   "execution_count": null,
   "metadata": {},
   "outputs": [],
   "source": [
    "dut.pads_defaults()"
   ]
  },
  {
   "cell_type": "code",
   "execution_count": null,
   "metadata": {},
   "outputs": [],
   "source": [
    "#drv.gpio_pin_set(*PIC_PINS['DPE_INTERNAL_EN'])\n",
    "\n",
    "# EXETERNALLY TRIGGERED READ\n",
    "drv.gpio_pin_set(*PIC_PINS['DPE_EXT_OVERRIDE_EN']) "
   ]
  },
  {
   "cell_type": "code",
   "execution_count": null,
   "metadata": {},
   "outputs": [],
   "source": [
    "drv.gpio_pin_set(*PIC_PINS['READ_DPE'])"
   ]
  },
  {
   "cell_type": "code",
   "execution_count": null,
   "metadata": {},
   "outputs": [],
   "source": [
    "drv.gpio_pin_set(*PIC_PINS['READ_BIT'])"
   ]
  },
  {
   "cell_type": "code",
   "execution_count": null,
   "metadata": {},
   "outputs": [],
   "source": [
    "#drv.gpio_pin_set(*PIC_PINS['ARRAY_EN<0>'])\n",
    "#drv.gpio_pin_set(*PIC_PINS['ARRAY_EN<1>'])\n",
    "#drv.gpio_pin_set(*PIC_PINS['ARRAY_EN<2>'])"
   ]
  },
  {
   "cell_type": "code",
   "execution_count": null,
   "metadata": {},
   "outputs": [],
   "source": [
    "drv.gpio_pin_set(*PIC_PINS['NFORCE_SAFE0'])\n",
    "drv.gpio_pin_set(*PIC_PINS['NFORCE_SAFE1'])\n",
    "drv.gpio_pin_set(*PIC_PINS['NFORCE_SAFE2'])"
   ]
  },
  {
   "cell_type": "code",
   "execution_count": null,
   "metadata": {},
   "outputs": [],
   "source": [
    "drv.gpio_pin_set(*PIC_PINS['CONNECT_TIA'])"
   ]
  },
  {
   "cell_type": "code",
   "execution_count": null,
   "metadata": {},
   "outputs": [],
   "source": [
    "drv.gpio_pin_set(*PIC_PINS['CONNECT_COLUMN_T'])"
   ]
  },
  {
   "cell_type": "code",
   "execution_count": null,
   "metadata": {},
   "outputs": [],
   "source": [
    "drv.gpio_pin_set(*PIC_PINS['DPE_EXT_PULSE'])"
   ]
  },
  {
   "cell_type": "code",
   "execution_count": null,
   "metadata": {},
   "outputs": [],
   "source": [
    "drv.gpio_pin_set(*PIC_PINS['DPE_EXT_SH'])"
   ]
  },
  {
   "cell_type": "code",
   "execution_count": null,
   "metadata": {},
   "outputs": [],
   "source": [
    "drv.gpio_pin_reset(*PIC_PINS['ADC_FIFO_EN<0>'])\n",
    "drv.gpio_pin_reset(*PIC_PINS['ADC_FIFO_EN<1>'])\n",
    "drv.gpio_pin_reset(*PIC_PINS['ADC_FIFO_EN<2>'])\n",
    "drv.gpio_pin_reset(*PIC_PINS['ADC_FIFO_EN<3>'])\n",
    "\n",
    "data = drv.gpio_adc_read()\n",
    "print(f'{data:013b}', end='\\t')\n",
    "print( f'{adc2volt(data):.3f} V' )\n",
    "\n",
    "StrobeNum = 15\n",
    "for strobe in range(StrobeNum):\n",
    "    drv.gpio_pin_set(*PIC_PINS['ADC_FIFO_ADVANCE'])\n",
    "    drv.gpio_pin_reset(*PIC_PINS['ADC_FIFO_ADVANCE'])\n",
    "    data = drv.gpio_adc_read()\n",
    "    print(f'{data:013b}', end='\\t')\n",
    "    #print(strobe)\n",
    "    print( f'{adc2volt(data):.3f} V' )"
   ]
  },
  {
   "cell_type": "code",
   "execution_count": null,
   "metadata": {},
   "outputs": [],
   "source": []
  },
  {
   "cell_type": "markdown",
   "metadata": {},
   "source": [
    "**********************************************************************\n",
    "\n",
    "MOVING ON FOR NOW - TIA BITS STILLL NOT READ OUT BUT CLEAR CORRELATION BETWEEN LOADED GAIN SETTINGS AND ADC OUTPUT READ\n",
    "\n",
    "TIA CALIBRATION TIME!"
   ]
  },
  {
   "cell_type": "code",
   "execution_count": null,
   "metadata": {},
   "outputs": [],
   "source": [
    "drv.gpio_pin_reset(*PIC_PINS['NRESET_FULL_CHIP'])"
   ]
  },
  {
   "cell_type": "code",
   "execution_count": null,
   "metadata": {},
   "outputs": [],
   "source": [
    "drv.gpio_pin_reset(*PIC_PINS['NRESET_DPE_ENGINE'])"
   ]
  },
  {
   "cell_type": "code",
   "execution_count": null,
   "metadata": {},
   "outputs": [],
   "source": [
    "drv.gpio_pin_set(*PIC_PINS['NRESET_FULL_CHIP'])"
   ]
  },
  {
   "cell_type": "code",
   "execution_count": null,
   "metadata": {},
   "outputs": [],
   "source": [
    "# Control block scan chain for power up LEAVE ALONE\n",
    "data = bytes([0b000_10000, 0b0000_0010 , 0b0000_1100,0b0001_0000, 0b0010_0000, 0b00000001, 0b00000010])\n",
    "drv.spi_serial_write(2, data) # addr 1 here means SERIAL_CHAIN_SEL0 is 1 and _SEL1 is 0"
   ]
  },
  {
   "cell_type": "code",
   "execution_count": null,
   "metadata": {},
   "outputs": [],
   "source": [
    "drv.gpio_pin_reset(*PIC_PINS['NRESET_DPE_ENGINE'])\n",
    "dut.pads_defaults()\n",
    "drv.gpio_pin_set(*PIC_PINS['NRESET_DPE_ENGINE'])"
   ]
  },
  {
   "cell_type": "code",
   "execution_count": null,
   "metadata": {},
   "outputs": [],
   "source": [
    "# TIA SCAN IN OP AMPS ENABLED, No COMPENSATION\n",
    "#data = bytes([0b1100_0001, 0b0011_0000, 0b0100_1100, 0b0001_0011, 0b0000_0100]*24)\n",
    "\n",
    "data = BitArray('0b1100000100'*96).bytes\n",
    "print(data)\n",
    "drv.spi_serial_write(0, data)\n",
    "print(data)\n",
    "drv.spi_serial_write(1, data)\n",
    "\n",
    "time.sleep(1e-5)\n",
    "drv.gpio_pin_set(*PIC_PINS['UPDATE_TIA_CONF'])\n",
    "drv.gpio_pin_reset(*PIC_PINS['UPDATE_TIA_CONF'])"
   ]
  },
  {
   "cell_type": "code",
   "execution_count": null,
   "metadata": {},
   "outputs": [],
   "source": [
    "# LOAD ONE COLUMN ON ONE ARRAY (NOTE: THIS ASSUMES YOU\"VE PREVIOUSLY LOADED ALL ZEROS)\n",
    "\n",
    "drv.gpio_pin_reset(*PIC_PINS['ARRAY_EN<0>'])\n",
    "drv.gpio_pin_set(*PIC_PINS['ARRAY_EN<1>'])\n",
    "drv.gpio_pin_reset(*PIC_PINS['ARRAY_EN<2>'])\n",
    "\n",
    "drv.gpio_pin_set(*PIC_PINS['COL_ROW_SEL'])\n",
    "\n",
    "drv.gpio_row_col_bank_write(0b0001)\n",
    "drv.gpio_row_col_data_write(0b1000_0000_0000_0000)\n",
    "time.sleep(1e-5)\n",
    "drv.gpio_pin_set(*PIC_PINS['LATCH_CLK_DATA'])\n",
    "time.sleep(1e-5)\n",
    "drv.gpio_pin_reset(*PIC_PINS['LATCH_CLK_DATA'])"
   ]
  },
  {
   "cell_type": "code",
   "execution_count": null,
   "metadata": {},
   "outputs": [],
   "source": [
    "drv.gpio_pin_reset(*PIC_PINS['NRESET_DPE_ENGINE'])\n",
    "dut.pads_defaults()\n",
    "drv.gpio_pin_set(*PIC_PINS['NRESET_DPE_ENGINE'])"
   ]
  },
  {
   "cell_type": "code",
   "execution_count": null,
   "metadata": {},
   "outputs": [],
   "source": [
    "drv.gpio_pin_set(*PIC_PINS['WRITE_SEL_EXT'])\n",
    "drv.gpio_pin_set(*PIC_PINS['DPE_EXT_OVERRIDE_EN'])                 \n",
    "time.sleep(5e-6)   \n",
    "drv.gpio_pin_reset(*PIC_PINS['NFORCE_SAFE2'])\n",
    "drv.gpio_pin_set(*PIC_PINS['NFORCE_SAFE1'])\n",
    "drv.gpio_pin_reset(*PIC_PINS['NFORCE_SAFE0'])\n",
    "time.sleep(5e-6)        # delay(t_cal_start), min = 2TCK\n",
    "drv.gpio_pin_set(*PIC_PINS['COL_WRITE_CONNECT'])\n",
    "time.sleep(5e-6)        # delay(t_opamp), min = 500ns\n",
    "drv.gpio_pin_set(*PIC_PINS['CONNECT_TIA'])\n",
    "#drv.gpio_pin_set(*PIC_PINS['DPE_EXT_SH'])"
   ]
  },
  {
   "cell_type": "code",
   "execution_count": null,
   "metadata": {},
   "outputs": [],
   "source": [
    "# Before setting this, we're using an external current source to apply to the board!\n",
    "drv.gpio_pin_set(*PIC_PINS['DPE_EXT_SH'])\n",
    "# Then see that ADC_DONE goes high and strobe out the FIFO"
   ]
  },
  {
   "cell_type": "code",
   "execution_count": null,
   "metadata": {},
   "outputs": [],
   "source": [
    "dut.pads_defaults()"
   ]
  },
  {
   "cell_type": "code",
   "execution_count": null,
   "metadata": {},
   "outputs": [],
   "source": [
    "drv.gpio_pin_reset(*PIC_PINS['ADC_FIFO_EN<0>'])\n",
    "drv.gpio_pin_set(*PIC_PINS['ADC_FIFO_EN<1>'])\n",
    "drv.gpio_pin_reset(*PIC_PINS['ADC_FIFO_EN<2>'])\n",
    "drv.gpio_pin_reset(*PIC_PINS['ADC_FIFO_EN<3>'])\n",
    "\n",
    "data = drv.gpio_adc_read()\n",
    "print(f'{data:013b}', end='\\t')\n",
    "print( f'{adc2volt(data):.3f} V' )\n",
    "\n",
    "StrobeNum = 15\n",
    "for strobe in range(StrobeNum):\n",
    "    drv.gpio_pin_set(*PIC_PINS['ADC_FIFO_ADVANCE'])\n",
    "    drv.gpio_pin_reset(*PIC_PINS['ADC_FIFO_ADVANCE'])\n",
    "    data = drv.gpio_adc_read()\n",
    "    print(f'{data:013b}', end='\\t')\n",
    "    #print(strobe)\n",
    "    print( f'{adc2volt(data):.3f} V' )\n",
    "print()\n",
    "\n",
    "drv.gpio_pin_set(*PIC_PINS['ADC_FIFO_EN<0>'])\n",
    "drv.gpio_pin_set(*PIC_PINS['ADC_FIFO_EN<1>'])\n",
    "drv.gpio_pin_reset(*PIC_PINS['ADC_FIFO_EN<2>'])\n",
    "drv.gpio_pin_reset(*PIC_PINS['ADC_FIFO_EN<3>'])\n",
    "\n",
    "data = drv.gpio_adc_read()\n",
    "print(f'{data:013b}', end='\\t')\n",
    "print( f'{adc2volt(data):.3f} V' )\n",
    "\n",
    "StrobeNum = 15\n",
    "for strobe in range(StrobeNum):\n",
    "    drv.gpio_pin_set(*PIC_PINS['ADC_FIFO_ADVANCE'])\n",
    "    drv.gpio_pin_reset(*PIC_PINS['ADC_FIFO_ADVANCE'])\n",
    "    data = drv.gpio_adc_read()\n",
    "    print(f'{data:013b}', end='\\t')\n",
    "    #print(strobe)\n",
    "    print( f'{adc2volt(data):.3f} V' )\n",
    "print()\n",
    "\n",
    "drv.gpio_pin_reset(*PIC_PINS['ADC_FIFO_EN<0>'])\n",
    "drv.gpio_pin_reset(*PIC_PINS['ADC_FIFO_EN<1>'])\n",
    "drv.gpio_pin_reset(*PIC_PINS['ADC_FIFO_EN<2>'])\n",
    "drv.gpio_pin_set(*PIC_PINS['ADC_FIFO_EN<3>'])\n",
    "\n",
    "data = drv.gpio_adc_read()\n",
    "print(f'{data:013b}', end='\\t')\n",
    "print( f'{adc2volt(data):.3f} V' )\n",
    "\n",
    "StrobeNum = 15\n",
    "for strobe in range(StrobeNum):\n",
    "    drv.gpio_pin_set(*PIC_PINS['ADC_FIFO_ADVANCE'])\n",
    "    drv.gpio_pin_reset(*PIC_PINS['ADC_FIFO_ADVANCE'])\n",
    "    data = drv.gpio_adc_read()\n",
    "    print(f'{data:013b}', end='\\t')\n",
    "    #print(strobe)\n",
    "    print( f'{adc2volt(data):.3f} V' )\n",
    "print()\n",
    "\n",
    "drv.gpio_pin_set(*PIC_PINS['ADC_FIFO_EN<0>'])\n",
    "drv.gpio_pin_reset(*PIC_PINS['ADC_FIFO_EN<1>'])\n",
    "drv.gpio_pin_reset(*PIC_PINS['ADC_FIFO_EN<2>'])\n",
    "drv.gpio_pin_set(*PIC_PINS['ADC_FIFO_EN<3>'])\n",
    "\n",
    "data = drv.gpio_adc_read()\n",
    "print(f'{data:013b}', end='\\t')\n",
    "print( f'{adc2volt(data):.3f} V' )\n",
    "\n",
    "StrobeNum = 15\n",
    "for strobe in range(StrobeNum):\n",
    "    drv.gpio_pin_set(*PIC_PINS['ADC_FIFO_ADVANCE'])\n",
    "    drv.gpio_pin_reset(*PIC_PINS['ADC_FIFO_ADVANCE'])\n",
    "    data = drv.gpio_adc_read()\n",
    "    print(f'{data:013b}', end='\\t')\n",
    "    #print(strobe)\n",
    "    print( f'{adc2volt(data):.3f} V' )\n",
    "print()\n"
   ]
  },
  {
   "cell_type": "code",
   "execution_count": null,
   "metadata": {},
   "outputs": [],
   "source": [
    "#turn on all columns\n",
    "roc = [1 ,1, 1]\n",
    "# data= 0b1111111111111111\n",
    "data= 0x1111\n",
    "array= [0, 1, 2]\n",
    "N = 3\n",
    "for a in range(0, N-1):\n",
    "    drv.gpio_pin_set(*PIC_PINS['ARRAY_EN<%d>' %(array[a])])\n",
    "    if roc[a] == 1:\n",
    "        drv.gpio_pin_set(*PIC_PINS['COL_ROW_SEL'])\n",
    "    elif roc[a] == 0:\n",
    "        drv.gpio_pin_reset(*PIC_PINS['COL_ROW_SEL'])\n",
    "    else:\n",
    "        print('error, roc = 0 or 1')\n",
    "        \n",
    "    drv.gpio_row_col_bank_write(0b1000)\n",
    "    drv.gpio_row_col_data_write(data)\n",
    "    time.sleep(1e-7)\n",
    "    drv.gpio_pin_set(*PIC_PINS['LATCH_CLK_DATA'])\n",
    "    time.sleep(1e-7)\n",
    "    drv.gpio_pin_reset(*PIC_PINS['LATCH_CLK_DATA'])\n",
    "\n",
    "    drv.gpio_row_col_bank_write(0b0100)\n",
    "    drv.gpio_row_col_data_write(data)\n",
    "    time.sleep(1e-7)\n",
    "    drv.gpio_pin_set(*PIC_PINS['LATCH_CLK_DATA'])\n",
    "    time.sleep(1e-7)\n",
    "    drv.gpio_pin_reset(*PIC_PINS['LATCH_CLK_DATA'])\n",
    "\n",
    "    drv.gpio_row_col_bank_write(0b0010)\n",
    "    drv.gpio_row_col_data_write(data)\n",
    "    time.sleep(1e-7)\n",
    "    drv.gpio_pin_set(*PIC_PINS['LATCH_CLK_DATA'])\n",
    "    time.sleep(1e-7)\n",
    "    drv.gpio_pin_reset(*PIC_PINS['LATCH_CLK_DATA'])\n",
    "\n",
    "    drv.gpio_row_col_bank_write(0b0001)\n",
    "    drv.gpio_row_col_data_write(data)\n",
    "    time.sleep(1e-7)\n",
    "    drv.gpio_pin_set(*PIC_PINS['LATCH_CLK_DATA'])\n",
    "    time.sleep(1e-7)\n",
    "    drv.gpio_pin_reset(*PIC_PINS['LATCH_CLK_DATA'])\n",
    "\n",
    "    drv.gpio_pin_reset(*PIC_PINS['ARRAY_EN<%d>' %(array[a])])"
   ]
  },
  {
   "cell_type": "code",
   "execution_count": null,
   "metadata": {},
   "outputs": [],
   "source": [
    "dut.dac_set('DAC_SCHOTTKY', -0.2)"
   ]
  },
  {
   "cell_type": "code",
   "execution_count": null,
   "metadata": {},
   "outputs": [],
   "source": []
  },
  {
   "cell_type": "code",
   "execution_count": null,
   "metadata": {},
   "outputs": [],
   "source": [
    "dut.dac_set('P_VREF_SH', 2.42)"
   ]
  },
  {
   "cell_type": "code",
   "execution_count": null,
   "metadata": {},
   "outputs": [],
   "source": [
    "dut.dac_set('P_TVDD', -0.08)"
   ]
  },
  {
   "cell_type": "markdown",
   "metadata": {},
   "source": []
  },
  {
   "cell_type": "code",
   "execution_count": null,
   "metadata": {},
   "outputs": [],
   "source": [
    "from bitstring import BitArray\n",
    "conf_bits = BitArray('0b1011000001'*96).bytes\n",
    "conf_bits"
   ]
  },
  {
   "cell_type": "code",
   "execution_count": null,
   "metadata": {},
   "outputs": [],
   "source": [
    "conf_bytes = []\n",
    "for bit in conf_bits.bytes:\n",
    "    print(f'{bit:08b}', end='_')"
   ]
  },
  {
   "cell_type": "markdown",
   "metadata": {},
   "source": [
    "INTERNAL READ TIME!"
   ]
  },
  {
   "cell_type": "code",
   "execution_count": null,
   "metadata": {},
   "outputs": [],
   "source": [
    "# Control block scan chain for power up LEAVE ALONE\n",
    "data = bytes([0b0001_0000, 0b0000_0010 , 0b0000_1100,0b0001_0000, 0b0010_0000, 0b0000_0001, 0b0000_0010])\n",
    "drv.spi_serial_write(2, data) # addr 1 here means SERIAL_CHAIN_SEL0 is 1 and _SEL1 is 0"
   ]
  },
  {
   "cell_type": "code",
   "execution_count": null,
   "metadata": {},
   "outputs": [],
   "source": [
    "drv.gpio_pin_reset(*PIC_PINS['NRESET_DPE_ENGINE'])\n",
    "dut.pads_defaults()\n",
    "drv.gpio_pin_set(*PIC_PINS['NRESET_DPE_ENGINE'])"
   ]
  },
  {
   "cell_type": "code",
   "execution_count": null,
   "metadata": {},
   "outputs": [],
   "source": [
    "# TIA SCAN IN OP AMPS ENABLED, No COMPENSATION, 30k gain\n",
    "#data = bytes([0b1100_0001, 0b0011_0000, 0b0100_1100, 0b0001_0011, 0b0000_0100]*24)\n",
    "#1kohm\t5kohm\t30kohm\t200kohm\t1Mohm\tcm\tC<1>\tC<0>\tTIA en\tS/H en\n",
    "#data = BitArray('0b1100000001'*96).bytes\n",
    "data = BitArray('0b11000000011100000010110000000111000001001100000010110000100011000000011100010000'*12).bytes\n",
    "\n",
    "print(data)\n",
    "drv.spi_serial_write(0, data)\n",
    "# TIA SCAN IN OP AMPS ENABLED, No COMPENSATION, 30k gain\n",
    "#data = bytes([0b1100_0001, 0b0011_0000, 0b0100_1100, 0b0001_0011, 0b0000_0100]*24)\n",
    "print(data)\n",
    "drv.spi_serial_write(1, data)\n",
    "\n",
    "time.sleep(1e-6)\n",
    "drv.gpio_pin_set(*PIC_PINS['UPDATE_TIA_CONF'])\n",
    "drv.gpio_pin_reset(*PIC_PINS['UPDATE_TIA_CONF'])"
   ]
  },
  {
   "cell_type": "code",
   "execution_count": null,
   "metadata": {},
   "outputs": [],
   "source": [
    "roc = [0 ,0, 0]\n",
    "# data= 0b1111111111111111\n",
    "data= 0x1111\n",
    "array= [0, 1, 2]\n",
    "N = 3\n",
    "for a in range(0, N-1):\n",
    "    drv.gpio_pin_set(*PIC_PINS['ARRAY_EN<%d>' %(array[a])])\n",
    "    if roc[a] == 1:\n",
    "        drv.gpio_pin_set(*PIC_PINS['COL_ROW_SEL'])\n",
    "    elif roc[a] == 0:\n",
    "        drv.gpio_pin_reset(*PIC_PINS['COL_ROW_SEL'])\n",
    "    else:\n",
    "        print('error, roc = 0 or 1')\n",
    "        \n",
    "    drv.gpio_row_col_bank_write(0b1000)\n",
    "    drv.gpio_row_col_data_write(data)\n",
    "    time.sleep(1e-7)\n",
    "    drv.gpio_pin_set(*PIC_PINS['LATCH_CLK_DATA'])\n",
    "    time.sleep(1e-7)\n",
    "    drv.gpio_pin_reset(*PIC_PINS['LATCH_CLK_DATA'])\n",
    "\n",
    "    drv.gpio_row_col_bank_write(0b0100)\n",
    "    drv.gpio_row_col_data_write(data)\n",
    "    time.sleep(1e-7)\n",
    "    drv.gpio_pin_set(*PIC_PINS['LATCH_CLK_DATA'])\n",
    "    time.sleep(1e-7)\n",
    "    drv.gpio_pin_reset(*PIC_PINS['LATCH_CLK_DATA'])\n",
    "\n",
    "    drv.gpio_row_col_bank_write(0b0010)\n",
    "    drv.gpio_row_col_data_write(data)\n",
    "    time.sleep(1e-7)\n",
    "    drv.gpio_pin_set(*PIC_PINS['LATCH_CLK_DATA'])\n",
    "    time.sleep(1e-7)\n",
    "    drv.gpio_pin_reset(*PIC_PINS['LATCH_CLK_DATA'])\n",
    "\n",
    "    drv.gpio_row_col_bank_write(0b0001)\n",
    "    drv.gpio_row_col_data_write(data)\n",
    "    time.sleep(1e-7)\n",
    "    drv.gpio_pin_set(*PIC_PINS['LATCH_CLK_DATA'])\n",
    "    time.sleep(1e-7)\n",
    "    drv.gpio_pin_reset(*PIC_PINS['LATCH_CLK_DATA'])\n",
    "\n",
    "    drv.gpio_pin_reset(*PIC_PINS['ARRAY_EN<%d>' %(array[a])])"
   ]
  },
  {
   "cell_type": "code",
   "execution_count": null,
   "metadata": {},
   "outputs": [],
   "source": [
    "roc = [1 ,1, 1]\n",
    "# data= 0b1111111111111111\n",
    "data= 0x0000\n",
    "array= [0, 1, 2]\n",
    "N = 3\n",
    "for a in range(0, N-1):\n",
    "    drv.gpio_pin_set(*PIC_PINS['ARRAY_EN<%d>' %(array[a])])\n",
    "    if roc[a] == 1:\n",
    "        drv.gpio_pin_set(*PIC_PINS['COL_ROW_SEL'])\n",
    "    elif roc[a] == 0:\n",
    "        drv.gpio_pin_reset(*PIC_PINS['COL_ROW_SEL'])\n",
    "    else:\n",
    "        print('error, roc = 0 or 1')\n",
    "        \n",
    "    drv.gpio_row_col_bank_write(0b1000)\n",
    "    drv.gpio_row_col_data_write(data)\n",
    "    time.sleep(1e-7)\n",
    "    drv.gpio_pin_set(*PIC_PINS['LATCH_CLK_DATA'])\n",
    "    time.sleep(1e-7)\n",
    "    drv.gpio_pin_reset(*PIC_PINS['LATCH_CLK_DATA'])\n",
    "\n",
    "    drv.gpio_row_col_bank_write(0b0100)\n",
    "    drv.gpio_row_col_data_write(data)\n",
    "    time.sleep(1e-7)\n",
    "    drv.gpio_pin_set(*PIC_PINS['LATCH_CLK_DATA'])\n",
    "    time.sleep(1e-7)\n",
    "    drv.gpio_pin_reset(*PIC_PINS['LATCH_CLK_DATA'])\n",
    "\n",
    "    drv.gpio_row_col_bank_write(0b0010)\n",
    "    drv.gpio_row_col_data_write(data)\n",
    "    time.sleep(1e-7)\n",
    "    drv.gpio_pin_set(*PIC_PINS['LATCH_CLK_DATA'])\n",
    "    time.sleep(1e-7)\n",
    "    drv.gpio_pin_reset(*PIC_PINS['LATCH_CLK_DATA'])\n",
    "\n",
    "    drv.gpio_row_col_bank_write(0b0001)\n",
    "    drv.gpio_row_col_data_write(data)\n",
    "    time.sleep(1e-7)\n",
    "    drv.gpio_pin_set(*PIC_PINS['LATCH_CLK_DATA'])\n",
    "    time.sleep(1e-7)\n",
    "    drv.gpio_pin_reset(*PIC_PINS['LATCH_CLK_DATA'])\n",
    "\n",
    "    drv.gpio_pin_reset(*PIC_PINS['ARRAY_EN<%d>' %(array[a])])"
   ]
  },
  {
   "cell_type": "code",
   "execution_count": null,
   "metadata": {},
   "outputs": [],
   "source": [
    "drv.gpio_pin_reset(*PIC_PINS['NRESET_DPE_ENGINE'])\n",
    "dut.pads_defaults()\n",
    "drv.gpio_pin_set(*PIC_PINS['NRESET_DPE_ENGINE'])"
   ]
  },
  {
   "cell_type": "code",
   "execution_count": null,
   "metadata": {},
   "outputs": [],
   "source": [
    "dut.py_logic_analyzer()"
   ]
  },
  {
   "cell_type": "code",
   "execution_count": null,
   "metadata": {},
   "outputs": [],
   "source": [
    "drv.gpio_pin_set(*PIC_PINS['DPE_INTERNAL_EN'])\n",
    "drv.gpio_pin_set(*PIC_PINS['AGC_INTERNAL_EN'])"
   ]
  },
  {
   "cell_type": "code",
   "execution_count": null,
   "metadata": {},
   "outputs": [],
   "source": [
    "drv.gpio_pin_set(*PIC_PINS['READ_BIT'])"
   ]
  },
  {
   "cell_type": "code",
   "execution_count": null,
   "metadata": {},
   "outputs": [],
   "source": [
    "drv.gpio_pin_set(*PIC_PINS['READ_DPE'])"
   ]
  },
  {
   "cell_type": "code",
   "execution_count": null,
   "metadata": {},
   "outputs": [],
   "source": [
    "drv.gpio_pin_set(*PIC_PINS['NFORCE_SAFE0'])\n",
    "drv.gpio_pin_set(*PIC_PINS['NFORCE_SAFE1'])\n",
    "drv.gpio_pin_set(*PIC_PINS['NFORCE_SAFE2'])"
   ]
  },
  {
   "cell_type": "code",
   "execution_count": null,
   "metadata": {},
   "outputs": [],
   "source": [
    "drv.gpio_pin_set(*PIC_PINS['CONNECT_TIA'])"
   ]
  },
  {
   "cell_type": "code",
   "execution_count": null,
   "metadata": {},
   "outputs": [],
   "source": [
    "drv.gpio_pin_set(*PIC_PINS['CONNECT_COLUMN_T'])"
   ]
  },
  {
   "cell_type": "code",
   "execution_count": null,
   "metadata": {},
   "outputs": [],
   "source": [
    "#drv.gpio_pin_set(*PIC_PINS['DPE_PULSE'])\n",
    "drv.gpio_pin_set(*PIC_PINS['AGC_PULSE'])"
   ]
  },
  {
   "cell_type": "code",
   "execution_count": null,
   "metadata": {},
   "outputs": [],
   "source": [
    "dut.pads_defaults()"
   ]
  },
  {
   "cell_type": "code",
   "execution_count": null,
   "metadata": {},
   "outputs": [],
   "source": [
    "drv.gpio_pin_reset(*PIC_PINS['ADC_FIFO_EN<0>'])\n",
    "drv.gpio_pin_reset(*PIC_PINS['ADC_FIFO_EN<1>'])\n",
    "drv.gpio_pin_reset(*PIC_PINS['ADC_FIFO_EN<2>'])\n",
    "drv.gpio_pin_reset(*PIC_PINS['ADC_FIFO_EN<3>'])\n",
    "\n",
    "data = drv.gpio_adc_read()\n",
    "print(f'{data:013b}', end='\\t')\n",
    "print( f'{adc2volt(data):.3f} V' )\n",
    "\n",
    "StrobeNum = 15\n",
    "for strobe in range(StrobeNum):\n",
    "    drv.gpio_pin_set(*PIC_PINS['ADC_FIFO_ADVANCE'])\n",
    "    drv.gpio_pin_reset(*PIC_PINS['ADC_FIFO_ADVANCE'])\n",
    "    data = drv.gpio_adc_read()\n",
    "    print(f'{data:013b}', end='\\t')\n",
    "    #print(strobe)\n",
    "    print( f'{adc2volt(data):.3f} V' )\n",
    "print()\n",
    "\n",
    "drv.gpio_pin_set(*PIC_PINS['ADC_FIFO_EN<0>'])\n",
    "drv.gpio_pin_reset(*PIC_PINS['ADC_FIFO_EN<1>'])\n",
    "drv.gpio_pin_reset(*PIC_PINS['ADC_FIFO_EN<2>'])\n",
    "drv.gpio_pin_reset(*PIC_PINS['ADC_FIFO_EN<3>'])\n",
    "\n",
    "data = drv.gpio_adc_read()\n",
    "print(f'{data:013b}', end='\\t')\n",
    "print( f'{adc2volt(data):.3f} V' )\n",
    "\n",
    "StrobeNum = 15\n",
    "for strobe in range(StrobeNum):\n",
    "    drv.gpio_pin_set(*PIC_PINS['ADC_FIFO_ADVANCE'])\n",
    "    drv.gpio_pin_reset(*PIC_PINS['ADC_FIFO_ADVANCE'])\n",
    "    data = drv.gpio_adc_read()\n",
    "    print(f'{data:013b}', end='\\t')\n",
    "    #print(strobe)\n",
    "    print( f'{adc2volt(data):.3f} V' )\n",
    "print()\n",
    "\n",
    "drv.gpio_pin_reset(*PIC_PINS['ADC_FIFO_EN<0>'])\n",
    "drv.gpio_pin_set(*PIC_PINS['ADC_FIFO_EN<1>'])\n",
    "drv.gpio_pin_reset(*PIC_PINS['ADC_FIFO_EN<2>'])\n",
    "drv.gpio_pin_reset(*PIC_PINS['ADC_FIFO_EN<3>'])\n",
    "\n",
    "data = drv.gpio_adc_read()\n",
    "print(f'{data:013b}', end='\\t')\n",
    "print( f'{adc2volt(data):.3f} V' )\n",
    "\n",
    "StrobeNum = 15\n",
    "for strobe in range(StrobeNum):\n",
    "    drv.gpio_pin_set(*PIC_PINS['ADC_FIFO_ADVANCE'])\n",
    "    drv.gpio_pin_reset(*PIC_PINS['ADC_FIFO_ADVANCE'])\n",
    "    data = drv.gpio_adc_read()\n",
    "    print(f'{data:013b}', end='\\t')\n",
    "    #print(strobe)\n",
    "    print( f'{adc2volt(data):.3f} V' )\n",
    "print()\n",
    "\n",
    "drv.gpio_pin_set(*PIC_PINS['ADC_FIFO_EN<0>'])\n",
    "drv.gpio_pin_set(*PIC_PINS['ADC_FIFO_EN<1>'])\n",
    "drv.gpio_pin_reset(*PIC_PINS['ADC_FIFO_EN<2>'])\n",
    "drv.gpio_pin_reset(*PIC_PINS['ADC_FIFO_EN<3>'])\n",
    "\n",
    "data = drv.gpio_adc_read()\n",
    "print(f'{data:013b}', end='\\t')\n",
    "print( f'{adc2volt(data):.3f} V' )\n",
    "\n",
    "StrobeNum = 15\n",
    "for strobe in range(StrobeNum):\n",
    "    drv.gpio_pin_set(*PIC_PINS['ADC_FIFO_ADVANCE'])\n",
    "    drv.gpio_pin_reset(*PIC_PINS['ADC_FIFO_ADVANCE'])\n",
    "    data = drv.gpio_adc_read()\n",
    "    print(f'{data:013b}', end='\\t')\n",
    "    #print(strobe)\n",
    "    print( f'{adc2volt(data):.3f} V' )\n",
    "print()\n",
    "\n",
    "drv.gpio_pin_reset(*PIC_PINS['ADC_FIFO_EN<0>'])\n",
    "drv.gpio_pin_reset(*PIC_PINS['ADC_FIFO_EN<1>'])\n",
    "drv.gpio_pin_set(*PIC_PINS['ADC_FIFO_EN<2>'])\n",
    "drv.gpio_pin_reset(*PIC_PINS['ADC_FIFO_EN<3>'])\n",
    "\n",
    "data = drv.gpio_adc_read()\n",
    "print(f'{data:013b}', end='\\t')\n",
    "print( f'{adc2volt(data):.3f} V' )\n",
    "\n",
    "StrobeNum = 15\n",
    "for strobe in range(StrobeNum):\n",
    "    drv.gpio_pin_set(*PIC_PINS['ADC_FIFO_ADVANCE'])\n",
    "    drv.gpio_pin_reset(*PIC_PINS['ADC_FIFO_ADVANCE'])\n",
    "    data = drv.gpio_adc_read()\n",
    "    print(f'{data:013b}', end='\\t')\n",
    "    #print(strobe)\n",
    "    print( f'{adc2volt(data):.3f} V' )\n",
    "print()\n",
    "\n",
    "drv.gpio_pin_set(*PIC_PINS['ADC_FIFO_EN<0>'])\n",
    "drv.gpio_pin_reset(*PIC_PINS['ADC_FIFO_EN<1>'])\n",
    "drv.gpio_pin_set(*PIC_PINS['ADC_FIFO_EN<2>'])\n",
    "drv.gpio_pin_reset(*PIC_PINS['ADC_FIFO_EN<3>'])\n",
    "\n",
    "data = drv.gpio_adc_read()\n",
    "print(f'{data:013b}', end='\\t')\n",
    "print( f'{adc2volt(data):.3f} V' )\n",
    "\n",
    "StrobeNum = 15\n",
    "for strobe in range(StrobeNum):\n",
    "    drv.gpio_pin_set(*PIC_PINS['ADC_FIFO_ADVANCE'])\n",
    "    drv.gpio_pin_reset(*PIC_PINS['ADC_FIFO_ADVANCE'])\n",
    "    data = drv.gpio_adc_read()\n",
    "    print(f'{data:013b}', end='\\t')\n",
    "    #print(strobe)\n",
    "    print( f'{adc2volt(data):.3f} V' )\n",
    "print()\n",
    "\n",
    "drv.gpio_pin_reset(*PIC_PINS['ADC_FIFO_EN<0>'])\n",
    "drv.gpio_pin_set(*PIC_PINS['ADC_FIFO_EN<1>'])\n",
    "drv.gpio_pin_set(*PIC_PINS['ADC_FIFO_EN<2>'])\n",
    "drv.gpio_pin_reset(*PIC_PINS['ADC_FIFO_EN<3>'])\n",
    "\n",
    "data = drv.gpio_adc_read()\n",
    "print(f'{data:013b}', end='\\t')\n",
    "print( f'{adc2volt(data):.3f} V' )\n",
    "\n",
    "StrobeNum = 15\n",
    "for strobe in range(StrobeNum):\n",
    "    drv.gpio_pin_set(*PIC_PINS['ADC_FIFO_ADVANCE'])\n",
    "    drv.gpio_pin_reset(*PIC_PINS['ADC_FIFO_ADVANCE'])\n",
    "    data = drv.gpio_adc_read()\n",
    "    print(f'{data:013b}', end='\\t')\n",
    "    #print(strobe)\n",
    "    print( f'{adc2volt(data):.3f} V' )\n",
    "print()\n",
    "\n",
    "drv.gpio_pin_set(*PIC_PINS['ADC_FIFO_EN<0>'])\n",
    "drv.gpio_pin_set(*PIC_PINS['ADC_FIFO_EN<1>'])\n",
    "drv.gpio_pin_set(*PIC_PINS['ADC_FIFO_EN<2>'])\n",
    "drv.gpio_pin_reset(*PIC_PINS['ADC_FIFO_EN<3>'])\n",
    "\n",
    "data = drv.gpio_adc_read()\n",
    "print(f'{data:013b}', end='\\t')\n",
    "print( f'{adc2volt(data):.3f} V' )\n",
    "\n",
    "StrobeNum = 15\n",
    "for strobe in range(StrobeNum):\n",
    "    drv.gpio_pin_set(*PIC_PINS['ADC_FIFO_ADVANCE'])\n",
    "    drv.gpio_pin_reset(*PIC_PINS['ADC_FIFO_ADVANCE'])\n",
    "    data = drv.gpio_adc_read()\n",
    "    print(f'{data:013b}', end='\\t')\n",
    "    #print(strobe)\n",
    "    print( f'{adc2volt(data):.3f} V' )\n",
    "print()\n",
    "\n",
    "drv.gpio_pin_reset(*PIC_PINS['ADC_FIFO_EN<0>'])\n",
    "drv.gpio_pin_reset(*PIC_PINS['ADC_FIFO_EN<1>'])\n",
    "drv.gpio_pin_reset(*PIC_PINS['ADC_FIFO_EN<2>'])\n",
    "drv.gpio_pin_set(*PIC_PINS['ADC_FIFO_EN<3>'])\n",
    "\n",
    "data = drv.gpio_adc_read()\n",
    "print(f'{data:013b}', end='\\t')\n",
    "print( f'{adc2volt(data):.3f} V' )\n",
    "\n",
    "StrobeNum = 15\n",
    "for strobe in range(StrobeNum):\n",
    "    drv.gpio_pin_set(*PIC_PINS['ADC_FIFO_ADVANCE'])\n",
    "    drv.gpio_pin_reset(*PIC_PINS['ADC_FIFO_ADVANCE'])\n",
    "    data = drv.gpio_adc_read()\n",
    "    print(f'{data:013b}', end='\\t')\n",
    "    #print(strobe)\n",
    "    print( f'{adc2volt(data):.3f} V' )\n",
    "print()\n",
    "\n",
    "drv.gpio_pin_set(*PIC_PINS['ADC_FIFO_EN<0>'])\n",
    "drv.gpio_pin_reset(*PIC_PINS['ADC_FIFO_EN<1>'])\n",
    "drv.gpio_pin_reset(*PIC_PINS['ADC_FIFO_EN<2>'])\n",
    "drv.gpio_pin_set(*PIC_PINS['ADC_FIFO_EN<3>'])\n",
    "\n",
    "data = drv.gpio_adc_read()\n",
    "print(f'{data:013b}', end='\\t')\n",
    "print( f'{adc2volt(data):.3f} V' )\n",
    "\n",
    "StrobeNum = 15\n",
    "for strobe in range(StrobeNum):\n",
    "    drv.gpio_pin_set(*PIC_PINS['ADC_FIFO_ADVANCE'])\n",
    "    drv.gpio_pin_reset(*PIC_PINS['ADC_FIFO_ADVANCE'])\n",
    "    data = drv.gpio_adc_read()\n",
    "    print(f'{data:013b}', end='\\t')\n",
    "    #print(strobe)\n",
    "    print( f'{adc2volt(data):.3f} V' )\n",
    "print()\n",
    "\n",
    "drv.gpio_pin_reset(*PIC_PINS['ADC_FIFO_EN<0>'])\n",
    "drv.gpio_pin_set(*PIC_PINS['ADC_FIFO_EN<1>'])\n",
    "drv.gpio_pin_reset(*PIC_PINS['ADC_FIFO_EN<2>'])\n",
    "drv.gpio_pin_set(*PIC_PINS['ADC_FIFO_EN<3>'])\n",
    "\n",
    "data = drv.gpio_adc_read()\n",
    "print(f'{data:013b}', end='\\t')\n",
    "print( f'{adc2volt(data):.3f} V' )\n",
    "\n",
    "StrobeNum = 15\n",
    "for strobe in range(StrobeNum):\n",
    "    drv.gpio_pin_set(*PIC_PINS['ADC_FIFO_ADVANCE'])\n",
    "    drv.gpio_pin_reset(*PIC_PINS['ADC_FIFO_ADVANCE'])\n",
    "    data = drv.gpio_adc_read()\n",
    "    print(f'{data:013b}', end='\\t')\n",
    "    #print(strobe)\n",
    "    print( f'{adc2volt(data):.3f} V' )\n",
    "print()\n",
    "\n",
    "drv.gpio_pin_set(*PIC_PINS['ADC_FIFO_EN<0>'])\n",
    "drv.gpio_pin_set(*PIC_PINS['ADC_FIFO_EN<1>'])\n",
    "drv.gpio_pin_reset(*PIC_PINS['ADC_FIFO_EN<2>'])\n",
    "drv.gpio_pin_set(*PIC_PINS['ADC_FIFO_EN<3>'])\n",
    "\n",
    "data = drv.gpio_adc_read()\n",
    "print(f'{data:013b}', end='\\t')\n",
    "print( f'{adc2volt(data):.3f} V' )\n",
    "\n",
    "StrobeNum = 15\n",
    "for strobe in range(StrobeNum):\n",
    "    drv.gpio_pin_set(*PIC_PINS['ADC_FIFO_ADVANCE'])\n",
    "    drv.gpio_pin_reset(*PIC_PINS['ADC_FIFO_ADVANCE'])\n",
    "    data = drv.gpio_adc_read()\n",
    "    print(f'{data:013b}', end='\\t')\n",
    "    #print(strobe)\n",
    "    print( f'{adc2volt(data):.3f} V' )\n",
    "print()"
   ]
  },
  {
   "cell_type": "code",
   "execution_count": null,
   "metadata": {},
   "outputs": [],
   "source": [
    "drv.gpio_pin_reset(*PIC_PINS['ADC_FIFO_EN<0>'])\n",
    "drv.gpio_pin_reset(*PIC_PINS['ADC_FIFO_EN<1>'])\n",
    "drv.gpio_pin_reset(*PIC_PINS['ADC_FIFO_EN<2>'])\n",
    "drv.gpio_pin_reset(*PIC_PINS['ADC_FIFO_EN<3>'])\n",
    "\n",
    "data = drv.gpio_adc_read()\n",
    "print(f'{data:013b}', end='\\t')\n",
    "print( f'{adc2volt(data):.3f} V' )\n",
    "\n",
    "StrobeNum = 15\n",
    "for strobe in range(StrobeNum):\n",
    "    drv.gpio_pin_set(*PIC_PINS['ADC_FIFO_ADVANCE'])\n",
    "    drv.gpio_pin_reset(*PIC_PINS['ADC_FIFO_ADVANCE'])\n",
    "    data = drv.gpio_adc_read()\n",
    "    print(f'{data:013b}', end='\\t')\n",
    "    #print(strobe)\n",
    "    print( f'{adc2volt(data):.3f} V' )"
   ]
  },
  {
   "cell_type": "code",
   "execution_count": null,
   "metadata": {},
   "outputs": [],
   "source": [
    "drv.gpio_pin_set(*PIC_PINS['ADC_FIFO_EN<0>'])\n",
    "drv.gpio_pin_reset(*PIC_PINS['ADC_FIFO_EN<1>'])\n",
    "drv.gpio_pin_reset(*PIC_PINS['ADC_FIFO_EN<2>'])\n",
    "drv.gpio_pin_reset(*PIC_PINS['ADC_FIFO_EN<3>'])\n",
    "\n",
    "data = drv.gpio_adc_read()\n",
    "print(f'{data:013b}', end='\\t')\n",
    "print( f'{adc2volt(data):.3f} V' )\n",
    "\n",
    "StrobeNum = 15\n",
    "for strobe in range(StrobeNum):\n",
    "    drv.gpio_pin_set(*PIC_PINS['ADC_FIFO_ADVANCE'])\n",
    "    drv.gpio_pin_reset(*PIC_PINS['ADC_FIFO_ADVANCE'])\n",
    "    data = drv.gpio_adc_read()\n",
    "    print(f'{data:013b}', end='\\t')\n",
    "    #print(strobe)\n",
    "    print( f'{adc2volt(data):.3f} V' )"
   ]
  },
  {
   "cell_type": "code",
   "execution_count": null,
   "metadata": {},
   "outputs": [],
   "source": [
    "drv.gpio_pin_reset(*PIC_PINS['ADC_FIFO_EN<0>'])\n",
    "drv.gpio_pin_set(*PIC_PINS['ADC_FIFO_EN<1>'])\n",
    "drv.gpio_pin_reset(*PIC_PINS['ADC_FIFO_EN<2>'])\n",
    "drv.gpio_pin_reset(*PIC_PINS['ADC_FIFO_EN<3>'])\n",
    "\n",
    "data = drv.gpio_adc_read()\n",
    "print(f'{data:013b}', end='\\t')\n",
    "print( f'{adc2volt(data):.3f} V' )\n",
    "\n",
    "StrobeNum = 15\n",
    "for strobe in range(StrobeNum):\n",
    "    drv.gpio_pin_set(*PIC_PINS['ADC_FIFO_ADVANCE'])\n",
    "    drv.gpio_pin_reset(*PIC_PINS['ADC_FIFO_ADVANCE'])\n",
    "    data = drv.gpio_adc_read()\n",
    "    print(f'{data:013b}', end='\\t')\n",
    "    #print(strobe)\n",
    "    print( f'{adc2volt(data):.3f} V' )"
   ]
  },
  {
   "cell_type": "code",
   "execution_count": null,
   "metadata": {},
   "outputs": [],
   "source": [
    "drv.gpio_pin_set(*PIC_PINS['ADC_FIFO_EN<0>'])\n",
    "drv.gpio_pin_set(*PIC_PINS['ADC_FIFO_EN<1>'])\n",
    "drv.gpio_pin_reset(*PIC_PINS['ADC_FIFO_EN<2>'])\n",
    "drv.gpio_pin_reset(*PIC_PINS['ADC_FIFO_EN<3>'])\n",
    "\n",
    "data = drv.gpio_adc_read()\n",
    "print(f'{data:013b}', end='\\t')\n",
    "print( f'{adc2volt(data):.3f} V' )\n",
    "\n",
    "StrobeNum = 15\n",
    "for strobe in range(StrobeNum):\n",
    "    drv.gpio_pin_set(*PIC_PINS['ADC_FIFO_ADVANCE'])\n",
    "    drv.gpio_pin_reset(*PIC_PINS['ADC_FIFO_ADVANCE'])\n",
    "    data = drv.gpio_adc_read()\n",
    "    print(f'{data:013b}', end='\\t')\n",
    "    #print(strobe)\n",
    "    print( f'{adc2volt(data):.3f} V' )"
   ]
  },
  {
   "cell_type": "code",
   "execution_count": null,
   "metadata": {},
   "outputs": [],
   "source": [
    "drv.gpio_pin_reset(*PIC_PINS['ADC_FIFO_EN<0>'])\n",
    "drv.gpio_pin_reset(*PIC_PINS['ADC_FIFO_EN<1>'])\n",
    "drv.gpio_pin_set(*PIC_PINS['ADC_FIFO_EN<2>'])\n",
    "drv.gpio_pin_reset(*PIC_PINS['ADC_FIFO_EN<3>'])\n",
    "\n",
    "data = drv.gpio_adc_read()\n",
    "print(f'{data:013b}', end='\\t')\n",
    "print( f'{adc2volt(data):.3f} V' )\n",
    "\n",
    "StrobeNum = 15\n",
    "for strobe in range(StrobeNum):\n",
    "    drv.gpio_pin_set(*PIC_PINS['ADC_FIFO_ADVANCE'])\n",
    "    drv.gpio_pin_reset(*PIC_PINS['ADC_FIFO_ADVANCE'])\n",
    "    data = drv.gpio_adc_read()\n",
    "    print(f'{data:013b}', end='\\t')\n",
    "    #print(strobe)\n",
    "    print( f'{adc2volt(data):.3f} V' )"
   ]
  },
  {
   "cell_type": "code",
   "execution_count": null,
   "metadata": {},
   "outputs": [],
   "source": [
    "drv.gpio_pin_set(*PIC_PINS['ADC_FIFO_EN<0>'])\n",
    "drv.gpio_pin_reset(*PIC_PINS['ADC_FIFO_EN<1>'])\n",
    "drv.gpio_pin_set(*PIC_PINS['ADC_FIFO_EN<2>'])\n",
    "drv.gpio_pin_reset(*PIC_PINS['ADC_FIFO_EN<3>'])\n",
    "\n",
    "data = drv.gpio_adc_read()\n",
    "print(f'{data:013b}', end='\\t')\n",
    "print( f'{adc2volt(data):.3f} V' )\n",
    "\n",
    "StrobeNum = 15\n",
    "for strobe in range(StrobeNum):\n",
    "    drv.gpio_pin_set(*PIC_PINS['ADC_FIFO_ADVANCE'])\n",
    "    drv.gpio_pin_reset(*PIC_PINS['ADC_FIFO_ADVANCE'])\n",
    "    data = drv.gpio_adc_read()\n",
    "    print(f'{data:013b}', end='\\t')\n",
    "    #print(strobe)\n",
    "    print( f'{adc2volt(data):.3f} V' )"
   ]
  },
  {
   "cell_type": "code",
   "execution_count": null,
   "metadata": {},
   "outputs": [],
   "source": [
    "drv.gpio_pin_reset(*PIC_PINS['ADC_FIFO_EN<0>'])\n",
    "drv.gpio_pin_set(*PIC_PINS['ADC_FIFO_EN<1>'])\n",
    "drv.gpio_pin_set(*PIC_PINS['ADC_FIFO_EN<2>'])\n",
    "drv.gpio_pin_reset(*PIC_PINS['ADC_FIFO_EN<3>'])\n",
    "\n",
    "data = drv.gpio_adc_read()\n",
    "print(f'{data:013b}', end='\\t')\n",
    "print( f'{adc2volt(data):.3f} V' )\n",
    "\n",
    "StrobeNum = 15\n",
    "for strobe in range(StrobeNum):\n",
    "    drv.gpio_pin_set(*PIC_PINS['ADC_FIFO_ADVANCE'])\n",
    "    drv.gpio_pin_reset(*PIC_PINS['ADC_FIFO_ADVANCE'])\n",
    "    data = drv.gpio_adc_read()\n",
    "    print(f'{data:013b}', end='\\t')\n",
    "    #print(strobe)\n",
    "    print( f'{adc2volt(data):.3f} V' )"
   ]
  },
  {
   "cell_type": "code",
   "execution_count": null,
   "metadata": {},
   "outputs": [],
   "source": [
    "drv.gpio_pin_set(*PIC_PINS['ADC_FIFO_EN<0>'])\n",
    "drv.gpio_pin_set(*PIC_PINS['ADC_FIFO_EN<1>'])\n",
    "drv.gpio_pin_set(*PIC_PINS['ADC_FIFO_EN<2>'])\n",
    "drv.gpio_pin_reset(*PIC_PINS['ADC_FIFO_EN<3>'])\n",
    "\n",
    "data = drv.gpio_adc_read()\n",
    "print(f'{data:013b}', end='\\t')\n",
    "print( f'{adc2volt(data):.3f} V' )\n",
    "\n",
    "StrobeNum = 15\n",
    "for strobe in range(StrobeNum):\n",
    "    drv.gpio_pin_set(*PIC_PINS['ADC_FIFO_ADVANCE'])\n",
    "    drv.gpio_pin_reset(*PIC_PINS['ADC_FIFO_ADVANCE'])\n",
    "    data = drv.gpio_adc_read()\n",
    "    print(f'{data:013b}', end='\\t')\n",
    "    #print(strobe)\n",
    "    print( f'{adc2volt(data):.3f} V' )"
   ]
  },
  {
   "cell_type": "code",
   "execution_count": null,
   "metadata": {},
   "outputs": [],
   "source": [
    "drv.gpio_pin_reset(*PIC_PINS['ADC_FIFO_EN<0>'])\n",
    "drv.gpio_pin_reset(*PIC_PINS['ADC_FIFO_EN<1>'])\n",
    "drv.gpio_pin_reset(*PIC_PINS['ADC_FIFO_EN<2>'])\n",
    "drv.gpio_pin_set(*PIC_PINS['ADC_FIFO_EN<3>'])\n",
    "\n",
    "data = drv.gpio_adc_read()\n",
    "print(f'{data:013b}', end='\\t')\n",
    "print( f'{adc2volt(data):.3f} V' )\n",
    "\n",
    "StrobeNum = 15\n",
    "for strobe in range(StrobeNum):\n",
    "    drv.gpio_pin_set(*PIC_PINS['ADC_FIFO_ADVANCE'])\n",
    "    drv.gpio_pin_reset(*PIC_PINS['ADC_FIFO_ADVANCE'])\n",
    "    data = drv.gpio_adc_read()\n",
    "    print(f'{data:013b}', end='\\t')\n",
    "    #print(strobe)\n",
    "    print( f'{adc2volt(data):.3f} V' )"
   ]
  },
  {
   "cell_type": "code",
   "execution_count": null,
   "metadata": {},
   "outputs": [],
   "source": [
    "drv.gpio_pin_set(*PIC_PINS['ADC_FIFO_EN<0>'])\n",
    "drv.gpio_pin_reset(*PIC_PINS['ADC_FIFO_EN<1>'])\n",
    "drv.gpio_pin_reset(*PIC_PINS['ADC_FIFO_EN<2>'])\n",
    "drv.gpio_pin_set(*PIC_PINS['ADC_FIFO_EN<3>'])\n",
    "\n",
    "data = drv.gpio_adc_read()\n",
    "print(f'{data:013b}', end='\\t')\n",
    "print( f'{adc2volt(data):.3f} V' )\n",
    "\n",
    "StrobeNum = 15\n",
    "for strobe in range(StrobeNum):\n",
    "    drv.gpio_pin_set(*PIC_PINS['ADC_FIFO_ADVANCE'])\n",
    "    drv.gpio_pin_reset(*PIC_PINS['ADC_FIFO_ADVANCE'])\n",
    "    data = drv.gpio_adc_read()\n",
    "    print(f'{data:013b}', end='\\t')\n",
    "    #print(strobe)\n",
    "    print( f'{adc2volt(data):.3f} V' )"
   ]
  },
  {
   "cell_type": "code",
   "execution_count": null,
   "metadata": {},
   "outputs": [],
   "source": [
    "drv.gpio_pin_reset(*PIC_PINS['ADC_FIFO_EN<0>'])\n",
    "drv.gpio_pin_set(*PIC_PINS['ADC_FIFO_EN<1>'])\n",
    "drv.gpio_pin_reset(*PIC_PINS['ADC_FIFO_EN<2>'])\n",
    "drv.gpio_pin_set(*PIC_PINS['ADC_FIFO_EN<3>'])\n",
    "\n",
    "data = drv.gpio_adc_read()\n",
    "print(f'{data:013b}', end='\\t')\n",
    "print( f'{adc2volt(data):.3f} V' )\n",
    "\n",
    "StrobeNum = 15\n",
    "for strobe in range(StrobeNum):\n",
    "    drv.gpio_pin_set(*PIC_PINS['ADC_FIFO_ADVANCE'])\n",
    "    drv.gpio_pin_reset(*PIC_PINS['ADC_FIFO_ADVANCE'])\n",
    "    data = drv.gpio_adc_read()\n",
    "    print(f'{data:013b}', end='\\t')\n",
    "    #print(strobe)\n",
    "    print( f'{adc2volt(data):.3f} V' )"
   ]
  },
  {
   "cell_type": "code",
   "execution_count": null,
   "metadata": {},
   "outputs": [],
   "source": [
    "drv.gpio_pin_set(*PIC_PINS['ADC_FIFO_EN<0>'])\n",
    "drv.gpio_pin_set(*PIC_PINS['ADC_FIFO_EN<1>'])\n",
    "drv.gpio_pin_reset(*PIC_PINS['ADC_FIFO_EN<2>'])\n",
    "drv.gpio_pin_set(*PIC_PINS['ADC_FIFO_EN<3>'])\n",
    "\n",
    "data = drv.gpio_adc_read()\n",
    "print(f'{data:013b}', end='\\t')\n",
    "print( f'{adc2volt(data):.3f} V' )\n",
    "\n",
    "StrobeNum = 15\n",
    "for strobe in range(StrobeNum):\n",
    "    drv.gpio_pin_set(*PIC_PINS['ADC_FIFO_ADVANCE'])\n",
    "    drv.gpio_pin_reset(*PIC_PINS['ADC_FIFO_ADVANCE'])\n",
    "    data = drv.gpio_adc_read()\n",
    "    print(f'{data:013b}', end='\\t')\n",
    "    #print(strobe)\n",
    "    print( f'{adc2volt(data):.3f} V' )"
   ]
  },
  {
   "cell_type": "code",
   "execution_count": null,
   "metadata": {},
   "outputs": [],
   "source": []
  },
  {
   "cell_type": "code",
   "execution_count": null,
   "metadata": {},
   "outputs": [],
   "source": [
    "roc = [1 ,1, 1]\n",
    "# data= 0b1111111111111111\n",
    "data= 0x0000\n",
    "array= [0, 1, 2]\n",
    "N = 3\n",
    "for a in range(0, N-1):\n",
    "    drv.gpio_pin_set(*PIC_PINS['ARRAY_EN<%d>' %(array[a])])\n",
    "    if roc[a] == 1:\n",
    "        drv.gpio_pin_set(*PIC_PINS['COL_ROW_SEL'])\n",
    "    elif roc[a] == 0:\n",
    "        drv.gpio_pin_reset(*PIC_PINS['COL_ROW_SEL'])\n",
    "    else:\n",
    "        print('error, roc = 0 or 1')\n",
    "        \n",
    "    drv.gpio_row_col_bank_write(0b1000)\n",
    "    drv.gpio_row_col_data_write(data)\n",
    "    time.sleep(1e-7)\n",
    "    drv.gpio_pin_set(*PIC_PINS['LATCH_CLK_DATA'])\n",
    "    time.sleep(1e-7)\n",
    "    drv.gpio_pin_reset(*PIC_PINS['LATCH_CLK_DATA'])\n",
    "\n",
    "    drv.gpio_row_col_bank_write(0b0100)\n",
    "    drv.gpio_row_col_data_write(data)\n",
    "    time.sleep(1e-7)\n",
    "    drv.gpio_pin_set(*PIC_PINS['LATCH_CLK_DATA'])\n",
    "    time.sleep(1e-7)\n",
    "    drv.gpio_pin_reset(*PIC_PINS['LATCH_CLK_DATA'])\n",
    "\n",
    "    drv.gpio_row_col_bank_write(0b0010)\n",
    "    drv.gpio_row_col_data_write(data)\n",
    "    time.sleep(1e-7)\n",
    "    drv.gpio_pin_set(*PIC_PINS['LATCH_CLK_DATA'])\n",
    "    time.sleep(1e-7)\n",
    "    drv.gpio_pin_reset(*PIC_PINS['LATCH_CLK_DATA'])\n",
    "\n",
    "    drv.gpio_row_col_bank_write(0b0001)\n",
    "    drv.gpio_row_col_data_write(data)\n",
    "    time.sleep(1e-7)\n",
    "    drv.gpio_pin_set(*PIC_PINS['LATCH_CLK_DATA'])\n",
    "    time.sleep(1e-7)\n",
    "    drv.gpio_pin_reset(*PIC_PINS['LATCH_CLK_DATA'])\n",
    "\n",
    "    drv.gpio_pin_reset(*PIC_PINS['ARRAY_EN<%d>' %(array[a])])"
   ]
  }
 ],
 "metadata": {
  "kernelspec": {
   "display_name": "Python 3",
   "language": "python",
   "name": "python3"
  },
  "language_info": {
   "codemirror_mode": {
    "name": "ipython",
    "version": 3
   },
   "file_extension": ".py",
   "mimetype": "text/x-python",
   "name": "python",
   "nbconvert_exporter": "python",
   "pygments_lexer": "ipython3",
   "version": "3.7.4"
  }
 },
 "nbformat": 4,
 "nbformat_minor": 4
}
