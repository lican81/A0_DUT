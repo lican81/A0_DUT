{
 "cells": [
  {
   "cell_type": "code",
   "execution_count": 1,
   "metadata": {},
   "outputs": [],
   "source": [
    "%load_ext autoreload\n",
    "%autoreload\n",
    "\n",
    "import dut_func as dut\n",
    "import serial\n",
    "import time\n",
    "import struct\n",
    "import numpy as np\n",
    "# from bitarray import bitarray\n",
    "from bitstring import BitArray\n",
    "\n",
    "from misc import *\n",
    "\n",
    "# dut.drv.serUSB = 'COM19'\n",
    "drv = dut.drv\n",
    "\n",
    "ser = serial.Serial('COM6', 9600, timeout=1)\n",
    "dut.connect(ser)\n",
    "\n"
   ]
  },
  {
   "cell_type": "code",
   "execution_count": 213,
   "metadata": {},
   "outputs": [
    {
     "name": "stdout",
     "output_type": "stream",
     "text": [
      "Serial port disconnected.\n"
     ]
    }
   ],
   "source": [
    "dut.disconnect()"
   ]
  },
  {
   "cell_type": "code",
   "execution_count": 2,
   "metadata": {},
   "outputs": [],
   "source": [
    "dut.pads_defaults()"
   ]
  },
  {
   "cell_type": "code",
   "execution_count": 79,
   "metadata": {},
   "outputs": [
    {
     "name": "stdout",
     "output_type": "stream",
     "text": [
      "DAC initialized to a span from -5 V to 5 V\n"
     ]
    }
   ],
   "source": [
    "dut.dac_set('PLANE_VPP', 0.22)"
   ]
  },
  {
   "cell_type": "code",
   "execution_count": 448,
   "metadata": {},
   "outputs": [
    {
     "data": {
      "text/plain": [
       "array([0.        , 0.49802198, 0.07413919, 0.48190476, 5.10271062])"
      ]
     },
     "execution_count": 448,
     "metadata": {},
     "output_type": "execute_result"
    }
   ],
   "source": [
    "voltages = drv.pic_adc_read() *2\n",
    "voltages"
   ]
  },
  {
   "cell_type": "markdown",
   "metadata": {},
   "source": [
    "Set up various DAC channels"
   ]
  },
  {
   "cell_type": "code",
   "execution_count": 437,
   "metadata": {},
   "outputs": [],
   "source": [
    "dut.dac_set('DAC_VREF_HI_CMP', 3.92)"
   ]
  },
  {
   "cell_type": "code",
   "execution_count": 438,
   "metadata": {},
   "outputs": [],
   "source": [
    "dut.dac_set('P_VREF_SH', 2.42)"
   ]
  },
  {
   "cell_type": "code",
   "execution_count": 439,
   "metadata": {},
   "outputs": [],
   "source": [
    "dut.dac_set('P_VAGC_1', 3.9)"
   ]
  },
  {
   "cell_type": "code",
   "execution_count": 440,
   "metadata": {},
   "outputs": [],
   "source": [
    "dut.dac_set('P_VAGC_0', 1)"
   ]
  },
  {
   "cell_type": "code",
   "execution_count": 441,
   "metadata": {},
   "outputs": [],
   "source": [
    "dut.dac_set('P_TVDD', 4.92)"
   ]
  },
  {
   "cell_type": "code",
   "execution_count": 442,
   "metadata": {},
   "outputs": [],
   "source": [
    "dut.dac_set('P_TVDD', 1.)"
   ]
  },
  {
   "cell_type": "code",
   "execution_count": 443,
   "metadata": {},
   "outputs": [],
   "source": [
    "dut.dac_set('P_VREF_TIA', 0.42)"
   ]
  },
  {
   "cell_type": "code",
   "execution_count": 444,
   "metadata": {},
   "outputs": [],
   "source": [
    "dut.dac_set('DAC_VREF_ARRAY', 0.42)"
   ]
  },
  {
   "cell_type": "code",
   "execution_count": 445,
   "metadata": {},
   "outputs": [],
   "source": [
    "dut.dac_set('DAC_VP_PAD', 2.5)"
   ]
  },
  {
   "cell_type": "code",
   "execution_count": 446,
   "metadata": {},
   "outputs": [],
   "source": [
    "dut.dac_set('P_AMP_VREF', 2.5)"
   ]
  },
  {
   "cell_type": "code",
   "execution_count": 447,
   "metadata": {},
   "outputs": [],
   "source": [
    "dut.dac_set('P_AMP_INPUT', 2.5)"
   ]
  },
  {
   "cell_type": "markdown",
   "metadata": {},
   "source": [
    "________________"
   ]
  },
  {
   "cell_type": "markdown",
   "metadata": {},
   "source": [
    "Assert Power GOOD"
   ]
  },
  {
   "cell_type": "code",
   "execution_count": 449,
   "metadata": {},
   "outputs": [],
   "source": [
    "drv.gpio_pin_set(*PIC_PINS['PWR_GOOD'])"
   ]
  },
  {
   "cell_type": "markdown",
   "metadata": {},
   "source": [
    "Pulse RESET chip with a rising edge"
   ]
  },
  {
   "cell_type": "code",
   "execution_count": 450,
   "metadata": {},
   "outputs": [],
   "source": [
    "portName, pinPos = PIC_PINS['NRESET_FULL_CHIP']\n",
    "drv.gpio_pin_reset(portName, pinPos)\n",
    "time.sleep(0.1) # want to delay 1us\n",
    "drv.gpio_pin_set(portName, pinPos)"
   ]
  },
  {
   "cell_type": "markdown",
   "metadata": {},
   "source": [
    "Send a scan chain data"
   ]
  },
  {
   "cell_type": "code",
   "execution_count": 451,
   "metadata": {},
   "outputs": [],
   "source": [
    "data = bytes([0x10, 0x20, 0x0c, 0x10, 0x20, 0x01, 0x02])\n",
    "drv.spi_serial_write(2, data)"
   ]
  },
  {
   "cell_type": "code",
   "execution_count": 18,
   "metadata": {},
   "outputs": [
    {
     "name": "stdout",
     "output_type": "stream",
     "text": [
      "b'\\xc10L\\x13\\x04\\xc10L\\x13\\x04\\xc10L\\x13\\x04\\xc10L\\x13\\x04\\xc10L\\x13\\x04\\xc10L\\x13\\x04\\xc10L\\x13\\x04\\xc10L\\x13\\x04\\xc10L\\x13\\x04\\xc10L\\x13\\x04\\xc10L\\x13\\x04\\xc10L\\x13\\x04\\xc10L\\x13\\x04\\xc10L\\x13\\x04\\xc10L\\x13\\x04\\xc10L\\x13\\x04\\xc10L\\x13\\x04\\xc10L\\x13\\x04\\xc10L\\x13\\x04\\xc10L\\x13\\x04\\xc10L\\x13\\x04\\xc10L\\x13\\x04\\xc10L\\x13\\x04\\xc10L\\x13\\x04'\n"
     ]
    }
   ],
   "source": [
    "# TIA SCAN IN OP AMPS ENABLED, No COMPENSATION, 30k gain\n",
    "data = bytes([0b1100_0001, 0b0011_0000, 0b0100_1100, 0b0001_0011, 0b0000_0100]*24)\n",
    "print(data)\n",
    "drv.spi_serial_write(1, data)"
   ]
  },
  {
   "cell_type": "code",
   "execution_count": 173,
   "metadata": {},
   "outputs": [],
   "source": [
    "for _ in range(20):\n",
    "    data = bytes([0x10, 0x20, 0x0c, 0x00, 0x20, 0x01, 0x02] * 20)\n",
    "    drv.spi_serial_write(1, data)"
   ]
  },
  {
   "cell_type": "code",
   "execution_count": 89,
   "metadata": {},
   "outputs": [
    {
     "data": {
      "text/plain": [
       "b'\\x10 \\x0c\\x00 \\x01\\x02\\x10 \\x0c\\x00 \\x01\\x02\\x10 \\x0c\\x00 \\x01\\x02\\x10 \\x0c\\x00 \\x01\\x02\\x10 \\x0c\\x00 \\x01\\x02\\x10 \\x0c\\x00 \\x01\\x02\\x10 \\x0c\\x00 \\x01\\x02\\x10 \\x0c\\x00 \\x01\\x02\\x10 \\x0c\\x00 \\x01\\x02\\x10 \\x0c\\x00 \\x01\\x02\\x10 \\x0c\\x00 \\x01\\x02\\x10 \\x0c\\x00 \\x01\\x02\\x10 \\x0c\\x00 \\x01\\x02\\x10 \\x0c\\x00 \\x01\\x02\\x10 \\x0c\\x00 \\x01\\x02\\x10 \\x0c\\x00 \\x01\\x02\\x10 \\x0c\\x00 \\x01\\x02\\x10 \\x0c\\x00 \\x01\\x02\\x10 \\x0c\\x00 \\x01\\x02\\x10 \\x0c\\x00 \\x01\\x02'"
      ]
     },
     "execution_count": 89,
     "metadata": {},
     "output_type": "execute_result"
    }
   ],
   "source": [
    "data"
   ]
  },
  {
   "cell_type": "code",
   "execution_count": 20,
   "metadata": {},
   "outputs": [
    {
     "name": "stdout",
     "output_type": "stream",
     "text": [
      "Serial port disconnected.\n"
     ]
    }
   ],
   "source": [
    "dut.disconnect()"
   ]
  },
  {
   "cell_type": "code",
   "execution_count": 36,
   "metadata": {},
   "outputs": [],
   "source": [
    "# NOTE: first power on requires physical switch actions on DUT board as well as PIC commands\n",
    "\n",
    "# FIRST: SWITCH microntroller VDD power ON (i.e. power up microcontroller)\n",
    "time.sleep(1) # want to delay 1us\n",
    "drv.gpio_pin_reset(*PIC_PINS['NRESET_FULL_CHIP'])\n",
    "drv.gpio_pin_reset(*PIC_PINS['NRESET_DPE_ENGINE'])\n",
    "dut.pads_defaults()\n",
    "#dut.dac_init()"
   ]
  },
  {
   "cell_type": "code",
   "execution_count": 19,
   "metadata": {},
   "outputs": [],
   "source": [
    "# Control block scan chain for power up LEAVE ALONE\n",
    "data = bytes([0b000_10000, 0b0000_0010 , 0b0000_1100,0b0001_0000, 0b0010_0000, 0b00000001, 0b00000010])\n",
    "drv.spi_serial_write(2, data) # addr 1 here means SERIAL_CHAIN_SEL0 is 1 and _SEL1 is 0"
   ]
  },
  {
   "cell_type": "code",
   "execution_count": 40,
   "metadata": {},
   "outputs": [],
   "source": [
    "drv.clk_start('CK_ARRAY')\n",
    "drv.clk_start('ADC_CK')"
   ]
  },
  {
   "cell_type": "code",
   "execution_count": 24,
   "metadata": {},
   "outputs": [],
   "source": [
    "drv.gpio_pin_reset(*PIC_PINS['NRESET_DPE_ENGINE'])\n",
    "time.sleep(1e-6) # want to delay 1us\n",
    "drv.gpio_pin_set(*PIC_PINS['NRESET_DPE_ENGINE'])"
   ]
  },
  {
   "cell_type": "code",
   "execution_count": 86,
   "metadata": {},
   "outputs": [],
   "source": [
    "drv.gpio_pin_set(*PIC_PINS['DPE_EXT_OVERRIDE_EN'])"
   ]
  },
  {
   "cell_type": "code",
   "execution_count": 87,
   "metadata": {},
   "outputs": [],
   "source": [
    "drv.gpio_pin_set(*PIC_PINS['DPE_EXT_SH'])"
   ]
  },
  {
   "cell_type": "code",
   "execution_count": 86,
   "metadata": {},
   "outputs": [],
   "source": [
    "drv.gpio_pin_set(*PIC_PINS['NFORCE_SAFE0'])\n",
    "drv.gpio_pin_set(*PIC_PINS['NFORCE_SAFE1'])\n",
    "drv.gpio_pin_set(*PIC_PINS['NFORCE_SAFE2'])"
   ]
  },
  {
   "cell_type": "code",
   "execution_count": 80,
   "metadata": {},
   "outputs": [],
   "source": [
    "drv.gpio_pin_set(*PIC_PINS['PWR_GOOD'])"
   ]
  },
  {
   "cell_type": "code",
   "execution_count": 85,
   "metadata": {},
   "outputs": [],
   "source": [
    "drv.gpio_pin_reset(*PIC_PINS['NFORCE_SAFE0'])\n",
    "drv.gpio_pin_reset(*PIC_PINS['NFORCE_SAFE1'])\n",
    "drv.gpio_pin_reset(*PIC_PINS['NFORCE_SAFE2'])"
   ]
  },
  {
   "cell_type": "code",
   "execution_count": 25,
   "metadata": {},
   "outputs": [],
   "source": [
    "drv.gpio_pin_reset(*PIC_PINS['DPE_EXT_OVERRIDE_EN'])"
   ]
  },
  {
   "cell_type": "code",
   "execution_count": 26,
   "metadata": {},
   "outputs": [],
   "source": [
    "drv.gpio_pin_reset(*PIC_PINS['DPE_EXT_SH'])"
   ]
  },
  {
   "cell_type": "code",
   "execution_count": 27,
   "metadata": {
    "collapsed": true,
    "jupyter": {
     "outputs_hidden": true
    }
   },
   "outputs": [
    {
     "ename": "KeyboardInterrupt",
     "evalue": "",
     "output_type": "error",
     "traceback": [
      "\u001b[1;31m---------------------------------------------------------------------------\u001b[0m",
      "\u001b[1;31mKeyboardInterrupt\u001b[0m                         Traceback (most recent call last)",
      "\u001b[1;32m<ipython-input-27-7b3e0b671500>\u001b[0m in \u001b[0;36m<module>\u001b[1;34m\u001b[0m\n\u001b[0;32m     13\u001b[0m \u001b[1;31m# drv.gpio_pin_reset(*PIC_PINS['DPE_EXT_SH'])\u001b[0m\u001b[1;33m\u001b[0m\u001b[1;33m\u001b[0m\u001b[1;33m\u001b[0m\u001b[0m\n\u001b[0;32m     14\u001b[0m \u001b[1;32mwhile\u001b[0m \u001b[1;32mTrue\u001b[0m\u001b[1;33m:\u001b[0m\u001b[1;33m\u001b[0m\u001b[1;33m\u001b[0m\u001b[0m\n\u001b[1;32m---> 15\u001b[1;33m     \u001b[1;32mif\u001b[0m \u001b[0mdrv\u001b[0m\u001b[1;33m.\u001b[0m\u001b[0mgpio_pin_is_high\u001b[0m\u001b[1;33m(\u001b[0m\u001b[1;33m*\u001b[0m\u001b[0mPIC_PINS\u001b[0m\u001b[1;33m[\u001b[0m\u001b[1;34m'ADC_DONE'\u001b[0m\u001b[1;33m]\u001b[0m\u001b[1;33m)\u001b[0m\u001b[1;33m:\u001b[0m\u001b[1;33m\u001b[0m\u001b[1;33m\u001b[0m\u001b[0m\n\u001b[0m\u001b[0;32m     16\u001b[0m         \u001b[1;32mbreak\u001b[0m\u001b[1;33m\u001b[0m\u001b[1;33m\u001b[0m\u001b[0m\n\u001b[0;32m     17\u001b[0m \u001b[1;31m#download_fifo()\u001b[0m\u001b[1;33m\u001b[0m\u001b[1;33m\u001b[0m\u001b[1;33m\u001b[0m\u001b[0m\n",
      "\u001b[1;32m~\\Documents\\GitHub\\A0_DUT\\drv_gpio.py\u001b[0m in \u001b[0;36mgpio_pin_is_high\u001b[1;34m(portName, pinPos)\u001b[0m\n\u001b[0;32m    122\u001b[0m \u001b[1;32mdef\u001b[0m \u001b[0mgpio_pin_is_high\u001b[0m\u001b[1;33m(\u001b[0m\u001b[0mportName\u001b[0m\u001b[1;33m,\u001b[0m \u001b[0mpinPos\u001b[0m\u001b[1;33m)\u001b[0m\u001b[1;33m:\u001b[0m\u001b[1;33m\u001b[0m\u001b[1;33m\u001b[0m\u001b[0m\n\u001b[0;32m    123\u001b[0m \u001b[1;33m\u001b[0m\u001b[0m\n\u001b[1;32m--> 124\u001b[1;33m     \u001b[0mportValue\u001b[0m \u001b[1;33m=\u001b[0m \u001b[0mgpio_port_read\u001b[0m\u001b[1;33m(\u001b[0m\u001b[0mportName\u001b[0m\u001b[1;33m)\u001b[0m\u001b[1;33m\u001b[0m\u001b[1;33m\u001b[0m\u001b[0m\n\u001b[0m\u001b[0;32m    125\u001b[0m     \u001b[1;31m# portValue = 0b1010_1111\u001b[0m\u001b[1;33m\u001b[0m\u001b[1;33m\u001b[0m\u001b[1;33m\u001b[0m\u001b[0m\n\u001b[0;32m    126\u001b[0m     \u001b[1;32mreturn\u001b[0m \u001b[1;33m(\u001b[0m\u001b[1;36m1\u001b[0m \u001b[1;33m<<\u001b[0m \u001b[0mpinPos\u001b[0m\u001b[1;33m)\u001b[0m \u001b[1;33m&\u001b[0m \u001b[0mportValue\u001b[0m \u001b[1;33m!=\u001b[0m \u001b[1;36m0\u001b[0m\u001b[1;33m\u001b[0m\u001b[1;33m\u001b[0m\u001b[0m\n",
      "\u001b[1;32m~\\Documents\\GitHub\\A0_DUT\\drv_gpio.py\u001b[0m in \u001b[0;36mgpio_port_read\u001b[1;34m(portName)\u001b[0m\n\u001b[0;32m     52\u001b[0m               portName.encode() + b'\\0')\n\u001b[0;32m     53\u001b[0m \u001b[1;33m\u001b[0m\u001b[0m\n\u001b[1;32m---> 54\u001b[1;33m     \u001b[0mvalue\u001b[0m \u001b[1;33m=\u001b[0m \u001b[0mser\u001b[0m\u001b[1;33m.\u001b[0m\u001b[0mread\u001b[0m\u001b[1;33m(\u001b[0m\u001b[1;36m4\u001b[0m\u001b[1;33m)\u001b[0m\u001b[1;33m\u001b[0m\u001b[1;33m\u001b[0m\u001b[0m\n\u001b[0m\u001b[0;32m     55\u001b[0m     \u001b[0mvalue\u001b[0m \u001b[1;33m=\u001b[0m \u001b[0mstruct\u001b[0m\u001b[1;33m.\u001b[0m\u001b[0munpack\u001b[0m\u001b[1;33m(\u001b[0m\u001b[1;34m'<I'\u001b[0m\u001b[1;33m,\u001b[0m \u001b[0mvalue\u001b[0m\u001b[1;33m)\u001b[0m\u001b[1;33m\u001b[0m\u001b[1;33m\u001b[0m\u001b[0m\n\u001b[0;32m     56\u001b[0m \u001b[1;33m\u001b[0m\u001b[0m\n",
      "\u001b[1;32mc:\\users\\ingemi\\.venvs\\py37\\lib\\site-packages\\serial\\serialwin32.py\u001b[0m in \u001b[0;36mread\u001b[1;34m(self, size)\u001b[0m\n\u001b[0;32m    267\u001b[0m             \u001b[1;32mraise\u001b[0m \u001b[0mportNotOpenError\u001b[0m\u001b[1;33m\u001b[0m\u001b[1;33m\u001b[0m\u001b[0m\n\u001b[0;32m    268\u001b[0m         \u001b[1;32mif\u001b[0m \u001b[0msize\u001b[0m \u001b[1;33m>\u001b[0m \u001b[1;36m0\u001b[0m\u001b[1;33m:\u001b[0m\u001b[1;33m\u001b[0m\u001b[1;33m\u001b[0m\u001b[0m\n\u001b[1;32m--> 269\u001b[1;33m             \u001b[0mwin32\u001b[0m\u001b[1;33m.\u001b[0m\u001b[0mResetEvent\u001b[0m\u001b[1;33m(\u001b[0m\u001b[0mself\u001b[0m\u001b[1;33m.\u001b[0m\u001b[0m_overlapped_read\u001b[0m\u001b[1;33m.\u001b[0m\u001b[0mhEvent\u001b[0m\u001b[1;33m)\u001b[0m\u001b[1;33m\u001b[0m\u001b[1;33m\u001b[0m\u001b[0m\n\u001b[0m\u001b[0;32m    270\u001b[0m             \u001b[0mflags\u001b[0m \u001b[1;33m=\u001b[0m \u001b[0mwin32\u001b[0m\u001b[1;33m.\u001b[0m\u001b[0mDWORD\u001b[0m\u001b[1;33m(\u001b[0m\u001b[1;33m)\u001b[0m\u001b[1;33m\u001b[0m\u001b[1;33m\u001b[0m\u001b[0m\n\u001b[0;32m    271\u001b[0m             \u001b[0mcomstat\u001b[0m \u001b[1;33m=\u001b[0m \u001b[0mwin32\u001b[0m\u001b[1;33m.\u001b[0m\u001b[0mCOMSTAT\u001b[0m\u001b[1;33m(\u001b[0m\u001b[1;33m)\u001b[0m\u001b[1;33m\u001b[0m\u001b[1;33m\u001b[0m\u001b[0m\n",
      "\u001b[1;31mKeyboardInterrupt\u001b[0m: "
     ]
    }
   ],
   "source": [
    "dut.pads_defaults()\n",
    "drv.gpio_pin_set(*PIC_PINS['NFORCE_SAFE2'])\n",
    "drv.gpio_pin_set(*PIC_PINS['NFORCE_SAFE1'])\n",
    "drv.gpio_pin_set(*PIC_PINS['NFORCE_SAFE0'])\n",
    "# dac_set('P_ADC_EXT_TEST_IN', 1.5)       # voltage = 1.5 as an example, I wonder whether we should put it as a parameter of the function\n",
    "time.sleep(1e-6)        # delay(t_sel_ext or t_ext_inp), min = 2CK\n",
    "drv.gpio_pin_set(*PIC_PINS['ADC_SEL_EXTERNAL'])\n",
    "#time.sleep(1e-6)       # delay(t_en_overide_sh), min = 0CK\n",
    "drv.gpio_pin_set(*PIC_PINS['DPE_EXT_OVERRIDE_EN'])\n",
    "time.sleep(1e-6)        # delay(t_fire_sh), min = 3CK\n",
    "drv.gpio_pin_set(*PIC_PINS['DPE_EXT_SH'])\n",
    "time.sleep(1e-6)        # delay(3 P_ADC_CK periods)\n",
    "# drv.gpio_pin_reset(*PIC_PINS['DPE_EXT_SH'])\n",
    "while True:\n",
    "    if drv.gpio_pin_is_high(*PIC_PINS['ADC_DONE']):\n",
    "        break\n",
    "#download_fifo()\n",
    "dut.pads_defaults()\n",
    "#reset_dpe()"
   ]
  },
  {
   "cell_type": "code",
   "execution_count": 41,
   "metadata": {},
   "outputs": [],
   "source": [
    "dut.pads_defaults()"
   ]
  },
  {
   "cell_type": "code",
   "execution_count": 29,
   "metadata": {},
   "outputs": [],
   "source": [
    "drv.gpio_pin_reset(*PIC_PINS['NRESET_FULL_CHIP'])"
   ]
  },
  {
   "cell_type": "code",
   "execution_count": 46,
   "metadata": {},
   "outputs": [],
   "source": [
    "drv.gpio_pin_set(*PIC_PINS['NRESET_FULL_CHIP'])"
   ]
  },
  {
   "cell_type": "code",
   "execution_count": 31,
   "metadata": {},
   "outputs": [],
   "source": [
    "drv.gpio_pin_reset(*PIC_PINS['NRESET_DPE_ENGINE'])"
   ]
  },
  {
   "cell_type": "markdown",
   "metadata": {},
   "source": [
    "WEDNESDAY ADC DONE TEST AND DOCUMENTATION\n",
    "\n",
    "EXECUTE IN ORDER"
   ]
  },
  {
   "cell_type": "code",
   "execution_count": 434,
   "metadata": {},
   "outputs": [
    {
     "name": "stdout",
     "output_type": "stream",
     "text": [
      "DAC initialized to a span from -5 V to 5 V\n"
     ]
    }
   ],
   "source": [
    "dut.dac_init()"
   ]
  },
  {
   "cell_type": "code",
   "execution_count": 435,
   "metadata": {},
   "outputs": [],
   "source": [
    "dut.vrefs_off()"
   ]
  },
  {
   "cell_type": "code",
   "execution_count": 432,
   "metadata": {},
   "outputs": [],
   "source": [
    "drv.gpio_pin_reset(*PIC_PINS['PWR_GOOD'])"
   ]
  },
  {
   "cell_type": "code",
   "execution_count": 47,
   "metadata": {},
   "outputs": [],
   "source": [
    "drv.gpio_pin_set(*PIC_PINS['PWR_GOOD'])"
   ]
  },
  {
   "cell_type": "code",
   "execution_count": 48,
   "metadata": {},
   "outputs": [],
   "source": [
    "dut.dac_set('PLANE_VPP', 0.22)"
   ]
  },
  {
   "cell_type": "code",
   "execution_count": 49,
   "metadata": {},
   "outputs": [],
   "source": [
    "dut.dac_set('DAC_VREF_HI_CMP', 3.92)"
   ]
  },
  {
   "cell_type": "code",
   "execution_count": 50,
   "metadata": {},
   "outputs": [],
   "source": [
    "dut.dac_set('DAC_VREF_ARRAY', 0.42)"
   ]
  },
  {
   "cell_type": "code",
   "execution_count": 51,
   "metadata": {},
   "outputs": [],
   "source": [
    "dut.dac_set('P_VREF_SH', 2.42)"
   ]
  },
  {
   "cell_type": "code",
   "execution_count": 52,
   "metadata": {},
   "outputs": [],
   "source": [
    "dut.dac_set('DAC_VP_PAD', 2.42)"
   ]
  },
  {
   "cell_type": "code",
   "execution_count": 53,
   "metadata": {},
   "outputs": [],
   "source": [
    "dut.dac_set('P_VAGC_1', 3.9)"
   ]
  },
  {
   "cell_type": "code",
   "execution_count": 54,
   "metadata": {},
   "outputs": [],
   "source": [
    "dut.dac_set('P_VAGC_0', 1)"
   ]
  },
  {
   "cell_type": "code",
   "execution_count": 55,
   "metadata": {},
   "outputs": [],
   "source": [
    "dut.dac_set('P_TVDD', 4.92)"
   ]
  },
  {
   "cell_type": "code",
   "execution_count": 56,
   "metadata": {},
   "outputs": [],
   "source": [
    "dut.dac_set('P_VREF_TIA', 0.42)"
   ]
  },
  {
   "cell_type": "code",
   "execution_count": 137,
   "metadata": {},
   "outputs": [],
   "source": [
    "dut.dac_set('P_ADC_EXT_TEST_IN', 1.5)"
   ]
  },
  {
   "cell_type": "markdown",
   "metadata": {},
   "source": [
    "*******************************************************\n",
    "\n",
    "FOR ADC OPERATION, PROCEED FROM HERE (07/24/2019) 16:40pm - assumes PWR good asserted"
   ]
  },
  {
   "cell_type": "code",
   "execution_count": 5,
   "metadata": {},
   "outputs": [],
   "source": [
    "drv.gpio_pin_reset(*PIC_PINS['NRESET_FULL_CHIP'])\n",
    "drv.gpio_pin_reset(*PIC_PINS['NRESET_DPE_ENGINE'])\n",
    "dut.pads_defaults()"
   ]
  },
  {
   "cell_type": "code",
   "execution_count": 431,
   "metadata": {},
   "outputs": [],
   "source": [
    "drv.gpio_pin_reset(*PIC_PINS['NRESET_FULL_CHIP'])\n"
   ]
  },
  {
   "cell_type": "code",
   "execution_count": 7,
   "metadata": {},
   "outputs": [],
   "source": [
    "# Control block scan chain for power up LEAVE ALONE\n",
    "data = bytes([0b000_10000, 0b0000_0010 , 0b0000_1100,0b0001_0000, 0b0010_0000, 0b00000001, 0b00000010])\n",
    "drv.spi_serial_write(2, data) # addr 1 here means SERIAL_CHAIN_SEL0 is 1 and _SEL1 is 0"
   ]
  },
  {
   "cell_type": "code",
   "execution_count": 430,
   "metadata": {},
   "outputs": [],
   "source": [
    "drv.gpio_pin_reset(*PIC_PINS['NRESET_DPE_ENGINE'])"
   ]
  },
  {
   "cell_type": "code",
   "execution_count": 62,
   "metadata": {},
   "outputs": [
    {
     "name": "stdout",
     "output_type": "stream",
     "text": [
      "b'\\xc10L\\x13\\x04\\xc10L\\x13\\x04\\xc10L\\x13\\x04\\xc10L\\x13\\x04\\xc10L\\x13\\x04\\xc10L\\x13\\x04\\xc10L\\x13\\x04\\xc10L\\x13\\x04\\xc10L\\x13\\x04\\xc10L\\x13\\x04\\xc10L\\x13\\x04\\xc10L\\x13\\x04\\xc10L\\x13\\x04\\xc10L\\x13\\x04\\xc10L\\x13\\x04\\xc10L\\x13\\x04\\xc10L\\x13\\x04\\xc10L\\x13\\x04\\xc10L\\x13\\x04\\xc10L\\x13\\x04\\xc10L\\x13\\x04\\xc10L\\x13\\x04\\xc10L\\x13\\x04\\xc10L\\x13\\x04'\n",
      "b'\\xc10L\\x13\\x04\\xc10L\\x13\\x04\\xc10L\\x13\\x04\\xc10L\\x13\\x04\\xc10L\\x13\\x04\\xc10L\\x13\\x04\\xc10L\\x13\\x04\\xc10L\\x13\\x04\\xc10L\\x13\\x04\\xc10L\\x13\\x04\\xc10L\\x13\\x04\\xc10L\\x13\\x04\\xc10L\\x13\\x04\\xc10L\\x13\\x04\\xc10L\\x13\\x04\\xc10L\\x13\\x04\\xc10L\\x13\\x04\\xc10L\\x13\\x04\\xc10L\\x13\\x04\\xc10L\\x13\\x04\\xc10L\\x13\\x04\\xc10L\\x13\\x04\\xc10L\\x13\\x04\\xc10L\\x13\\x04'\n"
     ]
    }
   ],
   "source": [
    "# TIA SCAN IN OP AMPS ENABLED, No COMPENSATION, 30k gain\n",
    "data = bytes([0b1100_0001, 0b0011_0000, 0b0100_1100, 0b0001_0011, 0b0000_0100]*24)\n",
    "print(data)\n",
    "drv.spi_serial_write(0, data)\n",
    "# TIA SCAN IN OP AMPS ENABLED, No COMPENSATION, 30k gain\n",
    "data = bytes([0b1100_0001, 0b0011_0000, 0b0100_1100, 0b0001_0011, 0b0000_0100]*24)\n",
    "print(data)\n",
    "drv.spi_serial_write(1, data)"
   ]
  },
  {
   "cell_type": "code",
   "execution_count": 75,
   "metadata": {},
   "outputs": [],
   "source": [
    "drv.gpio_pin_set(*PIC_PINS['UPDATE_TIA_CONF'])"
   ]
  },
  {
   "cell_type": "code",
   "execution_count": 76,
   "metadata": {},
   "outputs": [],
   "source": [
    "drv.gpio_pin_reset(*PIC_PINS['UPDATE_TIA_CONF'])"
   ]
  },
  {
   "cell_type": "code",
   "execution_count": 110,
   "metadata": {},
   "outputs": [],
   "source": []
  },
  {
   "cell_type": "code",
   "execution_count": 65,
   "metadata": {},
   "outputs": [],
   "source": [
    "drv.gpio_pin_set(*PIC_PINS['ARRAY_EN<0>'])\n",
    "drv.gpio_pin_set(*PIC_PINS['ARRAY_EN<1>'])\n",
    "drv.gpio_pin_set(*PIC_PINS['ARRAY_EN<2>'])"
   ]
  },
  {
   "cell_type": "code",
   "execution_count": 141,
   "metadata": {},
   "outputs": [],
   "source": [
    "drv.gpio_pin_set(*PIC_PINS['NFORCE_SAFE0'])\n",
    "drv.gpio_pin_set(*PIC_PINS['NFORCE_SAFE1'])\n",
    "drv.gpio_pin_set(*PIC_PINS['NFORCE_SAFE2'])"
   ]
  },
  {
   "cell_type": "code",
   "execution_count": 142,
   "metadata": {},
   "outputs": [],
   "source": [
    "drv.gpio_pin_set(*PIC_PINS['ADC_SEL_EXTERNAL'])"
   ]
  },
  {
   "cell_type": "code",
   "execution_count": 143,
   "metadata": {},
   "outputs": [],
   "source": [
    "drv.gpio_pin_set(*PIC_PINS['DPE_EXT_OVERRIDE_EN'])"
   ]
  },
  {
   "cell_type": "code",
   "execution_count": 144,
   "metadata": {},
   "outputs": [],
   "source": [
    "drv.gpio_pin_set(*PIC_PINS['DPE_EXT_SH'])"
   ]
  },
  {
   "cell_type": "code",
   "execution_count": 145,
   "metadata": {},
   "outputs": [],
   "source": [
    "drv.gpio_pin_reset(*PIC_PINS['DPE_EXT_SH'])"
   ]
  },
  {
   "cell_type": "code",
   "execution_count": 39,
   "metadata": {},
   "outputs": [],
   "source": [
    "drv.gpio_pin_reset(*PIC_PINS['NFORCE_SAFE0'])\n",
    "drv.gpio_pin_reset(*PIC_PINS['NFORCE_SAFE1'])\n",
    "drv.gpio_pin_reset(*PIC_PINS['NFORCE_SAFE2'])"
   ]
  },
  {
   "cell_type": "code",
   "execution_count": 42,
   "metadata": {},
   "outputs": [],
   "source": [
    "dut.pads_defaults()"
   ]
  },
  {
   "cell_type": "code",
   "execution_count": 43,
   "metadata": {},
   "outputs": [],
   "source": [
    "drv.gpio_pin_reset(*PIC_PINS['NRESET_DPE_ENGINE'])"
   ]
  },
  {
   "cell_type": "markdown",
   "metadata": {},
   "source": [
    "BEGIN FIFO TESTING"
   ]
  },
  {
   "cell_type": "code",
   "execution_count": 166,
   "metadata": {},
   "outputs": [],
   "source": [
    "drv.gpio_pin_set(*PIC_PINS['ADC_FIFO_EN<0>'])\n",
    "drv.gpio_pin_set(*PIC_PINS['ADC_FIFO_EN<1>'])\n",
    "drv.gpio_pin_reset(*PIC_PINS['ADC_FIFO_EN<2>'])\n",
    "drv.gpio_pin_reset(*PIC_PINS['ADC_FIFO_EN<3>'])"
   ]
  },
  {
   "cell_type": "code",
   "execution_count": 189,
   "metadata": {},
   "outputs": [
    {
     "name": "stdout",
     "output_type": "stream",
     "text": [
      "11\n"
     ]
    },
    {
     "data": {
      "text/plain": [
       "True"
      ]
     },
     "execution_count": 189,
     "metadata": {},
     "output_type": "execute_result"
    }
   ],
   "source": [
    "addr=np.binary_repr(3)\n",
    "print(addr)\n",
    "\n",
    "drv.gpio_adc_fifo_en_write(addr) # not working yet\n",
    "drv.gpio_pin_is_high(*PIC_PINS['ADC_FIFO_EN<0>'])\n",
    "#drv.gpio_pin_is_high(*PIC_PINS['ADC_FIFO_EN<1>'])\n",
    "#drv.gpio_pin_is_high(*PIC_PINS['ADC_FIFO_EN<2>'])\n",
    "#drv.gpio_pin_is_high(*PIC_PINS['ADC_FIFO_EN<3>'])"
   ]
  },
  {
   "cell_type": "code",
   "execution_count": 190,
   "metadata": {},
   "outputs": [
    {
     "name": "stdout",
     "output_type": "stream",
     "text": [
      "0.5\n",
      "0100000000000\n",
      "1.0\n",
      "0100010001000\n",
      "1.5\n",
      "0100100100000\n",
      "2.0\n",
      "0100110110110\n",
      "2.5\n",
      "0101001001111\n",
      "3.0\n",
      "0101011011111\n",
      "3.5\n",
      "0101101111111\n",
      "4.0\n",
      "0101111111111\n"
     ]
    }
   ],
   "source": [
    "voltages = np.arange(0.5, 4.5, 0.5)\n",
    "\n",
    "drv.gpio_pin_reset(*PIC_PINS['ADC_FIFO_EN<0>'])\n",
    "drv.gpio_pin_reset(*PIC_PINS['ADC_FIFO_EN<1>'])\n",
    "drv.gpio_pin_reset(*PIC_PINS['ADC_FIFO_EN<2>'])\n",
    "drv.gpio_pin_reset(*PIC_PINS['ADC_FIFO_EN<3>'])\n",
    "\n",
    "for V_adc in voltages:\n",
    "    \n",
    "    dut.dac_set('P_ADC_EXT_TEST_IN', V_adc)    \n",
    "    \n",
    "    time.sleep(1e-6)\n",
    "    drv.gpio_pin_reset(*PIC_PINS['DPE_EXT_SH'])\n",
    "    drv.gpio_pin_reset(*PIC_PINS['NRESET_DPE_ENGINE'])\n",
    "    drv.gpio_pin_set(*PIC_PINS['NRESET_DPE_ENGINE'])\n",
    "    drv.gpio_pin_set(*PIC_PINS['DPE_EXT_SH'])\n",
    "\n",
    "    StrobeNum = 15\n",
    "    for strobe in range(StrobeNum):\n",
    "        drv.gpio_pin_set(*PIC_PINS['ADC_FIFO_ADVANCE'])\n",
    "        drv.gpio_pin_reset(*PIC_PINS['ADC_FIFO_ADVANCE'])\n",
    "        #print(strobe)\n",
    "\n",
    "    print(V_adc)\n",
    "    data = drv.gpio_adc_read()\n",
    "    print(f'{data:013b}')\n",
    "        "
   ]
  },
  {
   "cell_type": "code",
   "execution_count": 194,
   "metadata": {},
   "outputs": [
    {
     "name": "stdout",
     "output_type": "stream",
     "text": [
      "0101111111111\n",
      "101111111111\n"
     ]
    }
   ],
   "source": []
  },
  {
   "cell_type": "code",
   "execution_count": 13,
   "metadata": {},
   "outputs": [],
   "source": [
    "def adc2volt(data):\n",
    "    V_HI = 4.0\n",
    "    V_LO = 0.5\n",
    "    value = data & 0x3ff\n",
    "    voltage = (V_HI-V_LO) * value / 1023 + V_LO\n",
    "    return voltage"
   ]
  },
  {
   "cell_type": "markdown",
   "metadata": {},
   "source": [
    "****************************************\n",
    "\n",
    "\n",
    "\n",
    "Testing TIA configuration mapping 07/25/19"
   ]
  },
  {
   "cell_type": "code",
   "execution_count": 25,
   "metadata": {},
   "outputs": [
    {
     "name": "stdout",
     "output_type": "stream",
     "text": [
      "b'\\xc40\\x1c\\x07\\x01\\xc40\\x1c\\x07\\x01\\xc40\\x1c\\x07\\x01\\xc40\\x1c\\x07\\x01\\xc40\\x1c\\x07\\x01\\xc40\\x1c\\x07\\x01\\xc40\\x1c\\x07\\x01\\xc40\\x1c\\x07\\x01\\xc40\\x1c\\x07\\x01\\xc40\\x1c\\x07\\x01\\xc40\\x1c\\x07\\x01\\xc40\\x1c\\x07\\x01\\xc40\\x1c\\x07\\x01\\xc40\\x1c\\x07\\x01\\xc40\\x1c\\x07\\x01\\xc40\\x1c\\x07\\x01\\xc40\\x1c\\x07\\x01\\xc40\\x1c\\x07\\x01\\xc40\\x1c\\x07\\x01\\xc40\\x1c\\x07\\x01\\xc40\\x1c\\x07\\x01\\xc40\\x1c\\x07\\x01\\xc40\\x1c\\x07\\x01\\xc40\\x1c\\x07\\x01'\n",
      "b'\\xc40\\x1c\\x07\\x01\\xc40\\x1c\\x07\\x01\\xc40\\x1c\\x07\\x01\\xc40\\x1c\\x07\\x01\\xc40\\x1c\\x07\\x01\\xc40\\x1c\\x07\\x01\\xc40\\x1c\\x07\\x01\\xc40\\x1c\\x07\\x01\\xc40\\x1c\\x07\\x01\\xc40\\x1c\\x07\\x01\\xc40\\x1c\\x07\\x01\\xc40\\x1c\\x07\\x01\\xc40\\x1c\\x07\\x01\\xc40\\x1c\\x07\\x01\\xc40\\x1c\\x07\\x01\\xc40\\x1c\\x07\\x01\\xc40\\x1c\\x07\\x01\\xc40\\x1c\\x07\\x01\\xc40\\x1c\\x07\\x01\\xc40\\x1c\\x07\\x01\\xc40\\x1c\\x07\\x01\\xc40\\x1c\\x07\\x01\\xc40\\x1c\\x07\\x01\\xc40\\x1c\\x07\\x01'\n"
     ]
    }
   ],
   "source": [
    "# Testing TIA config column mapping\n",
    "#11000_00001\n",
    "# test config: 0b1100_0000, 0b0111_0000, 0b0010_1100, 0b0001_0011, 0b0000_1000\n",
    "# data = bytes([0b1100_0000, 0b1011_0000, 0b0100_1100, 0b0010_0011, 0b0001_0000]*24)\n",
    "\n",
    "\n",
    "drv.gpio_pin_reset(*PIC_PINS['NRESET_DPE_ENGINE'])\n",
    "\n",
    "# TIA SCAN IN OP AMPS ENABLED, No COMPENSATION, 30k gain\n",
    "data = bytes([0b1100_0100, 0b0011_0000, 0b0001_1100, 0b0000_0111, 0b0000_0001]*24)\n",
    "print(data)\n",
    "drv.spi_serial_write(0, data)\n",
    "# TIA SCAN IN OP AMPS ENABLED, No COMPENSATION, 30k gain\n",
    "#data = bytes([0b1100_0000, 0b0111_0000, 0b0010_1100, 0b0001_0011, 0b0000_1000]*24)\n",
    "print(data)\n",
    "drv.spi_serial_write(1, data)\n",
    "\n",
    "time.sleep(1e-6)\n",
    "drv.gpio_pin_set(*PIC_PINS['UPDATE_TIA_CONF'])\n",
    "drv.gpio_pin_reset(*PIC_PINS['UPDATE_TIA_CONF'])\n",
    "\n"
   ]
  },
  {
   "cell_type": "code",
   "execution_count": 26,
   "metadata": {},
   "outputs": [
    {
     "name": "stdout",
     "output_type": "stream",
     "text": [
      "11000100\n",
      "00110000\n",
      "00011100\n",
      "00000111\n",
      "00000001\n",
      "11000100\n",
      "00110000\n",
      "00011100\n",
      "00000111\n",
      "00000001\n",
      "11000100\n",
      "00110000\n",
      "00011100\n",
      "00000111\n",
      "00000001\n",
      "11000100\n",
      "00110000\n",
      "00011100\n",
      "00000111\n",
      "00000001\n",
      "11000100\n",
      "00110000\n",
      "00011100\n",
      "00000111\n",
      "00000001\n",
      "11000100\n",
      "00110000\n",
      "00011100\n",
      "00000111\n",
      "00000001\n",
      "11000100\n",
      "00110000\n",
      "00011100\n",
      "00000111\n",
      "00000001\n",
      "11000100\n",
      "00110000\n",
      "00011100\n",
      "00000111\n",
      "00000001\n",
      "11000100\n",
      "00110000\n",
      "00011100\n",
      "00000111\n",
      "00000001\n",
      "11000100\n",
      "00110000\n",
      "00011100\n",
      "00000111\n",
      "00000001\n",
      "11000100\n",
      "00110000\n",
      "00011100\n",
      "00000111\n",
      "00000001\n",
      "11000100\n",
      "00110000\n",
      "00011100\n",
      "00000111\n",
      "00000001\n",
      "11000100\n",
      "00110000\n",
      "00011100\n",
      "00000111\n",
      "00000001\n",
      "11000100\n",
      "00110000\n",
      "00011100\n",
      "00000111\n",
      "00000001\n",
      "11000100\n",
      "00110000\n",
      "00011100\n",
      "00000111\n",
      "00000001\n",
      "11000100\n",
      "00110000\n",
      "00011100\n",
      "00000111\n",
      "00000001\n",
      "11000100\n",
      "00110000\n",
      "00011100\n",
      "00000111\n",
      "00000001\n",
      "11000100\n",
      "00110000\n",
      "00011100\n",
      "00000111\n",
      "00000001\n",
      "11000100\n",
      "00110000\n",
      "00011100\n",
      "00000111\n",
      "00000001\n",
      "11000100\n",
      "00110000\n",
      "00011100\n",
      "00000111\n",
      "00000001\n",
      "11000100\n",
      "00110000\n",
      "00011100\n",
      "00000111\n",
      "00000001\n",
      "11000100\n",
      "00110000\n",
      "00011100\n",
      "00000111\n",
      "00000001\n",
      "11000100\n",
      "00110000\n",
      "00011100\n",
      "00000111\n",
      "00000001\n",
      "11000100\n",
      "00110000\n",
      "00011100\n",
      "00000111\n",
      "00000001\n"
     ]
    }
   ],
   "source": [
    "values = drv.spi_serial_write_and_read(1, data)\n",
    "for v in values:\n",
    "    print(f'{v:08b}')"
   ]
  },
  {
   "cell_type": "code",
   "execution_count": 27,
   "metadata": {},
   "outputs": [],
   "source": [
    "drv.gpio_pin_reset(*PIC_PINS['NRESET_DPE_ENGINE'])\n",
    "dut.pads_defaults()\n",
    "drv.gpio_pin_set(*PIC_PINS['NRESET_DPE_ENGINE'])\n",
    "\n",
    "drv.gpio_pin_set(*PIC_PINS['NFORCE_SAFE0'])\n",
    "drv.gpio_pin_set(*PIC_PINS['NFORCE_SAFE1'])\n",
    "drv.gpio_pin_set(*PIC_PINS['NFORCE_SAFE2'])\n",
    "\n",
    "drv.gpio_pin_set(*PIC_PINS['DPE_EXT_OVERRIDE_EN'])\n",
    "drv.gpio_pin_set(*PIC_PINS['DPE_EXT_SH'])\n"
   ]
  },
  {
   "cell_type": "code",
   "execution_count": 28,
   "metadata": {},
   "outputs": [
    {
     "name": "stdout",
     "output_type": "stream",
     "text": [
      "0000000000000\t0.500 V\n",
      "0000000000000\t0.500 V\n",
      "0000000000000\t0.500 V\n",
      "0000000000000\t0.500 V\n",
      "0000000000000\t0.500 V\n",
      "0000000000000\t0.500 V\n",
      "0000000000000\t0.500 V\n",
      "0000000000000\t0.500 V\n",
      "0000000000000\t0.500 V\n",
      "0000000000000\t0.500 V\n",
      "0000000000000\t0.500 V\n",
      "0000000000000\t0.500 V\n",
      "0000000000000\t0.500 V\n",
      "0000000000000\t0.500 V\n",
      "0000000000000\t0.500 V\n",
      "0000000000000\t0.500 V\n"
     ]
    }
   ],
   "source": [
    "drv.gpio_pin_reset(*PIC_PINS['ADC_FIFO_EN<0>'])\n",
    "drv.gpio_pin_reset(*PIC_PINS['ADC_FIFO_EN<1>'])\n",
    "drv.gpio_pin_reset(*PIC_PINS['ADC_FIFO_EN<2>'])\n",
    "drv.gpio_pin_reset(*PIC_PINS['ADC_FIFO_EN<3>'])\n",
    "\n",
    "\n",
    "data = drv.gpio_adc_read()\n",
    "print(f'{data:013b}', end='\\t')\n",
    "print( f'{adc2volt(data):.3f} V' )\n",
    "\n",
    "StrobeNum = 15\n",
    "for strobe in range(StrobeNum):\n",
    "    drv.gpio_pin_set(*PIC_PINS['ADC_FIFO_ADVANCE'])\n",
    "    drv.gpio_pin_reset(*PIC_PINS['ADC_FIFO_ADVANCE'])\n",
    "    data = drv.gpio_adc_read()\n",
    "    print(f'{data:013b}', end='\\t')\n",
    "    #print(strobe)\n",
    "    print( f'{adc2volt(data):.3f} V' )\n"
   ]
  },
  {
   "cell_type": "markdown",
   "metadata": {},
   "source": [
    "LOAD VECTORS"
   ]
  },
  {
   "cell_type": "code",
   "execution_count": 151,
   "metadata": {},
   "outputs": [],
   "source": [
    "drv.gpio_pin_reset(*PIC_PINS['NRESET_FULL_CHIP'])"
   ]
  },
  {
   "cell_type": "code",
   "execution_count": 158,
   "metadata": {},
   "outputs": [],
   "source": [
    "drv.gpio_pin_set(*PIC_PINS['NRESET_FULL_CHIP'])"
   ]
  },
  {
   "cell_type": "code",
   "execution_count": 159,
   "metadata": {},
   "outputs": [],
   "source": [
    "# Control block scan chain for power up LEAVE ALONE\n",
    "data = bytes([0b000_10000, 0b0000_0010 , 0b0000_1100,0b0001_0000, 0b0010_0000, 0b00000001, 0b00000010])\n",
    "drv.spi_serial_write(2, data) # addr 1 here means SERIAL_CHAIN_SEL0 is 1 and _SEL1 is 0"
   ]
  },
  {
   "cell_type": "code",
   "execution_count": 178,
   "metadata": {},
   "outputs": [],
   "source": [
    "drv.gpio_pin_reset(*PIC_PINS['NRESET_DPE_ENGINE'])\n",
    "dut.pads_defaults()"
   ]
  },
  {
   "cell_type": "code",
   "execution_count": 161,
   "metadata": {},
   "outputs": [],
   "source": [
    "drv.gpio_pin_set(*PIC_PINS['NRESET_DPE_ENGINE'])"
   ]
  },
  {
   "cell_type": "code",
   "execution_count": 395,
   "metadata": {},
   "outputs": [
    {
     "name": "stdout",
     "output_type": "stream",
     "text": [
      "b'\\xc0\\xb0,\\x0b\\x02\\xc0\\xb0,\\x0b\\x02\\xc0\\xb0,\\x0b\\x02\\xc0\\xb0,\\x0b\\x02\\xc0\\xb0,\\x0b\\x02\\xc0\\xb0,\\x0b\\x02\\xc0\\xb0,\\x0b\\x02\\xc0\\xb0,\\x0b\\x02\\xc0\\xb0,\\x0b\\x02\\xc0\\xb0,\\x0b\\x02\\xc0\\xb0,\\x0b\\x02\\xc0\\xb0,\\x0b\\x02\\xc0\\xb0,\\x0b\\x02\\xc0\\xb0,\\x0b\\x02\\xc0\\xb0,\\x0b\\x02\\xc0\\xb0,\\x0b\\x02\\xc0\\xb0,\\x0b\\x02\\xc0\\xb0,\\x0b\\x02\\xc0\\xb0,\\x0b\\x02\\xc0\\xb0,\\x0b\\x02\\xc0\\xb0,\\x0b\\x02\\xc0\\xb0,\\x0b\\x02\\xc0\\xb0,\\x0b\\x02\\xc0\\xb0,\\x0b\\x02'\n",
      "b'\\xc0\\xb0,\\x0b\\x02\\xc0\\xb0,\\x0b\\x02\\xc0\\xb0,\\x0b\\x02\\xc0\\xb0,\\x0b\\x02\\xc0\\xb0,\\x0b\\x02\\xc0\\xb0,\\x0b\\x02\\xc0\\xb0,\\x0b\\x02\\xc0\\xb0,\\x0b\\x02\\xc0\\xb0,\\x0b\\x02\\xc0\\xb0,\\x0b\\x02\\xc0\\xb0,\\x0b\\x02\\xc0\\xb0,\\x0b\\x02\\xc0\\xb0,\\x0b\\x02\\xc0\\xb0,\\x0b\\x02\\xc0\\xb0,\\x0b\\x02\\xc0\\xb0,\\x0b\\x02\\xc0\\xb0,\\x0b\\x02\\xc0\\xb0,\\x0b\\x02\\xc0\\xb0,\\x0b\\x02\\xc0\\xb0,\\x0b\\x02\\xc0\\xb0,\\x0b\\x02\\xc0\\xb0,\\x0b\\x02\\xc0\\xb0,\\x0b\\x02\\xc0\\xb0,\\x0b\\x02'\n"
     ]
    }
   ],
   "source": [
    "# TIA SCAN IN OP AMPS ENABLED, No COMPENSATION, 30k gain\n",
    "#data = bytes([0b1100_0100, 0b0011_0000, 0b1000_1100, 0b0001_0011, 0b0000_0010]*24)\n",
    "data = BitArray('0b1100000010'*96).bytes\n",
    "\n",
    "print(data)\n",
    "drv.spi_serial_write(0, data)\n",
    "# TIA SCAN IN OP AMPS ENABLED, No COMPENSATION, 30k gain\n",
    "#data = bytes([0b1100_0001, 0b0011_0000, 0b0100_1100, 0b0001_0011, 0b0000_0100]*24)\n",
    "print(data)\n",
    "drv.spi_serial_write(1, data)\n",
    "\n",
    "time.sleep(1e-6)\n",
    "drv.gpio_pin_set(*PIC_PINS['UPDATE_TIA_CONF'])\n",
    "drv.gpio_pin_reset(*PIC_PINS['UPDATE_TIA_CONF'])\n"
   ]
  },
  {
   "cell_type": "code",
   "execution_count": 63,
   "metadata": {},
   "outputs": [
    {
     "name": "stdout",
     "output_type": "stream",
     "text": [
      "11000100\n",
      "00110000\n",
      "10001100\n",
      "00010011\n",
      "00000010\n",
      "11000100\n",
      "00110000\n",
      "10001100\n",
      "00010011\n",
      "00000010\n",
      "11000100\n",
      "00110000\n",
      "10001100\n",
      "00010011\n",
      "00000010\n",
      "11000100\n",
      "00110000\n",
      "10001100\n",
      "00010011\n",
      "00000010\n",
      "11000100\n",
      "00110000\n",
      "10001100\n",
      "00010011\n",
      "00000010\n",
      "11000100\n",
      "00110000\n",
      "10001100\n",
      "00010011\n",
      "00000010\n",
      "11000100\n",
      "00110000\n",
      "10001100\n",
      "00010011\n",
      "00000010\n",
      "11000100\n",
      "00110000\n",
      "10001100\n",
      "00010011\n",
      "00000010\n",
      "11000100\n",
      "00110000\n",
      "10001100\n",
      "00010011\n",
      "00000010\n",
      "11000100\n",
      "00110000\n",
      "10001100\n",
      "00010011\n",
      "00000010\n",
      "11000100\n",
      "00110000\n",
      "10001100\n",
      "00010011\n",
      "00000010\n",
      "11000100\n",
      "00110000\n",
      "10001100\n",
      "00010011\n",
      "00000010\n",
      "11000100\n",
      "00110000\n",
      "10001100\n",
      "00010011\n",
      "00000010\n",
      "11000100\n",
      "00110000\n",
      "10001100\n",
      "00010011\n",
      "00000010\n",
      "11000100\n",
      "00110000\n",
      "10001100\n",
      "00010011\n",
      "00000010\n",
      "11000100\n",
      "00110000\n",
      "10001100\n",
      "00010011\n",
      "00000010\n",
      "11000100\n",
      "00110000\n",
      "10001100\n",
      "00010011\n",
      "00000010\n",
      "11000100\n",
      "00110000\n",
      "10001100\n",
      "00010011\n",
      "00000010\n",
      "11000100\n",
      "00110000\n",
      "10001100\n",
      "00010011\n",
      "00000010\n",
      "11000100\n",
      "00110000\n",
      "10001100\n",
      "00010011\n",
      "00000010\n",
      "11000100\n",
      "00110000\n",
      "10001100\n",
      "00010011\n",
      "00000010\n",
      "11000100\n",
      "00110000\n",
      "10001100\n",
      "00010011\n",
      "00000010\n",
      "11000100\n",
      "00110000\n",
      "10001100\n",
      "00010011\n",
      "00000010\n",
      "11000100\n",
      "00110000\n",
      "10001100\n",
      "00010011\n",
      "00000010\n"
     ]
    }
   ],
   "source": [
    "values = drv.spi_serial_write_and_read(1, data)\n",
    "for v in values:\n",
    "    print(f'{v:08b}')\n",
    "time.sleep(1e-6)\n",
    "drv.gpio_pin_set(*PIC_PINS['UPDATE_TIA_CONF'])\n",
    "drv.gpio_pin_reset(*PIC_PINS['UPDATE_TIA_CONF'])"
   ]
  },
  {
   "cell_type": "code",
   "execution_count": null,
   "metadata": {},
   "outputs": [],
   "source": []
  },
  {
   "cell_type": "code",
   "execution_count": 177,
   "metadata": {},
   "outputs": [],
   "source": [
    "#drv.gpio_pin_reset(*PIC_PINS['NRESET_DPE_ENGINE'])\n",
    "#dut.pads_defaults()\n",
    "#drv.gpio_pin_set(*PIC_PINS['NRESET_DPE_ENGINE'])"
   ]
  },
  {
   "cell_type": "code",
   "execution_count": 167,
   "metadata": {},
   "outputs": [],
   "source": [
    "roc = [0 ,0, 0]\n",
    "# data= 0b1111111111111111\n",
    "data= 0x0000\n",
    "array= [0, 1, 2]\n",
    "N = 3\n",
    "for a in range(0, N-1):\n",
    "    drv.gpio_pin_set(*PIC_PINS['ARRAY_EN<%d>' %(array[a])])\n",
    "    if roc[a] == 1:\n",
    "        drv.gpio_pin_set(*PIC_PINS['COL_ROW_SEL'])\n",
    "    elif roc[a] == 0:\n",
    "        drv.gpio_pin_reset(*PIC_PINS['COL_ROW_SEL'])\n",
    "    else:\n",
    "        print('error, roc = 0 or 1')\n",
    "        \n",
    "    drv.gpio_row_col_bank_write(0b1000)\n",
    "    drv.gpio_row_col_data_write(data)\n",
    "    time.sleep(1e-7)\n",
    "    drv.gpio_pin_set(*PIC_PINS['LATCH_CLK_DATA'])\n",
    "    time.sleep(1e-7)\n",
    "    drv.gpio_pin_reset(*PIC_PINS['LATCH_CLK_DATA'])\n",
    "\n",
    "    drv.gpio_row_col_bank_write(0b0100)\n",
    "    drv.gpio_row_col_data_write(data)\n",
    "    time.sleep(1e-7)\n",
    "    drv.gpio_pin_set(*PIC_PINS['LATCH_CLK_DATA'])\n",
    "    time.sleep(1e-7)\n",
    "    drv.gpio_pin_reset(*PIC_PINS['LATCH_CLK_DATA'])\n",
    "\n",
    "    drv.gpio_row_col_bank_write(0b0010)\n",
    "    drv.gpio_row_col_data_write(data)\n",
    "    time.sleep(1e-7)\n",
    "    drv.gpio_pin_set(*PIC_PINS['LATCH_CLK_DATA'])\n",
    "    time.sleep(1e-7)\n",
    "    drv.gpio_pin_reset(*PIC_PINS['LATCH_CLK_DATA'])\n",
    "\n",
    "    drv.gpio_row_col_bank_write(0b0001)\n",
    "    drv.gpio_row_col_data_write(data)\n",
    "    time.sleep(1e-7)\n",
    "    drv.gpio_pin_set(*PIC_PINS['LATCH_CLK_DATA'])\n",
    "    time.sleep(1e-7)\n",
    "    drv.gpio_pin_reset(*PIC_PINS['LATCH_CLK_DATA'])\n",
    "\n",
    "    drv.gpio_pin_reset(*PIC_PINS['ARRAY_EN<%d>' %(array[a])])"
   ]
  },
  {
   "cell_type": "code",
   "execution_count": 168,
   "metadata": {},
   "outputs": [],
   "source": [
    "roc = [1 ,1, 1]\n",
    "# data= 0b1111111111111111\n",
    "data= 0x0000\n",
    "array= [0, 1, 2]\n",
    "N = 3\n",
    "for a in range(0, N-1):\n",
    "    drv.gpio_pin_set(*PIC_PINS['ARRAY_EN<%d>' %(array[a])])\n",
    "    if roc[a] == 1:\n",
    "        drv.gpio_pin_set(*PIC_PINS['COL_ROW_SEL'])\n",
    "    elif roc[a] == 0:\n",
    "        drv.gpio_pin_reset(*PIC_PINS['COL_ROW_SEL'])\n",
    "    else:\n",
    "        print('error, roc = 0 or 1')\n",
    "        \n",
    "    drv.gpio_row_col_bank_write(0b1000)\n",
    "    drv.gpio_row_col_data_write(data)\n",
    "    time.sleep(1e-7)\n",
    "    drv.gpio_pin_set(*PIC_PINS['LATCH_CLK_DATA'])\n",
    "    time.sleep(1e-7)\n",
    "    drv.gpio_pin_reset(*PIC_PINS['LATCH_CLK_DATA'])\n",
    "\n",
    "    drv.gpio_row_col_bank_write(0b0100)\n",
    "    drv.gpio_row_col_data_write(data)\n",
    "    time.sleep(1e-7)\n",
    "    drv.gpio_pin_set(*PIC_PINS['LATCH_CLK_DATA'])\n",
    "    time.sleep(1e-7)\n",
    "    drv.gpio_pin_reset(*PIC_PINS['LATCH_CLK_DATA'])\n",
    "\n",
    "    drv.gpio_row_col_bank_write(0b0010)\n",
    "    drv.gpio_row_col_data_write(data)\n",
    "    time.sleep(1e-7)\n",
    "    drv.gpio_pin_set(*PIC_PINS['LATCH_CLK_DATA'])\n",
    "    time.sleep(1e-7)\n",
    "    drv.gpio_pin_reset(*PIC_PINS['LATCH_CLK_DATA'])\n",
    "\n",
    "    drv.gpio_row_col_bank_write(0b0001)\n",
    "    drv.gpio_row_col_data_write(data)\n",
    "    time.sleep(1e-7)\n",
    "    drv.gpio_pin_set(*PIC_PINS['LATCH_CLK_DATA'])\n",
    "    time.sleep(1e-7)\n",
    "    drv.gpio_pin_reset(*PIC_PINS['LATCH_CLK_DATA'])\n",
    "\n",
    "    drv.gpio_pin_reset(*PIC_PINS['ARRAY_EN<%d>' %(array[a])])"
   ]
  },
  {
   "cell_type": "markdown",
   "metadata": {},
   "source": [
    "READ TESTING\n"
   ]
  },
  {
   "cell_type": "code",
   "execution_count": 66,
   "metadata": {},
   "outputs": [],
   "source": [
    "dut.pads_defaults()"
   ]
  },
  {
   "cell_type": "code",
   "execution_count": 67,
   "metadata": {},
   "outputs": [],
   "source": [
    "#drv.gpio_pin_set(*PIC_PINS['DPE_INTERNAL_EN'])\n",
    "\n",
    "# EXETERNALLY TRIGGERED READ\n",
    "drv.gpio_pin_set(*PIC_PINS['DPE_EXT_OVERRIDE_EN']) "
   ]
  },
  {
   "cell_type": "code",
   "execution_count": 68,
   "metadata": {},
   "outputs": [],
   "source": [
    "drv.gpio_pin_set(*PIC_PINS['READ_DPE'])"
   ]
  },
  {
   "cell_type": "code",
   "execution_count": 69,
   "metadata": {},
   "outputs": [],
   "source": [
    "drv.gpio_pin_set(*PIC_PINS['READ_BIT'])"
   ]
  },
  {
   "cell_type": "code",
   "execution_count": null,
   "metadata": {},
   "outputs": [],
   "source": [
    "#drv.gpio_pin_set(*PIC_PINS['ARRAY_EN<0>'])\n",
    "#drv.gpio_pin_set(*PIC_PINS['ARRAY_EN<1>'])\n",
    "#drv.gpio_pin_set(*PIC_PINS['ARRAY_EN<2>'])"
   ]
  },
  {
   "cell_type": "code",
   "execution_count": 70,
   "metadata": {},
   "outputs": [],
   "source": [
    "drv.gpio_pin_set(*PIC_PINS['NFORCE_SAFE0'])\n",
    "drv.gpio_pin_set(*PIC_PINS['NFORCE_SAFE1'])\n",
    "drv.gpio_pin_set(*PIC_PINS['NFORCE_SAFE2'])"
   ]
  },
  {
   "cell_type": "code",
   "execution_count": 71,
   "metadata": {},
   "outputs": [],
   "source": [
    "drv.gpio_pin_set(*PIC_PINS['CONNECT_TIA'])"
   ]
  },
  {
   "cell_type": "code",
   "execution_count": 72,
   "metadata": {},
   "outputs": [],
   "source": [
    "drv.gpio_pin_set(*PIC_PINS['CONNECT_COLUMN_T'])"
   ]
  },
  {
   "cell_type": "code",
   "execution_count": 73,
   "metadata": {},
   "outputs": [],
   "source": [
    "drv.gpio_pin_set(*PIC_PINS['DPE_EXT_PULSE'])"
   ]
  },
  {
   "cell_type": "code",
   "execution_count": 74,
   "metadata": {},
   "outputs": [],
   "source": [
    "drv.gpio_pin_set(*PIC_PINS['DPE_EXT_SH'])"
   ]
  },
  {
   "cell_type": "code",
   "execution_count": 150,
   "metadata": {},
   "outputs": [
    {
     "name": "stdout",
     "output_type": "stream",
     "text": [
      "0110000000000\t0.500 V\n",
      "0111000000000\t2.252 V\n",
      "0111000000000\t2.252 V\n",
      "0111000000000\t2.252 V\n",
      "0111000000000\t2.252 V\n",
      "0111000000000\t2.252 V\n",
      "0111000000000\t2.252 V\n",
      "0111000000000\t2.252 V\n",
      "0111000000000\t2.252 V\n",
      "0111000000000\t2.252 V\n",
      "0111000000000\t2.252 V\n",
      "0111000000000\t2.252 V\n",
      "0111000000000\t2.252 V\n",
      "0111000000000\t2.252 V\n",
      "0111000000000\t2.252 V\n",
      "0111000000000\t2.252 V\n"
     ]
    }
   ],
   "source": [
    "drv.gpio_pin_reset(*PIC_PINS['ADC_FIFO_EN<0>'])\n",
    "drv.gpio_pin_reset(*PIC_PINS['ADC_FIFO_EN<1>'])\n",
    "drv.gpio_pin_reset(*PIC_PINS['ADC_FIFO_EN<2>'])\n",
    "drv.gpio_pin_reset(*PIC_PINS['ADC_FIFO_EN<3>'])\n",
    "\n",
    "data = drv.gpio_adc_read()\n",
    "print(f'{data:013b}', end='\\t')\n",
    "print( f'{adc2volt(data):.3f} V' )\n",
    "\n",
    "StrobeNum = 15\n",
    "for strobe in range(StrobeNum):\n",
    "    drv.gpio_pin_set(*PIC_PINS['ADC_FIFO_ADVANCE'])\n",
    "    drv.gpio_pin_reset(*PIC_PINS['ADC_FIFO_ADVANCE'])\n",
    "    data = drv.gpio_adc_read()\n",
    "    print(f'{data:013b}', end='\\t')\n",
    "    #print(strobe)\n",
    "    print( f'{adc2volt(data):.3f} V' )"
   ]
  },
  {
   "cell_type": "code",
   "execution_count": null,
   "metadata": {},
   "outputs": [],
   "source": []
  },
  {
   "cell_type": "markdown",
   "metadata": {},
   "source": [
    "**********************************************************************\n",
    "\n",
    "MOVING ON FOR NOW - TIA BITS STILLL NOT READ OUT BUT CLEAR CORRELATION BETWEEN LOADED GAIN SETTINGS AND ADC OUTPUT READ\n",
    "\n",
    "TIA CALIBRATION TIME!"
   ]
  },
  {
   "cell_type": "code",
   "execution_count": 926,
   "metadata": {},
   "outputs": [],
   "source": [
    "drv.gpio_pin_reset(*PIC_PINS['NRESET_FULL_CHIP'])"
   ]
  },
  {
   "cell_type": "code",
   "execution_count": 927,
   "metadata": {},
   "outputs": [],
   "source": [
    "drv.gpio_pin_reset(*PIC_PINS['NRESET_DPE_ENGINE'])"
   ]
  },
  {
   "cell_type": "code",
   "execution_count": 928,
   "metadata": {},
   "outputs": [],
   "source": [
    "drv.gpio_pin_set(*PIC_PINS['NRESET_FULL_CHIP'])"
   ]
  },
  {
   "cell_type": "code",
   "execution_count": 929,
   "metadata": {},
   "outputs": [],
   "source": [
    "# Control block scan chain for power up LEAVE ALONE\n",
    "data = bytes([0b000_10000, 0b0000_0010 , 0b0000_1100,0b0001_0000, 0b0010_0000, 0b00000001, 0b00000010])\n",
    "drv.spi_serial_write(2, data) # addr 1 here means SERIAL_CHAIN_SEL0 is 1 and _SEL1 is 0"
   ]
  },
  {
   "cell_type": "code",
   "execution_count": 930,
   "metadata": {},
   "outputs": [],
   "source": [
    "drv.gpio_pin_reset(*PIC_PINS['NRESET_DPE_ENGINE'])\n",
    "dut.pads_defaults()\n",
    "drv.gpio_pin_set(*PIC_PINS['NRESET_DPE_ENGINE'])"
   ]
  },
  {
   "cell_type": "code",
   "execution_count": 931,
   "metadata": {},
   "outputs": [
    {
     "name": "stdout",
     "output_type": "stream",
     "text": [
      "b'\\xc41\\x0cC\\x10\\xc41\\x0cC\\x10\\xc41\\x0cC\\x10\\xc41\\x0cC\\x10\\xc41\\x0cC\\x10\\xc41\\x0cC\\x10\\xc41\\x0cC\\x10\\xc41\\x0cC\\x10\\xc41\\x0cC\\x10\\xc41\\x0cC\\x10\\xc41\\x0cC\\x10\\xc41\\x0cC\\x10\\xc41\\x0cC\\x10\\xc41\\x0cC\\x10\\xc41\\x0cC\\x10\\xc41\\x0cC\\x10\\xc41\\x0cC\\x10\\xc41\\x0cC\\x10\\xc41\\x0cC\\x10\\xc41\\x0cC\\x10\\xc41\\x0cC\\x10\\xc41\\x0cC\\x10\\xc41\\x0cC\\x10\\xc41\\x0cC\\x10'\n",
      "b'\\xc41\\x0cC\\x10\\xc41\\x0cC\\x10\\xc41\\x0cC\\x10\\xc41\\x0cC\\x10\\xc41\\x0cC\\x10\\xc41\\x0cC\\x10\\xc41\\x0cC\\x10\\xc41\\x0cC\\x10\\xc41\\x0cC\\x10\\xc41\\x0cC\\x10\\xc41\\x0cC\\x10\\xc41\\x0cC\\x10\\xc41\\x0cC\\x10\\xc41\\x0cC\\x10\\xc41\\x0cC\\x10\\xc41\\x0cC\\x10\\xc41\\x0cC\\x10\\xc41\\x0cC\\x10\\xc41\\x0cC\\x10\\xc41\\x0cC\\x10\\xc41\\x0cC\\x10\\xc41\\x0cC\\x10\\xc41\\x0cC\\x10\\xc41\\x0cC\\x10'\n"
     ]
    }
   ],
   "source": [
    "# TIA SCAN IN OP AMPS ENABLED, No COMPENSATION\n",
    "#data = bytes([0b1100_0001, 0b0011_0000, 0b0100_1100, 0b0001_0011, 0b0000_0100]*24)\n",
    "\n",
    "data = BitArray('0b1100010000'*96).bytes\n",
    "print(data)\n",
    "drv.spi_serial_write(0, data)\n",
    "print(data)\n",
    "drv.spi_serial_write(1, data)\n",
    "\n",
    "time.sleep(1e-5)\n",
    "drv.gpio_pin_set(*PIC_PINS['UPDATE_TIA_CONF'])\n",
    "drv.gpio_pin_reset(*PIC_PINS['UPDATE_TIA_CONF'])"
   ]
  },
  {
   "cell_type": "code",
   "execution_count": 932,
   "metadata": {},
   "outputs": [],
   "source": [
    "# LOAD ONE COLUMN ON ONE ARRAY (NOTE: THIS ASSUMES YOU\"VE PREVIOUSLY LOADED ALL ZEROS)\n",
    "\n",
    "drv.gpio_pin_reset(*PIC_PINS['ARRAY_EN<0>'])\n",
    "drv.gpio_pin_set(*PIC_PINS['ARRAY_EN<1>'])\n",
    "drv.gpio_pin_reset(*PIC_PINS['ARRAY_EN<2>'])\n",
    "\n",
    "drv.gpio_pin_set(*PIC_PINS['COL_ROW_SEL'])\n",
    "\n",
    "drv.gpio_row_col_bank_write(0b0001)\n",
    "drv.gpio_row_col_data_write(0b1000_0000_0000_0000)\n",
    "time.sleep(1e-5)\n",
    "drv.gpio_pin_set(*PIC_PINS['LATCH_CLK_DATA'])\n",
    "time.sleep(1e-5)\n",
    "drv.gpio_pin_reset(*PIC_PINS['LATCH_CLK_DATA'])"
   ]
  },
  {
   "cell_type": "code",
   "execution_count": 965,
   "metadata": {},
   "outputs": [],
   "source": [
    "drv.gpio_pin_reset(*PIC_PINS['NRESET_DPE_ENGINE'])\n",
    "dut.pads_defaults()\n",
    "drv.gpio_pin_set(*PIC_PINS['NRESET_DPE_ENGINE'])"
   ]
  },
  {
   "cell_type": "code",
   "execution_count": 966,
   "metadata": {},
   "outputs": [],
   "source": [
    "drv.gpio_pin_set(*PIC_PINS['WRITE_SEL_EXT'])\n",
    "drv.gpio_pin_set(*PIC_PINS['DPE_EXT_OVERRIDE_EN'])                 \n",
    "time.sleep(5e-6)   \n",
    "drv.gpio_pin_reset(*PIC_PINS['NFORCE_SAFE2'])\n",
    "drv.gpio_pin_set(*PIC_PINS['NFORCE_SAFE1'])\n",
    "drv.gpio_pin_reset(*PIC_PINS['NFORCE_SAFE0'])\n",
    "time.sleep(5e-6)        # delay(t_cal_start), min = 2TCK\n",
    "drv.gpio_pin_set(*PIC_PINS['COL_WRITE_CONNECT'])\n",
    "time.sleep(5e-6)        # delay(t_opamp), min = 500ns\n",
    "drv.gpio_pin_set(*PIC_PINS['CONNECT_TIA'])\n",
    "#drv.gpio_pin_set(*PIC_PINS['DPE_EXT_SH'])"
   ]
  },
  {
   "cell_type": "code",
   "execution_count": 967,
   "metadata": {},
   "outputs": [],
   "source": [
    "# Before setting this, we're using an external current source to apply to the board!\n",
    "drv.gpio_pin_set(*PIC_PINS['DPE_EXT_SH'])\n",
    "# Then see that ADC_DONE goes high and strobe out the FIFO"
   ]
  },
  {
   "cell_type": "code",
   "execution_count": 968,
   "metadata": {},
   "outputs": [],
   "source": [
    "dut.pads_defaults()"
   ]
  },
  {
   "cell_type": "code",
   "execution_count": 969,
   "metadata": {},
   "outputs": [
    {
     "name": "stdout",
     "output_type": "stream",
     "text": [
      "0000000000010\t0.507 V\n",
      "0000000000010\t0.507 V\n",
      "0000000000010\t0.507 V\n",
      "0000000000010\t0.507 V\n",
      "0000000100010\t0.616 V\n",
      "0000000000010\t0.507 V\n",
      "0000000000010\t0.507 V\n",
      "0000110010010\t1.875 V\n",
      "0001101111111\t3.562 V\n",
      "0000000000010\t0.507 V\n",
      "0000011000010\t1.164 V\n",
      "0000000000010\t0.507 V\n",
      "0000000010010\t0.562 V\n",
      "0001011001111\t2.960 V\n",
      "0000000000010\t0.507 V\n",
      "0000000000010\t0.507 V\n",
      "\n",
      "0000000000010\t0.507 V\n",
      "0000110010010\t1.875 V\n",
      "0000000000010\t0.507 V\n",
      "0000000000010\t0.507 V\n",
      "0001111111111\t4.000 V\n",
      "0000000000010\t0.507 V\n",
      "0000000000010\t0.507 V\n",
      "0000000000010\t0.507 V\n",
      "0000000000010\t0.507 V\n",
      "0000000000010\t0.507 V\n",
      "0000000000010\t0.507 V\n",
      "0001110111111\t3.781 V\n",
      "0000000000010\t0.507 V\n",
      "0000000000010\t0.507 V\n",
      "0000000000010\t0.507 V\n",
      "0000000000010\t0.507 V\n",
      "\n",
      "0000000000010\t0.507 V\n",
      "0000000000010\t0.507 V\n",
      "0000000000010\t0.507 V\n",
      "0000000000010\t0.507 V\n",
      "0001101111111\t3.562 V\n",
      "0000000000010\t0.507 V\n",
      "0000000000010\t0.507 V\n",
      "0000000000010\t0.507 V\n",
      "0000000000010\t0.507 V\n",
      "0000000000010\t0.507 V\n",
      "0000000000010\t0.507 V\n",
      "0000000000010\t0.507 V\n",
      "0000000000010\t0.507 V\n",
      "0001011011110\t3.011 V\n",
      "0001111111111\t4.000 V\n",
      "0000111000010\t2.040 V\n",
      "\n",
      "0001011110111\t3.097 V\n",
      "0000000000010\t0.507 V\n",
      "0000000000010\t0.507 V\n",
      "0001110111111\t3.781 V\n",
      "0000011000010\t1.164 V\n",
      "0000000000010\t0.507 V\n",
      "0001111111111\t4.000 V\n",
      "0000000000010\t0.507 V\n",
      "0000010000010\t0.945 V\n",
      "0001111011111\t3.891 V\n",
      "0000000000010\t0.507 V\n",
      "0000100000010\t1.383 V\n",
      "0001101111111\t3.562 V\n",
      "0000000000010\t0.507 V\n",
      "0000000000010\t0.507 V\n",
      "0000000000010\t0.507 V\n",
      "\n"
     ]
    }
   ],
   "source": [
    "drv.gpio_pin_reset(*PIC_PINS['ADC_FIFO_EN<0>'])\n",
    "drv.gpio_pin_set(*PIC_PINS['ADC_FIFO_EN<1>'])\n",
    "drv.gpio_pin_reset(*PIC_PINS['ADC_FIFO_EN<2>'])\n",
    "drv.gpio_pin_reset(*PIC_PINS['ADC_FIFO_EN<3>'])\n",
    "\n",
    "data = drv.gpio_adc_read()\n",
    "print(f'{data:013b}', end='\\t')\n",
    "print( f'{adc2volt(data):.3f} V' )\n",
    "\n",
    "StrobeNum = 15\n",
    "for strobe in range(StrobeNum):\n",
    "    drv.gpio_pin_set(*PIC_PINS['ADC_FIFO_ADVANCE'])\n",
    "    drv.gpio_pin_reset(*PIC_PINS['ADC_FIFO_ADVANCE'])\n",
    "    data = drv.gpio_adc_read()\n",
    "    print(f'{data:013b}', end='\\t')\n",
    "    #print(strobe)\n",
    "    print( f'{adc2volt(data):.3f} V' )\n",
    "print()\n",
    "\n",
    "drv.gpio_pin_set(*PIC_PINS['ADC_FIFO_EN<0>'])\n",
    "drv.gpio_pin_set(*PIC_PINS['ADC_FIFO_EN<1>'])\n",
    "drv.gpio_pin_reset(*PIC_PINS['ADC_FIFO_EN<2>'])\n",
    "drv.gpio_pin_reset(*PIC_PINS['ADC_FIFO_EN<3>'])\n",
    "\n",
    "data = drv.gpio_adc_read()\n",
    "print(f'{data:013b}', end='\\t')\n",
    "print( f'{adc2volt(data):.3f} V' )\n",
    "\n",
    "StrobeNum = 15\n",
    "for strobe in range(StrobeNum):\n",
    "    drv.gpio_pin_set(*PIC_PINS['ADC_FIFO_ADVANCE'])\n",
    "    drv.gpio_pin_reset(*PIC_PINS['ADC_FIFO_ADVANCE'])\n",
    "    data = drv.gpio_adc_read()\n",
    "    print(f'{data:013b}', end='\\t')\n",
    "    #print(strobe)\n",
    "    print( f'{adc2volt(data):.3f} V' )\n",
    "print()\n",
    "\n",
    "drv.gpio_pin_reset(*PIC_PINS['ADC_FIFO_EN<0>'])\n",
    "drv.gpio_pin_reset(*PIC_PINS['ADC_FIFO_EN<1>'])\n",
    "drv.gpio_pin_reset(*PIC_PINS['ADC_FIFO_EN<2>'])\n",
    "drv.gpio_pin_set(*PIC_PINS['ADC_FIFO_EN<3>'])\n",
    "\n",
    "data = drv.gpio_adc_read()\n",
    "print(f'{data:013b}', end='\\t')\n",
    "print( f'{adc2volt(data):.3f} V' )\n",
    "\n",
    "StrobeNum = 15\n",
    "for strobe in range(StrobeNum):\n",
    "    drv.gpio_pin_set(*PIC_PINS['ADC_FIFO_ADVANCE'])\n",
    "    drv.gpio_pin_reset(*PIC_PINS['ADC_FIFO_ADVANCE'])\n",
    "    data = drv.gpio_adc_read()\n",
    "    print(f'{data:013b}', end='\\t')\n",
    "    #print(strobe)\n",
    "    print( f'{adc2volt(data):.3f} V' )\n",
    "print()\n",
    "\n",
    "drv.gpio_pin_set(*PIC_PINS['ADC_FIFO_EN<0>'])\n",
    "drv.gpio_pin_reset(*PIC_PINS['ADC_FIFO_EN<1>'])\n",
    "drv.gpio_pin_reset(*PIC_PINS['ADC_FIFO_EN<2>'])\n",
    "drv.gpio_pin_set(*PIC_PINS['ADC_FIFO_EN<3>'])\n",
    "\n",
    "data = drv.gpio_adc_read()\n",
    "print(f'{data:013b}', end='\\t')\n",
    "print( f'{adc2volt(data):.3f} V' )\n",
    "\n",
    "StrobeNum = 15\n",
    "for strobe in range(StrobeNum):\n",
    "    drv.gpio_pin_set(*PIC_PINS['ADC_FIFO_ADVANCE'])\n",
    "    drv.gpio_pin_reset(*PIC_PINS['ADC_FIFO_ADVANCE'])\n",
    "    data = drv.gpio_adc_read()\n",
    "    print(f'{data:013b}', end='\\t')\n",
    "    #print(strobe)\n",
    "    print( f'{adc2volt(data):.3f} V' )\n",
    "print()\n"
   ]
  },
  {
   "cell_type": "code",
   "execution_count": 692,
   "metadata": {},
   "outputs": [],
   "source": [
    "#turn on all columns\n",
    "roc = [1 ,1, 1]\n",
    "# data= 0b1111111111111111\n",
    "data= 0x1111\n",
    "array= [0, 1, 2]\n",
    "N = 3\n",
    "for a in range(0, N-1):\n",
    "    drv.gpio_pin_set(*PIC_PINS['ARRAY_EN<%d>' %(array[a])])\n",
    "    if roc[a] == 1:\n",
    "        drv.gpio_pin_set(*PIC_PINS['COL_ROW_SEL'])\n",
    "    elif roc[a] == 0:\n",
    "        drv.gpio_pin_reset(*PIC_PINS['COL_ROW_SEL'])\n",
    "    else:\n",
    "        print('error, roc = 0 or 1')\n",
    "        \n",
    "    drv.gpio_row_col_bank_write(0b1000)\n",
    "    drv.gpio_row_col_data_write(data)\n",
    "    time.sleep(1e-7)\n",
    "    drv.gpio_pin_set(*PIC_PINS['LATCH_CLK_DATA'])\n",
    "    time.sleep(1e-7)\n",
    "    drv.gpio_pin_reset(*PIC_PINS['LATCH_CLK_DATA'])\n",
    "\n",
    "    drv.gpio_row_col_bank_write(0b0100)\n",
    "    drv.gpio_row_col_data_write(data)\n",
    "    time.sleep(1e-7)\n",
    "    drv.gpio_pin_set(*PIC_PINS['LATCH_CLK_DATA'])\n",
    "    time.sleep(1e-7)\n",
    "    drv.gpio_pin_reset(*PIC_PINS['LATCH_CLK_DATA'])\n",
    "\n",
    "    drv.gpio_row_col_bank_write(0b0010)\n",
    "    drv.gpio_row_col_data_write(data)\n",
    "    time.sleep(1e-7)\n",
    "    drv.gpio_pin_set(*PIC_PINS['LATCH_CLK_DATA'])\n",
    "    time.sleep(1e-7)\n",
    "    drv.gpio_pin_reset(*PIC_PINS['LATCH_CLK_DATA'])\n",
    "\n",
    "    drv.gpio_row_col_bank_write(0b0001)\n",
    "    drv.gpio_row_col_data_write(data)\n",
    "    time.sleep(1e-7)\n",
    "    drv.gpio_pin_set(*PIC_PINS['LATCH_CLK_DATA'])\n",
    "    time.sleep(1e-7)\n",
    "    drv.gpio_pin_reset(*PIC_PINS['LATCH_CLK_DATA'])\n",
    "\n",
    "    drv.gpio_pin_reset(*PIC_PINS['ARRAY_EN<%d>' %(array[a])])"
   ]
  },
  {
   "cell_type": "code",
   "execution_count": 131,
   "metadata": {},
   "outputs": [],
   "source": [
    "dut.dac_set('DAC_SCHOTTKY', -0.2)"
   ]
  },
  {
   "cell_type": "code",
   "execution_count": 204,
   "metadata": {},
   "outputs": [],
   "source": [
    "dut.dac_set('P_VREF_SH', 2.42)"
   ]
  },
  {
   "cell_type": "code",
   "execution_count": 306,
   "metadata": {},
   "outputs": [],
   "source": [
    "dut.dac_set('P_TVDD', -0.08)"
   ]
  },
  {
   "cell_type": "markdown",
   "metadata": {},
   "source": []
  },
  {
   "cell_type": "code",
   "execution_count": 393,
   "metadata": {},
   "outputs": [
    {
     "data": {
      "text/plain": [
       "b'\\xb0l\\x1b\\x06\\xc1\\xb0l\\x1b\\x06\\xc1\\xb0l\\x1b\\x06\\xc1\\xb0l\\x1b\\x06\\xc1\\xb0l\\x1b\\x06\\xc1\\xb0l\\x1b\\x06\\xc1\\xb0l\\x1b\\x06\\xc1\\xb0l\\x1b\\x06\\xc1\\xb0l\\x1b\\x06\\xc1\\xb0l\\x1b\\x06\\xc1\\xb0l\\x1b\\x06\\xc1\\xb0l\\x1b\\x06\\xc1\\xb0l\\x1b\\x06\\xc1\\xb0l\\x1b\\x06\\xc1\\xb0l\\x1b\\x06\\xc1\\xb0l\\x1b\\x06\\xc1\\xb0l\\x1b\\x06\\xc1\\xb0l\\x1b\\x06\\xc1\\xb0l\\x1b\\x06\\xc1\\xb0l\\x1b\\x06\\xc1\\xb0l\\x1b\\x06\\xc1\\xb0l\\x1b\\x06\\xc1\\xb0l\\x1b\\x06\\xc1\\xb0l\\x1b\\x06\\xc1'"
      ]
     },
     "execution_count": 393,
     "metadata": {},
     "output_type": "execute_result"
    }
   ],
   "source": [
    "from bitstring import BitArray\n",
    "conf_bits = BitArray('0b1011000001'*96).bytes\n",
    "conf_bits"
   ]
  },
  {
   "cell_type": "code",
   "execution_count": 352,
   "metadata": {},
   "outputs": [
    {
     "name": "stdout",
     "output_type": "stream",
     "text": [
      "10110000_01101100_00011011_00000110_11000001_10110000_01101100_00011011_00000110_11000001_10110000_01101100_00011011_00000110_11000001_10110000_01101100_00011011_00000110_11000001_10110000_01101100_00011011_00000110_11000001_10110000_01101100_00011011_00000110_11000001_10110000_01101100_00011011_00000110_11000001_10110000_01101100_00011011_00000110_11000001_10110000_01101100_00011011_00000110_11000001_10110000_01101100_00011011_00000110_11000001_10110000_01101100_00011011_00000110_11000001_10110000_01101100_00011011_00000110_11000001_10110000_01101100_00011011_00000110_11000001_10110000_01101100_00011011_00000110_11000001_10110000_01101100_00011011_00000110_11000001_10110000_01101100_00011011_00000110_11000001_10110000_01101100_00011011_00000110_11000001_10110000_01101100_00011011_00000110_11000001_10110000_01101100_00011011_00000110_11000001_10110000_01101100_00011011_00000110_11000001_10110000_01101100_00011011_00000110_11000001_10110000_01101100_00011011_00000110_11000001_10110000_01101100_00011011_00000110_11000001_10110000_01101100_00011011_00000110_11000001_"
     ]
    }
   ],
   "source": [
    "conf_bytes = []\n",
    "for bit in conf_bits.bytes:\n",
    "    print(f'{bit:08b}', end='_')"
   ]
  },
  {
   "cell_type": "markdown",
   "metadata": {},
   "source": [
    "INTERNAL READ TIME!"
   ]
  },
  {
   "cell_type": "code",
   "execution_count": 453,
   "metadata": {},
   "outputs": [],
   "source": [
    "# Control block scan chain for power up LEAVE ALONE\n",
    "data = bytes([0b0001_0000, 0b0000_0010 , 0b0000_1100,0b0001_0000, 0b0010_0000, 0b0000_0001, 0b0000_0010])\n",
    "drv.spi_serial_write(2, data) # addr 1 here means SERIAL_CHAIN_SEL0 is 1 and _SEL1 is 0"
   ]
  },
  {
   "cell_type": "code",
   "execution_count": 610,
   "metadata": {},
   "outputs": [],
   "source": [
    "drv.gpio_pin_reset(*PIC_PINS['NRESET_DPE_ENGINE'])\n",
    "dut.pads_defaults()\n",
    "drv.gpio_pin_set(*PIC_PINS['NRESET_DPE_ENGINE'])"
   ]
  },
  {
   "cell_type": "code",
   "execution_count": 614,
   "metadata": {},
   "outputs": [
    {
     "name": "stdout",
     "output_type": "stream",
     "text": [
      "b'\\xc0p,\\x07\\x04\\xc0\\xb0\\x8c\\x07\\x10\\xc0p,\\x07\\x04\\xc0\\xb0\\x8c\\x07\\x10\\xc0p,\\x07\\x04\\xc0\\xb0\\x8c\\x07\\x10\\xc0p,\\x07\\x04\\xc0\\xb0\\x8c\\x07\\x10\\xc0p,\\x07\\x04\\xc0\\xb0\\x8c\\x07\\x10\\xc0p,\\x07\\x04\\xc0\\xb0\\x8c\\x07\\x10\\xc0p,\\x07\\x04\\xc0\\xb0\\x8c\\x07\\x10\\xc0p,\\x07\\x04\\xc0\\xb0\\x8c\\x07\\x10\\xc0p,\\x07\\x04\\xc0\\xb0\\x8c\\x07\\x10\\xc0p,\\x07\\x04\\xc0\\xb0\\x8c\\x07\\x10\\xc0p,\\x07\\x04\\xc0\\xb0\\x8c\\x07\\x10\\xc0p,\\x07\\x04\\xc0\\xb0\\x8c\\x07\\x10'\n",
      "b'\\xc0p,\\x07\\x04\\xc0\\xb0\\x8c\\x07\\x10\\xc0p,\\x07\\x04\\xc0\\xb0\\x8c\\x07\\x10\\xc0p,\\x07\\x04\\xc0\\xb0\\x8c\\x07\\x10\\xc0p,\\x07\\x04\\xc0\\xb0\\x8c\\x07\\x10\\xc0p,\\x07\\x04\\xc0\\xb0\\x8c\\x07\\x10\\xc0p,\\x07\\x04\\xc0\\xb0\\x8c\\x07\\x10\\xc0p,\\x07\\x04\\xc0\\xb0\\x8c\\x07\\x10\\xc0p,\\x07\\x04\\xc0\\xb0\\x8c\\x07\\x10\\xc0p,\\x07\\x04\\xc0\\xb0\\x8c\\x07\\x10\\xc0p,\\x07\\x04\\xc0\\xb0\\x8c\\x07\\x10\\xc0p,\\x07\\x04\\xc0\\xb0\\x8c\\x07\\x10\\xc0p,\\x07\\x04\\xc0\\xb0\\x8c\\x07\\x10'\n"
     ]
    }
   ],
   "source": [
    "# TIA SCAN IN OP AMPS ENABLED, No COMPENSATION, 30k gain\n",
    "#data = bytes([0b1100_0001, 0b0011_0000, 0b0100_1100, 0b0001_0011, 0b0000_0100]*24)\n",
    "#1kohm\t5kohm\t30kohm\t200kohm\t1Mohm\tcm\tC<1>\tC<0>\tTIA en\tS/H en\n",
    "#data = BitArray('0b1100000001'*96).bytes\n",
    "data = BitArray('0b11000000011100000010110000000111000001001100000010110000100011000000011100010000'*12).bytes\n",
    "\n",
    "print(data)\n",
    "drv.spi_serial_write(0, data)\n",
    "# TIA SCAN IN OP AMPS ENABLED, No COMPENSATION, 30k gain\n",
    "#data = bytes([0b1100_0001, 0b0011_0000, 0b0100_1100, 0b0001_0011, 0b0000_0100]*24)\n",
    "print(data)\n",
    "drv.spi_serial_write(1, data)\n",
    "\n",
    "time.sleep(1e-6)\n",
    "drv.gpio_pin_set(*PIC_PINS['UPDATE_TIA_CONF'])\n",
    "drv.gpio_pin_reset(*PIC_PINS['UPDATE_TIA_CONF'])"
   ]
  },
  {
   "cell_type": "code",
   "execution_count": 615,
   "metadata": {},
   "outputs": [],
   "source": [
    "roc = [0 ,0, 0]\n",
    "# data= 0b1111111111111111\n",
    "data= 0x1111\n",
    "array= [0, 1, 2]\n",
    "N = 3\n",
    "for a in range(0, N-1):\n",
    "    drv.gpio_pin_set(*PIC_PINS['ARRAY_EN<%d>' %(array[a])])\n",
    "    if roc[a] == 1:\n",
    "        drv.gpio_pin_set(*PIC_PINS['COL_ROW_SEL'])\n",
    "    elif roc[a] == 0:\n",
    "        drv.gpio_pin_reset(*PIC_PINS['COL_ROW_SEL'])\n",
    "    else:\n",
    "        print('error, roc = 0 or 1')\n",
    "        \n",
    "    drv.gpio_row_col_bank_write(0b1000)\n",
    "    drv.gpio_row_col_data_write(data)\n",
    "    time.sleep(1e-7)\n",
    "    drv.gpio_pin_set(*PIC_PINS['LATCH_CLK_DATA'])\n",
    "    time.sleep(1e-7)\n",
    "    drv.gpio_pin_reset(*PIC_PINS['LATCH_CLK_DATA'])\n",
    "\n",
    "    drv.gpio_row_col_bank_write(0b0100)\n",
    "    drv.gpio_row_col_data_write(data)\n",
    "    time.sleep(1e-7)\n",
    "    drv.gpio_pin_set(*PIC_PINS['LATCH_CLK_DATA'])\n",
    "    time.sleep(1e-7)\n",
    "    drv.gpio_pin_reset(*PIC_PINS['LATCH_CLK_DATA'])\n",
    "\n",
    "    drv.gpio_row_col_bank_write(0b0010)\n",
    "    drv.gpio_row_col_data_write(data)\n",
    "    time.sleep(1e-7)\n",
    "    drv.gpio_pin_set(*PIC_PINS['LATCH_CLK_DATA'])\n",
    "    time.sleep(1e-7)\n",
    "    drv.gpio_pin_reset(*PIC_PINS['LATCH_CLK_DATA'])\n",
    "\n",
    "    drv.gpio_row_col_bank_write(0b0001)\n",
    "    drv.gpio_row_col_data_write(data)\n",
    "    time.sleep(1e-7)\n",
    "    drv.gpio_pin_set(*PIC_PINS['LATCH_CLK_DATA'])\n",
    "    time.sleep(1e-7)\n",
    "    drv.gpio_pin_reset(*PIC_PINS['LATCH_CLK_DATA'])\n",
    "\n",
    "    drv.gpio_pin_reset(*PIC_PINS['ARRAY_EN<%d>' %(array[a])])"
   ]
  },
  {
   "cell_type": "code",
   "execution_count": 616,
   "metadata": {},
   "outputs": [],
   "source": [
    "roc = [1 ,1, 1]\n",
    "# data= 0b1111111111111111\n",
    "data= 0x0000\n",
    "array= [0, 1, 2]\n",
    "N = 3\n",
    "for a in range(0, N-1):\n",
    "    drv.gpio_pin_set(*PIC_PINS['ARRAY_EN<%d>' %(array[a])])\n",
    "    if roc[a] == 1:\n",
    "        drv.gpio_pin_set(*PIC_PINS['COL_ROW_SEL'])\n",
    "    elif roc[a] == 0:\n",
    "        drv.gpio_pin_reset(*PIC_PINS['COL_ROW_SEL'])\n",
    "    else:\n",
    "        print('error, roc = 0 or 1')\n",
    "        \n",
    "    drv.gpio_row_col_bank_write(0b1000)\n",
    "    drv.gpio_row_col_data_write(data)\n",
    "    time.sleep(1e-7)\n",
    "    drv.gpio_pin_set(*PIC_PINS['LATCH_CLK_DATA'])\n",
    "    time.sleep(1e-7)\n",
    "    drv.gpio_pin_reset(*PIC_PINS['LATCH_CLK_DATA'])\n",
    "\n",
    "    drv.gpio_row_col_bank_write(0b0100)\n",
    "    drv.gpio_row_col_data_write(data)\n",
    "    time.sleep(1e-7)\n",
    "    drv.gpio_pin_set(*PIC_PINS['LATCH_CLK_DATA'])\n",
    "    time.sleep(1e-7)\n",
    "    drv.gpio_pin_reset(*PIC_PINS['LATCH_CLK_DATA'])\n",
    "\n",
    "    drv.gpio_row_col_bank_write(0b0010)\n",
    "    drv.gpio_row_col_data_write(data)\n",
    "    time.sleep(1e-7)\n",
    "    drv.gpio_pin_set(*PIC_PINS['LATCH_CLK_DATA'])\n",
    "    time.sleep(1e-7)\n",
    "    drv.gpio_pin_reset(*PIC_PINS['LATCH_CLK_DATA'])\n",
    "\n",
    "    drv.gpio_row_col_bank_write(0b0001)\n",
    "    drv.gpio_row_col_data_write(data)\n",
    "    time.sleep(1e-7)\n",
    "    drv.gpio_pin_set(*PIC_PINS['LATCH_CLK_DATA'])\n",
    "    time.sleep(1e-7)\n",
    "    drv.gpio_pin_reset(*PIC_PINS['LATCH_CLK_DATA'])\n",
    "\n",
    "    drv.gpio_pin_reset(*PIC_PINS['ARRAY_EN<%d>' %(array[a])])"
   ]
  },
  {
   "cell_type": "code",
   "execution_count": 617,
   "metadata": {},
   "outputs": [],
   "source": [
    "drv.gpio_pin_reset(*PIC_PINS['NRESET_DPE_ENGINE'])\n",
    "dut.pads_defaults()\n",
    "drv.gpio_pin_set(*PIC_PINS['NRESET_DPE_ENGINE'])"
   ]
  },
  {
   "cell_type": "code",
   "execution_count": 618,
   "metadata": {},
   "outputs": [],
   "source": [
    "drv.gpio_pin_set(*PIC_PINS['DPE_INTERNAL_EN'])\n",
    "drv.gpio_pin_set(*PIC_PINS['AGC_INTERNAL_EN'])"
   ]
  },
  {
   "cell_type": "code",
   "execution_count": 619,
   "metadata": {},
   "outputs": [],
   "source": [
    "drv.gpio_pin_set(*PIC_PINS['READ_BIT'])"
   ]
  },
  {
   "cell_type": "code",
   "execution_count": 620,
   "metadata": {},
   "outputs": [],
   "source": [
    "drv.gpio_pin_set(*PIC_PINS['READ_DPE'])"
   ]
  },
  {
   "cell_type": "code",
   "execution_count": 621,
   "metadata": {},
   "outputs": [],
   "source": [
    "drv.gpio_pin_set(*PIC_PINS['NFORCE_SAFE0'])\n",
    "drv.gpio_pin_set(*PIC_PINS['NFORCE_SAFE1'])\n",
    "drv.gpio_pin_set(*PIC_PINS['NFORCE_SAFE2'])"
   ]
  },
  {
   "cell_type": "code",
   "execution_count": 622,
   "metadata": {},
   "outputs": [],
   "source": [
    "drv.gpio_pin_set(*PIC_PINS['CONNECT_TIA'])"
   ]
  },
  {
   "cell_type": "code",
   "execution_count": 623,
   "metadata": {},
   "outputs": [],
   "source": [
    "drv.gpio_pin_set(*PIC_PINS['CONNECT_COLUMN_T'])"
   ]
  },
  {
   "cell_type": "code",
   "execution_count": 624,
   "metadata": {},
   "outputs": [],
   "source": [
    "#drv.gpio_pin_set(*PIC_PINS['DPE_PULSE'])\n",
    "drv.gpio_pin_set(*PIC_PINS['AGC_PULSE'])"
   ]
  },
  {
   "cell_type": "code",
   "execution_count": 625,
   "metadata": {},
   "outputs": [],
   "source": [
    "dut.pads_defaults()"
   ]
  },
  {
   "cell_type": "code",
   "execution_count": 626,
   "metadata": {},
   "outputs": [
    {
     "name": "stdout",
     "output_type": "stream",
     "text": [
      "0110000000010\t0.507 V\n",
      "0110011000010\t1.164 V\n",
      "0110100100010\t1.492 V\n",
      "0110000000010\t0.507 V\n",
      "0110000000010\t0.507 V\n",
      "0110001000010\t0.726 V\n",
      "0110000000010\t0.507 V\n",
      "0110000000010\t0.507 V\n",
      "0110100110010\t1.547 V\n",
      "0110000000010\t0.507 V\n",
      "0110000100010\t0.616 V\n",
      "0110000000010\t0.507 V\n",
      "0110000100010\t0.616 V\n",
      "0110000000010\t0.507 V\n",
      "0110000000010\t0.507 V\n",
      "0110000000010\t0.507 V\n",
      "\n",
      "0110000000010\t0.507 V\n",
      "0110000000010\t0.507 V\n",
      "0110000000010\t0.507 V\n",
      "0110000000010\t0.507 V\n",
      "0110000000010\t0.507 V\n",
      "0110000000010\t0.507 V\n",
      "0110000000010\t0.507 V\n",
      "0110000000010\t0.507 V\n",
      "0110000100010\t0.616 V\n",
      "0110000000010\t0.507 V\n",
      "0110011100010\t1.273 V\n",
      "0110100010010\t1.437 V\n",
      "0110000000010\t0.507 V\n",
      "0110000000010\t0.507 V\n",
      "0110001100010\t0.835 V\n",
      "0110100000010\t1.383 V\n",
      "\n",
      "0110000000010\t0.507 V\n",
      "0110000000010\t0.507 V\n",
      "0110000000010\t0.507 V\n",
      "0110000000010\t0.507 V\n",
      "0110000000010\t0.507 V\n",
      "0110000000010\t0.507 V\n",
      "0110000000010\t0.507 V\n",
      "0110000000010\t0.507 V\n",
      "0110010000010\t0.945 V\n",
      "0110000000010\t0.507 V\n",
      "0110001100010\t0.835 V\n",
      "0110000000010\t0.507 V\n",
      "0110000000010\t0.507 V\n",
      "0110001000010\t0.726 V\n",
      "0110000000010\t0.507 V\n",
      "0110000000010\t0.507 V\n",
      "\n",
      "0110000000010\t0.507 V\n",
      "0110110001010\t1.848 V\n",
      "0110000000010\t0.507 V\n",
      "0110000000010\t0.507 V\n",
      "0110010100010\t1.054 V\n",
      "0110000000010\t0.507 V\n",
      "0110000000010\t0.507 V\n",
      "0110000000010\t0.507 V\n",
      "0110000000010\t0.507 V\n",
      "0110000000010\t0.507 V\n",
      "0110000000010\t0.507 V\n",
      "0110001100010\t0.835 V\n",
      "0110000000010\t0.507 V\n",
      "0110000000010\t0.507 V\n",
      "0110000000010\t0.507 V\n",
      "0110000000010\t0.507 V\n",
      "\n",
      "0110000000010\t0.507 V\n",
      "0110100100010\t1.492 V\n",
      "0110000000010\t0.507 V\n",
      "0110000000010\t0.507 V\n",
      "0110000000010\t0.507 V\n",
      "0110000000010\t0.507 V\n",
      "0110000000010\t0.507 V\n",
      "0110010100010\t1.054 V\n",
      "0110000000010\t0.507 V\n",
      "0110000000010\t0.507 V\n",
      "0110010000010\t0.945 V\n",
      "0110001000010\t0.726 V\n",
      "0110001000010\t0.726 V\n",
      "0110010000010\t0.945 V\n",
      "0110001000010\t0.726 V\n",
      "0110001100010\t0.835 V\n",
      "\n",
      "0110000000010\t0.507 V\n",
      "0110001001010\t0.753 V\n",
      "0110000000010\t0.507 V\n",
      "0110000000010\t0.507 V\n",
      "0110010100010\t1.054 V\n",
      "0110000000010\t0.507 V\n",
      "0110001000010\t0.726 V\n",
      "0110010000010\t0.945 V\n",
      "0110000000010\t0.507 V\n",
      "0110000000010\t0.507 V\n",
      "0110001100110\t0.849 V\n",
      "0110000000010\t0.507 V\n",
      "0110000000010\t0.507 V\n",
      "0110000000010\t0.507 V\n",
      "0110000000010\t0.507 V\n",
      "0110000000010\t0.507 V\n",
      "\n",
      "0110000000010\t0.507 V\n",
      "0110000000010\t0.507 V\n",
      "0110000000010\t0.507 V\n",
      "0110000000010\t0.507 V\n",
      "0110000000010\t0.507 V\n",
      "0110000000010\t0.507 V\n",
      "0110000000010\t0.507 V\n",
      "0110000000010\t0.507 V\n",
      "0110000000010\t0.507 V\n",
      "0110001100010\t0.835 V\n",
      "0110000000010\t0.507 V\n",
      "0110000000010\t0.507 V\n",
      "0110101000010\t1.602 V\n",
      "0110000000010\t0.507 V\n",
      "0110011000010\t1.164 V\n",
      "0110010100110\t1.068 V\n",
      "\n",
      "0110000000010\t0.507 V\n",
      "0110000000010\t0.507 V\n",
      "0110000000010\t0.507 V\n",
      "0110000000010\t0.507 V\n",
      "0110000000010\t0.507 V\n",
      "0110001000010\t0.726 V\n",
      "0110001000010\t0.726 V\n",
      "0110001000010\t0.726 V\n",
      "0110100100010\t1.492 V\n",
      "0110000000010\t0.507 V\n",
      "0110000000010\t0.507 V\n",
      "0110000000010\t0.507 V\n",
      "0110000000010\t0.507 V\n",
      "0110000000010\t0.507 V\n",
      "0110001000010\t0.726 V\n",
      "0110000000010\t0.507 V\n",
      "\n",
      "0110000000010\t0.507 V\n",
      "0110000000010\t0.507 V\n",
      "0110000000010\t0.507 V\n",
      "0110000000010\t0.507 V\n",
      "0110010000010\t0.945 V\n",
      "0110000000010\t0.507 V\n",
      "0110000000010\t0.507 V\n",
      "0110000000010\t0.507 V\n",
      "0110000000010\t0.507 V\n",
      "0110000000010\t0.507 V\n",
      "0110000000010\t0.507 V\n",
      "0110000000010\t0.507 V\n",
      "0110000000010\t0.507 V\n",
      "0110001000010\t0.726 V\n",
      "0110010000010\t0.945 V\n",
      "0110000000010\t0.507 V\n",
      "\n",
      "0110010000010\t0.945 V\n",
      "0110000000010\t0.507 V\n",
      "0110000000010\t0.507 V\n",
      "0110010100010\t1.054 V\n",
      "0110010000010\t0.945 V\n",
      "0110000000010\t0.507 V\n",
      "0110010100010\t1.054 V\n",
      "0110000000010\t0.507 V\n",
      "0110001000010\t0.726 V\n",
      "0110010000010\t0.945 V\n",
      "0110000000010\t0.507 V\n",
      "0110011000010\t1.164 V\n",
      "0110001100010\t0.835 V\n",
      "0110000000010\t0.507 V\n",
      "0110000000010\t0.507 V\n",
      "0110000000010\t0.507 V\n",
      "\n",
      "0110000000010\t0.507 V\n",
      "0110010000010\t0.945 V\n",
      "0110000000010\t0.507 V\n",
      "0110000000010\t0.507 V\n",
      "0110000000010\t0.507 V\n",
      "0110000000010\t0.507 V\n",
      "0110010000010\t0.945 V\n",
      "0110000000010\t0.507 V\n",
      "0110000000010\t0.507 V\n",
      "0110000000010\t0.507 V\n",
      "0110110110110\t1.999 V\n",
      "0110100000010\t1.383 V\n",
      "0110000000010\t0.507 V\n",
      "0110000100010\t0.616 V\n",
      "0110010100010\t1.054 V\n",
      "0110000000010\t0.507 V\n",
      "\n",
      "0110000000010\t0.507 V\n",
      "0110011100010\t1.273 V\n",
      "0110100100010\t1.492 V\n",
      "0110000000010\t0.507 V\n",
      "0110011000010\t1.164 V\n",
      "0110011001010\t1.191 V\n",
      "0110000000010\t0.507 V\n",
      "0110000000010\t0.507 V\n",
      "0110101010010\t1.656 V\n",
      "0110000000010\t0.507 V\n",
      "0110000000010\t0.507 V\n",
      "0110000000010\t0.507 V\n",
      "0110000000010\t0.507 V\n",
      "0110000000010\t0.507 V\n",
      "0110000000010\t0.507 V\n",
      "0110000000010\t0.507 V\n",
      "\n"
     ]
    }
   ],
   "source": [
    "drv.gpio_pin_reset(*PIC_PINS['ADC_FIFO_EN<0>'])\n",
    "drv.gpio_pin_reset(*PIC_PINS['ADC_FIFO_EN<1>'])\n",
    "drv.gpio_pin_reset(*PIC_PINS['ADC_FIFO_EN<2>'])\n",
    "drv.gpio_pin_reset(*PIC_PINS['ADC_FIFO_EN<3>'])\n",
    "\n",
    "data = drv.gpio_adc_read()\n",
    "print(f'{data:013b}', end='\\t')\n",
    "print( f'{adc2volt(data):.3f} V' )\n",
    "\n",
    "StrobeNum = 15\n",
    "for strobe in range(StrobeNum):\n",
    "    drv.gpio_pin_set(*PIC_PINS['ADC_FIFO_ADVANCE'])\n",
    "    drv.gpio_pin_reset(*PIC_PINS['ADC_FIFO_ADVANCE'])\n",
    "    data = drv.gpio_adc_read()\n",
    "    print(f'{data:013b}', end='\\t')\n",
    "    #print(strobe)\n",
    "    print( f'{adc2volt(data):.3f} V' )\n",
    "print()\n",
    "\n",
    "drv.gpio_pin_set(*PIC_PINS['ADC_FIFO_EN<0>'])\n",
    "drv.gpio_pin_reset(*PIC_PINS['ADC_FIFO_EN<1>'])\n",
    "drv.gpio_pin_reset(*PIC_PINS['ADC_FIFO_EN<2>'])\n",
    "drv.gpio_pin_reset(*PIC_PINS['ADC_FIFO_EN<3>'])\n",
    "\n",
    "data = drv.gpio_adc_read()\n",
    "print(f'{data:013b}', end='\\t')\n",
    "print( f'{adc2volt(data):.3f} V' )\n",
    "\n",
    "StrobeNum = 15\n",
    "for strobe in range(StrobeNum):\n",
    "    drv.gpio_pin_set(*PIC_PINS['ADC_FIFO_ADVANCE'])\n",
    "    drv.gpio_pin_reset(*PIC_PINS['ADC_FIFO_ADVANCE'])\n",
    "    data = drv.gpio_adc_read()\n",
    "    print(f'{data:013b}', end='\\t')\n",
    "    #print(strobe)\n",
    "    print( f'{adc2volt(data):.3f} V' )\n",
    "print()\n",
    "\n",
    "drv.gpio_pin_reset(*PIC_PINS['ADC_FIFO_EN<0>'])\n",
    "drv.gpio_pin_set(*PIC_PINS['ADC_FIFO_EN<1>'])\n",
    "drv.gpio_pin_reset(*PIC_PINS['ADC_FIFO_EN<2>'])\n",
    "drv.gpio_pin_reset(*PIC_PINS['ADC_FIFO_EN<3>'])\n",
    "\n",
    "data = drv.gpio_adc_read()\n",
    "print(f'{data:013b}', end='\\t')\n",
    "print( f'{adc2volt(data):.3f} V' )\n",
    "\n",
    "StrobeNum = 15\n",
    "for strobe in range(StrobeNum):\n",
    "    drv.gpio_pin_set(*PIC_PINS['ADC_FIFO_ADVANCE'])\n",
    "    drv.gpio_pin_reset(*PIC_PINS['ADC_FIFO_ADVANCE'])\n",
    "    data = drv.gpio_adc_read()\n",
    "    print(f'{data:013b}', end='\\t')\n",
    "    #print(strobe)\n",
    "    print( f'{adc2volt(data):.3f} V' )\n",
    "print()\n",
    "\n",
    "drv.gpio_pin_set(*PIC_PINS['ADC_FIFO_EN<0>'])\n",
    "drv.gpio_pin_set(*PIC_PINS['ADC_FIFO_EN<1>'])\n",
    "drv.gpio_pin_reset(*PIC_PINS['ADC_FIFO_EN<2>'])\n",
    "drv.gpio_pin_reset(*PIC_PINS['ADC_FIFO_EN<3>'])\n",
    "\n",
    "data = drv.gpio_adc_read()\n",
    "print(f'{data:013b}', end='\\t')\n",
    "print( f'{adc2volt(data):.3f} V' )\n",
    "\n",
    "StrobeNum = 15\n",
    "for strobe in range(StrobeNum):\n",
    "    drv.gpio_pin_set(*PIC_PINS['ADC_FIFO_ADVANCE'])\n",
    "    drv.gpio_pin_reset(*PIC_PINS['ADC_FIFO_ADVANCE'])\n",
    "    data = drv.gpio_adc_read()\n",
    "    print(f'{data:013b}', end='\\t')\n",
    "    #print(strobe)\n",
    "    print( f'{adc2volt(data):.3f} V' )\n",
    "print()\n",
    "\n",
    "drv.gpio_pin_reset(*PIC_PINS['ADC_FIFO_EN<0>'])\n",
    "drv.gpio_pin_reset(*PIC_PINS['ADC_FIFO_EN<1>'])\n",
    "drv.gpio_pin_set(*PIC_PINS['ADC_FIFO_EN<2>'])\n",
    "drv.gpio_pin_reset(*PIC_PINS['ADC_FIFO_EN<3>'])\n",
    "\n",
    "data = drv.gpio_adc_read()\n",
    "print(f'{data:013b}', end='\\t')\n",
    "print( f'{adc2volt(data):.3f} V' )\n",
    "\n",
    "StrobeNum = 15\n",
    "for strobe in range(StrobeNum):\n",
    "    drv.gpio_pin_set(*PIC_PINS['ADC_FIFO_ADVANCE'])\n",
    "    drv.gpio_pin_reset(*PIC_PINS['ADC_FIFO_ADVANCE'])\n",
    "    data = drv.gpio_adc_read()\n",
    "    print(f'{data:013b}', end='\\t')\n",
    "    #print(strobe)\n",
    "    print( f'{adc2volt(data):.3f} V' )\n",
    "print()\n",
    "\n",
    "drv.gpio_pin_set(*PIC_PINS['ADC_FIFO_EN<0>'])\n",
    "drv.gpio_pin_reset(*PIC_PINS['ADC_FIFO_EN<1>'])\n",
    "drv.gpio_pin_set(*PIC_PINS['ADC_FIFO_EN<2>'])\n",
    "drv.gpio_pin_reset(*PIC_PINS['ADC_FIFO_EN<3>'])\n",
    "\n",
    "data = drv.gpio_adc_read()\n",
    "print(f'{data:013b}', end='\\t')\n",
    "print( f'{adc2volt(data):.3f} V' )\n",
    "\n",
    "StrobeNum = 15\n",
    "for strobe in range(StrobeNum):\n",
    "    drv.gpio_pin_set(*PIC_PINS['ADC_FIFO_ADVANCE'])\n",
    "    drv.gpio_pin_reset(*PIC_PINS['ADC_FIFO_ADVANCE'])\n",
    "    data = drv.gpio_adc_read()\n",
    "    print(f'{data:013b}', end='\\t')\n",
    "    #print(strobe)\n",
    "    print( f'{adc2volt(data):.3f} V' )\n",
    "print()\n",
    "\n",
    "drv.gpio_pin_reset(*PIC_PINS['ADC_FIFO_EN<0>'])\n",
    "drv.gpio_pin_set(*PIC_PINS['ADC_FIFO_EN<1>'])\n",
    "drv.gpio_pin_set(*PIC_PINS['ADC_FIFO_EN<2>'])\n",
    "drv.gpio_pin_reset(*PIC_PINS['ADC_FIFO_EN<3>'])\n",
    "\n",
    "data = drv.gpio_adc_read()\n",
    "print(f'{data:013b}', end='\\t')\n",
    "print( f'{adc2volt(data):.3f} V' )\n",
    "\n",
    "StrobeNum = 15\n",
    "for strobe in range(StrobeNum):\n",
    "    drv.gpio_pin_set(*PIC_PINS['ADC_FIFO_ADVANCE'])\n",
    "    drv.gpio_pin_reset(*PIC_PINS['ADC_FIFO_ADVANCE'])\n",
    "    data = drv.gpio_adc_read()\n",
    "    print(f'{data:013b}', end='\\t')\n",
    "    #print(strobe)\n",
    "    print( f'{adc2volt(data):.3f} V' )\n",
    "print()\n",
    "\n",
    "drv.gpio_pin_set(*PIC_PINS['ADC_FIFO_EN<0>'])\n",
    "drv.gpio_pin_set(*PIC_PINS['ADC_FIFO_EN<1>'])\n",
    "drv.gpio_pin_set(*PIC_PINS['ADC_FIFO_EN<2>'])\n",
    "drv.gpio_pin_reset(*PIC_PINS['ADC_FIFO_EN<3>'])\n",
    "\n",
    "data = drv.gpio_adc_read()\n",
    "print(f'{data:013b}', end='\\t')\n",
    "print( f'{adc2volt(data):.3f} V' )\n",
    "\n",
    "StrobeNum = 15\n",
    "for strobe in range(StrobeNum):\n",
    "    drv.gpio_pin_set(*PIC_PINS['ADC_FIFO_ADVANCE'])\n",
    "    drv.gpio_pin_reset(*PIC_PINS['ADC_FIFO_ADVANCE'])\n",
    "    data = drv.gpio_adc_read()\n",
    "    print(f'{data:013b}', end='\\t')\n",
    "    #print(strobe)\n",
    "    print( f'{adc2volt(data):.3f} V' )\n",
    "print()\n",
    "\n",
    "drv.gpio_pin_reset(*PIC_PINS['ADC_FIFO_EN<0>'])\n",
    "drv.gpio_pin_reset(*PIC_PINS['ADC_FIFO_EN<1>'])\n",
    "drv.gpio_pin_reset(*PIC_PINS['ADC_FIFO_EN<2>'])\n",
    "drv.gpio_pin_set(*PIC_PINS['ADC_FIFO_EN<3>'])\n",
    "\n",
    "data = drv.gpio_adc_read()\n",
    "print(f'{data:013b}', end='\\t')\n",
    "print( f'{adc2volt(data):.3f} V' )\n",
    "\n",
    "StrobeNum = 15\n",
    "for strobe in range(StrobeNum):\n",
    "    drv.gpio_pin_set(*PIC_PINS['ADC_FIFO_ADVANCE'])\n",
    "    drv.gpio_pin_reset(*PIC_PINS['ADC_FIFO_ADVANCE'])\n",
    "    data = drv.gpio_adc_read()\n",
    "    print(f'{data:013b}', end='\\t')\n",
    "    #print(strobe)\n",
    "    print( f'{adc2volt(data):.3f} V' )\n",
    "print()\n",
    "\n",
    "drv.gpio_pin_set(*PIC_PINS['ADC_FIFO_EN<0>'])\n",
    "drv.gpio_pin_reset(*PIC_PINS['ADC_FIFO_EN<1>'])\n",
    "drv.gpio_pin_reset(*PIC_PINS['ADC_FIFO_EN<2>'])\n",
    "drv.gpio_pin_set(*PIC_PINS['ADC_FIFO_EN<3>'])\n",
    "\n",
    "data = drv.gpio_adc_read()\n",
    "print(f'{data:013b}', end='\\t')\n",
    "print( f'{adc2volt(data):.3f} V' )\n",
    "\n",
    "StrobeNum = 15\n",
    "for strobe in range(StrobeNum):\n",
    "    drv.gpio_pin_set(*PIC_PINS['ADC_FIFO_ADVANCE'])\n",
    "    drv.gpio_pin_reset(*PIC_PINS['ADC_FIFO_ADVANCE'])\n",
    "    data = drv.gpio_adc_read()\n",
    "    print(f'{data:013b}', end='\\t')\n",
    "    #print(strobe)\n",
    "    print( f'{adc2volt(data):.3f} V' )\n",
    "print()\n",
    "\n",
    "drv.gpio_pin_reset(*PIC_PINS['ADC_FIFO_EN<0>'])\n",
    "drv.gpio_pin_set(*PIC_PINS['ADC_FIFO_EN<1>'])\n",
    "drv.gpio_pin_reset(*PIC_PINS['ADC_FIFO_EN<2>'])\n",
    "drv.gpio_pin_set(*PIC_PINS['ADC_FIFO_EN<3>'])\n",
    "\n",
    "data = drv.gpio_adc_read()\n",
    "print(f'{data:013b}', end='\\t')\n",
    "print( f'{adc2volt(data):.3f} V' )\n",
    "\n",
    "StrobeNum = 15\n",
    "for strobe in range(StrobeNum):\n",
    "    drv.gpio_pin_set(*PIC_PINS['ADC_FIFO_ADVANCE'])\n",
    "    drv.gpio_pin_reset(*PIC_PINS['ADC_FIFO_ADVANCE'])\n",
    "    data = drv.gpio_adc_read()\n",
    "    print(f'{data:013b}', end='\\t')\n",
    "    #print(strobe)\n",
    "    print( f'{adc2volt(data):.3f} V' )\n",
    "print()\n",
    "\n",
    "drv.gpio_pin_set(*PIC_PINS['ADC_FIFO_EN<0>'])\n",
    "drv.gpio_pin_set(*PIC_PINS['ADC_FIFO_EN<1>'])\n",
    "drv.gpio_pin_reset(*PIC_PINS['ADC_FIFO_EN<2>'])\n",
    "drv.gpio_pin_set(*PIC_PINS['ADC_FIFO_EN<3>'])\n",
    "\n",
    "data = drv.gpio_adc_read()\n",
    "print(f'{data:013b}', end='\\t')\n",
    "print( f'{adc2volt(data):.3f} V' )\n",
    "\n",
    "StrobeNum = 15\n",
    "for strobe in range(StrobeNum):\n",
    "    drv.gpio_pin_set(*PIC_PINS['ADC_FIFO_ADVANCE'])\n",
    "    drv.gpio_pin_reset(*PIC_PINS['ADC_FIFO_ADVANCE'])\n",
    "    data = drv.gpio_adc_read()\n",
    "    print(f'{data:013b}', end='\\t')\n",
    "    #print(strobe)\n",
    "    print( f'{adc2volt(data):.3f} V' )\n",
    "print()"
   ]
  },
  {
   "cell_type": "code",
   "execution_count": 551,
   "metadata": {},
   "outputs": [
    {
     "name": "stdout",
     "output_type": "stream",
     "text": [
      "0110000000010\t0.507 V\n",
      "0110011101010\t1.301 V\n",
      "0110100001010\t1.410 V\n",
      "0110000000010\t0.507 V\n",
      "0110000000010\t0.507 V\n",
      "0110001000010\t0.726 V\n",
      "0110000000010\t0.507 V\n",
      "0110000000010\t0.507 V\n",
      "0110100001010\t1.410 V\n",
      "0110000000010\t0.507 V\n",
      "0110000100010\t0.616 V\n",
      "0110000000010\t0.507 V\n",
      "0110000100010\t0.616 V\n",
      "0110000000010\t0.507 V\n",
      "0110000000010\t0.507 V\n",
      "0110000000010\t0.507 V\n"
     ]
    }
   ],
   "source": [
    "drv.gpio_pin_reset(*PIC_PINS['ADC_FIFO_EN<0>'])\n",
    "drv.gpio_pin_reset(*PIC_PINS['ADC_FIFO_EN<1>'])\n",
    "drv.gpio_pin_reset(*PIC_PINS['ADC_FIFO_EN<2>'])\n",
    "drv.gpio_pin_reset(*PIC_PINS['ADC_FIFO_EN<3>'])\n",
    "\n",
    "data = drv.gpio_adc_read()\n",
    "print(f'{data:013b}', end='\\t')\n",
    "print( f'{adc2volt(data):.3f} V' )\n",
    "\n",
    "StrobeNum = 15\n",
    "for strobe in range(StrobeNum):\n",
    "    drv.gpio_pin_set(*PIC_PINS['ADC_FIFO_ADVANCE'])\n",
    "    drv.gpio_pin_reset(*PIC_PINS['ADC_FIFO_ADVANCE'])\n",
    "    data = drv.gpio_adc_read()\n",
    "    print(f'{data:013b}', end='\\t')\n",
    "    #print(strobe)\n",
    "    print( f'{adc2volt(data):.3f} V' )"
   ]
  },
  {
   "cell_type": "code",
   "execution_count": 552,
   "metadata": {},
   "outputs": [
    {
     "name": "stdout",
     "output_type": "stream",
     "text": [
      "0110000000010\t0.507 V\n",
      "0110000000010\t0.507 V\n",
      "0110000000010\t0.507 V\n",
      "0110000000010\t0.507 V\n",
      "0110000000010\t0.507 V\n",
      "0110000000010\t0.507 V\n",
      "0110000000010\t0.507 V\n",
      "0110000000010\t0.507 V\n",
      "0110000100010\t0.616 V\n",
      "0110000000010\t0.507 V\n",
      "0110100100010\t1.492 V\n",
      "0110001100010\t0.835 V\n",
      "0110000000010\t0.507 V\n",
      "0110000000010\t0.507 V\n",
      "0110001000010\t0.726 V\n",
      "0110011100110\t1.287 V\n"
     ]
    }
   ],
   "source": [
    "drv.gpio_pin_set(*PIC_PINS['ADC_FIFO_EN<0>'])\n",
    "drv.gpio_pin_reset(*PIC_PINS['ADC_FIFO_EN<1>'])\n",
    "drv.gpio_pin_reset(*PIC_PINS['ADC_FIFO_EN<2>'])\n",
    "drv.gpio_pin_reset(*PIC_PINS['ADC_FIFO_EN<3>'])\n",
    "\n",
    "data = drv.gpio_adc_read()\n",
    "print(f'{data:013b}', end='\\t')\n",
    "print( f'{adc2volt(data):.3f} V' )\n",
    "\n",
    "StrobeNum = 15\n",
    "for strobe in range(StrobeNum):\n",
    "    drv.gpio_pin_set(*PIC_PINS['ADC_FIFO_ADVANCE'])\n",
    "    drv.gpio_pin_reset(*PIC_PINS['ADC_FIFO_ADVANCE'])\n",
    "    data = drv.gpio_adc_read()\n",
    "    print(f'{data:013b}', end='\\t')\n",
    "    #print(strobe)\n",
    "    print( f'{adc2volt(data):.3f} V' )"
   ]
  },
  {
   "cell_type": "code",
   "execution_count": 553,
   "metadata": {},
   "outputs": [
    {
     "name": "stdout",
     "output_type": "stream",
     "text": [
      "0110000000010\t0.507 V\n",
      "0110000000010\t0.507 V\n",
      "0110000000010\t0.507 V\n",
      "0110000000010\t0.507 V\n",
      "0110001000010\t0.726 V\n",
      "0110000000010\t0.507 V\n",
      "0110000000010\t0.507 V\n",
      "0110000000010\t0.507 V\n",
      "0110010000010\t0.945 V\n",
      "0110000000010\t0.507 V\n",
      "0110001000010\t0.726 V\n",
      "0110000000010\t0.507 V\n",
      "0110000000010\t0.507 V\n",
      "0110001000010\t0.726 V\n",
      "0110000000010\t0.507 V\n",
      "0110000000010\t0.507 V\n"
     ]
    }
   ],
   "source": [
    "drv.gpio_pin_reset(*PIC_PINS['ADC_FIFO_EN<0>'])\n",
    "drv.gpio_pin_set(*PIC_PINS['ADC_FIFO_EN<1>'])\n",
    "drv.gpio_pin_reset(*PIC_PINS['ADC_FIFO_EN<2>'])\n",
    "drv.gpio_pin_reset(*PIC_PINS['ADC_FIFO_EN<3>'])\n",
    "\n",
    "data = drv.gpio_adc_read()\n",
    "print(f'{data:013b}', end='\\t')\n",
    "print( f'{adc2volt(data):.3f} V' )\n",
    "\n",
    "StrobeNum = 15\n",
    "for strobe in range(StrobeNum):\n",
    "    drv.gpio_pin_set(*PIC_PINS['ADC_FIFO_ADVANCE'])\n",
    "    drv.gpio_pin_reset(*PIC_PINS['ADC_FIFO_ADVANCE'])\n",
    "    data = drv.gpio_adc_read()\n",
    "    print(f'{data:013b}', end='\\t')\n",
    "    #print(strobe)\n",
    "    print( f'{adc2volt(data):.3f} V' )"
   ]
  },
  {
   "cell_type": "code",
   "execution_count": 554,
   "metadata": {},
   "outputs": [
    {
     "name": "stdout",
     "output_type": "stream",
     "text": [
      "0110000000010\t0.507 V\n",
      "0110001000010\t0.726 V\n",
      "0110000000010\t0.507 V\n",
      "0110000000010\t0.507 V\n",
      "0110010000010\t0.945 V\n",
      "0110000000010\t0.507 V\n",
      "0110000000010\t0.507 V\n",
      "0110000000010\t0.507 V\n",
      "0110000000010\t0.507 V\n",
      "0110000000010\t0.507 V\n",
      "0110000000010\t0.507 V\n",
      "0110001000010\t0.726 V\n",
      "0110000000010\t0.507 V\n",
      "0110000000010\t0.507 V\n",
      "0110000000010\t0.507 V\n",
      "0110000000010\t0.507 V\n"
     ]
    }
   ],
   "source": [
    "drv.gpio_pin_set(*PIC_PINS['ADC_FIFO_EN<0>'])\n",
    "drv.gpio_pin_set(*PIC_PINS['ADC_FIFO_EN<1>'])\n",
    "drv.gpio_pin_reset(*PIC_PINS['ADC_FIFO_EN<2>'])\n",
    "drv.gpio_pin_reset(*PIC_PINS['ADC_FIFO_EN<3>'])\n",
    "\n",
    "data = drv.gpio_adc_read()\n",
    "print(f'{data:013b}', end='\\t')\n",
    "print( f'{adc2volt(data):.3f} V' )\n",
    "\n",
    "StrobeNum = 15\n",
    "for strobe in range(StrobeNum):\n",
    "    drv.gpio_pin_set(*PIC_PINS['ADC_FIFO_ADVANCE'])\n",
    "    drv.gpio_pin_reset(*PIC_PINS['ADC_FIFO_ADVANCE'])\n",
    "    data = drv.gpio_adc_read()\n",
    "    print(f'{data:013b}', end='\\t')\n",
    "    #print(strobe)\n",
    "    print( f'{adc2volt(data):.3f} V' )"
   ]
  },
  {
   "cell_type": "code",
   "execution_count": 555,
   "metadata": {},
   "outputs": [
    {
     "name": "stdout",
     "output_type": "stream",
     "text": [
      "0110000000010\t0.507 V\n",
      "0110100000010\t1.383 V\n",
      "0110000000010\t0.507 V\n",
      "0110000000010\t0.507 V\n",
      "0110000000010\t0.507 V\n",
      "0110000000010\t0.507 V\n",
      "0110000000010\t0.507 V\n",
      "0110010000010\t0.945 V\n",
      "0110000000010\t0.507 V\n",
      "0110000000010\t0.507 V\n",
      "0110001100010\t0.835 V\n",
      "0110010000010\t0.945 V\n",
      "0110000100010\t0.616 V\n",
      "0110010000010\t0.945 V\n",
      "0110001100010\t0.835 V\n",
      "0110001000010\t0.726 V\n"
     ]
    }
   ],
   "source": [
    "drv.gpio_pin_reset(*PIC_PINS['ADC_FIFO_EN<0>'])\n",
    "drv.gpio_pin_reset(*PIC_PINS['ADC_FIFO_EN<1>'])\n",
    "drv.gpio_pin_set(*PIC_PINS['ADC_FIFO_EN<2>'])\n",
    "drv.gpio_pin_reset(*PIC_PINS['ADC_FIFO_EN<3>'])\n",
    "\n",
    "data = drv.gpio_adc_read()\n",
    "print(f'{data:013b}', end='\\t')\n",
    "print( f'{adc2volt(data):.3f} V' )\n",
    "\n",
    "StrobeNum = 15\n",
    "for strobe in range(StrobeNum):\n",
    "    drv.gpio_pin_set(*PIC_PINS['ADC_FIFO_ADVANCE'])\n",
    "    drv.gpio_pin_reset(*PIC_PINS['ADC_FIFO_ADVANCE'])\n",
    "    data = drv.gpio_adc_read()\n",
    "    print(f'{data:013b}', end='\\t')\n",
    "    #print(strobe)\n",
    "    print( f'{adc2volt(data):.3f} V' )"
   ]
  },
  {
   "cell_type": "code",
   "execution_count": 556,
   "metadata": {},
   "outputs": [
    {
     "name": "stdout",
     "output_type": "stream",
     "text": [
      "0110000000010\t0.507 V\n",
      "0110001000010\t0.726 V\n",
      "0110000000010\t0.507 V\n",
      "0110000000010\t0.507 V\n",
      "0110010000010\t0.945 V\n",
      "0110000000010\t0.507 V\n",
      "0110000100010\t0.616 V\n",
      "0110001100110\t0.849 V\n",
      "0110000000010\t0.507 V\n",
      "0110000000010\t0.507 V\n",
      "0110001100010\t0.835 V\n",
      "0110000000010\t0.507 V\n",
      "0110000000010\t0.507 V\n",
      "0110000000010\t0.507 V\n",
      "0110000000010\t0.507 V\n",
      "0110000000010\t0.507 V\n"
     ]
    }
   ],
   "source": [
    "drv.gpio_pin_set(*PIC_PINS['ADC_FIFO_EN<0>'])\n",
    "drv.gpio_pin_reset(*PIC_PINS['ADC_FIFO_EN<1>'])\n",
    "drv.gpio_pin_set(*PIC_PINS['ADC_FIFO_EN<2>'])\n",
    "drv.gpio_pin_reset(*PIC_PINS['ADC_FIFO_EN<3>'])\n",
    "\n",
    "data = drv.gpio_adc_read()\n",
    "print(f'{data:013b}', end='\\t')\n",
    "print( f'{adc2volt(data):.3f} V' )\n",
    "\n",
    "StrobeNum = 15\n",
    "for strobe in range(StrobeNum):\n",
    "    drv.gpio_pin_set(*PIC_PINS['ADC_FIFO_ADVANCE'])\n",
    "    drv.gpio_pin_reset(*PIC_PINS['ADC_FIFO_ADVANCE'])\n",
    "    data = drv.gpio_adc_read()\n",
    "    print(f'{data:013b}', end='\\t')\n",
    "    #print(strobe)\n",
    "    print( f'{adc2volt(data):.3f} V' )"
   ]
  },
  {
   "cell_type": "code",
   "execution_count": 557,
   "metadata": {},
   "outputs": [
    {
     "name": "stdout",
     "output_type": "stream",
     "text": [
      "0110000000010\t0.507 V\n",
      "0110000000010\t0.507 V\n",
      "0110000000010\t0.507 V\n",
      "0110000100010\t0.616 V\n",
      "0110000000010\t0.507 V\n",
      "0110000000010\t0.507 V\n",
      "0110000000010\t0.507 V\n",
      "0110000000010\t0.507 V\n",
      "0110000000010\t0.507 V\n",
      "0110001100010\t0.835 V\n",
      "0110000000010\t0.507 V\n",
      "0110000000010\t0.507 V\n",
      "0110100000010\t1.383 V\n",
      "0110000000010\t0.507 V\n",
      "0110010100010\t1.054 V\n",
      "0110010100010\t1.054 V\n"
     ]
    }
   ],
   "source": [
    "drv.gpio_pin_reset(*PIC_PINS['ADC_FIFO_EN<0>'])\n",
    "drv.gpio_pin_set(*PIC_PINS['ADC_FIFO_EN<1>'])\n",
    "drv.gpio_pin_set(*PIC_PINS['ADC_FIFO_EN<2>'])\n",
    "drv.gpio_pin_reset(*PIC_PINS['ADC_FIFO_EN<3>'])\n",
    "\n",
    "data = drv.gpio_adc_read()\n",
    "print(f'{data:013b}', end='\\t')\n",
    "print( f'{adc2volt(data):.3f} V' )\n",
    "\n",
    "StrobeNum = 15\n",
    "for strobe in range(StrobeNum):\n",
    "    drv.gpio_pin_set(*PIC_PINS['ADC_FIFO_ADVANCE'])\n",
    "    drv.gpio_pin_reset(*PIC_PINS['ADC_FIFO_ADVANCE'])\n",
    "    data = drv.gpio_adc_read()\n",
    "    print(f'{data:013b}', end='\\t')\n",
    "    #print(strobe)\n",
    "    print( f'{adc2volt(data):.3f} V' )"
   ]
  },
  {
   "cell_type": "code",
   "execution_count": 558,
   "metadata": {},
   "outputs": [
    {
     "name": "stdout",
     "output_type": "stream",
     "text": [
      "0110000000010\t0.507 V\n",
      "0110000000010\t0.507 V\n",
      "0110000000010\t0.507 V\n",
      "0110000000010\t0.507 V\n",
      "0110000000010\t0.507 V\n",
      "0110101010010\t1.656 V\n",
      "0110001000010\t0.726 V\n",
      "0110001000010\t0.726 V\n",
      "0110011100010\t1.273 V\n",
      "0110000000010\t0.507 V\n",
      "0110000000010\t0.507 V\n",
      "0110000000010\t0.507 V\n",
      "0110000000010\t0.507 V\n",
      "0110000000010\t0.507 V\n",
      "0110000000010\t0.507 V\n",
      "0110000000010\t0.507 V\n"
     ]
    }
   ],
   "source": [
    "drv.gpio_pin_set(*PIC_PINS['ADC_FIFO_EN<0>'])\n",
    "drv.gpio_pin_set(*PIC_PINS['ADC_FIFO_EN<1>'])\n",
    "drv.gpio_pin_set(*PIC_PINS['ADC_FIFO_EN<2>'])\n",
    "drv.gpio_pin_reset(*PIC_PINS['ADC_FIFO_EN<3>'])\n",
    "\n",
    "data = drv.gpio_adc_read()\n",
    "print(f'{data:013b}', end='\\t')\n",
    "print( f'{adc2volt(data):.3f} V' )\n",
    "\n",
    "StrobeNum = 15\n",
    "for strobe in range(StrobeNum):\n",
    "    drv.gpio_pin_set(*PIC_PINS['ADC_FIFO_ADVANCE'])\n",
    "    drv.gpio_pin_reset(*PIC_PINS['ADC_FIFO_ADVANCE'])\n",
    "    data = drv.gpio_adc_read()\n",
    "    print(f'{data:013b}', end='\\t')\n",
    "    #print(strobe)\n",
    "    print( f'{adc2volt(data):.3f} V' )"
   ]
  },
  {
   "cell_type": "code",
   "execution_count": 559,
   "metadata": {},
   "outputs": [
    {
     "name": "stdout",
     "output_type": "stream",
     "text": [
      "0110000000010\t0.507 V\n",
      "0110000000010\t0.507 V\n",
      "0110000000010\t0.507 V\n",
      "0110000000010\t0.507 V\n",
      "0110010000010\t0.945 V\n",
      "0110000000010\t0.507 V\n",
      "0110000000010\t0.507 V\n",
      "0110000000010\t0.507 V\n",
      "0110000000010\t0.507 V\n",
      "0110000000010\t0.507 V\n",
      "0110000000010\t0.507 V\n",
      "0110000000010\t0.507 V\n",
      "0110000000010\t0.507 V\n",
      "0110001000010\t0.726 V\n",
      "0110010000010\t0.945 V\n",
      "0110101000010\t1.602 V\n"
     ]
    }
   ],
   "source": [
    "drv.gpio_pin_reset(*PIC_PINS['ADC_FIFO_EN<0>'])\n",
    "drv.gpio_pin_reset(*PIC_PINS['ADC_FIFO_EN<1>'])\n",
    "drv.gpio_pin_reset(*PIC_PINS['ADC_FIFO_EN<2>'])\n",
    "drv.gpio_pin_set(*PIC_PINS['ADC_FIFO_EN<3>'])\n",
    "\n",
    "data = drv.gpio_adc_read()\n",
    "print(f'{data:013b}', end='\\t')\n",
    "print( f'{adc2volt(data):.3f} V' )\n",
    "\n",
    "StrobeNum = 15\n",
    "for strobe in range(StrobeNum):\n",
    "    drv.gpio_pin_set(*PIC_PINS['ADC_FIFO_ADVANCE'])\n",
    "    drv.gpio_pin_reset(*PIC_PINS['ADC_FIFO_ADVANCE'])\n",
    "    data = drv.gpio_adc_read()\n",
    "    print(f'{data:013b}', end='\\t')\n",
    "    #print(strobe)\n",
    "    print( f'{adc2volt(data):.3f} V' )"
   ]
  },
  {
   "cell_type": "code",
   "execution_count": 560,
   "metadata": {},
   "outputs": [
    {
     "name": "stdout",
     "output_type": "stream",
     "text": [
      "0110001100010\t0.835 V\n",
      "0110000000010\t0.507 V\n",
      "0110000000010\t0.507 V\n",
      "0110010100010\t1.054 V\n",
      "0110001100010\t0.835 V\n",
      "0110000000010\t0.507 V\n",
      "0110010100010\t1.054 V\n",
      "0110000000010\t0.507 V\n",
      "0110001000010\t0.726 V\n",
      "0110001100010\t0.835 V\n",
      "0110000000010\t0.507 V\n",
      "0110100000010\t1.383 V\n",
      "0110001000010\t0.726 V\n",
      "0110000000010\t0.507 V\n",
      "0110000000010\t0.507 V\n",
      "0110000000010\t0.507 V\n"
     ]
    }
   ],
   "source": [
    "drv.gpio_pin_set(*PIC_PINS['ADC_FIFO_EN<0>'])\n",
    "drv.gpio_pin_reset(*PIC_PINS['ADC_FIFO_EN<1>'])\n",
    "drv.gpio_pin_reset(*PIC_PINS['ADC_FIFO_EN<2>'])\n",
    "drv.gpio_pin_set(*PIC_PINS['ADC_FIFO_EN<3>'])\n",
    "\n",
    "data = drv.gpio_adc_read()\n",
    "print(f'{data:013b}', end='\\t')\n",
    "print( f'{adc2volt(data):.3f} V' )\n",
    "\n",
    "StrobeNum = 15\n",
    "for strobe in range(StrobeNum):\n",
    "    drv.gpio_pin_set(*PIC_PINS['ADC_FIFO_ADVANCE'])\n",
    "    drv.gpio_pin_reset(*PIC_PINS['ADC_FIFO_ADVANCE'])\n",
    "    data = drv.gpio_adc_read()\n",
    "    print(f'{data:013b}', end='\\t')\n",
    "    #print(strobe)\n",
    "    print( f'{adc2volt(data):.3f} V' )"
   ]
  },
  {
   "cell_type": "code",
   "execution_count": 561,
   "metadata": {},
   "outputs": [
    {
     "name": "stdout",
     "output_type": "stream",
     "text": [
      "0110000000010\t0.507 V\n",
      "0110010000010\t0.945 V\n",
      "0110000000010\t0.507 V\n",
      "0110000000010\t0.507 V\n",
      "0110000000010\t0.507 V\n",
      "0110000000010\t0.507 V\n",
      "0110011100010\t1.273 V\n",
      "0110000000010\t0.507 V\n",
      "0110000000010\t0.507 V\n",
      "0110000000010\t0.507 V\n",
      "0111000011010\t2.341 V\n",
      "0110011100010\t1.273 V\n",
      "0110000000010\t0.507 V\n",
      "0110000100010\t0.616 V\n",
      "0110010000010\t0.945 V\n",
      "0110000000010\t0.507 V\n"
     ]
    }
   ],
   "source": [
    "drv.gpio_pin_reset(*PIC_PINS['ADC_FIFO_EN<0>'])\n",
    "drv.gpio_pin_set(*PIC_PINS['ADC_FIFO_EN<1>'])\n",
    "drv.gpio_pin_reset(*PIC_PINS['ADC_FIFO_EN<2>'])\n",
    "drv.gpio_pin_set(*PIC_PINS['ADC_FIFO_EN<3>'])\n",
    "\n",
    "data = drv.gpio_adc_read()\n",
    "print(f'{data:013b}', end='\\t')\n",
    "print( f'{adc2volt(data):.3f} V' )\n",
    "\n",
    "StrobeNum = 15\n",
    "for strobe in range(StrobeNum):\n",
    "    drv.gpio_pin_set(*PIC_PINS['ADC_FIFO_ADVANCE'])\n",
    "    drv.gpio_pin_reset(*PIC_PINS['ADC_FIFO_ADVANCE'])\n",
    "    data = drv.gpio_adc_read()\n",
    "    print(f'{data:013b}', end='\\t')\n",
    "    #print(strobe)\n",
    "    print( f'{adc2volt(data):.3f} V' )"
   ]
  },
  {
   "cell_type": "code",
   "execution_count": 562,
   "metadata": {},
   "outputs": [
    {
     "name": "stdout",
     "output_type": "stream",
     "text": [
      "0110000000010\t0.507 V\n",
      "0110011100010\t1.273 V\n",
      "0110011000010\t1.164 V\n",
      "0110000000010\t0.507 V\n",
      "0110010100010\t1.054 V\n",
      "0110011100010\t1.273 V\n",
      "0110000000010\t0.507 V\n",
      "0110000000010\t0.507 V\n",
      "0110011101010\t1.301 V\n",
      "0110000000010\t0.507 V\n",
      "0110000000010\t0.507 V\n",
      "0110000000010\t0.507 V\n",
      "0110000000010\t0.507 V\n",
      "0110000000010\t0.507 V\n",
      "0110000000010\t0.507 V\n",
      "0110000000010\t0.507 V\n"
     ]
    }
   ],
   "source": [
    "drv.gpio_pin_set(*PIC_PINS['ADC_FIFO_EN<0>'])\n",
    "drv.gpio_pin_set(*PIC_PINS['ADC_FIFO_EN<1>'])\n",
    "drv.gpio_pin_reset(*PIC_PINS['ADC_FIFO_EN<2>'])\n",
    "drv.gpio_pin_set(*PIC_PINS['ADC_FIFO_EN<3>'])\n",
    "\n",
    "data = drv.gpio_adc_read()\n",
    "print(f'{data:013b}', end='\\t')\n",
    "print( f'{adc2volt(data):.3f} V' )\n",
    "\n",
    "StrobeNum = 15\n",
    "for strobe in range(StrobeNum):\n",
    "    drv.gpio_pin_set(*PIC_PINS['ADC_FIFO_ADVANCE'])\n",
    "    drv.gpio_pin_reset(*PIC_PINS['ADC_FIFO_ADVANCE'])\n",
    "    data = drv.gpio_adc_read()\n",
    "    print(f'{data:013b}', end='\\t')\n",
    "    #print(strobe)\n",
    "    print( f'{adc2volt(data):.3f} V' )"
   ]
  },
  {
   "cell_type": "code",
   "execution_count": null,
   "metadata": {},
   "outputs": [],
   "source": []
  },
  {
   "cell_type": "code",
   "execution_count": 616,
   "metadata": {},
   "outputs": [],
   "source": [
    "roc = [1 ,1, 1]\n",
    "# data= 0b1111111111111111\n",
    "data= 0x0000\n",
    "array= [0, 1, 2]\n",
    "N = 3\n",
    "for a in range(0, N-1):\n",
    "    drv.gpio_pin_set(*PIC_PINS['ARRAY_EN<%d>' %(array[a])])\n",
    "    if roc[a] == 1:\n",
    "        drv.gpio_pin_set(*PIC_PINS['COL_ROW_SEL'])\n",
    "    elif roc[a] == 0:\n",
    "        drv.gpio_pin_reset(*PIC_PINS['COL_ROW_SEL'])\n",
    "    else:\n",
    "        print('error, roc = 0 or 1')\n",
    "        \n",
    "    drv.gpio_row_col_bank_write(0b1000)\n",
    "    drv.gpio_row_col_data_write(data)\n",
    "    time.sleep(1e-7)\n",
    "    drv.gpio_pin_set(*PIC_PINS['LATCH_CLK_DATA'])\n",
    "    time.sleep(1e-7)\n",
    "    drv.gpio_pin_reset(*PIC_PINS['LATCH_CLK_DATA'])\n",
    "\n",
    "    drv.gpio_row_col_bank_write(0b0100)\n",
    "    drv.gpio_row_col_data_write(data)\n",
    "    time.sleep(1e-7)\n",
    "    drv.gpio_pin_set(*PIC_PINS['LATCH_CLK_DATA'])\n",
    "    time.sleep(1e-7)\n",
    "    drv.gpio_pin_reset(*PIC_PINS['LATCH_CLK_DATA'])\n",
    "\n",
    "    drv.gpio_row_col_bank_write(0b0010)\n",
    "    drv.gpio_row_col_data_write(data)\n",
    "    time.sleep(1e-7)\n",
    "    drv.gpio_pin_set(*PIC_PINS['LATCH_CLK_DATA'])\n",
    "    time.sleep(1e-7)\n",
    "    drv.gpio_pin_reset(*PIC_PINS['LATCH_CLK_DATA'])\n",
    "\n",
    "    drv.gpio_row_col_bank_write(0b0001)\n",
    "    drv.gpio_row_col_data_write(data)\n",
    "    time.sleep(1e-7)\n",
    "    drv.gpio_pin_set(*PIC_PINS['LATCH_CLK_DATA'])\n",
    "    time.sleep(1e-7)\n",
    "    drv.gpio_pin_reset(*PIC_PINS['LATCH_CLK_DATA'])\n",
    "\n",
    "    drv.gpio_pin_reset(*PIC_PINS['ARRAY_EN<%d>' %(array[a])])"
   ]
  }
 ],
 "metadata": {
  "kernelspec": {
   "display_name": "Python 3",
   "language": "python",
   "name": "python3"
  },
  "language_info": {
   "codemirror_mode": {
    "name": "ipython",
    "version": 3
   },
   "file_extension": ".py",
   "mimetype": "text/x-python",
   "name": "python",
   "nbconvert_exporter": "python",
   "pygments_lexer": "ipython3",
   "version": "3.7.4"
  }
 },
 "nbformat": 4,
 "nbformat_minor": 4
}
