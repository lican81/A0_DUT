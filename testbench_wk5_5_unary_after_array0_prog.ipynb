{
 "cells": [
  {
   "cell_type": "code",
   "execution_count": 1,
   "metadata": {},
   "outputs": [
    {
     "name": "stdout",
     "output_type": "stream",
     "text": [
      "Loaded: weights, \n",
      "Loaded: train_images, train_labels, test_images, test_labels, \n"
     ]
    }
   ],
   "source": [
    "%load_ext autoreload\n",
    "%autoreload 2\n",
    "from dpe import DPE\n",
    "from lib_data import *\n",
    "import matplotlib.pyplot as plt\n",
    "import numpy as np\n",
    "from lib_nn_dpe import NN_dpe\n",
    "from IPython import display\n",
    "\n",
    "load_workspace(vars(), 'dataset/20190815-132601-weights')\n",
    "load_workspace(vars(), 'dataset/mnist')"
   ]
  },
  {
   "cell_type": "code",
   "execution_count": 2,
   "metadata": {},
   "outputs": [
    {
     "name": "stdout",
     "output_type": "stream",
     "text": [
      "Running <function DPE.init_dut at 0x0E0C2978> with serial\n",
      "DAC initialized to a span from -10 V to 10 V\n",
      "Setting vrefs to default\n",
      "[INFO] Elapsed time = 0.04s\n",
      "Serial disconnected\n"
     ]
    }
   ],
   "source": [
    "dpe = DPE('COM6')"
   ]
  },
  {
   "cell_type": "code",
   "execution_count": 3,
   "metadata": {},
   "outputs": [
    {
     "name": "stdout",
     "output_type": "stream",
     "text": [
      "Running <function DPE.set_clock at 0x0E0C2A08> with serial\n",
      "Setting ADC_CK freq=50000.0kHz\n",
      "Setting CK_ARRAY freq=50000.0kHz\n",
      "[INFO] Elapsed time = 0.00s\n",
      "Serial disconnected\n"
     ]
    }
   ],
   "source": [
    "dpe.set_clock(50)"
   ]
  },
  {
   "cell_type": "code",
   "execution_count": 4,
   "metadata": {},
   "outputs": [
    {
     "name": "stdout",
     "output_type": "stream",
     "text": [
      "Running <function DPE.read at 0x0E0C2A98> with serial\n",
      "[INFO] Elapsed time = 0.25s\n",
      "Serial disconnected\n"
     ]
    }
   ],
   "source": [
    "g = dpe.read(1)"
   ]
  },
  {
   "cell_type": "code",
   "execution_count": 5,
   "metadata": {},
   "outputs": [
    {
     "data": {
      "text/plain": [
       "<matplotlib.colorbar.Colorbar at 0xfd14770>"
      ]
     },
     "execution_count": 5,
     "metadata": {},
     "output_type": "execute_result"
    },
    {
     "data": {
      "image/png": "[encoded data removed]",
      "text/plain": [
       "<Figure size 432x288 with 2 Axes>"
      ]
     },
     "metadata": {
      "needs_background": "light"
     },
     "output_type": "display_data"
    }
   ],
   "source": [
    "plt.imshow(g)\n",
    "plt.clim(0, 2e-4)\n",
    "plt.colorbar()"
   ]
  },
  {
   "cell_type": "code",
   "execution_count": 6,
   "metadata": {},
   "outputs": [],
   "source": [
    "nn = NN_dpe(weights)"
   ]
  },
  {
   "cell_type": "code",
   "execution_count": null,
   "metadata": {},
   "outputs": [],
   "source": [
    "img_idx = 6\n",
    "\n",
    "image = test_images[img_idx]\n",
    "vectors = nn._conv_flattern(image)\n",
    "vectors.max()"
   ]
  },
  {
   "cell_type": "code",
   "execution_count": 20,
   "metadata": {},
   "outputs": [
    {
     "name": "stdout",
     "output_type": "stream",
     "text": [
      "Connecting to serial\n",
      "[INFO] Elapsed time = 1.49s\n",
      "Serial disconnected\n"
     ]
    }
   ],
   "source": [
    "outputs = dpe.multiply(1, vectors, c_sel=[0, 14]) / (nn.Gratio/2) / 0.2"
   ]
  },
  {
   "cell_type": "code",
   "execution_count": 21,
   "metadata": {},
   "outputs": [
    {
     "data": {
      "text/plain": [
       "(400, 14)"
      ]
     },
     "execution_count": 21,
     "metadata": {},
     "output_type": "execute_result"
    }
   ],
   "source": [
    "outputs.shape"
   ]
  },
  {
   "cell_type": "code",
   "execution_count": 24,
   "metadata": {},
   "outputs": [],
   "source": [
    "software = (finalGconv.T @ vectors).T / (nn.Gratio/2)"
   ]
  },
  {
   "cell_type": "code",
   "execution_count": null,
   "metadata": {},
   "outputs": [],
   "source": [
    "for c in range(14):\n",
    "    x = []\n",
    "    y = []\n",
    "        \n",
    "    plt.figure(c+1)\n",
    "    plt.title(f'Column {c}')\n",
    "    plt.plot(outputs[:,c],software[:,c], '.', alpha=0.3)\n",
    "    plt.xlabel('Expectation')"
   ]
  },
  {
   "cell_type": "code",
   "execution_count": 26,
   "metadata": {},
   "outputs": [
    {
     "data": {
      "text/plain": [
       "<matplotlib.colorbar.Colorbar at 0x10c73730>"
      ]
     },
     "execution_count": 26,
     "metadata": {},
     "output_type": "execute_result"
    },
    {
     "data": {
      "image/png": "[encoded data removed]",
      "text/plain": [
       "<Figure size 432x288 with 2 Axes>"
      ]
     },
     "metadata": {
      "needs_background": "light"
     },
     "output_type": "display_data"
    }
   ],
   "source": [
    "plt.imshow(software[:40])\n",
    "plt.colorbar()"
   ]
  },
  {
   "cell_type": "code",
   "execution_count": 27,
   "metadata": {},
   "outputs": [
    {
     "data": {
      "text/plain": [
       "<matplotlib.colorbar.Colorbar at 0x10b53db0>"
      ]
     },
     "execution_count": 27,
     "metadata": {},
     "output_type": "execute_result"
    },
    {
     "data": {
      "image/png": "[encoded data removed]",
      "text/plain": [
       "<Figure size 432x288 with 2 Axes>"
      ]
     },
     "metadata": {
      "needs_background": "light"
     },
     "output_type": "display_data"
    }
   ],
   "source": [
    "plt.imshow(outputs[:40])\n",
    "plt.colorbar()"
   ]
  },
  {
   "cell_type": "code",
   "execution_count": 28,
   "metadata": {},
   "outputs": [
    {
     "data": {
      "text/plain": [
       "array([[ 1.10600809,  0.02558262],\n",
       "       [ 1.0400355 ,  0.85863644],\n",
       "       [ 1.30230276,  0.00215507],\n",
       "       [ 1.44122246, -0.16235268],\n",
       "       [ 1.23063979, -0.09618758],\n",
       "       [ 1.08255167,  0.03345652],\n",
       "       [ 1.10381478, -0.07628634],\n",
       "       [ 1.23586714,  0.08344223],\n",
       "       [ 1.06021022, -0.08062452],\n",
       "       [ 1.37758174, -0.16723768],\n",
       "       [ 1.17893294,  0.0187636 ],\n",
       "       [ 1.12354446,  0.03942665],\n",
       "       [ 1.22563643,  0.01260009],\n",
       "       [ 0.79969926,  0.41632605]])"
      ]
     },
     "execution_count": 28,
     "metadata": {},
     "output_type": "execute_result"
    }
   ],
   "source": [
    "linear_factors_conv = []\n",
    "for c in range(14):\n",
    "    linear_factors_conv.append( np.polyfit(outputs[:,c], software[:,c], 1))\n",
    "    \n",
    "linear_factors_conv = np.array(linear_factors_conv)\n",
    "linear_factors_conv"
   ]
  },
  {
   "cell_type": "code",
   "execution_count": 29,
   "metadata": {},
   "outputs": [],
   "source": [
    "for c in range(outputs.shape[1]):\n",
    "    outputs[:,c] = outputs[:,c] * linear_factors_conv[c][0] + linear_factors_conv[c][1]"
   ]
  },
  {
   "cell_type": "code",
   "execution_count": 31,
   "metadata": {},
   "outputs": [],
   "source": [
    "result = outputs[:, ::2] - outputs[:,1::2]\n",
    "x = result.reshape(20,20,-1)\n",
    "# for i in range(7):\n",
    "#     plt.figure(i)\n",
    "#     plt.imshow(x[:,:,i])\n",
    "#     plt.colorbar()"
   ]
  },
  {
   "cell_type": "code",
   "execution_count": 32,
   "metadata": {},
   "outputs": [
    {
     "name": "stdout",
     "output_type": "stream",
     "text": [
      "predicted 4\n",
      "label 4\n"
     ]
    }
   ],
   "source": [
    "x1 = nn.relu(x)\n",
    "x1 = nn.max_pooling(x1)\n",
    "x1 = nn.flattern(x1)\n",
    "y = nn.dense(x1)\n",
    "\n",
    "print('predicted', y.argmax())\n",
    "print('label', test_labels[img_idx])"
   ]
  },
  {
   "cell_type": "code",
   "execution_count": null,
   "metadata": {},
   "outputs": [],
   "source": []
  },
  {
   "cell_type": "code",
   "execution_count": null,
   "metadata": {},
   "outputs": [],
   "source": [
    "xs = []\n",
    "acc = []\n",
    "\n",
    "for img_idx in range(len(test_images)):\n",
    "    \n",
    "    \n",
    "    image = test_images[img_idx]\n",
    "    vectors = nn._conv_flattern(image)\n",
    "    \n",
    "    outputs = dpe.multiply(1, vectors, c_sel=[0, 14]) / (nn.Gratio/2) / 0.2\n",
    "    \n",
    "    for c in range(outputs.shape[1]):\n",
    "        outputs[:,c] = outputs[:,c] * linear_factors_conv[c][0] + linear_factors_conv[c][1]\n",
    "    \n",
    "    result = outputs[:, ::2] - outputs[:,1::2]\n",
    "    x = result.reshape(20,20,-1)\n",
    "    \n",
    "    x1 = nn.relu(x)\n",
    "    x1 = nn.max_pooling(x1)\n",
    "    x1 = nn.flattern(x1)\n",
    "    \n",
    "    xs.append(x1)\n",
    "    y = nn.dense(x1)\n",
    "    \n",
    "    display.clear_output(wait=True)\n",
    "\n",
    "    print(f'idx={img_idx}, predicted: {y.argmax()}, label: {test_labels[img_idx]}')\n",
    "    acc.append( y.argmax() == test_labels[img_idx] )\n",
    "    print(f'\\t Accuracy = {np.mean(acc)*100:.2f}%')\n",
    "    \n",
    "save_workspace(vars(), note='mnist_xs')"
   ]
  },
  {
   "cell_type": "code",
   "execution_count": 7,
   "metadata": {},
   "outputs": [
    {
     "name": "stdout",
     "output_type": "stream",
     "text": [
      "Loaded: In, Out, weights, train_images, train_labels, test_images, test_labels, g, img_idx, image, vectors, outputs, software, c, x, y, mat_contents, finalGconv, g1, g2, linear_factors_conv, xs, acc, result, x1, \n"
     ]
    }
   ],
   "source": [
    "load_workspace(vars(), '20190821-051552-mnist_xs')\n",
    "\n",
    "# load_workspace(vars(), 'mnist_xs_software')\n",
    "xs = np.array(xs)"
   ]
  },
  {
   "cell_type": "code",
   "execution_count": 8,
   "metadata": {},
   "outputs": [
    {
     "name": "stdout",
     "output_type": "stream",
     "text": [
      "idx=9999, predicted: 6, label: 6\n",
      "\t Accuracy = 98.00%\n"
     ]
    }
   ],
   "source": [
    "# Check xs \n",
    "acc = []\n",
    "\n",
    "for img_idx in range(len(test_images)):\n",
    "    x1 = xs[img_idx]\n",
    "    y = nn.dense(x1)\n",
    "    \n",
    "    if (img_idx+1)%100 == 0:\n",
    "        display.clear_output(wait=True)\n",
    "\n",
    "        print(f'idx={img_idx}, predicted: {y.argmax()}, label: {test_labels[img_idx]}')\n",
    "        acc.append( y.argmax() == test_labels[img_idx] )\n",
    "        print(f'\\t Accuracy = {np.mean(acc)*100:.2f}%')"
   ]
  },
  {
   "cell_type": "code",
   "execution_count": 9,
   "metadata": {},
   "outputs": [
    {
     "data": {
      "text/plain": [
       "array([[ 1.43760178, -0.        ,  2.6677077 , ..., -0.        ,\n",
       "        -0.        , -0.        ],\n",
       "       [ 0.40300978,  0.68757231,  2.79176243, ..., -0.        ,\n",
       "         3.54113916,  2.61077068],\n",
       "       [-0.        , -0.        ,  0.06726302, ..., -0.        ,\n",
       "        -0.        , -0.        ],\n",
       "       ...,\n",
       "       [-0.        , -0.        ,  0.11108644, ..., -0.        ,\n",
       "        -0.        , -0.        ],\n",
       "       [-0.        , -0.        ,  0.11126897, ..., -0.        ,\n",
       "        -0.        , -0.        ],\n",
       "       [-0.        , -0.        ,  0.79958419, ..., -0.        ,\n",
       "         3.2943451 ,  1.30286908]])"
      ]
     },
     "execution_count": 9,
     "metadata": {},
     "output_type": "execute_result"
    }
   ],
   "source": [
    "xs"
   ]
  },
  {
   "cell_type": "code",
   "execution_count": 10,
   "metadata": {},
   "outputs": [
    {
     "data": {
      "text/plain": [
       "(10000, 112)"
      ]
     },
     "execution_count": 10,
     "metadata": {},
     "output_type": "execute_result"
    }
   ],
   "source": [
    "xs = np.array(xs)\n",
    "xs.shape"
   ]
  },
  {
   "cell_type": "code",
   "execution_count": 11,
   "metadata": {},
   "outputs": [],
   "source": [
    "xs = np.concatenate((xs, np.ones((xs.shape[0], 1))), axis=1)"
   ]
  },
  {
   "cell_type": "code",
   "execution_count": 12,
   "metadata": {},
   "outputs": [
    {
     "data": {
      "text/plain": [
       "(10000, 113)"
      ]
     },
     "execution_count": 12,
     "metadata": {},
     "output_type": "execute_result"
    }
   ],
   "source": [
    "xs.shape"
   ]
  },
  {
   "cell_type": "code",
   "execution_count": 13,
   "metadata": {},
   "outputs": [
    {
     "name": "stdout",
     "output_type": "stream",
     "text": [
      "Running <function DPE.read at 0x0E0C2A98> with serial\n",
      "[INFO] Elapsed time = 0.26s\n",
      "Serial disconnected\n"
     ]
    },
    {
     "data": {
      "text/plain": [
       "<matplotlib.image.AxesImage at 0xfdfbf50>"
      ]
     },
     "execution_count": 13,
     "metadata": {},
     "output_type": "execute_result"
    },
    {
     "data": {
      "image/png": "[encoded data removed]",
      "text/plain": [
       "<Figure size 432x288 with 1 Axes>"
      ]
     },
     "metadata": {
      "needs_background": "light"
     },
     "output_type": "display_data"
    }
   ],
   "source": [
    "plt.imshow(dpe.read(2))"
   ]
  },
  {
   "cell_type": "code",
   "execution_count": 14,
   "metadata": {},
   "outputs": [],
   "source": [
    "x = xs[0:400]\n",
    "\n",
    "x1 = x[:,:57].T\n",
    "x2 = x[:,57:].T\n",
    "\n",
    "sc1 = x1.max()\n",
    "sc2 = x2.max()\n",
    "\n",
    "Gfc1 = nn.Gfc[:57]\n",
    "Gfc2 = nn.Gfc[57:]\n",
    "\n",
    "x1 = x1 / sc1\n",
    "x2 = x2 / sc2"
   ]
  },
  {
   "cell_type": "code",
   "execution_count": 83,
   "metadata": {},
   "outputs": [
    {
     "name": "stdout",
     "output_type": "stream",
     "text": [
      "Running <function DPE.multiply at 0x0E0C2CD8> with serial\n",
      "[INFO] Elapsed time = 3.73s\n",
      "Serial disconnected\n",
      "Running <function DPE.multiply at 0x0E0C2CD8> with serial\n",
      "[INFO] Elapsed time = 3.69s\n",
      "Serial disconnected\n"
     ]
    }
   ],
   "source": [
    "dpe.N_BIT = 8\n",
    "\n",
    "output1 = dpe.multiply(2, x1, c_sel=[0, 20], mode=1)\n",
    "software1 = (Gfc1.T @ x1).T \n",
    "\n",
    "output2 = dpe.multiply(2, x2, c_sel=[20, 40], mode=1)\n",
    "software2 = (Gfc2.T @ x2).T "
   ]
  },
  {
   "cell_type": "code",
   "execution_count": 75,
   "metadata": {},
   "outputs": [],
   "source": [
    "# dpe.N_BIT = 8\n",
    "# output1 = dpe.multiply_w_delay(2, x1, c_sel=[0, 20], mode=1, debug=True, delay=5)\n",
    "# software1 = (Gfc1.T @ x1).T \n",
    "\n",
    "# output2 = dpe.multiply_w_delay(2, x2, c_sel=[20, 40], mode=1, debug=True, delay=5)\n",
    "# software2 = (Gfc2.T @ x2).T "
   ]
  },
  {
   "cell_type": "code",
   "execution_count": 76,
   "metadata": {},
   "outputs": [],
   "source": [
    "lin_cor_fc1 = []\n",
    "lin_cor_fc2 = []\n",
    "for c in range(20):\n",
    "    lin_cor_fc1.append( np.polyfit(output1[:,c], software1[:,c], 1))\n",
    "    lin_cor_fc2.append( np.polyfit(output2[:,c], software2[:,c], 1))"
   ]
  },
  {
   "cell_type": "code",
   "execution_count": 84,
   "metadata": {},
   "outputs": [],
   "source": [
    "output_sum = output1 + output2\n",
    "output_sub = output_sum[:,::2] - output_sum[:,1::2]\n",
    "\n",
    "software_sum = (software1 + software2)\n",
    "software_sub = software_sum[:,::2] - software_sum[:,1::2]\n",
    "\n",
    "lin_cor_fc = []\n",
    "for c in range(10):\n",
    "    lin_cor_fc.append( np.polyfit(output_sub[:,c], software_sub[:,c], 1) ) "
   ]
  },
  {
   "cell_type": "code",
   "execution_count": 92,
   "metadata": {},
   "outputs": [
    {
     "data": {
      "text/plain": [
       "<matplotlib.colorbar.Colorbar at 0x12836610>"
      ]
     },
     "execution_count": 92,
     "metadata": {},
     "output_type": "execute_result"
    },
    {
     "data": {
      "image/png": "[encoded data removed]",
      "text/plain": [
       "<Figure size 432x288 with 4 Axes>"
      ]
     },
     "metadata": {
      "needs_background": "light"
     },
     "output_type": "display_data"
    }
   ],
   "source": [
    "plt.subplot(121)\n",
    "plt.imshow(output_sub[:50])\n",
    "plt.colorbar()\n",
    "plt.subplot(122)\n",
    "plt.imshow(software_sub[:50])\n",
    "plt.colorbar()"
   ]
  },
  {
   "cell_type": "code",
   "execution_count": 99,
   "metadata": {},
   "outputs": [
    {
     "data": {
      "text/plain": [
       "array([[ 2.59498036e+00, -3.19849203e-05],\n",
       "       [ 2.59834724e+00, -8.16180497e-05],\n",
       "       [ 2.43377966e+00, -3.42954044e-06],\n",
       "       [ 2.64287963e+00, -5.23853937e-05],\n",
       "       [ 2.46904526e+00,  1.14135033e-04],\n",
       "       [ 2.57160874e+00,  7.24967353e-05],\n",
       "       [ 2.89613465e+00, -7.61914001e-05],\n",
       "       [ 2.85696028e+00, -5.67791126e-05],\n",
       "       [ 2.11054916e+00,  7.35708679e-05],\n",
       "       [ 2.05104452e+00,  1.87050994e-05]])"
      ]
     },
     "execution_count": 99,
     "metadata": {},
     "output_type": "execute_result"
    }
   ],
   "source": [
    "np.array(lin_cor_fc)"
   ]
  },
  {
   "cell_type": "code",
   "execution_count": 98,
   "metadata": {},
   "outputs": [],
   "source": [
    "def lin_corr(outputs, factors):\n",
    "    result = np.zeros(outputs.shape)\n",
    "    for c in range(outputs.shape[1]):\n",
    "        result[:,c] = outputs[:,c] * factors[c][0] + factors[c][1]\n",
    "        \n",
    "    return result"
   ]
  },
  {
   "cell_type": "code",
   "execution_count": 102,
   "metadata": {},
   "outputs": [],
   "source": [
    "output_cor = lin_corr(output_sub, lin_cor_fc)"
   ]
  },
  {
   "cell_type": "code",
   "execution_count": 103,
   "metadata": {},
   "outputs": [
    {
     "data": {
      "image/png": "[encoded data removed]",
      "text/plain": [
       "<Figure size 432x288 with 1 Axes>"
      ]
     },
     "metadata": {
      "needs_background": "light"
     },
     "output_type": "display_data"
    }
   ],
   "source": [
    "for c in range(10):\n",
    "    x = software_sub[:,c]\n",
    "    y = output_cor[:,c]\n",
    "    \n",
    "    plt.plot(x,y,'.')\n",
    "    plt.xticks(rotation=45)\n",
    "\n",
    "#     lin_cor_fc2.append( np.polyfit(y, x, 1))"
   ]
  },
  {
   "cell_type": "code",
   "execution_count": 53,
   "metadata": {},
   "outputs": [
    {
     "name": "stdout",
     "output_type": "stream",
     "text": [
      "Running <function DPE.multiply at 0x0E0C2CD8> with serial\n",
      "[INFO] Elapsed time = 4.19s\n",
      "Serial disconnected\n"
     ]
    }
   ],
   "source": [
    "outputs = dpe.multiply(0, x2, c_sel=[20, 40], mode=0) \n",
    "outputs = lin_corr(outputs, lin_cor_fc2)\n",
    "software = (Gfc2.T @ x2).T "
   ]
  },
  {
   "cell_type": "code",
   "execution_count": 54,
   "metadata": {},
   "outputs": [],
   "source": [
    "# outputs = dpe.multiply_w_delay(2, x2, c_sel=[20, 40], mode=1, debug=True, delay=5)\n",
    "output_corr = lin_corr(output2, lin_cor_fc2)\n",
    "software = (Gfc2.T @ x2).T "
   ]
  },
  {
   "cell_type": "code",
   "execution_count": 55,
   "metadata": {},
   "outputs": [
    {
     "data": {
      "image/png": "[encoded data removed]",
      "text/plain": [
       "<Figure size 432x288 with 1 Axes>"
      ]
     },
     "metadata": {
      "needs_background": "light"
     },
     "output_type": "display_data"
    }
   ],
   "source": [
    "# lin_cor_fc2 = []\n",
    "\n",
    "for c in range(20):\n",
    "    x = software[:,c]\n",
    "    y = output_corr[:,c]\n",
    "    \n",
    "    plt.plot(x,y,'.')\n",
    "\n",
    "#     lin_cor_fc2.append( np.polyfit(y, x, 1))"
   ]
  },
  {
   "cell_type": "code",
   "execution_count": 56,
   "metadata": {},
   "outputs": [
    {
     "data": {
      "text/plain": [
       "(array([1.000e+00, 0.000e+00, 6.000e+00, 4.000e+00, 5.000e+00, 1.100e+01,\n",
       "        2.100e+01, 3.200e+01, 4.500e+01, 7.000e+01, 1.010e+02, 1.420e+02,\n",
       "        1.930e+02, 2.570e+02, 3.620e+02, 5.030e+02, 5.620e+02, 7.160e+02,\n",
       "        8.120e+02, 9.570e+02, 1.109e+03, 1.223e+03, 1.308e+03, 1.309e+03,\n",
       "        1.312e+03, 1.295e+03, 1.281e+03, 1.131e+03, 1.059e+03, 8.590e+02,\n",
       "        7.400e+02, 6.160e+02, 4.630e+02, 3.710e+02, 3.240e+02, 2.590e+02,\n",
       "        1.460e+02, 1.140e+02, 9.200e+01, 6.300e+01, 3.500e+01, 2.700e+01,\n",
       "        2.900e+01, 1.200e+01, 1.000e+01, 3.000e+00, 6.000e+00, 3.000e+00,\n",
       "        0.000e+00, 1.000e+00]),\n",
       " array([-0.10408473, -0.09978717, -0.09548961, -0.09119206, -0.0868945 ,\n",
       "        -0.08259694, -0.07829939, -0.07400183, -0.06970427, -0.06540672,\n",
       "        -0.06110916, -0.0568116 , -0.05251405, -0.04821649, -0.04391893,\n",
       "        -0.03962138, -0.03532382, -0.03102626, -0.02672871, -0.02243115,\n",
       "        -0.01813359, -0.01383604, -0.00953848, -0.00524092, -0.00094337,\n",
       "         0.00335419,  0.00765175,  0.0119493 ,  0.01624686,  0.02054442,\n",
       "         0.02484197,  0.02913953,  0.03343709,  0.03773464,  0.0420322 ,\n",
       "         0.04632976,  0.05062731,  0.05492487,  0.05922243,  0.06351998,\n",
       "         0.06781754,  0.0721151 ,  0.07641265,  0.08071021,  0.08500777,\n",
       "         0.08930532,  0.09360288,  0.09790044,  0.10219799,  0.10649555,\n",
       "         0.11079311]),\n",
       " <a list of 50 Patch objects>)"
      ]
     },
     "execution_count": 56,
     "metadata": {},
     "output_type": "execute_result"
    },
    {
     "data": {
      "image/png": "[encoded data removed]",
      "text/plain": [
       "<Figure size 432x288 with 1 Axes>"
      ]
     },
     "metadata": {
      "needs_background": "light"
     },
     "output_type": "display_data"
    }
   ],
   "source": [
    "plt.hist((output_corr-software).reshape(-1, 1)/0.0025, bins=50 )"
   ]
  },
  {
   "cell_type": "code",
   "execution_count": 57,
   "metadata": {},
   "outputs": [
    {
     "data": {
      "text/plain": [
       "0.02902467889301626"
      ]
     },
     "execution_count": 57,
     "metadata": {},
     "output_type": "execute_result"
    }
   ],
   "source": [
    "(output_corr-software).reshape(-1, 1).std()/0.00225"
   ]
  },
  {
   "cell_type": "code",
   "execution_count": 58,
   "metadata": {},
   "outputs": [],
   "source": [
    "# load_workspace(vars(), '20190821-051552-mnist_xs')\n",
    "# xs = np.array(xs)"
   ]
  },
  {
   "cell_type": "code",
   "execution_count": 60,
   "metadata": {},
   "outputs": [
    {
     "name": "stdout",
     "output_type": "stream",
     "text": [
      "Batch accuracy = 92.40%\n",
      "Overall = 92.23%\n"
     ]
    }
   ],
   "source": [
    "ys = []\n",
    "batch_size = 1000\n",
    "\n",
    "for i in range( (len(test_images)-1)//batch_size + 1 ):\n",
    "    idx1 = i * batch_size\n",
    "    idx2 = (i+1) * batch_size\n",
    "    idx2 = idx2 if idx2<= len(test_images) else len(test_images)\n",
    "    \n",
    "    print(f'Running on sample {idx1}-{idx2}')\n",
    "\n",
    "    x = xs[idx1:idx2]\n",
    "\n",
    "    x1 = x[:,:57].T\n",
    "    x2 = x[:,57:].T\n",
    "\n",
    "    sc1 = x1.max()\n",
    "    sc2 = x2.max()\n",
    "\n",
    "    Gfc1 = nn.Gfc[:57]\n",
    "    Gfc2 = nn.Gfc[57:]\n",
    "\n",
    "    x1 = x1 / sc1\n",
    "    x2 = x2 / sc2\n",
    "    \n",
    "    output1  = dpe.multiply(2, x1, c_sel=[0, 20], mode=1)\n",
    "    output1 = lin_corr(output1, lin_cor_fc1) * sc1\n",
    "\n",
    "    output2  = dpe.multiply(2, x2, c_sel=[20, 40], mode=1)\n",
    "    output2 = lin_corr(output2, lin_cor_fc2) * sc2\n",
    "\n",
    "    outputs = output1 + output2\n",
    "    \n",
    "    y = outputs[:,::2] - outputs[:,1::2]\n",
    "    \n",
    "    display.clear_output(wait=True)\n",
    "    \n",
    "    print(f'Batch accuracy = {np.mean(y.argmax(axis=1) == test_labels[idx1:idx2])*100:.2f}%')\n",
    "    ys.append(y)\n",
    "    print(f'Overall = {np.mean(np.concatenate(ys).argmax(axis=1) == test_labels[:idx2])*100:.2f}%')\n",
    "    \n",
    "ys = np.concatenate(ys)  "
   ]
  },
  {
   "cell_type": "code",
   "execution_count": 61,
   "metadata": {},
   "outputs": [
    {
     "data": {
      "text/plain": [
       "0.9223"
      ]
     },
     "execution_count": 61,
     "metadata": {},
     "output_type": "execute_result"
    }
   ],
   "source": [
    "np.mean(ys.argmax(axis=1) == test_labels)"
   ]
  },
  {
   "cell_type": "code",
   "execution_count": 75,
   "metadata": {},
   "outputs": [
    {
     "name": "stdout",
     "output_type": "stream",
     "text": [
      "Saving In(<class 'list'>), Out(<class 'dict'>), weights(<class 'numpy.ndarray'>), train_images(<class 'numpy.ndarray'>), train_labels(<class 'numpy.ndarray'>), test_images(<class 'numpy.ndarray'>), test_labels(<class 'numpy.ndarray'>), g(<class 'numpy.ndarray'>), img_idx(<class 'int'>), image(<class 'numpy.ndarray'>), vectors(<class 'numpy.ndarray'>), outputs(<class 'numpy.ndarray'>), software(<class 'numpy.ndarray'>), c(<class 'int'>), x(<class 'numpy.ndarray'>), y(<class 'numpy.ndarray'>), mat_contents(<class 'dict'>), finalGconv(<class 'numpy.ndarray'>), g1(<class 'numpy.ndarray'>), g2(<class 'numpy.ndarray'>), linear_factors_conv(<class 'numpy.ndarray'>), xs(<class 'numpy.ndarray'>), acc(<class 'list'>), result(<class 'numpy.ndarray'>), x1(<class 'numpy.ndarray'>), x2(<class 'numpy.ndarray'>), sc1(<class 'numpy.float64'>), sc2(<class 'numpy.float64'>), Gfc1(<class 'numpy.ndarray'>), Gfc2(<class 'numpy.ndarray'>), output1(<class 'numpy.ndarray'>), software1(<class 'numpy.ndarray'>), output2(<class 'numpy.ndarray'>), software2(<class 'numpy.ndarray'>), lin_cor_fc1(<class 'list'>), lin_cor_fc2(<class 'list'>), output_corr(<class 'numpy.ndarray'>), ys(<class 'numpy.ndarray'>), batch_size(<class 'int'>), i(<class 'int'>), idx1(<class 'int'>), idx2(<class 'int'>), to 20190821-224140-prober1-oriFC.pkl\n",
      "Saving In(<class 'list'>), weights(<class 'numpy.ndarray'>), train_images(<class 'numpy.ndarray'>), train_labels(<class 'numpy.ndarray'>), test_images(<class 'numpy.ndarray'>), test_labels(<class 'numpy.ndarray'>), g(<class 'numpy.ndarray'>), img_idx(<class 'int'>), image(<class 'numpy.ndarray'>), vectors(<class 'numpy.ndarray'>), outputs(<class 'numpy.ndarray'>), software(<class 'numpy.ndarray'>), c(<class 'int'>), x(<class 'numpy.ndarray'>), y(<class 'numpy.ndarray'>), finalGconv(<class 'numpy.ndarray'>), g1(<class 'numpy.ndarray'>), g2(<class 'numpy.ndarray'>), linear_factors_conv(<class 'numpy.ndarray'>), xs(<class 'numpy.ndarray'>), acc(<class 'list'>), result(<class 'numpy.ndarray'>), x1(<class 'numpy.ndarray'>), x2(<class 'numpy.ndarray'>), sc1(<class 'numpy.float64'>), sc2(<class 'numpy.float64'>), Gfc1(<class 'numpy.ndarray'>), Gfc2(<class 'numpy.ndarray'>), output1(<class 'numpy.ndarray'>), software1(<class 'numpy.ndarray'>), output2(<class 'numpy.ndarray'>), software2(<class 'numpy.ndarray'>), lin_cor_fc1(<class 'list'>), lin_cor_fc2(<class 'list'>), output_corr(<class 'numpy.ndarray'>), ys(<class 'numpy.ndarray'>), batch_size(<class 'int'>), i(<class 'int'>), idx1(<class 'int'>), idx2(<class 'int'>), to 20190821-224140-prober1-oriFC.mat\n"
     ]
    }
   ],
   "source": [
    "save_workspace(vars(), note='prober1-oriFC')"
   ]
  },
  {
   "cell_type": "code",
   "execution_count": 29,
   "metadata": {},
   "outputs": [
    {
     "data": {
      "text/plain": [
       "array([ True,  True, False, ...,  True,  True,  True])"
      ]
     },
     "execution_count": 29,
     "metadata": {},
     "output_type": "execute_result"
    }
   ],
   "source": [
    "ynew.argmax(axis=1) == test_labels"
   ]
  },
  {
   "cell_type": "code",
   "execution_count": 23,
   "metadata": {},
   "outputs": [],
   "source": [
    "import scipy.io as sio\n",
    "#load_workspace(vars(), '20190814-205207-CNN weights')\n",
    "mat_contents = sio.loadmat('UpdatedGconv.mat')\n",
    "finalGconv = mat_contents['finalGconv']"
   ]
  },
  {
   "cell_type": "code",
   "execution_count": 104,
   "metadata": {},
   "outputs": [
    {
     "name": "stdout",
     "output_type": "stream",
     "text": [
      "Batch accuracy = 89.00%\n",
      "Overall = 89.61%\n"
     ]
    }
   ],
   "source": [
    "# Linear correction after subtraction\n",
    "\n",
    "ys = []\n",
    "batch_size = 1000\n",
    "\n",
    "for i in range( (len(test_images)-1)//batch_size + 1 ):\n",
    "    idx1 = i * batch_size\n",
    "    idx2 = (i+1) * batch_size\n",
    "    idx2 = idx2 if idx2<= len(test_images) else len(test_images)\n",
    "    \n",
    "    print(f'Running on sample {idx1}-{idx2}')\n",
    "\n",
    "    x = xs[idx1:idx2]\n",
    "\n",
    "    x1 = x[:,:57].T\n",
    "    x2 = x[:,57:].T\n",
    "\n",
    "    sc1 = x1.max()\n",
    "    sc2 = x2.max()\n",
    "\n",
    "    Gfc1 = nn.Gfc[:57]\n",
    "    Gfc2 = nn.Gfc[57:]\n",
    "\n",
    "    x1 = x1 / sc1\n",
    "    x2 = x2 / sc2\n",
    "    \n",
    "    output1  = dpe.multiply(2, x1, c_sel=[0, 20], mode=1) * sc1\n",
    "#     output1 = lin_corr(output1, lin_cor_fc1) * sc1\n",
    "\n",
    "    output2  = dpe.multiply(2, x2, c_sel=[20, 40], mode=1) * sc2\n",
    "#     output2 = lin_corr(output2, lin_cor_fc2) * sc2\n",
    "\n",
    "    outputs = output1 + output2\n",
    "    \n",
    "    y = outputs[:,::2] - outputs[:,1::2]\n",
    "    \n",
    "    y = lin_corr(y, lin_cor_fc)\n",
    "    \n",
    "    display.clear_output(wait=True)\n",
    "    \n",
    "    print(f'Batch accuracy = {np.mean(y.argmax(axis=1) == test_labels[idx1:idx2])*100:.2f}%')\n",
    "    ys.append(y)\n",
    "    print(f'Overall = {np.mean(np.concatenate(ys).argmax(axis=1) == test_labels[:idx2])*100:.2f}%')\n",
    "    \n",
    "ys = np.concatenate(ys)  "
   ]
  },
  {
   "cell_type": "code",
   "execution_count": null,
   "metadata": {},
   "outputs": [],
   "source": []
  }
 ],
 "metadata": {
  "kernelspec": {
   "display_name": "Python 3",
   "language": "python",
   "name": "python3"
  },
  "language_info": {
   "codemirror_mode": {
    "name": "ipython",
    "version": 3
   },
   "file_extension": ".py",
   "mimetype": "text/x-python",
   "name": "python",
   "nbconvert_exporter": "python",
   "pygments_lexer": "ipython3",
   "version": "3.7.4"
  }
 },
 "nbformat": 4,
 "nbformat_minor": 4
}
