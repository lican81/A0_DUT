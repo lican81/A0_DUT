{
 "cells": [
  {
   "cell_type": "code",
   "execution_count": 3,
   "metadata": {},
   "outputs": [],
   "source": [
    "%reload_ext autoreload\n",
    "%autoreload\n",
    "\n",
    "import dut_func as dut\n",
    "import serial\n",
    "import time\n",
    "import struct\n",
    "import numpy as np\n",
    "\n",
    "from misc import *\n",
    "\n",
    "# dut.drv.serUSB = 'COM19'\n",
    "drv = dut.drv\n",
    "\n",
    "ser = serial.Serial('COM6', 9600, timeout=1)\n",
    "dut.connect(ser)\n",
    "\n"
   ]
  },
  {
   "cell_type": "code",
   "execution_count": 20,
   "metadata": {},
   "outputs": [
    {
     "name": "stdout",
     "output_type": "stream",
     "text": [
      "Serial port disconnected.\n"
     ]
    }
   ],
   "source": [
    "dut.disconnect()"
   ]
  },
  {
   "cell_type": "code",
   "execution_count": 4,
   "metadata": {},
   "outputs": [
    {
     "name": "stdout",
     "output_type": "stream",
     "text": [
      "DAC initialized to a span from -5 V to 5 V\n"
     ]
    }
   ],
   "source": [
    "dut.dac_set('PLANE_VPP', 0.3)"
   ]
  },
  {
   "cell_type": "code",
   "execution_count": 5,
   "metadata": {},
   "outputs": [
    {
     "name": "stdout",
     "output_type": "stream",
     "text": [
      "DAC initialized to a span from -5 V to 5 V\n"
     ]
    }
   ],
   "source": [
    "dut.pads_defaults()\n",
    "dut.dac_init()\n",
    "\n",
    "drv.clk_stop('CK_ARRAY')\n",
    "drv.clk_stop('ADC_CK')\n",
    "\n",
    "dut.vrefs_off()"
   ]
  },
  {
   "cell_type": "code",
   "execution_count": 15,
   "metadata": {},
   "outputs": [
    {
     "data": {
      "text/plain": [
       "array([0.        , 0.07252747, 0.07413919, 0.48190476, 5.11721612])"
      ]
     },
     "execution_count": 15,
     "metadata": {},
     "output_type": "execute_result"
    }
   ],
   "source": [
    "voltages = drv.pic_adc_read() *2\n",
    "voltages"
   ]
  },
  {
   "cell_type": "markdown",
   "metadata": {},
   "source": [
    "Set up various DAC channels"
   ]
  },
  {
   "cell_type": "code",
   "execution_count": 16,
   "metadata": {},
   "outputs": [],
   "source": [
    "dut.dac_set('DAC_VREF_HI_CMP', 1.5)"
   ]
  },
  {
   "cell_type": "code",
   "execution_count": 17,
   "metadata": {},
   "outputs": [],
   "source": [
    "dut.dac_set('DAC_VP_PAD', 0.5)"
   ]
  },
  {
   "cell_type": "code",
   "execution_count": 18,
   "metadata": {},
   "outputs": [],
   "source": [
    "dut.dac_set('P_VREF_SH', 2.5)"
   ]
  },
  {
   "cell_type": "code",
   "execution_count": 22,
   "metadata": {},
   "outputs": [],
   "source": [
    "dut.dac_set('P_VAGC_1', 4)"
   ]
  },
  {
   "cell_type": "code",
   "execution_count": 24,
   "metadata": {},
   "outputs": [],
   "source": [
    "dut.dac_set('P_VAGC_0', 1)"
   ]
  },
  {
   "cell_type": "code",
   "execution_count": 25,
   "metadata": {},
   "outputs": [],
   "source": [
    "dut.dac_set('P_TVDD', 4.5)"
   ]
  },
  {
   "cell_type": "code",
   "execution_count": 16,
   "metadata": {},
   "outputs": [],
   "source": [
    "dut.dac_set('P_TVDD', 1.)"
   ]
  },
  {
   "cell_type": "code",
   "execution_count": 26,
   "metadata": {},
   "outputs": [],
   "source": [
    "dut.dac_set('P_VREF_TIA', 0.5)"
   ]
  },
  {
   "cell_type": "code",
   "execution_count": 27,
   "metadata": {},
   "outputs": [],
   "source": [
    "dut.dac_set('DAC_VREF_ARRAY', 0.5)"
   ]
  },
  {
   "cell_type": "code",
   "execution_count": 20,
   "metadata": {},
   "outputs": [],
   "source": [
    "dut.dac_set('P_AMP_VREF', 2.5)"
   ]
  },
  {
   "cell_type": "code",
   "execution_count": 22,
   "metadata": {},
   "outputs": [],
   "source": [
    "dut.dac_set('P_AMP_INPUT', 2.5)"
   ]
  },
  {
   "cell_type": "markdown",
   "metadata": {},
   "source": [
    "________________"
   ]
  },
  {
   "cell_type": "markdown",
   "metadata": {},
   "source": [
    "Assert Power GOOD"
   ]
  },
  {
   "cell_type": "code",
   "execution_count": 28,
   "metadata": {},
   "outputs": [],
   "source": [
    "drv.gpio_pin_set(*PIC_PINS['PWR_GOOD'])"
   ]
  },
  {
   "cell_type": "markdown",
   "metadata": {},
   "source": [
    "Pulse RESET chip with a rising edge"
   ]
  },
  {
   "cell_type": "code",
   "execution_count": 29,
   "metadata": {},
   "outputs": [],
   "source": [
    "portName, pinPos = PIC_PINS['NRESET_FULL_CHIP']\n",
    "drv.gpio_pin_reset(portName, pinPos)\n",
    "time.sleep(0.1) # want to delay 1us\n",
    "drv.gpio_pin_set(portName, pinPos)"
   ]
  },
  {
   "cell_type": "markdown",
   "metadata": {},
   "source": [
    "Send a scan chain data"
   ]
  },
  {
   "cell_type": "code",
   "execution_count": 30,
   "metadata": {},
   "outputs": [],
   "source": [
    "data = bytes([0x10, 0x20, 0x0c, 0x00, 0x20, 0x01, 0x02])\n",
    "drv.spi_serial_write(2, data)"
   ]
  },
  {
   "cell_type": "code",
   "execution_count": 58,
   "metadata": {},
   "outputs": [],
   "source": [
    "data = bytes([0x0f, 0b01010101, 0b01010101, 0b01010101, 0b01010101, 0b01010101, 0b01010101])\n",
    "drv.spi_serial_write(2, data)"
   ]
  },
  {
   "cell_type": "code",
   "execution_count": 221,
   "metadata": {},
   "outputs": [
    {
     "name": "stdout",
     "output_type": "stream",
     "text": [
      "b'\\x01\\x01\\x01\\x01\\x01\\x01\\x01\\x01\\x01\\x01\\x01\\x01\\x01\\x01\\x01\\x01\\x01\\x01\\x01\\x01\\x01\\x01\\x01\\x01\\x01\\x01\\x01\\x01\\x01\\x01\\x01\\x01\\x01\\x01\\x01\\x01\\x01\\x01\\x01\\x01\\x01\\x01\\x01\\x01\\x01\\x01\\x01\\x01\\x01\\x01\\x01\\x01\\x01\\x01\\x01\\x01\\x01\\x01\\x01\\x01\\x01\\x01\\x01\\x01\\x01\\x01\\x01\\x01\\x01\\x01\\x01\\x01\\x01\\x01\\x01\\x01\\x01\\x01\\x01\\x01\\x01\\x01\\x01\\x01\\x01\\x01\\x01\\x01\\x01\\x01\\x01\\x01\\x01\\x01\\x01\\x01\\x01\\x01\\x01\\x01\\x01\\x01\\x01\\x01\\x01\\x01\\x01\\x01\\x01\\x01\\x01\\x01\\x01\\x01\\x01\\x01\\x01\\x01\\x01\\x01'\n"
     ]
    }
   ],
   "source": [
    "data = bytes([0x01,]) * 120\n",
    "print(data)\n",
    "drv.spi_serial_write(1, data)"
   ]
  },
  {
   "cell_type": "code",
   "execution_count": 173,
   "metadata": {},
   "outputs": [],
   "source": [
    "for _ in range(20):\n",
    "    data = bytes([0x10, 0x20, 0x0c, 0x00, 0x20, 0x01, 0x02] * 20)\n",
    "    drv.spi_serial_write(1, data)"
   ]
  },
  {
   "cell_type": "code",
   "execution_count": 294,
   "metadata": {},
   "outputs": [
    {
     "data": {
      "text/plain": [
       "'0b1100'"
      ]
     },
     "execution_count": 294,
     "metadata": {},
     "output_type": "execute_result"
    }
   ],
   "source": [
    "bin(0x0c)"
   ]
  },
  {
   "cell_type": "code",
   "execution_count": 20,
   "metadata": {},
   "outputs": [
    {
     "name": "stdout",
     "output_type": "stream",
     "text": [
      "Serial port disconnected.\n"
     ]
    }
   ],
   "source": [
    "dut.disconnect()"
   ]
  },
  {
   "cell_type": "code",
   "execution_count": 242,
   "metadata": {},
   "outputs": [
    {
     "name": "stdout",
     "output_type": "stream",
     "text": [
      "DAC initialized to a span from -5 V to 5 V\n"
     ]
    }
   ],
   "source": [
    "# NOTE: first power on requires physical switch actions on DUT board as well as PIC commands\n",
    "\n",
    "# FIRST: SWITCH microntroller VDD power ON (i.e. power up microcontroller)\n",
    "time.sleep(1) # want to delay 1us\n",
    "drv.gpio_pin_reset(*PIC_PINS['NRESET_FULL_CHIP'])\n",
    "drv.gpio_pin_reset(*PIC_PINS['NRESET_DPE_ENGINE'])\n",
    "dut.pads_defaults()\n",
    "dut.dac_init()"
   ]
  },
  {
   "cell_type": "code",
   "execution_count": 253,
   "metadata": {},
   "outputs": [],
   "source": []
  },
  {
   "cell_type": "code",
   "execution_count": 46,
   "metadata": {},
   "outputs": [],
   "source": [
    "data = bytes([0x10, 0x20, 0x0c, 0x00, 0x20, 0x01, 0x02])\n",
    "drv.spi_serial_write(2, data)"
   ]
  },
  {
   "cell_type": "code",
   "execution_count": 65,
   "metadata": {},
   "outputs": [
    {
     "name": "stdout",
     "output_type": "stream",
     "text": [
      "0x10\n",
      "0x20\n",
      "0xc\n",
      "0x0\n",
      "0x20\n",
      "0x1\n",
      "0x2\n"
     ]
    }
   ],
   "source": [
    "data = bytes([0x10, 0x20, 0x0c, 0x00, 0x20, 0x01, 0x02])\n",
    "values = drv.spi_serial_write_and_read(2, data)\n",
    "for v in values:\n",
    "    print(hex(v))"
   ]
  },
  {
   "cell_type": "code",
   "execution_count": 5,
   "metadata": {},
   "outputs": [],
   "source": [
    "drv.gpio_pin_set(*PIC_PINS['NFORCE_SAFE1'])"
   ]
  },
  {
   "cell_type": "code",
   "execution_count": 77,
   "metadata": {},
   "outputs": [],
   "source": [
    "drv.gpio_port_write('H', 0b0101)"
   ]
  },
  {
   "cell_type": "code",
   "execution_count": 8,
   "metadata": {},
   "outputs": [],
   "source": [
    "drv.gpio_pin_set_output('G', 13)\n",
    "drv.gpio_pin_reset('G', 13)"
   ]
  },
  {
   "cell_type": "code",
   "execution_count": null,
   "metadata": {},
   "outputs": [],
   "source": []
  },
  {
   "cell_type": "code",
   "execution_count": 18,
   "metadata": {},
   "outputs": [
    {
     "name": "stdout",
     "output_type": "stream",
     "text": [
      "Setting freq=10000.0kHz\n",
      "Setting freq=5000.0kHz\n"
     ]
    }
   ],
   "source": [
    "drv.clk_stop('CK_ARRAY')\n",
    "drv.clk_stop('ADC_CK')\n",
    "\n",
    "drv.clk_config('CK_ARRAY', divisor=10)\n",
    "drv.clk_config('ADC_CK', divisor=20)\n",
    "\n",
    "drv.clk_start('CK_ARRAY')\n",
    "drv.clk_start('ADC_CK')\n"
   ]
  },
  {
   "cell_type": "code",
   "execution_count": null,
   "metadata": {},
   "outputs": [],
   "source": []
  }
 ],
 "metadata": {
  "kernelspec": {
   "display_name": "Python 3",
   "language": "python",
   "name": "python3"
  },
  "language_info": {
   "codemirror_mode": {
    "name": "ipython",
    "version": 3
   },
   "file_extension": ".py",
   "mimetype": "text/x-python",
   "name": "python",
   "nbconvert_exporter": "python",
   "pygments_lexer": "ipython3",
   "version": "3.7.4"
  }
 },
 "nbformat": 4,
 "nbformat_minor": 4
}
