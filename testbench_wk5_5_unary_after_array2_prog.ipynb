{
 "cells": [
  {
   "cell_type": "code",
   "execution_count": 142,
   "metadata": {},
   "outputs": [
    {
     "name": "stdout",
     "output_type": "stream",
     "text": [
      "The autoreload extension is already loaded. To reload it, use:\n",
      "  %reload_ext autoreload\n",
      "Loaded: weights, \n",
      "Loaded: train_images, train_labels, test_images, test_labels, \n"
     ]
    }
   ],
   "source": [
    "%load_ext autoreload\n",
    "%autoreload 2\n",
    "from dpe import DPE\n",
    "from lib_data import *\n",
    "import matplotlib.pyplot as plt\n",
    "import numpy as np\n",
    "from lib_nn_dpe import NN_dpe\n",
    "from IPython import display\n",
    "\n",
    "load_workspace(vars(), 'dataset/20190815-132601-weights')\n",
    "load_workspace(vars(), 'dataset/mnist')\n",
    "\n",
    "%config InlineBackend.figure_formats = ['svg']\n",
    "import matplotlib\n",
    "matplotlib.rcParams['font.sans-serif'] = \"Arial\""
   ]
  },
  {
   "cell_type": "code",
   "execution_count": 123,
   "metadata": {},
   "outputs": [
    {
     "name": "stdout",
     "output_type": "stream",
     "text": [
      "Running <function DPE.init_dut at 0x0E2E3CD8> with serial\n",
      "DAC initialized to a span from -10 V to 10 V\n",
      "Setting vrefs to default\n",
      "[INFO] Elapsed time = 0.04s\n",
      "Serial disconnected\n"
     ]
    }
   ],
   "source": [
    "dpe = DPE('COM6')"
   ]
  },
  {
   "cell_type": "code",
   "execution_count": 124,
   "metadata": {},
   "outputs": [
    {
     "name": "stdout",
     "output_type": "stream",
     "text": [
      "Running <function DPE.set_clock at 0x0E2E3D68> with serial\n",
      "Setting ADC_CK freq=50000.0kHz\n",
      "Setting CK_ARRAY freq=50000.0kHz\n",
      "[INFO] Elapsed time = 0.00s\n",
      "Serial disconnected\n"
     ]
    }
   ],
   "source": [
    "dpe.set_clock(50)"
   ]
  },
  {
   "cell_type": "code",
   "execution_count": 134,
   "metadata": {},
   "outputs": [
    {
     "name": "stdout",
     "output_type": "stream",
     "text": [
      "Running <function DPE.read at 0x0E2E3DF8> with serial\n",
      "[INFO] Elapsed time = 0.25s\n",
      "Serial disconnected\n"
     ]
    }
   ],
   "source": [
    "g = dpe.read(1) "
   ]
  },
  {
   "cell_type": "code",
   "execution_count": 144,
   "metadata": {},
   "outputs": [
    {
     "data": {
      "image/svg+xml": [
       "<?xml version=\"1.0\" encoding=\"utf-8\" standalone=\"no\"?>\r\n",
       "<!DOCTYPE svg PUBLIC \"-//W3C//DTD SVG 1.1//EN\"\r\n",
       "  \"http://www.w3.org/Graphics/SVG/1.1/DTD/svg11.dtd\">\r\n",
       "<!-- Created with matplotlib (https://matplotlib.org/) -->\r\n",
       "<svg height=\"262.720937pt\" version=\"1.1\" viewBox=\"0 0 301.256687 262.720937\" width=\"301.256687pt\" xmlns=\"http://www.w3.org/2000/svg\" xmlns:xlink=\"http://www.w3.org/1999/xlink\">\r\n",
       " <defs>\r\n",
       "  <style type=\"text/css\">\r\n",
       "*{stroke-linecap:butt;stroke-linejoin:round;}\r\n",
       "  </style>\r\n",
       " </defs>\r\n",
       " <g id=\"figure_1\">\r\n",
       "  <g id=\"patch_1\">\r\n",
       "   <path d=\"M 0 262.720937 \r\n",
       "L 301.256687 262.720937 \r\n",
       "L 301.256687 0 \r\n",
       "L 0 0 \r\n",
       "z\r\n",
       "\" style=\"fill:none;\"/>\r\n",
       "  </g>\r\n",
       "  <g id=\"axes_1\">\r\n",
       "   <g id=\"patch_2\">\r\n",
       "    <path d=\"M 25.321875 239.375625 \r\n",
       "L 242.761875 239.375625 \r\n",
       "L 242.761875 21.935625 \r\n",
       "L 25.321875 21.935625 \r\n",
       "z\r\n",
       "\" style=\"fill:#ffffff;\"/>\r\n",
       "   </g>\r\n",
       "   <g clip-path=\"url(#p240a91d37d)\">\r\n",
       "    <image height=\"218\" id=\"image477997e829\" transform=\"scale(1 -1)translate(0 -218)\" width=\"218\" x=\"25.321875\" xlink:href=\"data:image/png;base64,\r\n",
       "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\" y=\"-21.375625\"/>\r\n",
       "   </g>\r\n",
       "   <g id=\"matplotlib.axis_1\">\r\n",
       "    <g id=\"xtick_1\">\r\n",
       "     <g id=\"line2d_1\">\r\n",
       "      <defs>\r\n",
       "       <path d=\"M 0 0 \r\n",
       "L 0 3.5 \r\n",
       "\" id=\"m818d238968\" style=\"stroke:#000000;stroke-width:0.8;\"/>\r\n",
       "      </defs>\r\n",
       "      <g>\r\n",
       "       <use style=\"stroke:#000000;stroke-width:0.8;\" x=\"27.020625\" xlink:href=\"#m818d238968\" y=\"239.375625\"/>\r\n",
       "      </g>\r\n",
       "     </g>\r\n",
       "     <g id=\"text_1\">\r\n",
       "      <!-- 0 -->\r\n",
       "      <defs>\r\n",
       "       <path d=\"M 4.15625 35.296875 \r\n",
       "Q 4.15625 48 6.765625 55.734375 \r\n",
       "Q 9.375 63.484375 14.515625 67.671875 \r\n",
       "Q 19.671875 71.875 27.484375 71.875 \r\n",
       "Q 33.25 71.875 37.59375 69.546875 \r\n",
       "Q 41.9375 67.234375 44.765625 62.859375 \r\n",
       "Q 47.609375 58.5 49.21875 52.21875 \r\n",
       "Q 50.828125 45.953125 50.828125 35.296875 \r\n",
       "Q 50.828125 22.703125 48.234375 14.96875 \r\n",
       "Q 45.65625 7.234375 40.5 3 \r\n",
       "Q 35.359375 -1.21875 27.484375 -1.21875 \r\n",
       "Q 17.140625 -1.21875 11.234375 6.203125 \r\n",
       "Q 4.15625 15.140625 4.15625 35.296875 \r\n",
       "z\r\n",
       "M 13.1875 35.296875 \r\n",
       "Q 13.1875 17.671875 17.3125 11.828125 \r\n",
       "Q 21.4375 6 27.484375 6 \r\n",
       "Q 33.546875 6 37.671875 11.859375 \r\n",
       "Q 41.796875 17.71875 41.796875 35.296875 \r\n",
       "Q 41.796875 52.984375 37.671875 58.78125 \r\n",
       "Q 33.546875 64.59375 27.390625 64.59375 \r\n",
       "Q 21.34375 64.59375 17.71875 59.46875 \r\n",
       "Q 13.1875 52.9375 13.1875 35.296875 \r\n",
       "z\r\n",
       "\" id=\"ArialMT-48\"/>\r\n",
       "      </defs>\r\n",
       "      <g transform=\"translate(24.240156 253.533437)scale(0.1 -0.1)\">\r\n",
       "       <use xlink:href=\"#ArialMT-48\"/>\r\n",
       "      </g>\r\n",
       "     </g>\r\n",
       "    </g>\r\n",
       "    <g id=\"xtick_2\">\r\n",
       "     <g id=\"line2d_2\">\r\n",
       "      <g>\r\n",
       "       <use style=\"stroke:#000000;stroke-width:0.8;\" x=\"60.995625\" xlink:href=\"#m818d238968\" y=\"239.375625\"/>\r\n",
       "      </g>\r\n",
       "     </g>\r\n",
       "     <g id=\"text_2\">\r\n",
       "      <!-- 10 -->\r\n",
       "      <defs>\r\n",
       "       <path d=\"M 37.25 0 \r\n",
       "L 28.46875 0 \r\n",
       "L 28.46875 56 \r\n",
       "Q 25.296875 52.984375 20.140625 49.953125 \r\n",
       "Q 14.984375 46.921875 10.890625 45.40625 \r\n",
       "L 10.890625 53.90625 \r\n",
       "Q 18.265625 57.375 23.78125 62.296875 \r\n",
       "Q 29.296875 67.234375 31.59375 71.875 \r\n",
       "L 37.25 71.875 \r\n",
       "z\r\n",
       "\" id=\"ArialMT-49\"/>\r\n",
       "      </defs>\r\n",
       "      <g transform=\"translate(55.434688 253.533437)scale(0.1 -0.1)\">\r\n",
       "       <use xlink:href=\"#ArialMT-49\"/>\r\n",
       "       <use x=\"55.615234\" xlink:href=\"#ArialMT-48\"/>\r\n",
       "      </g>\r\n",
       "     </g>\r\n",
       "    </g>\r\n",
       "    <g id=\"xtick_3\">\r\n",
       "     <g id=\"line2d_3\">\r\n",
       "      <g>\r\n",
       "       <use style=\"stroke:#000000;stroke-width:0.8;\" x=\"94.970625\" xlink:href=\"#m818d238968\" y=\"239.375625\"/>\r\n",
       "      </g>\r\n",
       "     </g>\r\n",
       "     <g id=\"text_3\">\r\n",
       "      <!-- 20 -->\r\n",
       "      <defs>\r\n",
       "       <path d=\"M 50.34375 8.453125 \r\n",
       "L 50.34375 0 \r\n",
       "L 3.03125 0 \r\n",
       "Q 2.9375 3.171875 4.046875 6.109375 \r\n",
       "Q 5.859375 10.9375 9.828125 15.625 \r\n",
       "Q 13.8125 20.3125 21.34375 26.46875 \r\n",
       "Q 33.015625 36.03125 37.109375 41.625 \r\n",
       "Q 41.21875 47.21875 41.21875 52.203125 \r\n",
       "Q 41.21875 57.421875 37.46875 61 \r\n",
       "Q 33.734375 64.59375 27.734375 64.59375 \r\n",
       "Q 21.390625 64.59375 17.578125 60.78125 \r\n",
       "Q 13.765625 56.984375 13.71875 50.25 \r\n",
       "L 4.6875 51.171875 \r\n",
       "Q 5.609375 61.28125 11.65625 66.578125 \r\n",
       "Q 17.71875 71.875 27.9375 71.875 \r\n",
       "Q 38.234375 71.875 44.234375 66.15625 \r\n",
       "Q 50.25 60.453125 50.25 52 \r\n",
       "Q 50.25 47.703125 48.484375 43.546875 \r\n",
       "Q 46.734375 39.40625 42.65625 34.8125 \r\n",
       "Q 38.578125 30.21875 29.109375 22.21875 \r\n",
       "Q 21.1875 15.578125 18.9375 13.203125 \r\n",
       "Q 16.703125 10.84375 15.234375 8.453125 \r\n",
       "z\r\n",
       "\" id=\"ArialMT-50\"/>\r\n",
       "      </defs>\r\n",
       "      <g transform=\"translate(89.409688 253.533437)scale(0.1 -0.1)\">\r\n",
       "       <use xlink:href=\"#ArialMT-50\"/>\r\n",
       "       <use x=\"55.615234\" xlink:href=\"#ArialMT-48\"/>\r\n",
       "      </g>\r\n",
       "     </g>\r\n",
       "    </g>\r\n",
       "    <g id=\"xtick_4\">\r\n",
       "     <g id=\"line2d_4\">\r\n",
       "      <g>\r\n",
       "       <use style=\"stroke:#000000;stroke-width:0.8;\" x=\"128.945625\" xlink:href=\"#m818d238968\" y=\"239.375625\"/>\r\n",
       "      </g>\r\n",
       "     </g>\r\n",
       "     <g id=\"text_4\">\r\n",
       "      <!-- 30 -->\r\n",
       "      <defs>\r\n",
       "       <path d=\"M 4.203125 18.890625 \r\n",
       "L 12.984375 20.0625 \r\n",
       "Q 14.5 12.59375 18.140625 9.296875 \r\n",
       "Q 21.78125 6 27 6 \r\n",
       "Q 33.203125 6 37.46875 10.296875 \r\n",
       "Q 41.75 14.59375 41.75 20.953125 \r\n",
       "Q 41.75 27 37.796875 30.921875 \r\n",
       "Q 33.84375 34.859375 27.734375 34.859375 \r\n",
       "Q 25.25 34.859375 21.53125 33.890625 \r\n",
       "L 22.515625 41.609375 \r\n",
       "Q 23.390625 41.5 23.921875 41.5 \r\n",
       "Q 29.546875 41.5 34.03125 44.421875 \r\n",
       "Q 38.53125 47.359375 38.53125 53.46875 \r\n",
       "Q 38.53125 58.296875 35.25 61.46875 \r\n",
       "Q 31.984375 64.65625 26.8125 64.65625 \r\n",
       "Q 21.6875 64.65625 18.265625 61.421875 \r\n",
       "Q 14.84375 58.203125 13.875 51.765625 \r\n",
       "L 5.078125 53.328125 \r\n",
       "Q 6.6875 62.15625 12.390625 67.015625 \r\n",
       "Q 18.109375 71.875 26.609375 71.875 \r\n",
       "Q 32.46875 71.875 37.390625 69.359375 \r\n",
       "Q 42.328125 66.84375 44.9375 62.5 \r\n",
       "Q 47.5625 58.15625 47.5625 53.265625 \r\n",
       "Q 47.5625 48.640625 45.0625 44.828125 \r\n",
       "Q 42.578125 41.015625 37.703125 38.765625 \r\n",
       "Q 44.046875 37.3125 47.5625 32.6875 \r\n",
       "Q 51.078125 28.078125 51.078125 21.140625 \r\n",
       "Q 51.078125 11.765625 44.234375 5.25 \r\n",
       "Q 37.40625 -1.265625 26.953125 -1.265625 \r\n",
       "Q 17.53125 -1.265625 11.296875 4.34375 \r\n",
       "Q 5.078125 9.96875 4.203125 18.890625 \r\n",
       "z\r\n",
       "\" id=\"ArialMT-51\"/>\r\n",
       "      </defs>\r\n",
       "      <g transform=\"translate(123.384687 253.533437)scale(0.1 -0.1)\">\r\n",
       "       <use xlink:href=\"#ArialMT-51\"/>\r\n",
       "       <use x=\"55.615234\" xlink:href=\"#ArialMT-48\"/>\r\n",
       "      </g>\r\n",
       "     </g>\r\n",
       "    </g>\r\n",
       "    <g id=\"xtick_5\">\r\n",
       "     <g id=\"line2d_5\">\r\n",
       "      <g>\r\n",
       "       <use style=\"stroke:#000000;stroke-width:0.8;\" x=\"162.920625\" xlink:href=\"#m818d238968\" y=\"239.375625\"/>\r\n",
       "      </g>\r\n",
       "     </g>\r\n",
       "     <g id=\"text_5\">\r\n",
       "      <!-- 40 -->\r\n",
       "      <defs>\r\n",
       "       <path d=\"M 32.328125 0 \r\n",
       "L 32.328125 17.140625 \r\n",
       "L 1.265625 17.140625 \r\n",
       "L 1.265625 25.203125 \r\n",
       "L 33.9375 71.578125 \r\n",
       "L 41.109375 71.578125 \r\n",
       "L 41.109375 25.203125 \r\n",
       "L 50.78125 25.203125 \r\n",
       "L 50.78125 17.140625 \r\n",
       "L 41.109375 17.140625 \r\n",
       "L 41.109375 0 \r\n",
       "z\r\n",
       "M 32.328125 25.203125 \r\n",
       "L 32.328125 57.46875 \r\n",
       "L 9.90625 25.203125 \r\n",
       "z\r\n",
       "\" id=\"ArialMT-52\"/>\r\n",
       "      </defs>\r\n",
       "      <g transform=\"translate(157.359687 253.533437)scale(0.1 -0.1)\">\r\n",
       "       <use xlink:href=\"#ArialMT-52\"/>\r\n",
       "       <use x=\"55.615234\" xlink:href=\"#ArialMT-48\"/>\r\n",
       "      </g>\r\n",
       "     </g>\r\n",
       "    </g>\r\n",
       "    <g id=\"xtick_6\">\r\n",
       "     <g id=\"line2d_6\">\r\n",
       "      <g>\r\n",
       "       <use style=\"stroke:#000000;stroke-width:0.8;\" x=\"196.895625\" xlink:href=\"#m818d238968\" y=\"239.375625\"/>\r\n",
       "      </g>\r\n",
       "     </g>\r\n",
       "     <g id=\"text_6\">\r\n",
       "      <!-- 50 -->\r\n",
       "      <defs>\r\n",
       "       <path d=\"M 4.15625 18.75 \r\n",
       "L 13.375 19.53125 \r\n",
       "Q 14.40625 12.796875 18.140625 9.390625 \r\n",
       "Q 21.875 6 27.15625 6 \r\n",
       "Q 33.5 6 37.890625 10.78125 \r\n",
       "Q 42.28125 15.578125 42.28125 23.484375 \r\n",
       "Q 42.28125 31 38.0625 35.34375 \r\n",
       "Q 33.84375 39.703125 27 39.703125 \r\n",
       "Q 22.75 39.703125 19.328125 37.765625 \r\n",
       "Q 15.921875 35.84375 13.96875 32.765625 \r\n",
       "L 5.71875 33.84375 \r\n",
       "L 12.640625 70.609375 \r\n",
       "L 48.25 70.609375 \r\n",
       "L 48.25 62.203125 \r\n",
       "L 19.671875 62.203125 \r\n",
       "L 15.828125 42.96875 \r\n",
       "Q 22.265625 47.46875 29.34375 47.46875 \r\n",
       "Q 38.71875 47.46875 45.15625 40.96875 \r\n",
       "Q 51.609375 34.46875 51.609375 24.265625 \r\n",
       "Q 51.609375 14.546875 45.953125 7.46875 \r\n",
       "Q 39.0625 -1.21875 27.15625 -1.21875 \r\n",
       "Q 17.390625 -1.21875 11.203125 4.25 \r\n",
       "Q 5.03125 9.71875 4.15625 18.75 \r\n",
       "z\r\n",
       "\" id=\"ArialMT-53\"/>\r\n",
       "      </defs>\r\n",
       "      <g transform=\"translate(191.334687 253.533437)scale(0.1 -0.1)\">\r\n",
       "       <use xlink:href=\"#ArialMT-53\"/>\r\n",
       "       <use x=\"55.615234\" xlink:href=\"#ArialMT-48\"/>\r\n",
       "      </g>\r\n",
       "     </g>\r\n",
       "    </g>\r\n",
       "    <g id=\"xtick_7\">\r\n",
       "     <g id=\"line2d_7\">\r\n",
       "      <g>\r\n",
       "       <use style=\"stroke:#000000;stroke-width:0.8;\" x=\"230.870625\" xlink:href=\"#m818d238968\" y=\"239.375625\"/>\r\n",
       "      </g>\r\n",
       "     </g>\r\n",
       "     <g id=\"text_7\">\r\n",
       "      <!-- 60 -->\r\n",
       "      <defs>\r\n",
       "       <path d=\"M 49.75 54.046875 \r\n",
       "L 41.015625 53.375 \r\n",
       "Q 39.84375 58.546875 37.703125 60.890625 \r\n",
       "Q 34.125 64.65625 28.90625 64.65625 \r\n",
       "Q 24.703125 64.65625 21.53125 62.3125 \r\n",
       "Q 17.390625 59.28125 14.984375 53.46875 \r\n",
       "Q 12.59375 47.65625 12.5 36.921875 \r\n",
       "Q 15.671875 41.75 20.265625 44.09375 \r\n",
       "Q 24.859375 46.4375 29.890625 46.4375 \r\n",
       "Q 38.671875 46.4375 44.84375 39.96875 \r\n",
       "Q 51.03125 33.5 51.03125 23.25 \r\n",
       "Q 51.03125 16.5 48.125 10.71875 \r\n",
       "Q 45.21875 4.9375 40.140625 1.859375 \r\n",
       "Q 35.0625 -1.21875 28.609375 -1.21875 \r\n",
       "Q 17.625 -1.21875 10.6875 6.859375 \r\n",
       "Q 3.765625 14.9375 3.765625 33.5 \r\n",
       "Q 3.765625 54.25 11.421875 63.671875 \r\n",
       "Q 18.109375 71.875 29.4375 71.875 \r\n",
       "Q 37.890625 71.875 43.28125 67.140625 \r\n",
       "Q 48.6875 62.40625 49.75 54.046875 \r\n",
       "z\r\n",
       "M 13.875 23.1875 \r\n",
       "Q 13.875 18.65625 15.796875 14.5 \r\n",
       "Q 17.71875 10.359375 21.1875 8.171875 \r\n",
       "Q 24.65625 6 28.46875 6 \r\n",
       "Q 34.03125 6 38.03125 10.484375 \r\n",
       "Q 42.046875 14.984375 42.046875 22.703125 \r\n",
       "Q 42.046875 30.125 38.078125 34.390625 \r\n",
       "Q 34.125 38.671875 28.125 38.671875 \r\n",
       "Q 22.171875 38.671875 18.015625 34.390625 \r\n",
       "Q 13.875 30.125 13.875 23.1875 \r\n",
       "z\r\n",
       "\" id=\"ArialMT-54\"/>\r\n",
       "      </defs>\r\n",
       "      <g transform=\"translate(225.309687 253.533437)scale(0.1 -0.1)\">\r\n",
       "       <use xlink:href=\"#ArialMT-54\"/>\r\n",
       "       <use x=\"55.615234\" xlink:href=\"#ArialMT-48\"/>\r\n",
       "      </g>\r\n",
       "     </g>\r\n",
       "    </g>\r\n",
       "   </g>\r\n",
       "   <g id=\"matplotlib.axis_2\">\r\n",
       "    <g id=\"ytick_1\">\r\n",
       "     <g id=\"line2d_8\">\r\n",
       "      <defs>\r\n",
       "       <path d=\"M 0 0 \r\n",
       "L -3.5 0 \r\n",
       "\" id=\"m424931d537\" style=\"stroke:#000000;stroke-width:0.8;\"/>\r\n",
       "      </defs>\r\n",
       "      <g>\r\n",
       "       <use style=\"stroke:#000000;stroke-width:0.8;\" x=\"25.321875\" xlink:href=\"#m424931d537\" y=\"23.634375\"/>\r\n",
       "      </g>\r\n",
       "     </g>\r\n",
       "     <g id=\"text_8\">\r\n",
       "      <!-- 0 -->\r\n",
       "      <g transform=\"translate(12.760938 27.213281)scale(0.1 -0.1)\">\r\n",
       "       <use xlink:href=\"#ArialMT-48\"/>\r\n",
       "      </g>\r\n",
       "     </g>\r\n",
       "    </g>\r\n",
       "    <g id=\"ytick_2\">\r\n",
       "     <g id=\"line2d_9\">\r\n",
       "      <g>\r\n",
       "       <use style=\"stroke:#000000;stroke-width:0.8;\" x=\"25.321875\" xlink:href=\"#m424931d537\" y=\"57.609375\"/>\r\n",
       "      </g>\r\n",
       "     </g>\r\n",
       "     <g id=\"text_9\">\r\n",
       "      <!-- 10 -->\r\n",
       "      <g transform=\"translate(7.2 61.188281)scale(0.1 -0.1)\">\r\n",
       "       <use xlink:href=\"#ArialMT-49\"/>\r\n",
       "       <use x=\"55.615234\" xlink:href=\"#ArialMT-48\"/>\r\n",
       "      </g>\r\n",
       "     </g>\r\n",
       "    </g>\r\n",
       "    <g id=\"ytick_3\">\r\n",
       "     <g id=\"line2d_10\">\r\n",
       "      <g>\r\n",
       "       <use style=\"stroke:#000000;stroke-width:0.8;\" x=\"25.321875\" xlink:href=\"#m424931d537\" y=\"91.584375\"/>\r\n",
       "      </g>\r\n",
       "     </g>\r\n",
       "     <g id=\"text_10\">\r\n",
       "      <!-- 20 -->\r\n",
       "      <g transform=\"translate(7.2 95.163281)scale(0.1 -0.1)\">\r\n",
       "       <use xlink:href=\"#ArialMT-50\"/>\r\n",
       "       <use x=\"55.615234\" xlink:href=\"#ArialMT-48\"/>\r\n",
       "      </g>\r\n",
       "     </g>\r\n",
       "    </g>\r\n",
       "    <g id=\"ytick_4\">\r\n",
       "     <g id=\"line2d_11\">\r\n",
       "      <g>\r\n",
       "       <use style=\"stroke:#000000;stroke-width:0.8;\" x=\"25.321875\" xlink:href=\"#m424931d537\" y=\"125.559375\"/>\r\n",
       "      </g>\r\n",
       "     </g>\r\n",
       "     <g id=\"text_11\">\r\n",
       "      <!-- 30 -->\r\n",
       "      <g transform=\"translate(7.2 129.138281)scale(0.1 -0.1)\">\r\n",
       "       <use xlink:href=\"#ArialMT-51\"/>\r\n",
       "       <use x=\"55.615234\" xlink:href=\"#ArialMT-48\"/>\r\n",
       "      </g>\r\n",
       "     </g>\r\n",
       "    </g>\r\n",
       "    <g id=\"ytick_5\">\r\n",
       "     <g id=\"line2d_12\">\r\n",
       "      <g>\r\n",
       "       <use style=\"stroke:#000000;stroke-width:0.8;\" x=\"25.321875\" xlink:href=\"#m424931d537\" y=\"159.534375\"/>\r\n",
       "      </g>\r\n",
       "     </g>\r\n",
       "     <g id=\"text_12\">\r\n",
       "      <!-- 40 -->\r\n",
       "      <g transform=\"translate(7.2 163.113281)scale(0.1 -0.1)\">\r\n",
       "       <use xlink:href=\"#ArialMT-52\"/>\r\n",
       "       <use x=\"55.615234\" xlink:href=\"#ArialMT-48\"/>\r\n",
       "      </g>\r\n",
       "     </g>\r\n",
       "    </g>\r\n",
       "    <g id=\"ytick_6\">\r\n",
       "     <g id=\"line2d_13\">\r\n",
       "      <g>\r\n",
       "       <use style=\"stroke:#000000;stroke-width:0.8;\" x=\"25.321875\" xlink:href=\"#m424931d537\" y=\"193.509375\"/>\r\n",
       "      </g>\r\n",
       "     </g>\r\n",
       "     <g id=\"text_13\">\r\n",
       "      <!-- 50 -->\r\n",
       "      <g transform=\"translate(7.2 197.088281)scale(0.1 -0.1)\">\r\n",
       "       <use xlink:href=\"#ArialMT-53\"/>\r\n",
       "       <use x=\"55.615234\" xlink:href=\"#ArialMT-48\"/>\r\n",
       "      </g>\r\n",
       "     </g>\r\n",
       "    </g>\r\n",
       "    <g id=\"ytick_7\">\r\n",
       "     <g id=\"line2d_14\">\r\n",
       "      <g>\r\n",
       "       <use style=\"stroke:#000000;stroke-width:0.8;\" x=\"25.321875\" xlink:href=\"#m424931d537\" y=\"227.484375\"/>\r\n",
       "      </g>\r\n",
       "     </g>\r\n",
       "     <g id=\"text_14\">\r\n",
       "      <!-- 60 -->\r\n",
       "      <g transform=\"translate(7.2 231.063281)scale(0.1 -0.1)\">\r\n",
       "       <use xlink:href=\"#ArialMT-54\"/>\r\n",
       "       <use x=\"55.615234\" xlink:href=\"#ArialMT-48\"/>\r\n",
       "      </g>\r\n",
       "     </g>\r\n",
       "    </g>\r\n",
       "   </g>\r\n",
       "   <g id=\"patch_3\">\r\n",
       "    <path d=\"M 25.321875 239.375625 \r\n",
       "L 25.321875 21.935625 \r\n",
       "\" style=\"fill:none;stroke:#000000;stroke-linecap:square;stroke-linejoin:miter;stroke-width:0.8;\"/>\r\n",
       "   </g>\r\n",
       "   <g id=\"patch_4\">\r\n",
       "    <path d=\"M 242.761875 239.375625 \r\n",
       "L 242.761875 21.935625 \r\n",
       "\" style=\"fill:none;stroke:#000000;stroke-linecap:square;stroke-linejoin:miter;stroke-width:0.8;\"/>\r\n",
       "   </g>\r\n",
       "   <g id=\"patch_5\">\r\n",
       "    <path d=\"M 25.321875 239.375625 \r\n",
       "L 242.761875 239.375625 \r\n",
       "\" style=\"fill:none;stroke:#000000;stroke-linecap:square;stroke-linejoin:miter;stroke-width:0.8;\"/>\r\n",
       "   </g>\r\n",
       "   <g id=\"patch_6\">\r\n",
       "    <path d=\"M 25.321875 21.935625 \r\n",
       "L 242.761875 21.935625 \r\n",
       "\" style=\"fill:none;stroke:#000000;stroke-linecap:square;stroke-linejoin:miter;stroke-width:0.8;\"/>\r\n",
       "   </g>\r\n",
       "   <g id=\"text_15\">\r\n",
       "    <!-- Conductance (uS) -->\r\n",
       "    <defs>\r\n",
       "     <path d=\"M 58.796875 25.09375 \r\n",
       "L 68.265625 22.703125 \r\n",
       "Q 65.28125 11.03125 57.546875 4.90625 \r\n",
       "Q 49.8125 -1.21875 38.625 -1.21875 \r\n",
       "Q 27.046875 -1.21875 19.796875 3.484375 \r\n",
       "Q 12.546875 8.203125 8.765625 17.140625 \r\n",
       "Q 4.984375 26.078125 4.984375 36.328125 \r\n",
       "Q 4.984375 47.515625 9.25 55.828125 \r\n",
       "Q 13.53125 64.15625 21.40625 68.46875 \r\n",
       "Q 29.296875 72.796875 38.765625 72.796875 \r\n",
       "Q 49.515625 72.796875 56.828125 67.328125 \r\n",
       "Q 64.15625 61.859375 67.046875 51.953125 \r\n",
       "L 57.71875 49.75 \r\n",
       "Q 55.21875 57.5625 50.484375 61.125 \r\n",
       "Q 45.75 64.703125 38.578125 64.703125 \r\n",
       "Q 30.328125 64.703125 24.78125 60.734375 \r\n",
       "Q 19.234375 56.78125 16.984375 50.109375 \r\n",
       "Q 14.75 43.453125 14.75 36.375 \r\n",
       "Q 14.75 27.25 17.40625 20.4375 \r\n",
       "Q 20.0625 13.625 25.671875 10.25 \r\n",
       "Q 31.296875 6.890625 37.84375 6.890625 \r\n",
       "Q 45.796875 6.890625 51.3125 11.46875 \r\n",
       "Q 56.84375 16.0625 58.796875 25.09375 \r\n",
       "z\r\n",
       "\" id=\"ArialMT-67\"/>\r\n",
       "     <path d=\"M 3.328125 25.921875 \r\n",
       "Q 3.328125 40.328125 11.328125 47.265625 \r\n",
       "Q 18.015625 53.03125 27.640625 53.03125 \r\n",
       "Q 38.328125 53.03125 45.109375 46.015625 \r\n",
       "Q 51.90625 39.015625 51.90625 26.65625 \r\n",
       "Q 51.90625 16.65625 48.90625 10.90625 \r\n",
       "Q 45.90625 5.171875 40.15625 2 \r\n",
       "Q 34.421875 -1.171875 27.640625 -1.171875 \r\n",
       "Q 16.75 -1.171875 10.03125 5.8125 \r\n",
       "Q 3.328125 12.796875 3.328125 25.921875 \r\n",
       "z\r\n",
       "M 12.359375 25.921875 \r\n",
       "Q 12.359375 15.96875 16.703125 11.015625 \r\n",
       "Q 21.046875 6.0625 27.640625 6.0625 \r\n",
       "Q 34.1875 6.0625 38.53125 11.03125 \r\n",
       "Q 42.875 16.015625 42.875 26.21875 \r\n",
       "Q 42.875 35.84375 38.5 40.796875 \r\n",
       "Q 34.125 45.75 27.640625 45.75 \r\n",
       "Q 21.046875 45.75 16.703125 40.8125 \r\n",
       "Q 12.359375 35.890625 12.359375 25.921875 \r\n",
       "z\r\n",
       "\" id=\"ArialMT-111\"/>\r\n",
       "     <path d=\"M 6.59375 0 \r\n",
       "L 6.59375 51.859375 \r\n",
       "L 14.5 51.859375 \r\n",
       "L 14.5 44.484375 \r\n",
       "Q 20.21875 53.03125 31 53.03125 \r\n",
       "Q 35.6875 53.03125 39.625 51.34375 \r\n",
       "Q 43.5625 49.65625 45.515625 46.921875 \r\n",
       "Q 47.46875 44.1875 48.25 40.4375 \r\n",
       "Q 48.734375 37.984375 48.734375 31.890625 \r\n",
       "L 48.734375 0 \r\n",
       "L 39.9375 0 \r\n",
       "L 39.9375 31.546875 \r\n",
       "Q 39.9375 36.921875 38.90625 39.578125 \r\n",
       "Q 37.890625 42.234375 35.28125 43.8125 \r\n",
       "Q 32.671875 45.40625 29.15625 45.40625 \r\n",
       "Q 23.53125 45.40625 19.453125 41.84375 \r\n",
       "Q 15.375 38.28125 15.375 28.328125 \r\n",
       "L 15.375 0 \r\n",
       "z\r\n",
       "\" id=\"ArialMT-110\"/>\r\n",
       "     <path d=\"M 40.234375 0 \r\n",
       "L 40.234375 6.546875 \r\n",
       "Q 35.296875 -1.171875 25.734375 -1.171875 \r\n",
       "Q 19.53125 -1.171875 14.328125 2.25 \r\n",
       "Q 9.125 5.671875 6.265625 11.796875 \r\n",
       "Q 3.421875 17.921875 3.421875 25.875 \r\n",
       "Q 3.421875 33.640625 6 39.96875 \r\n",
       "Q 8.59375 46.296875 13.765625 49.65625 \r\n",
       "Q 18.953125 53.03125 25.34375 53.03125 \r\n",
       "Q 30.03125 53.03125 33.6875 51.046875 \r\n",
       "Q 37.359375 49.078125 39.65625 45.90625 \r\n",
       "L 39.65625 71.578125 \r\n",
       "L 48.390625 71.578125 \r\n",
       "L 48.390625 0 \r\n",
       "z\r\n",
       "M 12.453125 25.875 \r\n",
       "Q 12.453125 15.921875 16.640625 10.984375 \r\n",
       "Q 20.84375 6.0625 26.5625 6.0625 \r\n",
       "Q 32.328125 6.0625 36.34375 10.765625 \r\n",
       "Q 40.375 15.484375 40.375 25.140625 \r\n",
       "Q 40.375 35.796875 36.265625 40.765625 \r\n",
       "Q 32.171875 45.75 26.171875 45.75 \r\n",
       "Q 20.3125 45.75 16.375 40.96875 \r\n",
       "Q 12.453125 36.1875 12.453125 25.875 \r\n",
       "z\r\n",
       "\" id=\"ArialMT-100\"/>\r\n",
       "     <path d=\"M 40.578125 0 \r\n",
       "L 40.578125 7.625 \r\n",
       "Q 34.515625 -1.171875 24.125 -1.171875 \r\n",
       "Q 19.53125 -1.171875 15.546875 0.578125 \r\n",
       "Q 11.578125 2.34375 9.640625 5 \r\n",
       "Q 7.71875 7.671875 6.9375 11.53125 \r\n",
       "Q 6.390625 14.109375 6.390625 19.734375 \r\n",
       "L 6.390625 51.859375 \r\n",
       "L 15.1875 51.859375 \r\n",
       "L 15.1875 23.09375 \r\n",
       "Q 15.1875 16.21875 15.71875 13.8125 \r\n",
       "Q 16.546875 10.359375 19.234375 8.375 \r\n",
       "Q 21.921875 6.390625 25.875 6.390625 \r\n",
       "Q 29.828125 6.390625 33.296875 8.421875 \r\n",
       "Q 36.765625 10.453125 38.203125 13.9375 \r\n",
       "Q 39.65625 17.4375 39.65625 24.078125 \r\n",
       "L 39.65625 51.859375 \r\n",
       "L 48.4375 51.859375 \r\n",
       "L 48.4375 0 \r\n",
       "z\r\n",
       "\" id=\"ArialMT-117\"/>\r\n",
       "     <path d=\"M 40.4375 19 \r\n",
       "L 49.078125 17.875 \r\n",
       "Q 47.65625 8.9375 41.8125 3.875 \r\n",
       "Q 35.984375 -1.171875 27.484375 -1.171875 \r\n",
       "Q 16.84375 -1.171875 10.375 5.78125 \r\n",
       "Q 3.90625 12.75 3.90625 25.734375 \r\n",
       "Q 3.90625 34.125 6.6875 40.421875 \r\n",
       "Q 9.46875 46.734375 15.15625 49.875 \r\n",
       "Q 20.84375 53.03125 27.546875 53.03125 \r\n",
       "Q 35.984375 53.03125 41.359375 48.75 \r\n",
       "Q 46.734375 44.484375 48.25 36.625 \r\n",
       "L 39.703125 35.296875 \r\n",
       "Q 38.484375 40.53125 35.375 43.15625 \r\n",
       "Q 32.28125 45.796875 27.875 45.796875 \r\n",
       "Q 21.234375 45.796875 17.078125 41.03125 \r\n",
       "Q 12.9375 36.28125 12.9375 25.984375 \r\n",
       "Q 12.9375 15.53125 16.9375 10.796875 \r\n",
       "Q 20.953125 6.0625 27.390625 6.0625 \r\n",
       "Q 32.5625 6.0625 36.03125 9.234375 \r\n",
       "Q 39.5 12.40625 40.4375 19 \r\n",
       "z\r\n",
       "\" id=\"ArialMT-99\"/>\r\n",
       "     <path d=\"M 25.78125 7.859375 \r\n",
       "L 27.046875 0.09375 \r\n",
       "Q 23.34375 -0.6875 20.40625 -0.6875 \r\n",
       "Q 15.625 -0.6875 12.984375 0.828125 \r\n",
       "Q 10.359375 2.34375 9.28125 4.8125 \r\n",
       "Q 8.203125 7.28125 8.203125 15.1875 \r\n",
       "L 8.203125 45.015625 \r\n",
       "L 1.765625 45.015625 \r\n",
       "L 1.765625 51.859375 \r\n",
       "L 8.203125 51.859375 \r\n",
       "L 8.203125 64.703125 \r\n",
       "L 16.9375 69.96875 \r\n",
       "L 16.9375 51.859375 \r\n",
       "L 25.78125 51.859375 \r\n",
       "L 25.78125 45.015625 \r\n",
       "L 16.9375 45.015625 \r\n",
       "L 16.9375 14.703125 \r\n",
       "Q 16.9375 10.9375 17.40625 9.859375 \r\n",
       "Q 17.875 8.796875 18.921875 8.15625 \r\n",
       "Q 19.96875 7.515625 21.921875 7.515625 \r\n",
       "Q 23.390625 7.515625 25.78125 7.859375 \r\n",
       "z\r\n",
       "\" id=\"ArialMT-116\"/>\r\n",
       "     <path d=\"M 40.4375 6.390625 \r\n",
       "Q 35.546875 2.25 31.03125 0.53125 \r\n",
       "Q 26.515625 -1.171875 21.34375 -1.171875 \r\n",
       "Q 12.796875 -1.171875 8.203125 3 \r\n",
       "Q 3.609375 7.171875 3.609375 13.671875 \r\n",
       "Q 3.609375 17.484375 5.34375 20.625 \r\n",
       "Q 7.078125 23.78125 9.890625 25.6875 \r\n",
       "Q 12.703125 27.59375 16.21875 28.5625 \r\n",
       "Q 18.796875 29.25 24.03125 29.890625 \r\n",
       "Q 34.671875 31.15625 39.703125 32.90625 \r\n",
       "Q 39.75 34.71875 39.75 35.203125 \r\n",
       "Q 39.75 40.578125 37.25 42.78125 \r\n",
       "Q 33.890625 45.75 27.25 45.75 \r\n",
       "Q 21.046875 45.75 18.09375 43.578125 \r\n",
       "Q 15.140625 41.40625 13.71875 35.890625 \r\n",
       "L 5.125 37.0625 \r\n",
       "Q 6.296875 42.578125 8.984375 45.96875 \r\n",
       "Q 11.671875 49.359375 16.75 51.1875 \r\n",
       "Q 21.828125 53.03125 28.515625 53.03125 \r\n",
       "Q 35.15625 53.03125 39.296875 51.46875 \r\n",
       "Q 43.453125 49.90625 45.40625 47.53125 \r\n",
       "Q 47.359375 45.171875 48.140625 41.546875 \r\n",
       "Q 48.578125 39.3125 48.578125 33.453125 \r\n",
       "L 48.578125 21.734375 \r\n",
       "Q 48.578125 9.46875 49.140625 6.21875 \r\n",
       "Q 49.703125 2.984375 51.375 0 \r\n",
       "L 42.1875 0 \r\n",
       "Q 40.828125 2.734375 40.4375 6.390625 \r\n",
       "z\r\n",
       "M 39.703125 26.03125 \r\n",
       "Q 34.90625 24.078125 25.34375 22.703125 \r\n",
       "Q 19.921875 21.921875 17.671875 20.9375 \r\n",
       "Q 15.4375 19.96875 14.203125 18.09375 \r\n",
       "Q 12.984375 16.21875 12.984375 13.921875 \r\n",
       "Q 12.984375 10.40625 15.640625 8.0625 \r\n",
       "Q 18.3125 5.71875 23.4375 5.71875 \r\n",
       "Q 28.515625 5.71875 32.46875 7.9375 \r\n",
       "Q 36.421875 10.15625 38.28125 14.015625 \r\n",
       "Q 39.703125 17 39.703125 22.796875 \r\n",
       "z\r\n",
       "\" id=\"ArialMT-97\"/>\r\n",
       "     <path d=\"M 42.09375 16.703125 \r\n",
       "L 51.171875 15.578125 \r\n",
       "Q 49.03125 7.625 43.21875 3.21875 \r\n",
       "Q 37.40625 -1.171875 28.375 -1.171875 \r\n",
       "Q 17 -1.171875 10.328125 5.828125 \r\n",
       "Q 3.65625 12.84375 3.65625 25.484375 \r\n",
       "Q 3.65625 38.578125 10.390625 45.796875 \r\n",
       "Q 17.140625 53.03125 27.875 53.03125 \r\n",
       "Q 38.28125 53.03125 44.875 45.953125 \r\n",
       "Q 51.46875 38.875 51.46875 26.03125 \r\n",
       "Q 51.46875 25.25 51.421875 23.6875 \r\n",
       "L 12.75 23.6875 \r\n",
       "Q 13.234375 15.140625 17.578125 10.59375 \r\n",
       "Q 21.921875 6.0625 28.421875 6.0625 \r\n",
       "Q 33.25 6.0625 36.671875 8.59375 \r\n",
       "Q 40.09375 11.140625 42.09375 16.703125 \r\n",
       "z\r\n",
       "M 13.234375 30.90625 \r\n",
       "L 42.1875 30.90625 \r\n",
       "Q 41.609375 37.453125 38.875 40.71875 \r\n",
       "Q 34.671875 45.796875 27.984375 45.796875 \r\n",
       "Q 21.921875 45.796875 17.796875 41.75 \r\n",
       "Q 13.671875 37.703125 13.234375 30.90625 \r\n",
       "z\r\n",
       "\" id=\"ArialMT-101\"/>\r\n",
       "     <path id=\"ArialMT-32\"/>\r\n",
       "     <path d=\"M 23.390625 -21.046875 \r\n",
       "Q 16.109375 -11.859375 11.078125 0.4375 \r\n",
       "Q 6.0625 12.75 6.0625 25.921875 \r\n",
       "Q 6.0625 37.546875 9.8125 48.1875 \r\n",
       "Q 14.203125 60.546875 23.390625 72.796875 \r\n",
       "L 29.6875 72.796875 \r\n",
       "Q 23.78125 62.640625 21.875 58.296875 \r\n",
       "Q 18.890625 51.5625 17.1875 44.234375 \r\n",
       "Q 15.09375 35.109375 15.09375 25.875 \r\n",
       "Q 15.09375 2.390625 29.6875 -21.046875 \r\n",
       "z\r\n",
       "\" id=\"ArialMT-40\"/>\r\n",
       "     <path d=\"M 4.5 23 \r\n",
       "L 13.421875 23.78125 \r\n",
       "Q 14.0625 18.40625 16.375 14.96875 \r\n",
       "Q 18.703125 11.53125 23.578125 9.40625 \r\n",
       "Q 28.46875 7.28125 34.578125 7.28125 \r\n",
       "Q 39.984375 7.28125 44.140625 8.890625 \r\n",
       "Q 48.296875 10.5 50.3125 13.296875 \r\n",
       "Q 52.34375 16.109375 52.34375 19.4375 \r\n",
       "Q 52.34375 22.796875 50.390625 25.3125 \r\n",
       "Q 48.4375 27.828125 43.953125 29.546875 \r\n",
       "Q 41.0625 30.671875 31.203125 33.03125 \r\n",
       "Q 21.34375 35.40625 17.390625 37.5 \r\n",
       "Q 12.25 40.1875 9.734375 44.15625 \r\n",
       "Q 7.234375 48.140625 7.234375 53.078125 \r\n",
       "Q 7.234375 58.5 10.296875 63.203125 \r\n",
       "Q 13.375 67.921875 19.28125 70.359375 \r\n",
       "Q 25.203125 72.796875 32.421875 72.796875 \r\n",
       "Q 40.375 72.796875 46.453125 70.234375 \r\n",
       "Q 52.546875 67.671875 55.8125 62.6875 \r\n",
       "Q 59.078125 57.71875 59.328125 51.421875 \r\n",
       "L 50.25 50.734375 \r\n",
       "Q 49.515625 57.515625 45.28125 60.984375 \r\n",
       "Q 41.0625 64.453125 32.8125 64.453125 \r\n",
       "Q 24.21875 64.453125 20.28125 61.296875 \r\n",
       "Q 16.359375 58.15625 16.359375 53.71875 \r\n",
       "Q 16.359375 49.859375 19.140625 47.359375 \r\n",
       "Q 21.875 44.875 33.421875 42.265625 \r\n",
       "Q 44.96875 39.65625 49.265625 37.703125 \r\n",
       "Q 55.515625 34.8125 58.484375 30.390625 \r\n",
       "Q 61.46875 25.984375 61.46875 20.21875 \r\n",
       "Q 61.46875 14.5 58.203125 9.4375 \r\n",
       "Q 54.9375 4.390625 48.796875 1.578125 \r\n",
       "Q 42.671875 -1.21875 35.015625 -1.21875 \r\n",
       "Q 25.296875 -1.21875 18.71875 1.609375 \r\n",
       "Q 12.15625 4.4375 8.421875 10.125 \r\n",
       "Q 4.6875 15.828125 4.5 23 \r\n",
       "z\r\n",
       "\" id=\"ArialMT-83\"/>\r\n",
       "     <path d=\"M 12.359375 -21.046875 \r\n",
       "L 6.0625 -21.046875 \r\n",
       "Q 20.65625 2.390625 20.65625 25.875 \r\n",
       "Q 20.65625 35.0625 18.5625 44.09375 \r\n",
       "Q 16.890625 51.421875 13.921875 58.15625 \r\n",
       "Q 12.015625 62.546875 6.0625 72.796875 \r\n",
       "L 12.359375 72.796875 \r\n",
       "Q 21.53125 60.546875 25.921875 48.1875 \r\n",
       "Q 29.6875 37.546875 29.6875 25.921875 \r\n",
       "Q 29.6875 12.75 24.625 0.4375 \r\n",
       "Q 19.578125 -11.859375 12.359375 -21.046875 \r\n",
       "z\r\n",
       "\" id=\"ArialMT-41\"/>\r\n",
       "    </defs>\r\n",
       "    <g transform=\"translate(85.684688 15.935625)scale(0.12 -0.12)\">\r\n",
       "     <use xlink:href=\"#ArialMT-67\"/>\r\n",
       "     <use x=\"72.216797\" xlink:href=\"#ArialMT-111\"/>\r\n",
       "     <use x=\"127.832031\" xlink:href=\"#ArialMT-110\"/>\r\n",
       "     <use x=\"183.447266\" xlink:href=\"#ArialMT-100\"/>\r\n",
       "     <use x=\"239.0625\" xlink:href=\"#ArialMT-117\"/>\r\n",
       "     <use x=\"294.677734\" xlink:href=\"#ArialMT-99\"/>\r\n",
       "     <use x=\"344.677734\" xlink:href=\"#ArialMT-116\"/>\r\n",
       "     <use x=\"372.460938\" xlink:href=\"#ArialMT-97\"/>\r\n",
       "     <use x=\"428.076172\" xlink:href=\"#ArialMT-110\"/>\r\n",
       "     <use x=\"483.691406\" xlink:href=\"#ArialMT-99\"/>\r\n",
       "     <use x=\"533.691406\" xlink:href=\"#ArialMT-101\"/>\r\n",
       "     <use x=\"589.306641\" xlink:href=\"#ArialMT-32\"/>\r\n",
       "     <use x=\"617.089844\" xlink:href=\"#ArialMT-40\"/>\r\n",
       "     <use x=\"650.390625\" xlink:href=\"#ArialMT-117\"/>\r\n",
       "     <use x=\"706.005859\" xlink:href=\"#ArialMT-83\"/>\r\n",
       "     <use x=\"772.705078\" xlink:href=\"#ArialMT-41\"/>\r\n",
       "    </g>\r\n",
       "   </g>\r\n",
       "  </g>\r\n",
       "  <g id=\"axes_2\">\r\n",
       "   <g id=\"patch_7\">\r\n",
       "    <path clip-path=\"url(#p14db05b9b8)\" d=\"M 259.501875 239.375625 \r\n",
       "L 259.501875 238.52625 \r\n",
       "L 259.501875 22.785 \r\n",
       "L 259.501875 21.935625 \r\n",
       "L 270.373875 21.935625 \r\n",
       "L 270.373875 22.785 \r\n",
       "L 270.373875 238.52625 \r\n",
       "L 270.373875 239.375625 \r\n",
       "z\r\n",
       "\" style=\"fill:#ffffff;stroke:#ffffff;stroke-linejoin:miter;stroke-width:0.01;\"/>\r\n",
       "   </g>\r\n",
       "   <image height=\"218\" id=\"imagec2a7fe6f03\" transform=\"scale(1 -1)translate(0 -218)\" width=\"10\" x=\"260\" xlink:href=\"data:image/png;base64,\r\n",
       "iVBORw0KGgoAAAANSUhEUgAAAAoAAADaCAYAAACfDNOSAAAABHNCSVQICAgIfAhkiAAAAWNJREFUaIHl2dtt6DAMA1A/72QdoftP0tZ3hWOAgZA234QokrKT2P2jf54Gz2p9CK6tPicCRzcgUzeviEAW04b2qNQspuftYTF51Xmgq+as68QwcGIyx30kXKnqM+uo63w88Xk8+R4Nd7G48oZ7RRXDqi8ixIoXPmrFF6i+EJO259jb4x1ivEdfXHHqB8SU+Viquoy6UvWvqvg3I/SvFK2Y7hE7fEnWT0RIpw/vmMe4ap+eJ1THk/HlmqbOq8Yzl0d8ZGBLU3ddrj2uGj9xbyJU4IhvUkyNBZ8QM+I+XgAJd9Hj7D9V1J4MixkoZugGkO8xD1waYWGPDtRk1viuor5QjclsjzCd9XTVaerd0xHOFreHVauPe3whdTyZfEWOkJPJG35REYH/fHA5GbaHd7O04btp1vl5zIvJJxN/fXBFBm6fHnsW3iu2NfEfwKm3Xu9fUCNw6r3CwH97p959EZCPSP4DBTOBaLFhWh8AAAAASUVORK5CYII=\" y=\"-21\"/>\r\n",
       "   <g id=\"matplotlib.axis_3\"/>\r\n",
       "   <g id=\"matplotlib.axis_4\">\r\n",
       "    <g id=\"ytick_8\">\r\n",
       "     <g id=\"line2d_15\">\r\n",
       "      <defs>\r\n",
       "       <path d=\"M 0 0 \r\n",
       "L 3.5 0 \r\n",
       "\" id=\"me98e1cb358\" style=\"stroke:#000000;stroke-width:0.8;\"/>\r\n",
       "      </defs>\r\n",
       "      <g>\r\n",
       "       <use style=\"stroke:#000000;stroke-width:0.8;\" x=\"270.373875\" xlink:href=\"#me98e1cb358\" y=\"239.375625\"/>\r\n",
       "      </g>\r\n",
       "     </g>\r\n",
       "     <g id=\"text_16\">\r\n",
       "      <!-- 0 -->\r\n",
       "      <g transform=\"translate(277.373875 242.954531)scale(0.1 -0.1)\">\r\n",
       "       <use xlink:href=\"#ArialMT-48\"/>\r\n",
       "      </g>\r\n",
       "     </g>\r\n",
       "    </g>\r\n",
       "    <g id=\"ytick_9\">\r\n",
       "     <g id=\"line2d_16\">\r\n",
       "      <g>\r\n",
       "       <use style=\"stroke:#000000;stroke-width:0.8;\" x=\"270.373875\" xlink:href=\"#me98e1cb358\" y=\"195.887625\"/>\r\n",
       "      </g>\r\n",
       "     </g>\r\n",
       "     <g id=\"text_17\">\r\n",
       "      <!-- 20 -->\r\n",
       "      <g transform=\"translate(277.373875 199.466531)scale(0.1 -0.1)\">\r\n",
       "       <use xlink:href=\"#ArialMT-50\"/>\r\n",
       "       <use x=\"55.615234\" xlink:href=\"#ArialMT-48\"/>\r\n",
       "      </g>\r\n",
       "     </g>\r\n",
       "    </g>\r\n",
       "    <g id=\"ytick_10\">\r\n",
       "     <g id=\"line2d_17\">\r\n",
       "      <g>\r\n",
       "       <use style=\"stroke:#000000;stroke-width:0.8;\" x=\"270.373875\" xlink:href=\"#me98e1cb358\" y=\"152.399625\"/>\r\n",
       "      </g>\r\n",
       "     </g>\r\n",
       "     <g id=\"text_18\">\r\n",
       "      <!-- 40 -->\r\n",
       "      <g transform=\"translate(277.373875 155.978531)scale(0.1 -0.1)\">\r\n",
       "       <use xlink:href=\"#ArialMT-52\"/>\r\n",
       "       <use x=\"55.615234\" xlink:href=\"#ArialMT-48\"/>\r\n",
       "      </g>\r\n",
       "     </g>\r\n",
       "    </g>\r\n",
       "    <g id=\"ytick_11\">\r\n",
       "     <g id=\"line2d_18\">\r\n",
       "      <g>\r\n",
       "       <use style=\"stroke:#000000;stroke-width:0.8;\" x=\"270.373875\" xlink:href=\"#me98e1cb358\" y=\"108.911625\"/>\r\n",
       "      </g>\r\n",
       "     </g>\r\n",
       "     <g id=\"text_19\">\r\n",
       "      <!-- 60 -->\r\n",
       "      <g transform=\"translate(277.373875 112.490531)scale(0.1 -0.1)\">\r\n",
       "       <use xlink:href=\"#ArialMT-54\"/>\r\n",
       "       <use x=\"55.615234\" xlink:href=\"#ArialMT-48\"/>\r\n",
       "      </g>\r\n",
       "     </g>\r\n",
       "    </g>\r\n",
       "    <g id=\"ytick_12\">\r\n",
       "     <g id=\"line2d_19\">\r\n",
       "      <g>\r\n",
       "       <use style=\"stroke:#000000;stroke-width:0.8;\" x=\"270.373875\" xlink:href=\"#me98e1cb358\" y=\"65.423625\"/>\r\n",
       "      </g>\r\n",
       "     </g>\r\n",
       "     <g id=\"text_20\">\r\n",
       "      <!-- 80 -->\r\n",
       "      <defs>\r\n",
       "       <path d=\"M 17.671875 38.8125 \r\n",
       "Q 12.203125 40.828125 9.5625 44.53125 \r\n",
       "Q 6.9375 48.25 6.9375 53.421875 \r\n",
       "Q 6.9375 61.234375 12.546875 66.546875 \r\n",
       "Q 18.171875 71.875 27.484375 71.875 \r\n",
       "Q 36.859375 71.875 42.578125 66.421875 \r\n",
       "Q 48.296875 60.984375 48.296875 53.171875 \r\n",
       "Q 48.296875 48.1875 45.671875 44.5 \r\n",
       "Q 43.0625 40.828125 37.75 38.8125 \r\n",
       "Q 44.34375 36.671875 47.78125 31.875 \r\n",
       "Q 51.21875 27.09375 51.21875 20.453125 \r\n",
       "Q 51.21875 11.28125 44.71875 5.03125 \r\n",
       "Q 38.234375 -1.21875 27.640625 -1.21875 \r\n",
       "Q 17.046875 -1.21875 10.546875 5.046875 \r\n",
       "Q 4.046875 11.328125 4.046875 20.703125 \r\n",
       "Q 4.046875 27.6875 7.59375 32.390625 \r\n",
       "Q 11.140625 37.109375 17.671875 38.8125 \r\n",
       "z\r\n",
       "M 15.921875 53.71875 \r\n",
       "Q 15.921875 48.640625 19.1875 45.40625 \r\n",
       "Q 22.46875 42.1875 27.6875 42.1875 \r\n",
       "Q 32.765625 42.1875 36.015625 45.375 \r\n",
       "Q 39.265625 48.578125 39.265625 53.21875 \r\n",
       "Q 39.265625 58.0625 35.90625 61.359375 \r\n",
       "Q 32.5625 64.65625 27.59375 64.65625 \r\n",
       "Q 22.5625 64.65625 19.234375 61.421875 \r\n",
       "Q 15.921875 58.203125 15.921875 53.71875 \r\n",
       "z\r\n",
       "M 13.09375 20.65625 \r\n",
       "Q 13.09375 16.890625 14.875 13.375 \r\n",
       "Q 16.65625 9.859375 20.171875 7.921875 \r\n",
       "Q 23.6875 6 27.734375 6 \r\n",
       "Q 34.03125 6 38.125 10.046875 \r\n",
       "Q 42.234375 14.109375 42.234375 20.359375 \r\n",
       "Q 42.234375 26.703125 38.015625 30.859375 \r\n",
       "Q 33.796875 35.015625 27.4375 35.015625 \r\n",
       "Q 21.234375 35.015625 17.15625 30.90625 \r\n",
       "Q 13.09375 26.8125 13.09375 20.65625 \r\n",
       "z\r\n",
       "\" id=\"ArialMT-56\"/>\r\n",
       "      </defs>\r\n",
       "      <g transform=\"translate(277.373875 69.002531)scale(0.1 -0.1)\">\r\n",
       "       <use xlink:href=\"#ArialMT-56\"/>\r\n",
       "       <use x=\"55.615234\" xlink:href=\"#ArialMT-48\"/>\r\n",
       "      </g>\r\n",
       "     </g>\r\n",
       "    </g>\r\n",
       "    <g id=\"ytick_13\">\r\n",
       "     <g id=\"line2d_20\">\r\n",
       "      <g>\r\n",
       "       <use style=\"stroke:#000000;stroke-width:0.8;\" x=\"270.373875\" xlink:href=\"#me98e1cb358\" y=\"21.935625\"/>\r\n",
       "      </g>\r\n",
       "     </g>\r\n",
       "     <g id=\"text_21\">\r\n",
       "      <!-- 100 -->\r\n",
       "      <g transform=\"translate(277.373875 25.514531)scale(0.1 -0.1)\">\r\n",
       "       <use xlink:href=\"#ArialMT-49\"/>\r\n",
       "       <use x=\"55.615234\" xlink:href=\"#ArialMT-48\"/>\r\n",
       "       <use x=\"111.230469\" xlink:href=\"#ArialMT-48\"/>\r\n",
       "      </g>\r\n",
       "     </g>\r\n",
       "    </g>\r\n",
       "   </g>\r\n",
       "   <g id=\"patch_8\">\r\n",
       "    <path d=\"M 259.501875 239.375625 \r\n",
       "L 259.501875 238.52625 \r\n",
       "L 259.501875 22.785 \r\n",
       "L 259.501875 21.935625 \r\n",
       "L 270.373875 21.935625 \r\n",
       "L 270.373875 22.785 \r\n",
       "L 270.373875 238.52625 \r\n",
       "L 270.373875 239.375625 \r\n",
       "z\r\n",
       "\" style=\"fill:none;stroke:#000000;stroke-linejoin:miter;stroke-width:0.8;\"/>\r\n",
       "   </g>\r\n",
       "  </g>\r\n",
       " </g>\r\n",
       " <defs>\r\n",
       "  <clipPath id=\"p240a91d37d\">\r\n",
       "   <rect height=\"217.44\" width=\"217.44\" x=\"25.321875\" y=\"21.935625\"/>\r\n",
       "  </clipPath>\r\n",
       "  <clipPath id=\"p14db05b9b8\">\r\n",
       "   <rect height=\"217.44\" width=\"10.872\" x=\"259.501875\" y=\"21.935625\"/>\r\n",
       "  </clipPath>\r\n",
       " </defs>\r\n",
       "</svg>\r\n"
      ],
      "text/plain": [
       "<Figure size 432x288 with 2 Axes>"
      ]
     },
     "metadata": {
      "needs_background": "light"
     },
     "output_type": "display_data"
    }
   ],
   "source": [
    "plt.imshow(g * 1e6)\n",
    "plt.clim(0, 100)\n",
    "plt.colorbar()\n",
    "plt.title('Conductance (uS)')\n",
    "\n",
    "plt.savefig('Gconv.eps')"
   ]
  },
  {
   "cell_type": "code",
   "execution_count": 8,
   "metadata": {},
   "outputs": [],
   "source": [
    "nn = NN_dpe(weights)"
   ]
  },
  {
   "cell_type": "code",
   "execution_count": null,
   "metadata": {},
   "outputs": [],
   "source": [
    "img_idx = 6\n",
    "\n",
    "image = test_images[img_idx]\n",
    "vectors = nn._conv_flattern(image)\n",
    "vectors.max()"
   ]
  },
  {
   "cell_type": "code",
   "execution_count": 20,
   "metadata": {},
   "outputs": [
    {
     "name": "stdout",
     "output_type": "stream",
     "text": [
      "Connecting to serial\n",
      "[INFO] Elapsed time = 1.49s\n",
      "Serial disconnected\n"
     ]
    }
   ],
   "source": [
    "outputs = dpe.multiply(1, vectors, c_sel=[0, 14]) / (nn.Gratio/2) / 0.2"
   ]
  },
  {
   "cell_type": "code",
   "execution_count": 21,
   "metadata": {},
   "outputs": [
    {
     "data": {
      "text/plain": [
       "(400, 14)"
      ]
     },
     "execution_count": 21,
     "metadata": {},
     "output_type": "execute_result"
    }
   ],
   "source": [
    "outputs.shape"
   ]
  },
  {
   "cell_type": "code",
   "execution_count": 24,
   "metadata": {},
   "outputs": [],
   "source": [
    "software = (finalGconv.T @ vectors).T / (nn.Gratio/2)"
   ]
  },
  {
   "cell_type": "code",
   "execution_count": null,
   "metadata": {},
   "outputs": [],
   "source": [
    "for c in range(14):\n",
    "    x = []\n",
    "    y = []\n",
    "        \n",
    "    plt.figure(c+1)\n",
    "    plt.title(f'Column {c}')\n",
    "    plt.plot(outputs[:,c],software[:,c], '.', alpha=0.3)\n",
    "    plt.xlabel('Expectation')"
   ]
  },
  {
   "cell_type": "code",
   "execution_count": 26,
   "metadata": {},
   "outputs": [
    {
     "data": {
      "text/plain": [
       "<matplotlib.colorbar.Colorbar at 0x10c73730>"
      ]
     },
     "execution_count": 26,
     "metadata": {},
     "output_type": "execute_result"
    },
    {
     "data": {
      "image/png": "[encoded data removed]",
      "text/plain": [
       "<Figure size 432x288 with 2 Axes>"
      ]
     },
     "metadata": {
      "needs_background": "light"
     },
     "output_type": "display_data"
    }
   ],
   "source": [
    "plt.imshow(software[:40])\n",
    "plt.colorbar()"
   ]
  },
  {
   "cell_type": "code",
   "execution_count": 27,
   "metadata": {},
   "outputs": [
    {
     "data": {
      "text/plain": [
       "<matplotlib.colorbar.Colorbar at 0x10b53db0>"
      ]
     },
     "execution_count": 27,
     "metadata": {},
     "output_type": "execute_result"
    },
    {
     "data": {
      "image/png": "[encoded data removed]",
      "text/plain": [
       "<Figure size 432x288 with 2 Axes>"
      ]
     },
     "metadata": {
      "needs_background": "light"
     },
     "output_type": "display_data"
    }
   ],
   "source": [
    "plt.imshow(outputs[:40])\n",
    "plt.colorbar()"
   ]
  },
  {
   "cell_type": "code",
   "execution_count": 28,
   "metadata": {},
   "outputs": [
    {
     "data": {
      "text/plain": [
       "array([[ 1.10600809,  0.02558262],\n",
       "       [ 1.0400355 ,  0.85863644],\n",
       "       [ 1.30230276,  0.00215507],\n",
       "       [ 1.44122246, -0.16235268],\n",
       "       [ 1.23063979, -0.09618758],\n",
       "       [ 1.08255167,  0.03345652],\n",
       "       [ 1.10381478, -0.07628634],\n",
       "       [ 1.23586714,  0.08344223],\n",
       "       [ 1.06021022, -0.08062452],\n",
       "       [ 1.37758174, -0.16723768],\n",
       "       [ 1.17893294,  0.0187636 ],\n",
       "       [ 1.12354446,  0.03942665],\n",
       "       [ 1.22563643,  0.01260009],\n",
       "       [ 0.79969926,  0.41632605]])"
      ]
     },
     "execution_count": 28,
     "metadata": {},
     "output_type": "execute_result"
    }
   ],
   "source": [
    "linear_factors_conv = []\n",
    "for c in range(14):\n",
    "    linear_factors_conv.append( np.polyfit(outputs[:,c], software[:,c], 1))\n",
    "    \n",
    "linear_factors_conv = np.array(linear_factors_conv)\n",
    "linear_factors_conv"
   ]
  },
  {
   "cell_type": "code",
   "execution_count": 29,
   "metadata": {},
   "outputs": [],
   "source": [
    "for c in range(outputs.shape[1]):\n",
    "    outputs[:,c] = outputs[:,c] * linear_factors_conv[c][0] + linear_factors_conv[c][1]"
   ]
  },
  {
   "cell_type": "code",
   "execution_count": 31,
   "metadata": {},
   "outputs": [],
   "source": [
    "result = outputs[:, ::2] - outputs[:,1::2]\n",
    "x = result.reshape(20,20,-1)\n",
    "# for i in range(7):\n",
    "#     plt.figure(i)\n",
    "#     plt.imshow(x[:,:,i])\n",
    "#     plt.colorbar()"
   ]
  },
  {
   "cell_type": "code",
   "execution_count": 32,
   "metadata": {},
   "outputs": [
    {
     "name": "stdout",
     "output_type": "stream",
     "text": [
      "predicted 4\n",
      "label 4\n"
     ]
    }
   ],
   "source": [
    "x1 = nn.relu(x)\n",
    "x1 = nn.max_pooling(x1)\n",
    "x1 = nn.flattern(x1)\n",
    "y = nn.dense(x1)\n",
    "\n",
    "print('predicted', y.argmax())\n",
    "print('label', test_labels[img_idx])"
   ]
  },
  {
   "cell_type": "code",
   "execution_count": null,
   "metadata": {},
   "outputs": [],
   "source": []
  },
  {
   "cell_type": "code",
   "execution_count": null,
   "metadata": {},
   "outputs": [],
   "source": [
    "xs = []\n",
    "acc = []\n",
    "\n",
    "for img_idx in range(len(test_images)):\n",
    "    \n",
    "    \n",
    "    image = test_images[img_idx]\n",
    "    vectors = nn._conv_flattern(image)\n",
    "    \n",
    "    outputs = dpe.multiply(1, vectors, c_sel=[0, 14]) / (nn.Gratio/2) / 0.2\n",
    "    \n",
    "    for c in range(outputs.shape[1]):\n",
    "        outputs[:,c] = outputs[:,c] * linear_factors_conv[c][0] + linear_factors_conv[c][1]\n",
    "    \n",
    "    result = outputs[:, ::2] - outputs[:,1::2]\n",
    "    x = result.reshape(20,20,-1)\n",
    "    \n",
    "    x1 = nn.relu(x)\n",
    "    x1 = nn.max_pooling(x1)\n",
    "    x1 = nn.flattern(x1)\n",
    "    \n",
    "    xs.append(x1)\n",
    "    y = nn.dense(x1)\n",
    "    \n",
    "    display.clear_output(wait=True)\n",
    "\n",
    "    print(f'idx={img_idx}, predicted: {y.argmax()}, label: {test_labels[img_idx]}')\n",
    "    acc.append( y.argmax() == test_labels[img_idx] )\n",
    "    print(f'\\t Accuracy = {np.mean(acc)*100:.2f}%')\n",
    "    \n",
    "save_workspace(vars(), note='mnist_xs')"
   ]
  },
  {
   "cell_type": "code",
   "execution_count": 103,
   "metadata": {},
   "outputs": [
    {
     "name": "stdout",
     "output_type": "stream",
     "text": [
      "Loaded: In, Out, weights, train_images, train_labels, test_images, test_labels, g, img_idx, image, vectors, outputs, software, c, x, y, mat_contents, finalGconv, g1, g2, linear_factors_conv, xs, acc, result, x1, \n"
     ]
    }
   ],
   "source": [
    "load_workspace(vars(), '20190821-051552-mnist_xs')\n",
    "\n",
    "# load_workspace(vars(), 'mnist_xs_software')\n",
    "xs = np.array(xs)"
   ]
  },
  {
   "cell_type": "code",
   "execution_count": 104,
   "metadata": {},
   "outputs": [
    {
     "name": "stdout",
     "output_type": "stream",
     "text": [
      "idx=9999, predicted: 6, label: 6\n",
      "\t Accuracy = 98.00%\n"
     ]
    }
   ],
   "source": [
    "# Check xs \n",
    "acc = []\n",
    "\n",
    "for img_idx in range(len(test_images)):\n",
    "    x1 = xs[img_idx]\n",
    "    y = nn.dense(x1)\n",
    "    \n",
    "    if (img_idx+1)%100 == 0:\n",
    "        display.clear_output(wait=True)\n",
    "\n",
    "        print(f'idx={img_idx}, predicted: {y.argmax()}, label: {test_labels[img_idx]}')\n",
    "        acc.append( y.argmax() == test_labels[img_idx] )\n",
    "        print(f'\\t Accuracy = {np.mean(acc)*100:.2f}%')"
   ]
  },
  {
   "cell_type": "code",
   "execution_count": 105,
   "metadata": {},
   "outputs": [
    {
     "data": {
      "text/plain": [
       "array([[ 1.43760178, -0.        ,  2.6677077 , ..., -0.        ,\n",
       "        -0.        , -0.        ],\n",
       "       [ 0.40300978,  0.68757231,  2.79176243, ..., -0.        ,\n",
       "         3.54113916,  2.61077068],\n",
       "       [-0.        , -0.        ,  0.06726302, ..., -0.        ,\n",
       "        -0.        , -0.        ],\n",
       "       ...,\n",
       "       [-0.        , -0.        ,  0.11108644, ..., -0.        ,\n",
       "        -0.        , -0.        ],\n",
       "       [-0.        , -0.        ,  0.11126897, ..., -0.        ,\n",
       "        -0.        , -0.        ],\n",
       "       [-0.        , -0.        ,  0.79958419, ..., -0.        ,\n",
       "         3.2943451 ,  1.30286908]])"
      ]
     },
     "execution_count": 105,
     "metadata": {},
     "output_type": "execute_result"
    }
   ],
   "source": [
    "xs"
   ]
  },
  {
   "cell_type": "code",
   "execution_count": 106,
   "metadata": {},
   "outputs": [
    {
     "data": {
      "text/plain": [
       "(10000, 112)"
      ]
     },
     "execution_count": 106,
     "metadata": {},
     "output_type": "execute_result"
    }
   ],
   "source": [
    "xs = np.array(xs)\n",
    "xs.shape"
   ]
  },
  {
   "cell_type": "code",
   "execution_count": 107,
   "metadata": {},
   "outputs": [],
   "source": [
    "xs = np.concatenate((xs, np.ones((xs.shape[0], 1))), axis=1)"
   ]
  },
  {
   "cell_type": "code",
   "execution_count": 108,
   "metadata": {},
   "outputs": [
    {
     "data": {
      "text/plain": [
       "(10000, 113)"
      ]
     },
     "execution_count": 108,
     "metadata": {},
     "output_type": "execute_result"
    }
   ],
   "source": [
    "xs.shape"
   ]
  },
  {
   "cell_type": "code",
   "execution_count": 109,
   "metadata": {},
   "outputs": [
    {
     "name": "stdout",
     "output_type": "stream",
     "text": [
      "Running <function DPE.read at 0x0E2E3DF8> with serial\n",
      "[INFO] Elapsed time = 0.25s\n",
      "Serial disconnected\n"
     ]
    },
    {
     "data": {
      "text/plain": [
       "<matplotlib.image.AxesImage at 0x14cb6a30>"
      ]
     },
     "execution_count": 109,
     "metadata": {},
     "output_type": "execute_result"
    },
    {
     "data": {
      "image/png": "[encoded data removed]",
      "text/plain": [
       "<Figure size 432x288 with 1 Axes>"
      ]
     },
     "metadata": {
      "needs_background": "light"
     },
     "output_type": "display_data"
    }
   ],
   "source": [
    "plt.imshow(dpe.read(2))"
   ]
  },
  {
   "cell_type": "code",
   "execution_count": 110,
   "metadata": {},
   "outputs": [],
   "source": [
    "x = xs[0:400]\n",
    "\n",
    "x1 = x[:,:57].T\n",
    "x2 = x[:,57:].T\n",
    "\n",
    "sc1 = x1.max()\n",
    "sc2 = x2.max()\n",
    "\n",
    "Gfc1 = nn.Gfc[:57]\n",
    "Gfc2 = nn.Gfc[57:]\n",
    "\n",
    "x1 = x1 / sc1\n",
    "x2 = x2 / sc2"
   ]
  },
  {
   "cell_type": "code",
   "execution_count": 111,
   "metadata": {},
   "outputs": [
    {
     "name": "stdout",
     "output_type": "stream",
     "text": [
      "Running <function DPE.multiply at 0x0E2E4078> with serial\n",
      "[INFO] Elapsed time = 2.07s\n",
      "Serial disconnected\n",
      "Running <function DPE.multiply at 0x0E2E4078> with serial\n",
      "[INFO] Elapsed time = 2.06s\n",
      "Serial disconnected\n"
     ]
    }
   ],
   "source": [
    "dpe.N_BIT = 8\n",
    "\n",
    "output1 = dpe.multiply(2, x1, c_sel=[0, 20], mode=0)\n",
    "software1 = (Gfc1.T @ x1).T \n",
    "\n",
    "output2 = dpe.multiply(2, x2, c_sel=[20, 40], mode=0)\n",
    "software2 = (Gfc2.T @ x2).T "
   ]
  },
  {
   "cell_type": "code",
   "execution_count": 112,
   "metadata": {},
   "outputs": [],
   "source": [
    "# dpe.N_BIT = 8\n",
    "# output1 = dpe.multiply_w_delay(2, x1, c_sel=[0, 20], mode=1, debug=True, delay=5)\n",
    "# software1 = (Gfc1.T @ x1).T \n",
    "\n",
    "# output2 = dpe.multiply_w_delay(2, x2, c_sel=[20, 40], mode=1, debug=True, delay=5)\n",
    "# software2 = (Gfc2.T @ x2).T "
   ]
  },
  {
   "cell_type": "code",
   "execution_count": 113,
   "metadata": {},
   "outputs": [],
   "source": [
    "lin_cor_fc1 = []\n",
    "lin_cor_fc2 = []\n",
    "for c in range(20):\n",
    "    lin_cor_fc1.append( np.polyfit(output1[:,c], software1[:,c], 1))\n",
    "    lin_cor_fc2.append( np.polyfit(output2[:,c], software2[:,c], 1))"
   ]
  },
  {
   "cell_type": "code",
   "execution_count": 114,
   "metadata": {},
   "outputs": [],
   "source": [
    "def lin_corr(outputs, factors):\n",
    "    result = np.zeros(outputs.shape)\n",
    "    for c in range(outputs.shape[1]):\n",
    "        result[:,c] = outputs[:,c] * factors[c][0] + factors[c][1]\n",
    "        \n",
    "    return result"
   ]
  },
  {
   "cell_type": "code",
   "execution_count": 115,
   "metadata": {},
   "outputs": [],
   "source": [
    "# output_cor = lin_corr(output_sub, lin_cor_fc)"
   ]
  },
  {
   "cell_type": "code",
   "execution_count": 116,
   "metadata": {},
   "outputs": [],
   "source": [
    "# for c in range(10):\n",
    "#     x = software_sub[:,c]\n",
    "#     y = output_cor[:,c]\n",
    "    \n",
    "#     plt.plot(x,y,'.')\n",
    "#     plt.xticks(rotation=45)\n",
    "\n",
    "#     lin_cor_fc2.append( np.polyfit(y, x, 1))"
   ]
  },
  {
   "cell_type": "code",
   "execution_count": 117,
   "metadata": {},
   "outputs": [
    {
     "name": "stdout",
     "output_type": "stream",
     "text": [
      "Running <function DPE.multiply at 0x0E2E4078> with serial\n",
      "[INFO] Elapsed time = 2.01s\n",
      "Serial disconnected\n"
     ]
    }
   ],
   "source": [
    "outputs = dpe.multiply(0, x2, c_sel=[20, 40], mode=0) \n",
    "outputs = lin_corr(outputs, lin_cor_fc2)\n",
    "software = (Gfc2.T @ x2).T "
   ]
  },
  {
   "cell_type": "code",
   "execution_count": 118,
   "metadata": {},
   "outputs": [],
   "source": [
    "# outputs = dpe.multiply_w_delay(2, x2, c_sel=[20, 40], mode=1, debug=True, delay=5)\n",
    "output_corr = lin_corr(output2, lin_cor_fc2)\n",
    "software = (Gfc2.T @ x2).T "
   ]
  },
  {
   "cell_type": "code",
   "execution_count": 119,
   "metadata": {},
   "outputs": [
    {
     "data": {
      "image/png": "[encoded data removed]",
      "text/plain": [
       "<Figure size 432x288 with 1 Axes>"
      ]
     },
     "metadata": {
      "needs_background": "light"
     },
     "output_type": "display_data"
    }
   ],
   "source": [
    "# lin_cor_fc2 = []\n",
    "\n",
    "for c in range(20):\n",
    "    x = software[:,c]\n",
    "    y = output_corr[:,c]\n",
    "    \n",
    "    plt.plot(x,y,'.')\n",
    "\n",
    "#     lin_cor_fc2.append( np.polyfit(y, x, 1))"
   ]
  },
  {
   "cell_type": "code",
   "execution_count": 120,
   "metadata": {},
   "outputs": [
    {
     "data": {
      "text/plain": [
       "(array([  1.,   0.,   2.,   3.,   2.,   7.,   7.,  10.,   7.,  24.,  29.,\n",
       "         30.,  49.,  70.,  74., 101., 102., 141., 159., 212., 232., 252.,\n",
       "        331., 378., 480., 553., 578., 542., 516., 458., 450., 386., 371.,\n",
       "        304., 265., 211., 199., 133., 108.,  72.,  50.,  42.,  23.,  16.,\n",
       "          7.,   5.,   3.,   2.,   1.,   2.]),\n",
       " array([-0.12070748, -0.11627144, -0.1118354 , -0.10739936, -0.10296333,\n",
       "        -0.09852729, -0.09409125, -0.08965521, -0.08521917, -0.08078314,\n",
       "        -0.0763471 , -0.07191106, -0.06747502, -0.06303899, -0.05860295,\n",
       "        -0.05416691, -0.04973087, -0.04529483, -0.0408588 , -0.03642276,\n",
       "        -0.03198672, -0.02755068, -0.02311465, -0.01867861, -0.01424257,\n",
       "        -0.00980653, -0.00537049, -0.00093446,  0.00350158,  0.00793762,\n",
       "         0.01237366,  0.01680969,  0.02124573,  0.02568177,  0.03011781,\n",
       "         0.03455385,  0.03898988,  0.04342592,  0.04786196,  0.052298  ,\n",
       "         0.05673403,  0.06117007,  0.06560611,  0.07004215,  0.07447819,\n",
       "         0.07891422,  0.08335026,  0.0877863 ,  0.09222234,  0.09665837,\n",
       "         0.10109441]),\n",
       " <a list of 50 Patch objects>)"
      ]
     },
     "execution_count": 120,
     "metadata": {},
     "output_type": "execute_result"
    },
    {
     "data": {
      "image/png": "[encoded data removed]",
      "text/plain": [
       "<Figure size 432x288 with 1 Axes>"
      ]
     },
     "metadata": {
      "needs_background": "light"
     },
     "output_type": "display_data"
    }
   ],
   "source": [
    "plt.hist((output_corr-software).reshape(-1, 1)/0.0025, bins=50 )"
   ]
  },
  {
   "cell_type": "code",
   "execution_count": 121,
   "metadata": {},
   "outputs": [
    {
     "data": {
      "text/plain": [
       "0.03174224690830441"
      ]
     },
     "execution_count": 121,
     "metadata": {},
     "output_type": "execute_result"
    }
   ],
   "source": [
    "(output_corr-software).reshape(-1, 1).std()/0.00225"
   ]
  },
  {
   "cell_type": "code",
   "execution_count": 96,
   "metadata": {},
   "outputs": [],
   "source": [
    "# load_workspace(vars(), '20190821-051552-mnist_xs')\n",
    "# xs = np.array(xs)"
   ]
  },
  {
   "cell_type": "code",
   "execution_count": 97,
   "metadata": {},
   "outputs": [
    {
     "name": "stdout",
     "output_type": "stream",
     "text": [
      "Batch accuracy = 92.10%\n",
      "Overall = 92.02%\n"
     ]
    }
   ],
   "source": [
    "ys = []\n",
    "batch_size = 1000\n",
    "\n",
    "for i in range( (len(test_images)-1)//batch_size + 1 ):\n",
    "    idx1 = i * batch_size\n",
    "    idx2 = (i+1) * batch_size\n",
    "    idx2 = idx2 if idx2<= len(test_images) else len(test_images)\n",
    "    \n",
    "    print(f'Running on sample {idx1}-{idx2}')\n",
    "\n",
    "    x = xs[idx1:idx2]\n",
    "\n",
    "    x1 = x[:,:57].T\n",
    "    x2 = x[:,57:].T\n",
    "\n",
    "    sc1 = x1.max()\n",
    "    sc2 = x2.max()\n",
    "\n",
    "    Gfc1 = nn.Gfc[:57]\n",
    "    Gfc2 = nn.Gfc[57:]\n",
    "\n",
    "    x1 = x1 / sc1\n",
    "    x2 = x2 / sc2\n",
    "    \n",
    "    output1  = dpe.multiply(2, x1, c_sel=[0, 20], mode=1)\n",
    "    output1 = lin_corr(output1, lin_cor_fc1) * sc1\n",
    "\n",
    "    output2  = dpe.multiply(2, x2, c_sel=[20, 40], mode=1)\n",
    "    output2 = lin_corr(output2, lin_cor_fc2) * sc2\n",
    "\n",
    "    outputs = output1 + output2\n",
    "    \n",
    "    y = outputs[:,::2] - outputs[:,1::2]\n",
    "    \n",
    "    display.clear_output(wait=True)\n",
    "    \n",
    "    print(f'Batch accuracy = {np.mean(y.argmax(axis=1) == test_labels[idx1:idx2])*100:.2f}%')\n",
    "    ys.append(y)\n",
    "    print(f'Overall = {np.mean(np.concatenate(ys).argmax(axis=1) == test_labels[:idx2])*100:.2f}%')\n",
    "    \n",
    "ys = np.concatenate(ys)  "
   ]
  },
  {
   "cell_type": "code",
   "execution_count": 85,
   "metadata": {},
   "outputs": [
    {
     "data": {
      "text/plain": [
       "0.9377"
      ]
     },
     "execution_count": 85,
     "metadata": {},
     "output_type": "execute_result"
    }
   ],
   "source": [
    "np.mean(ys.argmax(axis=1) == test_labels)"
   ]
  },
  {
   "cell_type": "code",
   "execution_count": 86,
   "metadata": {},
   "outputs": [
    {
     "name": "stdout",
     "output_type": "stream",
     "text": [
      "Saving In(<class 'list'>), Out(<class 'dict'>), weights(<class 'numpy.ndarray'>), train_images(<class 'numpy.ndarray'>), train_labels(<class 'numpy.ndarray'>), test_images(<class 'numpy.ndarray'>), test_labels(<class 'numpy.ndarray'>), g(<class 'numpy.ndarray'>), img_idx(<class 'int'>), image(<class 'numpy.ndarray'>), vectors(<class 'numpy.ndarray'>), outputs(<class 'numpy.ndarray'>), software(<class 'numpy.ndarray'>), c(<class 'int'>), x(<class 'numpy.ndarray'>), y(<class 'numpy.ndarray'>), mat_contents(<class 'dict'>), finalGconv(<class 'numpy.ndarray'>), g1(<class 'numpy.ndarray'>), g2(<class 'numpy.ndarray'>), linear_factors_conv(<class 'numpy.ndarray'>), xs(<class 'numpy.ndarray'>), acc(<class 'list'>), result(<class 'numpy.ndarray'>), x1(<class 'numpy.ndarray'>), x2(<class 'numpy.ndarray'>), sc1(<class 'numpy.float64'>), sc2(<class 'numpy.float64'>), Gfc1(<class 'numpy.ndarray'>), Gfc2(<class 'numpy.ndarray'>), output1(<class 'numpy.ndarray'>), software1(<class 'numpy.ndarray'>), output2(<class 'numpy.ndarray'>), software2(<class 'numpy.ndarray'>), lin_cor_fc1(<class 'list'>), lin_cor_fc2(<class 'list'>), output_corr(<class 'numpy.ndarray'>), ys(<class 'numpy.ndarray'>), batch_size(<class 'int'>), i(<class 'int'>), idx1(<class 'int'>), idx2(<class 'int'>), to 20190822-183404-prober1-reprogFC-unary64.pkl\n",
      "Saving In(<class 'list'>), weights(<class 'numpy.ndarray'>), train_images(<class 'numpy.ndarray'>), train_labels(<class 'numpy.ndarray'>), test_images(<class 'numpy.ndarray'>), test_labels(<class 'numpy.ndarray'>), g(<class 'numpy.ndarray'>), img_idx(<class 'int'>), image(<class 'numpy.ndarray'>), vectors(<class 'numpy.ndarray'>), outputs(<class 'numpy.ndarray'>), software(<class 'numpy.ndarray'>), c(<class 'int'>), x(<class 'numpy.ndarray'>), y(<class 'numpy.ndarray'>), finalGconv(<class 'numpy.ndarray'>), g1(<class 'numpy.ndarray'>), g2(<class 'numpy.ndarray'>), linear_factors_conv(<class 'numpy.ndarray'>), xs(<class 'numpy.ndarray'>), acc(<class 'list'>), result(<class 'numpy.ndarray'>), x1(<class 'numpy.ndarray'>), x2(<class 'numpy.ndarray'>), sc1(<class 'numpy.float64'>), sc2(<class 'numpy.float64'>), Gfc1(<class 'numpy.ndarray'>), Gfc2(<class 'numpy.ndarray'>), output1(<class 'numpy.ndarray'>), software1(<class 'numpy.ndarray'>), output2(<class 'numpy.ndarray'>), software2(<class 'numpy.ndarray'>), lin_cor_fc1(<class 'list'>), lin_cor_fc2(<class 'list'>), output_corr(<class 'numpy.ndarray'>), ys(<class 'numpy.ndarray'>), batch_size(<class 'int'>), i(<class 'int'>), idx1(<class 'int'>), idx2(<class 'int'>), to 20190822-183404-prober1-reprogFC-unary64.mat\n"
     ]
    }
   ],
   "source": [
    "save_workspace(vars(), note='prober1-reprogFC-unary64')"
   ]
  },
  {
   "cell_type": "code",
   "execution_count": 29,
   "metadata": {},
   "outputs": [
    {
     "data": {
      "text/plain": [
       "array([ True,  True, False, ...,  True,  True,  True])"
      ]
     },
     "execution_count": 29,
     "metadata": {},
     "output_type": "execute_result"
    }
   ],
   "source": [
    "ynew.argmax(axis=1) == test_labels"
   ]
  },
  {
   "cell_type": "code",
   "execution_count": 23,
   "metadata": {},
   "outputs": [],
   "source": [
    "import scipy.io as sio\n",
    "#load_workspace(vars(), '20190814-205207-CNN weights')\n",
    "mat_contents = sio.loadmat('UpdatedGconv.mat')\n",
    "finalGconv = mat_contents['finalGconv']"
   ]
  },
  {
   "cell_type": "code",
   "execution_count": 104,
   "metadata": {},
   "outputs": [
    {
     "name": "stdout",
     "output_type": "stream",
     "text": [
      "Batch accuracy = 89.00%\n",
      "Overall = 89.61%\n"
     ]
    }
   ],
   "source": [
    "# Linear correction after subtraction\n",
    "\n",
    "ys = []\n",
    "batch_size = 1000\n",
    "\n",
    "for i in range( (len(test_images)-1)//batch_size + 1 ):\n",
    "    idx1 = i * batch_size\n",
    "    idx2 = (i+1) * batch_size\n",
    "    idx2 = idx2 if idx2<= len(test_images) else len(test_images)\n",
    "    \n",
    "    print(f'Running on sample {idx1}-{idx2}')\n",
    "\n",
    "    x = xs[idx1:idx2]\n",
    "\n",
    "    x1 = x[:,:57].T\n",
    "    x2 = x[:,57:].T\n",
    "\n",
    "    sc1 = x1.max()\n",
    "    sc2 = x2.max()\n",
    "\n",
    "    Gfc1 = nn.Gfc[:57]\n",
    "    Gfc2 = nn.Gfc[57:]\n",
    "\n",
    "    x1 = x1 / sc1\n",
    "    x2 = x2 / sc2\n",
    "    \n",
    "    output1  = dpe.multiply(2, x1, c_sel=[0, 20], mode=1) * sc1\n",
    "#     output1 = lin_corr(output1, lin_cor_fc1) * sc1\n",
    "\n",
    "    output2  = dpe.multiply(2, x2, c_sel=[20, 40], mode=1) * sc2\n",
    "#     output2 = lin_corr(output2, lin_cor_fc2) * sc2\n",
    "\n",
    "    outputs = output1 + output2\n",
    "    \n",
    "    y = outputs[:,::2] - outputs[:,1::2]\n",
    "    \n",
    "    y = lin_corr(y, lin_cor_fc)\n",
    "    \n",
    "    display.clear_output(wait=True)\n",
    "    \n",
    "    print(f'Batch accuracy = {np.mean(y.argmax(axis=1) == test_labels[idx1:idx2])*100:.2f}%')\n",
    "    ys.append(y)\n",
    "    print(f'Overall = {np.mean(np.concatenate(ys).argmax(axis=1) == test_labels[:idx2])*100:.2f}%')\n",
    "    \n",
    "ys = np.concatenate(ys)  "
   ]
  },
  {
   "cell_type": "code",
   "execution_count": null,
   "metadata": {},
   "outputs": [],
   "source": []
  }
 ],
 "metadata": {
  "kernelspec": {
   "display_name": "Python 3",
   "language": "python",
   "name": "python3"
  },
  "language_info": {
   "codemirror_mode": {
    "name": "ipython",
    "version": 3
   },
   "file_extension": ".py",
   "mimetype": "text/x-python",
   "name": "python",
   "nbconvert_exporter": "python",
   "pygments_lexer": "ipython3",
   "version": "3.7.4"
  }
 },
 "nbformat": 4,
 "nbformat_minor": 4
}
